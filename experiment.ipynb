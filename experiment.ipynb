{
 "cells": [
  {
   "cell_type": "code",
   "execution_count": 1,
   "id": "dd3e942f-938f-4dd6-979c-5af821ebd698",
   "metadata": {
    "tags": []
   },
   "outputs": [],
   "source": [
    "import pandas as pd\n",
    "import numpy as np\n",
    "import matplotlib.pyplot as plt\n",
    "import math"
   ]
  },
  {
   "cell_type": "code",
   "execution_count": 2,
   "id": "f3290bdd-2a14-4fd3-9e33-05d733e11f64",
   "metadata": {
    "tags": []
   },
   "outputs": [],
   "source": [
    "xle_raw = pd.read_csv('XLE.csv', delimiter=\";\", parse_dates=[\"datetime\"]).set_index(\"datetime\")\n",
    "xlu_raw = pd.read_csv('XLU.csv', delimiter=\";\", parse_dates=[\"datetime\"]).set_index(\"datetime\")"
   ]
  },
  {
   "cell_type": "code",
   "execution_count": 58,
   "id": "680c5c2e-5faf-4210-9ea8-5113ff9d8ab0",
   "metadata": {
    "tags": []
   },
   "outputs": [],
   "source": [
    "rth_raw = pd.read_csv('RTH.csv', delimiter=\";\", parse_dates=[\"datetime\"]).set_index(\"datetime\")\n",
    "xlp_raw = pd.read_csv('XLP.csv', delimiter=\";\", parse_dates=[\"datetime\"]).set_index(\"datetime\")"
   ]
  },
  {
   "cell_type": "code",
   "execution_count": 96,
   "id": "646a9ac9-ad4b-4442-a1b2-0aa80847e98f",
   "metadata": {
    "tags": []
   },
   "outputs": [],
   "source": [
    "iye_raw = pd.read_csv('IYE.csv', delimiter=\";\", parse_dates=[\"datetime\"]).set_index(\"datetime\")\n",
    "vde_raw = pd.read_csv('VDE.csv', delimiter=\";\", parse_dates=[\"datetime\"]).set_index(\"datetime\")"
   ]
  },
  {
   "cell_type": "code",
   "execution_count": 97,
   "id": "7be38f4f-3441-4967-af1d-8c37166b68af",
   "metadata": {
    "tags": []
   },
   "outputs": [
    {
     "data": {
      "text/html": [
       "<div>\n",
       "<style scoped>\n",
       "    .dataframe tbody tr th:only-of-type {\n",
       "        vertical-align: middle;\n",
       "    }\n",
       "\n",
       "    .dataframe tbody tr th {\n",
       "        vertical-align: top;\n",
       "    }\n",
       "\n",
       "    .dataframe thead th {\n",
       "        text-align: right;\n",
       "    }\n",
       "</style>\n",
       "<table border=\"1\" class=\"dataframe\">\n",
       "  <thead>\n",
       "    <tr style=\"text-align: right;\">\n",
       "      <th></th>\n",
       "      <th>open</th>\n",
       "      <th>high</th>\n",
       "      <th>low</th>\n",
       "      <th>close</th>\n",
       "      <th>volume</th>\n",
       "    </tr>\n",
       "    <tr>\n",
       "      <th>datetime</th>\n",
       "      <th></th>\n",
       "      <th></th>\n",
       "      <th></th>\n",
       "      <th></th>\n",
       "      <th></th>\n",
       "    </tr>\n",
       "  </thead>\n",
       "  <tbody>\n",
       "    <tr>\n",
       "      <th>2023-09-18</th>\n",
       "      <td>48.63</td>\n",
       "      <td>48.84</td>\n",
       "      <td>48.30</td>\n",
       "      <td>48.74</td>\n",
       "      <td>80354</td>\n",
       "    </tr>\n",
       "    <tr>\n",
       "      <th>2023-09-15</th>\n",
       "      <td>48.60</td>\n",
       "      <td>48.96</td>\n",
       "      <td>48.27</td>\n",
       "      <td>48.30</td>\n",
       "      <td>424600</td>\n",
       "    </tr>\n",
       "    <tr>\n",
       "      <th>2023-09-14</th>\n",
       "      <td>48.84</td>\n",
       "      <td>49.10</td>\n",
       "      <td>48.76</td>\n",
       "      <td>48.97</td>\n",
       "      <td>292500</td>\n",
       "    </tr>\n",
       "    <tr>\n",
       "      <th>2023-09-13</th>\n",
       "      <td>48.84</td>\n",
       "      <td>48.92</td>\n",
       "      <td>48.11</td>\n",
       "      <td>48.34</td>\n",
       "      <td>447200</td>\n",
       "    </tr>\n",
       "    <tr>\n",
       "      <th>2023-09-12</th>\n",
       "      <td>48.07</td>\n",
       "      <td>48.83</td>\n",
       "      <td>48.07</td>\n",
       "      <td>48.76</td>\n",
       "      <td>329900</td>\n",
       "    </tr>\n",
       "    <tr>\n",
       "      <th>...</th>\n",
       "      <td>...</td>\n",
       "      <td>...</td>\n",
       "      <td>...</td>\n",
       "      <td>...</td>\n",
       "      <td>...</td>\n",
       "    </tr>\n",
       "    <tr>\n",
       "      <th>2010-01-08</th>\n",
       "      <td>34.67</td>\n",
       "      <td>35.03</td>\n",
       "      <td>34.57</td>\n",
       "      <td>35.03</td>\n",
       "      <td>200800</td>\n",
       "    </tr>\n",
       "    <tr>\n",
       "      <th>2010-01-07</th>\n",
       "      <td>34.75</td>\n",
       "      <td>34.86</td>\n",
       "      <td>34.49</td>\n",
       "      <td>34.75</td>\n",
       "      <td>216100</td>\n",
       "    </tr>\n",
       "    <tr>\n",
       "      <th>2010-01-06</th>\n",
       "      <td>34.45</td>\n",
       "      <td>34.96</td>\n",
       "      <td>34.36</td>\n",
       "      <td>34.89</td>\n",
       "      <td>366600</td>\n",
       "    </tr>\n",
       "    <tr>\n",
       "      <th>2010-01-05</th>\n",
       "      <td>34.25</td>\n",
       "      <td>34.53</td>\n",
       "      <td>34.11</td>\n",
       "      <td>34.52</td>\n",
       "      <td>213800</td>\n",
       "    </tr>\n",
       "    <tr>\n",
       "      <th>2010-01-04</th>\n",
       "      <td>33.76</td>\n",
       "      <td>34.23</td>\n",
       "      <td>33.74</td>\n",
       "      <td>34.23</td>\n",
       "      <td>270500</td>\n",
       "    </tr>\n",
       "  </tbody>\n",
       "</table>\n",
       "<p>3450 rows × 5 columns</p>\n",
       "</div>"
      ],
      "text/plain": [
       "             open   high    low  close  volume\n",
       "datetime                                      \n",
       "2023-09-18  48.63  48.84  48.30  48.74   80354\n",
       "2023-09-15  48.60  48.96  48.27  48.30  424600\n",
       "2023-09-14  48.84  49.10  48.76  48.97  292500\n",
       "2023-09-13  48.84  48.92  48.11  48.34  447200\n",
       "2023-09-12  48.07  48.83  48.07  48.76  329900\n",
       "...           ...    ...    ...    ...     ...\n",
       "2010-01-08  34.67  35.03  34.57  35.03  200800\n",
       "2010-01-07  34.75  34.86  34.49  34.75  216100\n",
       "2010-01-06  34.45  34.96  34.36  34.89  366600\n",
       "2010-01-05  34.25  34.53  34.11  34.52  213800\n",
       "2010-01-04  33.76  34.23  33.74  34.23  270500\n",
       "\n",
       "[3450 rows x 5 columns]"
      ]
     },
     "execution_count": 97,
     "metadata": {},
     "output_type": "execute_result"
    }
   ],
   "source": [
    "iye_raw"
   ]
  },
  {
   "cell_type": "code",
   "execution_count": 98,
   "id": "0560f3b6-9835-4b46-8540-2511cdbadf21",
   "metadata": {
    "tags": []
   },
   "outputs": [
    {
     "data": {
      "text/html": [
       "<div>\n",
       "<style scoped>\n",
       "    .dataframe tbody tr th:only-of-type {\n",
       "        vertical-align: middle;\n",
       "    }\n",
       "\n",
       "    .dataframe tbody tr th {\n",
       "        vertical-align: top;\n",
       "    }\n",
       "\n",
       "    .dataframe thead th {\n",
       "        text-align: right;\n",
       "    }\n",
       "</style>\n",
       "<table border=\"1\" class=\"dataframe\">\n",
       "  <thead>\n",
       "    <tr style=\"text-align: right;\">\n",
       "      <th></th>\n",
       "      <th>open</th>\n",
       "      <th>high</th>\n",
       "      <th>low</th>\n",
       "      <th>close</th>\n",
       "      <th>volume</th>\n",
       "    </tr>\n",
       "    <tr>\n",
       "      <th>datetime</th>\n",
       "      <th></th>\n",
       "      <th></th>\n",
       "      <th></th>\n",
       "      <th></th>\n",
       "      <th></th>\n",
       "    </tr>\n",
       "  </thead>\n",
       "  <tbody>\n",
       "    <tr>\n",
       "      <th>2023-09-18</th>\n",
       "      <td>129.94</td>\n",
       "      <td>130.35001</td>\n",
       "      <td>128.87000</td>\n",
       "      <td>130.17</td>\n",
       "      <td>132631</td>\n",
       "    </tr>\n",
       "    <tr>\n",
       "      <th>2023-09-15</th>\n",
       "      <td>129.75</td>\n",
       "      <td>130.64999</td>\n",
       "      <td>128.75999</td>\n",
       "      <td>128.89</td>\n",
       "      <td>464700</td>\n",
       "    </tr>\n",
       "    <tr>\n",
       "      <th>2023-09-14</th>\n",
       "      <td>130.30</td>\n",
       "      <td>131.07001</td>\n",
       "      <td>130.08000</td>\n",
       "      <td>130.52</td>\n",
       "      <td>544500</td>\n",
       "    </tr>\n",
       "    <tr>\n",
       "      <th>2023-09-13</th>\n",
       "      <td>130.27</td>\n",
       "      <td>130.50999</td>\n",
       "      <td>128.36000</td>\n",
       "      <td>129.00</td>\n",
       "      <td>403800</td>\n",
       "    </tr>\n",
       "    <tr>\n",
       "      <th>2023-09-12</th>\n",
       "      <td>128.27</td>\n",
       "      <td>130.25999</td>\n",
       "      <td>128.24001</td>\n",
       "      <td>130.05</td>\n",
       "      <td>464500</td>\n",
       "    </tr>\n",
       "    <tr>\n",
       "      <th>...</th>\n",
       "      <td>...</td>\n",
       "      <td>...</td>\n",
       "      <td>...</td>\n",
       "      <td>...</td>\n",
       "      <td>...</td>\n",
       "    </tr>\n",
       "    <tr>\n",
       "      <th>2010-01-08</th>\n",
       "      <td>87.38</td>\n",
       "      <td>88.31000</td>\n",
       "      <td>87.09000</td>\n",
       "      <td>88.30</td>\n",
       "      <td>103400</td>\n",
       "    </tr>\n",
       "    <tr>\n",
       "      <th>2010-01-07</th>\n",
       "      <td>87.56</td>\n",
       "      <td>87.79000</td>\n",
       "      <td>86.82000</td>\n",
       "      <td>87.64</td>\n",
       "      <td>138100</td>\n",
       "    </tr>\n",
       "    <tr>\n",
       "      <th>2010-01-06</th>\n",
       "      <td>86.77</td>\n",
       "      <td>88.00000</td>\n",
       "      <td>86.63000</td>\n",
       "      <td>87.85</td>\n",
       "      <td>191300</td>\n",
       "    </tr>\n",
       "    <tr>\n",
       "      <th>2010-01-05</th>\n",
       "      <td>86.04</td>\n",
       "      <td>86.88000</td>\n",
       "      <td>85.74000</td>\n",
       "      <td>86.85</td>\n",
       "      <td>182600</td>\n",
       "    </tr>\n",
       "    <tr>\n",
       "      <th>2010-01-04</th>\n",
       "      <td>84.48</td>\n",
       "      <td>85.99000</td>\n",
       "      <td>84.48000</td>\n",
       "      <td>85.97</td>\n",
       "      <td>209200</td>\n",
       "    </tr>\n",
       "  </tbody>\n",
       "</table>\n",
       "<p>3450 rows × 5 columns</p>\n",
       "</div>"
      ],
      "text/plain": [
       "              open       high        low   close  volume\n",
       "datetime                                                \n",
       "2023-09-18  129.94  130.35001  128.87000  130.17  132631\n",
       "2023-09-15  129.75  130.64999  128.75999  128.89  464700\n",
       "2023-09-14  130.30  131.07001  130.08000  130.52  544500\n",
       "2023-09-13  130.27  130.50999  128.36000  129.00  403800\n",
       "2023-09-12  128.27  130.25999  128.24001  130.05  464500\n",
       "...            ...        ...        ...     ...     ...\n",
       "2010-01-08   87.38   88.31000   87.09000   88.30  103400\n",
       "2010-01-07   87.56   87.79000   86.82000   87.64  138100\n",
       "2010-01-06   86.77   88.00000   86.63000   87.85  191300\n",
       "2010-01-05   86.04   86.88000   85.74000   86.85  182600\n",
       "2010-01-04   84.48   85.99000   84.48000   85.97  209200\n",
       "\n",
       "[3450 rows x 5 columns]"
      ]
     },
     "execution_count": 98,
     "metadata": {},
     "output_type": "execute_result"
    }
   ],
   "source": [
    "vde_raw"
   ]
  },
  {
   "cell_type": "code",
   "execution_count": 59,
   "id": "b4485e7d-af30-49d8-9ae8-e6e65e841f76",
   "metadata": {
    "tags": []
   },
   "outputs": [
    {
     "data": {
      "text/html": [
       "<div>\n",
       "<style scoped>\n",
       "    .dataframe tbody tr th:only-of-type {\n",
       "        vertical-align: middle;\n",
       "    }\n",
       "\n",
       "    .dataframe tbody tr th {\n",
       "        vertical-align: top;\n",
       "    }\n",
       "\n",
       "    .dataframe thead th {\n",
       "        text-align: right;\n",
       "    }\n",
       "</style>\n",
       "<table border=\"1\" class=\"dataframe\">\n",
       "  <thead>\n",
       "    <tr style=\"text-align: right;\">\n",
       "      <th></th>\n",
       "      <th>open</th>\n",
       "      <th>high</th>\n",
       "      <th>low</th>\n",
       "      <th>close</th>\n",
       "      <th>volume</th>\n",
       "    </tr>\n",
       "    <tr>\n",
       "      <th>datetime</th>\n",
       "      <th></th>\n",
       "      <th></th>\n",
       "      <th></th>\n",
       "      <th></th>\n",
       "      <th></th>\n",
       "    </tr>\n",
       "  </thead>\n",
       "  <tbody>\n",
       "    <tr>\n",
       "      <th>2023-09-18</th>\n",
       "      <td>175.82001</td>\n",
       "      <td>175.82001</td>\n",
       "      <td>175.82001</td>\n",
       "      <td>175.82001</td>\n",
       "      <td>0</td>\n",
       "    </tr>\n",
       "    <tr>\n",
       "      <th>2023-09-15</th>\n",
       "      <td>176.50999</td>\n",
       "      <td>176.50999</td>\n",
       "      <td>175.75999</td>\n",
       "      <td>175.81000</td>\n",
       "      <td>1200</td>\n",
       "    </tr>\n",
       "    <tr>\n",
       "      <th>2023-09-14</th>\n",
       "      <td>177.98000</td>\n",
       "      <td>178.42000</td>\n",
       "      <td>177.98000</td>\n",
       "      <td>178.03999</td>\n",
       "      <td>900</td>\n",
       "    </tr>\n",
       "    <tr>\n",
       "      <th>2023-09-13</th>\n",
       "      <td>176.95000</td>\n",
       "      <td>177.50000</td>\n",
       "      <td>176.89000</td>\n",
       "      <td>177.50000</td>\n",
       "      <td>1600</td>\n",
       "    </tr>\n",
       "    <tr>\n",
       "      <th>2023-09-12</th>\n",
       "      <td>177.03999</td>\n",
       "      <td>177.03999</td>\n",
       "      <td>176.60001</td>\n",
       "      <td>176.82001</td>\n",
       "      <td>1100</td>\n",
       "    </tr>\n",
       "    <tr>\n",
       "      <th>...</th>\n",
       "      <td>...</td>\n",
       "      <td>...</td>\n",
       "      <td>...</td>\n",
       "      <td>...</td>\n",
       "      <td>...</td>\n",
       "    </tr>\n",
       "    <tr>\n",
       "      <th>2010-01-08</th>\n",
       "      <td>31.42000</td>\n",
       "      <td>31.50333</td>\n",
       "      <td>31.23667</td>\n",
       "      <td>31.46333</td>\n",
       "      <td>10097400</td>\n",
       "    </tr>\n",
       "    <tr>\n",
       "      <th>2010-01-07</th>\n",
       "      <td>31.63000</td>\n",
       "      <td>31.63000</td>\n",
       "      <td>31.36000</td>\n",
       "      <td>31.57333</td>\n",
       "      <td>4557900</td>\n",
       "    </tr>\n",
       "    <tr>\n",
       "      <th>2010-01-06</th>\n",
       "      <td>31.27000</td>\n",
       "      <td>31.41667</td>\n",
       "      <td>31.19333</td>\n",
       "      <td>31.37000</td>\n",
       "      <td>5128500</td>\n",
       "    </tr>\n",
       "    <tr>\n",
       "      <th>2010-01-05</th>\n",
       "      <td>31.35000</td>\n",
       "      <td>31.47000</td>\n",
       "      <td>31.22333</td>\n",
       "      <td>31.34333</td>\n",
       "      <td>3228900</td>\n",
       "    </tr>\n",
       "    <tr>\n",
       "      <th>2010-01-04</th>\n",
       "      <td>31.47000</td>\n",
       "      <td>31.54333</td>\n",
       "      <td>31.32000</td>\n",
       "      <td>31.36000</td>\n",
       "      <td>4975200</td>\n",
       "    </tr>\n",
       "  </tbody>\n",
       "</table>\n",
       "<p>3450 rows × 5 columns</p>\n",
       "</div>"
      ],
      "text/plain": [
       "                 open       high        low      close    volume\n",
       "datetime                                                        \n",
       "2023-09-18  175.82001  175.82001  175.82001  175.82001         0\n",
       "2023-09-15  176.50999  176.50999  175.75999  175.81000      1200\n",
       "2023-09-14  177.98000  178.42000  177.98000  178.03999       900\n",
       "2023-09-13  176.95000  177.50000  176.89000  177.50000      1600\n",
       "2023-09-12  177.03999  177.03999  176.60001  176.82001      1100\n",
       "...               ...        ...        ...        ...       ...\n",
       "2010-01-08   31.42000   31.50333   31.23667   31.46333  10097400\n",
       "2010-01-07   31.63000   31.63000   31.36000   31.57333   4557900\n",
       "2010-01-06   31.27000   31.41667   31.19333   31.37000   5128500\n",
       "2010-01-05   31.35000   31.47000   31.22333   31.34333   3228900\n",
       "2010-01-04   31.47000   31.54333   31.32000   31.36000   4975200\n",
       "\n",
       "[3450 rows x 5 columns]"
      ]
     },
     "execution_count": 59,
     "metadata": {},
     "output_type": "execute_result"
    }
   ],
   "source": [
    "rth_raw"
   ]
  },
  {
   "cell_type": "code",
   "execution_count": 61,
   "id": "f65a0f3b-4adb-4d26-b8b4-0c97b42e75a4",
   "metadata": {
    "tags": []
   },
   "outputs": [
    {
     "data": {
      "text/html": [
       "<div>\n",
       "<style scoped>\n",
       "    .dataframe tbody tr th:only-of-type {\n",
       "        vertical-align: middle;\n",
       "    }\n",
       "\n",
       "    .dataframe tbody tr th {\n",
       "        vertical-align: top;\n",
       "    }\n",
       "\n",
       "    .dataframe thead th {\n",
       "        text-align: right;\n",
       "    }\n",
       "</style>\n",
       "<table border=\"1\" class=\"dataframe\">\n",
       "  <thead>\n",
       "    <tr style=\"text-align: right;\">\n",
       "      <th></th>\n",
       "      <th>open</th>\n",
       "      <th>high</th>\n",
       "      <th>low</th>\n",
       "      <th>close</th>\n",
       "      <th>volume</th>\n",
       "    </tr>\n",
       "    <tr>\n",
       "      <th>datetime</th>\n",
       "      <th></th>\n",
       "      <th></th>\n",
       "      <th></th>\n",
       "      <th></th>\n",
       "      <th></th>\n",
       "    </tr>\n",
       "  </thead>\n",
       "  <tbody>\n",
       "    <tr>\n",
       "      <th>2023-09-18</th>\n",
       "      <td>71.79</td>\n",
       "      <td>71.83</td>\n",
       "      <td>71.32</td>\n",
       "      <td>71.38</td>\n",
       "      <td>1470812</td>\n",
       "    </tr>\n",
       "    <tr>\n",
       "      <th>2023-09-15</th>\n",
       "      <td>72.50</td>\n",
       "      <td>72.76</td>\n",
       "      <td>71.99</td>\n",
       "      <td>72.05</td>\n",
       "      <td>10891600</td>\n",
       "    </tr>\n",
       "    <tr>\n",
       "      <th>2023-09-14</th>\n",
       "      <td>72.12</td>\n",
       "      <td>72.70</td>\n",
       "      <td>72.09</td>\n",
       "      <td>72.65</td>\n",
       "      <td>9356000</td>\n",
       "    </tr>\n",
       "    <tr>\n",
       "      <th>2023-09-13</th>\n",
       "      <td>71.82</td>\n",
       "      <td>72.10</td>\n",
       "      <td>71.67</td>\n",
       "      <td>71.92</td>\n",
       "      <td>7863700</td>\n",
       "    </tr>\n",
       "    <tr>\n",
       "      <th>2023-09-12</th>\n",
       "      <td>72.36</td>\n",
       "      <td>72.38</td>\n",
       "      <td>71.64</td>\n",
       "      <td>71.70</td>\n",
       "      <td>13300200</td>\n",
       "    </tr>\n",
       "    <tr>\n",
       "      <th>...</th>\n",
       "      <td>...</td>\n",
       "      <td>...</td>\n",
       "      <td>...</td>\n",
       "      <td>...</td>\n",
       "      <td>...</td>\n",
       "    </tr>\n",
       "    <tr>\n",
       "      <th>2010-01-08</th>\n",
       "      <td>26.60</td>\n",
       "      <td>26.60</td>\n",
       "      <td>26.42</td>\n",
       "      <td>26.57</td>\n",
       "      <td>5437400</td>\n",
       "    </tr>\n",
       "    <tr>\n",
       "      <th>2010-01-07</th>\n",
       "      <td>26.74</td>\n",
       "      <td>26.74</td>\n",
       "      <td>26.51</td>\n",
       "      <td>26.66</td>\n",
       "      <td>6951500</td>\n",
       "    </tr>\n",
       "    <tr>\n",
       "      <th>2010-01-06</th>\n",
       "      <td>26.65</td>\n",
       "      <td>26.69</td>\n",
       "      <td>26.54</td>\n",
       "      <td>26.66</td>\n",
       "      <td>9267000</td>\n",
       "    </tr>\n",
       "    <tr>\n",
       "      <th>2010-01-05</th>\n",
       "      <td>26.69</td>\n",
       "      <td>26.72</td>\n",
       "      <td>26.54</td>\n",
       "      <td>26.68</td>\n",
       "      <td>11805400</td>\n",
       "    </tr>\n",
       "    <tr>\n",
       "      <th>2010-01-04</th>\n",
       "      <td>26.45</td>\n",
       "      <td>26.78</td>\n",
       "      <td>26.45</td>\n",
       "      <td>26.67</td>\n",
       "      <td>8465900</td>\n",
       "    </tr>\n",
       "  </tbody>\n",
       "</table>\n",
       "<p>3450 rows × 5 columns</p>\n",
       "</div>"
      ],
      "text/plain": [
       "             open   high    low  close    volume\n",
       "datetime                                        \n",
       "2023-09-18  71.79  71.83  71.32  71.38   1470812\n",
       "2023-09-15  72.50  72.76  71.99  72.05  10891600\n",
       "2023-09-14  72.12  72.70  72.09  72.65   9356000\n",
       "2023-09-13  71.82  72.10  71.67  71.92   7863700\n",
       "2023-09-12  72.36  72.38  71.64  71.70  13300200\n",
       "...           ...    ...    ...    ...       ...\n",
       "2010-01-08  26.60  26.60  26.42  26.57   5437400\n",
       "2010-01-07  26.74  26.74  26.51  26.66   6951500\n",
       "2010-01-06  26.65  26.69  26.54  26.66   9267000\n",
       "2010-01-05  26.69  26.72  26.54  26.68  11805400\n",
       "2010-01-04  26.45  26.78  26.45  26.67   8465900\n",
       "\n",
       "[3450 rows x 5 columns]"
      ]
     },
     "execution_count": 61,
     "metadata": {},
     "output_type": "execute_result"
    }
   ],
   "source": [
    "xlp_raw"
   ]
  },
  {
   "cell_type": "code",
   "execution_count": 60,
   "id": "6c052a94-0af4-42c0-bc53-0efc0ea4e0e3",
   "metadata": {
    "tags": []
   },
   "outputs": [
    {
     "data": {
      "text/html": [
       "<div>\n",
       "<style scoped>\n",
       "    .dataframe tbody tr th:only-of-type {\n",
       "        vertical-align: middle;\n",
       "    }\n",
       "\n",
       "    .dataframe tbody tr th {\n",
       "        vertical-align: top;\n",
       "    }\n",
       "\n",
       "    .dataframe thead th {\n",
       "        text-align: right;\n",
       "    }\n",
       "</style>\n",
       "<table border=\"1\" class=\"dataframe\">\n",
       "  <thead>\n",
       "    <tr style=\"text-align: right;\">\n",
       "      <th></th>\n",
       "      <th>open</th>\n",
       "      <th>high</th>\n",
       "      <th>low</th>\n",
       "      <th>close</th>\n",
       "      <th>volume</th>\n",
       "    </tr>\n",
       "    <tr>\n",
       "      <th>datetime</th>\n",
       "      <th></th>\n",
       "      <th></th>\n",
       "      <th></th>\n",
       "      <th></th>\n",
       "      <th></th>\n",
       "    </tr>\n",
       "  </thead>\n",
       "  <tbody>\n",
       "    <tr>\n",
       "      <th>2023-09-07</th>\n",
       "      <td>91.44</td>\n",
       "      <td>91.90</td>\n",
       "      <td>91.0088</td>\n",
       "      <td>91.17</td>\n",
       "      <td>15361552</td>\n",
       "    </tr>\n",
       "    <tr>\n",
       "      <th>2023-09-06</th>\n",
       "      <td>91.04</td>\n",
       "      <td>91.75</td>\n",
       "      <td>90.5900</td>\n",
       "      <td>91.26</td>\n",
       "      <td>20162100</td>\n",
       "    </tr>\n",
       "    <tr>\n",
       "      <th>2023-09-05</th>\n",
       "      <td>91.25</td>\n",
       "      <td>92.15</td>\n",
       "      <td>91.1600</td>\n",
       "      <td>91.22</td>\n",
       "      <td>24368700</td>\n",
       "    </tr>\n",
       "    <tr>\n",
       "      <th>2023-09-01</th>\n",
       "      <td>89.90</td>\n",
       "      <td>90.84</td>\n",
       "      <td>89.8800</td>\n",
       "      <td>90.74</td>\n",
       "      <td>17878100</td>\n",
       "    </tr>\n",
       "    <tr>\n",
       "      <th>2023-08-31</th>\n",
       "      <td>89.19</td>\n",
       "      <td>89.34</td>\n",
       "      <td>88.2800</td>\n",
       "      <td>88.92</td>\n",
       "      <td>14808700</td>\n",
       "    </tr>\n",
       "    <tr>\n",
       "      <th>...</th>\n",
       "      <td>...</td>\n",
       "      <td>...</td>\n",
       "      <td>...</td>\n",
       "      <td>...</td>\n",
       "      <td>...</td>\n",
       "    </tr>\n",
       "    <tr>\n",
       "      <th>2010-01-08</th>\n",
       "      <td>59.70</td>\n",
       "      <td>60.35</td>\n",
       "      <td>59.4900</td>\n",
       "      <td>60.30</td>\n",
       "      <td>13344300</td>\n",
       "    </tr>\n",
       "    <tr>\n",
       "      <th>2010-01-07</th>\n",
       "      <td>59.74</td>\n",
       "      <td>60.01</td>\n",
       "      <td>59.3000</td>\n",
       "      <td>59.91</td>\n",
       "      <td>17449500</td>\n",
       "    </tr>\n",
       "    <tr>\n",
       "      <th>2010-01-06</th>\n",
       "      <td>59.32</td>\n",
       "      <td>60.18</td>\n",
       "      <td>59.1900</td>\n",
       "      <td>60.00</td>\n",
       "      <td>24351900</td>\n",
       "    </tr>\n",
       "    <tr>\n",
       "      <th>2010-01-05</th>\n",
       "      <td>58.89</td>\n",
       "      <td>59.41</td>\n",
       "      <td>58.6200</td>\n",
       "      <td>59.29</td>\n",
       "      <td>17368100</td>\n",
       "    </tr>\n",
       "    <tr>\n",
       "      <th>2010-01-04</th>\n",
       "      <td>57.92</td>\n",
       "      <td>58.81</td>\n",
       "      <td>57.7900</td>\n",
       "      <td>58.81</td>\n",
       "      <td>16928400</td>\n",
       "    </tr>\n",
       "  </tbody>\n",
       "</table>\n",
       "<p>3443 rows × 5 columns</p>\n",
       "</div>"
      ],
      "text/plain": [
       "             open   high      low  close    volume\n",
       "datetime                                          \n",
       "2023-09-07  91.44  91.90  91.0088  91.17  15361552\n",
       "2023-09-06  91.04  91.75  90.5900  91.26  20162100\n",
       "2023-09-05  91.25  92.15  91.1600  91.22  24368700\n",
       "2023-09-01  89.90  90.84  89.8800  90.74  17878100\n",
       "2023-08-31  89.19  89.34  88.2800  88.92  14808700\n",
       "...           ...    ...      ...    ...       ...\n",
       "2010-01-08  59.70  60.35  59.4900  60.30  13344300\n",
       "2010-01-07  59.74  60.01  59.3000  59.91  17449500\n",
       "2010-01-06  59.32  60.18  59.1900  60.00  24351900\n",
       "2010-01-05  58.89  59.41  58.6200  59.29  17368100\n",
       "2010-01-04  57.92  58.81  57.7900  58.81  16928400\n",
       "\n",
       "[3443 rows x 5 columns]"
      ]
     },
     "execution_count": 60,
     "metadata": {},
     "output_type": "execute_result"
    }
   ],
   "source": [
    "xle_raw"
   ]
  },
  {
   "cell_type": "code",
   "execution_count": 5,
   "id": "495a16bc-6d8e-406c-8928-74d9d2ea2d34",
   "metadata": {
    "tags": []
   },
   "outputs": [
    {
     "data": {
      "text/html": [
       "<div>\n",
       "<style scoped>\n",
       "    .dataframe tbody tr th:only-of-type {\n",
       "        vertical-align: middle;\n",
       "    }\n",
       "\n",
       "    .dataframe tbody tr th {\n",
       "        vertical-align: top;\n",
       "    }\n",
       "\n",
       "    .dataframe thead th {\n",
       "        text-align: right;\n",
       "    }\n",
       "</style>\n",
       "<table border=\"1\" class=\"dataframe\">\n",
       "  <thead>\n",
       "    <tr style=\"text-align: right;\">\n",
       "      <th></th>\n",
       "      <th>open</th>\n",
       "      <th>high</th>\n",
       "      <th>low</th>\n",
       "      <th>close</th>\n",
       "      <th>volume</th>\n",
       "    </tr>\n",
       "    <tr>\n",
       "      <th>datetime</th>\n",
       "      <th></th>\n",
       "      <th></th>\n",
       "      <th></th>\n",
       "      <th></th>\n",
       "      <th></th>\n",
       "    </tr>\n",
       "  </thead>\n",
       "  <tbody>\n",
       "    <tr>\n",
       "      <th>2023-09-07</th>\n",
       "      <td>62.35</td>\n",
       "      <td>63.13</td>\n",
       "      <td>62.19</td>\n",
       "      <td>62.63</td>\n",
       "      <td>16873800</td>\n",
       "    </tr>\n",
       "    <tr>\n",
       "      <th>2023-09-06</th>\n",
       "      <td>61.77</td>\n",
       "      <td>61.89</td>\n",
       "      <td>61.42</td>\n",
       "      <td>61.82</td>\n",
       "      <td>19470100</td>\n",
       "    </tr>\n",
       "    <tr>\n",
       "      <th>2023-09-05</th>\n",
       "      <td>62.60</td>\n",
       "      <td>62.64</td>\n",
       "      <td>61.34</td>\n",
       "      <td>61.68</td>\n",
       "      <td>18825300</td>\n",
       "    </tr>\n",
       "    <tr>\n",
       "      <th>2023-09-01</th>\n",
       "      <td>63.29</td>\n",
       "      <td>63.51</td>\n",
       "      <td>62.15</td>\n",
       "      <td>62.64</td>\n",
       "      <td>14387700</td>\n",
       "    </tr>\n",
       "    <tr>\n",
       "      <th>2023-08-31</th>\n",
       "      <td>63.82</td>\n",
       "      <td>63.88</td>\n",
       "      <td>62.94</td>\n",
       "      <td>62.96</td>\n",
       "      <td>13771100</td>\n",
       "    </tr>\n",
       "    <tr>\n",
       "      <th>...</th>\n",
       "      <td>...</td>\n",
       "      <td>...</td>\n",
       "      <td>...</td>\n",
       "      <td>...</td>\n",
       "      <td>...</td>\n",
       "    </tr>\n",
       "    <tr>\n",
       "      <th>2010-01-08</th>\n",
       "      <td>30.71</td>\n",
       "      <td>30.79</td>\n",
       "      <td>30.52</td>\n",
       "      <td>30.72</td>\n",
       "      <td>6267600</td>\n",
       "    </tr>\n",
       "    <tr>\n",
       "      <th>2010-01-07</th>\n",
       "      <td>30.85</td>\n",
       "      <td>30.87</td>\n",
       "      <td>30.64</td>\n",
       "      <td>30.75</td>\n",
       "      <td>6563100</td>\n",
       "    </tr>\n",
       "    <tr>\n",
       "      <th>2010-01-06</th>\n",
       "      <td>30.69</td>\n",
       "      <td>31.00</td>\n",
       "      <td>30.69</td>\n",
       "      <td>30.89</td>\n",
       "      <td>12745100</td>\n",
       "    </tr>\n",
       "    <tr>\n",
       "      <th>2010-01-05</th>\n",
       "      <td>30.99</td>\n",
       "      <td>31.17</td>\n",
       "      <td>30.56</td>\n",
       "      <td>30.71</td>\n",
       "      <td>18023700</td>\n",
       "    </tr>\n",
       "    <tr>\n",
       "      <th>2010-01-04</th>\n",
       "      <td>31.28</td>\n",
       "      <td>31.36</td>\n",
       "      <td>31.01</td>\n",
       "      <td>31.08</td>\n",
       "      <td>8217600</td>\n",
       "    </tr>\n",
       "  </tbody>\n",
       "</table>\n",
       "<p>3443 rows × 5 columns</p>\n",
       "</div>"
      ],
      "text/plain": [
       "             open   high    low  close    volume\n",
       "datetime                                        \n",
       "2023-09-07  62.35  63.13  62.19  62.63  16873800\n",
       "2023-09-06  61.77  61.89  61.42  61.82  19470100\n",
       "2023-09-05  62.60  62.64  61.34  61.68  18825300\n",
       "2023-09-01  63.29  63.51  62.15  62.64  14387700\n",
       "2023-08-31  63.82  63.88  62.94  62.96  13771100\n",
       "...           ...    ...    ...    ...       ...\n",
       "2010-01-08  30.71  30.79  30.52  30.72   6267600\n",
       "2010-01-07  30.85  30.87  30.64  30.75   6563100\n",
       "2010-01-06  30.69  31.00  30.69  30.89  12745100\n",
       "2010-01-05  30.99  31.17  30.56  30.71  18023700\n",
       "2010-01-04  31.28  31.36  31.01  31.08   8217600\n",
       "\n",
       "[3443 rows x 5 columns]"
      ]
     },
     "execution_count": 5,
     "metadata": {},
     "output_type": "execute_result"
    }
   ],
   "source": [
    "xlu_raw"
   ]
  },
  {
   "cell_type": "code",
   "execution_count": 4,
   "id": "6bf841b7-4463-4c7c-848b-3a79fc3f441e",
   "metadata": {
    "tags": []
   },
   "outputs": [
    {
     "data": {
      "text/plain": [
       "datetime\n",
       "2023-09-07    91.17\n",
       "2023-09-06    91.26\n",
       "2023-09-05    91.22\n",
       "2023-09-01    90.74\n",
       "2023-08-31    88.92\n",
       "              ...  \n",
       "2010-01-08    60.30\n",
       "2010-01-07    59.91\n",
       "2010-01-06    60.00\n",
       "2010-01-05    59.29\n",
       "2010-01-04    58.81\n",
       "Name: XLE, Length: 3443, dtype: float64"
      ]
     },
     "execution_count": 4,
     "metadata": {},
     "output_type": "execute_result"
    }
   ],
   "source": [
    "xle = xle_raw[\"close\"].rename(\"XLE\")\n",
    "xle"
   ]
  },
  {
   "cell_type": "code",
   "execution_count": 5,
   "id": "accac899-fe73-4307-901e-2e21a2ad3c99",
   "metadata": {
    "tags": []
   },
   "outputs": [
    {
     "data": {
      "text/plain": [
       "datetime\n",
       "2023-09-07    62.63\n",
       "2023-09-06    61.82\n",
       "2023-09-05    61.68\n",
       "2023-09-01    62.64\n",
       "2023-08-31    62.96\n",
       "              ...  \n",
       "2010-01-08    30.72\n",
       "2010-01-07    30.75\n",
       "2010-01-06    30.89\n",
       "2010-01-05    30.71\n",
       "2010-01-04    31.08\n",
       "Name: XLU, Length: 3443, dtype: float64"
      ]
     },
     "execution_count": 5,
     "metadata": {},
     "output_type": "execute_result"
    }
   ],
   "source": [
    "xlu = xlu_raw[\"close\"].rename(\"XLU\")\n",
    "xlu"
   ]
  },
  {
   "cell_type": "code",
   "execution_count": 6,
   "id": "900825cf-ea57-4520-b031-179cf15056fc",
   "metadata": {
    "tags": []
   },
   "outputs": [
    {
     "data": {
      "text/html": [
       "<div>\n",
       "<style scoped>\n",
       "    .dataframe tbody tr th:only-of-type {\n",
       "        vertical-align: middle;\n",
       "    }\n",
       "\n",
       "    .dataframe tbody tr th {\n",
       "        vertical-align: top;\n",
       "    }\n",
       "\n",
       "    .dataframe thead th {\n",
       "        text-align: right;\n",
       "    }\n",
       "</style>\n",
       "<table border=\"1\" class=\"dataframe\">\n",
       "  <thead>\n",
       "    <tr style=\"text-align: right;\">\n",
       "      <th></th>\n",
       "      <th>XLE</th>\n",
       "      <th>XLU</th>\n",
       "    </tr>\n",
       "    <tr>\n",
       "      <th>datetime</th>\n",
       "      <th></th>\n",
       "      <th></th>\n",
       "    </tr>\n",
       "  </thead>\n",
       "  <tbody>\n",
       "    <tr>\n",
       "      <th>2023-09-07</th>\n",
       "      <td>91.17</td>\n",
       "      <td>62.63</td>\n",
       "    </tr>\n",
       "    <tr>\n",
       "      <th>2023-09-06</th>\n",
       "      <td>91.26</td>\n",
       "      <td>61.82</td>\n",
       "    </tr>\n",
       "    <tr>\n",
       "      <th>2023-09-05</th>\n",
       "      <td>91.22</td>\n",
       "      <td>61.68</td>\n",
       "    </tr>\n",
       "    <tr>\n",
       "      <th>2023-09-01</th>\n",
       "      <td>90.74</td>\n",
       "      <td>62.64</td>\n",
       "    </tr>\n",
       "    <tr>\n",
       "      <th>2023-08-31</th>\n",
       "      <td>88.92</td>\n",
       "      <td>62.96</td>\n",
       "    </tr>\n",
       "    <tr>\n",
       "      <th>...</th>\n",
       "      <td>...</td>\n",
       "      <td>...</td>\n",
       "    </tr>\n",
       "    <tr>\n",
       "      <th>2010-01-08</th>\n",
       "      <td>60.30</td>\n",
       "      <td>30.72</td>\n",
       "    </tr>\n",
       "    <tr>\n",
       "      <th>2010-01-07</th>\n",
       "      <td>59.91</td>\n",
       "      <td>30.75</td>\n",
       "    </tr>\n",
       "    <tr>\n",
       "      <th>2010-01-06</th>\n",
       "      <td>60.00</td>\n",
       "      <td>30.89</td>\n",
       "    </tr>\n",
       "    <tr>\n",
       "      <th>2010-01-05</th>\n",
       "      <td>59.29</td>\n",
       "      <td>30.71</td>\n",
       "    </tr>\n",
       "    <tr>\n",
       "      <th>2010-01-04</th>\n",
       "      <td>58.81</td>\n",
       "      <td>31.08</td>\n",
       "    </tr>\n",
       "  </tbody>\n",
       "</table>\n",
       "<p>3443 rows × 2 columns</p>\n",
       "</div>"
      ],
      "text/plain": [
       "              XLE    XLU\n",
       "datetime                \n",
       "2023-09-07  91.17  62.63\n",
       "2023-09-06  91.26  61.82\n",
       "2023-09-05  91.22  61.68\n",
       "2023-09-01  90.74  62.64\n",
       "2023-08-31  88.92  62.96\n",
       "...           ...    ...\n",
       "2010-01-08  60.30  30.72\n",
       "2010-01-07  59.91  30.75\n",
       "2010-01-06  60.00  30.89\n",
       "2010-01-05  59.29  30.71\n",
       "2010-01-04  58.81  31.08\n",
       "\n",
       "[3443 rows x 2 columns]"
      ]
     },
     "execution_count": 6,
     "metadata": {},
     "output_type": "execute_result"
    }
   ],
   "source": [
    "compose = pd.merge(xle, xlu, on=\"datetime\", how=\"outer\")\n",
    "compose"
   ]
  },
  {
   "cell_type": "code",
   "execution_count": 63,
   "id": "ba23cc8b-7113-4f13-b284-54d7e7d2014a",
   "metadata": {
    "tags": []
   },
   "outputs": [
    {
     "data": {
      "text/html": [
       "<div>\n",
       "<style scoped>\n",
       "    .dataframe tbody tr th:only-of-type {\n",
       "        vertical-align: middle;\n",
       "    }\n",
       "\n",
       "    .dataframe tbody tr th {\n",
       "        vertical-align: top;\n",
       "    }\n",
       "\n",
       "    .dataframe thead th {\n",
       "        text-align: right;\n",
       "    }\n",
       "</style>\n",
       "<table border=\"1\" class=\"dataframe\">\n",
       "  <thead>\n",
       "    <tr style=\"text-align: right;\">\n",
       "      <th></th>\n",
       "      <th>RTH</th>\n",
       "      <th>XLP</th>\n",
       "    </tr>\n",
       "    <tr>\n",
       "      <th>datetime</th>\n",
       "      <th></th>\n",
       "      <th></th>\n",
       "    </tr>\n",
       "  </thead>\n",
       "  <tbody>\n",
       "    <tr>\n",
       "      <th>2023-09-18</th>\n",
       "      <td>175.82001</td>\n",
       "      <td>71.38</td>\n",
       "    </tr>\n",
       "    <tr>\n",
       "      <th>2023-09-15</th>\n",
       "      <td>175.81000</td>\n",
       "      <td>72.05</td>\n",
       "    </tr>\n",
       "    <tr>\n",
       "      <th>2023-09-14</th>\n",
       "      <td>178.03999</td>\n",
       "      <td>72.65</td>\n",
       "    </tr>\n",
       "    <tr>\n",
       "      <th>2023-09-13</th>\n",
       "      <td>177.50000</td>\n",
       "      <td>71.92</td>\n",
       "    </tr>\n",
       "    <tr>\n",
       "      <th>2023-09-12</th>\n",
       "      <td>176.82001</td>\n",
       "      <td>71.70</td>\n",
       "    </tr>\n",
       "    <tr>\n",
       "      <th>...</th>\n",
       "      <td>...</td>\n",
       "      <td>...</td>\n",
       "    </tr>\n",
       "    <tr>\n",
       "      <th>2010-01-08</th>\n",
       "      <td>31.46333</td>\n",
       "      <td>26.57</td>\n",
       "    </tr>\n",
       "    <tr>\n",
       "      <th>2010-01-07</th>\n",
       "      <td>31.57333</td>\n",
       "      <td>26.66</td>\n",
       "    </tr>\n",
       "    <tr>\n",
       "      <th>2010-01-06</th>\n",
       "      <td>31.37000</td>\n",
       "      <td>26.66</td>\n",
       "    </tr>\n",
       "    <tr>\n",
       "      <th>2010-01-05</th>\n",
       "      <td>31.34333</td>\n",
       "      <td>26.68</td>\n",
       "    </tr>\n",
       "    <tr>\n",
       "      <th>2010-01-04</th>\n",
       "      <td>31.36000</td>\n",
       "      <td>26.67</td>\n",
       "    </tr>\n",
       "  </tbody>\n",
       "</table>\n",
       "<p>3450 rows × 2 columns</p>\n",
       "</div>"
      ],
      "text/plain": [
       "                  RTH    XLP\n",
       "datetime                    \n",
       "2023-09-18  175.82001  71.38\n",
       "2023-09-15  175.81000  72.05\n",
       "2023-09-14  178.03999  72.65\n",
       "2023-09-13  177.50000  71.92\n",
       "2023-09-12  176.82001  71.70\n",
       "...               ...    ...\n",
       "2010-01-08   31.46333  26.57\n",
       "2010-01-07   31.57333  26.66\n",
       "2010-01-06   31.37000  26.66\n",
       "2010-01-05   31.34333  26.68\n",
       "2010-01-04   31.36000  26.67\n",
       "\n",
       "[3450 rows x 2 columns]"
      ]
     },
     "execution_count": 63,
     "metadata": {},
     "output_type": "execute_result"
    }
   ],
   "source": [
    "rth = rth_raw[\"close\"].rename(\"RTH\")\n",
    "xlp = xlp_raw[\"close\"].rename(\"XLP\")\n",
    "compose = pd.merge(rth, xlp, on=\"datetime\", how=\"outer\")\n",
    "compose"
   ]
  },
  {
   "cell_type": "code",
   "execution_count": 106,
   "id": "262ffa4a-9268-4660-9335-3302a12e571c",
   "metadata": {
    "tags": []
   },
   "outputs": [
    {
     "data": {
      "text/html": [
       "<div>\n",
       "<style scoped>\n",
       "    .dataframe tbody tr th:only-of-type {\n",
       "        vertical-align: middle;\n",
       "    }\n",
       "\n",
       "    .dataframe tbody tr th {\n",
       "        vertical-align: top;\n",
       "    }\n",
       "\n",
       "    .dataframe thead th {\n",
       "        text-align: right;\n",
       "    }\n",
       "</style>\n",
       "<table border=\"1\" class=\"dataframe\">\n",
       "  <thead>\n",
       "    <tr style=\"text-align: right;\">\n",
       "      <th></th>\n",
       "      <th>IYE</th>\n",
       "      <th>VDE</th>\n",
       "    </tr>\n",
       "    <tr>\n",
       "      <th>datetime</th>\n",
       "      <th></th>\n",
       "      <th></th>\n",
       "    </tr>\n",
       "  </thead>\n",
       "  <tbody>\n",
       "    <tr>\n",
       "      <th>2023-09-18</th>\n",
       "      <td>48.74</td>\n",
       "      <td>130.17</td>\n",
       "    </tr>\n",
       "    <tr>\n",
       "      <th>2023-09-15</th>\n",
       "      <td>48.30</td>\n",
       "      <td>128.89</td>\n",
       "    </tr>\n",
       "    <tr>\n",
       "      <th>2023-09-14</th>\n",
       "      <td>48.97</td>\n",
       "      <td>130.52</td>\n",
       "    </tr>\n",
       "    <tr>\n",
       "      <th>2023-09-13</th>\n",
       "      <td>48.34</td>\n",
       "      <td>129.00</td>\n",
       "    </tr>\n",
       "    <tr>\n",
       "      <th>2023-09-12</th>\n",
       "      <td>48.76</td>\n",
       "      <td>130.05</td>\n",
       "    </tr>\n",
       "    <tr>\n",
       "      <th>...</th>\n",
       "      <td>...</td>\n",
       "      <td>...</td>\n",
       "    </tr>\n",
       "    <tr>\n",
       "      <th>2010-01-08</th>\n",
       "      <td>35.03</td>\n",
       "      <td>88.30</td>\n",
       "    </tr>\n",
       "    <tr>\n",
       "      <th>2010-01-07</th>\n",
       "      <td>34.75</td>\n",
       "      <td>87.64</td>\n",
       "    </tr>\n",
       "    <tr>\n",
       "      <th>2010-01-06</th>\n",
       "      <td>34.89</td>\n",
       "      <td>87.85</td>\n",
       "    </tr>\n",
       "    <tr>\n",
       "      <th>2010-01-05</th>\n",
       "      <td>34.52</td>\n",
       "      <td>86.85</td>\n",
       "    </tr>\n",
       "    <tr>\n",
       "      <th>2010-01-04</th>\n",
       "      <td>34.23</td>\n",
       "      <td>85.97</td>\n",
       "    </tr>\n",
       "  </tbody>\n",
       "</table>\n",
       "<p>3450 rows × 2 columns</p>\n",
       "</div>"
      ],
      "text/plain": [
       "              IYE     VDE\n",
       "datetime                 \n",
       "2023-09-18  48.74  130.17\n",
       "2023-09-15  48.30  128.89\n",
       "2023-09-14  48.97  130.52\n",
       "2023-09-13  48.34  129.00\n",
       "2023-09-12  48.76  130.05\n",
       "...           ...     ...\n",
       "2010-01-08  35.03   88.30\n",
       "2010-01-07  34.75   87.64\n",
       "2010-01-06  34.89   87.85\n",
       "2010-01-05  34.52   86.85\n",
       "2010-01-04  34.23   85.97\n",
       "\n",
       "[3450 rows x 2 columns]"
      ]
     },
     "execution_count": 106,
     "metadata": {},
     "output_type": "execute_result"
    }
   ],
   "source": [
    "iye = iye_raw[\"close\"].rename(\"IYE\")\n",
    "vde = vde_raw[\"close\"].rename(\"VDE\")\n",
    "compose = pd.merge(iye, vde, on=\"datetime\", how=\"outer\")\n",
    "compose"
   ]
  },
  {
   "cell_type": "code",
   "execution_count": 108,
   "id": "50a5894e-f3a3-49e4-beab-470a777e4447",
   "metadata": {
    "tags": []
   },
   "outputs": [
    {
     "data": {
      "text/plain": [
       "<Axes: xlabel='datetime'>"
      ]
     },
     "execution_count": 108,
     "metadata": {},
     "output_type": "execute_result"
    },
    {
     "data": {
      "image/png": "[encoded data removed]",
      "text/plain": [
       "<Figure size 640x480 with 1 Axes>"
      ]
     },
     "metadata": {},
     "output_type": "display_data"
    }
   ],
   "source": [
    "compose[compose.index.year <= 2015].plot()"
   ]
  },
  {
   "cell_type": "code",
   "execution_count": 109,
   "id": "a18415f1-649e-493e-b859-df52ea6cbe5b",
   "metadata": {
    "tags": []
   },
   "outputs": [],
   "source": [
    "from sklearn.model_selection import train_test_split\n",
    "\n",
    "train_dataset, test_dataset = train_test_split(compose.sort_index(), test_size=0.2, shuffle=False)"
   ]
  },
  {
   "cell_type": "code",
   "execution_count": 110,
   "id": "390e231f-b174-4e5a-85af-ae6d9a229401",
   "metadata": {
    "tags": []
   },
   "outputs": [
    {
     "data": {
      "text/html": [
       "<div>\n",
       "<style scoped>\n",
       "    .dataframe tbody tr th:only-of-type {\n",
       "        vertical-align: middle;\n",
       "    }\n",
       "\n",
       "    .dataframe tbody tr th {\n",
       "        vertical-align: top;\n",
       "    }\n",
       "\n",
       "    .dataframe thead th {\n",
       "        text-align: right;\n",
       "    }\n",
       "</style>\n",
       "<table border=\"1\" class=\"dataframe\">\n",
       "  <thead>\n",
       "    <tr style=\"text-align: right;\">\n",
       "      <th></th>\n",
       "      <th>IYE</th>\n",
       "      <th>VDE</th>\n",
       "    </tr>\n",
       "    <tr>\n",
       "      <th>datetime</th>\n",
       "      <th></th>\n",
       "      <th></th>\n",
       "    </tr>\n",
       "  </thead>\n",
       "  <tbody>\n",
       "    <tr>\n",
       "      <th>2010-01-04</th>\n",
       "      <td>34.23</td>\n",
       "      <td>85.97</td>\n",
       "    </tr>\n",
       "    <tr>\n",
       "      <th>2010-01-05</th>\n",
       "      <td>34.52</td>\n",
       "      <td>86.85</td>\n",
       "    </tr>\n",
       "    <tr>\n",
       "      <th>2010-01-06</th>\n",
       "      <td>34.89</td>\n",
       "      <td>87.85</td>\n",
       "    </tr>\n",
       "    <tr>\n",
       "      <th>2010-01-07</th>\n",
       "      <td>34.75</td>\n",
       "      <td>87.64</td>\n",
       "    </tr>\n",
       "    <tr>\n",
       "      <th>2010-01-08</th>\n",
       "      <td>35.03</td>\n",
       "      <td>88.30</td>\n",
       "    </tr>\n",
       "    <tr>\n",
       "      <th>...</th>\n",
       "      <td>...</td>\n",
       "      <td>...</td>\n",
       "    </tr>\n",
       "    <tr>\n",
       "      <th>2020-12-11</th>\n",
       "      <td>21.81</td>\n",
       "      <td>55.95</td>\n",
       "    </tr>\n",
       "    <tr>\n",
       "      <th>2020-12-14</th>\n",
       "      <td>20.83</td>\n",
       "      <td>54.00</td>\n",
       "    </tr>\n",
       "    <tr>\n",
       "      <th>2020-12-15</th>\n",
       "      <td>21.26</td>\n",
       "      <td>55.09</td>\n",
       "    </tr>\n",
       "    <tr>\n",
       "      <th>2020-12-16</th>\n",
       "      <td>21.17</td>\n",
       "      <td>54.85</td>\n",
       "    </tr>\n",
       "    <tr>\n",
       "      <th>2020-12-17</th>\n",
       "      <td>21.04</td>\n",
       "      <td>53.99</td>\n",
       "    </tr>\n",
       "  </tbody>\n",
       "</table>\n",
       "<p>2760 rows × 2 columns</p>\n",
       "</div>"
      ],
      "text/plain": [
       "              IYE    VDE\n",
       "datetime                \n",
       "2010-01-04  34.23  85.97\n",
       "2010-01-05  34.52  86.85\n",
       "2010-01-06  34.89  87.85\n",
       "2010-01-07  34.75  87.64\n",
       "2010-01-08  35.03  88.30\n",
       "...           ...    ...\n",
       "2020-12-11  21.81  55.95\n",
       "2020-12-14  20.83  54.00\n",
       "2020-12-15  21.26  55.09\n",
       "2020-12-16  21.17  54.85\n",
       "2020-12-17  21.04  53.99\n",
       "\n",
       "[2760 rows x 2 columns]"
      ]
     },
     "execution_count": 110,
     "metadata": {},
     "output_type": "execute_result"
    }
   ],
   "source": [
    "train_dataset"
   ]
  },
  {
   "cell_type": "code",
   "execution_count": 111,
   "id": "e606f77b-2a6e-4b11-91f4-5edcd8afdf0f",
   "metadata": {
    "tags": []
   },
   "outputs": [
    {
     "data": {
      "text/html": [
       "<div>\n",
       "<style scoped>\n",
       "    .dataframe tbody tr th:only-of-type {\n",
       "        vertical-align: middle;\n",
       "    }\n",
       "\n",
       "    .dataframe tbody tr th {\n",
       "        vertical-align: top;\n",
       "    }\n",
       "\n",
       "    .dataframe thead th {\n",
       "        text-align: right;\n",
       "    }\n",
       "</style>\n",
       "<table border=\"1\" class=\"dataframe\">\n",
       "  <thead>\n",
       "    <tr style=\"text-align: right;\">\n",
       "      <th></th>\n",
       "      <th>IYE</th>\n",
       "      <th>VDE</th>\n",
       "    </tr>\n",
       "    <tr>\n",
       "      <th>datetime</th>\n",
       "      <th></th>\n",
       "      <th></th>\n",
       "    </tr>\n",
       "  </thead>\n",
       "  <tbody>\n",
       "    <tr>\n",
       "      <th>2020-12-18</th>\n",
       "      <td>20.71</td>\n",
       "      <td>53.06</td>\n",
       "    </tr>\n",
       "    <tr>\n",
       "      <th>2020-12-21</th>\n",
       "      <td>20.34</td>\n",
       "      <td>52.12</td>\n",
       "    </tr>\n",
       "    <tr>\n",
       "      <th>2020-12-22</th>\n",
       "      <td>20.02</td>\n",
       "      <td>51.30</td>\n",
       "    </tr>\n",
       "    <tr>\n",
       "      <th>2020-12-23</th>\n",
       "      <td>20.46</td>\n",
       "      <td>52.60</td>\n",
       "    </tr>\n",
       "    <tr>\n",
       "      <th>2020-12-24</th>\n",
       "      <td>20.33</td>\n",
       "      <td>52.16</td>\n",
       "    </tr>\n",
       "    <tr>\n",
       "      <th>...</th>\n",
       "      <td>...</td>\n",
       "      <td>...</td>\n",
       "    </tr>\n",
       "    <tr>\n",
       "      <th>2023-09-12</th>\n",
       "      <td>48.76</td>\n",
       "      <td>130.05</td>\n",
       "    </tr>\n",
       "    <tr>\n",
       "      <th>2023-09-13</th>\n",
       "      <td>48.34</td>\n",
       "      <td>129.00</td>\n",
       "    </tr>\n",
       "    <tr>\n",
       "      <th>2023-09-14</th>\n",
       "      <td>48.97</td>\n",
       "      <td>130.52</td>\n",
       "    </tr>\n",
       "    <tr>\n",
       "      <th>2023-09-15</th>\n",
       "      <td>48.30</td>\n",
       "      <td>128.89</td>\n",
       "    </tr>\n",
       "    <tr>\n",
       "      <th>2023-09-18</th>\n",
       "      <td>48.74</td>\n",
       "      <td>130.17</td>\n",
       "    </tr>\n",
       "  </tbody>\n",
       "</table>\n",
       "<p>690 rows × 2 columns</p>\n",
       "</div>"
      ],
      "text/plain": [
       "              IYE     VDE\n",
       "datetime                 \n",
       "2020-12-18  20.71   53.06\n",
       "2020-12-21  20.34   52.12\n",
       "2020-12-22  20.02   51.30\n",
       "2020-12-23  20.46   52.60\n",
       "2020-12-24  20.33   52.16\n",
       "...           ...     ...\n",
       "2023-09-12  48.76  130.05\n",
       "2023-09-13  48.34  129.00\n",
       "2023-09-14  48.97  130.52\n",
       "2023-09-15  48.30  128.89\n",
       "2023-09-18  48.74  130.17\n",
       "\n",
       "[690 rows x 2 columns]"
      ]
     },
     "execution_count": 111,
     "metadata": {},
     "output_type": "execute_result"
    }
   ],
   "source": [
    "test_dataset"
   ]
  },
  {
   "cell_type": "code",
   "execution_count": 112,
   "id": "7726626d-3927-48f1-9f84-5e5f60da0c71",
   "metadata": {
    "tags": []
   },
   "outputs": [
    {
     "data": {
      "text/plain": [
       "TimeSeriesSplit(gap=0, max_train_size=None, n_splits=5, test_size=None)"
      ]
     },
     "execution_count": 112,
     "metadata": {},
     "output_type": "execute_result"
    }
   ],
   "source": [
    "from sklearn.model_selection import TimeSeriesSplit\n",
    "\n",
    "tscv = TimeSeriesSplit(n_splits=5)\n",
    "tscv"
   ]
  },
  {
   "cell_type": "code",
   "execution_count": 113,
   "id": "1829eae3-b64e-42b9-ac4e-c9a0b7740d42",
   "metadata": {
    "tags": []
   },
   "outputs": [],
   "source": [
    "def zscore(series):\n",
    "    return (series - series.mean()) / series.std()"
   ]
  },
  {
   "cell_type": "code",
   "execution_count": 15,
   "id": "947bc179-3b18-4599-94f9-563a283fead8",
   "metadata": {
    "tags": []
   },
   "outputs": [],
   "source": [
    "import statsmodels.api as sm\n",
    "import statsmodels.tsa.stattools as ts\n",
    "def get_info_fold(train_data):\n",
    "    x = train_data[\"XLU\"]\n",
    "    y = train_data[\"XLE\"]\n",
    "    x = sm.add_constant(x)\n",
    "    results = sm.OLS(y, x).fit()\n",
    "    x = x[\"XLU\"]\n",
    "    b = results.params[\"XLU\"]\n",
    "\n",
    "    spread = y - x * b\n",
    "    result = ts.adfuller(spread)\n",
    "    print('ADF Statistic: %f' % result[0])\n",
    "    \n",
    "    x = spread.shift().dropna()\n",
    "    y = spread - spread.shift()\n",
    "    y = y.dropna()\n",
    "    x = sm.add_constant(x)\n",
    "    results = sm.OLS(y, x).fit()\n",
    "    halflife = -math.log(2) / results.params[0]\n",
    "    print('Halflife: %f' % halflife)"
   ]
  },
  {
   "cell_type": "markdown",
   "id": "d651aedd-2c1e-4e27-a4b7-d2c116c8d79d",
   "metadata": {},
   "source": [
    "## RUN ALL FOLDS"
   ]
  },
  {
   "cell_type": "code",
   "execution_count": 16,
   "id": "1edbd6c8-2eef-4c5b-8eb1-2434e7d2f77f",
   "metadata": {
    "tags": []
   },
   "outputs": [
    {
     "name": "stdout",
     "output_type": "stream",
     "text": [
      "--- FOLD 0 ---\n",
      "ADF Statistic: -1.315051\n",
      "Halflife: 82.551929\n",
      "--- FOLD 1 ---\n",
      "ADF Statistic: -2.375030\n",
      "Halflife: 87.145427\n",
      "--- FOLD 2 ---\n",
      "ADF Statistic: -2.372884\n",
      "Halflife: 118.079188\n",
      "--- FOLD 3 ---\n",
      "ADF Statistic: -1.792318\n",
      "Halflife: 180.562308\n",
      "--- FOLD 4 ---\n",
      "ADF Statistic: -2.238871\n",
      "Halflife: 154.170800\n"
     ]
    }
   ],
   "source": [
    "for i, (train_index, validation_index) in enumerate(tscv.split(train_dataset)):\n",
    "    train_data, validation_data = train_dataset.iloc[train_index], train_dataset.iloc[validation_index]\n",
    "    print(f'--- FOLD {i} ---')\n",
    "    get_info_fold(train_data)"
   ]
  },
  {
   "cell_type": "markdown",
   "id": "ae87f520-cf7c-45a0-a94f-b4fe06ea155b",
   "metadata": {},
   "source": [
    "## RUN for each fold"
   ]
  },
  {
   "cell_type": "code",
   "execution_count": 115,
   "id": "11f54c4e-be74-474f-8ee2-a2b4c4acd12f",
   "metadata": {
    "tags": []
   },
   "outputs": [],
   "source": [
    "last_fold =  list(tscv.split(train_dataset))[-1]\n",
    "(train_index, validation_index) = last_fold\n",
    "train_data, validation_data = train_dataset.iloc[train_index], train_dataset.iloc[validation_index]"
   ]
  },
  {
   "cell_type": "markdown",
   "id": "78c2fd5e-a007-4f1b-a364-eb6b80381160",
   "metadata": {},
   "source": [
    "# Augmented Dickey-Fuller (ADF) test"
   ]
  },
  {
   "cell_type": "code",
   "execution_count": 121,
   "id": "d2126b3a-7041-448b-bab5-bb90ff90dcf0",
   "metadata": {
    "tags": []
   },
   "outputs": [
    {
     "data": {
      "image/png": "[encoded data removed]",
      "text/plain": [
       "<Figure size 640x480 with 1 Axes>"
      ]
     },
     "metadata": {},
     "output_type": "display_data"
    }
   ],
   "source": [
    "import statsmodels.api as sm\n",
    "\n",
    "x = train_data[\"IYE\"]\n",
    "y = train_data[\"VDE\"]\n",
    "x = sm.add_constant(x)\n",
    "results = sm.OLS(y, x).fit()\n",
    "x = x[\"IYE\"]\n",
    "b = results.params[\"IYE\"]\n",
    "\n",
    "spread = y - x * b\n",
    "spread.plot()\n",
    "plt.axhline(spread.mean(), color=\"black\")\n",
    "plt.legend([\"Spread\"]);"
   ]
  },
  {
   "cell_type": "code",
   "execution_count": 122,
   "id": "2e28aa04-fe9e-44d1-bb9c-0d830b3b1a1f",
   "metadata": {
    "tags": []
   },
   "outputs": [
    {
     "data": {
      "image/png": "[encoded data removed]",
      "text/plain": [
       "<Figure size 640x480 with 1 Axes>"
      ]
     },
     "metadata": {},
     "output_type": "display_data"
    }
   ],
   "source": [
    "zscore_spread = zscore(spread)\n",
    "zscore_spread.plot()\n",
    "plt.axhline(zscore_spread.mean(), color=\"black\")\n",
    "plt.axhline(1.0, color=\"red\", linestyle=\"--\")\n",
    "plt.axhline(-1.0, color=\"green\", linestyle=\"--\")\n",
    "plt.legend([\"Spread z-score\", \"Mean\", \"+1\", \"-1\"]);"
   ]
  },
  {
   "cell_type": "code",
   "execution_count": 123,
   "id": "2ab7bd15-7a84-41ca-a8d5-e5fee11667b3",
   "metadata": {
    "tags": []
   },
   "outputs": [
    {
     "name": "stdout",
     "output_type": "stream",
     "text": [
      "ADF Statistic: -2.489886\n",
      "p-value: 0.117955\n",
      "Critical Values:\n",
      "\t1%: -3.433\n",
      "\t5%: -2.863\n",
      "\t10%: -2.567\n"
     ]
    }
   ],
   "source": [
    "import statsmodels.tsa.stattools as ts\n",
    "\n",
    "result = ts.adfuller(spread)\n",
    "print('ADF Statistic: %f' % result[0])\n",
    "print('p-value: %f' % result[1])\n",
    "print('Critical Values:')\n",
    "for key, value in result[4].items():\n",
    "    print('\\t%s: %.3f' % (key, value))"
   ]
  },
  {
   "cell_type": "code",
   "execution_count": 25,
   "id": "f4338aaf-8bec-4b65-a4c5-cfd61e552c56",
   "metadata": {
    "tags": []
   },
   "outputs": [
    {
     "data": {
      "text/plain": [
       "datetime\n",
       "2010-01-04    55.284240\n",
       "2010-01-05    55.806213\n",
       "2010-01-06    56.495794\n",
       "2010-01-07    56.421676\n",
       "2010-01-08    56.815079\n",
       "                ...    \n",
       "2019-02-08    56.623580\n",
       "2019-02-11    56.925849\n",
       "2019-02-12    57.711102\n",
       "2019-02-13    58.529252\n",
       "2019-02-14    58.769462\n",
       "Length: 2295, dtype: float64"
      ]
     },
     "execution_count": 25,
     "metadata": {},
     "output_type": "execute_result"
    }
   ],
   "source": [
    "spread"
   ]
  },
  {
   "cell_type": "code",
   "execution_count": 22,
   "id": "d095d5c0-4163-4a4d-b9a3-47fd64e09d85",
   "metadata": {
    "tags": []
   },
   "outputs": [
    {
     "data": {
      "text/plain": [
       "datetime\n",
       "2010-01-05    55.284240\n",
       "2010-01-06    55.806213\n",
       "2010-01-07    56.495794\n",
       "2010-01-08    56.421676\n",
       "2010-01-11    56.815079\n",
       "                ...    \n",
       "2019-02-08    56.940806\n",
       "2019-02-11    56.623580\n",
       "2019-02-12    56.925849\n",
       "2019-02-13    57.711102\n",
       "2019-02-14    58.529252\n",
       "Length: 2294, dtype: float64"
      ]
     },
     "execution_count": 22,
     "metadata": {},
     "output_type": "execute_result"
    }
   ],
   "source": [
    "spread.shift().dropna()"
   ]
  },
  {
   "cell_type": "code",
   "execution_count": 26,
   "id": "a41d9e31-2456-4eb5-a83a-b3a01e693d10",
   "metadata": {
    "tags": []
   },
   "outputs": [],
   "source": [
    "x = spread.shift().dropna()\n",
    "y = spread - spread.shift()\n",
    "y = y.dropna()\n",
    "x = sm.add_constant(x)\n",
    "results = sm.OLS(y, x).fit()"
   ]
  },
  {
   "cell_type": "code",
   "execution_count": 27,
   "id": "655f07ef-b39e-4224-9fdc-02812a7c4d22",
   "metadata": {
    "tags": []
   },
   "outputs": [
    {
     "data": {
      "text/plain": [
       "154.17080036255135"
      ]
     },
     "execution_count": 27,
     "metadata": {},
     "output_type": "execute_result"
    }
   ],
   "source": [
    "halflife = -math.log(2) / results.params[0]\n",
    "halflife"
   ]
  },
  {
   "cell_type": "code",
   "execution_count": 28,
   "id": "f3e92ae3-f6f7-41b8-866b-db682da412ab",
   "metadata": {
    "tags": []
   },
   "outputs": [],
   "source": [
    "price = validation_data"
   ]
  },
  {
   "cell_type": "code",
   "execution_count": 29,
   "id": "cc9d484f-4c58-4487-aa56-46c3003b64b5",
   "metadata": {
    "tags": []
   },
   "outputs": [
    {
     "data": {
      "text/html": [
       "<div>\n",
       "<style scoped>\n",
       "    .dataframe tbody tr th:only-of-type {\n",
       "        vertical-align: middle;\n",
       "    }\n",
       "\n",
       "    .dataframe tbody tr th {\n",
       "        vertical-align: top;\n",
       "    }\n",
       "\n",
       "    .dataframe thead th {\n",
       "        text-align: right;\n",
       "    }\n",
       "</style>\n",
       "<table border=\"1\" class=\"dataframe\">\n",
       "  <thead>\n",
       "    <tr style=\"text-align: right;\">\n",
       "      <th></th>\n",
       "      <th>XLE</th>\n",
       "      <th>XLU</th>\n",
       "    </tr>\n",
       "    <tr>\n",
       "      <th>datetime</th>\n",
       "      <th></th>\n",
       "      <th></th>\n",
       "    </tr>\n",
       "  </thead>\n",
       "  <tbody>\n",
       "    <tr>\n",
       "      <th>2019-02-15</th>\n",
       "      <td>66.12</td>\n",
       "      <td>55.71</td>\n",
       "    </tr>\n",
       "    <tr>\n",
       "      <th>2019-02-19</th>\n",
       "      <td>66.32</td>\n",
       "      <td>56.04</td>\n",
       "    </tr>\n",
       "    <tr>\n",
       "      <th>2019-02-20</th>\n",
       "      <td>66.60</td>\n",
       "      <td>56.29</td>\n",
       "    </tr>\n",
       "    <tr>\n",
       "      <th>2019-02-21</th>\n",
       "      <td>65.57</td>\n",
       "      <td>56.70</td>\n",
       "    </tr>\n",
       "    <tr>\n",
       "      <th>2019-02-22</th>\n",
       "      <td>65.76</td>\n",
       "      <td>57.05</td>\n",
       "    </tr>\n",
       "    <tr>\n",
       "      <th>...</th>\n",
       "      <td>...</td>\n",
       "      <td>...</td>\n",
       "    </tr>\n",
       "    <tr>\n",
       "      <th>2020-12-03</th>\n",
       "      <td>38.53</td>\n",
       "      <td>63.04</td>\n",
       "    </tr>\n",
       "    <tr>\n",
       "      <th>2020-12-04</th>\n",
       "      <td>40.63</td>\n",
       "      <td>62.41</td>\n",
       "    </tr>\n",
       "    <tr>\n",
       "      <th>2020-12-07</th>\n",
       "      <td>39.68</td>\n",
       "      <td>62.76</td>\n",
       "    </tr>\n",
       "    <tr>\n",
       "      <th>2020-12-08</th>\n",
       "      <td>40.27</td>\n",
       "      <td>62.57</td>\n",
       "    </tr>\n",
       "    <tr>\n",
       "      <th>2020-12-09</th>\n",
       "      <td>40.36</td>\n",
       "      <td>62.46</td>\n",
       "    </tr>\n",
       "  </tbody>\n",
       "</table>\n",
       "<p>459 rows × 2 columns</p>\n",
       "</div>"
      ],
      "text/plain": [
       "              XLE    XLU\n",
       "datetime                \n",
       "2019-02-15  66.12  55.71\n",
       "2019-02-19  66.32  56.04\n",
       "2019-02-20  66.60  56.29\n",
       "2019-02-21  65.57  56.70\n",
       "2019-02-22  65.76  57.05\n",
       "...           ...    ...\n",
       "2020-12-03  38.53  63.04\n",
       "2020-12-04  40.63  62.41\n",
       "2020-12-07  39.68  62.76\n",
       "2020-12-08  40.27  62.57\n",
       "2020-12-09  40.36  62.46\n",
       "\n",
       "[459 rows x 2 columns]"
      ]
     },
     "execution_count": 29,
     "metadata": {},
     "output_type": "execute_result"
    }
   ],
   "source": [
    "price"
   ]
  },
  {
   "cell_type": "code",
   "execution_count": 30,
   "id": "deeb5f00-f1f1-484f-88d8-e5ef634a1c59",
   "metadata": {
    "tags": []
   },
   "outputs": [
    {
     "data": {
      "text/html": [
       "<div>\n",
       "<style scoped>\n",
       "    .dataframe tbody tr th:only-of-type {\n",
       "        vertical-align: middle;\n",
       "    }\n",
       "\n",
       "    .dataframe tbody tr th {\n",
       "        vertical-align: top;\n",
       "    }\n",
       "\n",
       "    .dataframe thead th {\n",
       "        text-align: right;\n",
       "    }\n",
       "</style>\n",
       "<table border=\"1\" class=\"dataframe\">\n",
       "  <thead>\n",
       "    <tr style=\"text-align: right;\">\n",
       "      <th></th>\n",
       "      <th>XLE</th>\n",
       "      <th>XLU</th>\n",
       "    </tr>\n",
       "    <tr>\n",
       "      <th>datetime</th>\n",
       "      <th></th>\n",
       "      <th></th>\n",
       "    </tr>\n",
       "  </thead>\n",
       "  <tbody>\n",
       "    <tr>\n",
       "      <th>2019-02-15</th>\n",
       "      <td>1</td>\n",
       "      <td>-0.113441</td>\n",
       "    </tr>\n",
       "    <tr>\n",
       "      <th>2019-02-19</th>\n",
       "      <td>1</td>\n",
       "      <td>-0.113441</td>\n",
       "    </tr>\n",
       "    <tr>\n",
       "      <th>2019-02-20</th>\n",
       "      <td>1</td>\n",
       "      <td>-0.113441</td>\n",
       "    </tr>\n",
       "    <tr>\n",
       "      <th>2019-02-21</th>\n",
       "      <td>1</td>\n",
       "      <td>-0.113441</td>\n",
       "    </tr>\n",
       "    <tr>\n",
       "      <th>2019-02-22</th>\n",
       "      <td>1</td>\n",
       "      <td>-0.113441</td>\n",
       "    </tr>\n",
       "    <tr>\n",
       "      <th>...</th>\n",
       "      <td>...</td>\n",
       "      <td>...</td>\n",
       "    </tr>\n",
       "    <tr>\n",
       "      <th>2020-12-03</th>\n",
       "      <td>1</td>\n",
       "      <td>-0.113441</td>\n",
       "    </tr>\n",
       "    <tr>\n",
       "      <th>2020-12-04</th>\n",
       "      <td>1</td>\n",
       "      <td>-0.113441</td>\n",
       "    </tr>\n",
       "    <tr>\n",
       "      <th>2020-12-07</th>\n",
       "      <td>1</td>\n",
       "      <td>-0.113441</td>\n",
       "    </tr>\n",
       "    <tr>\n",
       "      <th>2020-12-08</th>\n",
       "      <td>1</td>\n",
       "      <td>-0.113441</td>\n",
       "    </tr>\n",
       "    <tr>\n",
       "      <th>2020-12-09</th>\n",
       "      <td>1</td>\n",
       "      <td>-0.113441</td>\n",
       "    </tr>\n",
       "  </tbody>\n",
       "</table>\n",
       "<p>459 rows × 2 columns</p>\n",
       "</div>"
      ],
      "text/plain": [
       "            XLE       XLU\n",
       "datetime                 \n",
       "2019-02-15    1 -0.113441\n",
       "2019-02-19    1 -0.113441\n",
       "2019-02-20    1 -0.113441\n",
       "2019-02-21    1 -0.113441\n",
       "2019-02-22    1 -0.113441\n",
       "...         ...       ...\n",
       "2020-12-03    1 -0.113441\n",
       "2020-12-04    1 -0.113441\n",
       "2020-12-07    1 -0.113441\n",
       "2020-12-08    1 -0.113441\n",
       "2020-12-09    1 -0.113441\n",
       "\n",
       "[459 rows x 2 columns]"
      ]
     },
     "execution_count": 30,
     "metadata": {},
     "output_type": "execute_result"
    }
   ],
   "source": [
    "weights = pd.DataFrame({\n",
    "    \"XLE\": [1] * len(price),\n",
    "    \"XLU\": [-b] * len(price)\n",
    "}, index=price.index)\n",
    "weights"
   ]
  },
  {
   "cell_type": "code",
   "execution_count": 31,
   "id": "251af2d8-649c-454e-b337-76f65f4d4577",
   "metadata": {
    "tags": []
   },
   "outputs": [
    {
     "data": {
      "text/plain": [
       "datetime\n",
       "2019-02-15    59.800177\n",
       "2019-02-19    59.962741\n",
       "2019-02-20    60.214381\n",
       "2019-02-21    59.137870\n",
       "2019-02-22    59.288165\n",
       "                ...    \n",
       "2020-12-03    31.378651\n",
       "2020-12-04    33.550119\n",
       "2020-12-07    32.560415\n",
       "2020-12-08    33.171969\n",
       "2020-12-09    33.274447\n",
       "Length: 459, dtype: float64"
      ]
     },
     "execution_count": 31,
     "metadata": {},
     "output_type": "execute_result"
    }
   ],
   "source": [
    "spread = (price * weights).sum(axis=1)\n",
    "spread"
   ]
  },
  {
   "cell_type": "code",
   "execution_count": 32,
   "id": "9aecb406-8128-4fc6-8fb6-22452303470b",
   "metadata": {
    "tags": []
   },
   "outputs": [
    {
     "data": {
      "text/plain": [
       "154"
      ]
     },
     "execution_count": 32,
     "metadata": {},
     "output_type": "execute_result"
    }
   ],
   "source": [
    "lookback = round(halflife)\n",
    "lookback"
   ]
  },
  {
   "cell_type": "code",
   "execution_count": 84,
   "id": "3ce18690-1537-48b4-b943-ca8d9b1b853b",
   "metadata": {
    "tags": []
   },
   "outputs": [
    {
     "data": {
      "text/plain": [
       "datetime\n",
       "2019-02-15         NaN\n",
       "2019-02-19         NaN\n",
       "2019-02-20         NaN\n",
       "2019-02-21         NaN\n",
       "2019-02-22         NaN\n",
       "                ...   \n",
       "2020-12-03   -0.743502\n",
       "2020-12-04   -1.266463\n",
       "2020-12-07   -1.021977\n",
       "2020-12-08   -1.164321\n",
       "2020-12-09   -1.184846\n",
       "Length: 459, dtype: float64"
      ]
     },
     "execution_count": 84,
     "metadata": {},
     "output_type": "execute_result"
    }
   ],
   "source": [
    "num_units = -(spread - spread.rolling(lookback).mean()) / (spread.rolling(lookback).std())\n",
    "num_units"
   ]
  },
  {
   "cell_type": "code",
   "execution_count": 31,
   "id": "88c8310a-4fc9-491f-8d93-9588e5adbf5b",
   "metadata": {
    "tags": []
   },
   "outputs": [
    {
     "data": {
      "text/plain": [
       "count    2142.000000\n",
       "mean       -0.211652\n",
       "std         1.425588\n",
       "min        -3.470163\n",
       "25%        -1.284161\n",
       "50%        -0.453529\n",
       "75%         0.875079\n",
       "max         3.698457\n",
       "dtype: float64"
      ]
     },
     "execution_count": 31,
     "metadata": {},
     "output_type": "execute_result"
    }
   ],
   "source": [
    "num_units.describe()"
   ]
  },
  {
   "cell_type": "code",
   "execution_count": 32,
   "id": "6fab5d30-1f73-4e79-aef9-0a56070261c9",
   "metadata": {
    "tags": []
   },
   "outputs": [
    {
     "data": {
      "text/plain": [
       "<Axes: xlabel='datetime'>"
      ]
     },
     "execution_count": 32,
     "metadata": {},
     "output_type": "execute_result"
    },
    {
     "data": {
      "image/png": "[encoded data removed]",
      "text/plain": [
       "<Figure size 640x480 with 1 Axes>"
      ]
     },
     "metadata": {},
     "output_type": "display_data"
    }
   ],
   "source": [
    "num_units.plot()"
   ]
  },
  {
   "cell_type": "code",
   "execution_count": 33,
   "id": "004cc061-cd52-408d-a7d5-0e5021bed957",
   "metadata": {
    "tags": []
   },
   "outputs": [
    {
     "data": {
      "text/html": [
       "<div>\n",
       "<style scoped>\n",
       "    .dataframe tbody tr th:only-of-type {\n",
       "        vertical-align: middle;\n",
       "    }\n",
       "\n",
       "    .dataframe tbody tr th {\n",
       "        vertical-align: top;\n",
       "    }\n",
       "\n",
       "    .dataframe thead th {\n",
       "        text-align: right;\n",
       "    }\n",
       "</style>\n",
       "<table border=\"1\" class=\"dataframe\">\n",
       "  <thead>\n",
       "    <tr style=\"text-align: right;\">\n",
       "      <th></th>\n",
       "      <th>XLE</th>\n",
       "      <th>XLU</th>\n",
       "    </tr>\n",
       "    <tr>\n",
       "      <th>datetime</th>\n",
       "      <th></th>\n",
       "      <th></th>\n",
       "    </tr>\n",
       "  </thead>\n",
       "  <tbody>\n",
       "    <tr>\n",
       "      <th>2010-01-04</th>\n",
       "      <td>NaN</td>\n",
       "      <td>NaN</td>\n",
       "    </tr>\n",
       "    <tr>\n",
       "      <th>2010-01-05</th>\n",
       "      <td>NaN</td>\n",
       "      <td>NaN</td>\n",
       "    </tr>\n",
       "    <tr>\n",
       "      <th>2010-01-06</th>\n",
       "      <td>NaN</td>\n",
       "      <td>NaN</td>\n",
       "    </tr>\n",
       "    <tr>\n",
       "      <th>2010-01-07</th>\n",
       "      <td>NaN</td>\n",
       "      <td>NaN</td>\n",
       "    </tr>\n",
       "    <tr>\n",
       "      <th>2010-01-08</th>\n",
       "      <td>NaN</td>\n",
       "      <td>NaN</td>\n",
       "    </tr>\n",
       "    <tr>\n",
       "      <th>...</th>\n",
       "      <td>...</td>\n",
       "      <td>...</td>\n",
       "    </tr>\n",
       "    <tr>\n",
       "      <th>2019-02-08</th>\n",
       "      <td>67.479091</td>\n",
       "      <td>-6.771946</td>\n",
       "    </tr>\n",
       "    <tr>\n",
       "      <th>2019-02-11</th>\n",
       "      <td>63.937212</td>\n",
       "      <td>-6.383764</td>\n",
       "    </tr>\n",
       "    <tr>\n",
       "      <th>2019-02-12</th>\n",
       "      <td>56.042019</td>\n",
       "      <td>-5.538480</td>\n",
       "    </tr>\n",
       "    <tr>\n",
       "      <th>2019-02-13</th>\n",
       "      <td>47.674431</td>\n",
       "      <td>-4.640057</td>\n",
       "    </tr>\n",
       "    <tr>\n",
       "      <th>2019-02-14</th>\n",
       "      <td>44.728549</td>\n",
       "      <td>-4.330935</td>\n",
       "    </tr>\n",
       "  </tbody>\n",
       "</table>\n",
       "<p>2295 rows × 2 columns</p>\n",
       "</div>"
      ],
      "text/plain": [
       "                  XLE       XLU\n",
       "datetime                       \n",
       "2010-01-04        NaN       NaN\n",
       "2010-01-05        NaN       NaN\n",
       "2010-01-06        NaN       NaN\n",
       "2010-01-07        NaN       NaN\n",
       "2010-01-08        NaN       NaN\n",
       "...               ...       ...\n",
       "2019-02-08  67.479091 -6.771946\n",
       "2019-02-11  63.937212 -6.383764\n",
       "2019-02-12  56.042019 -5.538480\n",
       "2019-02-13  47.674431 -4.640057\n",
       "2019-02-14  44.728549 -4.330935\n",
       "\n",
       "[2295 rows x 2 columns]"
      ]
     },
     "execution_count": 33,
     "metadata": {},
     "output_type": "execute_result"
    }
   ],
   "source": [
    "positions = weights.mul(num_units, axis=0) * price\n",
    "positions"
   ]
  },
  {
   "cell_type": "code",
   "execution_count": 34,
   "id": "d01b4527-05af-46ed-88c6-7be99e9b97e0",
   "metadata": {
    "tags": []
   },
   "outputs": [
    {
     "data": {
      "text/plain": [
       "<Axes: xlabel='datetime'>"
      ]
     },
     "execution_count": 34,
     "metadata": {},
     "output_type": "execute_result"
    },
    {
     "data": {
      "image/png": "[encoded data removed]",
      "text/plain": [
       "<Figure size 640x480 with 1 Axes>"
      ]
     },
     "metadata": {},
     "output_type": "display_data"
    }
   ],
   "source": [
    "positions.sum(axis=1).abs().plot()"
   ]
  },
  {
   "cell_type": "code",
   "execution_count": 35,
   "id": "8485989d-3383-4fa1-9618-191feacdbd76",
   "metadata": {
    "tags": []
   },
   "outputs": [],
   "source": [
    "pnl = positions.shift(1) * (price - price.shift(1)) / price.shift(1)\n",
    "pnl = pnl.sum(axis=1)"
   ]
  },
  {
   "cell_type": "code",
   "execution_count": 36,
   "id": "4d00573a-58f1-4fc0-9501-8e14235e1221",
   "metadata": {
    "tags": []
   },
   "outputs": [
    {
     "data": {
      "text/plain": [
       "count    2295.000000\n",
       "mean       -0.004476\n",
       "std         1.456732\n",
       "min       -11.740450\n",
       "25%        -0.461102\n",
       "50%         0.000000\n",
       "75%         0.406479\n",
       "max        11.300673\n",
       "dtype: float64"
      ]
     },
     "execution_count": 36,
     "metadata": {},
     "output_type": "execute_result"
    }
   ],
   "source": [
    "pnl.describe()"
   ]
  },
  {
   "cell_type": "code",
   "execution_count": 37,
   "id": "5b6602df-7b1e-4497-9d53-a804c3a3ac3b",
   "metadata": {
    "tags": []
   },
   "outputs": [
    {
     "data": {
      "text/plain": [
       "datetime\n",
       "2010-01-04         NaN\n",
       "2010-01-05         NaN\n",
       "2010-01-06         NaN\n",
       "2010-01-07         NaN\n",
       "2010-01-08         NaN\n",
       "                ...   \n",
       "2019-02-08   -0.005571\n",
       "2019-02-11    0.005338\n",
       "2019-02-12    0.013794\n",
       "2019-02-13    0.014177\n",
       "2019-02-14    0.004104\n",
       "Length: 2295, dtype: float64"
      ]
     },
     "execution_count": 37,
     "metadata": {},
     "output_type": "execute_result"
    }
   ],
   "source": [
    "ret = pnl / positions.shift(1).sum(axis=1).abs()\n",
    "ret"
   ]
  },
  {
   "cell_type": "code",
   "execution_count": 38,
   "id": "2248f0c6-18b8-46d7-acec-fcb64906abb1",
   "metadata": {
    "tags": []
   },
   "outputs": [
    {
     "data": {
      "text/plain": [
       "count    2141.000000\n",
       "mean       -0.000009\n",
       "std         0.014390\n",
       "min        -0.086859\n",
       "25%        -0.007767\n",
       "50%        -0.000141\n",
       "75%         0.007269\n",
       "max         0.068150\n",
       "dtype: float64"
      ]
     },
     "execution_count": 38,
     "metadata": {},
     "output_type": "execute_result"
    }
   ],
   "source": [
    "ret.describe()"
   ]
  },
  {
   "cell_type": "code",
   "execution_count": 39,
   "id": "98cb0843-fef8-4fa5-bdf1-1f54fab0bd8e",
   "metadata": {
    "tags": []
   },
   "outputs": [
    {
     "data": {
      "text/plain": [
       "<Axes: xlabel='datetime'>"
      ]
     },
     "execution_count": 39,
     "metadata": {},
     "output_type": "execute_result"
    },
    {
     "data": {
      "image/png": "[encoded data removed]",
      "text/plain": [
       "<Figure size 640x480 with 1 Axes>"
      ]
     },
     "metadata": {},
     "output_type": "display_data"
    }
   ],
   "source": [
    "ret.cumsum().plot()"
   ]
  },
  {
   "cell_type": "code",
   "execution_count": 40,
   "id": "011d0654-4918-47a0-b15d-0d5afcb50b93",
   "metadata": {
    "tags": []
   },
   "outputs": [
    {
     "data": {
      "text/plain": [
       "-0.009420781186506523"
      ]
     },
     "execution_count": 40,
     "metadata": {},
     "output_type": "execute_result"
    }
   ],
   "source": [
    "sharp_ratio = math.sqrt(252)*ret.mean()/ret.std()\n",
    "sharp_ratio"
   ]
  },
  {
   "cell_type": "code",
   "execution_count": 41,
   "id": "4fd53afd-096b-405a-9617-481561c77d07",
   "metadata": {
    "tags": []
   },
   "outputs": [
    {
     "data": {
      "text/html": [
       "<div>\n",
       "<style scoped>\n",
       "    .dataframe tbody tr th:only-of-type {\n",
       "        vertical-align: middle;\n",
       "    }\n",
       "\n",
       "    .dataframe tbody tr th {\n",
       "        vertical-align: top;\n",
       "    }\n",
       "\n",
       "    .dataframe thead th {\n",
       "        text-align: right;\n",
       "    }\n",
       "</style>\n",
       "<table border=\"1\" class=\"dataframe\">\n",
       "  <thead>\n",
       "    <tr style=\"text-align: right;\">\n",
       "      <th></th>\n",
       "      <th>ret</th>\n",
       "      <th>lagged_ret</th>\n",
       "      <th>high_watermark_index</th>\n",
       "    </tr>\n",
       "    <tr>\n",
       "      <th>datetime</th>\n",
       "      <th></th>\n",
       "      <th></th>\n",
       "      <th></th>\n",
       "    </tr>\n",
       "  </thead>\n",
       "  <tbody>\n",
       "    <tr>\n",
       "      <th>2010-08-13</th>\n",
       "      <td>-0.002051</td>\n",
       "      <td>0.000000</td>\n",
       "      <td>2010-08-13</td>\n",
       "    </tr>\n",
       "    <tr>\n",
       "      <th>2010-08-16</th>\n",
       "      <td>-0.002251</td>\n",
       "      <td>-0.002051</td>\n",
       "      <td>2010-08-16</td>\n",
       "    </tr>\n",
       "    <tr>\n",
       "      <th>2010-08-17</th>\n",
       "      <td>0.014917</td>\n",
       "      <td>-0.002251</td>\n",
       "      <td>2010-08-17</td>\n",
       "    </tr>\n",
       "    <tr>\n",
       "      <th>2010-08-18</th>\n",
       "      <td>0.005044</td>\n",
       "      <td>0.014917</td>\n",
       "      <td>2010-08-18</td>\n",
       "    </tr>\n",
       "    <tr>\n",
       "      <th>2010-08-19</th>\n",
       "      <td>-0.011289</td>\n",
       "      <td>0.005044</td>\n",
       "      <td>2010-08-19</td>\n",
       "    </tr>\n",
       "    <tr>\n",
       "      <th>...</th>\n",
       "      <td>...</td>\n",
       "      <td>...</td>\n",
       "      <td>...</td>\n",
       "    </tr>\n",
       "    <tr>\n",
       "      <th>2019-02-08</th>\n",
       "      <td>-0.055697</td>\n",
       "      <td>-0.050126</td>\n",
       "      <td>2019-02-08</td>\n",
       "    </tr>\n",
       "    <tr>\n",
       "      <th>2019-02-11</th>\n",
       "      <td>-0.050359</td>\n",
       "      <td>-0.055697</td>\n",
       "      <td>2019-02-11</td>\n",
       "    </tr>\n",
       "    <tr>\n",
       "      <th>2019-02-12</th>\n",
       "      <td>-0.036565</td>\n",
       "      <td>-0.050359</td>\n",
       "      <td>2019-02-12</td>\n",
       "    </tr>\n",
       "    <tr>\n",
       "      <th>2019-02-13</th>\n",
       "      <td>-0.022388</td>\n",
       "      <td>-0.036565</td>\n",
       "      <td>2019-02-13</td>\n",
       "    </tr>\n",
       "    <tr>\n",
       "      <th>2019-02-14</th>\n",
       "      <td>-0.018284</td>\n",
       "      <td>-0.022388</td>\n",
       "      <td>2019-02-14</td>\n",
       "    </tr>\n",
       "  </tbody>\n",
       "</table>\n",
       "<p>2141 rows × 3 columns</p>\n",
       "</div>"
      ],
      "text/plain": [
       "                 ret  lagged_ret high_watermark_index\n",
       "datetime                                             \n",
       "2010-08-13 -0.002051    0.000000           2010-08-13\n",
       "2010-08-16 -0.002251   -0.002051           2010-08-16\n",
       "2010-08-17  0.014917   -0.002251           2010-08-17\n",
       "2010-08-18  0.005044    0.014917           2010-08-18\n",
       "2010-08-19 -0.011289    0.005044           2010-08-19\n",
       "...              ...         ...                  ...\n",
       "2019-02-08 -0.055697   -0.050126           2019-02-08\n",
       "2019-02-11 -0.050359   -0.055697           2019-02-11\n",
       "2019-02-12 -0.036565   -0.050359           2019-02-12\n",
       "2019-02-13 -0.022388   -0.036565           2019-02-13\n",
       "2019-02-14 -0.018284   -0.022388           2019-02-14\n",
       "\n",
       "[2141 rows x 3 columns]"
      ]
     },
     "execution_count": 41,
     "metadata": {},
     "output_type": "execute_result"
    }
   ],
   "source": [
    "term = pd.DataFrame({\n",
    "    \"ret\": ret.cumsum().dropna(),\n",
    "    'lagged_ret': ret.cumsum().dropna().shift(1),\n",
    "    'high_watermark_index': ret.cumsum().dropna().index\n",
    "})\n",
    "term['lagged_ret'] = term['lagged_ret'].fillna(0)\n",
    "term"
   ]
  },
  {
   "cell_type": "code",
   "execution_count": 42,
   "id": "1f127290-ee83-45f8-a36b-56e0770be68e",
   "metadata": {
    "tags": []
   },
   "outputs": [],
   "source": [
    "highest_watermark_index = term.iloc[0]['high_watermark_index']\n",
    "for d in term.index:\n",
    "    row = term.loc[d]\n",
    "    if row['ret'] >= term.loc[highest_watermark_index]['ret']:\n",
    "        highest_watermark_index = d\n",
    "    term.loc[d, 'high_watermark_index']= highest_watermark_index"
   ]
  },
  {
   "cell_type": "code",
   "execution_count": 43,
   "id": "d158de7e-7112-4370-be3f-92fdfd83d201",
   "metadata": {
    "tags": []
   },
   "outputs": [
    {
     "data": {
      "text/html": [
       "<div>\n",
       "<style scoped>\n",
       "    .dataframe tbody tr th:only-of-type {\n",
       "        vertical-align: middle;\n",
       "    }\n",
       "\n",
       "    .dataframe tbody tr th {\n",
       "        vertical-align: top;\n",
       "    }\n",
       "\n",
       "    .dataframe thead th {\n",
       "        text-align: right;\n",
       "    }\n",
       "</style>\n",
       "<table border=\"1\" class=\"dataframe\">\n",
       "  <thead>\n",
       "    <tr style=\"text-align: right;\">\n",
       "      <th></th>\n",
       "      <th>ret</th>\n",
       "      <th>lagged_ret</th>\n",
       "      <th>high_watermark_index</th>\n",
       "    </tr>\n",
       "    <tr>\n",
       "      <th>datetime</th>\n",
       "      <th></th>\n",
       "      <th></th>\n",
       "      <th></th>\n",
       "    </tr>\n",
       "  </thead>\n",
       "  <tbody>\n",
       "    <tr>\n",
       "      <th>2010-08-13</th>\n",
       "      <td>-0.002051</td>\n",
       "      <td>0.000000</td>\n",
       "      <td>2010-08-13</td>\n",
       "    </tr>\n",
       "    <tr>\n",
       "      <th>2010-08-16</th>\n",
       "      <td>-0.002251</td>\n",
       "      <td>-0.002051</td>\n",
       "      <td>2010-08-13</td>\n",
       "    </tr>\n",
       "    <tr>\n",
       "      <th>2010-08-17</th>\n",
       "      <td>0.014917</td>\n",
       "      <td>-0.002251</td>\n",
       "      <td>2010-08-17</td>\n",
       "    </tr>\n",
       "    <tr>\n",
       "      <th>2010-08-18</th>\n",
       "      <td>0.005044</td>\n",
       "      <td>0.014917</td>\n",
       "      <td>2010-08-17</td>\n",
       "    </tr>\n",
       "    <tr>\n",
       "      <th>2010-08-19</th>\n",
       "      <td>-0.011289</td>\n",
       "      <td>0.005044</td>\n",
       "      <td>2010-08-17</td>\n",
       "    </tr>\n",
       "    <tr>\n",
       "      <th>...</th>\n",
       "      <td>...</td>\n",
       "      <td>...</td>\n",
       "      <td>...</td>\n",
       "    </tr>\n",
       "    <tr>\n",
       "      <th>2019-02-08</th>\n",
       "      <td>-0.055697</td>\n",
       "      <td>-0.050126</td>\n",
       "      <td>2012-12-28</td>\n",
       "    </tr>\n",
       "    <tr>\n",
       "      <th>2019-02-11</th>\n",
       "      <td>-0.050359</td>\n",
       "      <td>-0.055697</td>\n",
       "      <td>2012-12-28</td>\n",
       "    </tr>\n",
       "    <tr>\n",
       "      <th>2019-02-12</th>\n",
       "      <td>-0.036565</td>\n",
       "      <td>-0.050359</td>\n",
       "      <td>2012-12-28</td>\n",
       "    </tr>\n",
       "    <tr>\n",
       "      <th>2019-02-13</th>\n",
       "      <td>-0.022388</td>\n",
       "      <td>-0.036565</td>\n",
       "      <td>2012-12-28</td>\n",
       "    </tr>\n",
       "    <tr>\n",
       "      <th>2019-02-14</th>\n",
       "      <td>-0.018284</td>\n",
       "      <td>-0.022388</td>\n",
       "      <td>2012-12-28</td>\n",
       "    </tr>\n",
       "  </tbody>\n",
       "</table>\n",
       "<p>2141 rows × 3 columns</p>\n",
       "</div>"
      ],
      "text/plain": [
       "                 ret  lagged_ret high_watermark_index\n",
       "datetime                                             \n",
       "2010-08-13 -0.002051    0.000000           2010-08-13\n",
       "2010-08-16 -0.002251   -0.002051           2010-08-13\n",
       "2010-08-17  0.014917   -0.002251           2010-08-17\n",
       "2010-08-18  0.005044    0.014917           2010-08-17\n",
       "2010-08-19 -0.011289    0.005044           2010-08-17\n",
       "...              ...         ...                  ...\n",
       "2019-02-08 -0.055697   -0.050126           2012-12-28\n",
       "2019-02-11 -0.050359   -0.055697           2012-12-28\n",
       "2019-02-12 -0.036565   -0.050359           2012-12-28\n",
       "2019-02-13 -0.022388   -0.036565           2012-12-28\n",
       "2019-02-14 -0.018284   -0.022388           2012-12-28\n",
       "\n",
       "[2141 rows x 3 columns]"
      ]
     },
     "execution_count": 43,
     "metadata": {},
     "output_type": "execute_result"
    }
   ],
   "source": [
    "term"
   ]
  },
  {
   "cell_type": "code",
   "execution_count": 44,
   "id": "6cdc82c5-39df-4a80-ab2a-78b2535bd965",
   "metadata": {
    "tags": []
   },
   "outputs": [
    {
     "data": {
      "text/html": [
       "<div>\n",
       "<style scoped>\n",
       "    .dataframe tbody tr th:only-of-type {\n",
       "        vertical-align: middle;\n",
       "    }\n",
       "\n",
       "    .dataframe tbody tr th {\n",
       "        vertical-align: top;\n",
       "    }\n",
       "\n",
       "    .dataframe thead th {\n",
       "        text-align: right;\n",
       "    }\n",
       "</style>\n",
       "<table border=\"1\" class=\"dataframe\">\n",
       "  <thead>\n",
       "    <tr style=\"text-align: right;\">\n",
       "      <th></th>\n",
       "      <th>ret</th>\n",
       "      <th>lagged_ret</th>\n",
       "      <th>high_watermark_index</th>\n",
       "      <th>high_watermark_ret</th>\n",
       "      <th>drawdown_deep</th>\n",
       "      <th>drawdown_duration</th>\n",
       "    </tr>\n",
       "    <tr>\n",
       "      <th>datetime</th>\n",
       "      <th></th>\n",
       "      <th></th>\n",
       "      <th></th>\n",
       "      <th></th>\n",
       "      <th></th>\n",
       "      <th></th>\n",
       "    </tr>\n",
       "  </thead>\n",
       "  <tbody>\n",
       "    <tr>\n",
       "      <th>2010-08-13</th>\n",
       "      <td>-0.002051</td>\n",
       "      <td>0.000000</td>\n",
       "      <td>2010-08-13</td>\n",
       "      <td>-0.002051</td>\n",
       "      <td>0.000000</td>\n",
       "      <td>0 days</td>\n",
       "    </tr>\n",
       "    <tr>\n",
       "      <th>2010-08-16</th>\n",
       "      <td>-0.002251</td>\n",
       "      <td>-0.002051</td>\n",
       "      <td>2010-08-13</td>\n",
       "      <td>-0.002051</td>\n",
       "      <td>0.000201</td>\n",
       "      <td>3 days</td>\n",
       "    </tr>\n",
       "    <tr>\n",
       "      <th>2010-08-17</th>\n",
       "      <td>0.014917</td>\n",
       "      <td>-0.002251</td>\n",
       "      <td>2010-08-17</td>\n",
       "      <td>0.014917</td>\n",
       "      <td>0.000000</td>\n",
       "      <td>0 days</td>\n",
       "    </tr>\n",
       "    <tr>\n",
       "      <th>2010-08-18</th>\n",
       "      <td>0.005044</td>\n",
       "      <td>0.014917</td>\n",
       "      <td>2010-08-17</td>\n",
       "      <td>0.014917</td>\n",
       "      <td>0.009873</td>\n",
       "      <td>1 days</td>\n",
       "    </tr>\n",
       "    <tr>\n",
       "      <th>2010-08-19</th>\n",
       "      <td>-0.011289</td>\n",
       "      <td>0.005044</td>\n",
       "      <td>2010-08-17</td>\n",
       "      <td>0.014917</td>\n",
       "      <td>0.026206</td>\n",
       "      <td>2 days</td>\n",
       "    </tr>\n",
       "    <tr>\n",
       "      <th>...</th>\n",
       "      <td>...</td>\n",
       "      <td>...</td>\n",
       "      <td>...</td>\n",
       "      <td>...</td>\n",
       "      <td>...</td>\n",
       "      <td>...</td>\n",
       "    </tr>\n",
       "    <tr>\n",
       "      <th>2019-02-08</th>\n",
       "      <td>-0.055697</td>\n",
       "      <td>-0.050126</td>\n",
       "      <td>2012-12-28</td>\n",
       "      <td>0.325974</td>\n",
       "      <td>0.381671</td>\n",
       "      <td>2233 days</td>\n",
       "    </tr>\n",
       "    <tr>\n",
       "      <th>2019-02-11</th>\n",
       "      <td>-0.050359</td>\n",
       "      <td>-0.055697</td>\n",
       "      <td>2012-12-28</td>\n",
       "      <td>0.325974</td>\n",
       "      <td>0.376333</td>\n",
       "      <td>2236 days</td>\n",
       "    </tr>\n",
       "    <tr>\n",
       "      <th>2019-02-12</th>\n",
       "      <td>-0.036565</td>\n",
       "      <td>-0.050359</td>\n",
       "      <td>2012-12-28</td>\n",
       "      <td>0.325974</td>\n",
       "      <td>0.362538</td>\n",
       "      <td>2237 days</td>\n",
       "    </tr>\n",
       "    <tr>\n",
       "      <th>2019-02-13</th>\n",
       "      <td>-0.022388</td>\n",
       "      <td>-0.036565</td>\n",
       "      <td>2012-12-28</td>\n",
       "      <td>0.325974</td>\n",
       "      <td>0.348362</td>\n",
       "      <td>2238 days</td>\n",
       "    </tr>\n",
       "    <tr>\n",
       "      <th>2019-02-14</th>\n",
       "      <td>-0.018284</td>\n",
       "      <td>-0.022388</td>\n",
       "      <td>2012-12-28</td>\n",
       "      <td>0.325974</td>\n",
       "      <td>0.344258</td>\n",
       "      <td>2239 days</td>\n",
       "    </tr>\n",
       "  </tbody>\n",
       "</table>\n",
       "<p>2141 rows × 6 columns</p>\n",
       "</div>"
      ],
      "text/plain": [
       "                 ret  lagged_ret high_watermark_index  high_watermark_ret  \\\n",
       "datetime                                                                    \n",
       "2010-08-13 -0.002051    0.000000           2010-08-13           -0.002051   \n",
       "2010-08-16 -0.002251   -0.002051           2010-08-13           -0.002051   \n",
       "2010-08-17  0.014917   -0.002251           2010-08-17            0.014917   \n",
       "2010-08-18  0.005044    0.014917           2010-08-17            0.014917   \n",
       "2010-08-19 -0.011289    0.005044           2010-08-17            0.014917   \n",
       "...              ...         ...                  ...                 ...   \n",
       "2019-02-08 -0.055697   -0.050126           2012-12-28            0.325974   \n",
       "2019-02-11 -0.050359   -0.055697           2012-12-28            0.325974   \n",
       "2019-02-12 -0.036565   -0.050359           2012-12-28            0.325974   \n",
       "2019-02-13 -0.022388   -0.036565           2012-12-28            0.325974   \n",
       "2019-02-14 -0.018284   -0.022388           2012-12-28            0.325974   \n",
       "\n",
       "            drawdown_deep drawdown_duration  \n",
       "datetime                                     \n",
       "2010-08-13       0.000000            0 days  \n",
       "2010-08-16       0.000201            3 days  \n",
       "2010-08-17       0.000000            0 days  \n",
       "2010-08-18       0.009873            1 days  \n",
       "2010-08-19       0.026206            2 days  \n",
       "...                   ...               ...  \n",
       "2019-02-08       0.381671         2233 days  \n",
       "2019-02-11       0.376333         2236 days  \n",
       "2019-02-12       0.362538         2237 days  \n",
       "2019-02-13       0.348362         2238 days  \n",
       "2019-02-14       0.344258         2239 days  \n",
       "\n",
       "[2141 rows x 6 columns]"
      ]
     },
     "execution_count": 44,
     "metadata": {},
     "output_type": "execute_result"
    }
   ],
   "source": [
    "term['high_watermark_ret'] = term.apply(lambda x: term.loc[x['high_watermark_index']]['ret'], axis=1)\n",
    "term['drawdown_deep'] = term['high_watermark_ret'] - term['ret']\n",
    "term['drawdown_duration'] = term.index - term['high_watermark_index']\n",
    "term"
   ]
  },
  {
   "cell_type": "code",
   "execution_count": null,
   "id": "ebd494cc-11ba-4574-90f3-2b03f689a107",
   "metadata": {},
   "outputs": [],
   "source": []
  },
  {
   "cell_type": "code",
   "execution_count": 45,
   "id": "5c890999-0b69-4150-bd38-11878f26c84b",
   "metadata": {
    "tags": []
   },
   "outputs": [
    {
     "data": {
      "text/html": [
       "<div>\n",
       "<style scoped>\n",
       "    .dataframe tbody tr th:only-of-type {\n",
       "        vertical-align: middle;\n",
       "    }\n",
       "\n",
       "    .dataframe tbody tr th {\n",
       "        vertical-align: top;\n",
       "    }\n",
       "\n",
       "    .dataframe thead th {\n",
       "        text-align: right;\n",
       "    }\n",
       "</style>\n",
       "<table border=\"1\" class=\"dataframe\">\n",
       "  <thead>\n",
       "    <tr style=\"text-align: right;\">\n",
       "      <th></th>\n",
       "      <th>ret</th>\n",
       "      <th>lagged_ret</th>\n",
       "      <th>high_watermark_index</th>\n",
       "      <th>high_watermark_ret</th>\n",
       "      <th>drawdown_deep</th>\n",
       "      <th>drawdown_duration</th>\n",
       "    </tr>\n",
       "  </thead>\n",
       "  <tbody>\n",
       "    <tr>\n",
       "      <th>count</th>\n",
       "      <td>2141.000000</td>\n",
       "      <td>2141.000000</td>\n",
       "      <td>2141</td>\n",
       "      <td>2141.000000</td>\n",
       "      <td>2141.000000</td>\n",
       "      <td>2141</td>\n",
       "    </tr>\n",
       "    <tr>\n",
       "      <th>mean</th>\n",
       "      <td>-0.009235</td>\n",
       "      <td>-0.009226</td>\n",
       "      <td>2012-07-24 08:17:02.326016</td>\n",
       "      <td>0.266371</td>\n",
       "      <td>0.275605</td>\n",
       "      <td>841 days 22:31:53.498365248</td>\n",
       "    </tr>\n",
       "    <tr>\n",
       "      <th>min</th>\n",
       "      <td>-0.438732</td>\n",
       "      <td>-0.438732</td>\n",
       "      <td>2010-08-13 00:00:00</td>\n",
       "      <td>-0.002051</td>\n",
       "      <td>0.000000</td>\n",
       "      <td>0 days 00:00:00</td>\n",
       "    </tr>\n",
       "    <tr>\n",
       "      <th>25%</th>\n",
       "      <td>-0.135990</td>\n",
       "      <td>-0.135990</td>\n",
       "      <td>2012-08-03 00:00:00</td>\n",
       "      <td>0.268060</td>\n",
       "      <td>0.126743</td>\n",
       "      <td>174 days 00:00:00</td>\n",
       "    </tr>\n",
       "    <tr>\n",
       "      <th>50%</th>\n",
       "      <td>-0.020046</td>\n",
       "      <td>-0.020046</td>\n",
       "      <td>2012-12-28 00:00:00</td>\n",
       "      <td>0.325974</td>\n",
       "      <td>0.294441</td>\n",
       "      <td>684 days 00:00:00</td>\n",
       "    </tr>\n",
       "    <tr>\n",
       "      <th>75%</th>\n",
       "      <td>0.128507</td>\n",
       "      <td>0.128507</td>\n",
       "      <td>2012-12-28 00:00:00</td>\n",
       "      <td>0.325974</td>\n",
       "      <td>0.396094</td>\n",
       "      <td>1461 days 00:00:00</td>\n",
       "    </tr>\n",
       "    <tr>\n",
       "      <th>max</th>\n",
       "      <td>0.325974</td>\n",
       "      <td>0.325974</td>\n",
       "      <td>2012-12-28 00:00:00</td>\n",
       "      <td>0.325974</td>\n",
       "      <td>0.640196</td>\n",
       "      <td>2239 days 00:00:00</td>\n",
       "    </tr>\n",
       "    <tr>\n",
       "      <th>std</th>\n",
       "      <td>0.163159</td>\n",
       "      <td>0.163159</td>\n",
       "      <td>NaN</td>\n",
       "      <td>0.108369</td>\n",
       "      <td>0.160776</td>\n",
       "      <td>710 days 08:04:33.613287824</td>\n",
       "    </tr>\n",
       "  </tbody>\n",
       "</table>\n",
       "</div>"
      ],
      "text/plain": [
       "               ret   lagged_ret        high_watermark_index  \\\n",
       "count  2141.000000  2141.000000                        2141   \n",
       "mean     -0.009235    -0.009226  2012-07-24 08:17:02.326016   \n",
       "min      -0.438732    -0.438732         2010-08-13 00:00:00   \n",
       "25%      -0.135990    -0.135990         2012-08-03 00:00:00   \n",
       "50%      -0.020046    -0.020046         2012-12-28 00:00:00   \n",
       "75%       0.128507     0.128507         2012-12-28 00:00:00   \n",
       "max       0.325974     0.325974         2012-12-28 00:00:00   \n",
       "std       0.163159     0.163159                         NaN   \n",
       "\n",
       "       high_watermark_ret  drawdown_deep            drawdown_duration  \n",
       "count         2141.000000    2141.000000                         2141  \n",
       "mean             0.266371       0.275605  841 days 22:31:53.498365248  \n",
       "min             -0.002051       0.000000              0 days 00:00:00  \n",
       "25%              0.268060       0.126743            174 days 00:00:00  \n",
       "50%              0.325974       0.294441            684 days 00:00:00  \n",
       "75%              0.325974       0.396094           1461 days 00:00:00  \n",
       "max              0.325974       0.640196           2239 days 00:00:00  \n",
       "std              0.108369       0.160776  710 days 08:04:33.613287824  "
      ]
     },
     "execution_count": 45,
     "metadata": {},
     "output_type": "execute_result"
    }
   ],
   "source": [
    "term.describe()"
   ]
  },
  {
   "cell_type": "code",
   "execution_count": 46,
   "id": "8652364e-71b9-45c8-a9a4-c2ba18961be7",
   "metadata": {
    "tags": []
   },
   "outputs": [
    {
     "data": {
      "text/plain": [
       "Timestamp('2018-01-22 00:00:00')"
      ]
     },
     "execution_count": 46,
     "metadata": {},
     "output_type": "execute_result"
    }
   ],
   "source": [
    "term['drawdown_deep'].idxmax()"
   ]
  },
  {
   "cell_type": "code",
   "execution_count": 47,
   "id": "eb440437-c2bf-41e6-b3ff-0e21a1ba7999",
   "metadata": {
    "tags": []
   },
   "outputs": [
    {
     "data": {
      "text/plain": [
       "Timestamp('2019-02-14 00:00:00')"
      ]
     },
     "execution_count": 47,
     "metadata": {},
     "output_type": "execute_result"
    }
   ],
   "source": [
    "term['drawdown_duration'].idxmax()"
   ]
  },
  {
   "cell_type": "code",
   "execution_count": 48,
   "id": "8cb3fc02-09e3-41c8-90c6-bc0d4b0a52e6",
   "metadata": {
    "tags": []
   },
   "outputs": [
    {
     "data": {
      "text/plain": [
       "<Axes: xlabel='datetime'>"
      ]
     },
     "execution_count": 48,
     "metadata": {},
     "output_type": "execute_result"
    },
    {
     "data": {
      "image/png": "[encoded data removed]",
      "text/plain": [
       "<Figure size 640x480 with 1 Axes>"
      ]
     },
     "metadata": {},
     "output_type": "display_data"
    }
   ],
   "source": [
    "term['ret'].plot()"
   ]
  },
  {
   "cell_type": "markdown",
   "id": "1678f4de-498e-473e-bfc9-5cedfc7d4e58",
   "metadata": {},
   "source": [
    "# Johansen Cointegration Test"
   ]
  },
  {
   "cell_type": "code",
   "execution_count": 124,
   "id": "228e7e0b-64dc-414f-b43b-277629d26380",
   "metadata": {
    "tags": []
   },
   "outputs": [
    {
     "data": {
      "text/html": [
       "<div>\n",
       "<style scoped>\n",
       "    .dataframe tbody tr th:only-of-type {\n",
       "        vertical-align: middle;\n",
       "    }\n",
       "\n",
       "    .dataframe tbody tr th {\n",
       "        vertical-align: top;\n",
       "    }\n",
       "\n",
       "    .dataframe thead th {\n",
       "        text-align: right;\n",
       "    }\n",
       "</style>\n",
       "<table border=\"1\" class=\"dataframe\">\n",
       "  <thead>\n",
       "    <tr style=\"text-align: right;\">\n",
       "      <th></th>\n",
       "      <th>IYE</th>\n",
       "      <th>VDE</th>\n",
       "    </tr>\n",
       "    <tr>\n",
       "      <th>datetime</th>\n",
       "      <th></th>\n",
       "      <th></th>\n",
       "    </tr>\n",
       "  </thead>\n",
       "  <tbody>\n",
       "    <tr>\n",
       "      <th>2010-01-04</th>\n",
       "      <td>34.23</td>\n",
       "      <td>85.97</td>\n",
       "    </tr>\n",
       "    <tr>\n",
       "      <th>2010-01-05</th>\n",
       "      <td>34.52</td>\n",
       "      <td>86.85</td>\n",
       "    </tr>\n",
       "    <tr>\n",
       "      <th>2010-01-06</th>\n",
       "      <td>34.89</td>\n",
       "      <td>87.85</td>\n",
       "    </tr>\n",
       "    <tr>\n",
       "      <th>2010-01-07</th>\n",
       "      <td>34.75</td>\n",
       "      <td>87.64</td>\n",
       "    </tr>\n",
       "    <tr>\n",
       "      <th>2010-01-08</th>\n",
       "      <td>35.03</td>\n",
       "      <td>88.30</td>\n",
       "    </tr>\n",
       "    <tr>\n",
       "      <th>...</th>\n",
       "      <td>...</td>\n",
       "      <td>...</td>\n",
       "    </tr>\n",
       "    <tr>\n",
       "      <th>2019-02-15</th>\n",
       "      <td>36.02</td>\n",
       "      <td>89.28</td>\n",
       "    </tr>\n",
       "    <tr>\n",
       "      <th>2019-02-19</th>\n",
       "      <td>36.12</td>\n",
       "      <td>89.62</td>\n",
       "    </tr>\n",
       "    <tr>\n",
       "      <th>2019-02-20</th>\n",
       "      <td>36.28</td>\n",
       "      <td>90.04</td>\n",
       "    </tr>\n",
       "    <tr>\n",
       "      <th>2019-02-21</th>\n",
       "      <td>35.68</td>\n",
       "      <td>88.54</td>\n",
       "    </tr>\n",
       "    <tr>\n",
       "      <th>2019-02-22</th>\n",
       "      <td>35.79</td>\n",
       "      <td>88.81</td>\n",
       "    </tr>\n",
       "  </tbody>\n",
       "</table>\n",
       "<p>2300 rows × 2 columns</p>\n",
       "</div>"
      ],
      "text/plain": [
       "              IYE    VDE\n",
       "datetime                \n",
       "2010-01-04  34.23  85.97\n",
       "2010-01-05  34.52  86.85\n",
       "2010-01-06  34.89  87.85\n",
       "2010-01-07  34.75  87.64\n",
       "2010-01-08  35.03  88.30\n",
       "...           ...    ...\n",
       "2019-02-15  36.02  89.28\n",
       "2019-02-19  36.12  89.62\n",
       "2019-02-20  36.28  90.04\n",
       "2019-02-21  35.68  88.54\n",
       "2019-02-22  35.79  88.81\n",
       "\n",
       "[2300 rows x 2 columns]"
      ]
     },
     "execution_count": 124,
     "metadata": {},
     "output_type": "execute_result"
    }
   ],
   "source": [
    "train_data"
   ]
  },
  {
   "cell_type": "code",
   "execution_count": 125,
   "id": "ddf6653a-451f-49d2-858f-660873f648d2",
   "metadata": {
    "tags": []
   },
   "outputs": [
    {
     "name": "stdout",
     "output_type": "stream",
     "text": [
      "Eigen statistic: \n",
      "\t[12.27442312  5.01087774]\n",
      "Eigen statistic critical: \n",
      "\t[[12.2971 14.2639 18.52  ]\n",
      " [ 2.7055  3.8415  6.6349]]\n",
      "Eigen vector: \n",
      "\t[[ 2.54667871 -0.98713035]\n",
      " [-0.11030451  0.1101151 ]]\n",
      "Eigen value: \n",
      "\t[0.00532711 0.00217816]\n"
     ]
    }
   ],
   "source": [
    "from statsmodels.tsa.vector_ar.vecm import coint_johansen\n",
    "\n",
    "# x is a dataframe of n series for cointegration analysis\n",
    "jres = coint_johansen(train_data, det_order=0, k_ar_diff=1)\n",
    "print(f'Eigen statistic: \\n\\t{jres.max_eig_stat}')\n",
    "print(f'Eigen statistic critical: \\n\\t{jres.max_eig_stat_crit_vals}')\n",
    "print(f'Eigen vector: \\n\\t{jres.evec.T}')\n",
    "print(f'Eigen value: \\n\\t{jres.eig}')"
   ]
  },
  {
   "cell_type": "code",
   "execution_count": 126,
   "id": "abece32f-4228-46a4-8fb1-ec9088bb8353",
   "metadata": {
    "tags": []
   },
   "outputs": [
    {
     "name": "stdout",
     "output_type": "stream",
     "text": [
      "[ 1.         -0.38761479]\n",
      "[ 1.         -0.99828284]\n"
     ]
    }
   ],
   "source": [
    "w1, w2 = jres.evec.T\n",
    "print(w1 / w1[0])\n",
    "print(w2 / w2[0])"
   ]
  },
  {
   "cell_type": "code",
   "execution_count": 127,
   "id": "9e655308-9fe0-4d06-ba4e-4f8e44eaf606",
   "metadata": {
    "tags": []
   },
   "outputs": [],
   "source": [
    "price = train_data"
   ]
  },
  {
   "cell_type": "code",
   "execution_count": 129,
   "id": "61c1161f-4251-4933-b1df-65531a679a3a",
   "metadata": {
    "tags": []
   },
   "outputs": [
    {
     "data": {
      "text/html": [
       "<div>\n",
       "<style scoped>\n",
       "    .dataframe tbody tr th:only-of-type {\n",
       "        vertical-align: middle;\n",
       "    }\n",
       "\n",
       "    .dataframe tbody tr th {\n",
       "        vertical-align: top;\n",
       "    }\n",
       "\n",
       "    .dataframe thead th {\n",
       "        text-align: right;\n",
       "    }\n",
       "</style>\n",
       "<table border=\"1\" class=\"dataframe\">\n",
       "  <thead>\n",
       "    <tr style=\"text-align: right;\">\n",
       "      <th></th>\n",
       "      <th>IYE</th>\n",
       "      <th>VDE</th>\n",
       "    </tr>\n",
       "    <tr>\n",
       "      <th>datetime</th>\n",
       "      <th></th>\n",
       "      <th></th>\n",
       "    </tr>\n",
       "  </thead>\n",
       "  <tbody>\n",
       "    <tr>\n",
       "      <th>2010-01-04</th>\n",
       "      <td>2.546679</td>\n",
       "      <td>-0.98713</td>\n",
       "    </tr>\n",
       "    <tr>\n",
       "      <th>2010-01-05</th>\n",
       "      <td>2.546679</td>\n",
       "      <td>-0.98713</td>\n",
       "    </tr>\n",
       "    <tr>\n",
       "      <th>2010-01-06</th>\n",
       "      <td>2.546679</td>\n",
       "      <td>-0.98713</td>\n",
       "    </tr>\n",
       "    <tr>\n",
       "      <th>2010-01-07</th>\n",
       "      <td>2.546679</td>\n",
       "      <td>-0.98713</td>\n",
       "    </tr>\n",
       "    <tr>\n",
       "      <th>2010-01-08</th>\n",
       "      <td>2.546679</td>\n",
       "      <td>-0.98713</td>\n",
       "    </tr>\n",
       "    <tr>\n",
       "      <th>...</th>\n",
       "      <td>...</td>\n",
       "      <td>...</td>\n",
       "    </tr>\n",
       "    <tr>\n",
       "      <th>2019-02-15</th>\n",
       "      <td>2.546679</td>\n",
       "      <td>-0.98713</td>\n",
       "    </tr>\n",
       "    <tr>\n",
       "      <th>2019-02-19</th>\n",
       "      <td>2.546679</td>\n",
       "      <td>-0.98713</td>\n",
       "    </tr>\n",
       "    <tr>\n",
       "      <th>2019-02-20</th>\n",
       "      <td>2.546679</td>\n",
       "      <td>-0.98713</td>\n",
       "    </tr>\n",
       "    <tr>\n",
       "      <th>2019-02-21</th>\n",
       "      <td>2.546679</td>\n",
       "      <td>-0.98713</td>\n",
       "    </tr>\n",
       "    <tr>\n",
       "      <th>2019-02-22</th>\n",
       "      <td>2.546679</td>\n",
       "      <td>-0.98713</td>\n",
       "    </tr>\n",
       "  </tbody>\n",
       "</table>\n",
       "<p>2300 rows × 2 columns</p>\n",
       "</div>"
      ],
      "text/plain": [
       "                 IYE      VDE\n",
       "datetime                     \n",
       "2010-01-04  2.546679 -0.98713\n",
       "2010-01-05  2.546679 -0.98713\n",
       "2010-01-06  2.546679 -0.98713\n",
       "2010-01-07  2.546679 -0.98713\n",
       "2010-01-08  2.546679 -0.98713\n",
       "...              ...      ...\n",
       "2019-02-15  2.546679 -0.98713\n",
       "2019-02-19  2.546679 -0.98713\n",
       "2019-02-20  2.546679 -0.98713\n",
       "2019-02-21  2.546679 -0.98713\n",
       "2019-02-22  2.546679 -0.98713\n",
       "\n",
       "[2300 rows x 2 columns]"
      ]
     },
     "execution_count": 129,
     "metadata": {},
     "output_type": "execute_result"
    }
   ],
   "source": [
    "a, b = w1\n",
    "weights = pd.DataFrame({\n",
    "    \"IYE\": [a] * len(price),\n",
    "    \"VDE\": [b] * len(price)\n",
    "}, index=price.index)\n",
    "weights"
   ]
  },
  {
   "cell_type": "code",
   "execution_count": 130,
   "id": "3d0dda14-ce56-40d2-a296-fe2cdb0aef4e",
   "metadata": {
    "tags": []
   },
   "outputs": [
    {
     "data": {
      "text/plain": [
       "datetime\n",
       "2010-01-04    2.309217\n",
       "2010-01-05    2.179079\n",
       "2010-01-06    2.134220\n",
       "2010-01-07    1.984982\n",
       "2010-01-08    2.046546\n",
       "                ...   \n",
       "2019-02-15    3.600370\n",
       "2019-02-19    3.519414\n",
       "2019-02-20    3.512287\n",
       "2019-02-21    3.464976\n",
       "2019-02-22    3.478585\n",
       "Length: 2300, dtype: float64"
      ]
     },
     "execution_count": 130,
     "metadata": {},
     "output_type": "execute_result"
    }
   ],
   "source": [
    "spread = (weights * price).sum(axis=1)\n",
    "spread"
   ]
  },
  {
   "cell_type": "code",
   "execution_count": 131,
   "id": "6ce9c95d-29bb-412f-9c05-83b5fd02cfa1",
   "metadata": {
    "tags": []
   },
   "outputs": [
    {
     "data": {
      "image/png": "[encoded data removed]",
      "text/plain": [
       "<Figure size 640x480 with 1 Axes>"
      ]
     },
     "metadata": {},
     "output_type": "display_data"
    }
   ],
   "source": [
    "zscore_spread = zscore(spread)\n",
    "zscore_spread.plot()\n",
    "plt.axhline(zscore_spread.mean(), color=\"black\")\n",
    "plt.axhline(1.0, color=\"red\", linestyle=\"--\")\n",
    "plt.axhline(-1.0, color=\"green\", linestyle=\"--\")\n",
    "plt.legend([\"Spread z-score\", \"Mean\", \"+1\", \"-1\"]);"
   ]
  },
  {
   "cell_type": "code",
   "execution_count": 132,
   "id": "00cf69ea-9885-40f5-946d-5de01876091e",
   "metadata": {
    "tags": []
   },
   "outputs": [
    {
     "name": "stdout",
     "output_type": "stream",
     "text": [
      "Halflife: 46.056597\n"
     ]
    }
   ],
   "source": [
    "x = spread.shift().dropna()\n",
    "y = spread - spread.shift()\n",
    "y = y.dropna()\n",
    "x = sm.add_constant(x)\n",
    "results = sm.OLS(y, x).fit()\n",
    "halflife = -math.log(2) / results.params[0]\n",
    "print('Halflife: %f' % halflife)"
   ]
  },
  {
   "cell_type": "code",
   "execution_count": 133,
   "id": "7a646628-e078-4a80-97eb-8d027a16fc95",
   "metadata": {
    "tags": []
   },
   "outputs": [
    {
     "data": {
      "text/html": [
       "<div>\n",
       "<style scoped>\n",
       "    .dataframe tbody tr th:only-of-type {\n",
       "        vertical-align: middle;\n",
       "    }\n",
       "\n",
       "    .dataframe tbody tr th {\n",
       "        vertical-align: top;\n",
       "    }\n",
       "\n",
       "    .dataframe thead th {\n",
       "        text-align: right;\n",
       "    }\n",
       "</style>\n",
       "<table border=\"1\" class=\"dataframe\">\n",
       "  <thead>\n",
       "    <tr style=\"text-align: right;\">\n",
       "      <th></th>\n",
       "      <th>IYE</th>\n",
       "      <th>VDE</th>\n",
       "    </tr>\n",
       "    <tr>\n",
       "      <th>datetime</th>\n",
       "      <th></th>\n",
       "      <th></th>\n",
       "    </tr>\n",
       "  </thead>\n",
       "  <tbody>\n",
       "    <tr>\n",
       "      <th>2019-02-25</th>\n",
       "      <td>35.84</td>\n",
       "      <td>88.89</td>\n",
       "    </tr>\n",
       "    <tr>\n",
       "      <th>2019-02-26</th>\n",
       "      <td>35.66</td>\n",
       "      <td>88.49</td>\n",
       "    </tr>\n",
       "    <tr>\n",
       "      <th>2019-02-27</th>\n",
       "      <td>35.83</td>\n",
       "      <td>88.86</td>\n",
       "    </tr>\n",
       "    <tr>\n",
       "      <th>2019-02-28</th>\n",
       "      <td>35.47</td>\n",
       "      <td>88.01</td>\n",
       "    </tr>\n",
       "    <tr>\n",
       "      <th>2019-03-01</th>\n",
       "      <td>36.10</td>\n",
       "      <td>89.61</td>\n",
       "    </tr>\n",
       "    <tr>\n",
       "      <th>...</th>\n",
       "      <td>...</td>\n",
       "      <td>...</td>\n",
       "    </tr>\n",
       "    <tr>\n",
       "      <th>2020-12-11</th>\n",
       "      <td>21.81</td>\n",
       "      <td>55.95</td>\n",
       "    </tr>\n",
       "    <tr>\n",
       "      <th>2020-12-14</th>\n",
       "      <td>20.83</td>\n",
       "      <td>54.00</td>\n",
       "    </tr>\n",
       "    <tr>\n",
       "      <th>2020-12-15</th>\n",
       "      <td>21.26</td>\n",
       "      <td>55.09</td>\n",
       "    </tr>\n",
       "    <tr>\n",
       "      <th>2020-12-16</th>\n",
       "      <td>21.17</td>\n",
       "      <td>54.85</td>\n",
       "    </tr>\n",
       "    <tr>\n",
       "      <th>2020-12-17</th>\n",
       "      <td>21.04</td>\n",
       "      <td>53.99</td>\n",
       "    </tr>\n",
       "  </tbody>\n",
       "</table>\n",
       "<p>460 rows × 2 columns</p>\n",
       "</div>"
      ],
      "text/plain": [
       "              IYE    VDE\n",
       "datetime                \n",
       "2019-02-25  35.84  88.89\n",
       "2019-02-26  35.66  88.49\n",
       "2019-02-27  35.83  88.86\n",
       "2019-02-28  35.47  88.01\n",
       "2019-03-01  36.10  89.61\n",
       "...           ...    ...\n",
       "2020-12-11  21.81  55.95\n",
       "2020-12-14  20.83  54.00\n",
       "2020-12-15  21.26  55.09\n",
       "2020-12-16  21.17  54.85\n",
       "2020-12-17  21.04  53.99\n",
       "\n",
       "[460 rows x 2 columns]"
      ]
     },
     "execution_count": 133,
     "metadata": {},
     "output_type": "execute_result"
    }
   ],
   "source": [
    "price = validation_data\n",
    "price"
   ]
  },
  {
   "cell_type": "code",
   "execution_count": 134,
   "id": "1153fbda-96fb-45de-8e3e-c22e2338951b",
   "metadata": {
    "tags": []
   },
   "outputs": [
    {
     "data": {
      "text/html": [
       "<div>\n",
       "<style scoped>\n",
       "    .dataframe tbody tr th:only-of-type {\n",
       "        vertical-align: middle;\n",
       "    }\n",
       "\n",
       "    .dataframe tbody tr th {\n",
       "        vertical-align: top;\n",
       "    }\n",
       "\n",
       "    .dataframe thead th {\n",
       "        text-align: right;\n",
       "    }\n",
       "</style>\n",
       "<table border=\"1\" class=\"dataframe\">\n",
       "  <thead>\n",
       "    <tr style=\"text-align: right;\">\n",
       "      <th></th>\n",
       "      <th>IYE</th>\n",
       "      <th>VDE</th>\n",
       "    </tr>\n",
       "    <tr>\n",
       "      <th>datetime</th>\n",
       "      <th></th>\n",
       "      <th></th>\n",
       "    </tr>\n",
       "  </thead>\n",
       "  <tbody>\n",
       "    <tr>\n",
       "      <th>2019-02-25</th>\n",
       "      <td>2.546679</td>\n",
       "      <td>-0.98713</td>\n",
       "    </tr>\n",
       "    <tr>\n",
       "      <th>2019-02-26</th>\n",
       "      <td>2.546679</td>\n",
       "      <td>-0.98713</td>\n",
       "    </tr>\n",
       "    <tr>\n",
       "      <th>2019-02-27</th>\n",
       "      <td>2.546679</td>\n",
       "      <td>-0.98713</td>\n",
       "    </tr>\n",
       "    <tr>\n",
       "      <th>2019-02-28</th>\n",
       "      <td>2.546679</td>\n",
       "      <td>-0.98713</td>\n",
       "    </tr>\n",
       "    <tr>\n",
       "      <th>2019-03-01</th>\n",
       "      <td>2.546679</td>\n",
       "      <td>-0.98713</td>\n",
       "    </tr>\n",
       "    <tr>\n",
       "      <th>...</th>\n",
       "      <td>...</td>\n",
       "      <td>...</td>\n",
       "    </tr>\n",
       "    <tr>\n",
       "      <th>2020-12-11</th>\n",
       "      <td>2.546679</td>\n",
       "      <td>-0.98713</td>\n",
       "    </tr>\n",
       "    <tr>\n",
       "      <th>2020-12-14</th>\n",
       "      <td>2.546679</td>\n",
       "      <td>-0.98713</td>\n",
       "    </tr>\n",
       "    <tr>\n",
       "      <th>2020-12-15</th>\n",
       "      <td>2.546679</td>\n",
       "      <td>-0.98713</td>\n",
       "    </tr>\n",
       "    <tr>\n",
       "      <th>2020-12-16</th>\n",
       "      <td>2.546679</td>\n",
       "      <td>-0.98713</td>\n",
       "    </tr>\n",
       "    <tr>\n",
       "      <th>2020-12-17</th>\n",
       "      <td>2.546679</td>\n",
       "      <td>-0.98713</td>\n",
       "    </tr>\n",
       "  </tbody>\n",
       "</table>\n",
       "<p>460 rows × 2 columns</p>\n",
       "</div>"
      ],
      "text/plain": [
       "                 IYE      VDE\n",
       "datetime                     \n",
       "2019-02-25  2.546679 -0.98713\n",
       "2019-02-26  2.546679 -0.98713\n",
       "2019-02-27  2.546679 -0.98713\n",
       "2019-02-28  2.546679 -0.98713\n",
       "2019-03-01  2.546679 -0.98713\n",
       "...              ...      ...\n",
       "2020-12-11  2.546679 -0.98713\n",
       "2020-12-14  2.546679 -0.98713\n",
       "2020-12-15  2.546679 -0.98713\n",
       "2020-12-16  2.546679 -0.98713\n",
       "2020-12-17  2.546679 -0.98713\n",
       "\n",
       "[460 rows x 2 columns]"
      ]
     },
     "execution_count": 134,
     "metadata": {},
     "output_type": "execute_result"
    }
   ],
   "source": [
    "a, b = w1\n",
    "weights = pd.DataFrame({\n",
    "    \"IYE\": [a] * len(price),\n",
    "    \"VDE\": [b] * len(price)\n",
    "}, index=price.index)\n",
    "weights"
   ]
  },
  {
   "cell_type": "code",
   "execution_count": 135,
   "id": "0f918465-1a06-4aec-8e47-6aa78656e326",
   "metadata": {
    "tags": []
   },
   "outputs": [],
   "source": [
    "spread = weights * price"
   ]
  },
  {
   "cell_type": "code",
   "execution_count": 136,
   "id": "76675f3a-bf7f-4515-979f-a227fc8c2a85",
   "metadata": {
    "tags": []
   },
   "outputs": [
    {
     "data": {
      "text/plain": [
       "46"
      ]
     },
     "execution_count": 136,
     "metadata": {},
     "output_type": "execute_result"
    }
   ],
   "source": [
    "lookback = round(halflife)\n",
    "lookback"
   ]
  },
  {
   "cell_type": "code",
   "execution_count": 137,
   "id": "a115ee29-c9b6-41da-bf4b-b19e1dab55fc",
   "metadata": {
    "tags": []
   },
   "outputs": [
    {
     "data": {
      "text/html": [
       "<div>\n",
       "<style scoped>\n",
       "    .dataframe tbody tr th:only-of-type {\n",
       "        vertical-align: middle;\n",
       "    }\n",
       "\n",
       "    .dataframe tbody tr th {\n",
       "        vertical-align: top;\n",
       "    }\n",
       "\n",
       "    .dataframe thead th {\n",
       "        text-align: right;\n",
       "    }\n",
       "</style>\n",
       "<table border=\"1\" class=\"dataframe\">\n",
       "  <thead>\n",
       "    <tr style=\"text-align: right;\">\n",
       "      <th></th>\n",
       "      <th>IYE</th>\n",
       "      <th>VDE</th>\n",
       "    </tr>\n",
       "    <tr>\n",
       "      <th>datetime</th>\n",
       "      <th></th>\n",
       "      <th></th>\n",
       "    </tr>\n",
       "  </thead>\n",
       "  <tbody>\n",
       "    <tr>\n",
       "      <th>2019-02-25</th>\n",
       "      <td>NaN</td>\n",
       "      <td>NaN</td>\n",
       "    </tr>\n",
       "    <tr>\n",
       "      <th>2019-02-26</th>\n",
       "      <td>NaN</td>\n",
       "      <td>NaN</td>\n",
       "    </tr>\n",
       "    <tr>\n",
       "      <th>2019-02-27</th>\n",
       "      <td>NaN</td>\n",
       "      <td>NaN</td>\n",
       "    </tr>\n",
       "    <tr>\n",
       "      <th>2019-02-28</th>\n",
       "      <td>NaN</td>\n",
       "      <td>NaN</td>\n",
       "    </tr>\n",
       "    <tr>\n",
       "      <th>2019-03-01</th>\n",
       "      <td>NaN</td>\n",
       "      <td>NaN</td>\n",
       "    </tr>\n",
       "    <tr>\n",
       "      <th>...</th>\n",
       "      <td>...</td>\n",
       "      <td>...</td>\n",
       "    </tr>\n",
       "    <tr>\n",
       "      <th>2020-12-11</th>\n",
       "      <td>-1.676325</td>\n",
       "      <td>1.718446</td>\n",
       "    </tr>\n",
       "    <tr>\n",
       "      <th>2020-12-14</th>\n",
       "      <td>-1.188935</td>\n",
       "      <td>1.325091</td>\n",
       "    </tr>\n",
       "    <tr>\n",
       "      <th>2020-12-15</th>\n",
       "      <td>-1.312366</td>\n",
       "      <td>1.431425</td>\n",
       "    </tr>\n",
       "    <tr>\n",
       "      <th>2020-12-16</th>\n",
       "      <td>-1.216626</td>\n",
       "      <td>1.327079</td>\n",
       "    </tr>\n",
       "    <tr>\n",
       "      <th>2020-12-17</th>\n",
       "      <td>-1.110987</td>\n",
       "      <td>1.137252</td>\n",
       "    </tr>\n",
       "  </tbody>\n",
       "</table>\n",
       "<p>460 rows × 2 columns</p>\n",
       "</div>"
      ],
      "text/plain": [
       "                 IYE       VDE\n",
       "datetime                      \n",
       "2019-02-25       NaN       NaN\n",
       "2019-02-26       NaN       NaN\n",
       "2019-02-27       NaN       NaN\n",
       "2019-02-28       NaN       NaN\n",
       "2019-03-01       NaN       NaN\n",
       "...              ...       ...\n",
       "2020-12-11 -1.676325  1.718446\n",
       "2020-12-14 -1.188935  1.325091\n",
       "2020-12-15 -1.312366  1.431425\n",
       "2020-12-16 -1.216626  1.327079\n",
       "2020-12-17 -1.110987  1.137252\n",
       "\n",
       "[460 rows x 2 columns]"
      ]
     },
     "execution_count": 137,
     "metadata": {},
     "output_type": "execute_result"
    }
   ],
   "source": [
    "num_units = -(spread - spread.rolling(lookback).mean()) / (spread.rolling(lookback).std())\n",
    "num_units"
   ]
  },
  {
   "cell_type": "code",
   "execution_count": 138,
   "id": "50c24886-8429-490c-8016-cfd8ae99daff",
   "metadata": {
    "tags": []
   },
   "outputs": [
    {
     "data": {
      "text/html": [
       "<div>\n",
       "<style scoped>\n",
       "    .dataframe tbody tr th:only-of-type {\n",
       "        vertical-align: middle;\n",
       "    }\n",
       "\n",
       "    .dataframe tbody tr th {\n",
       "        vertical-align: top;\n",
       "    }\n",
       "\n",
       "    .dataframe thead th {\n",
       "        text-align: right;\n",
       "    }\n",
       "</style>\n",
       "<table border=\"1\" class=\"dataframe\">\n",
       "  <thead>\n",
       "    <tr style=\"text-align: right;\">\n",
       "      <th></th>\n",
       "      <th>IYE</th>\n",
       "      <th>VDE</th>\n",
       "    </tr>\n",
       "    <tr>\n",
       "      <th>datetime</th>\n",
       "      <th></th>\n",
       "      <th></th>\n",
       "    </tr>\n",
       "  </thead>\n",
       "  <tbody>\n",
       "    <tr>\n",
       "      <th>2019-02-25</th>\n",
       "      <td>NaN</td>\n",
       "      <td>NaN</td>\n",
       "    </tr>\n",
       "    <tr>\n",
       "      <th>2019-02-26</th>\n",
       "      <td>NaN</td>\n",
       "      <td>NaN</td>\n",
       "    </tr>\n",
       "    <tr>\n",
       "      <th>2019-02-27</th>\n",
       "      <td>NaN</td>\n",
       "      <td>NaN</td>\n",
       "    </tr>\n",
       "    <tr>\n",
       "      <th>2019-02-28</th>\n",
       "      <td>NaN</td>\n",
       "      <td>NaN</td>\n",
       "    </tr>\n",
       "    <tr>\n",
       "      <th>2019-03-01</th>\n",
       "      <td>NaN</td>\n",
       "      <td>NaN</td>\n",
       "    </tr>\n",
       "    <tr>\n",
       "      <th>...</th>\n",
       "      <td>...</td>\n",
       "      <td>...</td>\n",
       "    </tr>\n",
       "    <tr>\n",
       "      <th>2020-12-11</th>\n",
       "      <td>-93.108221</td>\n",
       "      <td>-94.909647</td>\n",
       "    </tr>\n",
       "    <tr>\n",
       "      <th>2020-12-14</th>\n",
       "      <td>-63.069824</td>\n",
       "      <td>-70.634032</td>\n",
       "    </tr>\n",
       "    <tr>\n",
       "      <th>2020-12-15</th>\n",
       "      <td>-71.054618</td>\n",
       "      <td>-77.842335</td>\n",
       "    </tr>\n",
       "    <tr>\n",
       "      <th>2020-12-16</th>\n",
       "      <td>-65.592188</td>\n",
       "      <td>-71.853519</td>\n",
       "    </tr>\n",
       "    <tr>\n",
       "      <th>2020-12-17</th>\n",
       "      <td>-59.529015</td>\n",
       "      <td>-60.610020</td>\n",
       "    </tr>\n",
       "  </tbody>\n",
       "</table>\n",
       "<p>460 rows × 2 columns</p>\n",
       "</div>"
      ],
      "text/plain": [
       "                  IYE        VDE\n",
       "datetime                        \n",
       "2019-02-25        NaN        NaN\n",
       "2019-02-26        NaN        NaN\n",
       "2019-02-27        NaN        NaN\n",
       "2019-02-28        NaN        NaN\n",
       "2019-03-01        NaN        NaN\n",
       "...               ...        ...\n",
       "2020-12-11 -93.108221 -94.909647\n",
       "2020-12-14 -63.069824 -70.634032\n",
       "2020-12-15 -71.054618 -77.842335\n",
       "2020-12-16 -65.592188 -71.853519\n",
       "2020-12-17 -59.529015 -60.610020\n",
       "\n",
       "[460 rows x 2 columns]"
      ]
     },
     "execution_count": 138,
     "metadata": {},
     "output_type": "execute_result"
    }
   ],
   "source": [
    "positions = weights.mul(num_units, axis=0) * price\n",
    "positions"
   ]
  },
  {
   "cell_type": "code",
   "execution_count": 139,
   "id": "62c7ffb3-f3e3-498c-967c-d5bfef1c6e13",
   "metadata": {
    "tags": []
   },
   "outputs": [
    {
     "data": {
      "text/html": [
       "<div>\n",
       "<style scoped>\n",
       "    .dataframe tbody tr th:only-of-type {\n",
       "        vertical-align: middle;\n",
       "    }\n",
       "\n",
       "    .dataframe tbody tr th {\n",
       "        vertical-align: top;\n",
       "    }\n",
       "\n",
       "    .dataframe thead th {\n",
       "        text-align: right;\n",
       "    }\n",
       "</style>\n",
       "<table border=\"1\" class=\"dataframe\">\n",
       "  <thead>\n",
       "    <tr style=\"text-align: right;\">\n",
       "      <th></th>\n",
       "      <th>IYE</th>\n",
       "      <th>VDE</th>\n",
       "    </tr>\n",
       "    <tr>\n",
       "      <th>datetime</th>\n",
       "      <th></th>\n",
       "      <th></th>\n",
       "    </tr>\n",
       "  </thead>\n",
       "  <tbody>\n",
       "    <tr>\n",
       "      <th>2019-04-30</th>\n",
       "      <td>41.258518</td>\n",
       "      <td>38.236923</td>\n",
       "    </tr>\n",
       "    <tr>\n",
       "      <th>2019-05-01</th>\n",
       "      <td>163.094424</td>\n",
       "      <td>148.494247</td>\n",
       "    </tr>\n",
       "    <tr>\n",
       "      <th>2019-05-02</th>\n",
       "      <td>234.512424</td>\n",
       "      <td>213.563993</td>\n",
       "    </tr>\n",
       "    <tr>\n",
       "      <th>2019-05-03</th>\n",
       "      <td>176.650115</td>\n",
       "      <td>164.033466</td>\n",
       "    </tr>\n",
       "    <tr>\n",
       "      <th>2019-05-06</th>\n",
       "      <td>167.155975</td>\n",
       "      <td>154.300185</td>\n",
       "    </tr>\n",
       "    <tr>\n",
       "      <th>...</th>\n",
       "      <td>...</td>\n",
       "      <td>...</td>\n",
       "    </tr>\n",
       "    <tr>\n",
       "      <th>2020-12-11</th>\n",
       "      <td>-93.108221</td>\n",
       "      <td>-94.909647</td>\n",
       "    </tr>\n",
       "    <tr>\n",
       "      <th>2020-12-14</th>\n",
       "      <td>-63.069824</td>\n",
       "      <td>-70.634032</td>\n",
       "    </tr>\n",
       "    <tr>\n",
       "      <th>2020-12-15</th>\n",
       "      <td>-71.054618</td>\n",
       "      <td>-77.842335</td>\n",
       "    </tr>\n",
       "    <tr>\n",
       "      <th>2020-12-16</th>\n",
       "      <td>-65.592188</td>\n",
       "      <td>-71.853519</td>\n",
       "    </tr>\n",
       "    <tr>\n",
       "      <th>2020-12-17</th>\n",
       "      <td>-59.529015</td>\n",
       "      <td>-60.610020</td>\n",
       "    </tr>\n",
       "  </tbody>\n",
       "</table>\n",
       "<p>415 rows × 2 columns</p>\n",
       "</div>"
      ],
      "text/plain": [
       "                   IYE         VDE\n",
       "datetime                          \n",
       "2019-04-30   41.258518   38.236923\n",
       "2019-05-01  163.094424  148.494247\n",
       "2019-05-02  234.512424  213.563993\n",
       "2019-05-03  176.650115  164.033466\n",
       "2019-05-06  167.155975  154.300185\n",
       "...                ...         ...\n",
       "2020-12-11  -93.108221  -94.909647\n",
       "2020-12-14  -63.069824  -70.634032\n",
       "2020-12-15  -71.054618  -77.842335\n",
       "2020-12-16  -65.592188  -71.853519\n",
       "2020-12-17  -59.529015  -60.610020\n",
       "\n",
       "[415 rows x 2 columns]"
      ]
     },
     "execution_count": 139,
     "metadata": {},
     "output_type": "execute_result"
    }
   ],
   "source": [
    "positions.dropna()"
   ]
  },
  {
   "cell_type": "code",
   "execution_count": 141,
   "id": "53a8fb20-1f8a-4688-be2e-4ede8efcabee",
   "metadata": {
    "tags": []
   },
   "outputs": [
    {
     "data": {
      "text/html": [
       "<div>\n",
       "<style scoped>\n",
       "    .dataframe tbody tr th:only-of-type {\n",
       "        vertical-align: middle;\n",
       "    }\n",
       "\n",
       "    .dataframe tbody tr th {\n",
       "        vertical-align: top;\n",
       "    }\n",
       "\n",
       "    .dataframe thead th {\n",
       "        text-align: right;\n",
       "    }\n",
       "</style>\n",
       "<table border=\"1\" class=\"dataframe\">\n",
       "  <thead>\n",
       "    <tr style=\"text-align: right;\">\n",
       "      <th></th>\n",
       "      <th>IYE</th>\n",
       "      <th>VDE</th>\n",
       "    </tr>\n",
       "  </thead>\n",
       "  <tbody>\n",
       "    <tr>\n",
       "      <th>count</th>\n",
       "      <td>414.000000</td>\n",
       "      <td>414.000000</td>\n",
       "    </tr>\n",
       "    <tr>\n",
       "      <th>mean</th>\n",
       "      <td>-0.177611</td>\n",
       "      <td>-0.180285</td>\n",
       "    </tr>\n",
       "    <tr>\n",
       "      <th>std</th>\n",
       "      <td>2.897482</td>\n",
       "      <td>2.768071</td>\n",
       "    </tr>\n",
       "    <tr>\n",
       "      <th>min</th>\n",
       "      <td>-28.533741</td>\n",
       "      <td>-26.511935</td>\n",
       "    </tr>\n",
       "    <tr>\n",
       "      <th>25%</th>\n",
       "      <td>-0.614434</td>\n",
       "      <td>-0.676389</td>\n",
       "    </tr>\n",
       "    <tr>\n",
       "      <th>50%</th>\n",
       "      <td>0.000000</td>\n",
       "      <td>-0.015026</td>\n",
       "    </tr>\n",
       "    <tr>\n",
       "      <th>75%</th>\n",
       "      <td>0.707723</td>\n",
       "      <td>0.688583</td>\n",
       "    </tr>\n",
       "    <tr>\n",
       "      <th>max</th>\n",
       "      <td>10.706287</td>\n",
       "      <td>10.240684</td>\n",
       "    </tr>\n",
       "  </tbody>\n",
       "</table>\n",
       "</div>"
      ],
      "text/plain": [
       "              IYE         VDE\n",
       "count  414.000000  414.000000\n",
       "mean    -0.177611   -0.180285\n",
       "std      2.897482    2.768071\n",
       "min    -28.533741  -26.511935\n",
       "25%     -0.614434   -0.676389\n",
       "50%      0.000000   -0.015026\n",
       "75%      0.707723    0.688583\n",
       "max     10.706287   10.240684"
      ]
     },
     "execution_count": 141,
     "metadata": {},
     "output_type": "execute_result"
    }
   ],
   "source": [
    "pnl = positions.shift(1) * (price - price.shift(1)) / price.shift(1)\n",
    "pnl.describe()"
   ]
  },
  {
   "cell_type": "code",
   "execution_count": 144,
   "id": "4ba5da18-a858-48ac-857b-c1cebc74278a",
   "metadata": {
    "tags": []
   },
   "outputs": [
    {
     "data": {
      "text/plain": [
       "datetime\n",
       "2019-02-25         NaN\n",
       "2019-02-26         NaN\n",
       "2019-02-27         NaN\n",
       "2019-02-28         NaN\n",
       "2019-03-01         NaN\n",
       "                ...   \n",
       "2020-12-11    0.011807\n",
       "2020-12-14    0.039845\n",
       "2020-12-15   -0.020401\n",
       "2020-12-16    0.004298\n",
       "2020-12-17    0.011127\n",
       "Length: 460, dtype: float64"
      ]
     },
     "execution_count": 144,
     "metadata": {},
     "output_type": "execute_result"
    }
   ],
   "source": [
    "ret = pnl.sum(axis=1) / positions.shift(1).sum(axis=1).abs()\n",
    "ret"
   ]
  },
  {
   "cell_type": "code",
   "execution_count": 143,
   "id": "e497c6e7-c93f-4ea9-a5f8-84dd79649a8c",
   "metadata": {
    "tags": []
   },
   "outputs": [
    {
     "data": {
      "text/plain": [
       "count    414.000000\n",
       "mean      -0.001314\n",
       "std        0.030460\n",
       "min       -0.202497\n",
       "25%       -0.012553\n",
       "50%       -0.000314\n",
       "75%        0.012475\n",
       "max        0.159148\n",
       "dtype: float64"
      ]
     },
     "execution_count": 143,
     "metadata": {},
     "output_type": "execute_result"
    }
   ],
   "source": [
    "ret.dropna().describe()"
   ]
  },
  {
   "cell_type": "code",
   "execution_count": 145,
   "id": "2e7d26ab-61d8-4ce7-a2f2-98b05f32eaf3",
   "metadata": {
    "tags": []
   },
   "outputs": [
    {
     "data": {
      "text/plain": [
       "<Axes: xlabel='datetime'>"
      ]
     },
     "execution_count": 145,
     "metadata": {},
     "output_type": "execute_result"
    },
    {
     "data": {
      "image/png": "[encoded data removed]",
      "text/plain": [
       "<Figure size 640x480 with 1 Axes>"
      ]
     },
     "metadata": {},
     "output_type": "display_data"
    }
   ],
   "source": [
    "ret.cumsum().plot()"
   ]
  },
  {
   "cell_type": "code",
   "execution_count": 146,
   "id": "d8d2b847-2cbf-4836-b501-f96543b475a2",
   "metadata": {
    "tags": []
   },
   "outputs": [
    {
     "data": {
      "text/plain": [
       "-0.6847533429904679"
      ]
     },
     "execution_count": 146,
     "metadata": {},
     "output_type": "execute_result"
    }
   ],
   "source": [
    "sharp_ratio = math.sqrt(252)*ret.mean()/ret.std()\n",
    "sharp_ratio"
   ]
  },
  {
   "cell_type": "code",
   "execution_count": 147,
   "id": "89141da2-440e-45bf-af4f-8f29e9203cfe",
   "metadata": {
    "tags": []
   },
   "outputs": [
    {
     "data": {
      "text/html": [
       "<div>\n",
       "<style scoped>\n",
       "    .dataframe tbody tr th:only-of-type {\n",
       "        vertical-align: middle;\n",
       "    }\n",
       "\n",
       "    .dataframe tbody tr th {\n",
       "        vertical-align: top;\n",
       "    }\n",
       "\n",
       "    .dataframe thead th {\n",
       "        text-align: right;\n",
       "    }\n",
       "</style>\n",
       "<table border=\"1\" class=\"dataframe\">\n",
       "  <thead>\n",
       "    <tr style=\"text-align: right;\">\n",
       "      <th></th>\n",
       "      <th>ret</th>\n",
       "      <th>lagged_ret</th>\n",
       "      <th>high_watermark_index</th>\n",
       "    </tr>\n",
       "    <tr>\n",
       "      <th>datetime</th>\n",
       "      <th></th>\n",
       "      <th></th>\n",
       "      <th></th>\n",
       "    </tr>\n",
       "  </thead>\n",
       "  <tbody>\n",
       "    <tr>\n",
       "      <th>2019-05-01</th>\n",
       "      <td>-0.021724</td>\n",
       "      <td>0.000000</td>\n",
       "      <td>2019-05-01</td>\n",
       "    </tr>\n",
       "    <tr>\n",
       "      <th>2019-05-02</th>\n",
       "      <td>-0.038942</td>\n",
       "      <td>-0.021724</td>\n",
       "      <td>2019-05-02</td>\n",
       "    </tr>\n",
       "    <tr>\n",
       "      <th>2019-05-03</th>\n",
       "      <td>-0.029664</td>\n",
       "      <td>-0.038942</td>\n",
       "      <td>2019-05-03</td>\n",
       "    </tr>\n",
       "    <tr>\n",
       "      <th>2019-05-06</th>\n",
       "      <td>-0.028922</td>\n",
       "      <td>-0.029664</td>\n",
       "      <td>2019-05-06</td>\n",
       "    </tr>\n",
       "    <tr>\n",
       "      <th>2019-05-07</th>\n",
       "      <td>-0.036214</td>\n",
       "      <td>-0.028922</td>\n",
       "      <td>2019-05-07</td>\n",
       "    </tr>\n",
       "    <tr>\n",
       "      <th>...</th>\n",
       "      <td>...</td>\n",
       "      <td>...</td>\n",
       "      <td>...</td>\n",
       "    </tr>\n",
       "    <tr>\n",
       "      <th>2020-12-11</th>\n",
       "      <td>-0.578819</td>\n",
       "      <td>-0.590627</td>\n",
       "      <td>2020-12-11</td>\n",
       "    </tr>\n",
       "    <tr>\n",
       "      <th>2020-12-14</th>\n",
       "      <td>-0.538975</td>\n",
       "      <td>-0.578819</td>\n",
       "      <td>2020-12-14</td>\n",
       "    </tr>\n",
       "    <tr>\n",
       "      <th>2020-12-15</th>\n",
       "      <td>-0.559376</td>\n",
       "      <td>-0.538975</td>\n",
       "      <td>2020-12-15</td>\n",
       "    </tr>\n",
       "    <tr>\n",
       "      <th>2020-12-16</th>\n",
       "      <td>-0.555078</td>\n",
       "      <td>-0.559376</td>\n",
       "      <td>2020-12-16</td>\n",
       "    </tr>\n",
       "    <tr>\n",
       "      <th>2020-12-17</th>\n",
       "      <td>-0.543951</td>\n",
       "      <td>-0.555078</td>\n",
       "      <td>2020-12-17</td>\n",
       "    </tr>\n",
       "  </tbody>\n",
       "</table>\n",
       "<p>414 rows × 3 columns</p>\n",
       "</div>"
      ],
      "text/plain": [
       "                 ret  lagged_ret high_watermark_index\n",
       "datetime                                             \n",
       "2019-05-01 -0.021724    0.000000           2019-05-01\n",
       "2019-05-02 -0.038942   -0.021724           2019-05-02\n",
       "2019-05-03 -0.029664   -0.038942           2019-05-03\n",
       "2019-05-06 -0.028922   -0.029664           2019-05-06\n",
       "2019-05-07 -0.036214   -0.028922           2019-05-07\n",
       "...              ...         ...                  ...\n",
       "2020-12-11 -0.578819   -0.590627           2020-12-11\n",
       "2020-12-14 -0.538975   -0.578819           2020-12-14\n",
       "2020-12-15 -0.559376   -0.538975           2020-12-15\n",
       "2020-12-16 -0.555078   -0.559376           2020-12-16\n",
       "2020-12-17 -0.543951   -0.555078           2020-12-17\n",
       "\n",
       "[414 rows x 3 columns]"
      ]
     },
     "execution_count": 147,
     "metadata": {},
     "output_type": "execute_result"
    }
   ],
   "source": [
    "term = pd.DataFrame({\n",
    "    \"ret\": ret.cumsum().dropna(),\n",
    "    'lagged_ret': ret.cumsum().dropna().shift(1),\n",
    "    'high_watermark_index': ret.cumsum().dropna().index\n",
    "})\n",
    "term['lagged_ret'] = term['lagged_ret'].fillna(0)\n",
    "term"
   ]
  },
  {
   "cell_type": "code",
   "execution_count": 148,
   "id": "9694246e-144e-41e2-ba64-6df9912a8ed0",
   "metadata": {
    "tags": []
   },
   "outputs": [
    {
     "data": {
      "text/html": [
       "<div>\n",
       "<style scoped>\n",
       "    .dataframe tbody tr th:only-of-type {\n",
       "        vertical-align: middle;\n",
       "    }\n",
       "\n",
       "    .dataframe tbody tr th {\n",
       "        vertical-align: top;\n",
       "    }\n",
       "\n",
       "    .dataframe thead th {\n",
       "        text-align: right;\n",
       "    }\n",
       "</style>\n",
       "<table border=\"1\" class=\"dataframe\">\n",
       "  <thead>\n",
       "    <tr style=\"text-align: right;\">\n",
       "      <th></th>\n",
       "      <th>ret</th>\n",
       "      <th>lagged_ret</th>\n",
       "      <th>high_watermark_index</th>\n",
       "    </tr>\n",
       "    <tr>\n",
       "      <th>datetime</th>\n",
       "      <th></th>\n",
       "      <th></th>\n",
       "      <th></th>\n",
       "    </tr>\n",
       "  </thead>\n",
       "  <tbody>\n",
       "    <tr>\n",
       "      <th>2019-05-01</th>\n",
       "      <td>-0.021724</td>\n",
       "      <td>0.000000</td>\n",
       "      <td>2019-05-01</td>\n",
       "    </tr>\n",
       "    <tr>\n",
       "      <th>2019-05-02</th>\n",
       "      <td>-0.038942</td>\n",
       "      <td>-0.021724</td>\n",
       "      <td>2019-05-01</td>\n",
       "    </tr>\n",
       "    <tr>\n",
       "      <th>2019-05-03</th>\n",
       "      <td>-0.029664</td>\n",
       "      <td>-0.038942</td>\n",
       "      <td>2019-05-01</td>\n",
       "    </tr>\n",
       "    <tr>\n",
       "      <th>2019-05-06</th>\n",
       "      <td>-0.028922</td>\n",
       "      <td>-0.029664</td>\n",
       "      <td>2019-05-01</td>\n",
       "    </tr>\n",
       "    <tr>\n",
       "      <th>2019-05-07</th>\n",
       "      <td>-0.036214</td>\n",
       "      <td>-0.028922</td>\n",
       "      <td>2019-05-01</td>\n",
       "    </tr>\n",
       "    <tr>\n",
       "      <th>...</th>\n",
       "      <td>...</td>\n",
       "      <td>...</td>\n",
       "      <td>...</td>\n",
       "    </tr>\n",
       "    <tr>\n",
       "      <th>2020-12-11</th>\n",
       "      <td>-0.578819</td>\n",
       "      <td>-0.590627</td>\n",
       "      <td>2019-12-09</td>\n",
       "    </tr>\n",
       "    <tr>\n",
       "      <th>2020-12-14</th>\n",
       "      <td>-0.538975</td>\n",
       "      <td>-0.578819</td>\n",
       "      <td>2019-12-09</td>\n",
       "    </tr>\n",
       "    <tr>\n",
       "      <th>2020-12-15</th>\n",
       "      <td>-0.559376</td>\n",
       "      <td>-0.538975</td>\n",
       "      <td>2019-12-09</td>\n",
       "    </tr>\n",
       "    <tr>\n",
       "      <th>2020-12-16</th>\n",
       "      <td>-0.555078</td>\n",
       "      <td>-0.559376</td>\n",
       "      <td>2019-12-09</td>\n",
       "    </tr>\n",
       "    <tr>\n",
       "      <th>2020-12-17</th>\n",
       "      <td>-0.543951</td>\n",
       "      <td>-0.555078</td>\n",
       "      <td>2019-12-09</td>\n",
       "    </tr>\n",
       "  </tbody>\n",
       "</table>\n",
       "<p>414 rows × 3 columns</p>\n",
       "</div>"
      ],
      "text/plain": [
       "                 ret  lagged_ret high_watermark_index\n",
       "datetime                                             \n",
       "2019-05-01 -0.021724    0.000000           2019-05-01\n",
       "2019-05-02 -0.038942   -0.021724           2019-05-01\n",
       "2019-05-03 -0.029664   -0.038942           2019-05-01\n",
       "2019-05-06 -0.028922   -0.029664           2019-05-01\n",
       "2019-05-07 -0.036214   -0.028922           2019-05-01\n",
       "...              ...         ...                  ...\n",
       "2020-12-11 -0.578819   -0.590627           2019-12-09\n",
       "2020-12-14 -0.538975   -0.578819           2019-12-09\n",
       "2020-12-15 -0.559376   -0.538975           2019-12-09\n",
       "2020-12-16 -0.555078   -0.559376           2019-12-09\n",
       "2020-12-17 -0.543951   -0.555078           2019-12-09\n",
       "\n",
       "[414 rows x 3 columns]"
      ]
     },
     "execution_count": 148,
     "metadata": {},
     "output_type": "execute_result"
    }
   ],
   "source": [
    "highest_watermark_index = term.iloc[0]['high_watermark_index']\n",
    "for d in term.index:\n",
    "    row = term.loc[d]\n",
    "    if row['ret'] >= term.loc[highest_watermark_index]['ret']:\n",
    "        highest_watermark_index = d\n",
    "    term.loc[d, 'high_watermark_index']= highest_watermark_index\n",
    "term"
   ]
  },
  {
   "cell_type": "code",
   "execution_count": 149,
   "id": "575f6a99-b078-41d6-ba84-83e9bf54c858",
   "metadata": {
    "tags": []
   },
   "outputs": [
    {
     "data": {
      "text/html": [
       "<div>\n",
       "<style scoped>\n",
       "    .dataframe tbody tr th:only-of-type {\n",
       "        vertical-align: middle;\n",
       "    }\n",
       "\n",
       "    .dataframe tbody tr th {\n",
       "        vertical-align: top;\n",
       "    }\n",
       "\n",
       "    .dataframe thead th {\n",
       "        text-align: right;\n",
       "    }\n",
       "</style>\n",
       "<table border=\"1\" class=\"dataframe\">\n",
       "  <thead>\n",
       "    <tr style=\"text-align: right;\">\n",
       "      <th></th>\n",
       "      <th>ret</th>\n",
       "      <th>lagged_ret</th>\n",
       "      <th>high_watermark_index</th>\n",
       "      <th>high_watermark_ret</th>\n",
       "      <th>drawdown_deep</th>\n",
       "      <th>drawdown_duration</th>\n",
       "    </tr>\n",
       "    <tr>\n",
       "      <th>datetime</th>\n",
       "      <th></th>\n",
       "      <th></th>\n",
       "      <th></th>\n",
       "      <th></th>\n",
       "      <th></th>\n",
       "      <th></th>\n",
       "    </tr>\n",
       "  </thead>\n",
       "  <tbody>\n",
       "    <tr>\n",
       "      <th>2019-05-01</th>\n",
       "      <td>-0.021724</td>\n",
       "      <td>0.000000</td>\n",
       "      <td>2019-05-01</td>\n",
       "      <td>-0.021724</td>\n",
       "      <td>0.000000</td>\n",
       "      <td>0 days</td>\n",
       "    </tr>\n",
       "    <tr>\n",
       "      <th>2019-05-02</th>\n",
       "      <td>-0.038942</td>\n",
       "      <td>-0.021724</td>\n",
       "      <td>2019-05-01</td>\n",
       "      <td>-0.021724</td>\n",
       "      <td>0.017218</td>\n",
       "      <td>1 days</td>\n",
       "    </tr>\n",
       "    <tr>\n",
       "      <th>2019-05-03</th>\n",
       "      <td>-0.029664</td>\n",
       "      <td>-0.038942</td>\n",
       "      <td>2019-05-01</td>\n",
       "      <td>-0.021724</td>\n",
       "      <td>0.007940</td>\n",
       "      <td>2 days</td>\n",
       "    </tr>\n",
       "    <tr>\n",
       "      <th>2019-05-06</th>\n",
       "      <td>-0.028922</td>\n",
       "      <td>-0.029664</td>\n",
       "      <td>2019-05-01</td>\n",
       "      <td>-0.021724</td>\n",
       "      <td>0.007198</td>\n",
       "      <td>5 days</td>\n",
       "    </tr>\n",
       "    <tr>\n",
       "      <th>2019-05-07</th>\n",
       "      <td>-0.036214</td>\n",
       "      <td>-0.028922</td>\n",
       "      <td>2019-05-01</td>\n",
       "      <td>-0.021724</td>\n",
       "      <td>0.014490</td>\n",
       "      <td>6 days</td>\n",
       "    </tr>\n",
       "    <tr>\n",
       "      <th>...</th>\n",
       "      <td>...</td>\n",
       "      <td>...</td>\n",
       "      <td>...</td>\n",
       "      <td>...</td>\n",
       "      <td>...</td>\n",
       "      <td>...</td>\n",
       "    </tr>\n",
       "    <tr>\n",
       "      <th>2020-12-11</th>\n",
       "      <td>-0.578819</td>\n",
       "      <td>-0.590627</td>\n",
       "      <td>2019-12-09</td>\n",
       "      <td>0.171496</td>\n",
       "      <td>0.750316</td>\n",
       "      <td>368 days</td>\n",
       "    </tr>\n",
       "    <tr>\n",
       "      <th>2020-12-14</th>\n",
       "      <td>-0.538975</td>\n",
       "      <td>-0.578819</td>\n",
       "      <td>2019-12-09</td>\n",
       "      <td>0.171496</td>\n",
       "      <td>0.710471</td>\n",
       "      <td>371 days</td>\n",
       "    </tr>\n",
       "    <tr>\n",
       "      <th>2020-12-15</th>\n",
       "      <td>-0.559376</td>\n",
       "      <td>-0.538975</td>\n",
       "      <td>2019-12-09</td>\n",
       "      <td>0.171496</td>\n",
       "      <td>0.730872</td>\n",
       "      <td>372 days</td>\n",
       "    </tr>\n",
       "    <tr>\n",
       "      <th>2020-12-16</th>\n",
       "      <td>-0.555078</td>\n",
       "      <td>-0.559376</td>\n",
       "      <td>2019-12-09</td>\n",
       "      <td>0.171496</td>\n",
       "      <td>0.726575</td>\n",
       "      <td>373 days</td>\n",
       "    </tr>\n",
       "    <tr>\n",
       "      <th>2020-12-17</th>\n",
       "      <td>-0.543951</td>\n",
       "      <td>-0.555078</td>\n",
       "      <td>2019-12-09</td>\n",
       "      <td>0.171496</td>\n",
       "      <td>0.715447</td>\n",
       "      <td>374 days</td>\n",
       "    </tr>\n",
       "  </tbody>\n",
       "</table>\n",
       "<p>414 rows × 6 columns</p>\n",
       "</div>"
      ],
      "text/plain": [
       "                 ret  lagged_ret high_watermark_index  high_watermark_ret  \\\n",
       "datetime                                                                    \n",
       "2019-05-01 -0.021724    0.000000           2019-05-01           -0.021724   \n",
       "2019-05-02 -0.038942   -0.021724           2019-05-01           -0.021724   \n",
       "2019-05-03 -0.029664   -0.038942           2019-05-01           -0.021724   \n",
       "2019-05-06 -0.028922   -0.029664           2019-05-01           -0.021724   \n",
       "2019-05-07 -0.036214   -0.028922           2019-05-01           -0.021724   \n",
       "...              ...         ...                  ...                 ...   \n",
       "2020-12-11 -0.578819   -0.590627           2019-12-09            0.171496   \n",
       "2020-12-14 -0.538975   -0.578819           2019-12-09            0.171496   \n",
       "2020-12-15 -0.559376   -0.538975           2019-12-09            0.171496   \n",
       "2020-12-16 -0.555078   -0.559376           2019-12-09            0.171496   \n",
       "2020-12-17 -0.543951   -0.555078           2019-12-09            0.171496   \n",
       "\n",
       "            drawdown_deep drawdown_duration  \n",
       "datetime                                     \n",
       "2019-05-01       0.000000            0 days  \n",
       "2019-05-02       0.017218            1 days  \n",
       "2019-05-03       0.007940            2 days  \n",
       "2019-05-06       0.007198            5 days  \n",
       "2019-05-07       0.014490            6 days  \n",
       "...                   ...               ...  \n",
       "2020-12-11       0.750316          368 days  \n",
       "2020-12-14       0.710471          371 days  \n",
       "2020-12-15       0.730872          372 days  \n",
       "2020-12-16       0.726575          373 days  \n",
       "2020-12-17       0.715447          374 days  \n",
       "\n",
       "[414 rows x 6 columns]"
      ]
     },
     "execution_count": 149,
     "metadata": {},
     "output_type": "execute_result"
    }
   ],
   "source": [
    "term['high_watermark_ret'] = term.apply(lambda x: term.loc[x['high_watermark_index']]['ret'], axis=1)\n",
    "term['drawdown_deep'] = term['high_watermark_ret'] - term['ret']\n",
    "term['drawdown_duration'] = term.index - term['high_watermark_index']\n",
    "term"
   ]
  },
  {
   "cell_type": "code",
   "execution_count": 150,
   "id": "130da5b2-3bf4-4883-8974-731276ab96f0",
   "metadata": {
    "tags": []
   },
   "outputs": [
    {
     "data": {
      "text/html": [
       "<div>\n",
       "<style scoped>\n",
       "    .dataframe tbody tr th:only-of-type {\n",
       "        vertical-align: middle;\n",
       "    }\n",
       "\n",
       "    .dataframe tbody tr th {\n",
       "        vertical-align: top;\n",
       "    }\n",
       "\n",
       "    .dataframe thead th {\n",
       "        text-align: right;\n",
       "    }\n",
       "</style>\n",
       "<table border=\"1\" class=\"dataframe\">\n",
       "  <thead>\n",
       "    <tr style=\"text-align: right;\">\n",
       "      <th></th>\n",
       "      <th>ret</th>\n",
       "      <th>lagged_ret</th>\n",
       "      <th>high_watermark_index</th>\n",
       "      <th>high_watermark_ret</th>\n",
       "      <th>drawdown_deep</th>\n",
       "      <th>drawdown_duration</th>\n",
       "    </tr>\n",
       "  </thead>\n",
       "  <tbody>\n",
       "    <tr>\n",
       "      <th>count</th>\n",
       "      <td>414.000000</td>\n",
       "      <td>414.000000</td>\n",
       "      <td>414</td>\n",
       "      <td>414.000000</td>\n",
       "      <td>414.000000</td>\n",
       "      <td>414</td>\n",
       "    </tr>\n",
       "    <tr>\n",
       "      <th>mean</th>\n",
       "      <td>-0.173482</td>\n",
       "      <td>-0.172168</td>\n",
       "      <td>2019-10-21 08:38:15.652174080</td>\n",
       "      <td>0.124543</td>\n",
       "      <td>0.298025</td>\n",
       "      <td>125 days 06:29:33.913043478</td>\n",
       "    </tr>\n",
       "    <tr>\n",
       "      <th>min</th>\n",
       "      <td>-0.698025</td>\n",
       "      <td>-0.698025</td>\n",
       "      <td>2019-05-01 00:00:00</td>\n",
       "      <td>-0.021724</td>\n",
       "      <td>0.000000</td>\n",
       "      <td>0 days 00:00:00</td>\n",
       "    </tr>\n",
       "    <tr>\n",
       "      <th>25%</th>\n",
       "      <td>-0.377490</td>\n",
       "      <td>-0.377200</td>\n",
       "      <td>2019-08-15 06:00:00</td>\n",
       "      <td>0.069304</td>\n",
       "      <td>0.025617</td>\n",
       "      <td>18 days 06:00:00</td>\n",
       "    </tr>\n",
       "    <tr>\n",
       "      <th>50%</th>\n",
       "      <td>-0.097430</td>\n",
       "      <td>-0.094463</td>\n",
       "      <td>2019-12-09 00:00:00</td>\n",
       "      <td>0.171496</td>\n",
       "      <td>0.210524</td>\n",
       "      <td>78 days 12:00:00</td>\n",
       "    </tr>\n",
       "    <tr>\n",
       "      <th>75%</th>\n",
       "      <td>0.043527</td>\n",
       "      <td>0.043527</td>\n",
       "      <td>2019-12-09 00:00:00</td>\n",
       "      <td>0.171496</td>\n",
       "      <td>0.548986</td>\n",
       "      <td>226 days 18:00:00</td>\n",
       "    </tr>\n",
       "    <tr>\n",
       "      <th>max</th>\n",
       "      <td>0.171496</td>\n",
       "      <td>0.171496</td>\n",
       "      <td>2019-12-09 00:00:00</td>\n",
       "      <td>0.171496</td>\n",
       "      <td>0.869521</td>\n",
       "      <td>374 days 00:00:00</td>\n",
       "    </tr>\n",
       "    <tr>\n",
       "      <th>std</th>\n",
       "      <td>0.234503</td>\n",
       "      <td>0.233945</td>\n",
       "      <td>NaN</td>\n",
       "      <td>0.068985</td>\n",
       "      <td>0.274679</td>\n",
       "      <td>119 days 07:41:44.393360372</td>\n",
       "    </tr>\n",
       "  </tbody>\n",
       "</table>\n",
       "</div>"
      ],
      "text/plain": [
       "              ret  lagged_ret           high_watermark_index  \\\n",
       "count  414.000000  414.000000                            414   \n",
       "mean    -0.173482   -0.172168  2019-10-21 08:38:15.652174080   \n",
       "min     -0.698025   -0.698025            2019-05-01 00:00:00   \n",
       "25%     -0.377490   -0.377200            2019-08-15 06:00:00   \n",
       "50%     -0.097430   -0.094463            2019-12-09 00:00:00   \n",
       "75%      0.043527    0.043527            2019-12-09 00:00:00   \n",
       "max      0.171496    0.171496            2019-12-09 00:00:00   \n",
       "std      0.234503    0.233945                            NaN   \n",
       "\n",
       "       high_watermark_ret  drawdown_deep            drawdown_duration  \n",
       "count          414.000000     414.000000                          414  \n",
       "mean             0.124543       0.298025  125 days 06:29:33.913043478  \n",
       "min             -0.021724       0.000000              0 days 00:00:00  \n",
       "25%              0.069304       0.025617             18 days 06:00:00  \n",
       "50%              0.171496       0.210524             78 days 12:00:00  \n",
       "75%              0.171496       0.548986            226 days 18:00:00  \n",
       "max              0.171496       0.869521            374 days 00:00:00  \n",
       "std              0.068985       0.274679  119 days 07:41:44.393360372  "
      ]
     },
     "execution_count": 150,
     "metadata": {},
     "output_type": "execute_result"
    }
   ],
   "source": [
    "term.describe()"
   ]
  },
  {
   "cell_type": "markdown",
   "id": "86d01aa9-67d9-47cd-9e77-3b3ba18f4f98",
   "metadata": {},
   "source": [
    "# Bollinger Band"
   ]
  },
  {
   "cell_type": "code",
   "execution_count": 151,
   "id": "49052efa-edf5-4aec-9015-fedc09b4861e",
   "metadata": {
    "tags": []
   },
   "outputs": [
    {
     "data": {
      "text/html": [
       "<div>\n",
       "<style scoped>\n",
       "    .dataframe tbody tr th:only-of-type {\n",
       "        vertical-align: middle;\n",
       "    }\n",
       "\n",
       "    .dataframe tbody tr th {\n",
       "        vertical-align: top;\n",
       "    }\n",
       "\n",
       "    .dataframe thead th {\n",
       "        text-align: right;\n",
       "    }\n",
       "</style>\n",
       "<table border=\"1\" class=\"dataframe\">\n",
       "  <thead>\n",
       "    <tr style=\"text-align: right;\">\n",
       "      <th></th>\n",
       "      <th>IYE</th>\n",
       "      <th>VDE</th>\n",
       "    </tr>\n",
       "    <tr>\n",
       "      <th>datetime</th>\n",
       "      <th></th>\n",
       "      <th></th>\n",
       "    </tr>\n",
       "  </thead>\n",
       "  <tbody>\n",
       "    <tr>\n",
       "      <th>2019-02-25</th>\n",
       "      <td>35.84</td>\n",
       "      <td>88.89</td>\n",
       "    </tr>\n",
       "    <tr>\n",
       "      <th>2019-02-26</th>\n",
       "      <td>35.66</td>\n",
       "      <td>88.49</td>\n",
       "    </tr>\n",
       "    <tr>\n",
       "      <th>2019-02-27</th>\n",
       "      <td>35.83</td>\n",
       "      <td>88.86</td>\n",
       "    </tr>\n",
       "    <tr>\n",
       "      <th>2019-02-28</th>\n",
       "      <td>35.47</td>\n",
       "      <td>88.01</td>\n",
       "    </tr>\n",
       "    <tr>\n",
       "      <th>2019-03-01</th>\n",
       "      <td>36.10</td>\n",
       "      <td>89.61</td>\n",
       "    </tr>\n",
       "    <tr>\n",
       "      <th>...</th>\n",
       "      <td>...</td>\n",
       "      <td>...</td>\n",
       "    </tr>\n",
       "    <tr>\n",
       "      <th>2020-12-11</th>\n",
       "      <td>21.81</td>\n",
       "      <td>55.95</td>\n",
       "    </tr>\n",
       "    <tr>\n",
       "      <th>2020-12-14</th>\n",
       "      <td>20.83</td>\n",
       "      <td>54.00</td>\n",
       "    </tr>\n",
       "    <tr>\n",
       "      <th>2020-12-15</th>\n",
       "      <td>21.26</td>\n",
       "      <td>55.09</td>\n",
       "    </tr>\n",
       "    <tr>\n",
       "      <th>2020-12-16</th>\n",
       "      <td>21.17</td>\n",
       "      <td>54.85</td>\n",
       "    </tr>\n",
       "    <tr>\n",
       "      <th>2020-12-17</th>\n",
       "      <td>21.04</td>\n",
       "      <td>53.99</td>\n",
       "    </tr>\n",
       "  </tbody>\n",
       "</table>\n",
       "<p>460 rows × 2 columns</p>\n",
       "</div>"
      ],
      "text/plain": [
       "              IYE    VDE\n",
       "datetime                \n",
       "2019-02-25  35.84  88.89\n",
       "2019-02-26  35.66  88.49\n",
       "2019-02-27  35.83  88.86\n",
       "2019-02-28  35.47  88.01\n",
       "2019-03-01  36.10  89.61\n",
       "...           ...    ...\n",
       "2020-12-11  21.81  55.95\n",
       "2020-12-14  20.83  54.00\n",
       "2020-12-15  21.26  55.09\n",
       "2020-12-16  21.17  54.85\n",
       "2020-12-17  21.04  53.99\n",
       "\n",
       "[460 rows x 2 columns]"
      ]
     },
     "execution_count": 151,
     "metadata": {},
     "output_type": "execute_result"
    }
   ],
   "source": [
    "price = validation_data\n",
    "price"
   ]
  },
  {
   "cell_type": "code",
   "execution_count": 176,
   "id": "a1cb09dc-3cd0-43ec-bc60-715ca839b15f",
   "metadata": {
    "tags": []
   },
   "outputs": [
    {
     "data": {
      "text/html": [
       "<div>\n",
       "<style scoped>\n",
       "    .dataframe tbody tr th:only-of-type {\n",
       "        vertical-align: middle;\n",
       "    }\n",
       "\n",
       "    .dataframe tbody tr th {\n",
       "        vertical-align: top;\n",
       "    }\n",
       "\n",
       "    .dataframe thead th {\n",
       "        text-align: right;\n",
       "    }\n",
       "</style>\n",
       "<table border=\"1\" class=\"dataframe\">\n",
       "  <thead>\n",
       "    <tr style=\"text-align: right;\">\n",
       "      <th></th>\n",
       "      <th>IYE</th>\n",
       "      <th>VDE</th>\n",
       "    </tr>\n",
       "    <tr>\n",
       "      <th>datetime</th>\n",
       "      <th></th>\n",
       "      <th></th>\n",
       "    </tr>\n",
       "  </thead>\n",
       "  <tbody>\n",
       "    <tr>\n",
       "      <th>2019-02-25</th>\n",
       "      <td>2.546679</td>\n",
       "      <td>-0.98713</td>\n",
       "    </tr>\n",
       "    <tr>\n",
       "      <th>2019-02-26</th>\n",
       "      <td>2.546679</td>\n",
       "      <td>-0.98713</td>\n",
       "    </tr>\n",
       "    <tr>\n",
       "      <th>2019-02-27</th>\n",
       "      <td>2.546679</td>\n",
       "      <td>-0.98713</td>\n",
       "    </tr>\n",
       "    <tr>\n",
       "      <th>2019-02-28</th>\n",
       "      <td>2.546679</td>\n",
       "      <td>-0.98713</td>\n",
       "    </tr>\n",
       "    <tr>\n",
       "      <th>2019-03-01</th>\n",
       "      <td>2.546679</td>\n",
       "      <td>-0.98713</td>\n",
       "    </tr>\n",
       "    <tr>\n",
       "      <th>...</th>\n",
       "      <td>...</td>\n",
       "      <td>...</td>\n",
       "    </tr>\n",
       "    <tr>\n",
       "      <th>2020-12-11</th>\n",
       "      <td>2.546679</td>\n",
       "      <td>-0.98713</td>\n",
       "    </tr>\n",
       "    <tr>\n",
       "      <th>2020-12-14</th>\n",
       "      <td>2.546679</td>\n",
       "      <td>-0.98713</td>\n",
       "    </tr>\n",
       "    <tr>\n",
       "      <th>2020-12-15</th>\n",
       "      <td>2.546679</td>\n",
       "      <td>-0.98713</td>\n",
       "    </tr>\n",
       "    <tr>\n",
       "      <th>2020-12-16</th>\n",
       "      <td>2.546679</td>\n",
       "      <td>-0.98713</td>\n",
       "    </tr>\n",
       "    <tr>\n",
       "      <th>2020-12-17</th>\n",
       "      <td>2.546679</td>\n",
       "      <td>-0.98713</td>\n",
       "    </tr>\n",
       "  </tbody>\n",
       "</table>\n",
       "<p>460 rows × 2 columns</p>\n",
       "</div>"
      ],
      "text/plain": [
       "                 IYE      VDE\n",
       "datetime                     \n",
       "2019-02-25  2.546679 -0.98713\n",
       "2019-02-26  2.546679 -0.98713\n",
       "2019-02-27  2.546679 -0.98713\n",
       "2019-02-28  2.546679 -0.98713\n",
       "2019-03-01  2.546679 -0.98713\n",
       "...              ...      ...\n",
       "2020-12-11  2.546679 -0.98713\n",
       "2020-12-14  2.546679 -0.98713\n",
       "2020-12-15  2.546679 -0.98713\n",
       "2020-12-16  2.546679 -0.98713\n",
       "2020-12-17  2.546679 -0.98713\n",
       "\n",
       "[460 rows x 2 columns]"
      ]
     },
     "execution_count": 176,
     "metadata": {},
     "output_type": "execute_result"
    }
   ],
   "source": [
    "a, b = w1\n",
    "weights = pd.DataFrame({\n",
    "    \"IYE\": [a] * len(price),\n",
    "    \"VDE\": [b] * len(price)\n",
    "}, index=price.index)\n",
    "weights"
   ]
  },
  {
   "cell_type": "code",
   "execution_count": 177,
   "id": "b2806f9d-02f5-4af0-903b-dbc34a09d78c",
   "metadata": {
    "tags": []
   },
   "outputs": [],
   "source": [
    "entry_zscore = 1.5\n",
    "exit_zscore = 0"
   ]
  },
  {
   "cell_type": "code",
   "execution_count": 178,
   "id": "8495780b-b657-43f1-9202-1011146fd474",
   "metadata": {
    "tags": []
   },
   "outputs": [
    {
     "data": {
      "text/plain": [
       "datetime\n",
       "2019-02-25    3.526949\n",
       "2019-02-26    3.463399\n",
       "2019-02-27    3.531096\n",
       "2019-02-28    3.453352\n",
       "2019-03-01    3.478351\n",
       "                ...   \n",
       "2020-12-11    0.313120\n",
       "2020-12-14   -0.257721\n",
       "2020-12-15   -0.238621\n",
       "2020-12-16   -0.230911\n",
       "2020-12-17    0.286953\n",
       "Length: 460, dtype: float64"
      ]
     },
     "execution_count": 178,
     "metadata": {},
     "output_type": "execute_result"
    }
   ],
   "source": [
    "spread = (weights * price).sum(axis=1)\n",
    "spread"
   ]
  },
  {
   "cell_type": "code",
   "execution_count": 179,
   "id": "b47c7c4a-87d6-4fd3-94f0-6485b6698cd6",
   "metadata": {
    "tags": []
   },
   "outputs": [
    {
     "data": {
      "text/plain": [
       "count    415.000000\n",
       "mean      -0.228451\n",
       "std        1.399944\n",
       "min       -6.058385\n",
       "25%       -1.028965\n",
       "50%       -0.200101\n",
       "75%        0.681966\n",
       "max        3.676850\n",
       "dtype: float64"
      ]
     },
     "execution_count": 179,
     "metadata": {},
     "output_type": "execute_result"
    }
   ],
   "source": [
    "zscore_spread = (spread - spread.rolling(lookback).mean()) / spread.rolling(lookback).std()\n",
    "zscore_spread.describe()"
   ]
  },
  {
   "cell_type": "code",
   "execution_count": 194,
   "id": "cc75b48e-472a-45af-a713-376c7974bcef",
   "metadata": {
    "tags": []
   },
   "outputs": [
    {
     "data": {
      "text/plain": [
       "datetime\n",
       "2019-02-25         NaN\n",
       "2019-02-26         NaN\n",
       "2019-02-27         NaN\n",
       "2019-02-28         NaN\n",
       "2019-03-01         NaN\n",
       "                ...   \n",
       "2020-12-11   -3.002262\n",
       "2020-12-14   -4.845941\n",
       "2020-12-15   -3.805409\n",
       "2020-12-16   -3.224092\n",
       "2020-12-17   -1.275297\n",
       "Length: 460, dtype: float64"
      ]
     },
     "execution_count": 194,
     "metadata": {},
     "output_type": "execute_result"
    }
   ],
   "source": [
    "zscore_spread"
   ]
  },
  {
   "cell_type": "code",
   "execution_count": 180,
   "id": "37aee63e-f6c7-4f8b-844a-b99cc42105a8",
   "metadata": {
    "tags": []
   },
   "outputs": [],
   "source": [
    "long_entry = zscore_spread < -entry_zscore\n",
    "long_exit = zscore_spread >= exit_zscore\n",
    "short_entry = zscore_spread > entry_zscore\n",
    "short_exit = zscore_spread <= exit_zscore"
   ]
  },
  {
   "cell_type": "code",
   "execution_count": 181,
   "id": "fdd1927a-d3bf-412e-a459-9f93f23f24cc",
   "metadata": {
    "tags": []
   },
   "outputs": [],
   "source": [
    "num_unit_longs = pd.Series(np.NaN, index=zscore_spread.index)\n",
    "num_unit_shorts = pd.Series(np.NaN, index=zscore_spread.index)"
   ]
  },
  {
   "cell_type": "code",
   "execution_count": 182,
   "id": "bf10438d-ca46-4769-a376-1b0635e50165",
   "metadata": {
    "tags": []
   },
   "outputs": [
    {
     "data": {
      "text/plain": [
       "<Axes: xlabel='datetime'>"
      ]
     },
     "execution_count": 182,
     "metadata": {},
     "output_type": "execute_result"
    },
    {
     "data": {
      "image/png": "[encoded data removed]",
      "text/plain": [
       "<Figure size 640x480 with 1 Axes>"
      ]
     },
     "metadata": {},
     "output_type": "display_data"
    }
   ],
   "source": [
    "num_unit_longs.iloc[0] = 0\n",
    "num_unit_longs[long_entry] = 1\n",
    "num_unit_longs[long_exit] = 0\n",
    "num_unit_longs = num_unit_longs.fillna(method='ffill')\n",
    "num_unit_longs.plot()"
   ]
  },
  {
   "cell_type": "code",
   "execution_count": 183,
   "id": "22cd798d-9453-4d79-8b53-4913d8205514",
   "metadata": {
    "tags": []
   },
   "outputs": [
    {
     "data": {
      "text/plain": [
       "<Axes: xlabel='datetime'>"
      ]
     },
     "execution_count": 183,
     "metadata": {},
     "output_type": "execute_result"
    },
    {
     "data": {
      "image/png": "[encoded data removed]",
      "text/plain": [
       "<Figure size 640x480 with 1 Axes>"
      ]
     },
     "metadata": {},
     "output_type": "display_data"
    }
   ],
   "source": [
    "num_unit_shorts.iloc[0] = 0\n",
    "num_unit_shorts[short_entry] = -1\n",
    "num_unit_shorts[short_exit] = 0\n",
    "num_unit_shorts = num_unit_shorts.fillna(method='ffill')\n",
    "num_unit_shorts.plot()"
   ]
  },
  {
   "cell_type": "code",
   "execution_count": 184,
   "id": "edc0a228-f2e7-45f2-93f2-9d729e519841",
   "metadata": {
    "tags": []
   },
   "outputs": [
    {
     "data": {
      "text/plain": [
       "<Axes: xlabel='datetime'>"
      ]
     },
     "execution_count": 184,
     "metadata": {},
     "output_type": "execute_result"
    },
    {
     "data": {
      "image/png": "[encoded data removed]",
      "text/plain": [
       "<Figure size 640x480 with 1 Axes>"
      ]
     },
     "metadata": {},
     "output_type": "display_data"
    }
   ],
   "source": [
    "num_unit = num_unit_longs + num_unit_shorts\n",
    "num_unit.plot()"
   ]
  },
  {
   "cell_type": "code",
   "execution_count": 185,
   "id": "58f2ae25-78df-4f48-bf65-3d7e2cccfb35",
   "metadata": {
    "tags": []
   },
   "outputs": [
    {
     "data": {
      "text/html": [
       "<div>\n",
       "<style scoped>\n",
       "    .dataframe tbody tr th:only-of-type {\n",
       "        vertical-align: middle;\n",
       "    }\n",
       "\n",
       "    .dataframe tbody tr th {\n",
       "        vertical-align: top;\n",
       "    }\n",
       "\n",
       "    .dataframe thead th {\n",
       "        text-align: right;\n",
       "    }\n",
       "</style>\n",
       "<table border=\"1\" class=\"dataframe\">\n",
       "  <thead>\n",
       "    <tr style=\"text-align: right;\">\n",
       "      <th></th>\n",
       "      <th>IYE</th>\n",
       "      <th>VDE</th>\n",
       "    </tr>\n",
       "    <tr>\n",
       "      <th>datetime</th>\n",
       "      <th></th>\n",
       "      <th></th>\n",
       "    </tr>\n",
       "  </thead>\n",
       "  <tbody>\n",
       "    <tr>\n",
       "      <th>2019-02-25</th>\n",
       "      <td>0.000000</td>\n",
       "      <td>-0.000000</td>\n",
       "    </tr>\n",
       "    <tr>\n",
       "      <th>2019-02-26</th>\n",
       "      <td>0.000000</td>\n",
       "      <td>-0.000000</td>\n",
       "    </tr>\n",
       "    <tr>\n",
       "      <th>2019-02-27</th>\n",
       "      <td>0.000000</td>\n",
       "      <td>-0.000000</td>\n",
       "    </tr>\n",
       "    <tr>\n",
       "      <th>2019-02-28</th>\n",
       "      <td>0.000000</td>\n",
       "      <td>-0.000000</td>\n",
       "    </tr>\n",
       "    <tr>\n",
       "      <th>2019-03-01</th>\n",
       "      <td>0.000000</td>\n",
       "      <td>-0.000000</td>\n",
       "    </tr>\n",
       "    <tr>\n",
       "      <th>...</th>\n",
       "      <td>...</td>\n",
       "      <td>...</td>\n",
       "    </tr>\n",
       "    <tr>\n",
       "      <th>2020-12-11</th>\n",
       "      <td>55.543063</td>\n",
       "      <td>-55.229943</td>\n",
       "    </tr>\n",
       "    <tr>\n",
       "      <th>2020-12-14</th>\n",
       "      <td>53.047318</td>\n",
       "      <td>-53.305039</td>\n",
       "    </tr>\n",
       "    <tr>\n",
       "      <th>2020-12-15</th>\n",
       "      <td>54.142389</td>\n",
       "      <td>-54.381011</td>\n",
       "    </tr>\n",
       "    <tr>\n",
       "      <th>2020-12-16</th>\n",
       "      <td>53.913188</td>\n",
       "      <td>-54.144099</td>\n",
       "    </tr>\n",
       "    <tr>\n",
       "      <th>2020-12-17</th>\n",
       "      <td>53.582120</td>\n",
       "      <td>-53.295167</td>\n",
       "    </tr>\n",
       "  </tbody>\n",
       "</table>\n",
       "<p>460 rows × 2 columns</p>\n",
       "</div>"
      ],
      "text/plain": [
       "                  IYE        VDE\n",
       "datetime                        \n",
       "2019-02-25   0.000000  -0.000000\n",
       "2019-02-26   0.000000  -0.000000\n",
       "2019-02-27   0.000000  -0.000000\n",
       "2019-02-28   0.000000  -0.000000\n",
       "2019-03-01   0.000000  -0.000000\n",
       "...               ...        ...\n",
       "2020-12-11  55.543063 -55.229943\n",
       "2020-12-14  53.047318 -53.305039\n",
       "2020-12-15  54.142389 -54.381011\n",
       "2020-12-16  53.913188 -54.144099\n",
       "2020-12-17  53.582120 -53.295167\n",
       "\n",
       "[460 rows x 2 columns]"
      ]
     },
     "execution_count": 185,
     "metadata": {},
     "output_type": "execute_result"
    }
   ],
   "source": [
    "positions = weights.mul(num_unit, axis=0) * price\n",
    "positions"
   ]
  },
  {
   "cell_type": "code",
   "execution_count": 186,
   "id": "4a1866f7-b108-468a-b27c-a06fe9ebd087",
   "metadata": {
    "tags": []
   },
   "outputs": [
    {
     "data": {
      "text/plain": [
       "<Axes: xlabel='datetime'>"
      ]
     },
     "execution_count": 186,
     "metadata": {},
     "output_type": "execute_result"
    },
    {
     "data": {
      "image/png": "[encoded data removed]",
      "text/plain": [
       "<Figure size 640x480 with 1 Axes>"
      ]
     },
     "metadata": {},
     "output_type": "display_data"
    }
   ],
   "source": [
    "positions.sum(axis=1).plot()"
   ]
  },
  {
   "cell_type": "code",
   "execution_count": 187,
   "id": "08691959-0ecb-4efb-b351-514c8ef21b07",
   "metadata": {
    "tags": []
   },
   "outputs": [
    {
     "data": {
      "text/plain": [
       "<Axes: xlabel='datetime'>"
      ]
     },
     "execution_count": 187,
     "metadata": {},
     "output_type": "execute_result"
    },
    {
     "data": {
      "image/png": "[encoded data removed]",
      "text/plain": [
       "<Figure size 640x480 with 1 Axes>"
      ]
     },
     "metadata": {},
     "output_type": "display_data"
    }
   ],
   "source": [
    "positions.plot()"
   ]
  },
  {
   "cell_type": "code",
   "execution_count": 188,
   "id": "9686396d-1264-4e01-823a-6b1d4e80425d",
   "metadata": {
    "tags": []
   },
   "outputs": [
    {
     "data": {
      "text/plain": [
       "count    460.000000\n",
       "mean       0.016198\n",
       "std        0.131839\n",
       "min       -0.784155\n",
       "25%       -0.000190\n",
       "50%        0.000000\n",
       "75%        0.009316\n",
       "max        1.207160\n",
       "dtype: float64"
      ]
     },
     "execution_count": 188,
     "metadata": {},
     "output_type": "execute_result"
    }
   ],
   "source": [
    "pnl = positions.shift(1) * (price - price.shift(1))/price.shift(1)\n",
    "pnl = pnl.sum(axis=1)\n",
    "pnl.describe()"
   ]
  },
  {
   "cell_type": "code",
   "execution_count": 189,
   "id": "73e3a124-986f-4348-bc38-ffcc96e9e51d",
   "metadata": {
    "tags": []
   },
   "outputs": [
    {
     "data": {
      "text/plain": [
       "<Axes: xlabel='datetime'>"
      ]
     },
     "execution_count": 189,
     "metadata": {},
     "output_type": "execute_result"
    },
    {
     "data": {
      "image/png": "[encoded data removed]",
      "text/plain": [
       "<Figure size 640x480 with 1 Axes>"
      ]
     },
     "metadata": {},
     "output_type": "display_data"
    }
   ],
   "source": [
    "pnl.plot()"
   ]
  },
  {
   "cell_type": "code",
   "execution_count": 190,
   "id": "658fba62-63a4-4b40-b6e4-971c52361a83",
   "metadata": {
    "tags": []
   },
   "outputs": [
    {
     "data": {
      "text/plain": [
       "datetime\n",
       "2019-02-25         NaN\n",
       "2019-02-26         NaN\n",
       "2019-02-27         NaN\n",
       "2019-02-28         NaN\n",
       "2019-03-01         NaN\n",
       "                ...   \n",
       "2020-12-11   -0.002419\n",
       "2020-12-14   -1.823074\n",
       "2020-12-15   -0.074110\n",
       "2020-12-16   -0.032311\n",
       "2020-12-17   -2.242698\n",
       "Length: 460, dtype: float64"
      ]
     },
     "execution_count": 190,
     "metadata": {},
     "output_type": "execute_result"
    }
   ],
   "source": [
    "ret = pnl / positions.shift(1).sum(axis=1)\n",
    "ret"
   ]
  },
  {
   "cell_type": "code",
   "execution_count": 191,
   "id": "fc4c95a1-62a5-40b2-9569-2113137d7444",
   "metadata": {
    "tags": []
   },
   "outputs": [
    {
     "data": {
      "text/plain": [
       "count    247.000000\n",
       "mean      -0.004566\n",
       "std        0.246833\n",
       "min       -2.242698\n",
       "25%       -0.028877\n",
       "50%        0.000588\n",
       "75%        0.029429\n",
       "max        1.421509\n",
       "dtype: float64"
      ]
     },
     "execution_count": 191,
     "metadata": {},
     "output_type": "execute_result"
    }
   ],
   "source": [
    "ret.describe()"
   ]
  },
  {
   "cell_type": "code",
   "execution_count": 192,
   "id": "1f5e9cec-d611-4870-b77c-ce69adf1399e",
   "metadata": {
    "tags": []
   },
   "outputs": [
    {
     "data": {
      "text/plain": [
       "<Axes: xlabel='datetime'>"
      ]
     },
     "execution_count": 192,
     "metadata": {},
     "output_type": "execute_result"
    },
    {
     "data": {
      "image/png": "[encoded data removed]",
      "text/plain": [
       "<Figure size 640x480 with 1 Axes>"
      ]
     },
     "metadata": {},
     "output_type": "display_data"
    }
   ],
   "source": [
    "ret.dropna().plot()"
   ]
  },
  {
   "cell_type": "code",
   "execution_count": 193,
   "id": "72ea3e38-3c21-4d10-bf7e-d6ac526cf897",
   "metadata": {
    "tags": []
   },
   "outputs": [
    {
     "data": {
      "text/plain": [
       "<Axes: xlabel='datetime'>"
      ]
     },
     "execution_count": 193,
     "metadata": {},
     "output_type": "execute_result"
    },
    {
     "data": {
      "image/png": "[encoded data removed]",
      "text/plain": [
       "<Figure size 640x480 with 1 Axes>"
      ]
     },
     "metadata": {},
     "output_type": "display_data"
    }
   ],
   "source": [
    "ret.cumsum().dropna().plot()"
   ]
  },
  {
   "cell_type": "code",
   "execution_count": 171,
   "id": "70c75627-ef34-4380-87d7-3b339a3c7883",
   "metadata": {
    "tags": []
   },
   "outputs": [
    {
     "data": {
      "text/plain": [
       "-0.2936620688638095"
      ]
     },
     "execution_count": 171,
     "metadata": {},
     "output_type": "execute_result"
    }
   ],
   "source": [
    "sharp_ratio = math.sqrt(252)*ret.mean()/ret.std()\n",
    "sharp_ratio"
   ]
  },
  {
   "cell_type": "code",
   "execution_count": 172,
   "id": "1554eace-c825-4261-bd3e-31e38fbbb2c0",
   "metadata": {
    "tags": []
   },
   "outputs": [
    {
     "data": {
      "text/html": [
       "<div>\n",
       "<style scoped>\n",
       "    .dataframe tbody tr th:only-of-type {\n",
       "        vertical-align: middle;\n",
       "    }\n",
       "\n",
       "    .dataframe tbody tr th {\n",
       "        vertical-align: top;\n",
       "    }\n",
       "\n",
       "    .dataframe thead th {\n",
       "        text-align: right;\n",
       "    }\n",
       "</style>\n",
       "<table border=\"1\" class=\"dataframe\">\n",
       "  <thead>\n",
       "    <tr style=\"text-align: right;\">\n",
       "      <th></th>\n",
       "      <th>ret</th>\n",
       "      <th>lagged_ret</th>\n",
       "      <th>high_watermark_index</th>\n",
       "    </tr>\n",
       "    <tr>\n",
       "      <th>datetime</th>\n",
       "      <th></th>\n",
       "      <th></th>\n",
       "      <th></th>\n",
       "    </tr>\n",
       "  </thead>\n",
       "  <tbody>\n",
       "    <tr>\n",
       "      <th>2019-05-08</th>\n",
       "      <td>0.029019</td>\n",
       "      <td>0.000000</td>\n",
       "      <td>2019-05-08</td>\n",
       "    </tr>\n",
       "    <tr>\n",
       "      <th>2019-05-09</th>\n",
       "      <td>0.037380</td>\n",
       "      <td>0.029019</td>\n",
       "      <td>2019-05-09</td>\n",
       "    </tr>\n",
       "    <tr>\n",
       "      <th>2019-05-10</th>\n",
       "      <td>0.019449</td>\n",
       "      <td>0.037380</td>\n",
       "      <td>2019-05-10</td>\n",
       "    </tr>\n",
       "    <tr>\n",
       "      <th>2019-05-13</th>\n",
       "      <td>0.045095</td>\n",
       "      <td>0.019449</td>\n",
       "      <td>2019-05-13</td>\n",
       "    </tr>\n",
       "    <tr>\n",
       "      <th>2019-05-14</th>\n",
       "      <td>0.034993</td>\n",
       "      <td>0.045095</td>\n",
       "      <td>2019-05-14</td>\n",
       "    </tr>\n",
       "    <tr>\n",
       "      <th>...</th>\n",
       "      <td>...</td>\n",
       "      <td>...</td>\n",
       "      <td>...</td>\n",
       "    </tr>\n",
       "    <tr>\n",
       "      <th>2020-12-11</th>\n",
       "      <td>3.044355</td>\n",
       "      <td>3.046774</td>\n",
       "      <td>2020-12-11</td>\n",
       "    </tr>\n",
       "    <tr>\n",
       "      <th>2020-12-14</th>\n",
       "      <td>1.221281</td>\n",
       "      <td>3.044355</td>\n",
       "      <td>2020-12-14</td>\n",
       "    </tr>\n",
       "    <tr>\n",
       "      <th>2020-12-15</th>\n",
       "      <td>1.147171</td>\n",
       "      <td>1.221281</td>\n",
       "      <td>2020-12-15</td>\n",
       "    </tr>\n",
       "    <tr>\n",
       "      <th>2020-12-16</th>\n",
       "      <td>1.114859</td>\n",
       "      <td>1.147171</td>\n",
       "      <td>2020-12-16</td>\n",
       "    </tr>\n",
       "    <tr>\n",
       "      <th>2020-12-17</th>\n",
       "      <td>-1.127839</td>\n",
       "      <td>1.114859</td>\n",
       "      <td>2020-12-17</td>\n",
       "    </tr>\n",
       "  </tbody>\n",
       "</table>\n",
       "<p>247 rows × 3 columns</p>\n",
       "</div>"
      ],
      "text/plain": [
       "                 ret  lagged_ret high_watermark_index\n",
       "datetime                                             \n",
       "2019-05-08  0.029019    0.000000           2019-05-08\n",
       "2019-05-09  0.037380    0.029019           2019-05-09\n",
       "2019-05-10  0.019449    0.037380           2019-05-10\n",
       "2019-05-13  0.045095    0.019449           2019-05-13\n",
       "2019-05-14  0.034993    0.045095           2019-05-14\n",
       "...              ...         ...                  ...\n",
       "2020-12-11  3.044355    3.046774           2020-12-11\n",
       "2020-12-14  1.221281    3.044355           2020-12-14\n",
       "2020-12-15  1.147171    1.221281           2020-12-15\n",
       "2020-12-16  1.114859    1.147171           2020-12-16\n",
       "2020-12-17 -1.127839    1.114859           2020-12-17\n",
       "\n",
       "[247 rows x 3 columns]"
      ]
     },
     "execution_count": 172,
     "metadata": {},
     "output_type": "execute_result"
    }
   ],
   "source": [
    "term = pd.DataFrame({\n",
    "    \"ret\": ret.cumsum().dropna(),\n",
    "    'lagged_ret': ret.cumsum().dropna().shift(1),\n",
    "    'high_watermark_index': ret.cumsum().dropna().index\n",
    "})\n",
    "term['lagged_ret'] = term['lagged_ret'].fillna(0)\n",
    "term"
   ]
  },
  {
   "cell_type": "code",
   "execution_count": 173,
   "id": "0ae64712-bda2-41bf-8d9c-44159a496768",
   "metadata": {
    "tags": []
   },
   "outputs": [
    {
     "data": {
      "text/html": [
       "<div>\n",
       "<style scoped>\n",
       "    .dataframe tbody tr th:only-of-type {\n",
       "        vertical-align: middle;\n",
       "    }\n",
       "\n",
       "    .dataframe tbody tr th {\n",
       "        vertical-align: top;\n",
       "    }\n",
       "\n",
       "    .dataframe thead th {\n",
       "        text-align: right;\n",
       "    }\n",
       "</style>\n",
       "<table border=\"1\" class=\"dataframe\">\n",
       "  <thead>\n",
       "    <tr style=\"text-align: right;\">\n",
       "      <th></th>\n",
       "      <th>ret</th>\n",
       "      <th>lagged_ret</th>\n",
       "      <th>high_watermark_index</th>\n",
       "    </tr>\n",
       "    <tr>\n",
       "      <th>datetime</th>\n",
       "      <th></th>\n",
       "      <th></th>\n",
       "      <th></th>\n",
       "    </tr>\n",
       "  </thead>\n",
       "  <tbody>\n",
       "    <tr>\n",
       "      <th>2019-05-08</th>\n",
       "      <td>0.029019</td>\n",
       "      <td>0.000000</td>\n",
       "      <td>2019-05-08</td>\n",
       "    </tr>\n",
       "    <tr>\n",
       "      <th>2019-05-09</th>\n",
       "      <td>0.037380</td>\n",
       "      <td>0.029019</td>\n",
       "      <td>2019-05-09</td>\n",
       "    </tr>\n",
       "    <tr>\n",
       "      <th>2019-05-10</th>\n",
       "      <td>0.019449</td>\n",
       "      <td>0.037380</td>\n",
       "      <td>2019-05-09</td>\n",
       "    </tr>\n",
       "    <tr>\n",
       "      <th>2019-05-13</th>\n",
       "      <td>0.045095</td>\n",
       "      <td>0.019449</td>\n",
       "      <td>2019-05-13</td>\n",
       "    </tr>\n",
       "    <tr>\n",
       "      <th>2019-05-14</th>\n",
       "      <td>0.034993</td>\n",
       "      <td>0.045095</td>\n",
       "      <td>2019-05-13</td>\n",
       "    </tr>\n",
       "    <tr>\n",
       "      <th>...</th>\n",
       "      <td>...</td>\n",
       "      <td>...</td>\n",
       "      <td>...</td>\n",
       "    </tr>\n",
       "    <tr>\n",
       "      <th>2020-12-11</th>\n",
       "      <td>3.044355</td>\n",
       "      <td>3.046774</td>\n",
       "      <td>2020-09-17</td>\n",
       "    </tr>\n",
       "    <tr>\n",
       "      <th>2020-12-14</th>\n",
       "      <td>1.221281</td>\n",
       "      <td>3.044355</td>\n",
       "      <td>2020-09-17</td>\n",
       "    </tr>\n",
       "    <tr>\n",
       "      <th>2020-12-15</th>\n",
       "      <td>1.147171</td>\n",
       "      <td>1.221281</td>\n",
       "      <td>2020-09-17</td>\n",
       "    </tr>\n",
       "    <tr>\n",
       "      <th>2020-12-16</th>\n",
       "      <td>1.114859</td>\n",
       "      <td>1.147171</td>\n",
       "      <td>2020-09-17</td>\n",
       "    </tr>\n",
       "    <tr>\n",
       "      <th>2020-12-17</th>\n",
       "      <td>-1.127839</td>\n",
       "      <td>1.114859</td>\n",
       "      <td>2020-09-17</td>\n",
       "    </tr>\n",
       "  </tbody>\n",
       "</table>\n",
       "<p>247 rows × 3 columns</p>\n",
       "</div>"
      ],
      "text/plain": [
       "                 ret  lagged_ret high_watermark_index\n",
       "datetime                                             \n",
       "2019-05-08  0.029019    0.000000           2019-05-08\n",
       "2019-05-09  0.037380    0.029019           2019-05-09\n",
       "2019-05-10  0.019449    0.037380           2019-05-09\n",
       "2019-05-13  0.045095    0.019449           2019-05-13\n",
       "2019-05-14  0.034993    0.045095           2019-05-13\n",
       "...              ...         ...                  ...\n",
       "2020-12-11  3.044355    3.046774           2020-09-17\n",
       "2020-12-14  1.221281    3.044355           2020-09-17\n",
       "2020-12-15  1.147171    1.221281           2020-09-17\n",
       "2020-12-16  1.114859    1.147171           2020-09-17\n",
       "2020-12-17 -1.127839    1.114859           2020-09-17\n",
       "\n",
       "[247 rows x 3 columns]"
      ]
     },
     "execution_count": 173,
     "metadata": {},
     "output_type": "execute_result"
    }
   ],
   "source": [
    "highest_watermark_index = term.iloc[0]['high_watermark_index']\n",
    "for d in term.index:\n",
    "    row = term.loc[d]\n",
    "    if row['ret'] >= term.loc[highest_watermark_index]['ret']:\n",
    "        highest_watermark_index = d\n",
    "    term.loc[d, 'high_watermark_index']= highest_watermark_index\n",
    "term"
   ]
  },
  {
   "cell_type": "code",
   "execution_count": 174,
   "id": "27449b09-b3bb-4290-95a8-e311c53b2335",
   "metadata": {
    "tags": []
   },
   "outputs": [
    {
     "data": {
      "text/html": [
       "<div>\n",
       "<style scoped>\n",
       "    .dataframe tbody tr th:only-of-type {\n",
       "        vertical-align: middle;\n",
       "    }\n",
       "\n",
       "    .dataframe tbody tr th {\n",
       "        vertical-align: top;\n",
       "    }\n",
       "\n",
       "    .dataframe thead th {\n",
       "        text-align: right;\n",
       "    }\n",
       "</style>\n",
       "<table border=\"1\" class=\"dataframe\">\n",
       "  <thead>\n",
       "    <tr style=\"text-align: right;\">\n",
       "      <th></th>\n",
       "      <th>ret</th>\n",
       "      <th>lagged_ret</th>\n",
       "      <th>high_watermark_index</th>\n",
       "      <th>high_watermark_ret</th>\n",
       "      <th>drawdown_deep</th>\n",
       "      <th>drawdown_duration</th>\n",
       "    </tr>\n",
       "    <tr>\n",
       "      <th>datetime</th>\n",
       "      <th></th>\n",
       "      <th></th>\n",
       "      <th></th>\n",
       "      <th></th>\n",
       "      <th></th>\n",
       "      <th></th>\n",
       "    </tr>\n",
       "  </thead>\n",
       "  <tbody>\n",
       "    <tr>\n",
       "      <th>2019-05-08</th>\n",
       "      <td>0.029019</td>\n",
       "      <td>0.000000</td>\n",
       "      <td>2019-05-08</td>\n",
       "      <td>0.029019</td>\n",
       "      <td>0.000000</td>\n",
       "      <td>0 days</td>\n",
       "    </tr>\n",
       "    <tr>\n",
       "      <th>2019-05-09</th>\n",
       "      <td>0.037380</td>\n",
       "      <td>0.029019</td>\n",
       "      <td>2019-05-09</td>\n",
       "      <td>0.037380</td>\n",
       "      <td>0.000000</td>\n",
       "      <td>0 days</td>\n",
       "    </tr>\n",
       "    <tr>\n",
       "      <th>2019-05-10</th>\n",
       "      <td>0.019449</td>\n",
       "      <td>0.037380</td>\n",
       "      <td>2019-05-09</td>\n",
       "      <td>0.037380</td>\n",
       "      <td>0.017930</td>\n",
       "      <td>1 days</td>\n",
       "    </tr>\n",
       "    <tr>\n",
       "      <th>2019-05-13</th>\n",
       "      <td>0.045095</td>\n",
       "      <td>0.019449</td>\n",
       "      <td>2019-05-13</td>\n",
       "      <td>0.045095</td>\n",
       "      <td>0.000000</td>\n",
       "      <td>0 days</td>\n",
       "    </tr>\n",
       "    <tr>\n",
       "      <th>2019-05-14</th>\n",
       "      <td>0.034993</td>\n",
       "      <td>0.045095</td>\n",
       "      <td>2019-05-13</td>\n",
       "      <td>0.045095</td>\n",
       "      <td>0.010101</td>\n",
       "      <td>1 days</td>\n",
       "    </tr>\n",
       "    <tr>\n",
       "      <th>...</th>\n",
       "      <td>...</td>\n",
       "      <td>...</td>\n",
       "      <td>...</td>\n",
       "      <td>...</td>\n",
       "      <td>...</td>\n",
       "      <td>...</td>\n",
       "    </tr>\n",
       "    <tr>\n",
       "      <th>2020-12-11</th>\n",
       "      <td>3.044355</td>\n",
       "      <td>3.046774</td>\n",
       "      <td>2020-09-17</td>\n",
       "      <td>4.190030</td>\n",
       "      <td>1.145674</td>\n",
       "      <td>85 days</td>\n",
       "    </tr>\n",
       "    <tr>\n",
       "      <th>2020-12-14</th>\n",
       "      <td>1.221281</td>\n",
       "      <td>3.044355</td>\n",
       "      <td>2020-09-17</td>\n",
       "      <td>4.190030</td>\n",
       "      <td>2.968749</td>\n",
       "      <td>88 days</td>\n",
       "    </tr>\n",
       "    <tr>\n",
       "      <th>2020-12-15</th>\n",
       "      <td>1.147171</td>\n",
       "      <td>1.221281</td>\n",
       "      <td>2020-09-17</td>\n",
       "      <td>4.190030</td>\n",
       "      <td>3.042859</td>\n",
       "      <td>89 days</td>\n",
       "    </tr>\n",
       "    <tr>\n",
       "      <th>2020-12-16</th>\n",
       "      <td>1.114859</td>\n",
       "      <td>1.147171</td>\n",
       "      <td>2020-09-17</td>\n",
       "      <td>4.190030</td>\n",
       "      <td>3.075170</td>\n",
       "      <td>90 days</td>\n",
       "    </tr>\n",
       "    <tr>\n",
       "      <th>2020-12-17</th>\n",
       "      <td>-1.127839</td>\n",
       "      <td>1.114859</td>\n",
       "      <td>2020-09-17</td>\n",
       "      <td>4.190030</td>\n",
       "      <td>5.317869</td>\n",
       "      <td>91 days</td>\n",
       "    </tr>\n",
       "  </tbody>\n",
       "</table>\n",
       "<p>247 rows × 6 columns</p>\n",
       "</div>"
      ],
      "text/plain": [
       "                 ret  lagged_ret high_watermark_index  high_watermark_ret  \\\n",
       "datetime                                                                    \n",
       "2019-05-08  0.029019    0.000000           2019-05-08            0.029019   \n",
       "2019-05-09  0.037380    0.029019           2019-05-09            0.037380   \n",
       "2019-05-10  0.019449    0.037380           2019-05-09            0.037380   \n",
       "2019-05-13  0.045095    0.019449           2019-05-13            0.045095   \n",
       "2019-05-14  0.034993    0.045095           2019-05-13            0.045095   \n",
       "...              ...         ...                  ...                 ...   \n",
       "2020-12-11  3.044355    3.046774           2020-09-17            4.190030   \n",
       "2020-12-14  1.221281    3.044355           2020-09-17            4.190030   \n",
       "2020-12-15  1.147171    1.221281           2020-09-17            4.190030   \n",
       "2020-12-16  1.114859    1.147171           2020-09-17            4.190030   \n",
       "2020-12-17 -1.127839    1.114859           2020-09-17            4.190030   \n",
       "\n",
       "            drawdown_deep drawdown_duration  \n",
       "datetime                                     \n",
       "2019-05-08       0.000000            0 days  \n",
       "2019-05-09       0.000000            0 days  \n",
       "2019-05-10       0.017930            1 days  \n",
       "2019-05-13       0.000000            0 days  \n",
       "2019-05-14       0.010101            1 days  \n",
       "...                   ...               ...  \n",
       "2020-12-11       1.145674           85 days  \n",
       "2020-12-14       2.968749           88 days  \n",
       "2020-12-15       3.042859           89 days  \n",
       "2020-12-16       3.075170           90 days  \n",
       "2020-12-17       5.317869           91 days  \n",
       "\n",
       "[247 rows x 6 columns]"
      ]
     },
     "execution_count": 174,
     "metadata": {},
     "output_type": "execute_result"
    }
   ],
   "source": [
    "term['high_watermark_ret'] = term.apply(lambda x: term.loc[x['high_watermark_index']]['ret'], axis=1)\n",
    "term['drawdown_deep'] = term['high_watermark_ret'] - term['ret']\n",
    "term['drawdown_duration'] = term.index - term['high_watermark_index']\n",
    "term"
   ]
  },
  {
   "cell_type": "code",
   "execution_count": 175,
   "id": "552eb94e-ca47-493a-aa2d-4806112f31bd",
   "metadata": {
    "tags": []
   },
   "outputs": [
    {
     "data": {
      "text/html": [
       "<div>\n",
       "<style scoped>\n",
       "    .dataframe tbody tr th:only-of-type {\n",
       "        vertical-align: middle;\n",
       "    }\n",
       "\n",
       "    .dataframe tbody tr th {\n",
       "        vertical-align: top;\n",
       "    }\n",
       "\n",
       "    .dataframe thead th {\n",
       "        text-align: right;\n",
       "    }\n",
       "</style>\n",
       "<table border=\"1\" class=\"dataframe\">\n",
       "  <thead>\n",
       "    <tr style=\"text-align: right;\">\n",
       "      <th></th>\n",
       "      <th>ret</th>\n",
       "      <th>lagged_ret</th>\n",
       "      <th>high_watermark_index</th>\n",
       "      <th>high_watermark_ret</th>\n",
       "      <th>drawdown_deep</th>\n",
       "      <th>drawdown_duration</th>\n",
       "    </tr>\n",
       "  </thead>\n",
       "  <tbody>\n",
       "    <tr>\n",
       "      <th>count</th>\n",
       "      <td>247.000000</td>\n",
       "      <td>247.000000</td>\n",
       "      <td>247</td>\n",
       "      <td>247.000000</td>\n",
       "      <td>247.000000</td>\n",
       "      <td>247</td>\n",
       "    </tr>\n",
       "    <tr>\n",
       "      <th>mean</th>\n",
       "      <td>1.497552</td>\n",
       "      <td>1.502118</td>\n",
       "      <td>2020-02-12 11:27:56.113360384</td>\n",
       "      <td>1.742250</td>\n",
       "      <td>0.244698</td>\n",
       "      <td>20 days 02:43:14.331983805</td>\n",
       "    </tr>\n",
       "    <tr>\n",
       "      <th>min</th>\n",
       "      <td>-1.127839</td>\n",
       "      <td>-0.101844</td>\n",
       "      <td>2019-05-08 00:00:00</td>\n",
       "      <td>0.029019</td>\n",
       "      <td>0.000000</td>\n",
       "      <td>0 days 00:00:00</td>\n",
       "    </tr>\n",
       "    <tr>\n",
       "      <th>25%</th>\n",
       "      <td>0.187888</td>\n",
       "      <td>0.187888</td>\n",
       "      <td>2019-10-24 00:00:00</td>\n",
       "      <td>0.301450</td>\n",
       "      <td>0.013148</td>\n",
       "      <td>1 days 00:00:00</td>\n",
       "    </tr>\n",
       "    <tr>\n",
       "      <th>50%</th>\n",
       "      <td>0.399071</td>\n",
       "      <td>0.399071</td>\n",
       "      <td>2020-01-23 00:00:00</td>\n",
       "      <td>0.471131</td>\n",
       "      <td>0.078895</td>\n",
       "      <td>8 days 00:00:00</td>\n",
       "    </tr>\n",
       "    <tr>\n",
       "      <th>75%</th>\n",
       "      <td>3.605053</td>\n",
       "      <td>3.605053</td>\n",
       "      <td>2020-09-17 00:00:00</td>\n",
       "      <td>4.190030</td>\n",
       "      <td>0.364793</td>\n",
       "      <td>33 days 00:00:00</td>\n",
       "    </tr>\n",
       "    <tr>\n",
       "      <th>max</th>\n",
       "      <td>4.190030</td>\n",
       "      <td>4.190030</td>\n",
       "      <td>2020-09-17 00:00:00</td>\n",
       "      <td>4.190030</td>\n",
       "      <td>5.317869</td>\n",
       "      <td>91 days 00:00:00</td>\n",
       "    </tr>\n",
       "    <tr>\n",
       "      <th>std</th>\n",
       "      <td>1.572081</td>\n",
       "      <td>1.566051</td>\n",
       "      <td>NaN</td>\n",
       "      <td>1.738934</td>\n",
       "      <td>0.502950</td>\n",
       "      <td>24 days 11:13:03.538513475</td>\n",
       "    </tr>\n",
       "  </tbody>\n",
       "</table>\n",
       "</div>"
      ],
      "text/plain": [
       "              ret  lagged_ret           high_watermark_index  \\\n",
       "count  247.000000  247.000000                            247   \n",
       "mean     1.497552    1.502118  2020-02-12 11:27:56.113360384   \n",
       "min     -1.127839   -0.101844            2019-05-08 00:00:00   \n",
       "25%      0.187888    0.187888            2019-10-24 00:00:00   \n",
       "50%      0.399071    0.399071            2020-01-23 00:00:00   \n",
       "75%      3.605053    3.605053            2020-09-17 00:00:00   \n",
       "max      4.190030    4.190030            2020-09-17 00:00:00   \n",
       "std      1.572081    1.566051                            NaN   \n",
       "\n",
       "       high_watermark_ret  drawdown_deep           drawdown_duration  \n",
       "count          247.000000     247.000000                         247  \n",
       "mean             1.742250       0.244698  20 days 02:43:14.331983805  \n",
       "min              0.029019       0.000000             0 days 00:00:00  \n",
       "25%              0.301450       0.013148             1 days 00:00:00  \n",
       "50%              0.471131       0.078895             8 days 00:00:00  \n",
       "75%              4.190030       0.364793            33 days 00:00:00  \n",
       "max              4.190030       5.317869            91 days 00:00:00  \n",
       "std              1.738934       0.502950  24 days 11:13:03.538513475  "
      ]
     },
     "execution_count": 175,
     "metadata": {},
     "output_type": "execute_result"
    }
   ],
   "source": [
    "term.describe()"
   ]
  }
 ],
 "metadata": {
  "kernelspec": {
   "display_name": "Python 3 (ipykernel)",
   "language": "python",
   "name": "python3"
  },
  "language_info": {
   "codemirror_mode": {
    "name": "ipython",
    "version": 3
   },
   "file_extension": ".py",
   "mimetype": "text/x-python",
   "name": "python",
   "nbconvert_exporter": "python",
   "pygments_lexer": "ipython3",
   "version": "3.9.17"
  }
 },
 "nbformat": 4,
 "nbformat_minor": 5
}
