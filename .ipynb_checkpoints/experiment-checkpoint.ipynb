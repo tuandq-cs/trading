{
 "cells": [
  {
   "cell_type": "code",
   "execution_count": 2,
   "id": "dd3e942f-938f-4dd6-979c-5af821ebd698",
   "metadata": {
    "tags": []
   },
   "outputs": [],
   "source": [
    "import pandas as pd\n",
    "import numpy as np\n",
    "import matplotlib.pyplot as plt\n",
    "import math"
   ]
  },
  {
   "cell_type": "code",
   "execution_count": 3,
   "id": "f3290bdd-2a14-4fd3-9e33-05d733e11f64",
   "metadata": {
    "tags": []
   },
   "outputs": [],
   "source": [
    "xle_raw = pd.read_csv('XLE.csv', delimiter=\";\", parse_dates=[\"datetime\"]).set_index(\"datetime\")\n",
    "xlu_raw = pd.read_csv('XLU.csv', delimiter=\";\", parse_dates=[\"datetime\"]).set_index(\"datetime\")"
   ]
  },
  {
   "cell_type": "code",
   "execution_count": 4,
   "id": "6c052a94-0af4-42c0-bc53-0efc0ea4e0e3",
   "metadata": {
    "tags": []
   },
   "outputs": [
    {
     "data": {
      "text/html": [
       "<div>\n",
       "<style scoped>\n",
       "    .dataframe tbody tr th:only-of-type {\n",
       "        vertical-align: middle;\n",
       "    }\n",
       "\n",
       "    .dataframe tbody tr th {\n",
       "        vertical-align: top;\n",
       "    }\n",
       "\n",
       "    .dataframe thead th {\n",
       "        text-align: right;\n",
       "    }\n",
       "</style>\n",
       "<table border=\"1\" class=\"dataframe\">\n",
       "  <thead>\n",
       "    <tr style=\"text-align: right;\">\n",
       "      <th></th>\n",
       "      <th>open</th>\n",
       "      <th>high</th>\n",
       "      <th>low</th>\n",
       "      <th>close</th>\n",
       "      <th>volume</th>\n",
       "    </tr>\n",
       "    <tr>\n",
       "      <th>datetime</th>\n",
       "      <th></th>\n",
       "      <th></th>\n",
       "      <th></th>\n",
       "      <th></th>\n",
       "      <th></th>\n",
       "    </tr>\n",
       "  </thead>\n",
       "  <tbody>\n",
       "    <tr>\n",
       "      <th>2023-09-07</th>\n",
       "      <td>91.44</td>\n",
       "      <td>91.90</td>\n",
       "      <td>91.0088</td>\n",
       "      <td>91.17</td>\n",
       "      <td>15361552</td>\n",
       "    </tr>\n",
       "    <tr>\n",
       "      <th>2023-09-06</th>\n",
       "      <td>91.04</td>\n",
       "      <td>91.75</td>\n",
       "      <td>90.5900</td>\n",
       "      <td>91.26</td>\n",
       "      <td>20162100</td>\n",
       "    </tr>\n",
       "    <tr>\n",
       "      <th>2023-09-05</th>\n",
       "      <td>91.25</td>\n",
       "      <td>92.15</td>\n",
       "      <td>91.1600</td>\n",
       "      <td>91.22</td>\n",
       "      <td>24368700</td>\n",
       "    </tr>\n",
       "    <tr>\n",
       "      <th>2023-09-01</th>\n",
       "      <td>89.90</td>\n",
       "      <td>90.84</td>\n",
       "      <td>89.8800</td>\n",
       "      <td>90.74</td>\n",
       "      <td>17878100</td>\n",
       "    </tr>\n",
       "    <tr>\n",
       "      <th>2023-08-31</th>\n",
       "      <td>89.19</td>\n",
       "      <td>89.34</td>\n",
       "      <td>88.2800</td>\n",
       "      <td>88.92</td>\n",
       "      <td>14808700</td>\n",
       "    </tr>\n",
       "    <tr>\n",
       "      <th>...</th>\n",
       "      <td>...</td>\n",
       "      <td>...</td>\n",
       "      <td>...</td>\n",
       "      <td>...</td>\n",
       "      <td>...</td>\n",
       "    </tr>\n",
       "    <tr>\n",
       "      <th>2010-01-08</th>\n",
       "      <td>59.70</td>\n",
       "      <td>60.35</td>\n",
       "      <td>59.4900</td>\n",
       "      <td>60.30</td>\n",
       "      <td>13344300</td>\n",
       "    </tr>\n",
       "    <tr>\n",
       "      <th>2010-01-07</th>\n",
       "      <td>59.74</td>\n",
       "      <td>60.01</td>\n",
       "      <td>59.3000</td>\n",
       "      <td>59.91</td>\n",
       "      <td>17449500</td>\n",
       "    </tr>\n",
       "    <tr>\n",
       "      <th>2010-01-06</th>\n",
       "      <td>59.32</td>\n",
       "      <td>60.18</td>\n",
       "      <td>59.1900</td>\n",
       "      <td>60.00</td>\n",
       "      <td>24351900</td>\n",
       "    </tr>\n",
       "    <tr>\n",
       "      <th>2010-01-05</th>\n",
       "      <td>58.89</td>\n",
       "      <td>59.41</td>\n",
       "      <td>58.6200</td>\n",
       "      <td>59.29</td>\n",
       "      <td>17368100</td>\n",
       "    </tr>\n",
       "    <tr>\n",
       "      <th>2010-01-04</th>\n",
       "      <td>57.92</td>\n",
       "      <td>58.81</td>\n",
       "      <td>57.7900</td>\n",
       "      <td>58.81</td>\n",
       "      <td>16928400</td>\n",
       "    </tr>\n",
       "  </tbody>\n",
       "</table>\n",
       "<p>3443 rows × 5 columns</p>\n",
       "</div>"
      ],
      "text/plain": [
       "             open   high      low  close    volume\n",
       "datetime                                          \n",
       "2023-09-07  91.44  91.90  91.0088  91.17  15361552\n",
       "2023-09-06  91.04  91.75  90.5900  91.26  20162100\n",
       "2023-09-05  91.25  92.15  91.1600  91.22  24368700\n",
       "2023-09-01  89.90  90.84  89.8800  90.74  17878100\n",
       "2023-08-31  89.19  89.34  88.2800  88.92  14808700\n",
       "...           ...    ...      ...    ...       ...\n",
       "2010-01-08  59.70  60.35  59.4900  60.30  13344300\n",
       "2010-01-07  59.74  60.01  59.3000  59.91  17449500\n",
       "2010-01-06  59.32  60.18  59.1900  60.00  24351900\n",
       "2010-01-05  58.89  59.41  58.6200  59.29  17368100\n",
       "2010-01-04  57.92  58.81  57.7900  58.81  16928400\n",
       "\n",
       "[3443 rows x 5 columns]"
      ]
     },
     "execution_count": 4,
     "metadata": {},
     "output_type": "execute_result"
    }
   ],
   "source": [
    "xle_raw"
   ]
  },
  {
   "cell_type": "code",
   "execution_count": 5,
   "id": "495a16bc-6d8e-406c-8928-74d9d2ea2d34",
   "metadata": {
    "tags": []
   },
   "outputs": [
    {
     "data": {
      "text/html": [
       "<div>\n",
       "<style scoped>\n",
       "    .dataframe tbody tr th:only-of-type {\n",
       "        vertical-align: middle;\n",
       "    }\n",
       "\n",
       "    .dataframe tbody tr th {\n",
       "        vertical-align: top;\n",
       "    }\n",
       "\n",
       "    .dataframe thead th {\n",
       "        text-align: right;\n",
       "    }\n",
       "</style>\n",
       "<table border=\"1\" class=\"dataframe\">\n",
       "  <thead>\n",
       "    <tr style=\"text-align: right;\">\n",
       "      <th></th>\n",
       "      <th>open</th>\n",
       "      <th>high</th>\n",
       "      <th>low</th>\n",
       "      <th>close</th>\n",
       "      <th>volume</th>\n",
       "    </tr>\n",
       "    <tr>\n",
       "      <th>datetime</th>\n",
       "      <th></th>\n",
       "      <th></th>\n",
       "      <th></th>\n",
       "      <th></th>\n",
       "      <th></th>\n",
       "    </tr>\n",
       "  </thead>\n",
       "  <tbody>\n",
       "    <tr>\n",
       "      <th>2023-09-07</th>\n",
       "      <td>62.35</td>\n",
       "      <td>63.13</td>\n",
       "      <td>62.19</td>\n",
       "      <td>62.63</td>\n",
       "      <td>16873800</td>\n",
       "    </tr>\n",
       "    <tr>\n",
       "      <th>2023-09-06</th>\n",
       "      <td>61.77</td>\n",
       "      <td>61.89</td>\n",
       "      <td>61.42</td>\n",
       "      <td>61.82</td>\n",
       "      <td>19470100</td>\n",
       "    </tr>\n",
       "    <tr>\n",
       "      <th>2023-09-05</th>\n",
       "      <td>62.60</td>\n",
       "      <td>62.64</td>\n",
       "      <td>61.34</td>\n",
       "      <td>61.68</td>\n",
       "      <td>18825300</td>\n",
       "    </tr>\n",
       "    <tr>\n",
       "      <th>2023-09-01</th>\n",
       "      <td>63.29</td>\n",
       "      <td>63.51</td>\n",
       "      <td>62.15</td>\n",
       "      <td>62.64</td>\n",
       "      <td>14387700</td>\n",
       "    </tr>\n",
       "    <tr>\n",
       "      <th>2023-08-31</th>\n",
       "      <td>63.82</td>\n",
       "      <td>63.88</td>\n",
       "      <td>62.94</td>\n",
       "      <td>62.96</td>\n",
       "      <td>13771100</td>\n",
       "    </tr>\n",
       "    <tr>\n",
       "      <th>...</th>\n",
       "      <td>...</td>\n",
       "      <td>...</td>\n",
       "      <td>...</td>\n",
       "      <td>...</td>\n",
       "      <td>...</td>\n",
       "    </tr>\n",
       "    <tr>\n",
       "      <th>2010-01-08</th>\n",
       "      <td>30.71</td>\n",
       "      <td>30.79</td>\n",
       "      <td>30.52</td>\n",
       "      <td>30.72</td>\n",
       "      <td>6267600</td>\n",
       "    </tr>\n",
       "    <tr>\n",
       "      <th>2010-01-07</th>\n",
       "      <td>30.85</td>\n",
       "      <td>30.87</td>\n",
       "      <td>30.64</td>\n",
       "      <td>30.75</td>\n",
       "      <td>6563100</td>\n",
       "    </tr>\n",
       "    <tr>\n",
       "      <th>2010-01-06</th>\n",
       "      <td>30.69</td>\n",
       "      <td>31.00</td>\n",
       "      <td>30.69</td>\n",
       "      <td>30.89</td>\n",
       "      <td>12745100</td>\n",
       "    </tr>\n",
       "    <tr>\n",
       "      <th>2010-01-05</th>\n",
       "      <td>30.99</td>\n",
       "      <td>31.17</td>\n",
       "      <td>30.56</td>\n",
       "      <td>30.71</td>\n",
       "      <td>18023700</td>\n",
       "    </tr>\n",
       "    <tr>\n",
       "      <th>2010-01-04</th>\n",
       "      <td>31.28</td>\n",
       "      <td>31.36</td>\n",
       "      <td>31.01</td>\n",
       "      <td>31.08</td>\n",
       "      <td>8217600</td>\n",
       "    </tr>\n",
       "  </tbody>\n",
       "</table>\n",
       "<p>3443 rows × 5 columns</p>\n",
       "</div>"
      ],
      "text/plain": [
       "             open   high    low  close    volume\n",
       "datetime                                        \n",
       "2023-09-07  62.35  63.13  62.19  62.63  16873800\n",
       "2023-09-06  61.77  61.89  61.42  61.82  19470100\n",
       "2023-09-05  62.60  62.64  61.34  61.68  18825300\n",
       "2023-09-01  63.29  63.51  62.15  62.64  14387700\n",
       "2023-08-31  63.82  63.88  62.94  62.96  13771100\n",
       "...           ...    ...    ...    ...       ...\n",
       "2010-01-08  30.71  30.79  30.52  30.72   6267600\n",
       "2010-01-07  30.85  30.87  30.64  30.75   6563100\n",
       "2010-01-06  30.69  31.00  30.69  30.89  12745100\n",
       "2010-01-05  30.99  31.17  30.56  30.71  18023700\n",
       "2010-01-04  31.28  31.36  31.01  31.08   8217600\n",
       "\n",
       "[3443 rows x 5 columns]"
      ]
     },
     "execution_count": 5,
     "metadata": {},
     "output_type": "execute_result"
    }
   ],
   "source": [
    "xlu_raw"
   ]
  },
  {
   "cell_type": "code",
   "execution_count": 6,
   "id": "6bf841b7-4463-4c7c-848b-3a79fc3f441e",
   "metadata": {
    "tags": []
   },
   "outputs": [
    {
     "data": {
      "text/plain": [
       "datetime\n",
       "2023-09-07    91.17\n",
       "2023-09-06    91.26\n",
       "2023-09-05    91.22\n",
       "2023-09-01    90.74\n",
       "2023-08-31    88.92\n",
       "              ...  \n",
       "2010-01-08    60.30\n",
       "2010-01-07    59.91\n",
       "2010-01-06    60.00\n",
       "2010-01-05    59.29\n",
       "2010-01-04    58.81\n",
       "Name: XLE, Length: 3443, dtype: float64"
      ]
     },
     "execution_count": 6,
     "metadata": {},
     "output_type": "execute_result"
    }
   ],
   "source": [
    "xle = xle_raw[\"close\"].rename(\"XLE\")\n",
    "xle"
   ]
  },
  {
   "cell_type": "code",
   "execution_count": 7,
   "id": "accac899-fe73-4307-901e-2e21a2ad3c99",
   "metadata": {
    "tags": []
   },
   "outputs": [
    {
     "data": {
      "text/plain": [
       "datetime\n",
       "2023-09-07    62.63\n",
       "2023-09-06    61.82\n",
       "2023-09-05    61.68\n",
       "2023-09-01    62.64\n",
       "2023-08-31    62.96\n",
       "              ...  \n",
       "2010-01-08    30.72\n",
       "2010-01-07    30.75\n",
       "2010-01-06    30.89\n",
       "2010-01-05    30.71\n",
       "2010-01-04    31.08\n",
       "Name: XLU, Length: 3443, dtype: float64"
      ]
     },
     "execution_count": 7,
     "metadata": {},
     "output_type": "execute_result"
    }
   ],
   "source": [
    "xlu = xlu_raw[\"close\"].rename(\"XLU\")\n",
    "xlu"
   ]
  },
  {
   "cell_type": "code",
   "execution_count": 8,
   "id": "900825cf-ea57-4520-b031-179cf15056fc",
   "metadata": {
    "tags": []
   },
   "outputs": [
    {
     "data": {
      "text/html": [
       "<div>\n",
       "<style scoped>\n",
       "    .dataframe tbody tr th:only-of-type {\n",
       "        vertical-align: middle;\n",
       "    }\n",
       "\n",
       "    .dataframe tbody tr th {\n",
       "        vertical-align: top;\n",
       "    }\n",
       "\n",
       "    .dataframe thead th {\n",
       "        text-align: right;\n",
       "    }\n",
       "</style>\n",
       "<table border=\"1\" class=\"dataframe\">\n",
       "  <thead>\n",
       "    <tr style=\"text-align: right;\">\n",
       "      <th></th>\n",
       "      <th>XLE</th>\n",
       "      <th>XLU</th>\n",
       "    </tr>\n",
       "    <tr>\n",
       "      <th>datetime</th>\n",
       "      <th></th>\n",
       "      <th></th>\n",
       "    </tr>\n",
       "  </thead>\n",
       "  <tbody>\n",
       "    <tr>\n",
       "      <th>2023-09-07</th>\n",
       "      <td>91.17</td>\n",
       "      <td>62.63</td>\n",
       "    </tr>\n",
       "    <tr>\n",
       "      <th>2023-09-06</th>\n",
       "      <td>91.26</td>\n",
       "      <td>61.82</td>\n",
       "    </tr>\n",
       "    <tr>\n",
       "      <th>2023-09-05</th>\n",
       "      <td>91.22</td>\n",
       "      <td>61.68</td>\n",
       "    </tr>\n",
       "    <tr>\n",
       "      <th>2023-09-01</th>\n",
       "      <td>90.74</td>\n",
       "      <td>62.64</td>\n",
       "    </tr>\n",
       "    <tr>\n",
       "      <th>2023-08-31</th>\n",
       "      <td>88.92</td>\n",
       "      <td>62.96</td>\n",
       "    </tr>\n",
       "    <tr>\n",
       "      <th>...</th>\n",
       "      <td>...</td>\n",
       "      <td>...</td>\n",
       "    </tr>\n",
       "    <tr>\n",
       "      <th>2010-01-08</th>\n",
       "      <td>60.30</td>\n",
       "      <td>30.72</td>\n",
       "    </tr>\n",
       "    <tr>\n",
       "      <th>2010-01-07</th>\n",
       "      <td>59.91</td>\n",
       "      <td>30.75</td>\n",
       "    </tr>\n",
       "    <tr>\n",
       "      <th>2010-01-06</th>\n",
       "      <td>60.00</td>\n",
       "      <td>30.89</td>\n",
       "    </tr>\n",
       "    <tr>\n",
       "      <th>2010-01-05</th>\n",
       "      <td>59.29</td>\n",
       "      <td>30.71</td>\n",
       "    </tr>\n",
       "    <tr>\n",
       "      <th>2010-01-04</th>\n",
       "      <td>58.81</td>\n",
       "      <td>31.08</td>\n",
       "    </tr>\n",
       "  </tbody>\n",
       "</table>\n",
       "<p>3443 rows × 2 columns</p>\n",
       "</div>"
      ],
      "text/plain": [
       "              XLE    XLU\n",
       "datetime                \n",
       "2023-09-07  91.17  62.63\n",
       "2023-09-06  91.26  61.82\n",
       "2023-09-05  91.22  61.68\n",
       "2023-09-01  90.74  62.64\n",
       "2023-08-31  88.92  62.96\n",
       "...           ...    ...\n",
       "2010-01-08  60.30  30.72\n",
       "2010-01-07  59.91  30.75\n",
       "2010-01-06  60.00  30.89\n",
       "2010-01-05  59.29  30.71\n",
       "2010-01-04  58.81  31.08\n",
       "\n",
       "[3443 rows x 2 columns]"
      ]
     },
     "execution_count": 8,
     "metadata": {},
     "output_type": "execute_result"
    }
   ],
   "source": [
    "compose = pd.merge(xle, xlu, on=\"datetime\", how=\"outer\")\n",
    "compose"
   ]
  },
  {
   "cell_type": "code",
   "execution_count": 9,
   "id": "50a5894e-f3a3-49e4-beab-470a777e4447",
   "metadata": {
    "tags": []
   },
   "outputs": [
    {
     "data": {
      "text/plain": [
       "<Axes: xlabel='datetime'>"
      ]
     },
     "execution_count": 9,
     "metadata": {},
     "output_type": "execute_result"
    },
    {
     "data": {
      "image/png": "[encoded data removed]",
      "text/plain": [
       "<Figure size 640x480 with 1 Axes>"
      ]
     },
     "metadata": {},
     "output_type": "display_data"
    }
   ],
   "source": [
    "compose[compose.index.year > 2015].plot()"
   ]
  },
  {
   "cell_type": "code",
   "execution_count": 10,
   "id": "a18415f1-649e-493e-b859-df52ea6cbe5b",
   "metadata": {
    "tags": []
   },
   "outputs": [],
   "source": [
    "from sklearn.model_selection import train_test_split\n",
    "\n",
    "train_dataset, test_dataset = train_test_split(compose.sort_index(), test_size=0.2, shuffle=False)"
   ]
  },
  {
   "cell_type": "code",
   "execution_count": 11,
   "id": "390e231f-b174-4e5a-85af-ae6d9a229401",
   "metadata": {
    "tags": []
   },
   "outputs": [
    {
     "data": {
      "text/html": [
       "<div>\n",
       "<style scoped>\n",
       "    .dataframe tbody tr th:only-of-type {\n",
       "        vertical-align: middle;\n",
       "    }\n",
       "\n",
       "    .dataframe tbody tr th {\n",
       "        vertical-align: top;\n",
       "    }\n",
       "\n",
       "    .dataframe thead th {\n",
       "        text-align: right;\n",
       "    }\n",
       "</style>\n",
       "<table border=\"1\" class=\"dataframe\">\n",
       "  <thead>\n",
       "    <tr style=\"text-align: right;\">\n",
       "      <th></th>\n",
       "      <th>XLE</th>\n",
       "      <th>XLU</th>\n",
       "    </tr>\n",
       "    <tr>\n",
       "      <th>datetime</th>\n",
       "      <th></th>\n",
       "      <th></th>\n",
       "    </tr>\n",
       "  </thead>\n",
       "  <tbody>\n",
       "    <tr>\n",
       "      <th>2010-01-04</th>\n",
       "      <td>58.81</td>\n",
       "      <td>31.08</td>\n",
       "    </tr>\n",
       "    <tr>\n",
       "      <th>2010-01-05</th>\n",
       "      <td>59.29</td>\n",
       "      <td>30.71</td>\n",
       "    </tr>\n",
       "    <tr>\n",
       "      <th>2010-01-06</th>\n",
       "      <td>60.00</td>\n",
       "      <td>30.89</td>\n",
       "    </tr>\n",
       "    <tr>\n",
       "      <th>2010-01-07</th>\n",
       "      <td>59.91</td>\n",
       "      <td>30.75</td>\n",
       "    </tr>\n",
       "    <tr>\n",
       "      <th>2010-01-08</th>\n",
       "      <td>60.30</td>\n",
       "      <td>30.72</td>\n",
       "    </tr>\n",
       "    <tr>\n",
       "      <th>...</th>\n",
       "      <td>...</td>\n",
       "      <td>...</td>\n",
       "    </tr>\n",
       "    <tr>\n",
       "      <th>2020-12-03</th>\n",
       "      <td>38.53</td>\n",
       "      <td>63.04</td>\n",
       "    </tr>\n",
       "    <tr>\n",
       "      <th>2020-12-04</th>\n",
       "      <td>40.63</td>\n",
       "      <td>62.41</td>\n",
       "    </tr>\n",
       "    <tr>\n",
       "      <th>2020-12-07</th>\n",
       "      <td>39.68</td>\n",
       "      <td>62.76</td>\n",
       "    </tr>\n",
       "    <tr>\n",
       "      <th>2020-12-08</th>\n",
       "      <td>40.27</td>\n",
       "      <td>62.57</td>\n",
       "    </tr>\n",
       "    <tr>\n",
       "      <th>2020-12-09</th>\n",
       "      <td>40.36</td>\n",
       "      <td>62.46</td>\n",
       "    </tr>\n",
       "  </tbody>\n",
       "</table>\n",
       "<p>2754 rows × 2 columns</p>\n",
       "</div>"
      ],
      "text/plain": [
       "              XLE    XLU\n",
       "datetime                \n",
       "2010-01-04  58.81  31.08\n",
       "2010-01-05  59.29  30.71\n",
       "2010-01-06  60.00  30.89\n",
       "2010-01-07  59.91  30.75\n",
       "2010-01-08  60.30  30.72\n",
       "...           ...    ...\n",
       "2020-12-03  38.53  63.04\n",
       "2020-12-04  40.63  62.41\n",
       "2020-12-07  39.68  62.76\n",
       "2020-12-08  40.27  62.57\n",
       "2020-12-09  40.36  62.46\n",
       "\n",
       "[2754 rows x 2 columns]"
      ]
     },
     "execution_count": 11,
     "metadata": {},
     "output_type": "execute_result"
    }
   ],
   "source": [
    "train_dataset"
   ]
  },
  {
   "cell_type": "code",
   "execution_count": 12,
   "id": "e606f77b-2a6e-4b11-91f4-5edcd8afdf0f",
   "metadata": {
    "tags": []
   },
   "outputs": [
    {
     "data": {
      "text/html": [
       "<div>\n",
       "<style scoped>\n",
       "    .dataframe tbody tr th:only-of-type {\n",
       "        vertical-align: middle;\n",
       "    }\n",
       "\n",
       "    .dataframe tbody tr th {\n",
       "        vertical-align: top;\n",
       "    }\n",
       "\n",
       "    .dataframe thead th {\n",
       "        text-align: right;\n",
       "    }\n",
       "</style>\n",
       "<table border=\"1\" class=\"dataframe\">\n",
       "  <thead>\n",
       "    <tr style=\"text-align: right;\">\n",
       "      <th></th>\n",
       "      <th>XLE</th>\n",
       "      <th>XLU</th>\n",
       "    </tr>\n",
       "    <tr>\n",
       "      <th>datetime</th>\n",
       "      <th></th>\n",
       "      <th></th>\n",
       "    </tr>\n",
       "  </thead>\n",
       "  <tbody>\n",
       "    <tr>\n",
       "      <th>2020-12-10</th>\n",
       "      <td>41.60</td>\n",
       "      <td>62.14</td>\n",
       "    </tr>\n",
       "    <tr>\n",
       "      <th>2020-12-11</th>\n",
       "      <td>41.12</td>\n",
       "      <td>62.24</td>\n",
       "    </tr>\n",
       "    <tr>\n",
       "      <th>2020-12-14</th>\n",
       "      <td>39.68</td>\n",
       "      <td>61.92</td>\n",
       "    </tr>\n",
       "    <tr>\n",
       "      <th>2020-12-15</th>\n",
       "      <td>40.46</td>\n",
       "      <td>63.14</td>\n",
       "    </tr>\n",
       "    <tr>\n",
       "      <th>2020-12-16</th>\n",
       "      <td>40.26</td>\n",
       "      <td>62.41</td>\n",
       "    </tr>\n",
       "    <tr>\n",
       "      <th>...</th>\n",
       "      <td>...</td>\n",
       "      <td>...</td>\n",
       "    </tr>\n",
       "    <tr>\n",
       "      <th>2023-08-31</th>\n",
       "      <td>88.92</td>\n",
       "      <td>62.96</td>\n",
       "    </tr>\n",
       "    <tr>\n",
       "      <th>2023-09-01</th>\n",
       "      <td>90.74</td>\n",
       "      <td>62.64</td>\n",
       "    </tr>\n",
       "    <tr>\n",
       "      <th>2023-09-05</th>\n",
       "      <td>91.22</td>\n",
       "      <td>61.68</td>\n",
       "    </tr>\n",
       "    <tr>\n",
       "      <th>2023-09-06</th>\n",
       "      <td>91.26</td>\n",
       "      <td>61.82</td>\n",
       "    </tr>\n",
       "    <tr>\n",
       "      <th>2023-09-07</th>\n",
       "      <td>91.17</td>\n",
       "      <td>62.63</td>\n",
       "    </tr>\n",
       "  </tbody>\n",
       "</table>\n",
       "<p>689 rows × 2 columns</p>\n",
       "</div>"
      ],
      "text/plain": [
       "              XLE    XLU\n",
       "datetime                \n",
       "2020-12-10  41.60  62.14\n",
       "2020-12-11  41.12  62.24\n",
       "2020-12-14  39.68  61.92\n",
       "2020-12-15  40.46  63.14\n",
       "2020-12-16  40.26  62.41\n",
       "...           ...    ...\n",
       "2023-08-31  88.92  62.96\n",
       "2023-09-01  90.74  62.64\n",
       "2023-09-05  91.22  61.68\n",
       "2023-09-06  91.26  61.82\n",
       "2023-09-07  91.17  62.63\n",
       "\n",
       "[689 rows x 2 columns]"
      ]
     },
     "execution_count": 12,
     "metadata": {},
     "output_type": "execute_result"
    }
   ],
   "source": [
    "test_dataset"
   ]
  },
  {
   "cell_type": "code",
   "execution_count": 13,
   "id": "7726626d-3927-48f1-9f84-5e5f60da0c71",
   "metadata": {
    "tags": []
   },
   "outputs": [
    {
     "data": {
      "text/plain": [
       "TimeSeriesSplit(gap=0, max_train_size=None, n_splits=5, test_size=None)"
      ]
     },
     "execution_count": 13,
     "metadata": {},
     "output_type": "execute_result"
    }
   ],
   "source": [
    "from sklearn.model_selection import TimeSeriesSplit\n",
    "\n",
    "tscv = TimeSeriesSplit(n_splits=5)\n",
    "tscv"
   ]
  },
  {
   "cell_type": "code",
   "execution_count": 14,
   "id": "1829eae3-b64e-42b9-ac4e-c9a0b7740d42",
   "metadata": {
    "tags": []
   },
   "outputs": [],
   "source": [
    "def zscore(series):\n",
    "    return (series - series.mean()) / series.std()"
   ]
  },
  {
   "cell_type": "code",
   "execution_count": 15,
   "id": "947bc179-3b18-4599-94f9-563a283fead8",
   "metadata": {
    "tags": []
   },
   "outputs": [],
   "source": [
    "import statsmodels.api as sm\n",
    "import statsmodels.tsa.stattools as ts\n",
    "def get_info_fold(train_data):\n",
    "    x = train_data[\"XLU\"]\n",
    "    y = train_data[\"XLE\"]\n",
    "    x = sm.add_constant(x)\n",
    "    results = sm.OLS(y, x).fit()\n",
    "    x = x[\"XLU\"]\n",
    "    b = results.params[\"XLU\"]\n",
    "\n",
    "    spread = y - x * b\n",
    "    result = ts.adfuller(spread)\n",
    "    print('ADF Statistic: %f' % result[0])\n",
    "    \n",
    "    x = spread.shift().dropna()\n",
    "    y = spread - spread.shift()\n",
    "    y = y.dropna()\n",
    "    x = sm.add_constant(x)\n",
    "    results = sm.OLS(y, x).fit()\n",
    "    halflife = -math.log(2) / results.params[0]\n",
    "    print('Halflife: %f' % halflife)"
   ]
  },
  {
   "cell_type": "markdown",
   "id": "d651aedd-2c1e-4e27-a4b7-d2c116c8d79d",
   "metadata": {},
   "source": [
    "## RUN ALL FOLDS"
   ]
  },
  {
   "cell_type": "code",
   "execution_count": 16,
   "id": "1edbd6c8-2eef-4c5b-8eb1-2434e7d2f77f",
   "metadata": {
    "tags": []
   },
   "outputs": [
    {
     "name": "stdout",
     "output_type": "stream",
     "text": [
      "--- FOLD 0 ---\n",
      "ADF Statistic: -1.315051\n",
      "Halflife: 82.551929\n",
      "--- FOLD 1 ---\n",
      "ADF Statistic: -2.375030\n",
      "Halflife: 87.145427\n",
      "--- FOLD 2 ---\n",
      "ADF Statistic: -2.372884\n",
      "Halflife: 118.079188\n",
      "--- FOLD 3 ---\n",
      "ADF Statistic: -1.792318\n",
      "Halflife: 180.562308\n",
      "--- FOLD 4 ---\n",
      "ADF Statistic: -2.238871\n",
      "Halflife: 154.170800\n"
     ]
    }
   ],
   "source": [
    "for i, (train_index, validation_index) in enumerate(tscv.split(train_dataset)):\n",
    "    train_data, validation_data = train_dataset.iloc[train_index], train_dataset.iloc[validation_index]\n",
    "    print(f'--- FOLD {i} ---')\n",
    "    get_info_fold(train_data)"
   ]
  },
  {
   "cell_type": "markdown",
   "id": "ae87f520-cf7c-45a0-a94f-b4fe06ea155b",
   "metadata": {},
   "source": [
    "## RUN for each fold"
   ]
  },
  {
   "cell_type": "code",
   "execution_count": 17,
   "id": "11f54c4e-be74-474f-8ee2-a2b4c4acd12f",
   "metadata": {
    "tags": []
   },
   "outputs": [],
   "source": [
    "last_fold =  list(tscv.split(train_dataset))[-1]\n",
    "(train_index, validation_index) = last_fold\n",
    "train_data, validation_data = train_dataset.iloc[train_index], train_dataset.iloc[validation_index]"
   ]
  },
  {
   "cell_type": "markdown",
   "id": "78c2fd5e-a007-4f1b-a364-eb6b80381160",
   "metadata": {},
   "source": [
    "# Augmented Dickey-Fuller (ADF) test"
   ]
  },
  {
   "cell_type": "code",
   "execution_count": 18,
   "id": "d2126b3a-7041-448b-bab5-bb90ff90dcf0",
   "metadata": {
    "tags": []
   },
   "outputs": [
    {
     "data": {
      "image/png": "[encoded data removed]",
      "text/plain": [
       "<Figure size 640x480 with 1 Axes>"
      ]
     },
     "metadata": {},
     "output_type": "display_data"
    }
   ],
   "source": [
    "import statsmodels.api as sm\n",
    "\n",
    "x = train_data[\"XLU\"]\n",
    "y = train_data[\"XLE\"]\n",
    "x = sm.add_constant(x)\n",
    "results = sm.OLS(y, x).fit()\n",
    "x = x[\"XLU\"]\n",
    "b = results.params[\"XLU\"]\n",
    "\n",
    "spread = y - x * b\n",
    "spread.plot()\n",
    "plt.axhline(spread.mean(), color=\"black\")\n",
    "plt.legend([\"Spread\"]);"
   ]
  },
  {
   "cell_type": "code",
   "execution_count": 19,
   "id": "2e28aa04-fe9e-44d1-bb9c-0d830b3b1a1f",
   "metadata": {
    "tags": []
   },
   "outputs": [
    {
     "data": {
      "image/png": "[encoded data removed]",
      "text/plain": [
       "<Figure size 640x480 with 1 Axes>"
      ]
     },
     "metadata": {},
     "output_type": "display_data"
    }
   ],
   "source": [
    "zscore_spread = zscore(spread)\n",
    "zscore_spread.plot()\n",
    "plt.axhline(zscore_spread.mean(), color=\"black\")\n",
    "plt.axhline(1.0, color=\"red\", linestyle=\"--\")\n",
    "plt.axhline(-1.0, color=\"green\", linestyle=\"--\")\n",
    "plt.legend([\"Spread z-score\", \"Mean\", \"+1\", \"-1\"]);"
   ]
  },
  {
   "cell_type": "code",
   "execution_count": 20,
   "id": "2ab7bd15-7a84-41ca-a8d5-e5fee11667b3",
   "metadata": {
    "tags": []
   },
   "outputs": [
    {
     "name": "stdout",
     "output_type": "stream",
     "text": [
      "ADF Statistic: -2.238871\n",
      "p-value: 0.192441\n",
      "Critical Values:\n",
      "\t1%: -3.433\n",
      "\t5%: -2.863\n",
      "\t10%: -2.567\n"
     ]
    }
   ],
   "source": [
    "import statsmodels.tsa.stattools as ts\n",
    "\n",
    "result = ts.adfuller(spread)\n",
    "print('ADF Statistic: %f' % result[0])\n",
    "print('p-value: %f' % result[1])\n",
    "print('Critical Values:')\n",
    "for key, value in result[4].items():\n",
    "    print('\\t%s: %.3f' % (key, value))"
   ]
  },
  {
   "cell_type": "code",
   "execution_count": 21,
   "id": "f4338aaf-8bec-4b65-a4c5-cfd61e552c56",
   "metadata": {
    "tags": []
   },
   "outputs": [
    {
     "data": {
      "text/plain": [
       "datetime\n",
       "2010-01-04    55.284240\n",
       "2010-01-05    55.806213\n",
       "2010-01-06    56.495794\n",
       "2010-01-07    56.421676\n",
       "2010-01-08    56.815079\n",
       "                ...    \n",
       "2019-02-08    56.623580\n",
       "2019-02-11    56.925849\n",
       "2019-02-12    57.711102\n",
       "2019-02-13    58.529252\n",
       "2019-02-14    58.769462\n",
       "Length: 2295, dtype: float64"
      ]
     },
     "execution_count": 21,
     "metadata": {},
     "output_type": "execute_result"
    }
   ],
   "source": [
    "spread"
   ]
  },
  {
   "cell_type": "code",
   "execution_count": 22,
   "id": "d095d5c0-4163-4a4d-b9a3-47fd64e09d85",
   "metadata": {
    "tags": []
   },
   "outputs": [
    {
     "data": {
      "text/plain": [
       "datetime\n",
       "2010-01-05    55.284240\n",
       "2010-01-06    55.806213\n",
       "2010-01-07    56.495794\n",
       "2010-01-08    56.421676\n",
       "2010-01-11    56.815079\n",
       "                ...    \n",
       "2019-02-08    56.940806\n",
       "2019-02-11    56.623580\n",
       "2019-02-12    56.925849\n",
       "2019-02-13    57.711102\n",
       "2019-02-14    58.529252\n",
       "Length: 2294, dtype: float64"
      ]
     },
     "execution_count": 22,
     "metadata": {},
     "output_type": "execute_result"
    }
   ],
   "source": [
    "spread.shift().dropna()"
   ]
  },
  {
   "cell_type": "code",
   "execution_count": 23,
   "id": "a41d9e31-2456-4eb5-a83a-b3a01e693d10",
   "metadata": {
    "tags": []
   },
   "outputs": [],
   "source": [
    "x = spread.shift().dropna()\n",
    "y = spread - spread.shift()\n",
    "y = y.dropna()\n",
    "x = sm.add_constant(x)\n",
    "results = sm.OLS(y, x).fit()"
   ]
  },
  {
   "cell_type": "code",
   "execution_count": 24,
   "id": "655f07ef-b39e-4224-9fdc-02812a7c4d22",
   "metadata": {
    "tags": []
   },
   "outputs": [
    {
     "data": {
      "text/plain": [
       "154.17080036255157"
      ]
     },
     "execution_count": 24,
     "metadata": {},
     "output_type": "execute_result"
    }
   ],
   "source": [
    "halflife = -math.log(2) / results.params[0]\n",
    "halflife"
   ]
  },
  {
   "cell_type": "code",
   "execution_count": 25,
   "id": "f3e92ae3-f6f7-41b8-866b-db682da412ab",
   "metadata": {
    "tags": []
   },
   "outputs": [],
   "source": [
    "price = train_data"
   ]
  },
  {
   "cell_type": "code",
   "execution_count": 26,
   "id": "cc9d484f-4c58-4487-aa56-46c3003b64b5",
   "metadata": {
    "tags": []
   },
   "outputs": [
    {
     "data": {
      "text/html": [
       "<div>\n",
       "<style scoped>\n",
       "    .dataframe tbody tr th:only-of-type {\n",
       "        vertical-align: middle;\n",
       "    }\n",
       "\n",
       "    .dataframe tbody tr th {\n",
       "        vertical-align: top;\n",
       "    }\n",
       "\n",
       "    .dataframe thead th {\n",
       "        text-align: right;\n",
       "    }\n",
       "</style>\n",
       "<table border=\"1\" class=\"dataframe\">\n",
       "  <thead>\n",
       "    <tr style=\"text-align: right;\">\n",
       "      <th></th>\n",
       "      <th>XLE</th>\n",
       "      <th>XLU</th>\n",
       "    </tr>\n",
       "    <tr>\n",
       "      <th>datetime</th>\n",
       "      <th></th>\n",
       "      <th></th>\n",
       "    </tr>\n",
       "  </thead>\n",
       "  <tbody>\n",
       "    <tr>\n",
       "      <th>2010-01-04</th>\n",
       "      <td>58.81</td>\n",
       "      <td>31.08</td>\n",
       "    </tr>\n",
       "    <tr>\n",
       "      <th>2010-01-05</th>\n",
       "      <td>59.29</td>\n",
       "      <td>30.71</td>\n",
       "    </tr>\n",
       "    <tr>\n",
       "      <th>2010-01-06</th>\n",
       "      <td>60.00</td>\n",
       "      <td>30.89</td>\n",
       "    </tr>\n",
       "    <tr>\n",
       "      <th>2010-01-07</th>\n",
       "      <td>59.91</td>\n",
       "      <td>30.75</td>\n",
       "    </tr>\n",
       "    <tr>\n",
       "      <th>2010-01-08</th>\n",
       "      <td>60.30</td>\n",
       "      <td>30.72</td>\n",
       "    </tr>\n",
       "    <tr>\n",
       "      <th>...</th>\n",
       "      <td>...</td>\n",
       "      <td>...</td>\n",
       "    </tr>\n",
       "    <tr>\n",
       "      <th>2019-02-08</th>\n",
       "      <td>62.94</td>\n",
       "      <td>55.68</td>\n",
       "    </tr>\n",
       "    <tr>\n",
       "      <th>2019-02-11</th>\n",
       "      <td>63.24</td>\n",
       "      <td>55.66</td>\n",
       "    </tr>\n",
       "    <tr>\n",
       "      <th>2019-02-12</th>\n",
       "      <td>64.04</td>\n",
       "      <td>55.79</td>\n",
       "    </tr>\n",
       "    <tr>\n",
       "      <th>2019-02-13</th>\n",
       "      <td>64.84</td>\n",
       "      <td>55.63</td>\n",
       "    </tr>\n",
       "    <tr>\n",
       "      <th>2019-02-14</th>\n",
       "      <td>65.07</td>\n",
       "      <td>55.54</td>\n",
       "    </tr>\n",
       "  </tbody>\n",
       "</table>\n",
       "<p>2295 rows × 2 columns</p>\n",
       "</div>"
      ],
      "text/plain": [
       "              XLE    XLU\n",
       "datetime                \n",
       "2010-01-04  58.81  31.08\n",
       "2010-01-05  59.29  30.71\n",
       "2010-01-06  60.00  30.89\n",
       "2010-01-07  59.91  30.75\n",
       "2010-01-08  60.30  30.72\n",
       "...           ...    ...\n",
       "2019-02-08  62.94  55.68\n",
       "2019-02-11  63.24  55.66\n",
       "2019-02-12  64.04  55.79\n",
       "2019-02-13  64.84  55.63\n",
       "2019-02-14  65.07  55.54\n",
       "\n",
       "[2295 rows x 2 columns]"
      ]
     },
     "execution_count": 26,
     "metadata": {},
     "output_type": "execute_result"
    }
   ],
   "source": [
    "price"
   ]
  },
  {
   "cell_type": "code",
   "execution_count": 27,
   "id": "deeb5f00-f1f1-484f-88d8-e5ef634a1c59",
   "metadata": {
    "tags": []
   },
   "outputs": [
    {
     "data": {
      "text/html": [
       "<div>\n",
       "<style scoped>\n",
       "    .dataframe tbody tr th:only-of-type {\n",
       "        vertical-align: middle;\n",
       "    }\n",
       "\n",
       "    .dataframe tbody tr th {\n",
       "        vertical-align: top;\n",
       "    }\n",
       "\n",
       "    .dataframe thead th {\n",
       "        text-align: right;\n",
       "    }\n",
       "</style>\n",
       "<table border=\"1\" class=\"dataframe\">\n",
       "  <thead>\n",
       "    <tr style=\"text-align: right;\">\n",
       "      <th></th>\n",
       "      <th>XLE</th>\n",
       "      <th>XLU</th>\n",
       "    </tr>\n",
       "    <tr>\n",
       "      <th>datetime</th>\n",
       "      <th></th>\n",
       "      <th></th>\n",
       "    </tr>\n",
       "  </thead>\n",
       "  <tbody>\n",
       "    <tr>\n",
       "      <th>2010-01-04</th>\n",
       "      <td>1</td>\n",
       "      <td>-0.113441</td>\n",
       "    </tr>\n",
       "    <tr>\n",
       "      <th>2010-01-05</th>\n",
       "      <td>1</td>\n",
       "      <td>-0.113441</td>\n",
       "    </tr>\n",
       "    <tr>\n",
       "      <th>2010-01-06</th>\n",
       "      <td>1</td>\n",
       "      <td>-0.113441</td>\n",
       "    </tr>\n",
       "    <tr>\n",
       "      <th>2010-01-07</th>\n",
       "      <td>1</td>\n",
       "      <td>-0.113441</td>\n",
       "    </tr>\n",
       "    <tr>\n",
       "      <th>2010-01-08</th>\n",
       "      <td>1</td>\n",
       "      <td>-0.113441</td>\n",
       "    </tr>\n",
       "    <tr>\n",
       "      <th>...</th>\n",
       "      <td>...</td>\n",
       "      <td>...</td>\n",
       "    </tr>\n",
       "    <tr>\n",
       "      <th>2019-02-08</th>\n",
       "      <td>1</td>\n",
       "      <td>-0.113441</td>\n",
       "    </tr>\n",
       "    <tr>\n",
       "      <th>2019-02-11</th>\n",
       "      <td>1</td>\n",
       "      <td>-0.113441</td>\n",
       "    </tr>\n",
       "    <tr>\n",
       "      <th>2019-02-12</th>\n",
       "      <td>1</td>\n",
       "      <td>-0.113441</td>\n",
       "    </tr>\n",
       "    <tr>\n",
       "      <th>2019-02-13</th>\n",
       "      <td>1</td>\n",
       "      <td>-0.113441</td>\n",
       "    </tr>\n",
       "    <tr>\n",
       "      <th>2019-02-14</th>\n",
       "      <td>1</td>\n",
       "      <td>-0.113441</td>\n",
       "    </tr>\n",
       "  </tbody>\n",
       "</table>\n",
       "<p>2295 rows × 2 columns</p>\n",
       "</div>"
      ],
      "text/plain": [
       "            XLE       XLU\n",
       "datetime                 \n",
       "2010-01-04    1 -0.113441\n",
       "2010-01-05    1 -0.113441\n",
       "2010-01-06    1 -0.113441\n",
       "2010-01-07    1 -0.113441\n",
       "2010-01-08    1 -0.113441\n",
       "...         ...       ...\n",
       "2019-02-08    1 -0.113441\n",
       "2019-02-11    1 -0.113441\n",
       "2019-02-12    1 -0.113441\n",
       "2019-02-13    1 -0.113441\n",
       "2019-02-14    1 -0.113441\n",
       "\n",
       "[2295 rows x 2 columns]"
      ]
     },
     "execution_count": 27,
     "metadata": {},
     "output_type": "execute_result"
    }
   ],
   "source": [
    "weights = pd.DataFrame({\n",
    "    \"XLE\": [1] * len(price),\n",
    "    \"XLU\": [-b] * len(price)\n",
    "}, index=price.index)\n",
    "weights"
   ]
  },
  {
   "cell_type": "code",
   "execution_count": 28,
   "id": "251af2d8-649c-454e-b337-76f65f4d4577",
   "metadata": {
    "tags": []
   },
   "outputs": [
    {
     "data": {
      "text/plain": [
       "datetime\n",
       "2010-01-04    55.284240\n",
       "2010-01-05    55.806213\n",
       "2010-01-06    56.495794\n",
       "2010-01-07    56.421676\n",
       "2010-01-08    56.815079\n",
       "                ...    \n",
       "2019-02-08    56.623580\n",
       "2019-02-11    56.925849\n",
       "2019-02-12    57.711102\n",
       "2019-02-13    58.529252\n",
       "2019-02-14    58.769462\n",
       "Length: 2295, dtype: float64"
      ]
     },
     "execution_count": 28,
     "metadata": {},
     "output_type": "execute_result"
    }
   ],
   "source": [
    "spread = (price * weights).sum(axis=1)\n",
    "spread"
   ]
  },
  {
   "cell_type": "code",
   "execution_count": 29,
   "id": "9aecb406-8128-4fc6-8fb6-22452303470b",
   "metadata": {
    "tags": []
   },
   "outputs": [
    {
     "data": {
      "text/plain": [
       "154"
      ]
     },
     "execution_count": 29,
     "metadata": {},
     "output_type": "execute_result"
    }
   ],
   "source": [
    "lookback = round(halflife)\n",
    "lookback"
   ]
  },
  {
   "cell_type": "code",
   "execution_count": 30,
   "id": "3ce18690-1537-48b4-b943-ca8d9b1b853b",
   "metadata": {
    "tags": []
   },
   "outputs": [
    {
     "data": {
      "text/plain": [
       "datetime\n",
       "2010-01-04         NaN\n",
       "2010-01-05         NaN\n",
       "2010-01-06         NaN\n",
       "2010-01-07         NaN\n",
       "2010-01-08         NaN\n",
       "                ...   \n",
       "2019-02-08    1.072118\n",
       "2019-02-11    1.011025\n",
       "2019-02-12    0.875110\n",
       "2019-02-13    0.735263\n",
       "2019-02-14    0.687391\n",
       "Length: 2295, dtype: float64"
      ]
     },
     "execution_count": 30,
     "metadata": {},
     "output_type": "execute_result"
    }
   ],
   "source": [
    "num_units = -(spread - spread.rolling(lookback).mean()) / (spread.rolling(lookback).std())\n",
    "num_units"
   ]
  },
  {
   "cell_type": "code",
   "execution_count": 31,
   "id": "88c8310a-4fc9-491f-8d93-9588e5adbf5b",
   "metadata": {
    "tags": []
   },
   "outputs": [
    {
     "data": {
      "text/plain": [
       "count    2142.000000\n",
       "mean       -0.211652\n",
       "std         1.425588\n",
       "min        -3.470163\n",
       "25%        -1.284161\n",
       "50%        -0.453529\n",
       "75%         0.875079\n",
       "max         3.698457\n",
       "dtype: float64"
      ]
     },
     "execution_count": 31,
     "metadata": {},
     "output_type": "execute_result"
    }
   ],
   "source": [
    "num_units.describe()"
   ]
  },
  {
   "cell_type": "code",
   "execution_count": 32,
   "id": "6fab5d30-1f73-4e79-aef9-0a56070261c9",
   "metadata": {
    "tags": []
   },
   "outputs": [
    {
     "data": {
      "text/plain": [
       "<Axes: xlabel='datetime'>"
      ]
     },
     "execution_count": 32,
     "metadata": {},
     "output_type": "execute_result"
    },
    {
     "data": {
      "image/png": "[encoded data removed]",
      "text/plain": [
       "<Figure size 640x480 with 1 Axes>"
      ]
     },
     "metadata": {},
     "output_type": "display_data"
    }
   ],
   "source": [
    "num_units.plot()"
   ]
  },
  {
   "cell_type": "code",
   "execution_count": 33,
   "id": "004cc061-cd52-408d-a7d5-0e5021bed957",
   "metadata": {
    "tags": []
   },
   "outputs": [
    {
     "data": {
      "text/html": [
       "<div>\n",
       "<style scoped>\n",
       "    .dataframe tbody tr th:only-of-type {\n",
       "        vertical-align: middle;\n",
       "    }\n",
       "\n",
       "    .dataframe tbody tr th {\n",
       "        vertical-align: top;\n",
       "    }\n",
       "\n",
       "    .dataframe thead th {\n",
       "        text-align: right;\n",
       "    }\n",
       "</style>\n",
       "<table border=\"1\" class=\"dataframe\">\n",
       "  <thead>\n",
       "    <tr style=\"text-align: right;\">\n",
       "      <th></th>\n",
       "      <th>XLE</th>\n",
       "      <th>XLU</th>\n",
       "    </tr>\n",
       "    <tr>\n",
       "      <th>datetime</th>\n",
       "      <th></th>\n",
       "      <th></th>\n",
       "    </tr>\n",
       "  </thead>\n",
       "  <tbody>\n",
       "    <tr>\n",
       "      <th>2010-01-04</th>\n",
       "      <td>NaN</td>\n",
       "      <td>NaN</td>\n",
       "    </tr>\n",
       "    <tr>\n",
       "      <th>2010-01-05</th>\n",
       "      <td>NaN</td>\n",
       "      <td>NaN</td>\n",
       "    </tr>\n",
       "    <tr>\n",
       "      <th>2010-01-06</th>\n",
       "      <td>NaN</td>\n",
       "      <td>NaN</td>\n",
       "    </tr>\n",
       "    <tr>\n",
       "      <th>2010-01-07</th>\n",
       "      <td>NaN</td>\n",
       "      <td>NaN</td>\n",
       "    </tr>\n",
       "    <tr>\n",
       "      <th>2010-01-08</th>\n",
       "      <td>NaN</td>\n",
       "      <td>NaN</td>\n",
       "    </tr>\n",
       "    <tr>\n",
       "      <th>...</th>\n",
       "      <td>...</td>\n",
       "      <td>...</td>\n",
       "    </tr>\n",
       "    <tr>\n",
       "      <th>2019-02-08</th>\n",
       "      <td>67.479091</td>\n",
       "      <td>-6.771946</td>\n",
       "    </tr>\n",
       "    <tr>\n",
       "      <th>2019-02-11</th>\n",
       "      <td>63.937212</td>\n",
       "      <td>-6.383764</td>\n",
       "    </tr>\n",
       "    <tr>\n",
       "      <th>2019-02-12</th>\n",
       "      <td>56.042019</td>\n",
       "      <td>-5.538480</td>\n",
       "    </tr>\n",
       "    <tr>\n",
       "      <th>2019-02-13</th>\n",
       "      <td>47.674431</td>\n",
       "      <td>-4.640057</td>\n",
       "    </tr>\n",
       "    <tr>\n",
       "      <th>2019-02-14</th>\n",
       "      <td>44.728549</td>\n",
       "      <td>-4.330935</td>\n",
       "    </tr>\n",
       "  </tbody>\n",
       "</table>\n",
       "<p>2295 rows × 2 columns</p>\n",
       "</div>"
      ],
      "text/plain": [
       "                  XLE       XLU\n",
       "datetime                       \n",
       "2010-01-04        NaN       NaN\n",
       "2010-01-05        NaN       NaN\n",
       "2010-01-06        NaN       NaN\n",
       "2010-01-07        NaN       NaN\n",
       "2010-01-08        NaN       NaN\n",
       "...               ...       ...\n",
       "2019-02-08  67.479091 -6.771946\n",
       "2019-02-11  63.937212 -6.383764\n",
       "2019-02-12  56.042019 -5.538480\n",
       "2019-02-13  47.674431 -4.640057\n",
       "2019-02-14  44.728549 -4.330935\n",
       "\n",
       "[2295 rows x 2 columns]"
      ]
     },
     "execution_count": 33,
     "metadata": {},
     "output_type": "execute_result"
    }
   ],
   "source": [
    "positions = weights.mul(num_units, axis=0) * price\n",
    "positions"
   ]
  },
  {
   "cell_type": "code",
   "execution_count": 34,
   "id": "d01b4527-05af-46ed-88c6-7be99e9b97e0",
   "metadata": {
    "tags": []
   },
   "outputs": [
    {
     "data": {
      "text/plain": [
       "<Axes: xlabel='datetime'>"
      ]
     },
     "execution_count": 34,
     "metadata": {},
     "output_type": "execute_result"
    },
    {
     "data": {
      "image/png": "[encoded data removed]",
      "text/plain": [
       "<Figure size 640x480 with 1 Axes>"
      ]
     },
     "metadata": {},
     "output_type": "display_data"
    }
   ],
   "source": [
    "positions.sum(axis=1).abs().plot()"
   ]
  },
  {
   "cell_type": "code",
   "execution_count": 35,
   "id": "8485989d-3383-4fa1-9618-191feacdbd76",
   "metadata": {
    "tags": []
   },
   "outputs": [],
   "source": [
    "pnl = positions.shift(1) * (price - price.shift(1)) / price.shift(1)\n",
    "pnl = pnl.sum(axis=1)"
   ]
  },
  {
   "cell_type": "code",
   "execution_count": 36,
   "id": "4d00573a-58f1-4fc0-9501-8e14235e1221",
   "metadata": {
    "tags": []
   },
   "outputs": [
    {
     "data": {
      "text/plain": [
       "count    2295.000000\n",
       "mean       -0.004476\n",
       "std         1.456732\n",
       "min       -11.740450\n",
       "25%        -0.461102\n",
       "50%         0.000000\n",
       "75%         0.406479\n",
       "max        11.300673\n",
       "dtype: float64"
      ]
     },
     "execution_count": 36,
     "metadata": {},
     "output_type": "execute_result"
    }
   ],
   "source": [
    "pnl.describe()"
   ]
  },
  {
   "cell_type": "code",
   "execution_count": 37,
   "id": "5b6602df-7b1e-4497-9d53-a804c3a3ac3b",
   "metadata": {
    "tags": []
   },
   "outputs": [
    {
     "data": {
      "text/plain": [
       "datetime\n",
       "2010-01-04         NaN\n",
       "2010-01-05         NaN\n",
       "2010-01-06         NaN\n",
       "2010-01-07         NaN\n",
       "2010-01-08         NaN\n",
       "                ...   \n",
       "2019-02-08   -0.005571\n",
       "2019-02-11    0.005338\n",
       "2019-02-12    0.013794\n",
       "2019-02-13    0.014177\n",
       "2019-02-14    0.004104\n",
       "Length: 2295, dtype: float64"
      ]
     },
     "execution_count": 37,
     "metadata": {},
     "output_type": "execute_result"
    }
   ],
   "source": [
    "ret = pnl / positions.shift(1).sum(axis=1).abs()\n",
    "ret"
   ]
  },
  {
   "cell_type": "code",
   "execution_count": 38,
   "id": "2248f0c6-18b8-46d7-acec-fcb64906abb1",
   "metadata": {
    "tags": []
   },
   "outputs": [
    {
     "data": {
      "text/plain": [
       "count    2141.000000\n",
       "mean       -0.000009\n",
       "std         0.014390\n",
       "min        -0.086859\n",
       "25%        -0.007767\n",
       "50%        -0.000141\n",
       "75%         0.007269\n",
       "max         0.068150\n",
       "dtype: float64"
      ]
     },
     "execution_count": 38,
     "metadata": {},
     "output_type": "execute_result"
    }
   ],
   "source": [
    "ret.describe()"
   ]
  },
  {
   "cell_type": "code",
   "execution_count": 39,
   "id": "98cb0843-fef8-4fa5-bdf1-1f54fab0bd8e",
   "metadata": {
    "tags": []
   },
   "outputs": [
    {
     "data": {
      "text/plain": [
       "<Axes: xlabel='datetime'>"
      ]
     },
     "execution_count": 39,
     "metadata": {},
     "output_type": "execute_result"
    },
    {
     "data": {
      "image/png": "[encoded data removed]",
      "text/plain": [
       "<Figure size 640x480 with 1 Axes>"
      ]
     },
     "metadata": {},
     "output_type": "display_data"
    }
   ],
   "source": [
    "ret.cumsum().plot()"
   ]
  },
  {
   "cell_type": "code",
   "execution_count": 40,
   "id": "011d0654-4918-47a0-b15d-0d5afcb50b93",
   "metadata": {
    "tags": []
   },
   "outputs": [
    {
     "data": {
      "text/plain": [
       "-0.009420781186506523"
      ]
     },
     "execution_count": 40,
     "metadata": {},
     "output_type": "execute_result"
    }
   ],
   "source": [
    "sharp_ratio = math.sqrt(252)*ret.mean()/ret.std()\n",
    "sharp_ratio"
   ]
  },
  {
   "cell_type": "code",
   "execution_count": 41,
   "id": "4fd53afd-096b-405a-9617-481561c77d07",
   "metadata": {
    "tags": []
   },
   "outputs": [
    {
     "data": {
      "text/html": [
       "<div>\n",
       "<style scoped>\n",
       "    .dataframe tbody tr th:only-of-type {\n",
       "        vertical-align: middle;\n",
       "    }\n",
       "\n",
       "    .dataframe tbody tr th {\n",
       "        vertical-align: top;\n",
       "    }\n",
       "\n",
       "    .dataframe thead th {\n",
       "        text-align: right;\n",
       "    }\n",
       "</style>\n",
       "<table border=\"1\" class=\"dataframe\">\n",
       "  <thead>\n",
       "    <tr style=\"text-align: right;\">\n",
       "      <th></th>\n",
       "      <th>ret</th>\n",
       "      <th>lagged_ret</th>\n",
       "      <th>high_watermark_index</th>\n",
       "    </tr>\n",
       "    <tr>\n",
       "      <th>datetime</th>\n",
       "      <th></th>\n",
       "      <th></th>\n",
       "      <th></th>\n",
       "    </tr>\n",
       "  </thead>\n",
       "  <tbody>\n",
       "    <tr>\n",
       "      <th>2010-08-13</th>\n",
       "      <td>-0.002051</td>\n",
       "      <td>0.000000</td>\n",
       "      <td>2010-08-13</td>\n",
       "    </tr>\n",
       "    <tr>\n",
       "      <th>2010-08-16</th>\n",
       "      <td>-0.002251</td>\n",
       "      <td>-0.002051</td>\n",
       "      <td>2010-08-16</td>\n",
       "    </tr>\n",
       "    <tr>\n",
       "      <th>2010-08-17</th>\n",
       "      <td>0.014917</td>\n",
       "      <td>-0.002251</td>\n",
       "      <td>2010-08-17</td>\n",
       "    </tr>\n",
       "    <tr>\n",
       "      <th>2010-08-18</th>\n",
       "      <td>0.005044</td>\n",
       "      <td>0.014917</td>\n",
       "      <td>2010-08-18</td>\n",
       "    </tr>\n",
       "    <tr>\n",
       "      <th>2010-08-19</th>\n",
       "      <td>-0.011289</td>\n",
       "      <td>0.005044</td>\n",
       "      <td>2010-08-19</td>\n",
       "    </tr>\n",
       "    <tr>\n",
       "      <th>...</th>\n",
       "      <td>...</td>\n",
       "      <td>...</td>\n",
       "      <td>...</td>\n",
       "    </tr>\n",
       "    <tr>\n",
       "      <th>2019-02-08</th>\n",
       "      <td>-0.055697</td>\n",
       "      <td>-0.050126</td>\n",
       "      <td>2019-02-08</td>\n",
       "    </tr>\n",
       "    <tr>\n",
       "      <th>2019-02-11</th>\n",
       "      <td>-0.050359</td>\n",
       "      <td>-0.055697</td>\n",
       "      <td>2019-02-11</td>\n",
       "    </tr>\n",
       "    <tr>\n",
       "      <th>2019-02-12</th>\n",
       "      <td>-0.036565</td>\n",
       "      <td>-0.050359</td>\n",
       "      <td>2019-02-12</td>\n",
       "    </tr>\n",
       "    <tr>\n",
       "      <th>2019-02-13</th>\n",
       "      <td>-0.022388</td>\n",
       "      <td>-0.036565</td>\n",
       "      <td>2019-02-13</td>\n",
       "    </tr>\n",
       "    <tr>\n",
       "      <th>2019-02-14</th>\n",
       "      <td>-0.018284</td>\n",
       "      <td>-0.022388</td>\n",
       "      <td>2019-02-14</td>\n",
       "    </tr>\n",
       "  </tbody>\n",
       "</table>\n",
       "<p>2141 rows × 3 columns</p>\n",
       "</div>"
      ],
      "text/plain": [
       "                 ret  lagged_ret high_watermark_index\n",
       "datetime                                             \n",
       "2010-08-13 -0.002051    0.000000           2010-08-13\n",
       "2010-08-16 -0.002251   -0.002051           2010-08-16\n",
       "2010-08-17  0.014917   -0.002251           2010-08-17\n",
       "2010-08-18  0.005044    0.014917           2010-08-18\n",
       "2010-08-19 -0.011289    0.005044           2010-08-19\n",
       "...              ...         ...                  ...\n",
       "2019-02-08 -0.055697   -0.050126           2019-02-08\n",
       "2019-02-11 -0.050359   -0.055697           2019-02-11\n",
       "2019-02-12 -0.036565   -0.050359           2019-02-12\n",
       "2019-02-13 -0.022388   -0.036565           2019-02-13\n",
       "2019-02-14 -0.018284   -0.022388           2019-02-14\n",
       "\n",
       "[2141 rows x 3 columns]"
      ]
     },
     "execution_count": 41,
     "metadata": {},
     "output_type": "execute_result"
    }
   ],
   "source": [
    "term = pd.DataFrame({\n",
    "    \"ret\": ret.cumsum().dropna(),\n",
    "    'lagged_ret': ret.cumsum().dropna().shift(1),\n",
    "    'high_watermark_index': ret.cumsum().dropna().index\n",
    "})\n",
    "term['lagged_ret'] = term['lagged_ret'].fillna(0)\n",
    "term"
   ]
  },
  {
   "cell_type": "code",
   "execution_count": 42,
   "id": "1f127290-ee83-45f8-a36b-56e0770be68e",
   "metadata": {
    "tags": []
   },
   "outputs": [],
   "source": [
    "highest_watermark_index = term.iloc[0]['high_watermark_index']\n",
    "for d in term.index:\n",
    "    row = term.loc[d]\n",
    "    if row['ret'] >= term.loc[highest_watermark_index]['ret']:\n",
    "        highest_watermark_index = d\n",
    "    term.loc[d, 'high_watermark_index']= highest_watermark_index"
   ]
  },
  {
   "cell_type": "code",
   "execution_count": 43,
   "id": "d158de7e-7112-4370-be3f-92fdfd83d201",
   "metadata": {
    "tags": []
   },
   "outputs": [
    {
     "data": {
      "text/html": [
       "<div>\n",
       "<style scoped>\n",
       "    .dataframe tbody tr th:only-of-type {\n",
       "        vertical-align: middle;\n",
       "    }\n",
       "\n",
       "    .dataframe tbody tr th {\n",
       "        vertical-align: top;\n",
       "    }\n",
       "\n",
       "    .dataframe thead th {\n",
       "        text-align: right;\n",
       "    }\n",
       "</style>\n",
       "<table border=\"1\" class=\"dataframe\">\n",
       "  <thead>\n",
       "    <tr style=\"text-align: right;\">\n",
       "      <th></th>\n",
       "      <th>ret</th>\n",
       "      <th>lagged_ret</th>\n",
       "      <th>high_watermark_index</th>\n",
       "    </tr>\n",
       "    <tr>\n",
       "      <th>datetime</th>\n",
       "      <th></th>\n",
       "      <th></th>\n",
       "      <th></th>\n",
       "    </tr>\n",
       "  </thead>\n",
       "  <tbody>\n",
       "    <tr>\n",
       "      <th>2010-08-13</th>\n",
       "      <td>-0.002051</td>\n",
       "      <td>0.000000</td>\n",
       "      <td>2010-08-13</td>\n",
       "    </tr>\n",
       "    <tr>\n",
       "      <th>2010-08-16</th>\n",
       "      <td>-0.002251</td>\n",
       "      <td>-0.002051</td>\n",
       "      <td>2010-08-13</td>\n",
       "    </tr>\n",
       "    <tr>\n",
       "      <th>2010-08-17</th>\n",
       "      <td>0.014917</td>\n",
       "      <td>-0.002251</td>\n",
       "      <td>2010-08-17</td>\n",
       "    </tr>\n",
       "    <tr>\n",
       "      <th>2010-08-18</th>\n",
       "      <td>0.005044</td>\n",
       "      <td>0.014917</td>\n",
       "      <td>2010-08-17</td>\n",
       "    </tr>\n",
       "    <tr>\n",
       "      <th>2010-08-19</th>\n",
       "      <td>-0.011289</td>\n",
       "      <td>0.005044</td>\n",
       "      <td>2010-08-17</td>\n",
       "    </tr>\n",
       "    <tr>\n",
       "      <th>...</th>\n",
       "      <td>...</td>\n",
       "      <td>...</td>\n",
       "      <td>...</td>\n",
       "    </tr>\n",
       "    <tr>\n",
       "      <th>2019-02-08</th>\n",
       "      <td>-0.055697</td>\n",
       "      <td>-0.050126</td>\n",
       "      <td>2012-12-28</td>\n",
       "    </tr>\n",
       "    <tr>\n",
       "      <th>2019-02-11</th>\n",
       "      <td>-0.050359</td>\n",
       "      <td>-0.055697</td>\n",
       "      <td>2012-12-28</td>\n",
       "    </tr>\n",
       "    <tr>\n",
       "      <th>2019-02-12</th>\n",
       "      <td>-0.036565</td>\n",
       "      <td>-0.050359</td>\n",
       "      <td>2012-12-28</td>\n",
       "    </tr>\n",
       "    <tr>\n",
       "      <th>2019-02-13</th>\n",
       "      <td>-0.022388</td>\n",
       "      <td>-0.036565</td>\n",
       "      <td>2012-12-28</td>\n",
       "    </tr>\n",
       "    <tr>\n",
       "      <th>2019-02-14</th>\n",
       "      <td>-0.018284</td>\n",
       "      <td>-0.022388</td>\n",
       "      <td>2012-12-28</td>\n",
       "    </tr>\n",
       "  </tbody>\n",
       "</table>\n",
       "<p>2141 rows × 3 columns</p>\n",
       "</div>"
      ],
      "text/plain": [
       "                 ret  lagged_ret high_watermark_index\n",
       "datetime                                             \n",
       "2010-08-13 -0.002051    0.000000           2010-08-13\n",
       "2010-08-16 -0.002251   -0.002051           2010-08-13\n",
       "2010-08-17  0.014917   -0.002251           2010-08-17\n",
       "2010-08-18  0.005044    0.014917           2010-08-17\n",
       "2010-08-19 -0.011289    0.005044           2010-08-17\n",
       "...              ...         ...                  ...\n",
       "2019-02-08 -0.055697   -0.050126           2012-12-28\n",
       "2019-02-11 -0.050359   -0.055697           2012-12-28\n",
       "2019-02-12 -0.036565   -0.050359           2012-12-28\n",
       "2019-02-13 -0.022388   -0.036565           2012-12-28\n",
       "2019-02-14 -0.018284   -0.022388           2012-12-28\n",
       "\n",
       "[2141 rows x 3 columns]"
      ]
     },
     "execution_count": 43,
     "metadata": {},
     "output_type": "execute_result"
    }
   ],
   "source": [
    "term"
   ]
  },
  {
   "cell_type": "code",
   "execution_count": 44,
   "id": "6cdc82c5-39df-4a80-ab2a-78b2535bd965",
   "metadata": {
    "tags": []
   },
   "outputs": [
    {
     "data": {
      "text/html": [
       "<div>\n",
       "<style scoped>\n",
       "    .dataframe tbody tr th:only-of-type {\n",
       "        vertical-align: middle;\n",
       "    }\n",
       "\n",
       "    .dataframe tbody tr th {\n",
       "        vertical-align: top;\n",
       "    }\n",
       "\n",
       "    .dataframe thead th {\n",
       "        text-align: right;\n",
       "    }\n",
       "</style>\n",
       "<table border=\"1\" class=\"dataframe\">\n",
       "  <thead>\n",
       "    <tr style=\"text-align: right;\">\n",
       "      <th></th>\n",
       "      <th>ret</th>\n",
       "      <th>lagged_ret</th>\n",
       "      <th>high_watermark_index</th>\n",
       "      <th>high_watermark_ret</th>\n",
       "      <th>drawdown_deep</th>\n",
       "      <th>drawdown_duration</th>\n",
       "    </tr>\n",
       "    <tr>\n",
       "      <th>datetime</th>\n",
       "      <th></th>\n",
       "      <th></th>\n",
       "      <th></th>\n",
       "      <th></th>\n",
       "      <th></th>\n",
       "      <th></th>\n",
       "    </tr>\n",
       "  </thead>\n",
       "  <tbody>\n",
       "    <tr>\n",
       "      <th>2010-08-13</th>\n",
       "      <td>-0.002051</td>\n",
       "      <td>0.000000</td>\n",
       "      <td>2010-08-13</td>\n",
       "      <td>-0.002051</td>\n",
       "      <td>0.000000</td>\n",
       "      <td>0 days</td>\n",
       "    </tr>\n",
       "    <tr>\n",
       "      <th>2010-08-16</th>\n",
       "      <td>-0.002251</td>\n",
       "      <td>-0.002051</td>\n",
       "      <td>2010-08-13</td>\n",
       "      <td>-0.002051</td>\n",
       "      <td>0.000201</td>\n",
       "      <td>3 days</td>\n",
       "    </tr>\n",
       "    <tr>\n",
       "      <th>2010-08-17</th>\n",
       "      <td>0.014917</td>\n",
       "      <td>-0.002251</td>\n",
       "      <td>2010-08-17</td>\n",
       "      <td>0.014917</td>\n",
       "      <td>0.000000</td>\n",
       "      <td>0 days</td>\n",
       "    </tr>\n",
       "    <tr>\n",
       "      <th>2010-08-18</th>\n",
       "      <td>0.005044</td>\n",
       "      <td>0.014917</td>\n",
       "      <td>2010-08-17</td>\n",
       "      <td>0.014917</td>\n",
       "      <td>0.009873</td>\n",
       "      <td>1 days</td>\n",
       "    </tr>\n",
       "    <tr>\n",
       "      <th>2010-08-19</th>\n",
       "      <td>-0.011289</td>\n",
       "      <td>0.005044</td>\n",
       "      <td>2010-08-17</td>\n",
       "      <td>0.014917</td>\n",
       "      <td>0.026206</td>\n",
       "      <td>2 days</td>\n",
       "    </tr>\n",
       "    <tr>\n",
       "      <th>...</th>\n",
       "      <td>...</td>\n",
       "      <td>...</td>\n",
       "      <td>...</td>\n",
       "      <td>...</td>\n",
       "      <td>...</td>\n",
       "      <td>...</td>\n",
       "    </tr>\n",
       "    <tr>\n",
       "      <th>2019-02-08</th>\n",
       "      <td>-0.055697</td>\n",
       "      <td>-0.050126</td>\n",
       "      <td>2012-12-28</td>\n",
       "      <td>0.325974</td>\n",
       "      <td>0.381671</td>\n",
       "      <td>2233 days</td>\n",
       "    </tr>\n",
       "    <tr>\n",
       "      <th>2019-02-11</th>\n",
       "      <td>-0.050359</td>\n",
       "      <td>-0.055697</td>\n",
       "      <td>2012-12-28</td>\n",
       "      <td>0.325974</td>\n",
       "      <td>0.376333</td>\n",
       "      <td>2236 days</td>\n",
       "    </tr>\n",
       "    <tr>\n",
       "      <th>2019-02-12</th>\n",
       "      <td>-0.036565</td>\n",
       "      <td>-0.050359</td>\n",
       "      <td>2012-12-28</td>\n",
       "      <td>0.325974</td>\n",
       "      <td>0.362538</td>\n",
       "      <td>2237 days</td>\n",
       "    </tr>\n",
       "    <tr>\n",
       "      <th>2019-02-13</th>\n",
       "      <td>-0.022388</td>\n",
       "      <td>-0.036565</td>\n",
       "      <td>2012-12-28</td>\n",
       "      <td>0.325974</td>\n",
       "      <td>0.348362</td>\n",
       "      <td>2238 days</td>\n",
       "    </tr>\n",
       "    <tr>\n",
       "      <th>2019-02-14</th>\n",
       "      <td>-0.018284</td>\n",
       "      <td>-0.022388</td>\n",
       "      <td>2012-12-28</td>\n",
       "      <td>0.325974</td>\n",
       "      <td>0.344258</td>\n",
       "      <td>2239 days</td>\n",
       "    </tr>\n",
       "  </tbody>\n",
       "</table>\n",
       "<p>2141 rows × 6 columns</p>\n",
       "</div>"
      ],
      "text/plain": [
       "                 ret  lagged_ret high_watermark_index  high_watermark_ret  \\\n",
       "datetime                                                                    \n",
       "2010-08-13 -0.002051    0.000000           2010-08-13           -0.002051   \n",
       "2010-08-16 -0.002251   -0.002051           2010-08-13           -0.002051   \n",
       "2010-08-17  0.014917   -0.002251           2010-08-17            0.014917   \n",
       "2010-08-18  0.005044    0.014917           2010-08-17            0.014917   \n",
       "2010-08-19 -0.011289    0.005044           2010-08-17            0.014917   \n",
       "...              ...         ...                  ...                 ...   \n",
       "2019-02-08 -0.055697   -0.050126           2012-12-28            0.325974   \n",
       "2019-02-11 -0.050359   -0.055697           2012-12-28            0.325974   \n",
       "2019-02-12 -0.036565   -0.050359           2012-12-28            0.325974   \n",
       "2019-02-13 -0.022388   -0.036565           2012-12-28            0.325974   \n",
       "2019-02-14 -0.018284   -0.022388           2012-12-28            0.325974   \n",
       "\n",
       "            drawdown_deep drawdown_duration  \n",
       "datetime                                     \n",
       "2010-08-13       0.000000            0 days  \n",
       "2010-08-16       0.000201            3 days  \n",
       "2010-08-17       0.000000            0 days  \n",
       "2010-08-18       0.009873            1 days  \n",
       "2010-08-19       0.026206            2 days  \n",
       "...                   ...               ...  \n",
       "2019-02-08       0.381671         2233 days  \n",
       "2019-02-11       0.376333         2236 days  \n",
       "2019-02-12       0.362538         2237 days  \n",
       "2019-02-13       0.348362         2238 days  \n",
       "2019-02-14       0.344258         2239 days  \n",
       "\n",
       "[2141 rows x 6 columns]"
      ]
     },
     "execution_count": 44,
     "metadata": {},
     "output_type": "execute_result"
    }
   ],
   "source": [
    "term['high_watermark_ret'] = term.apply(lambda x: term.loc[x['high_watermark_index']]['ret'], axis=1)\n",
    "term['drawdown_deep'] = term['high_watermark_ret'] - term['ret']\n",
    "term['drawdown_duration'] = term.index - term['high_watermark_index']\n",
    "term"
   ]
  },
  {
   "cell_type": "code",
   "execution_count": 45,
   "id": "5c890999-0b69-4150-bd38-11878f26c84b",
   "metadata": {
    "tags": []
   },
   "outputs": [
    {
     "data": {
      "text/html": [
       "<div>\n",
       "<style scoped>\n",
       "    .dataframe tbody tr th:only-of-type {\n",
       "        vertical-align: middle;\n",
       "    }\n",
       "\n",
       "    .dataframe tbody tr th {\n",
       "        vertical-align: top;\n",
       "    }\n",
       "\n",
       "    .dataframe thead th {\n",
       "        text-align: right;\n",
       "    }\n",
       "</style>\n",
       "<table border=\"1\" class=\"dataframe\">\n",
       "  <thead>\n",
       "    <tr style=\"text-align: right;\">\n",
       "      <th></th>\n",
       "      <th>ret</th>\n",
       "      <th>lagged_ret</th>\n",
       "      <th>high_watermark_index</th>\n",
       "      <th>high_watermark_ret</th>\n",
       "      <th>drawdown_deep</th>\n",
       "      <th>drawdown_duration</th>\n",
       "    </tr>\n",
       "  </thead>\n",
       "  <tbody>\n",
       "    <tr>\n",
       "      <th>count</th>\n",
       "      <td>2141.000000</td>\n",
       "      <td>2141.000000</td>\n",
       "      <td>2141</td>\n",
       "      <td>2141.000000</td>\n",
       "      <td>2141.000000</td>\n",
       "      <td>2141</td>\n",
       "    </tr>\n",
       "    <tr>\n",
       "      <th>mean</th>\n",
       "      <td>-0.009235</td>\n",
       "      <td>-0.009226</td>\n",
       "      <td>2012-07-24 08:17:02.326016</td>\n",
       "      <td>0.266371</td>\n",
       "      <td>0.275605</td>\n",
       "      <td>841 days 22:31:53.498365248</td>\n",
       "    </tr>\n",
       "    <tr>\n",
       "      <th>min</th>\n",
       "      <td>-0.438732</td>\n",
       "      <td>-0.438732</td>\n",
       "      <td>2010-08-13 00:00:00</td>\n",
       "      <td>-0.002051</td>\n",
       "      <td>0.000000</td>\n",
       "      <td>0 days 00:00:00</td>\n",
       "    </tr>\n",
       "    <tr>\n",
       "      <th>25%</th>\n",
       "      <td>-0.135990</td>\n",
       "      <td>-0.135990</td>\n",
       "      <td>2012-08-03 00:00:00</td>\n",
       "      <td>0.268060</td>\n",
       "      <td>0.126743</td>\n",
       "      <td>174 days 00:00:00</td>\n",
       "    </tr>\n",
       "    <tr>\n",
       "      <th>50%</th>\n",
       "      <td>-0.020046</td>\n",
       "      <td>-0.020046</td>\n",
       "      <td>2012-12-28 00:00:00</td>\n",
       "      <td>0.325974</td>\n",
       "      <td>0.294441</td>\n",
       "      <td>684 days 00:00:00</td>\n",
       "    </tr>\n",
       "    <tr>\n",
       "      <th>75%</th>\n",
       "      <td>0.128507</td>\n",
       "      <td>0.128507</td>\n",
       "      <td>2012-12-28 00:00:00</td>\n",
       "      <td>0.325974</td>\n",
       "      <td>0.396094</td>\n",
       "      <td>1461 days 00:00:00</td>\n",
       "    </tr>\n",
       "    <tr>\n",
       "      <th>max</th>\n",
       "      <td>0.325974</td>\n",
       "      <td>0.325974</td>\n",
       "      <td>2012-12-28 00:00:00</td>\n",
       "      <td>0.325974</td>\n",
       "      <td>0.640196</td>\n",
       "      <td>2239 days 00:00:00</td>\n",
       "    </tr>\n",
       "    <tr>\n",
       "      <th>std</th>\n",
       "      <td>0.163159</td>\n",
       "      <td>0.163159</td>\n",
       "      <td>NaN</td>\n",
       "      <td>0.108369</td>\n",
       "      <td>0.160776</td>\n",
       "      <td>710 days 08:04:33.613287824</td>\n",
       "    </tr>\n",
       "  </tbody>\n",
       "</table>\n",
       "</div>"
      ],
      "text/plain": [
       "               ret   lagged_ret        high_watermark_index  \\\n",
       "count  2141.000000  2141.000000                        2141   \n",
       "mean     -0.009235    -0.009226  2012-07-24 08:17:02.326016   \n",
       "min      -0.438732    -0.438732         2010-08-13 00:00:00   \n",
       "25%      -0.135990    -0.135990         2012-08-03 00:00:00   \n",
       "50%      -0.020046    -0.020046         2012-12-28 00:00:00   \n",
       "75%       0.128507     0.128507         2012-12-28 00:00:00   \n",
       "max       0.325974     0.325974         2012-12-28 00:00:00   \n",
       "std       0.163159     0.163159                         NaN   \n",
       "\n",
       "       high_watermark_ret  drawdown_deep            drawdown_duration  \n",
       "count         2141.000000    2141.000000                         2141  \n",
       "mean             0.266371       0.275605  841 days 22:31:53.498365248  \n",
       "min             -0.002051       0.000000              0 days 00:00:00  \n",
       "25%              0.268060       0.126743            174 days 00:00:00  \n",
       "50%              0.325974       0.294441            684 days 00:00:00  \n",
       "75%              0.325974       0.396094           1461 days 00:00:00  \n",
       "max              0.325974       0.640196           2239 days 00:00:00  \n",
       "std              0.108369       0.160776  710 days 08:04:33.613287824  "
      ]
     },
     "execution_count": 45,
     "metadata": {},
     "output_type": "execute_result"
    }
   ],
   "source": [
    "term.describe()"
   ]
  },
  {
   "cell_type": "code",
   "execution_count": 46,
   "id": "8652364e-71b9-45c8-a9a4-c2ba18961be7",
   "metadata": {
    "tags": []
   },
   "outputs": [
    {
     "data": {
      "text/plain": [
       "Timestamp('2018-01-22 00:00:00')"
      ]
     },
     "execution_count": 46,
     "metadata": {},
     "output_type": "execute_result"
    }
   ],
   "source": [
    "term['drawdown_deep'].idxmax()"
   ]
  },
  {
   "cell_type": "code",
   "execution_count": 47,
   "id": "eb440437-c2bf-41e6-b3ff-0e21a1ba7999",
   "metadata": {
    "tags": []
   },
   "outputs": [
    {
     "data": {
      "text/plain": [
       "Timestamp('2019-02-14 00:00:00')"
      ]
     },
     "execution_count": 47,
     "metadata": {},
     "output_type": "execute_result"
    }
   ],
   "source": [
    "term['drawdown_duration'].idxmax()"
   ]
  },
  {
   "cell_type": "code",
   "execution_count": 48,
   "id": "8cb3fc02-09e3-41c8-90c6-bc0d4b0a52e6",
   "metadata": {
    "tags": []
   },
   "outputs": [
    {
     "data": {
      "text/plain": [
       "<Axes: xlabel='datetime'>"
      ]
     },
     "execution_count": 48,
     "metadata": {},
     "output_type": "execute_result"
    },
    {
     "data": {
      "image/png": "[encoded data removed]",
      "text/plain": [
       "<Figure size 640x480 with 1 Axes>"
      ]
     },
     "metadata": {},
     "output_type": "display_data"
    }
   ],
   "source": [
    "term['ret'].plot()"
   ]
  },
  {
   "cell_type": "markdown",
   "id": "1678f4de-498e-473e-bfc9-5cedfc7d4e58",
   "metadata": {},
   "source": [
    "# Johansen Cointegration Test"
   ]
  },
  {
   "cell_type": "code",
   "execution_count": 49,
   "id": "228e7e0b-64dc-414f-b43b-277629d26380",
   "metadata": {
    "tags": []
   },
   "outputs": [
    {
     "data": {
      "text/html": [
       "<div>\n",
       "<style scoped>\n",
       "    .dataframe tbody tr th:only-of-type {\n",
       "        vertical-align: middle;\n",
       "    }\n",
       "\n",
       "    .dataframe tbody tr th {\n",
       "        vertical-align: top;\n",
       "    }\n",
       "\n",
       "    .dataframe thead th {\n",
       "        text-align: right;\n",
       "    }\n",
       "</style>\n",
       "<table border=\"1\" class=\"dataframe\">\n",
       "  <thead>\n",
       "    <tr style=\"text-align: right;\">\n",
       "      <th></th>\n",
       "      <th>XLE</th>\n",
       "      <th>XLU</th>\n",
       "    </tr>\n",
       "    <tr>\n",
       "      <th>datetime</th>\n",
       "      <th></th>\n",
       "      <th></th>\n",
       "    </tr>\n",
       "  </thead>\n",
       "  <tbody>\n",
       "    <tr>\n",
       "      <th>2010-01-04</th>\n",
       "      <td>58.81</td>\n",
       "      <td>31.08</td>\n",
       "    </tr>\n",
       "    <tr>\n",
       "      <th>2010-01-05</th>\n",
       "      <td>59.29</td>\n",
       "      <td>30.71</td>\n",
       "    </tr>\n",
       "    <tr>\n",
       "      <th>2010-01-06</th>\n",
       "      <td>60.00</td>\n",
       "      <td>30.89</td>\n",
       "    </tr>\n",
       "    <tr>\n",
       "      <th>2010-01-07</th>\n",
       "      <td>59.91</td>\n",
       "      <td>30.75</td>\n",
       "    </tr>\n",
       "    <tr>\n",
       "      <th>2010-01-08</th>\n",
       "      <td>60.30</td>\n",
       "      <td>30.72</td>\n",
       "    </tr>\n",
       "    <tr>\n",
       "      <th>...</th>\n",
       "      <td>...</td>\n",
       "      <td>...</td>\n",
       "    </tr>\n",
       "    <tr>\n",
       "      <th>2019-02-08</th>\n",
       "      <td>62.94</td>\n",
       "      <td>55.68</td>\n",
       "    </tr>\n",
       "    <tr>\n",
       "      <th>2019-02-11</th>\n",
       "      <td>63.24</td>\n",
       "      <td>55.66</td>\n",
       "    </tr>\n",
       "    <tr>\n",
       "      <th>2019-02-12</th>\n",
       "      <td>64.04</td>\n",
       "      <td>55.79</td>\n",
       "    </tr>\n",
       "    <tr>\n",
       "      <th>2019-02-13</th>\n",
       "      <td>64.84</td>\n",
       "      <td>55.63</td>\n",
       "    </tr>\n",
       "    <tr>\n",
       "      <th>2019-02-14</th>\n",
       "      <td>65.07</td>\n",
       "      <td>55.54</td>\n",
       "    </tr>\n",
       "  </tbody>\n",
       "</table>\n",
       "<p>2295 rows × 2 columns</p>\n",
       "</div>"
      ],
      "text/plain": [
       "              XLE    XLU\n",
       "datetime                \n",
       "2010-01-04  58.81  31.08\n",
       "2010-01-05  59.29  30.71\n",
       "2010-01-06  60.00  30.89\n",
       "2010-01-07  59.91  30.75\n",
       "2010-01-08  60.30  30.72\n",
       "...           ...    ...\n",
       "2019-02-08  62.94  55.68\n",
       "2019-02-11  63.24  55.66\n",
       "2019-02-12  64.04  55.79\n",
       "2019-02-13  64.84  55.63\n",
       "2019-02-14  65.07  55.54\n",
       "\n",
       "[2295 rows x 2 columns]"
      ]
     },
     "execution_count": 49,
     "metadata": {},
     "output_type": "execute_result"
    }
   ],
   "source": [
    "train_data"
   ]
  },
  {
   "cell_type": "code",
   "execution_count": 59,
   "id": "ddf6653a-451f-49d2-858f-660873f648d2",
   "metadata": {
    "tags": []
   },
   "outputs": [],
   "source": [
    "from statsmodels.tsa.vector_ar.vecm import coint_johansen\n",
    "\n",
    "# x is a dataframe of n series for cointegration analysis\n",
    "jres = coint_johansen(train_data, det_order=0, k_ar_diff=1)"
   ]
  },
  {
   "cell_type": "code",
   "execution_count": 60,
   "id": "7f68936b-6c6e-41cd-bcc7-e110aeaa83f7",
   "metadata": {
    "tags": []
   },
   "outputs": [
    {
     "data": {
      "text/plain": [
       "array([6.31235691, 0.38602924])"
      ]
     },
     "execution_count": 60,
     "metadata": {},
     "output_type": "execute_result"
    }
   ],
   "source": [
    "jres.max_eig_stat"
   ]
  },
  {
   "cell_type": "code",
   "execution_count": 61,
   "id": "d43dad45-2ab7-43ca-9eb7-434cf99fab9c",
   "metadata": {
    "tags": []
   },
   "outputs": [
    {
     "data": {
      "text/plain": [
       "array([[12.2971, 14.2639, 18.52  ],\n",
       "       [ 2.7055,  3.8415,  6.6349]])"
      ]
     },
     "execution_count": 61,
     "metadata": {},
     "output_type": "execute_result"
    }
   ],
   "source": [
    "jres.max_eig_stat_crit_vals"
   ]
  },
  {
   "cell_type": "code",
   "execution_count": 62,
   "id": "f9ea7639-8176-4e75-9395-9bf5c3ec6c01",
   "metadata": {
    "tags": []
   },
   "outputs": [
    {
     "data": {
      "text/plain": [
       "array([[ 0.09154149, -0.04004565],\n",
       "       [ 0.04026015,  0.12039224]])"
      ]
     },
     "execution_count": 62,
     "metadata": {},
     "output_type": "execute_result"
    }
   ],
   "source": [
    "jres.evec"
   ]
  },
  {
   "cell_type": "code",
   "execution_count": 63,
   "id": "85add2a7-4a8e-40d7-b4ed-3dd0d10ef9aa",
   "metadata": {
    "tags": []
   },
   "outputs": [
    {
     "data": {
      "text/plain": [
       "array([0.0027491 , 0.00016834])"
      ]
     },
     "execution_count": 63,
     "metadata": {},
     "output_type": "execute_result"
    }
   ],
   "source": [
    "jres.eig"
   ]
  },
  {
   "cell_type": "code",
   "execution_count": 68,
   "id": "0526af91-dae8-44ce-aea7-4dc2f1f95ce6",
   "metadata": {
    "tags": []
   },
   "outputs": [
    {
     "data": {
      "text/plain": [
       "array([ 1.        , -0.43745897])"
      ]
     },
     "execution_count": 68,
     "metadata": {},
     "output_type": "execute_result"
    }
   ],
   "source": [
    "w = jres.evec[0]\n",
    "w / w[0]"
   ]
  },
  {
   "cell_type": "code",
   "execution_count": 40,
   "id": "6acce9a0-066a-4152-a7bc-7f4804dd7273",
   "metadata": {
    "tags": []
   },
   "outputs": [
    {
     "data": {
      "text/plain": [
       "datetime\n",
       "2020-11-03   -0.012211\n",
       "2020-11-04    0.006760\n",
       "2020-11-05   -0.002894\n",
       "2020-11-06   -0.028014\n",
       "2020-11-09    0.184484\n",
       "dtype: float64"
      ]
     },
     "execution_count": 40,
     "metadata": {},
     "output_type": "execute_result"
    }
   ],
   "source": [
    "ret.loc[:ret.idxmax()].tail(5)"
   ]
  },
  {
   "cell_type": "code",
   "execution_count": 41,
   "id": "5d931e13-612e-45c2-ac65-7553ee2dbeaa",
   "metadata": {
    "tags": []
   },
   "outputs": [
    {
     "data": {
      "text/plain": [
       "datetime\n",
       "2020-11-09    0.184484\n",
       "2020-11-10    0.037558\n",
       "2020-11-11   -0.014217\n",
       "2020-11-12   -0.036921\n",
       "2020-11-13    0.044180\n",
       "dtype: float64"
      ]
     },
     "execution_count": 41,
     "metadata": {},
     "output_type": "execute_result"
    }
   ],
   "source": [
    "ret.loc[ret.idxmax():].head(5)"
   ]
  },
  {
   "cell_type": "code",
   "execution_count": 89,
   "id": "9d8c3efc-2736-4434-a353-7baf6dba8553",
   "metadata": {
    "tags": []
   },
   "outputs": [
    {
     "data": {
      "text/plain": [
       "datetime\n",
       "2020-11-10    0.692421\n",
       "2020-11-11   -0.181562\n",
       "2020-11-12   -0.563747\n",
       "2020-11-13    0.926803\n",
       "2020-11-16    1.175930\n",
       "dtype: float64"
      ]
     },
     "execution_count": 89,
     "metadata": {},
     "output_type": "execute_result"
    }
   ],
   "source": [
    "pnl.loc[:ret.idxmax()].tail(5)"
   ]
  },
  {
   "cell_type": "code",
   "execution_count": 87,
   "id": "a6504535-1509-4ad1-abfe-a6a6abc24141",
   "metadata": {
    "tags": []
   },
   "outputs": [
    {
     "data": {
      "text/plain": [
       "datetime\n",
       "2020-11-16    1.175930\n",
       "2020-11-17   -0.002037\n",
       "2020-11-18    0.121994\n",
       "2020-11-19    0.067015\n",
       "2020-11-20    0.011695\n",
       "dtype: float64"
      ]
     },
     "execution_count": 87,
     "metadata": {},
     "output_type": "execute_result"
    }
   ],
   "source": [
    "pnl.loc[ret.idxmax():].head(5)"
   ]
  },
  {
   "cell_type": "code",
   "execution_count": 101,
   "id": "bc7833ee-f3cd-4c86-9af1-a73a42652899",
   "metadata": {
    "tags": []
   },
   "outputs": [
    {
     "data": {
      "text/plain": [
       "datetime\n",
       "2020-11-10    0.479865\n",
       "2020-11-11    0.582012\n",
       "2020-11-12    0.830273\n",
       "2020-11-13    0.545930\n",
       "2020-11-16   -0.003928\n",
       "dtype: float64"
      ]
     },
     "execution_count": 101,
     "metadata": {},
     "output_type": "execute_result"
    }
   ],
   "source": [
    "num_units.loc[:ret.idxmax()].tail(5)"
   ]
  },
  {
   "cell_type": "code",
   "execution_count": 100,
   "id": "56323b13-bec2-4a75-9e49-0f25e25956d3",
   "metadata": {
    "tags": []
   },
   "outputs": [
    {
     "data": {
      "text/plain": [
       "datetime\n",
       "2020-11-16   -0.003928\n",
       "2020-11-17   -0.133357\n",
       "2020-11-18    0.102688\n",
       "2020-11-19   -0.061190\n",
       "2020-11-20   -0.006881\n",
       "dtype: float64"
      ]
     },
     "execution_count": 100,
     "metadata": {},
     "output_type": "execute_result"
    }
   ],
   "source": [
    "num_units.loc[ret.idxmax():].head(5)"
   ]
  }
 ],
 "metadata": {
  "kernelspec": {
   "display_name": "Python 3 (ipykernel)",
   "language": "python",
   "name": "python3"
  },
  "language_info": {
   "codemirror_mode": {
    "name": "ipython",
    "version": 3
   },
   "file_extension": ".py",
   "mimetype": "text/x-python",
   "name": "python",
   "nbconvert_exporter": "python",
   "pygments_lexer": "ipython3",
   "version": "3.9.17"
  }
 },
 "nbformat": 4,
 "nbformat_minor": 5
}
