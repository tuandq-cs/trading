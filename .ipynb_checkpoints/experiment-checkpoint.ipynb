{
 "cells": [
  {
   "cell_type": "code",
   "execution_count": 2,
   "id": "dd3e942f-938f-4dd6-979c-5af821ebd698",
   "metadata": {
    "tags": []
   },
   "outputs": [],
   "source": [
    "import pandas as pd\n",
    "import numpy as np\n",
    "import matplotlib.pyplot as plt\n",
    "import math"
   ]
  },
  {
   "cell_type": "code",
   "execution_count": 3,
   "id": "f3290bdd-2a14-4fd3-9e33-05d733e11f64",
   "metadata": {
    "tags": []
   },
   "outputs": [],
   "source": [
    "xle_raw = pd.read_csv('XLE.csv', delimiter=\";\", parse_dates=[\"datetime\"]).set_index(\"datetime\")\n",
    "xlu_raw = pd.read_csv('XLU.csv', delimiter=\";\", parse_dates=[\"datetime\"]).set_index(\"datetime\")"
   ]
  },
  {
   "cell_type": "code",
   "execution_count": 21,
   "id": "6c052a94-0af4-42c0-bc53-0efc0ea4e0e3",
   "metadata": {
    "tags": []
   },
   "outputs": [
    {
     "data": {
      "text/html": [
       "<div>\n",
       "<style scoped>\n",
       "    .dataframe tbody tr th:only-of-type {\n",
       "        vertical-align: middle;\n",
       "    }\n",
       "\n",
       "    .dataframe tbody tr th {\n",
       "        vertical-align: top;\n",
       "    }\n",
       "\n",
       "    .dataframe thead th {\n",
       "        text-align: right;\n",
       "    }\n",
       "</style>\n",
       "<table border=\"1\" class=\"dataframe\">\n",
       "  <thead>\n",
       "    <tr style=\"text-align: right;\">\n",
       "      <th></th>\n",
       "      <th>open</th>\n",
       "      <th>high</th>\n",
       "      <th>low</th>\n",
       "      <th>close</th>\n",
       "      <th>volume</th>\n",
       "    </tr>\n",
       "    <tr>\n",
       "      <th>datetime</th>\n",
       "      <th></th>\n",
       "      <th></th>\n",
       "      <th></th>\n",
       "      <th></th>\n",
       "      <th></th>\n",
       "    </tr>\n",
       "  </thead>\n",
       "  <tbody>\n",
       "    <tr>\n",
       "      <th>2023-09-07</th>\n",
       "      <td>91.44</td>\n",
       "      <td>91.90</td>\n",
       "      <td>91.0088</td>\n",
       "      <td>91.17</td>\n",
       "      <td>15361552</td>\n",
       "    </tr>\n",
       "    <tr>\n",
       "      <th>2023-09-06</th>\n",
       "      <td>91.04</td>\n",
       "      <td>91.75</td>\n",
       "      <td>90.5900</td>\n",
       "      <td>91.26</td>\n",
       "      <td>20162100</td>\n",
       "    </tr>\n",
       "    <tr>\n",
       "      <th>2023-09-05</th>\n",
       "      <td>91.25</td>\n",
       "      <td>92.15</td>\n",
       "      <td>91.1600</td>\n",
       "      <td>91.22</td>\n",
       "      <td>24368700</td>\n",
       "    </tr>\n",
       "    <tr>\n",
       "      <th>2023-09-01</th>\n",
       "      <td>89.90</td>\n",
       "      <td>90.84</td>\n",
       "      <td>89.8800</td>\n",
       "      <td>90.74</td>\n",
       "      <td>17878100</td>\n",
       "    </tr>\n",
       "    <tr>\n",
       "      <th>2023-08-31</th>\n",
       "      <td>89.19</td>\n",
       "      <td>89.34</td>\n",
       "      <td>88.2800</td>\n",
       "      <td>88.92</td>\n",
       "      <td>14808700</td>\n",
       "    </tr>\n",
       "    <tr>\n",
       "      <th>...</th>\n",
       "      <td>...</td>\n",
       "      <td>...</td>\n",
       "      <td>...</td>\n",
       "      <td>...</td>\n",
       "      <td>...</td>\n",
       "    </tr>\n",
       "    <tr>\n",
       "      <th>2010-01-08</th>\n",
       "      <td>59.70</td>\n",
       "      <td>60.35</td>\n",
       "      <td>59.4900</td>\n",
       "      <td>60.30</td>\n",
       "      <td>13344300</td>\n",
       "    </tr>\n",
       "    <tr>\n",
       "      <th>2010-01-07</th>\n",
       "      <td>59.74</td>\n",
       "      <td>60.01</td>\n",
       "      <td>59.3000</td>\n",
       "      <td>59.91</td>\n",
       "      <td>17449500</td>\n",
       "    </tr>\n",
       "    <tr>\n",
       "      <th>2010-01-06</th>\n",
       "      <td>59.32</td>\n",
       "      <td>60.18</td>\n",
       "      <td>59.1900</td>\n",
       "      <td>60.00</td>\n",
       "      <td>24351900</td>\n",
       "    </tr>\n",
       "    <tr>\n",
       "      <th>2010-01-05</th>\n",
       "      <td>58.89</td>\n",
       "      <td>59.41</td>\n",
       "      <td>58.6200</td>\n",
       "      <td>59.29</td>\n",
       "      <td>17368100</td>\n",
       "    </tr>\n",
       "    <tr>\n",
       "      <th>2010-01-04</th>\n",
       "      <td>57.92</td>\n",
       "      <td>58.81</td>\n",
       "      <td>57.7900</td>\n",
       "      <td>58.81</td>\n",
       "      <td>16928400</td>\n",
       "    </tr>\n",
       "  </tbody>\n",
       "</table>\n",
       "<p>3443 rows × 5 columns</p>\n",
       "</div>"
      ],
      "text/plain": [
       "             open   high      low  close    volume\n",
       "datetime                                          \n",
       "2023-09-07  91.44  91.90  91.0088  91.17  15361552\n",
       "2023-09-06  91.04  91.75  90.5900  91.26  20162100\n",
       "2023-09-05  91.25  92.15  91.1600  91.22  24368700\n",
       "2023-09-01  89.90  90.84  89.8800  90.74  17878100\n",
       "2023-08-31  89.19  89.34  88.2800  88.92  14808700\n",
       "...           ...    ...      ...    ...       ...\n",
       "2010-01-08  59.70  60.35  59.4900  60.30  13344300\n",
       "2010-01-07  59.74  60.01  59.3000  59.91  17449500\n",
       "2010-01-06  59.32  60.18  59.1900  60.00  24351900\n",
       "2010-01-05  58.89  59.41  58.6200  59.29  17368100\n",
       "2010-01-04  57.92  58.81  57.7900  58.81  16928400\n",
       "\n",
       "[3443 rows x 5 columns]"
      ]
     },
     "execution_count": 21,
     "metadata": {},
     "output_type": "execute_result"
    }
   ],
   "source": [
    "xle_raw"
   ]
  },
  {
   "cell_type": "code",
   "execution_count": 5,
   "id": "495a16bc-6d8e-406c-8928-74d9d2ea2d34",
   "metadata": {
    "tags": []
   },
   "outputs": [
    {
     "data": {
      "text/html": [
       "<div>\n",
       "<style scoped>\n",
       "    .dataframe tbody tr th:only-of-type {\n",
       "        vertical-align: middle;\n",
       "    }\n",
       "\n",
       "    .dataframe tbody tr th {\n",
       "        vertical-align: top;\n",
       "    }\n",
       "\n",
       "    .dataframe thead th {\n",
       "        text-align: right;\n",
       "    }\n",
       "</style>\n",
       "<table border=\"1\" class=\"dataframe\">\n",
       "  <thead>\n",
       "    <tr style=\"text-align: right;\">\n",
       "      <th></th>\n",
       "      <th>open</th>\n",
       "      <th>high</th>\n",
       "      <th>low</th>\n",
       "      <th>close</th>\n",
       "      <th>volume</th>\n",
       "    </tr>\n",
       "    <tr>\n",
       "      <th>datetime</th>\n",
       "      <th></th>\n",
       "      <th></th>\n",
       "      <th></th>\n",
       "      <th></th>\n",
       "      <th></th>\n",
       "    </tr>\n",
       "  </thead>\n",
       "  <tbody>\n",
       "    <tr>\n",
       "      <th>2023-09-07</th>\n",
       "      <td>62.35</td>\n",
       "      <td>63.13</td>\n",
       "      <td>62.19</td>\n",
       "      <td>62.63</td>\n",
       "      <td>16873800</td>\n",
       "    </tr>\n",
       "    <tr>\n",
       "      <th>2023-09-06</th>\n",
       "      <td>61.77</td>\n",
       "      <td>61.89</td>\n",
       "      <td>61.42</td>\n",
       "      <td>61.82</td>\n",
       "      <td>19470100</td>\n",
       "    </tr>\n",
       "    <tr>\n",
       "      <th>2023-09-05</th>\n",
       "      <td>62.60</td>\n",
       "      <td>62.64</td>\n",
       "      <td>61.34</td>\n",
       "      <td>61.68</td>\n",
       "      <td>18825300</td>\n",
       "    </tr>\n",
       "    <tr>\n",
       "      <th>2023-09-01</th>\n",
       "      <td>63.29</td>\n",
       "      <td>63.51</td>\n",
       "      <td>62.15</td>\n",
       "      <td>62.64</td>\n",
       "      <td>14387700</td>\n",
       "    </tr>\n",
       "    <tr>\n",
       "      <th>2023-08-31</th>\n",
       "      <td>63.82</td>\n",
       "      <td>63.88</td>\n",
       "      <td>62.94</td>\n",
       "      <td>62.96</td>\n",
       "      <td>13771100</td>\n",
       "    </tr>\n",
       "    <tr>\n",
       "      <th>...</th>\n",
       "      <td>...</td>\n",
       "      <td>...</td>\n",
       "      <td>...</td>\n",
       "      <td>...</td>\n",
       "      <td>...</td>\n",
       "    </tr>\n",
       "    <tr>\n",
       "      <th>2010-01-08</th>\n",
       "      <td>30.71</td>\n",
       "      <td>30.79</td>\n",
       "      <td>30.52</td>\n",
       "      <td>30.72</td>\n",
       "      <td>6267600</td>\n",
       "    </tr>\n",
       "    <tr>\n",
       "      <th>2010-01-07</th>\n",
       "      <td>30.85</td>\n",
       "      <td>30.87</td>\n",
       "      <td>30.64</td>\n",
       "      <td>30.75</td>\n",
       "      <td>6563100</td>\n",
       "    </tr>\n",
       "    <tr>\n",
       "      <th>2010-01-06</th>\n",
       "      <td>30.69</td>\n",
       "      <td>31.00</td>\n",
       "      <td>30.69</td>\n",
       "      <td>30.89</td>\n",
       "      <td>12745100</td>\n",
       "    </tr>\n",
       "    <tr>\n",
       "      <th>2010-01-05</th>\n",
       "      <td>30.99</td>\n",
       "      <td>31.17</td>\n",
       "      <td>30.56</td>\n",
       "      <td>30.71</td>\n",
       "      <td>18023700</td>\n",
       "    </tr>\n",
       "    <tr>\n",
       "      <th>2010-01-04</th>\n",
       "      <td>31.28</td>\n",
       "      <td>31.36</td>\n",
       "      <td>31.01</td>\n",
       "      <td>31.08</td>\n",
       "      <td>8217600</td>\n",
       "    </tr>\n",
       "  </tbody>\n",
       "</table>\n",
       "<p>3443 rows × 5 columns</p>\n",
       "</div>"
      ],
      "text/plain": [
       "             open   high    low  close    volume\n",
       "datetime                                        \n",
       "2023-09-07  62.35  63.13  62.19  62.63  16873800\n",
       "2023-09-06  61.77  61.89  61.42  61.82  19470100\n",
       "2023-09-05  62.60  62.64  61.34  61.68  18825300\n",
       "2023-09-01  63.29  63.51  62.15  62.64  14387700\n",
       "2023-08-31  63.82  63.88  62.94  62.96  13771100\n",
       "...           ...    ...    ...    ...       ...\n",
       "2010-01-08  30.71  30.79  30.52  30.72   6267600\n",
       "2010-01-07  30.85  30.87  30.64  30.75   6563100\n",
       "2010-01-06  30.69  31.00  30.69  30.89  12745100\n",
       "2010-01-05  30.99  31.17  30.56  30.71  18023700\n",
       "2010-01-04  31.28  31.36  31.01  31.08   8217600\n",
       "\n",
       "[3443 rows x 5 columns]"
      ]
     },
     "execution_count": 5,
     "metadata": {},
     "output_type": "execute_result"
    }
   ],
   "source": [
    "xlu_raw"
   ]
  },
  {
   "cell_type": "code",
   "execution_count": 6,
   "id": "6bf841b7-4463-4c7c-848b-3a79fc3f441e",
   "metadata": {
    "tags": []
   },
   "outputs": [
    {
     "data": {
      "text/plain": [
       "datetime\n",
       "2023-09-07    91.17\n",
       "2023-09-06    91.26\n",
       "2023-09-05    91.22\n",
       "2023-09-01    90.74\n",
       "2023-08-31    88.92\n",
       "              ...  \n",
       "2010-01-08    60.30\n",
       "2010-01-07    59.91\n",
       "2010-01-06    60.00\n",
       "2010-01-05    59.29\n",
       "2010-01-04    58.81\n",
       "Name: XLE, Length: 3443, dtype: float64"
      ]
     },
     "execution_count": 6,
     "metadata": {},
     "output_type": "execute_result"
    }
   ],
   "source": [
    "xle = xle_raw[\"close\"].rename(\"XLE\")\n",
    "xle"
   ]
  },
  {
   "cell_type": "code",
   "execution_count": 7,
   "id": "accac899-fe73-4307-901e-2e21a2ad3c99",
   "metadata": {
    "tags": []
   },
   "outputs": [
    {
     "data": {
      "text/plain": [
       "datetime\n",
       "2023-09-07    62.63\n",
       "2023-09-06    61.82\n",
       "2023-09-05    61.68\n",
       "2023-09-01    62.64\n",
       "2023-08-31    62.96\n",
       "              ...  \n",
       "2010-01-08    30.72\n",
       "2010-01-07    30.75\n",
       "2010-01-06    30.89\n",
       "2010-01-05    30.71\n",
       "2010-01-04    31.08\n",
       "Name: XLU, Length: 3443, dtype: float64"
      ]
     },
     "execution_count": 7,
     "metadata": {},
     "output_type": "execute_result"
    }
   ],
   "source": [
    "xlu = xlu_raw[\"close\"].rename(\"XLU\")\n",
    "xlu"
   ]
  },
  {
   "cell_type": "code",
   "execution_count": 8,
   "id": "900825cf-ea57-4520-b031-179cf15056fc",
   "metadata": {
    "tags": []
   },
   "outputs": [
    {
     "data": {
      "text/html": [
       "<div>\n",
       "<style scoped>\n",
       "    .dataframe tbody tr th:only-of-type {\n",
       "        vertical-align: middle;\n",
       "    }\n",
       "\n",
       "    .dataframe tbody tr th {\n",
       "        vertical-align: top;\n",
       "    }\n",
       "\n",
       "    .dataframe thead th {\n",
       "        text-align: right;\n",
       "    }\n",
       "</style>\n",
       "<table border=\"1\" class=\"dataframe\">\n",
       "  <thead>\n",
       "    <tr style=\"text-align: right;\">\n",
       "      <th></th>\n",
       "      <th>XLE</th>\n",
       "      <th>XLU</th>\n",
       "    </tr>\n",
       "    <tr>\n",
       "      <th>datetime</th>\n",
       "      <th></th>\n",
       "      <th></th>\n",
       "    </tr>\n",
       "  </thead>\n",
       "  <tbody>\n",
       "    <tr>\n",
       "      <th>2023-09-07</th>\n",
       "      <td>91.17</td>\n",
       "      <td>62.63</td>\n",
       "    </tr>\n",
       "    <tr>\n",
       "      <th>2023-09-06</th>\n",
       "      <td>91.26</td>\n",
       "      <td>61.82</td>\n",
       "    </tr>\n",
       "    <tr>\n",
       "      <th>2023-09-05</th>\n",
       "      <td>91.22</td>\n",
       "      <td>61.68</td>\n",
       "    </tr>\n",
       "    <tr>\n",
       "      <th>2023-09-01</th>\n",
       "      <td>90.74</td>\n",
       "      <td>62.64</td>\n",
       "    </tr>\n",
       "    <tr>\n",
       "      <th>2023-08-31</th>\n",
       "      <td>88.92</td>\n",
       "      <td>62.96</td>\n",
       "    </tr>\n",
       "    <tr>\n",
       "      <th>...</th>\n",
       "      <td>...</td>\n",
       "      <td>...</td>\n",
       "    </tr>\n",
       "    <tr>\n",
       "      <th>2010-01-08</th>\n",
       "      <td>60.30</td>\n",
       "      <td>30.72</td>\n",
       "    </tr>\n",
       "    <tr>\n",
       "      <th>2010-01-07</th>\n",
       "      <td>59.91</td>\n",
       "      <td>30.75</td>\n",
       "    </tr>\n",
       "    <tr>\n",
       "      <th>2010-01-06</th>\n",
       "      <td>60.00</td>\n",
       "      <td>30.89</td>\n",
       "    </tr>\n",
       "    <tr>\n",
       "      <th>2010-01-05</th>\n",
       "      <td>59.29</td>\n",
       "      <td>30.71</td>\n",
       "    </tr>\n",
       "    <tr>\n",
       "      <th>2010-01-04</th>\n",
       "      <td>58.81</td>\n",
       "      <td>31.08</td>\n",
       "    </tr>\n",
       "  </tbody>\n",
       "</table>\n",
       "<p>3443 rows × 2 columns</p>\n",
       "</div>"
      ],
      "text/plain": [
       "              XLE    XLU\n",
       "datetime                \n",
       "2023-09-07  91.17  62.63\n",
       "2023-09-06  91.26  61.82\n",
       "2023-09-05  91.22  61.68\n",
       "2023-09-01  90.74  62.64\n",
       "2023-08-31  88.92  62.96\n",
       "...           ...    ...\n",
       "2010-01-08  60.30  30.72\n",
       "2010-01-07  59.91  30.75\n",
       "2010-01-06  60.00  30.89\n",
       "2010-01-05  59.29  30.71\n",
       "2010-01-04  58.81  31.08\n",
       "\n",
       "[3443 rows x 2 columns]"
      ]
     },
     "execution_count": 8,
     "metadata": {},
     "output_type": "execute_result"
    }
   ],
   "source": [
    "compose = pd.merge(xle, xlu, on=\"datetime\", how=\"outer\")\n",
    "compose"
   ]
  },
  {
   "cell_type": "code",
   "execution_count": 9,
   "id": "50a5894e-f3a3-49e4-beab-470a777e4447",
   "metadata": {
    "tags": []
   },
   "outputs": [
    {
     "data": {
      "text/plain": [
       "<Axes: xlabel='datetime'>"
      ]
     },
     "execution_count": 9,
     "metadata": {},
     "output_type": "execute_result"
    },
    {
     "data": {
      "image/png": "[encoded data removed]",
      "text/plain": [
       "<Figure size 640x480 with 1 Axes>"
      ]
     },
     "metadata": {},
     "output_type": "display_data"
    }
   ],
   "source": [
    "compose[compose.index.year > 2015].plot()"
   ]
  },
  {
   "cell_type": "code",
   "execution_count": 10,
   "id": "a18415f1-649e-493e-b859-df52ea6cbe5b",
   "metadata": {
    "tags": []
   },
   "outputs": [],
   "source": [
    "from sklearn.model_selection import train_test_split\n",
    "\n",
    "train_dataset, test_dataset = train_test_split(compose.sort_index(), test_size=0.2, shuffle=False)"
   ]
  },
  {
   "cell_type": "code",
   "execution_count": 11,
   "id": "390e231f-b174-4e5a-85af-ae6d9a229401",
   "metadata": {
    "tags": []
   },
   "outputs": [
    {
     "data": {
      "text/html": [
       "<div>\n",
       "<style scoped>\n",
       "    .dataframe tbody tr th:only-of-type {\n",
       "        vertical-align: middle;\n",
       "    }\n",
       "\n",
       "    .dataframe tbody tr th {\n",
       "        vertical-align: top;\n",
       "    }\n",
       "\n",
       "    .dataframe thead th {\n",
       "        text-align: right;\n",
       "    }\n",
       "</style>\n",
       "<table border=\"1\" class=\"dataframe\">\n",
       "  <thead>\n",
       "    <tr style=\"text-align: right;\">\n",
       "      <th></th>\n",
       "      <th>XLE</th>\n",
       "      <th>XLU</th>\n",
       "    </tr>\n",
       "    <tr>\n",
       "      <th>datetime</th>\n",
       "      <th></th>\n",
       "      <th></th>\n",
       "    </tr>\n",
       "  </thead>\n",
       "  <tbody>\n",
       "    <tr>\n",
       "      <th>2010-01-04</th>\n",
       "      <td>58.81</td>\n",
       "      <td>31.08</td>\n",
       "    </tr>\n",
       "    <tr>\n",
       "      <th>2010-01-05</th>\n",
       "      <td>59.29</td>\n",
       "      <td>30.71</td>\n",
       "    </tr>\n",
       "    <tr>\n",
       "      <th>2010-01-06</th>\n",
       "      <td>60.00</td>\n",
       "      <td>30.89</td>\n",
       "    </tr>\n",
       "    <tr>\n",
       "      <th>2010-01-07</th>\n",
       "      <td>59.91</td>\n",
       "      <td>30.75</td>\n",
       "    </tr>\n",
       "    <tr>\n",
       "      <th>2010-01-08</th>\n",
       "      <td>60.30</td>\n",
       "      <td>30.72</td>\n",
       "    </tr>\n",
       "    <tr>\n",
       "      <th>...</th>\n",
       "      <td>...</td>\n",
       "      <td>...</td>\n",
       "    </tr>\n",
       "    <tr>\n",
       "      <th>2020-12-03</th>\n",
       "      <td>38.53</td>\n",
       "      <td>63.04</td>\n",
       "    </tr>\n",
       "    <tr>\n",
       "      <th>2020-12-04</th>\n",
       "      <td>40.63</td>\n",
       "      <td>62.41</td>\n",
       "    </tr>\n",
       "    <tr>\n",
       "      <th>2020-12-07</th>\n",
       "      <td>39.68</td>\n",
       "      <td>62.76</td>\n",
       "    </tr>\n",
       "    <tr>\n",
       "      <th>2020-12-08</th>\n",
       "      <td>40.27</td>\n",
       "      <td>62.57</td>\n",
       "    </tr>\n",
       "    <tr>\n",
       "      <th>2020-12-09</th>\n",
       "      <td>40.36</td>\n",
       "      <td>62.46</td>\n",
       "    </tr>\n",
       "  </tbody>\n",
       "</table>\n",
       "<p>2754 rows × 2 columns</p>\n",
       "</div>"
      ],
      "text/plain": [
       "              XLE    XLU\n",
       "datetime                \n",
       "2010-01-04  58.81  31.08\n",
       "2010-01-05  59.29  30.71\n",
       "2010-01-06  60.00  30.89\n",
       "2010-01-07  59.91  30.75\n",
       "2010-01-08  60.30  30.72\n",
       "...           ...    ...\n",
       "2020-12-03  38.53  63.04\n",
       "2020-12-04  40.63  62.41\n",
       "2020-12-07  39.68  62.76\n",
       "2020-12-08  40.27  62.57\n",
       "2020-12-09  40.36  62.46\n",
       "\n",
       "[2754 rows x 2 columns]"
      ]
     },
     "execution_count": 11,
     "metadata": {},
     "output_type": "execute_result"
    }
   ],
   "source": [
    "train_dataset"
   ]
  },
  {
   "cell_type": "code",
   "execution_count": 12,
   "id": "e606f77b-2a6e-4b11-91f4-5edcd8afdf0f",
   "metadata": {
    "tags": []
   },
   "outputs": [
    {
     "data": {
      "text/html": [
       "<div>\n",
       "<style scoped>\n",
       "    .dataframe tbody tr th:only-of-type {\n",
       "        vertical-align: middle;\n",
       "    }\n",
       "\n",
       "    .dataframe tbody tr th {\n",
       "        vertical-align: top;\n",
       "    }\n",
       "\n",
       "    .dataframe thead th {\n",
       "        text-align: right;\n",
       "    }\n",
       "</style>\n",
       "<table border=\"1\" class=\"dataframe\">\n",
       "  <thead>\n",
       "    <tr style=\"text-align: right;\">\n",
       "      <th></th>\n",
       "      <th>XLE</th>\n",
       "      <th>XLU</th>\n",
       "    </tr>\n",
       "    <tr>\n",
       "      <th>datetime</th>\n",
       "      <th></th>\n",
       "      <th></th>\n",
       "    </tr>\n",
       "  </thead>\n",
       "  <tbody>\n",
       "    <tr>\n",
       "      <th>2020-12-10</th>\n",
       "      <td>41.60</td>\n",
       "      <td>62.14</td>\n",
       "    </tr>\n",
       "    <tr>\n",
       "      <th>2020-12-11</th>\n",
       "      <td>41.12</td>\n",
       "      <td>62.24</td>\n",
       "    </tr>\n",
       "    <tr>\n",
       "      <th>2020-12-14</th>\n",
       "      <td>39.68</td>\n",
       "      <td>61.92</td>\n",
       "    </tr>\n",
       "    <tr>\n",
       "      <th>2020-12-15</th>\n",
       "      <td>40.46</td>\n",
       "      <td>63.14</td>\n",
       "    </tr>\n",
       "    <tr>\n",
       "      <th>2020-12-16</th>\n",
       "      <td>40.26</td>\n",
       "      <td>62.41</td>\n",
       "    </tr>\n",
       "    <tr>\n",
       "      <th>...</th>\n",
       "      <td>...</td>\n",
       "      <td>...</td>\n",
       "    </tr>\n",
       "    <tr>\n",
       "      <th>2023-08-31</th>\n",
       "      <td>88.92</td>\n",
       "      <td>62.96</td>\n",
       "    </tr>\n",
       "    <tr>\n",
       "      <th>2023-09-01</th>\n",
       "      <td>90.74</td>\n",
       "      <td>62.64</td>\n",
       "    </tr>\n",
       "    <tr>\n",
       "      <th>2023-09-05</th>\n",
       "      <td>91.22</td>\n",
       "      <td>61.68</td>\n",
       "    </tr>\n",
       "    <tr>\n",
       "      <th>2023-09-06</th>\n",
       "      <td>91.26</td>\n",
       "      <td>61.82</td>\n",
       "    </tr>\n",
       "    <tr>\n",
       "      <th>2023-09-07</th>\n",
       "      <td>91.17</td>\n",
       "      <td>62.63</td>\n",
       "    </tr>\n",
       "  </tbody>\n",
       "</table>\n",
       "<p>689 rows × 2 columns</p>\n",
       "</div>"
      ],
      "text/plain": [
       "              XLE    XLU\n",
       "datetime                \n",
       "2020-12-10  41.60  62.14\n",
       "2020-12-11  41.12  62.24\n",
       "2020-12-14  39.68  61.92\n",
       "2020-12-15  40.46  63.14\n",
       "2020-12-16  40.26  62.41\n",
       "...           ...    ...\n",
       "2023-08-31  88.92  62.96\n",
       "2023-09-01  90.74  62.64\n",
       "2023-09-05  91.22  61.68\n",
       "2023-09-06  91.26  61.82\n",
       "2023-09-07  91.17  62.63\n",
       "\n",
       "[689 rows x 2 columns]"
      ]
     },
     "execution_count": 12,
     "metadata": {},
     "output_type": "execute_result"
    }
   ],
   "source": [
    "test_dataset"
   ]
  },
  {
   "cell_type": "code",
   "execution_count": 13,
   "id": "7726626d-3927-48f1-9f84-5e5f60da0c71",
   "metadata": {
    "tags": []
   },
   "outputs": [
    {
     "data": {
      "text/plain": [
       "TimeSeriesSplit(gap=0, max_train_size=None, n_splits=5, test_size=None)"
      ]
     },
     "execution_count": 13,
     "metadata": {},
     "output_type": "execute_result"
    }
   ],
   "source": [
    "from sklearn.model_selection import TimeSeriesSplit\n",
    "\n",
    "tscv = TimeSeriesSplit(n_splits=5)\n",
    "tscv"
   ]
  },
  {
   "cell_type": "code",
   "execution_count": 14,
   "id": "1829eae3-b64e-42b9-ac4e-c9a0b7740d42",
   "metadata": {
    "tags": []
   },
   "outputs": [],
   "source": [
    "def zscore(series):\n",
    "    return (series - series.mean()) / series.std()"
   ]
  },
  {
   "cell_type": "code",
   "execution_count": 15,
   "id": "947bc179-3b18-4599-94f9-563a283fead8",
   "metadata": {
    "tags": []
   },
   "outputs": [],
   "source": [
    "import statsmodels.api as sm\n",
    "import statsmodels.tsa.stattools as ts\n",
    "def get_info_fold(train_data):\n",
    "    x = train_data[\"XLU\"]\n",
    "    y = train_data[\"XLE\"]\n",
    "    x = sm.add_constant(x)\n",
    "    results = sm.OLS(y, x).fit()\n",
    "    x = x[\"XLU\"]\n",
    "    b = results.params[\"XLU\"]\n",
    "\n",
    "    spread = y - x * b\n",
    "    result = ts.adfuller(spread)\n",
    "    print('ADF Statistic: %f' % result[0])\n",
    "    \n",
    "    x = spread.shift().dropna()\n",
    "    y = spread - spread.shift()\n",
    "    y = y.dropna()\n",
    "    x = sm.add_constant(x)\n",
    "    results = sm.OLS(y, x).fit()\n",
    "    halflife = -math.log(2) / results.params[0]\n",
    "    print('Halflife: %f' % halflife)"
   ]
  },
  {
   "cell_type": "markdown",
   "id": "d651aedd-2c1e-4e27-a4b7-d2c116c8d79d",
   "metadata": {},
   "source": [
    "## RUN ALL FOLDS"
   ]
  },
  {
   "cell_type": "code",
   "execution_count": 16,
   "id": "1edbd6c8-2eef-4c5b-8eb1-2434e7d2f77f",
   "metadata": {
    "tags": []
   },
   "outputs": [
    {
     "name": "stdout",
     "output_type": "stream",
     "text": [
      "--- FOLD 0 ---\n",
      "ADF Statistic: -1.315051\n",
      "Halflife: 82.551929\n",
      "--- FOLD 1 ---\n",
      "ADF Statistic: -2.375030\n",
      "Halflife: 87.145427\n",
      "--- FOLD 2 ---\n",
      "ADF Statistic: -2.372884\n",
      "Halflife: 118.079188\n",
      "--- FOLD 3 ---\n",
      "ADF Statistic: -1.792318\n",
      "Halflife: 180.562308\n",
      "--- FOLD 4 ---\n",
      "ADF Statistic: -2.238871\n",
      "Halflife: 154.170800\n"
     ]
    }
   ],
   "source": [
    "for i, (train_index, validation_index) in enumerate(tscv.split(train_dataset)):\n",
    "    train_data, validation_data = train_dataset.iloc[train_index], train_dataset.iloc[validation_index]\n",
    "    print(f'--- FOLD {i} ---')\n",
    "    get_info_fold(train_data)"
   ]
  },
  {
   "cell_type": "markdown",
   "id": "ae87f520-cf7c-45a0-a94f-b4fe06ea155b",
   "metadata": {},
   "source": [
    "## RUN for each fold"
   ]
  },
  {
   "cell_type": "code",
   "execution_count": 17,
   "id": "11f54c4e-be74-474f-8ee2-a2b4c4acd12f",
   "metadata": {
    "tags": []
   },
   "outputs": [],
   "source": [
    "last_fold =  list(tscv.split(train_dataset))[-1]\n",
    "(train_index, validation_index) = last_fold\n",
    "train_data, validation_data = train_dataset.iloc[train_index], train_dataset.iloc[validation_index]"
   ]
  },
  {
   "cell_type": "markdown",
   "id": "78c2fd5e-a007-4f1b-a364-eb6b80381160",
   "metadata": {},
   "source": [
    "# Augmented Dickey-Fuller (ADF) test"
   ]
  },
  {
   "cell_type": "code",
   "execution_count": 18,
   "id": "d2126b3a-7041-448b-bab5-bb90ff90dcf0",
   "metadata": {
    "tags": []
   },
   "outputs": [
    {
     "data": {
      "image/png": "[encoded data removed]",
      "text/plain": [
       "<Figure size 640x480 with 1 Axes>"
      ]
     },
     "metadata": {},
     "output_type": "display_data"
    }
   ],
   "source": [
    "import statsmodels.api as sm\n",
    "\n",
    "x = train_data[\"XLU\"]\n",
    "y = train_data[\"XLE\"]\n",
    "x = sm.add_constant(x)\n",
    "results = sm.OLS(y, x).fit()\n",
    "x = x[\"XLU\"]\n",
    "b = results.params[\"XLU\"]\n",
    "\n",
    "spread = y - x * b\n",
    "spread.plot()\n",
    "plt.axhline(spread.mean(), color=\"black\")\n",
    "plt.legend([\"Spread\"]);"
   ]
  },
  {
   "cell_type": "code",
   "execution_count": 19,
   "id": "2e28aa04-fe9e-44d1-bb9c-0d830b3b1a1f",
   "metadata": {
    "tags": []
   },
   "outputs": [
    {
     "data": {
      "image/png": "[encoded data removed]",
      "text/plain": [
       "<Figure size 640x480 with 1 Axes>"
      ]
     },
     "metadata": {},
     "output_type": "display_data"
    }
   ],
   "source": [
    "zscore_spread = zscore(spread)\n",
    "zscore_spread.plot()\n",
    "plt.axhline(zscore_spread.mean(), color=\"black\")\n",
    "plt.axhline(1.0, color=\"red\", linestyle=\"--\")\n",
    "plt.axhline(-1.0, color=\"green\", linestyle=\"--\")\n",
    "plt.legend([\"Spread z-score\", \"Mean\", \"+1\", \"-1\"]);"
   ]
  },
  {
   "cell_type": "code",
   "execution_count": 20,
   "id": "2ab7bd15-7a84-41ca-a8d5-e5fee11667b3",
   "metadata": {
    "tags": []
   },
   "outputs": [
    {
     "name": "stdout",
     "output_type": "stream",
     "text": [
      "ADF Statistic: -2.238871\n",
      "p-value: 0.192441\n",
      "Critical Values:\n",
      "\t1%: -3.433\n",
      "\t5%: -2.863\n",
      "\t10%: -2.567\n"
     ]
    }
   ],
   "source": [
    "import statsmodels.tsa.stattools as ts\n",
    "\n",
    "result = ts.adfuller(spread)\n",
    "print('ADF Statistic: %f' % result[0])\n",
    "print('p-value: %f' % result[1])\n",
    "print('Critical Values:')\n",
    "for key, value in result[4].items():\n",
    "    print('\\t%s: %.3f' % (key, value))"
   ]
  },
  {
   "cell_type": "code",
   "execution_count": 21,
   "id": "f4338aaf-8bec-4b65-a4c5-cfd61e552c56",
   "metadata": {
    "tags": []
   },
   "outputs": [
    {
     "data": {
      "text/plain": [
       "datetime\n",
       "2010-01-04    55.284240\n",
       "2010-01-05    55.806213\n",
       "2010-01-06    56.495794\n",
       "2010-01-07    56.421676\n",
       "2010-01-08    56.815079\n",
       "                ...    \n",
       "2019-02-08    56.623580\n",
       "2019-02-11    56.925849\n",
       "2019-02-12    57.711102\n",
       "2019-02-13    58.529252\n",
       "2019-02-14    58.769462\n",
       "Length: 2295, dtype: float64"
      ]
     },
     "execution_count": 21,
     "metadata": {},
     "output_type": "execute_result"
    }
   ],
   "source": [
    "spread"
   ]
  },
  {
   "cell_type": "code",
   "execution_count": 22,
   "id": "d095d5c0-4163-4a4d-b9a3-47fd64e09d85",
   "metadata": {
    "tags": []
   },
   "outputs": [
    {
     "data": {
      "text/plain": [
       "datetime\n",
       "2010-01-05    55.284240\n",
       "2010-01-06    55.806213\n",
       "2010-01-07    56.495794\n",
       "2010-01-08    56.421676\n",
       "2010-01-11    56.815079\n",
       "                ...    \n",
       "2019-02-08    56.940806\n",
       "2019-02-11    56.623580\n",
       "2019-02-12    56.925849\n",
       "2019-02-13    57.711102\n",
       "2019-02-14    58.529252\n",
       "Length: 2294, dtype: float64"
      ]
     },
     "execution_count": 22,
     "metadata": {},
     "output_type": "execute_result"
    }
   ],
   "source": [
    "spread.shift().dropna()"
   ]
  },
  {
   "cell_type": "code",
   "execution_count": 23,
   "id": "a41d9e31-2456-4eb5-a83a-b3a01e693d10",
   "metadata": {
    "tags": []
   },
   "outputs": [],
   "source": [
    "x = spread.shift().dropna()\n",
    "y = spread - spread.shift()\n",
    "y = y.dropna()\n",
    "x = sm.add_constant(x)\n",
    "results = sm.OLS(y, x).fit()"
   ]
  },
  {
   "cell_type": "code",
   "execution_count": 24,
   "id": "655f07ef-b39e-4224-9fdc-02812a7c4d22",
   "metadata": {
    "tags": []
   },
   "outputs": [
    {
     "data": {
      "text/plain": [
       "154.17080036255157"
      ]
     },
     "execution_count": 24,
     "metadata": {},
     "output_type": "execute_result"
    }
   ],
   "source": [
    "halflife = -math.log(2) / results.params[0]\n",
    "halflife"
   ]
  },
  {
   "cell_type": "code",
   "execution_count": 79,
   "id": "f3e92ae3-f6f7-41b8-866b-db682da412ab",
   "metadata": {
    "tags": []
   },
   "outputs": [],
   "source": [
    "price = validation_data"
   ]
  },
  {
   "cell_type": "code",
   "execution_count": 80,
   "id": "cc9d484f-4c58-4487-aa56-46c3003b64b5",
   "metadata": {
    "tags": []
   },
   "outputs": [
    {
     "data": {
      "text/html": [
       "<div>\n",
       "<style scoped>\n",
       "    .dataframe tbody tr th:only-of-type {\n",
       "        vertical-align: middle;\n",
       "    }\n",
       "\n",
       "    .dataframe tbody tr th {\n",
       "        vertical-align: top;\n",
       "    }\n",
       "\n",
       "    .dataframe thead th {\n",
       "        text-align: right;\n",
       "    }\n",
       "</style>\n",
       "<table border=\"1\" class=\"dataframe\">\n",
       "  <thead>\n",
       "    <tr style=\"text-align: right;\">\n",
       "      <th></th>\n",
       "      <th>XLE</th>\n",
       "      <th>XLU</th>\n",
       "    </tr>\n",
       "    <tr>\n",
       "      <th>datetime</th>\n",
       "      <th></th>\n",
       "      <th></th>\n",
       "    </tr>\n",
       "  </thead>\n",
       "  <tbody>\n",
       "    <tr>\n",
       "      <th>2019-02-15</th>\n",
       "      <td>66.12</td>\n",
       "      <td>55.71</td>\n",
       "    </tr>\n",
       "    <tr>\n",
       "      <th>2019-02-19</th>\n",
       "      <td>66.32</td>\n",
       "      <td>56.04</td>\n",
       "    </tr>\n",
       "    <tr>\n",
       "      <th>2019-02-20</th>\n",
       "      <td>66.60</td>\n",
       "      <td>56.29</td>\n",
       "    </tr>\n",
       "    <tr>\n",
       "      <th>2019-02-21</th>\n",
       "      <td>65.57</td>\n",
       "      <td>56.70</td>\n",
       "    </tr>\n",
       "    <tr>\n",
       "      <th>2019-02-22</th>\n",
       "      <td>65.76</td>\n",
       "      <td>57.05</td>\n",
       "    </tr>\n",
       "    <tr>\n",
       "      <th>...</th>\n",
       "      <td>...</td>\n",
       "      <td>...</td>\n",
       "    </tr>\n",
       "    <tr>\n",
       "      <th>2020-12-03</th>\n",
       "      <td>38.53</td>\n",
       "      <td>63.04</td>\n",
       "    </tr>\n",
       "    <tr>\n",
       "      <th>2020-12-04</th>\n",
       "      <td>40.63</td>\n",
       "      <td>62.41</td>\n",
       "    </tr>\n",
       "    <tr>\n",
       "      <th>2020-12-07</th>\n",
       "      <td>39.68</td>\n",
       "      <td>62.76</td>\n",
       "    </tr>\n",
       "    <tr>\n",
       "      <th>2020-12-08</th>\n",
       "      <td>40.27</td>\n",
       "      <td>62.57</td>\n",
       "    </tr>\n",
       "    <tr>\n",
       "      <th>2020-12-09</th>\n",
       "      <td>40.36</td>\n",
       "      <td>62.46</td>\n",
       "    </tr>\n",
       "  </tbody>\n",
       "</table>\n",
       "<p>459 rows × 2 columns</p>\n",
       "</div>"
      ],
      "text/plain": [
       "              XLE    XLU\n",
       "datetime                \n",
       "2019-02-15  66.12  55.71\n",
       "2019-02-19  66.32  56.04\n",
       "2019-02-20  66.60  56.29\n",
       "2019-02-21  65.57  56.70\n",
       "2019-02-22  65.76  57.05\n",
       "...           ...    ...\n",
       "2020-12-03  38.53  63.04\n",
       "2020-12-04  40.63  62.41\n",
       "2020-12-07  39.68  62.76\n",
       "2020-12-08  40.27  62.57\n",
       "2020-12-09  40.36  62.46\n",
       "\n",
       "[459 rows x 2 columns]"
      ]
     },
     "execution_count": 80,
     "metadata": {},
     "output_type": "execute_result"
    }
   ],
   "source": [
    "price"
   ]
  },
  {
   "cell_type": "code",
   "execution_count": 81,
   "id": "deeb5f00-f1f1-484f-88d8-e5ef634a1c59",
   "metadata": {
    "tags": []
   },
   "outputs": [
    {
     "data": {
      "text/html": [
       "<div>\n",
       "<style scoped>\n",
       "    .dataframe tbody tr th:only-of-type {\n",
       "        vertical-align: middle;\n",
       "    }\n",
       "\n",
       "    .dataframe tbody tr th {\n",
       "        vertical-align: top;\n",
       "    }\n",
       "\n",
       "    .dataframe thead th {\n",
       "        text-align: right;\n",
       "    }\n",
       "</style>\n",
       "<table border=\"1\" class=\"dataframe\">\n",
       "  <thead>\n",
       "    <tr style=\"text-align: right;\">\n",
       "      <th></th>\n",
       "      <th>XLE</th>\n",
       "      <th>XLU</th>\n",
       "    </tr>\n",
       "    <tr>\n",
       "      <th>datetime</th>\n",
       "      <th></th>\n",
       "      <th></th>\n",
       "    </tr>\n",
       "  </thead>\n",
       "  <tbody>\n",
       "    <tr>\n",
       "      <th>2019-02-15</th>\n",
       "      <td>1</td>\n",
       "      <td>-0.04026</td>\n",
       "    </tr>\n",
       "    <tr>\n",
       "      <th>2019-02-19</th>\n",
       "      <td>1</td>\n",
       "      <td>-0.04026</td>\n",
       "    </tr>\n",
       "    <tr>\n",
       "      <th>2019-02-20</th>\n",
       "      <td>1</td>\n",
       "      <td>-0.04026</td>\n",
       "    </tr>\n",
       "    <tr>\n",
       "      <th>2019-02-21</th>\n",
       "      <td>1</td>\n",
       "      <td>-0.04026</td>\n",
       "    </tr>\n",
       "    <tr>\n",
       "      <th>2019-02-22</th>\n",
       "      <td>1</td>\n",
       "      <td>-0.04026</td>\n",
       "    </tr>\n",
       "    <tr>\n",
       "      <th>...</th>\n",
       "      <td>...</td>\n",
       "      <td>...</td>\n",
       "    </tr>\n",
       "    <tr>\n",
       "      <th>2020-12-03</th>\n",
       "      <td>1</td>\n",
       "      <td>-0.04026</td>\n",
       "    </tr>\n",
       "    <tr>\n",
       "      <th>2020-12-04</th>\n",
       "      <td>1</td>\n",
       "      <td>-0.04026</td>\n",
       "    </tr>\n",
       "    <tr>\n",
       "      <th>2020-12-07</th>\n",
       "      <td>1</td>\n",
       "      <td>-0.04026</td>\n",
       "    </tr>\n",
       "    <tr>\n",
       "      <th>2020-12-08</th>\n",
       "      <td>1</td>\n",
       "      <td>-0.04026</td>\n",
       "    </tr>\n",
       "    <tr>\n",
       "      <th>2020-12-09</th>\n",
       "      <td>1</td>\n",
       "      <td>-0.04026</td>\n",
       "    </tr>\n",
       "  </tbody>\n",
       "</table>\n",
       "<p>459 rows × 2 columns</p>\n",
       "</div>"
      ],
      "text/plain": [
       "            XLE      XLU\n",
       "datetime                \n",
       "2019-02-15    1 -0.04026\n",
       "2019-02-19    1 -0.04026\n",
       "2019-02-20    1 -0.04026\n",
       "2019-02-21    1 -0.04026\n",
       "2019-02-22    1 -0.04026\n",
       "...         ...      ...\n",
       "2020-12-03    1 -0.04026\n",
       "2020-12-04    1 -0.04026\n",
       "2020-12-07    1 -0.04026\n",
       "2020-12-08    1 -0.04026\n",
       "2020-12-09    1 -0.04026\n",
       "\n",
       "[459 rows x 2 columns]"
      ]
     },
     "execution_count": 81,
     "metadata": {},
     "output_type": "execute_result"
    }
   ],
   "source": [
    "weights = pd.DataFrame({\n",
    "    \"XLE\": [1] * len(price),\n",
    "    \"XLU\": [-b] * len(price)\n",
    "}, index=price.index)\n",
    "weights"
   ]
  },
  {
   "cell_type": "code",
   "execution_count": 82,
   "id": "251af2d8-649c-454e-b337-76f65f4d4577",
   "metadata": {
    "tags": []
   },
   "outputs": [
    {
     "data": {
      "text/plain": [
       "datetime\n",
       "2019-02-15    63.877107\n",
       "2019-02-19    64.063821\n",
       "2019-02-20    64.333756\n",
       "2019-02-21    63.287250\n",
       "2019-02-22    63.463159\n",
       "                ...    \n",
       "2020-12-03    35.992000\n",
       "2020-12-04    38.117364\n",
       "2020-12-07    37.153273\n",
       "2020-12-08    37.750923\n",
       "2020-12-09    37.845351\n",
       "Length: 459, dtype: float64"
      ]
     },
     "execution_count": 82,
     "metadata": {},
     "output_type": "execute_result"
    }
   ],
   "source": [
    "spread = (price * weights).sum(axis=1)\n",
    "spread"
   ]
  },
  {
   "cell_type": "code",
   "execution_count": 83,
   "id": "9aecb406-8128-4fc6-8fb6-22452303470b",
   "metadata": {
    "tags": []
   },
   "outputs": [
    {
     "data": {
      "text/plain": [
       "141"
      ]
     },
     "execution_count": 83,
     "metadata": {},
     "output_type": "execute_result"
    }
   ],
   "source": [
    "lookback = round(halflife)\n",
    "lookback"
   ]
  },
  {
   "cell_type": "code",
   "execution_count": 84,
   "id": "3ce18690-1537-48b4-b943-ca8d9b1b853b",
   "metadata": {
    "tags": []
   },
   "outputs": [
    {
     "data": {
      "text/plain": [
       "datetime\n",
       "2019-02-15         NaN\n",
       "2019-02-19         NaN\n",
       "2019-02-20         NaN\n",
       "2019-02-21         NaN\n",
       "2019-02-22         NaN\n",
       "                ...   \n",
       "2020-12-03   -0.743502\n",
       "2020-12-04   -1.266463\n",
       "2020-12-07   -1.021977\n",
       "2020-12-08   -1.164321\n",
       "2020-12-09   -1.184846\n",
       "Length: 459, dtype: float64"
      ]
     },
     "execution_count": 84,
     "metadata": {},
     "output_type": "execute_result"
    }
   ],
   "source": [
    "num_units = -(spread - spread.rolling(lookback).mean()) / (spread.rolling(lookback).std())\n",
    "num_units"
   ]
  },
  {
   "cell_type": "code",
   "execution_count": 31,
   "id": "88c8310a-4fc9-491f-8d93-9588e5adbf5b",
   "metadata": {
    "tags": []
   },
   "outputs": [
    {
     "data": {
      "text/plain": [
       "count    2142.000000\n",
       "mean       -0.211652\n",
       "std         1.425588\n",
       "min        -3.470163\n",
       "25%        -1.284161\n",
       "50%        -0.453529\n",
       "75%         0.875079\n",
       "max         3.698457\n",
       "dtype: float64"
      ]
     },
     "execution_count": 31,
     "metadata": {},
     "output_type": "execute_result"
    }
   ],
   "source": [
    "num_units.describe()"
   ]
  },
  {
   "cell_type": "code",
   "execution_count": 32,
   "id": "6fab5d30-1f73-4e79-aef9-0a56070261c9",
   "metadata": {
    "tags": []
   },
   "outputs": [
    {
     "data": {
      "text/plain": [
       "<Axes: xlabel='datetime'>"
      ]
     },
     "execution_count": 32,
     "metadata": {},
     "output_type": "execute_result"
    },
    {
     "data": {
      "image/png": "[encoded data removed]",
      "text/plain": [
       "<Figure size 640x480 with 1 Axes>"
      ]
     },
     "metadata": {},
     "output_type": "display_data"
    }
   ],
   "source": [
    "num_units.plot()"
   ]
  },
  {
   "cell_type": "code",
   "execution_count": 33,
   "id": "004cc061-cd52-408d-a7d5-0e5021bed957",
   "metadata": {
    "tags": []
   },
   "outputs": [
    {
     "data": {
      "text/html": [
       "<div>\n",
       "<style scoped>\n",
       "    .dataframe tbody tr th:only-of-type {\n",
       "        vertical-align: middle;\n",
       "    }\n",
       "\n",
       "    .dataframe tbody tr th {\n",
       "        vertical-align: top;\n",
       "    }\n",
       "\n",
       "    .dataframe thead th {\n",
       "        text-align: right;\n",
       "    }\n",
       "</style>\n",
       "<table border=\"1\" class=\"dataframe\">\n",
       "  <thead>\n",
       "    <tr style=\"text-align: right;\">\n",
       "      <th></th>\n",
       "      <th>XLE</th>\n",
       "      <th>XLU</th>\n",
       "    </tr>\n",
       "    <tr>\n",
       "      <th>datetime</th>\n",
       "      <th></th>\n",
       "      <th></th>\n",
       "    </tr>\n",
       "  </thead>\n",
       "  <tbody>\n",
       "    <tr>\n",
       "      <th>2010-01-04</th>\n",
       "      <td>NaN</td>\n",
       "      <td>NaN</td>\n",
       "    </tr>\n",
       "    <tr>\n",
       "      <th>2010-01-05</th>\n",
       "      <td>NaN</td>\n",
       "      <td>NaN</td>\n",
       "    </tr>\n",
       "    <tr>\n",
       "      <th>2010-01-06</th>\n",
       "      <td>NaN</td>\n",
       "      <td>NaN</td>\n",
       "    </tr>\n",
       "    <tr>\n",
       "      <th>2010-01-07</th>\n",
       "      <td>NaN</td>\n",
       "      <td>NaN</td>\n",
       "    </tr>\n",
       "    <tr>\n",
       "      <th>2010-01-08</th>\n",
       "      <td>NaN</td>\n",
       "      <td>NaN</td>\n",
       "    </tr>\n",
       "    <tr>\n",
       "      <th>...</th>\n",
       "      <td>...</td>\n",
       "      <td>...</td>\n",
       "    </tr>\n",
       "    <tr>\n",
       "      <th>2019-02-08</th>\n",
       "      <td>67.479091</td>\n",
       "      <td>-6.771946</td>\n",
       "    </tr>\n",
       "    <tr>\n",
       "      <th>2019-02-11</th>\n",
       "      <td>63.937212</td>\n",
       "      <td>-6.383764</td>\n",
       "    </tr>\n",
       "    <tr>\n",
       "      <th>2019-02-12</th>\n",
       "      <td>56.042019</td>\n",
       "      <td>-5.538480</td>\n",
       "    </tr>\n",
       "    <tr>\n",
       "      <th>2019-02-13</th>\n",
       "      <td>47.674431</td>\n",
       "      <td>-4.640057</td>\n",
       "    </tr>\n",
       "    <tr>\n",
       "      <th>2019-02-14</th>\n",
       "      <td>44.728549</td>\n",
       "      <td>-4.330935</td>\n",
       "    </tr>\n",
       "  </tbody>\n",
       "</table>\n",
       "<p>2295 rows × 2 columns</p>\n",
       "</div>"
      ],
      "text/plain": [
       "                  XLE       XLU\n",
       "datetime                       \n",
       "2010-01-04        NaN       NaN\n",
       "2010-01-05        NaN       NaN\n",
       "2010-01-06        NaN       NaN\n",
       "2010-01-07        NaN       NaN\n",
       "2010-01-08        NaN       NaN\n",
       "...               ...       ...\n",
       "2019-02-08  67.479091 -6.771946\n",
       "2019-02-11  63.937212 -6.383764\n",
       "2019-02-12  56.042019 -5.538480\n",
       "2019-02-13  47.674431 -4.640057\n",
       "2019-02-14  44.728549 -4.330935\n",
       "\n",
       "[2295 rows x 2 columns]"
      ]
     },
     "execution_count": 33,
     "metadata": {},
     "output_type": "execute_result"
    }
   ],
   "source": [
    "positions = weights.mul(num_units, axis=0) * price\n",
    "positions"
   ]
  },
  {
   "cell_type": "code",
   "execution_count": 34,
   "id": "d01b4527-05af-46ed-88c6-7be99e9b97e0",
   "metadata": {
    "tags": []
   },
   "outputs": [
    {
     "data": {
      "text/plain": [
       "<Axes: xlabel='datetime'>"
      ]
     },
     "execution_count": 34,
     "metadata": {},
     "output_type": "execute_result"
    },
    {
     "data": {
      "image/png": "[encoded data removed]",
      "text/plain": [
       "<Figure size 640x480 with 1 Axes>"
      ]
     },
     "metadata": {},
     "output_type": "display_data"
    }
   ],
   "source": [
    "positions.sum(axis=1).abs().plot()"
   ]
  },
  {
   "cell_type": "code",
   "execution_count": 35,
   "id": "8485989d-3383-4fa1-9618-191feacdbd76",
   "metadata": {
    "tags": []
   },
   "outputs": [],
   "source": [
    "pnl = positions.shift(1) * (price - price.shift(1)) / price.shift(1)\n",
    "pnl = pnl.sum(axis=1)"
   ]
  },
  {
   "cell_type": "code",
   "execution_count": 36,
   "id": "4d00573a-58f1-4fc0-9501-8e14235e1221",
   "metadata": {
    "tags": []
   },
   "outputs": [
    {
     "data": {
      "text/plain": [
       "count    2295.000000\n",
       "mean       -0.004476\n",
       "std         1.456732\n",
       "min       -11.740450\n",
       "25%        -0.461102\n",
       "50%         0.000000\n",
       "75%         0.406479\n",
       "max        11.300673\n",
       "dtype: float64"
      ]
     },
     "execution_count": 36,
     "metadata": {},
     "output_type": "execute_result"
    }
   ],
   "source": [
    "pnl.describe()"
   ]
  },
  {
   "cell_type": "code",
   "execution_count": 37,
   "id": "5b6602df-7b1e-4497-9d53-a804c3a3ac3b",
   "metadata": {
    "tags": []
   },
   "outputs": [
    {
     "data": {
      "text/plain": [
       "datetime\n",
       "2010-01-04         NaN\n",
       "2010-01-05         NaN\n",
       "2010-01-06         NaN\n",
       "2010-01-07         NaN\n",
       "2010-01-08         NaN\n",
       "                ...   \n",
       "2019-02-08   -0.005571\n",
       "2019-02-11    0.005338\n",
       "2019-02-12    0.013794\n",
       "2019-02-13    0.014177\n",
       "2019-02-14    0.004104\n",
       "Length: 2295, dtype: float64"
      ]
     },
     "execution_count": 37,
     "metadata": {},
     "output_type": "execute_result"
    }
   ],
   "source": [
    "ret = pnl / positions.shift(1).sum(axis=1).abs()\n",
    "ret"
   ]
  },
  {
   "cell_type": "code",
   "execution_count": 38,
   "id": "2248f0c6-18b8-46d7-acec-fcb64906abb1",
   "metadata": {
    "tags": []
   },
   "outputs": [
    {
     "data": {
      "text/plain": [
       "count    2141.000000\n",
       "mean       -0.000009\n",
       "std         0.014390\n",
       "min        -0.086859\n",
       "25%        -0.007767\n",
       "50%        -0.000141\n",
       "75%         0.007269\n",
       "max         0.068150\n",
       "dtype: float64"
      ]
     },
     "execution_count": 38,
     "metadata": {},
     "output_type": "execute_result"
    }
   ],
   "source": [
    "ret.describe()"
   ]
  },
  {
   "cell_type": "code",
   "execution_count": 39,
   "id": "98cb0843-fef8-4fa5-bdf1-1f54fab0bd8e",
   "metadata": {
    "tags": []
   },
   "outputs": [
    {
     "data": {
      "text/plain": [
       "<Axes: xlabel='datetime'>"
      ]
     },
     "execution_count": 39,
     "metadata": {},
     "output_type": "execute_result"
    },
    {
     "data": {
      "image/png": "[encoded data removed]",
      "text/plain": [
       "<Figure size 640x480 with 1 Axes>"
      ]
     },
     "metadata": {},
     "output_type": "display_data"
    }
   ],
   "source": [
    "ret.cumsum().plot()"
   ]
  },
  {
   "cell_type": "code",
   "execution_count": 40,
   "id": "011d0654-4918-47a0-b15d-0d5afcb50b93",
   "metadata": {
    "tags": []
   },
   "outputs": [
    {
     "data": {
      "text/plain": [
       "-0.009420781186506523"
      ]
     },
     "execution_count": 40,
     "metadata": {},
     "output_type": "execute_result"
    }
   ],
   "source": [
    "sharp_ratio = math.sqrt(252)*ret.mean()/ret.std()\n",
    "sharp_ratio"
   ]
  },
  {
   "cell_type": "code",
   "execution_count": 41,
   "id": "4fd53afd-096b-405a-9617-481561c77d07",
   "metadata": {
    "tags": []
   },
   "outputs": [
    {
     "data": {
      "text/html": [
       "<div>\n",
       "<style scoped>\n",
       "    .dataframe tbody tr th:only-of-type {\n",
       "        vertical-align: middle;\n",
       "    }\n",
       "\n",
       "    .dataframe tbody tr th {\n",
       "        vertical-align: top;\n",
       "    }\n",
       "\n",
       "    .dataframe thead th {\n",
       "        text-align: right;\n",
       "    }\n",
       "</style>\n",
       "<table border=\"1\" class=\"dataframe\">\n",
       "  <thead>\n",
       "    <tr style=\"text-align: right;\">\n",
       "      <th></th>\n",
       "      <th>ret</th>\n",
       "      <th>lagged_ret</th>\n",
       "      <th>high_watermark_index</th>\n",
       "    </tr>\n",
       "    <tr>\n",
       "      <th>datetime</th>\n",
       "      <th></th>\n",
       "      <th></th>\n",
       "      <th></th>\n",
       "    </tr>\n",
       "  </thead>\n",
       "  <tbody>\n",
       "    <tr>\n",
       "      <th>2010-08-13</th>\n",
       "      <td>-0.002051</td>\n",
       "      <td>0.000000</td>\n",
       "      <td>2010-08-13</td>\n",
       "    </tr>\n",
       "    <tr>\n",
       "      <th>2010-08-16</th>\n",
       "      <td>-0.002251</td>\n",
       "      <td>-0.002051</td>\n",
       "      <td>2010-08-16</td>\n",
       "    </tr>\n",
       "    <tr>\n",
       "      <th>2010-08-17</th>\n",
       "      <td>0.014917</td>\n",
       "      <td>-0.002251</td>\n",
       "      <td>2010-08-17</td>\n",
       "    </tr>\n",
       "    <tr>\n",
       "      <th>2010-08-18</th>\n",
       "      <td>0.005044</td>\n",
       "      <td>0.014917</td>\n",
       "      <td>2010-08-18</td>\n",
       "    </tr>\n",
       "    <tr>\n",
       "      <th>2010-08-19</th>\n",
       "      <td>-0.011289</td>\n",
       "      <td>0.005044</td>\n",
       "      <td>2010-08-19</td>\n",
       "    </tr>\n",
       "    <tr>\n",
       "      <th>...</th>\n",
       "      <td>...</td>\n",
       "      <td>...</td>\n",
       "      <td>...</td>\n",
       "    </tr>\n",
       "    <tr>\n",
       "      <th>2019-02-08</th>\n",
       "      <td>-0.055697</td>\n",
       "      <td>-0.050126</td>\n",
       "      <td>2019-02-08</td>\n",
       "    </tr>\n",
       "    <tr>\n",
       "      <th>2019-02-11</th>\n",
       "      <td>-0.050359</td>\n",
       "      <td>-0.055697</td>\n",
       "      <td>2019-02-11</td>\n",
       "    </tr>\n",
       "    <tr>\n",
       "      <th>2019-02-12</th>\n",
       "      <td>-0.036565</td>\n",
       "      <td>-0.050359</td>\n",
       "      <td>2019-02-12</td>\n",
       "    </tr>\n",
       "    <tr>\n",
       "      <th>2019-02-13</th>\n",
       "      <td>-0.022388</td>\n",
       "      <td>-0.036565</td>\n",
       "      <td>2019-02-13</td>\n",
       "    </tr>\n",
       "    <tr>\n",
       "      <th>2019-02-14</th>\n",
       "      <td>-0.018284</td>\n",
       "      <td>-0.022388</td>\n",
       "      <td>2019-02-14</td>\n",
       "    </tr>\n",
       "  </tbody>\n",
       "</table>\n",
       "<p>2141 rows × 3 columns</p>\n",
       "</div>"
      ],
      "text/plain": [
       "                 ret  lagged_ret high_watermark_index\n",
       "datetime                                             \n",
       "2010-08-13 -0.002051    0.000000           2010-08-13\n",
       "2010-08-16 -0.002251   -0.002051           2010-08-16\n",
       "2010-08-17  0.014917   -0.002251           2010-08-17\n",
       "2010-08-18  0.005044    0.014917           2010-08-18\n",
       "2010-08-19 -0.011289    0.005044           2010-08-19\n",
       "...              ...         ...                  ...\n",
       "2019-02-08 -0.055697   -0.050126           2019-02-08\n",
       "2019-02-11 -0.050359   -0.055697           2019-02-11\n",
       "2019-02-12 -0.036565   -0.050359           2019-02-12\n",
       "2019-02-13 -0.022388   -0.036565           2019-02-13\n",
       "2019-02-14 -0.018284   -0.022388           2019-02-14\n",
       "\n",
       "[2141 rows x 3 columns]"
      ]
     },
     "execution_count": 41,
     "metadata": {},
     "output_type": "execute_result"
    }
   ],
   "source": [
    "term = pd.DataFrame({\n",
    "    \"ret\": ret.cumsum().dropna(),\n",
    "    'lagged_ret': ret.cumsum().dropna().shift(1),\n",
    "    'high_watermark_index': ret.cumsum().dropna().index\n",
    "})\n",
    "term['lagged_ret'] = term['lagged_ret'].fillna(0)\n",
    "term"
   ]
  },
  {
   "cell_type": "code",
   "execution_count": 42,
   "id": "1f127290-ee83-45f8-a36b-56e0770be68e",
   "metadata": {
    "tags": []
   },
   "outputs": [],
   "source": [
    "highest_watermark_index = term.iloc[0]['high_watermark_index']\n",
    "for d in term.index:\n",
    "    row = term.loc[d]\n",
    "    if row['ret'] >= term.loc[highest_watermark_index]['ret']:\n",
    "        highest_watermark_index = d\n",
    "    term.loc[d, 'high_watermark_index']= highest_watermark_index"
   ]
  },
  {
   "cell_type": "code",
   "execution_count": 43,
   "id": "d158de7e-7112-4370-be3f-92fdfd83d201",
   "metadata": {
    "tags": []
   },
   "outputs": [
    {
     "data": {
      "text/html": [
       "<div>\n",
       "<style scoped>\n",
       "    .dataframe tbody tr th:only-of-type {\n",
       "        vertical-align: middle;\n",
       "    }\n",
       "\n",
       "    .dataframe tbody tr th {\n",
       "        vertical-align: top;\n",
       "    }\n",
       "\n",
       "    .dataframe thead th {\n",
       "        text-align: right;\n",
       "    }\n",
       "</style>\n",
       "<table border=\"1\" class=\"dataframe\">\n",
       "  <thead>\n",
       "    <tr style=\"text-align: right;\">\n",
       "      <th></th>\n",
       "      <th>ret</th>\n",
       "      <th>lagged_ret</th>\n",
       "      <th>high_watermark_index</th>\n",
       "    </tr>\n",
       "    <tr>\n",
       "      <th>datetime</th>\n",
       "      <th></th>\n",
       "      <th></th>\n",
       "      <th></th>\n",
       "    </tr>\n",
       "  </thead>\n",
       "  <tbody>\n",
       "    <tr>\n",
       "      <th>2010-08-13</th>\n",
       "      <td>-0.002051</td>\n",
       "      <td>0.000000</td>\n",
       "      <td>2010-08-13</td>\n",
       "    </tr>\n",
       "    <tr>\n",
       "      <th>2010-08-16</th>\n",
       "      <td>-0.002251</td>\n",
       "      <td>-0.002051</td>\n",
       "      <td>2010-08-13</td>\n",
       "    </tr>\n",
       "    <tr>\n",
       "      <th>2010-08-17</th>\n",
       "      <td>0.014917</td>\n",
       "      <td>-0.002251</td>\n",
       "      <td>2010-08-17</td>\n",
       "    </tr>\n",
       "    <tr>\n",
       "      <th>2010-08-18</th>\n",
       "      <td>0.005044</td>\n",
       "      <td>0.014917</td>\n",
       "      <td>2010-08-17</td>\n",
       "    </tr>\n",
       "    <tr>\n",
       "      <th>2010-08-19</th>\n",
       "      <td>-0.011289</td>\n",
       "      <td>0.005044</td>\n",
       "      <td>2010-08-17</td>\n",
       "    </tr>\n",
       "    <tr>\n",
       "      <th>...</th>\n",
       "      <td>...</td>\n",
       "      <td>...</td>\n",
       "      <td>...</td>\n",
       "    </tr>\n",
       "    <tr>\n",
       "      <th>2019-02-08</th>\n",
       "      <td>-0.055697</td>\n",
       "      <td>-0.050126</td>\n",
       "      <td>2012-12-28</td>\n",
       "    </tr>\n",
       "    <tr>\n",
       "      <th>2019-02-11</th>\n",
       "      <td>-0.050359</td>\n",
       "      <td>-0.055697</td>\n",
       "      <td>2012-12-28</td>\n",
       "    </tr>\n",
       "    <tr>\n",
       "      <th>2019-02-12</th>\n",
       "      <td>-0.036565</td>\n",
       "      <td>-0.050359</td>\n",
       "      <td>2012-12-28</td>\n",
       "    </tr>\n",
       "    <tr>\n",
       "      <th>2019-02-13</th>\n",
       "      <td>-0.022388</td>\n",
       "      <td>-0.036565</td>\n",
       "      <td>2012-12-28</td>\n",
       "    </tr>\n",
       "    <tr>\n",
       "      <th>2019-02-14</th>\n",
       "      <td>-0.018284</td>\n",
       "      <td>-0.022388</td>\n",
       "      <td>2012-12-28</td>\n",
       "    </tr>\n",
       "  </tbody>\n",
       "</table>\n",
       "<p>2141 rows × 3 columns</p>\n",
       "</div>"
      ],
      "text/plain": [
       "                 ret  lagged_ret high_watermark_index\n",
       "datetime                                             \n",
       "2010-08-13 -0.002051    0.000000           2010-08-13\n",
       "2010-08-16 -0.002251   -0.002051           2010-08-13\n",
       "2010-08-17  0.014917   -0.002251           2010-08-17\n",
       "2010-08-18  0.005044    0.014917           2010-08-17\n",
       "2010-08-19 -0.011289    0.005044           2010-08-17\n",
       "...              ...         ...                  ...\n",
       "2019-02-08 -0.055697   -0.050126           2012-12-28\n",
       "2019-02-11 -0.050359   -0.055697           2012-12-28\n",
       "2019-02-12 -0.036565   -0.050359           2012-12-28\n",
       "2019-02-13 -0.022388   -0.036565           2012-12-28\n",
       "2019-02-14 -0.018284   -0.022388           2012-12-28\n",
       "\n",
       "[2141 rows x 3 columns]"
      ]
     },
     "execution_count": 43,
     "metadata": {},
     "output_type": "execute_result"
    }
   ],
   "source": [
    "term"
   ]
  },
  {
   "cell_type": "code",
   "execution_count": 44,
   "id": "6cdc82c5-39df-4a80-ab2a-78b2535bd965",
   "metadata": {
    "tags": []
   },
   "outputs": [
    {
     "data": {
      "text/html": [
       "<div>\n",
       "<style scoped>\n",
       "    .dataframe tbody tr th:only-of-type {\n",
       "        vertical-align: middle;\n",
       "    }\n",
       "\n",
       "    .dataframe tbody tr th {\n",
       "        vertical-align: top;\n",
       "    }\n",
       "\n",
       "    .dataframe thead th {\n",
       "        text-align: right;\n",
       "    }\n",
       "</style>\n",
       "<table border=\"1\" class=\"dataframe\">\n",
       "  <thead>\n",
       "    <tr style=\"text-align: right;\">\n",
       "      <th></th>\n",
       "      <th>ret</th>\n",
       "      <th>lagged_ret</th>\n",
       "      <th>high_watermark_index</th>\n",
       "      <th>high_watermark_ret</th>\n",
       "      <th>drawdown_deep</th>\n",
       "      <th>drawdown_duration</th>\n",
       "    </tr>\n",
       "    <tr>\n",
       "      <th>datetime</th>\n",
       "      <th></th>\n",
       "      <th></th>\n",
       "      <th></th>\n",
       "      <th></th>\n",
       "      <th></th>\n",
       "      <th></th>\n",
       "    </tr>\n",
       "  </thead>\n",
       "  <tbody>\n",
       "    <tr>\n",
       "      <th>2010-08-13</th>\n",
       "      <td>-0.002051</td>\n",
       "      <td>0.000000</td>\n",
       "      <td>2010-08-13</td>\n",
       "      <td>-0.002051</td>\n",
       "      <td>0.000000</td>\n",
       "      <td>0 days</td>\n",
       "    </tr>\n",
       "    <tr>\n",
       "      <th>2010-08-16</th>\n",
       "      <td>-0.002251</td>\n",
       "      <td>-0.002051</td>\n",
       "      <td>2010-08-13</td>\n",
       "      <td>-0.002051</td>\n",
       "      <td>0.000201</td>\n",
       "      <td>3 days</td>\n",
       "    </tr>\n",
       "    <tr>\n",
       "      <th>2010-08-17</th>\n",
       "      <td>0.014917</td>\n",
       "      <td>-0.002251</td>\n",
       "      <td>2010-08-17</td>\n",
       "      <td>0.014917</td>\n",
       "      <td>0.000000</td>\n",
       "      <td>0 days</td>\n",
       "    </tr>\n",
       "    <tr>\n",
       "      <th>2010-08-18</th>\n",
       "      <td>0.005044</td>\n",
       "      <td>0.014917</td>\n",
       "      <td>2010-08-17</td>\n",
       "      <td>0.014917</td>\n",
       "      <td>0.009873</td>\n",
       "      <td>1 days</td>\n",
       "    </tr>\n",
       "    <tr>\n",
       "      <th>2010-08-19</th>\n",
       "      <td>-0.011289</td>\n",
       "      <td>0.005044</td>\n",
       "      <td>2010-08-17</td>\n",
       "      <td>0.014917</td>\n",
       "      <td>0.026206</td>\n",
       "      <td>2 days</td>\n",
       "    </tr>\n",
       "    <tr>\n",
       "      <th>...</th>\n",
       "      <td>...</td>\n",
       "      <td>...</td>\n",
       "      <td>...</td>\n",
       "      <td>...</td>\n",
       "      <td>...</td>\n",
       "      <td>...</td>\n",
       "    </tr>\n",
       "    <tr>\n",
       "      <th>2019-02-08</th>\n",
       "      <td>-0.055697</td>\n",
       "      <td>-0.050126</td>\n",
       "      <td>2012-12-28</td>\n",
       "      <td>0.325974</td>\n",
       "      <td>0.381671</td>\n",
       "      <td>2233 days</td>\n",
       "    </tr>\n",
       "    <tr>\n",
       "      <th>2019-02-11</th>\n",
       "      <td>-0.050359</td>\n",
       "      <td>-0.055697</td>\n",
       "      <td>2012-12-28</td>\n",
       "      <td>0.325974</td>\n",
       "      <td>0.376333</td>\n",
       "      <td>2236 days</td>\n",
       "    </tr>\n",
       "    <tr>\n",
       "      <th>2019-02-12</th>\n",
       "      <td>-0.036565</td>\n",
       "      <td>-0.050359</td>\n",
       "      <td>2012-12-28</td>\n",
       "      <td>0.325974</td>\n",
       "      <td>0.362538</td>\n",
       "      <td>2237 days</td>\n",
       "    </tr>\n",
       "    <tr>\n",
       "      <th>2019-02-13</th>\n",
       "      <td>-0.022388</td>\n",
       "      <td>-0.036565</td>\n",
       "      <td>2012-12-28</td>\n",
       "      <td>0.325974</td>\n",
       "      <td>0.348362</td>\n",
       "      <td>2238 days</td>\n",
       "    </tr>\n",
       "    <tr>\n",
       "      <th>2019-02-14</th>\n",
       "      <td>-0.018284</td>\n",
       "      <td>-0.022388</td>\n",
       "      <td>2012-12-28</td>\n",
       "      <td>0.325974</td>\n",
       "      <td>0.344258</td>\n",
       "      <td>2239 days</td>\n",
       "    </tr>\n",
       "  </tbody>\n",
       "</table>\n",
       "<p>2141 rows × 6 columns</p>\n",
       "</div>"
      ],
      "text/plain": [
       "                 ret  lagged_ret high_watermark_index  high_watermark_ret  \\\n",
       "datetime                                                                    \n",
       "2010-08-13 -0.002051    0.000000           2010-08-13           -0.002051   \n",
       "2010-08-16 -0.002251   -0.002051           2010-08-13           -0.002051   \n",
       "2010-08-17  0.014917   -0.002251           2010-08-17            0.014917   \n",
       "2010-08-18  0.005044    0.014917           2010-08-17            0.014917   \n",
       "2010-08-19 -0.011289    0.005044           2010-08-17            0.014917   \n",
       "...              ...         ...                  ...                 ...   \n",
       "2019-02-08 -0.055697   -0.050126           2012-12-28            0.325974   \n",
       "2019-02-11 -0.050359   -0.055697           2012-12-28            0.325974   \n",
       "2019-02-12 -0.036565   -0.050359           2012-12-28            0.325974   \n",
       "2019-02-13 -0.022388   -0.036565           2012-12-28            0.325974   \n",
       "2019-02-14 -0.018284   -0.022388           2012-12-28            0.325974   \n",
       "\n",
       "            drawdown_deep drawdown_duration  \n",
       "datetime                                     \n",
       "2010-08-13       0.000000            0 days  \n",
       "2010-08-16       0.000201            3 days  \n",
       "2010-08-17       0.000000            0 days  \n",
       "2010-08-18       0.009873            1 days  \n",
       "2010-08-19       0.026206            2 days  \n",
       "...                   ...               ...  \n",
       "2019-02-08       0.381671         2233 days  \n",
       "2019-02-11       0.376333         2236 days  \n",
       "2019-02-12       0.362538         2237 days  \n",
       "2019-02-13       0.348362         2238 days  \n",
       "2019-02-14       0.344258         2239 days  \n",
       "\n",
       "[2141 rows x 6 columns]"
      ]
     },
     "execution_count": 44,
     "metadata": {},
     "output_type": "execute_result"
    }
   ],
   "source": [
    "term['high_watermark_ret'] = term.apply(lambda x: term.loc[x['high_watermark_index']]['ret'], axis=1)\n",
    "term['drawdown_deep'] = term['high_watermark_ret'] - term['ret']\n",
    "term['drawdown_duration'] = term.index - term['high_watermark_index']\n",
    "term"
   ]
  },
  {
   "cell_type": "code",
   "execution_count": null,
   "id": "ebd494cc-11ba-4574-90f3-2b03f689a107",
   "metadata": {},
   "outputs": [],
   "source": []
  },
  {
   "cell_type": "code",
   "execution_count": 45,
   "id": "5c890999-0b69-4150-bd38-11878f26c84b",
   "metadata": {
    "tags": []
   },
   "outputs": [
    {
     "data": {
      "text/html": [
       "<div>\n",
       "<style scoped>\n",
       "    .dataframe tbody tr th:only-of-type {\n",
       "        vertical-align: middle;\n",
       "    }\n",
       "\n",
       "    .dataframe tbody tr th {\n",
       "        vertical-align: top;\n",
       "    }\n",
       "\n",
       "    .dataframe thead th {\n",
       "        text-align: right;\n",
       "    }\n",
       "</style>\n",
       "<table border=\"1\" class=\"dataframe\">\n",
       "  <thead>\n",
       "    <tr style=\"text-align: right;\">\n",
       "      <th></th>\n",
       "      <th>ret</th>\n",
       "      <th>lagged_ret</th>\n",
       "      <th>high_watermark_index</th>\n",
       "      <th>high_watermark_ret</th>\n",
       "      <th>drawdown_deep</th>\n",
       "      <th>drawdown_duration</th>\n",
       "    </tr>\n",
       "  </thead>\n",
       "  <tbody>\n",
       "    <tr>\n",
       "      <th>count</th>\n",
       "      <td>2141.000000</td>\n",
       "      <td>2141.000000</td>\n",
       "      <td>2141</td>\n",
       "      <td>2141.000000</td>\n",
       "      <td>2141.000000</td>\n",
       "      <td>2141</td>\n",
       "    </tr>\n",
       "    <tr>\n",
       "      <th>mean</th>\n",
       "      <td>-0.009235</td>\n",
       "      <td>-0.009226</td>\n",
       "      <td>2012-07-24 08:17:02.326016</td>\n",
       "      <td>0.266371</td>\n",
       "      <td>0.275605</td>\n",
       "      <td>841 days 22:31:53.498365248</td>\n",
       "    </tr>\n",
       "    <tr>\n",
       "      <th>min</th>\n",
       "      <td>-0.438732</td>\n",
       "      <td>-0.438732</td>\n",
       "      <td>2010-08-13 00:00:00</td>\n",
       "      <td>-0.002051</td>\n",
       "      <td>0.000000</td>\n",
       "      <td>0 days 00:00:00</td>\n",
       "    </tr>\n",
       "    <tr>\n",
       "      <th>25%</th>\n",
       "      <td>-0.135990</td>\n",
       "      <td>-0.135990</td>\n",
       "      <td>2012-08-03 00:00:00</td>\n",
       "      <td>0.268060</td>\n",
       "      <td>0.126743</td>\n",
       "      <td>174 days 00:00:00</td>\n",
       "    </tr>\n",
       "    <tr>\n",
       "      <th>50%</th>\n",
       "      <td>-0.020046</td>\n",
       "      <td>-0.020046</td>\n",
       "      <td>2012-12-28 00:00:00</td>\n",
       "      <td>0.325974</td>\n",
       "      <td>0.294441</td>\n",
       "      <td>684 days 00:00:00</td>\n",
       "    </tr>\n",
       "    <tr>\n",
       "      <th>75%</th>\n",
       "      <td>0.128507</td>\n",
       "      <td>0.128507</td>\n",
       "      <td>2012-12-28 00:00:00</td>\n",
       "      <td>0.325974</td>\n",
       "      <td>0.396094</td>\n",
       "      <td>1461 days 00:00:00</td>\n",
       "    </tr>\n",
       "    <tr>\n",
       "      <th>max</th>\n",
       "      <td>0.325974</td>\n",
       "      <td>0.325974</td>\n",
       "      <td>2012-12-28 00:00:00</td>\n",
       "      <td>0.325974</td>\n",
       "      <td>0.640196</td>\n",
       "      <td>2239 days 00:00:00</td>\n",
       "    </tr>\n",
       "    <tr>\n",
       "      <th>std</th>\n",
       "      <td>0.163159</td>\n",
       "      <td>0.163159</td>\n",
       "      <td>NaN</td>\n",
       "      <td>0.108369</td>\n",
       "      <td>0.160776</td>\n",
       "      <td>710 days 08:04:33.613287824</td>\n",
       "    </tr>\n",
       "  </tbody>\n",
       "</table>\n",
       "</div>"
      ],
      "text/plain": [
       "               ret   lagged_ret        high_watermark_index  \\\n",
       "count  2141.000000  2141.000000                        2141   \n",
       "mean     -0.009235    -0.009226  2012-07-24 08:17:02.326016   \n",
       "min      -0.438732    -0.438732         2010-08-13 00:00:00   \n",
       "25%      -0.135990    -0.135990         2012-08-03 00:00:00   \n",
       "50%      -0.020046    -0.020046         2012-12-28 00:00:00   \n",
       "75%       0.128507     0.128507         2012-12-28 00:00:00   \n",
       "max       0.325974     0.325974         2012-12-28 00:00:00   \n",
       "std       0.163159     0.163159                         NaN   \n",
       "\n",
       "       high_watermark_ret  drawdown_deep            drawdown_duration  \n",
       "count         2141.000000    2141.000000                         2141  \n",
       "mean             0.266371       0.275605  841 days 22:31:53.498365248  \n",
       "min             -0.002051       0.000000              0 days 00:00:00  \n",
       "25%              0.268060       0.126743            174 days 00:00:00  \n",
       "50%              0.325974       0.294441            684 days 00:00:00  \n",
       "75%              0.325974       0.396094           1461 days 00:00:00  \n",
       "max              0.325974       0.640196           2239 days 00:00:00  \n",
       "std              0.108369       0.160776  710 days 08:04:33.613287824  "
      ]
     },
     "execution_count": 45,
     "metadata": {},
     "output_type": "execute_result"
    }
   ],
   "source": [
    "term.describe()"
   ]
  },
  {
   "cell_type": "code",
   "execution_count": 46,
   "id": "8652364e-71b9-45c8-a9a4-c2ba18961be7",
   "metadata": {
    "tags": []
   },
   "outputs": [
    {
     "data": {
      "text/plain": [
       "Timestamp('2018-01-22 00:00:00')"
      ]
     },
     "execution_count": 46,
     "metadata": {},
     "output_type": "execute_result"
    }
   ],
   "source": [
    "term['drawdown_deep'].idxmax()"
   ]
  },
  {
   "cell_type": "code",
   "execution_count": 47,
   "id": "eb440437-c2bf-41e6-b3ff-0e21a1ba7999",
   "metadata": {
    "tags": []
   },
   "outputs": [
    {
     "data": {
      "text/plain": [
       "Timestamp('2019-02-14 00:00:00')"
      ]
     },
     "execution_count": 47,
     "metadata": {},
     "output_type": "execute_result"
    }
   ],
   "source": [
    "term['drawdown_duration'].idxmax()"
   ]
  },
  {
   "cell_type": "code",
   "execution_count": 48,
   "id": "8cb3fc02-09e3-41c8-90c6-bc0d4b0a52e6",
   "metadata": {
    "tags": []
   },
   "outputs": [
    {
     "data": {
      "text/plain": [
       "<Axes: xlabel='datetime'>"
      ]
     },
     "execution_count": 48,
     "metadata": {},
     "output_type": "execute_result"
    },
    {
     "data": {
      "image/png": "[encoded data removed]",
      "text/plain": [
       "<Figure size 640x480 with 1 Axes>"
      ]
     },
     "metadata": {},
     "output_type": "display_data"
    }
   ],
   "source": [
    "term['ret'].plot()"
   ]
  },
  {
   "cell_type": "markdown",
   "id": "1678f4de-498e-473e-bfc9-5cedfc7d4e58",
   "metadata": {},
   "source": [
    "# Johansen Cointegration Test"
   ]
  },
  {
   "cell_type": "code",
   "execution_count": 22,
   "id": "228e7e0b-64dc-414f-b43b-277629d26380",
   "metadata": {
    "tags": []
   },
   "outputs": [
    {
     "data": {
      "text/html": [
       "<div>\n",
       "<style scoped>\n",
       "    .dataframe tbody tr th:only-of-type {\n",
       "        vertical-align: middle;\n",
       "    }\n",
       "\n",
       "    .dataframe tbody tr th {\n",
       "        vertical-align: top;\n",
       "    }\n",
       "\n",
       "    .dataframe thead th {\n",
       "        text-align: right;\n",
       "    }\n",
       "</style>\n",
       "<table border=\"1\" class=\"dataframe\">\n",
       "  <thead>\n",
       "    <tr style=\"text-align: right;\">\n",
       "      <th></th>\n",
       "      <th>XLE</th>\n",
       "      <th>XLU</th>\n",
       "    </tr>\n",
       "    <tr>\n",
       "      <th>datetime</th>\n",
       "      <th></th>\n",
       "      <th></th>\n",
       "    </tr>\n",
       "  </thead>\n",
       "  <tbody>\n",
       "    <tr>\n",
       "      <th>2010-01-04</th>\n",
       "      <td>58.81</td>\n",
       "      <td>31.08</td>\n",
       "    </tr>\n",
       "    <tr>\n",
       "      <th>2010-01-05</th>\n",
       "      <td>59.29</td>\n",
       "      <td>30.71</td>\n",
       "    </tr>\n",
       "    <tr>\n",
       "      <th>2010-01-06</th>\n",
       "      <td>60.00</td>\n",
       "      <td>30.89</td>\n",
       "    </tr>\n",
       "    <tr>\n",
       "      <th>2010-01-07</th>\n",
       "      <td>59.91</td>\n",
       "      <td>30.75</td>\n",
       "    </tr>\n",
       "    <tr>\n",
       "      <th>2010-01-08</th>\n",
       "      <td>60.30</td>\n",
       "      <td>30.72</td>\n",
       "    </tr>\n",
       "    <tr>\n",
       "      <th>...</th>\n",
       "      <td>...</td>\n",
       "      <td>...</td>\n",
       "    </tr>\n",
       "    <tr>\n",
       "      <th>2019-02-08</th>\n",
       "      <td>62.94</td>\n",
       "      <td>55.68</td>\n",
       "    </tr>\n",
       "    <tr>\n",
       "      <th>2019-02-11</th>\n",
       "      <td>63.24</td>\n",
       "      <td>55.66</td>\n",
       "    </tr>\n",
       "    <tr>\n",
       "      <th>2019-02-12</th>\n",
       "      <td>64.04</td>\n",
       "      <td>55.79</td>\n",
       "    </tr>\n",
       "    <tr>\n",
       "      <th>2019-02-13</th>\n",
       "      <td>64.84</td>\n",
       "      <td>55.63</td>\n",
       "    </tr>\n",
       "    <tr>\n",
       "      <th>2019-02-14</th>\n",
       "      <td>65.07</td>\n",
       "      <td>55.54</td>\n",
       "    </tr>\n",
       "  </tbody>\n",
       "</table>\n",
       "<p>2295 rows × 2 columns</p>\n",
       "</div>"
      ],
      "text/plain": [
       "              XLE    XLU\n",
       "datetime                \n",
       "2010-01-04  58.81  31.08\n",
       "2010-01-05  59.29  30.71\n",
       "2010-01-06  60.00  30.89\n",
       "2010-01-07  59.91  30.75\n",
       "2010-01-08  60.30  30.72\n",
       "...           ...    ...\n",
       "2019-02-08  62.94  55.68\n",
       "2019-02-11  63.24  55.66\n",
       "2019-02-12  64.04  55.79\n",
       "2019-02-13  64.84  55.63\n",
       "2019-02-14  65.07  55.54\n",
       "\n",
       "[2295 rows x 2 columns]"
      ]
     },
     "execution_count": 22,
     "metadata": {},
     "output_type": "execute_result"
    }
   ],
   "source": [
    "train_data"
   ]
  },
  {
   "cell_type": "code",
   "execution_count": 54,
   "id": "ddf6653a-451f-49d2-858f-660873f648d2",
   "metadata": {
    "tags": []
   },
   "outputs": [
    {
     "name": "stdout",
     "output_type": "stream",
     "text": [
      "Eigen statistic: \n",
      "\t[6.31235691 0.38602924]\n",
      "Eigen statistic critical: \n",
      "\t[[12.2971 14.2639 18.52  ]\n",
      " [ 2.7055  3.8415  6.6349]]\n",
      "Eigen vector: \n",
      "\t[[ 0.09154149  0.04026015]\n",
      " [-0.04004565  0.12039224]]\n",
      "Eigen value: \n",
      "\t[0.0027491  0.00016834]\n"
     ]
    }
   ],
   "source": [
    "from statsmodels.tsa.vector_ar.vecm import coint_johansen\n",
    "\n",
    "# x is a dataframe of n series for cointegration analysis\n",
    "jres = coint_johansen(train_data, det_order=0, k_ar_diff=1)\n",
    "print(f'Eigen statistic: \\n\\t{jres.max_eig_stat}')\n",
    "print(f'Eigen statistic critical: \\n\\t{jres.max_eig_stat_crit_vals}')\n",
    "print(f'Eigen vector: \\n\\t{jres.evec.T}')\n",
    "print(f'Eigen value: \\n\\t{jres.eig}')"
   ]
  },
  {
   "cell_type": "code",
   "execution_count": 55,
   "id": "abece32f-4228-46a4-8fb1-ec9088bb8353",
   "metadata": {
    "tags": []
   },
   "outputs": [
    {
     "name": "stdout",
     "output_type": "stream",
     "text": [
      "[1.         0.43980215]\n",
      "[ 1.         -3.00637506]\n"
     ]
    }
   ],
   "source": [
    "w1, w2 = jres.evec.T\n",
    "print(w1 / w1[0])\n",
    "print(w2 / w2[0])"
   ]
  },
  {
   "cell_type": "code",
   "execution_count": 99,
   "id": "9e655308-9fe0-4d06-ba4e-4f8e44eaf606",
   "metadata": {
    "tags": []
   },
   "outputs": [],
   "source": [
    "price = train_data"
   ]
  },
  {
   "cell_type": "code",
   "execution_count": 100,
   "id": "61c1161f-4251-4933-b1df-65531a679a3a",
   "metadata": {
    "tags": []
   },
   "outputs": [
    {
     "data": {
      "text/html": [
       "<div>\n",
       "<style scoped>\n",
       "    .dataframe tbody tr th:only-of-type {\n",
       "        vertical-align: middle;\n",
       "    }\n",
       "\n",
       "    .dataframe tbody tr th {\n",
       "        vertical-align: top;\n",
       "    }\n",
       "\n",
       "    .dataframe thead th {\n",
       "        text-align: right;\n",
       "    }\n",
       "</style>\n",
       "<table border=\"1\" class=\"dataframe\">\n",
       "  <thead>\n",
       "    <tr style=\"text-align: right;\">\n",
       "      <th></th>\n",
       "      <th>XLE</th>\n",
       "      <th>XLU</th>\n",
       "    </tr>\n",
       "    <tr>\n",
       "      <th>datetime</th>\n",
       "      <th></th>\n",
       "      <th></th>\n",
       "    </tr>\n",
       "  </thead>\n",
       "  <tbody>\n",
       "    <tr>\n",
       "      <th>2010-01-04</th>\n",
       "      <td>0.091541</td>\n",
       "      <td>0.04026</td>\n",
       "    </tr>\n",
       "    <tr>\n",
       "      <th>2010-01-05</th>\n",
       "      <td>0.091541</td>\n",
       "      <td>0.04026</td>\n",
       "    </tr>\n",
       "    <tr>\n",
       "      <th>2010-01-06</th>\n",
       "      <td>0.091541</td>\n",
       "      <td>0.04026</td>\n",
       "    </tr>\n",
       "    <tr>\n",
       "      <th>2010-01-07</th>\n",
       "      <td>0.091541</td>\n",
       "      <td>0.04026</td>\n",
       "    </tr>\n",
       "    <tr>\n",
       "      <th>2010-01-08</th>\n",
       "      <td>0.091541</td>\n",
       "      <td>0.04026</td>\n",
       "    </tr>\n",
       "    <tr>\n",
       "      <th>...</th>\n",
       "      <td>...</td>\n",
       "      <td>...</td>\n",
       "    </tr>\n",
       "    <tr>\n",
       "      <th>2019-02-08</th>\n",
       "      <td>0.091541</td>\n",
       "      <td>0.04026</td>\n",
       "    </tr>\n",
       "    <tr>\n",
       "      <th>2019-02-11</th>\n",
       "      <td>0.091541</td>\n",
       "      <td>0.04026</td>\n",
       "    </tr>\n",
       "    <tr>\n",
       "      <th>2019-02-12</th>\n",
       "      <td>0.091541</td>\n",
       "      <td>0.04026</td>\n",
       "    </tr>\n",
       "    <tr>\n",
       "      <th>2019-02-13</th>\n",
       "      <td>0.091541</td>\n",
       "      <td>0.04026</td>\n",
       "    </tr>\n",
       "    <tr>\n",
       "      <th>2019-02-14</th>\n",
       "      <td>0.091541</td>\n",
       "      <td>0.04026</td>\n",
       "    </tr>\n",
       "  </tbody>\n",
       "</table>\n",
       "<p>2295 rows × 2 columns</p>\n",
       "</div>"
      ],
      "text/plain": [
       "                 XLE      XLU\n",
       "datetime                     \n",
       "2010-01-04  0.091541  0.04026\n",
       "2010-01-05  0.091541  0.04026\n",
       "2010-01-06  0.091541  0.04026\n",
       "2010-01-07  0.091541  0.04026\n",
       "2010-01-08  0.091541  0.04026\n",
       "...              ...      ...\n",
       "2019-02-08  0.091541  0.04026\n",
       "2019-02-11  0.091541  0.04026\n",
       "2019-02-12  0.091541  0.04026\n",
       "2019-02-13  0.091541  0.04026\n",
       "2019-02-14  0.091541  0.04026\n",
       "\n",
       "[2295 rows x 2 columns]"
      ]
     },
     "execution_count": 100,
     "metadata": {},
     "output_type": "execute_result"
    }
   ],
   "source": [
    "a, b = w1\n",
    "weights = pd.DataFrame({\n",
    "    \"XLE\": [a] * len(price),\n",
    "    \"XLU\": [b] * len(price)\n",
    "}, index=price.index)\n",
    "weights"
   ]
  },
  {
   "cell_type": "code",
   "execution_count": 101,
   "id": "3d0dda14-ce56-40d2-a296-fe2cdb0aef4e",
   "metadata": {
    "tags": []
   },
   "outputs": [
    {
     "data": {
      "text/plain": [
       "datetime\n",
       "2010-01-04    6.634841\n",
       "2010-01-05    6.663884\n",
       "2010-01-06    6.736126\n",
       "2010-01-07    6.722250\n",
       "2010-01-08    6.756744\n",
       "                ...   \n",
       "2019-02-08    8.003307\n",
       "2019-02-11    8.029964\n",
       "2019-02-12    8.108431\n",
       "2019-02-13    8.175222\n",
       "2019-02-14    8.192653\n",
       "Length: 2295, dtype: float64"
      ]
     },
     "execution_count": 101,
     "metadata": {},
     "output_type": "execute_result"
    }
   ],
   "source": [
    "spread = (weights * price).sum(axis=1)\n",
    "spread"
   ]
  },
  {
   "cell_type": "code",
   "execution_count": 102,
   "id": "6ce9c95d-29bb-412f-9c05-83b5fd02cfa1",
   "metadata": {
    "tags": []
   },
   "outputs": [
    {
     "data": {
      "image/png": "[encoded data removed]",
      "text/plain": [
       "<Figure size 640x480 with 1 Axes>"
      ]
     },
     "metadata": {},
     "output_type": "display_data"
    }
   ],
   "source": [
    "zscore_spread = zscore(spread)\n",
    "zscore_spread.plot()\n",
    "plt.axhline(zscore_spread.mean(), color=\"black\")\n",
    "plt.axhline(1.0, color=\"red\", linestyle=\"--\")\n",
    "plt.axhline(-1.0, color=\"green\", linestyle=\"--\")\n",
    "plt.legend([\"Spread z-score\", \"Mean\", \"+1\", \"-1\"]);"
   ]
  },
  {
   "cell_type": "code",
   "execution_count": 103,
   "id": "00cf69ea-9885-40f5-946d-5de01876091e",
   "metadata": {
    "tags": []
   },
   "outputs": [
    {
     "name": "stdout",
     "output_type": "stream",
     "text": [
      "Halflife: 140.592545\n"
     ]
    }
   ],
   "source": [
    "x = spread.shift().dropna()\n",
    "y = spread - spread.shift()\n",
    "y = y.dropna()\n",
    "x = sm.add_constant(x)\n",
    "results = sm.OLS(y, x).fit()\n",
    "halflife = -math.log(2) / results.params[0]\n",
    "print('Halflife: %f' % halflife)"
   ]
  },
  {
   "cell_type": "code",
   "execution_count": 104,
   "id": "7a646628-e078-4a80-97eb-8d027a16fc95",
   "metadata": {
    "tags": []
   },
   "outputs": [
    {
     "data": {
      "text/html": [
       "<div>\n",
       "<style scoped>\n",
       "    .dataframe tbody tr th:only-of-type {\n",
       "        vertical-align: middle;\n",
       "    }\n",
       "\n",
       "    .dataframe tbody tr th {\n",
       "        vertical-align: top;\n",
       "    }\n",
       "\n",
       "    .dataframe thead th {\n",
       "        text-align: right;\n",
       "    }\n",
       "</style>\n",
       "<table border=\"1\" class=\"dataframe\">\n",
       "  <thead>\n",
       "    <tr style=\"text-align: right;\">\n",
       "      <th></th>\n",
       "      <th>XLE</th>\n",
       "      <th>XLU</th>\n",
       "    </tr>\n",
       "    <tr>\n",
       "      <th>datetime</th>\n",
       "      <th></th>\n",
       "      <th></th>\n",
       "    </tr>\n",
       "  </thead>\n",
       "  <tbody>\n",
       "    <tr>\n",
       "      <th>2019-02-15</th>\n",
       "      <td>66.12</td>\n",
       "      <td>55.71</td>\n",
       "    </tr>\n",
       "    <tr>\n",
       "      <th>2019-02-19</th>\n",
       "      <td>66.32</td>\n",
       "      <td>56.04</td>\n",
       "    </tr>\n",
       "    <tr>\n",
       "      <th>2019-02-20</th>\n",
       "      <td>66.60</td>\n",
       "      <td>56.29</td>\n",
       "    </tr>\n",
       "    <tr>\n",
       "      <th>2019-02-21</th>\n",
       "      <td>65.57</td>\n",
       "      <td>56.70</td>\n",
       "    </tr>\n",
       "    <tr>\n",
       "      <th>2019-02-22</th>\n",
       "      <td>65.76</td>\n",
       "      <td>57.05</td>\n",
       "    </tr>\n",
       "    <tr>\n",
       "      <th>...</th>\n",
       "      <td>...</td>\n",
       "      <td>...</td>\n",
       "    </tr>\n",
       "    <tr>\n",
       "      <th>2020-12-03</th>\n",
       "      <td>38.53</td>\n",
       "      <td>63.04</td>\n",
       "    </tr>\n",
       "    <tr>\n",
       "      <th>2020-12-04</th>\n",
       "      <td>40.63</td>\n",
       "      <td>62.41</td>\n",
       "    </tr>\n",
       "    <tr>\n",
       "      <th>2020-12-07</th>\n",
       "      <td>39.68</td>\n",
       "      <td>62.76</td>\n",
       "    </tr>\n",
       "    <tr>\n",
       "      <th>2020-12-08</th>\n",
       "      <td>40.27</td>\n",
       "      <td>62.57</td>\n",
       "    </tr>\n",
       "    <tr>\n",
       "      <th>2020-12-09</th>\n",
       "      <td>40.36</td>\n",
       "      <td>62.46</td>\n",
       "    </tr>\n",
       "  </tbody>\n",
       "</table>\n",
       "<p>459 rows × 2 columns</p>\n",
       "</div>"
      ],
      "text/plain": [
       "              XLE    XLU\n",
       "datetime                \n",
       "2019-02-15  66.12  55.71\n",
       "2019-02-19  66.32  56.04\n",
       "2019-02-20  66.60  56.29\n",
       "2019-02-21  65.57  56.70\n",
       "2019-02-22  65.76  57.05\n",
       "...           ...    ...\n",
       "2020-12-03  38.53  63.04\n",
       "2020-12-04  40.63  62.41\n",
       "2020-12-07  39.68  62.76\n",
       "2020-12-08  40.27  62.57\n",
       "2020-12-09  40.36  62.46\n",
       "\n",
       "[459 rows x 2 columns]"
      ]
     },
     "execution_count": 104,
     "metadata": {},
     "output_type": "execute_result"
    }
   ],
   "source": [
    "price = validation_data\n",
    "price"
   ]
  },
  {
   "cell_type": "code",
   "execution_count": 108,
   "id": "1153fbda-96fb-45de-8e3e-c22e2338951b",
   "metadata": {
    "tags": []
   },
   "outputs": [
    {
     "data": {
      "text/html": [
       "<div>\n",
       "<style scoped>\n",
       "    .dataframe tbody tr th:only-of-type {\n",
       "        vertical-align: middle;\n",
       "    }\n",
       "\n",
       "    .dataframe tbody tr th {\n",
       "        vertical-align: top;\n",
       "    }\n",
       "\n",
       "    .dataframe thead th {\n",
       "        text-align: right;\n",
       "    }\n",
       "</style>\n",
       "<table border=\"1\" class=\"dataframe\">\n",
       "  <thead>\n",
       "    <tr style=\"text-align: right;\">\n",
       "      <th></th>\n",
       "      <th>XLE</th>\n",
       "      <th>XLU</th>\n",
       "    </tr>\n",
       "    <tr>\n",
       "      <th>datetime</th>\n",
       "      <th></th>\n",
       "      <th></th>\n",
       "    </tr>\n",
       "  </thead>\n",
       "  <tbody>\n",
       "    <tr>\n",
       "      <th>2019-02-15</th>\n",
       "      <td>0.091541</td>\n",
       "      <td>0.04026</td>\n",
       "    </tr>\n",
       "    <tr>\n",
       "      <th>2019-02-19</th>\n",
       "      <td>0.091541</td>\n",
       "      <td>0.04026</td>\n",
       "    </tr>\n",
       "    <tr>\n",
       "      <th>2019-02-20</th>\n",
       "      <td>0.091541</td>\n",
       "      <td>0.04026</td>\n",
       "    </tr>\n",
       "    <tr>\n",
       "      <th>2019-02-21</th>\n",
       "      <td>0.091541</td>\n",
       "      <td>0.04026</td>\n",
       "    </tr>\n",
       "    <tr>\n",
       "      <th>2019-02-22</th>\n",
       "      <td>0.091541</td>\n",
       "      <td>0.04026</td>\n",
       "    </tr>\n",
       "    <tr>\n",
       "      <th>...</th>\n",
       "      <td>...</td>\n",
       "      <td>...</td>\n",
       "    </tr>\n",
       "    <tr>\n",
       "      <th>2020-12-03</th>\n",
       "      <td>0.091541</td>\n",
       "      <td>0.04026</td>\n",
       "    </tr>\n",
       "    <tr>\n",
       "      <th>2020-12-04</th>\n",
       "      <td>0.091541</td>\n",
       "      <td>0.04026</td>\n",
       "    </tr>\n",
       "    <tr>\n",
       "      <th>2020-12-07</th>\n",
       "      <td>0.091541</td>\n",
       "      <td>0.04026</td>\n",
       "    </tr>\n",
       "    <tr>\n",
       "      <th>2020-12-08</th>\n",
       "      <td>0.091541</td>\n",
       "      <td>0.04026</td>\n",
       "    </tr>\n",
       "    <tr>\n",
       "      <th>2020-12-09</th>\n",
       "      <td>0.091541</td>\n",
       "      <td>0.04026</td>\n",
       "    </tr>\n",
       "  </tbody>\n",
       "</table>\n",
       "<p>459 rows × 2 columns</p>\n",
       "</div>"
      ],
      "text/plain": [
       "                 XLE      XLU\n",
       "datetime                     \n",
       "2019-02-15  0.091541  0.04026\n",
       "2019-02-19  0.091541  0.04026\n",
       "2019-02-20  0.091541  0.04026\n",
       "2019-02-21  0.091541  0.04026\n",
       "2019-02-22  0.091541  0.04026\n",
       "...              ...      ...\n",
       "2020-12-03  0.091541  0.04026\n",
       "2020-12-04  0.091541  0.04026\n",
       "2020-12-07  0.091541  0.04026\n",
       "2020-12-08  0.091541  0.04026\n",
       "2020-12-09  0.091541  0.04026\n",
       "\n",
       "[459 rows x 2 columns]"
      ]
     },
     "execution_count": 108,
     "metadata": {},
     "output_type": "execute_result"
    }
   ],
   "source": [
    "a, b = w1\n",
    "weights = pd.DataFrame({\n",
    "    \"XLE\": [a] * len(price),\n",
    "    \"XLU\": [b] * len(price)\n",
    "}, index=price.index)\n",
    "weights"
   ]
  },
  {
   "cell_type": "code",
   "execution_count": 109,
   "id": "0f918465-1a06-4aec-8e47-6aa78656e326",
   "metadata": {
    "tags": []
   },
   "outputs": [],
   "source": [
    "spread = weights * price"
   ]
  },
  {
   "cell_type": "code",
   "execution_count": 110,
   "id": "76675f3a-bf7f-4515-979f-a227fc8c2a85",
   "metadata": {
    "tags": []
   },
   "outputs": [
    {
     "data": {
      "text/plain": [
       "141"
      ]
     },
     "execution_count": 110,
     "metadata": {},
     "output_type": "execute_result"
    }
   ],
   "source": [
    "lookback = round(halflife)\n",
    "lookback"
   ]
  },
  {
   "cell_type": "code",
   "execution_count": 111,
   "id": "a115ee29-c9b6-41da-bf4b-b19e1dab55fc",
   "metadata": {
    "tags": []
   },
   "outputs": [
    {
     "data": {
      "text/html": [
       "<div>\n",
       "<style scoped>\n",
       "    .dataframe tbody tr th:only-of-type {\n",
       "        vertical-align: middle;\n",
       "    }\n",
       "\n",
       "    .dataframe tbody tr th {\n",
       "        vertical-align: top;\n",
       "    }\n",
       "\n",
       "    .dataframe thead th {\n",
       "        text-align: right;\n",
       "    }\n",
       "</style>\n",
       "<table border=\"1\" class=\"dataframe\">\n",
       "  <thead>\n",
       "    <tr style=\"text-align: right;\">\n",
       "      <th></th>\n",
       "      <th>XLE</th>\n",
       "      <th>XLU</th>\n",
       "    </tr>\n",
       "    <tr>\n",
       "      <th>datetime</th>\n",
       "      <th></th>\n",
       "      <th></th>\n",
       "    </tr>\n",
       "  </thead>\n",
       "  <tbody>\n",
       "    <tr>\n",
       "      <th>2019-02-15</th>\n",
       "      <td>NaN</td>\n",
       "      <td>NaN</td>\n",
       "    </tr>\n",
       "    <tr>\n",
       "      <th>2019-02-19</th>\n",
       "      <td>NaN</td>\n",
       "      <td>NaN</td>\n",
       "    </tr>\n",
       "    <tr>\n",
       "      <th>2019-02-20</th>\n",
       "      <td>NaN</td>\n",
       "      <td>NaN</td>\n",
       "    </tr>\n",
       "    <tr>\n",
       "      <th>2019-02-21</th>\n",
       "      <td>NaN</td>\n",
       "      <td>NaN</td>\n",
       "    </tr>\n",
       "    <tr>\n",
       "      <th>2019-02-22</th>\n",
       "      <td>NaN</td>\n",
       "      <td>NaN</td>\n",
       "    </tr>\n",
       "    <tr>\n",
       "      <th>...</th>\n",
       "      <td>...</td>\n",
       "      <td>...</td>\n",
       "    </tr>\n",
       "    <tr>\n",
       "      <th>2020-12-03</th>\n",
       "      <td>-0.776246</td>\n",
       "      <td>-0.915922</td>\n",
       "    </tr>\n",
       "    <tr>\n",
       "      <th>2020-12-04</th>\n",
       "      <td>-1.296563</td>\n",
       "      <td>-0.675039</td>\n",
       "    </tr>\n",
       "    <tr>\n",
       "      <th>2020-12-07</th>\n",
       "      <td>-1.052567</td>\n",
       "      <td>-0.793270</td>\n",
       "    </tr>\n",
       "    <tr>\n",
       "      <th>2020-12-08</th>\n",
       "      <td>-1.193168</td>\n",
       "      <td>-0.711301</td>\n",
       "    </tr>\n",
       "    <tr>\n",
       "      <th>2020-12-09</th>\n",
       "      <td>-1.211697</td>\n",
       "      <td>-0.658871</td>\n",
       "    </tr>\n",
       "  </tbody>\n",
       "</table>\n",
       "<p>459 rows × 2 columns</p>\n",
       "</div>"
      ],
      "text/plain": [
       "                 XLE       XLU\n",
       "datetime                      \n",
       "2019-02-15       NaN       NaN\n",
       "2019-02-19       NaN       NaN\n",
       "2019-02-20       NaN       NaN\n",
       "2019-02-21       NaN       NaN\n",
       "2019-02-22       NaN       NaN\n",
       "...              ...       ...\n",
       "2020-12-03 -0.776246 -0.915922\n",
       "2020-12-04 -1.296563 -0.675039\n",
       "2020-12-07 -1.052567 -0.793270\n",
       "2020-12-08 -1.193168 -0.711301\n",
       "2020-12-09 -1.211697 -0.658871\n",
       "\n",
       "[459 rows x 2 columns]"
      ]
     },
     "execution_count": 111,
     "metadata": {},
     "output_type": "execute_result"
    }
   ],
   "source": [
    "num_units = -(spread - spread.rolling(lookback).mean()) / (spread.rolling(lookback).std())\n",
    "num_units"
   ]
  },
  {
   "cell_type": "code",
   "execution_count": 116,
   "id": "50c24886-8429-490c-8016-cfd8ae99daff",
   "metadata": {
    "tags": []
   },
   "outputs": [
    {
     "data": {
      "text/html": [
       "<div>\n",
       "<style scoped>\n",
       "    .dataframe tbody tr th:only-of-type {\n",
       "        vertical-align: middle;\n",
       "    }\n",
       "\n",
       "    .dataframe tbody tr th {\n",
       "        vertical-align: top;\n",
       "    }\n",
       "\n",
       "    .dataframe thead th {\n",
       "        text-align: right;\n",
       "    }\n",
       "</style>\n",
       "<table border=\"1\" class=\"dataframe\">\n",
       "  <thead>\n",
       "    <tr style=\"text-align: right;\">\n",
       "      <th></th>\n",
       "      <th>XLE</th>\n",
       "      <th>XLU</th>\n",
       "    </tr>\n",
       "    <tr>\n",
       "      <th>datetime</th>\n",
       "      <th></th>\n",
       "      <th></th>\n",
       "    </tr>\n",
       "  </thead>\n",
       "  <tbody>\n",
       "    <tr>\n",
       "      <th>2019-02-15</th>\n",
       "      <td>NaN</td>\n",
       "      <td>NaN</td>\n",
       "    </tr>\n",
       "    <tr>\n",
       "      <th>2019-02-19</th>\n",
       "      <td>NaN</td>\n",
       "      <td>NaN</td>\n",
       "    </tr>\n",
       "    <tr>\n",
       "      <th>2019-02-20</th>\n",
       "      <td>NaN</td>\n",
       "      <td>NaN</td>\n",
       "    </tr>\n",
       "    <tr>\n",
       "      <th>2019-02-21</th>\n",
       "      <td>NaN</td>\n",
       "      <td>NaN</td>\n",
       "    </tr>\n",
       "    <tr>\n",
       "      <th>2019-02-22</th>\n",
       "      <td>NaN</td>\n",
       "      <td>NaN</td>\n",
       "    </tr>\n",
       "    <tr>\n",
       "      <th>...</th>\n",
       "      <td>...</td>\n",
       "      <td>...</td>\n",
       "    </tr>\n",
       "    <tr>\n",
       "      <th>2020-12-03</th>\n",
       "      <td>-2.737893</td>\n",
       "      <td>-2.324610</td>\n",
       "    </tr>\n",
       "    <tr>\n",
       "      <th>2020-12-04</th>\n",
       "      <td>-4.822346</td>\n",
       "      <td>-1.696127</td>\n",
       "    </tr>\n",
       "    <tr>\n",
       "      <th>2020-12-07</th>\n",
       "      <td>-3.823310</td>\n",
       "      <td>-2.004377</td>\n",
       "    </tr>\n",
       "    <tr>\n",
       "      <th>2020-12-08</th>\n",
       "      <td>-4.398464</td>\n",
       "      <td>-1.791823</td>\n",
       "    </tr>\n",
       "    <tr>\n",
       "      <th>2020-12-09</th>\n",
       "      <td>-4.476754</td>\n",
       "      <td>-1.656830</td>\n",
       "    </tr>\n",
       "  </tbody>\n",
       "</table>\n",
       "<p>459 rows × 2 columns</p>\n",
       "</div>"
      ],
      "text/plain": [
       "                 XLE       XLU\n",
       "datetime                      \n",
       "2019-02-15       NaN       NaN\n",
       "2019-02-19       NaN       NaN\n",
       "2019-02-20       NaN       NaN\n",
       "2019-02-21       NaN       NaN\n",
       "2019-02-22       NaN       NaN\n",
       "...              ...       ...\n",
       "2020-12-03 -2.737893 -2.324610\n",
       "2020-12-04 -4.822346 -1.696127\n",
       "2020-12-07 -3.823310 -2.004377\n",
       "2020-12-08 -4.398464 -1.791823\n",
       "2020-12-09 -4.476754 -1.656830\n",
       "\n",
       "[459 rows x 2 columns]"
      ]
     },
     "execution_count": 116,
     "metadata": {},
     "output_type": "execute_result"
    }
   ],
   "source": [
    "positions = weights.mul(num_units, axis=0) * price\n",
    "positions"
   ]
  },
  {
   "cell_type": "code",
   "execution_count": 126,
   "id": "62c7ffb3-f3e3-498c-967c-d5bfef1c6e13",
   "metadata": {
    "tags": []
   },
   "outputs": [
    {
     "data": {
      "text/html": [
       "<div>\n",
       "<style scoped>\n",
       "    .dataframe tbody tr th:only-of-type {\n",
       "        vertical-align: middle;\n",
       "    }\n",
       "\n",
       "    .dataframe tbody tr th {\n",
       "        vertical-align: top;\n",
       "    }\n",
       "\n",
       "    .dataframe thead th {\n",
       "        text-align: right;\n",
       "    }\n",
       "</style>\n",
       "<table border=\"1\" class=\"dataframe\">\n",
       "  <thead>\n",
       "    <tr style=\"text-align: right;\">\n",
       "      <th></th>\n",
       "      <th>XLE</th>\n",
       "      <th>XLU</th>\n",
       "    </tr>\n",
       "    <tr>\n",
       "      <th>datetime</th>\n",
       "      <th></th>\n",
       "      <th></th>\n",
       "    </tr>\n",
       "  </thead>\n",
       "  <tbody>\n",
       "    <tr>\n",
       "      <th>2019-09-06</th>\n",
       "      <td>6.948869</td>\n",
       "      <td>-5.215307</td>\n",
       "    </tr>\n",
       "    <tr>\n",
       "      <th>2019-09-09</th>\n",
       "      <td>4.999210</td>\n",
       "      <td>-4.680479</td>\n",
       "    </tr>\n",
       "    <tr>\n",
       "      <th>2019-09-10</th>\n",
       "      <td>3.770942</td>\n",
       "      <td>-4.736361</td>\n",
       "    </tr>\n",
       "    <tr>\n",
       "      <th>2019-09-11</th>\n",
       "      <td>3.611449</td>\n",
       "      <td>-5.591929</td>\n",
       "    </tr>\n",
       "    <tr>\n",
       "      <th>2019-09-12</th>\n",
       "      <td>4.185543</td>\n",
       "      <td>-5.686981</td>\n",
       "    </tr>\n",
       "    <tr>\n",
       "      <th>...</th>\n",
       "      <td>...</td>\n",
       "      <td>...</td>\n",
       "    </tr>\n",
       "    <tr>\n",
       "      <th>2020-12-03</th>\n",
       "      <td>-2.737893</td>\n",
       "      <td>-2.324610</td>\n",
       "    </tr>\n",
       "    <tr>\n",
       "      <th>2020-12-04</th>\n",
       "      <td>-4.822346</td>\n",
       "      <td>-1.696127</td>\n",
       "    </tr>\n",
       "    <tr>\n",
       "      <th>2020-12-07</th>\n",
       "      <td>-3.823310</td>\n",
       "      <td>-2.004377</td>\n",
       "    </tr>\n",
       "    <tr>\n",
       "      <th>2020-12-08</th>\n",
       "      <td>-4.398464</td>\n",
       "      <td>-1.791823</td>\n",
       "    </tr>\n",
       "    <tr>\n",
       "      <th>2020-12-09</th>\n",
       "      <td>-4.476754</td>\n",
       "      <td>-1.656830</td>\n",
       "    </tr>\n",
       "  </tbody>\n",
       "</table>\n",
       "<p>319 rows × 2 columns</p>\n",
       "</div>"
      ],
      "text/plain": [
       "                 XLE       XLU\n",
       "datetime                      \n",
       "2019-09-06  6.948869 -5.215307\n",
       "2019-09-09  4.999210 -4.680479\n",
       "2019-09-10  3.770942 -4.736361\n",
       "2019-09-11  3.611449 -5.591929\n",
       "2019-09-12  4.185543 -5.686981\n",
       "...              ...       ...\n",
       "2020-12-03 -2.737893 -2.324610\n",
       "2020-12-04 -4.822346 -1.696127\n",
       "2020-12-07 -3.823310 -2.004377\n",
       "2020-12-08 -4.398464 -1.791823\n",
       "2020-12-09 -4.476754 -1.656830\n",
       "\n",
       "[319 rows x 2 columns]"
      ]
     },
     "execution_count": 126,
     "metadata": {},
     "output_type": "execute_result"
    }
   ],
   "source": [
    "positions.dropna()"
   ]
  },
  {
   "cell_type": "code",
   "execution_count": 131,
   "id": "53a8fb20-1f8a-4688-be2e-4ede8efcabee",
   "metadata": {
    "tags": []
   },
   "outputs": [
    {
     "data": {
      "text/html": [
       "<div>\n",
       "<style scoped>\n",
       "    .dataframe tbody tr th:only-of-type {\n",
       "        vertical-align: middle;\n",
       "    }\n",
       "\n",
       "    .dataframe tbody tr th {\n",
       "        vertical-align: top;\n",
       "    }\n",
       "\n",
       "    .dataframe thead th {\n",
       "        text-align: right;\n",
       "    }\n",
       "</style>\n",
       "<table border=\"1\" class=\"dataframe\">\n",
       "  <thead>\n",
       "    <tr style=\"text-align: right;\">\n",
       "      <th></th>\n",
       "      <th>XLE</th>\n",
       "      <th>XLU</th>\n",
       "    </tr>\n",
       "    <tr>\n",
       "      <th>datetime</th>\n",
       "      <th></th>\n",
       "      <th></th>\n",
       "    </tr>\n",
       "  </thead>\n",
       "  <tbody>\n",
       "    <tr>\n",
       "      <th>2019-02-15</th>\n",
       "      <td>NaN</td>\n",
       "      <td>NaN</td>\n",
       "    </tr>\n",
       "    <tr>\n",
       "      <th>2019-02-19</th>\n",
       "      <td>NaN</td>\n",
       "      <td>NaN</td>\n",
       "    </tr>\n",
       "    <tr>\n",
       "      <th>2019-02-20</th>\n",
       "      <td>NaN</td>\n",
       "      <td>NaN</td>\n",
       "    </tr>\n",
       "    <tr>\n",
       "      <th>2019-02-21</th>\n",
       "      <td>NaN</td>\n",
       "      <td>NaN</td>\n",
       "    </tr>\n",
       "    <tr>\n",
       "      <th>2019-02-22</th>\n",
       "      <td>NaN</td>\n",
       "      <td>NaN</td>\n",
       "    </tr>\n",
       "    <tr>\n",
       "      <th>...</th>\n",
       "      <td>...</td>\n",
       "      <td>...</td>\n",
       "    </tr>\n",
       "    <tr>\n",
       "      <th>2020-12-03</th>\n",
       "      <td>-0.024892</td>\n",
       "      <td>0.031010</td>\n",
       "    </tr>\n",
       "    <tr>\n",
       "      <th>2020-12-04</th>\n",
       "      <td>-0.149223</td>\n",
       "      <td>0.023231</td>\n",
       "    </tr>\n",
       "    <tr>\n",
       "      <th>2020-12-07</th>\n",
       "      <td>0.112755</td>\n",
       "      <td>-0.009512</td>\n",
       "    </tr>\n",
       "    <tr>\n",
       "      <th>2020-12-08</th>\n",
       "      <td>-0.056849</td>\n",
       "      <td>0.006068</td>\n",
       "    </tr>\n",
       "    <tr>\n",
       "      <th>2020-12-09</th>\n",
       "      <td>-0.009830</td>\n",
       "      <td>0.003150</td>\n",
       "    </tr>\n",
       "  </tbody>\n",
       "</table>\n",
       "<p>459 rows × 2 columns</p>\n",
       "</div>"
      ],
      "text/plain": [
       "                 XLE       XLU\n",
       "datetime                      \n",
       "2019-02-15       NaN       NaN\n",
       "2019-02-19       NaN       NaN\n",
       "2019-02-20       NaN       NaN\n",
       "2019-02-21       NaN       NaN\n",
       "2019-02-22       NaN       NaN\n",
       "...              ...       ...\n",
       "2020-12-03 -0.024892  0.031010\n",
       "2020-12-04 -0.149223  0.023231\n",
       "2020-12-07  0.112755 -0.009512\n",
       "2020-12-08 -0.056849  0.006068\n",
       "2020-12-09 -0.009830  0.003150\n",
       "\n",
       "[459 rows x 2 columns]"
      ]
     },
     "execution_count": 131,
     "metadata": {},
     "output_type": "execute_result"
    }
   ],
   "source": [
    "pnl = positions.shift(1) * (price - price.shift(1)) / price.shift(1)\n",
    "pnl"
   ]
  },
  {
   "cell_type": "code",
   "execution_count": 133,
   "id": "4ba5da18-a858-48ac-857b-c1cebc74278a",
   "metadata": {
    "tags": []
   },
   "outputs": [
    {
     "data": {
      "text/plain": [
       "datetime\n",
       "2019-02-15         NaN\n",
       "2019-02-19         NaN\n",
       "2019-02-20         NaN\n",
       "2019-02-21         NaN\n",
       "2019-02-22         NaN\n",
       "                ...   \n",
       "2020-12-03    0.001140\n",
       "2020-12-04   -0.024887\n",
       "2020-12-07    0.015838\n",
       "2020-12-08   -0.008714\n",
       "2020-12-09   -0.001079\n",
       "Length: 459, dtype: float64"
      ]
     },
     "execution_count": 133,
     "metadata": {},
     "output_type": "execute_result"
    }
   ],
   "source": [
    "ret = pnl.sum(axis=1) / positions.shift(1).sum(axis=1).abs()\n",
    "ret"
   ]
  },
  {
   "cell_type": "code",
   "execution_count": 145,
   "id": "e497c6e7-c93f-4ea9-a5f8-84dd79649a8c",
   "metadata": {
    "tags": []
   },
   "outputs": [
    {
     "data": {
      "text/plain": [
       "count    318.000000\n",
       "mean       0.010711\n",
       "std        0.182124\n",
       "min       -0.806434\n",
       "25%       -0.022042\n",
       "50%       -0.000725\n",
       "75%        0.017288\n",
       "max        2.131762\n",
       "dtype: float64"
      ]
     },
     "execution_count": 145,
     "metadata": {},
     "output_type": "execute_result"
    }
   ],
   "source": [
    "ret.dropna().describe()"
   ]
  },
  {
   "cell_type": "code",
   "execution_count": 142,
   "id": "2acc2fe7-6b25-4da5-bfd7-981f4495e2e8",
   "metadata": {
    "tags": []
   },
   "outputs": [
    {
     "data": {
      "text/plain": [
       "count    318.000000\n",
       "mean       0.010711\n",
       "std        0.182124\n",
       "min       -0.806434\n",
       "25%       -0.022042\n",
       "50%       -0.000725\n",
       "75%        0.017288\n",
       "max        2.131762\n",
       "dtype: float64"
      ]
     },
     "execution_count": 142,
     "metadata": {},
     "output_type": "execute_result"
    }
   ],
   "source": [
    "ret.describe()"
   ]
  },
  {
   "cell_type": "code",
   "execution_count": 135,
   "id": "2e7d26ab-61d8-4ce7-a2f2-98b05f32eaf3",
   "metadata": {
    "tags": []
   },
   "outputs": [
    {
     "data": {
      "text/plain": [
       "<Axes: xlabel='datetime'>"
      ]
     },
     "execution_count": 135,
     "metadata": {},
     "output_type": "execute_result"
    },
    {
     "data": {
      "image/png": "[encoded data removed]",
      "text/plain": [
       "<Figure size 640x480 with 1 Axes>"
      ]
     },
     "metadata": {},
     "output_type": "display_data"
    }
   ],
   "source": [
    "ret.cumsum().plot()"
   ]
  },
  {
   "cell_type": "code",
   "execution_count": 136,
   "id": "d8d2b847-2cbf-4836-b501-f96543b475a2",
   "metadata": {
    "tags": []
   },
   "outputs": [
    {
     "data": {
      "text/plain": [
       "0.9335927300959367"
      ]
     },
     "execution_count": 136,
     "metadata": {},
     "output_type": "execute_result"
    }
   ],
   "source": [
    "sharp_ratio = math.sqrt(252)*ret.mean()/ret.std()\n",
    "sharp_ratio"
   ]
  },
  {
   "cell_type": "code",
   "execution_count": 137,
   "id": "89141da2-440e-45bf-af4f-8f29e9203cfe",
   "metadata": {
    "tags": []
   },
   "outputs": [
    {
     "data": {
      "text/html": [
       "<div>\n",
       "<style scoped>\n",
       "    .dataframe tbody tr th:only-of-type {\n",
       "        vertical-align: middle;\n",
       "    }\n",
       "\n",
       "    .dataframe tbody tr th {\n",
       "        vertical-align: top;\n",
       "    }\n",
       "\n",
       "    .dataframe thead th {\n",
       "        text-align: right;\n",
       "    }\n",
       "</style>\n",
       "<table border=\"1\" class=\"dataframe\">\n",
       "  <thead>\n",
       "    <tr style=\"text-align: right;\">\n",
       "      <th></th>\n",
       "      <th>ret</th>\n",
       "      <th>lagged_ret</th>\n",
       "      <th>high_watermark_index</th>\n",
       "    </tr>\n",
       "    <tr>\n",
       "      <th>datetime</th>\n",
       "      <th></th>\n",
       "      <th></th>\n",
       "      <th></th>\n",
       "    </tr>\n",
       "  </thead>\n",
       "  <tbody>\n",
       "    <tr>\n",
       "      <th>2019-09-09</th>\n",
       "      <td>0.094976</td>\n",
       "      <td>0.000000</td>\n",
       "      <td>2019-09-09</td>\n",
       "    </tr>\n",
       "    <tr>\n",
       "      <th>2019-09-10</th>\n",
       "      <td>0.261135</td>\n",
       "      <td>0.094976</td>\n",
       "      <td>2019-09-10</td>\n",
       "    </tr>\n",
       "    <tr>\n",
       "      <th>2019-09-11</th>\n",
       "      <td>0.216376</td>\n",
       "      <td>0.261135</td>\n",
       "      <td>2019-09-11</td>\n",
       "    </tr>\n",
       "    <tr>\n",
       "      <th>2019-09-12</th>\n",
       "      <td>0.198758</td>\n",
       "      <td>0.216376</td>\n",
       "      <td>2019-09-12</td>\n",
       "    </tr>\n",
       "    <tr>\n",
       "      <th>2019-09-13</th>\n",
       "      <td>0.244759</td>\n",
       "      <td>0.198758</td>\n",
       "      <td>2019-09-13</td>\n",
       "    </tr>\n",
       "    <tr>\n",
       "      <th>...</th>\n",
       "      <td>...</td>\n",
       "      <td>...</td>\n",
       "      <td>...</td>\n",
       "    </tr>\n",
       "    <tr>\n",
       "      <th>2020-12-03</th>\n",
       "      <td>3.424889</td>\n",
       "      <td>3.423748</td>\n",
       "      <td>2020-12-03</td>\n",
       "    </tr>\n",
       "    <tr>\n",
       "      <th>2020-12-04</th>\n",
       "      <td>3.400001</td>\n",
       "      <td>3.424889</td>\n",
       "      <td>2020-12-04</td>\n",
       "    </tr>\n",
       "    <tr>\n",
       "      <th>2020-12-07</th>\n",
       "      <td>3.415840</td>\n",
       "      <td>3.400001</td>\n",
       "      <td>2020-12-07</td>\n",
       "    </tr>\n",
       "    <tr>\n",
       "      <th>2020-12-08</th>\n",
       "      <td>3.407126</td>\n",
       "      <td>3.415840</td>\n",
       "      <td>2020-12-08</td>\n",
       "    </tr>\n",
       "    <tr>\n",
       "      <th>2020-12-09</th>\n",
       "      <td>3.406047</td>\n",
       "      <td>3.407126</td>\n",
       "      <td>2020-12-09</td>\n",
       "    </tr>\n",
       "  </tbody>\n",
       "</table>\n",
       "<p>318 rows × 3 columns</p>\n",
       "</div>"
      ],
      "text/plain": [
       "                 ret  lagged_ret high_watermark_index\n",
       "datetime                                             \n",
       "2019-09-09  0.094976    0.000000           2019-09-09\n",
       "2019-09-10  0.261135    0.094976           2019-09-10\n",
       "2019-09-11  0.216376    0.261135           2019-09-11\n",
       "2019-09-12  0.198758    0.216376           2019-09-12\n",
       "2019-09-13  0.244759    0.198758           2019-09-13\n",
       "...              ...         ...                  ...\n",
       "2020-12-03  3.424889    3.423748           2020-12-03\n",
       "2020-12-04  3.400001    3.424889           2020-12-04\n",
       "2020-12-07  3.415840    3.400001           2020-12-07\n",
       "2020-12-08  3.407126    3.415840           2020-12-08\n",
       "2020-12-09  3.406047    3.407126           2020-12-09\n",
       "\n",
       "[318 rows x 3 columns]"
      ]
     },
     "execution_count": 137,
     "metadata": {},
     "output_type": "execute_result"
    }
   ],
   "source": [
    "term = pd.DataFrame({\n",
    "    \"ret\": ret.cumsum().dropna(),\n",
    "    'lagged_ret': ret.cumsum().dropna().shift(1),\n",
    "    'high_watermark_index': ret.cumsum().dropna().index\n",
    "})\n",
    "term['lagged_ret'] = term['lagged_ret'].fillna(0)\n",
    "term"
   ]
  },
  {
   "cell_type": "code",
   "execution_count": 138,
   "id": "9694246e-144e-41e2-ba64-6df9912a8ed0",
   "metadata": {
    "tags": []
   },
   "outputs": [
    {
     "data": {
      "text/html": [
       "<div>\n",
       "<style scoped>\n",
       "    .dataframe tbody tr th:only-of-type {\n",
       "        vertical-align: middle;\n",
       "    }\n",
       "\n",
       "    .dataframe tbody tr th {\n",
       "        vertical-align: top;\n",
       "    }\n",
       "\n",
       "    .dataframe thead th {\n",
       "        text-align: right;\n",
       "    }\n",
       "</style>\n",
       "<table border=\"1\" class=\"dataframe\">\n",
       "  <thead>\n",
       "    <tr style=\"text-align: right;\">\n",
       "      <th></th>\n",
       "      <th>ret</th>\n",
       "      <th>lagged_ret</th>\n",
       "      <th>high_watermark_index</th>\n",
       "    </tr>\n",
       "    <tr>\n",
       "      <th>datetime</th>\n",
       "      <th></th>\n",
       "      <th></th>\n",
       "      <th></th>\n",
       "    </tr>\n",
       "  </thead>\n",
       "  <tbody>\n",
       "    <tr>\n",
       "      <th>2019-09-09</th>\n",
       "      <td>0.094976</td>\n",
       "      <td>0.000000</td>\n",
       "      <td>2019-09-09</td>\n",
       "    </tr>\n",
       "    <tr>\n",
       "      <th>2019-09-10</th>\n",
       "      <td>0.261135</td>\n",
       "      <td>0.094976</td>\n",
       "      <td>2019-09-10</td>\n",
       "    </tr>\n",
       "    <tr>\n",
       "      <th>2019-09-11</th>\n",
       "      <td>0.216376</td>\n",
       "      <td>0.261135</td>\n",
       "      <td>2019-09-10</td>\n",
       "    </tr>\n",
       "    <tr>\n",
       "      <th>2019-09-12</th>\n",
       "      <td>0.198758</td>\n",
       "      <td>0.216376</td>\n",
       "      <td>2019-09-10</td>\n",
       "    </tr>\n",
       "    <tr>\n",
       "      <th>2019-09-13</th>\n",
       "      <td>0.244759</td>\n",
       "      <td>0.198758</td>\n",
       "      <td>2019-09-10</td>\n",
       "    </tr>\n",
       "    <tr>\n",
       "      <th>...</th>\n",
       "      <td>...</td>\n",
       "      <td>...</td>\n",
       "      <td>...</td>\n",
       "    </tr>\n",
       "    <tr>\n",
       "      <th>2020-12-03</th>\n",
       "      <td>3.424889</td>\n",
       "      <td>3.423748</td>\n",
       "      <td>2020-11-30</td>\n",
       "    </tr>\n",
       "    <tr>\n",
       "      <th>2020-12-04</th>\n",
       "      <td>3.400001</td>\n",
       "      <td>3.424889</td>\n",
       "      <td>2020-11-30</td>\n",
       "    </tr>\n",
       "    <tr>\n",
       "      <th>2020-12-07</th>\n",
       "      <td>3.415840</td>\n",
       "      <td>3.400001</td>\n",
       "      <td>2020-11-30</td>\n",
       "    </tr>\n",
       "    <tr>\n",
       "      <th>2020-12-08</th>\n",
       "      <td>3.407126</td>\n",
       "      <td>3.415840</td>\n",
       "      <td>2020-11-30</td>\n",
       "    </tr>\n",
       "    <tr>\n",
       "      <th>2020-12-09</th>\n",
       "      <td>3.406047</td>\n",
       "      <td>3.407126</td>\n",
       "      <td>2020-11-30</td>\n",
       "    </tr>\n",
       "  </tbody>\n",
       "</table>\n",
       "<p>318 rows × 3 columns</p>\n",
       "</div>"
      ],
      "text/plain": [
       "                 ret  lagged_ret high_watermark_index\n",
       "datetime                                             \n",
       "2019-09-09  0.094976    0.000000           2019-09-09\n",
       "2019-09-10  0.261135    0.094976           2019-09-10\n",
       "2019-09-11  0.216376    0.261135           2019-09-10\n",
       "2019-09-12  0.198758    0.216376           2019-09-10\n",
       "2019-09-13  0.244759    0.198758           2019-09-10\n",
       "...              ...         ...                  ...\n",
       "2020-12-03  3.424889    3.423748           2020-11-30\n",
       "2020-12-04  3.400001    3.424889           2020-11-30\n",
       "2020-12-07  3.415840    3.400001           2020-11-30\n",
       "2020-12-08  3.407126    3.415840           2020-11-30\n",
       "2020-12-09  3.406047    3.407126           2020-11-30\n",
       "\n",
       "[318 rows x 3 columns]"
      ]
     },
     "execution_count": 138,
     "metadata": {},
     "output_type": "execute_result"
    }
   ],
   "source": [
    "highest_watermark_index = term.iloc[0]['high_watermark_index']\n",
    "for d in term.index:\n",
    "    row = term.loc[d]\n",
    "    if row['ret'] >= term.loc[highest_watermark_index]['ret']:\n",
    "        highest_watermark_index = d\n",
    "    term.loc[d, 'high_watermark_index']= highest_watermark_index\n",
    "term"
   ]
  },
  {
   "cell_type": "code",
   "execution_count": 139,
   "id": "575f6a99-b078-41d6-ba84-83e9bf54c858",
   "metadata": {
    "tags": []
   },
   "outputs": [
    {
     "data": {
      "text/html": [
       "<div>\n",
       "<style scoped>\n",
       "    .dataframe tbody tr th:only-of-type {\n",
       "        vertical-align: middle;\n",
       "    }\n",
       "\n",
       "    .dataframe tbody tr th {\n",
       "        vertical-align: top;\n",
       "    }\n",
       "\n",
       "    .dataframe thead th {\n",
       "        text-align: right;\n",
       "    }\n",
       "</style>\n",
       "<table border=\"1\" class=\"dataframe\">\n",
       "  <thead>\n",
       "    <tr style=\"text-align: right;\">\n",
       "      <th></th>\n",
       "      <th>ret</th>\n",
       "      <th>lagged_ret</th>\n",
       "      <th>high_watermark_index</th>\n",
       "      <th>high_watermark_ret</th>\n",
       "      <th>drawdown_deep</th>\n",
       "      <th>drawdown_duration</th>\n",
       "    </tr>\n",
       "    <tr>\n",
       "      <th>datetime</th>\n",
       "      <th></th>\n",
       "      <th></th>\n",
       "      <th></th>\n",
       "      <th></th>\n",
       "      <th></th>\n",
       "      <th></th>\n",
       "    </tr>\n",
       "  </thead>\n",
       "  <tbody>\n",
       "    <tr>\n",
       "      <th>2019-09-09</th>\n",
       "      <td>0.094976</td>\n",
       "      <td>0.000000</td>\n",
       "      <td>2019-09-09</td>\n",
       "      <td>0.094976</td>\n",
       "      <td>0.000000</td>\n",
       "      <td>0 days</td>\n",
       "    </tr>\n",
       "    <tr>\n",
       "      <th>2019-09-10</th>\n",
       "      <td>0.261135</td>\n",
       "      <td>0.094976</td>\n",
       "      <td>2019-09-10</td>\n",
       "      <td>0.261135</td>\n",
       "      <td>0.000000</td>\n",
       "      <td>0 days</td>\n",
       "    </tr>\n",
       "    <tr>\n",
       "      <th>2019-09-11</th>\n",
       "      <td>0.216376</td>\n",
       "      <td>0.261135</td>\n",
       "      <td>2019-09-10</td>\n",
       "      <td>0.261135</td>\n",
       "      <td>0.044758</td>\n",
       "      <td>1 days</td>\n",
       "    </tr>\n",
       "    <tr>\n",
       "      <th>2019-09-12</th>\n",
       "      <td>0.198758</td>\n",
       "      <td>0.216376</td>\n",
       "      <td>2019-09-10</td>\n",
       "      <td>0.261135</td>\n",
       "      <td>0.062376</td>\n",
       "      <td>2 days</td>\n",
       "    </tr>\n",
       "    <tr>\n",
       "      <th>2019-09-13</th>\n",
       "      <td>0.244759</td>\n",
       "      <td>0.198758</td>\n",
       "      <td>2019-09-10</td>\n",
       "      <td>0.261135</td>\n",
       "      <td>0.016376</td>\n",
       "      <td>3 days</td>\n",
       "    </tr>\n",
       "    <tr>\n",
       "      <th>...</th>\n",
       "      <td>...</td>\n",
       "      <td>...</td>\n",
       "      <td>...</td>\n",
       "      <td>...</td>\n",
       "      <td>...</td>\n",
       "      <td>...</td>\n",
       "    </tr>\n",
       "    <tr>\n",
       "      <th>2020-12-03</th>\n",
       "      <td>3.424889</td>\n",
       "      <td>3.423748</td>\n",
       "      <td>2020-11-30</td>\n",
       "      <td>3.445068</td>\n",
       "      <td>0.020179</td>\n",
       "      <td>3 days</td>\n",
       "    </tr>\n",
       "    <tr>\n",
       "      <th>2020-12-04</th>\n",
       "      <td>3.400001</td>\n",
       "      <td>3.424889</td>\n",
       "      <td>2020-11-30</td>\n",
       "      <td>3.445068</td>\n",
       "      <td>0.045067</td>\n",
       "      <td>4 days</td>\n",
       "    </tr>\n",
       "    <tr>\n",
       "      <th>2020-12-07</th>\n",
       "      <td>3.415840</td>\n",
       "      <td>3.400001</td>\n",
       "      <td>2020-11-30</td>\n",
       "      <td>3.445068</td>\n",
       "      <td>0.029228</td>\n",
       "      <td>7 days</td>\n",
       "    </tr>\n",
       "    <tr>\n",
       "      <th>2020-12-08</th>\n",
       "      <td>3.407126</td>\n",
       "      <td>3.415840</td>\n",
       "      <td>2020-11-30</td>\n",
       "      <td>3.445068</td>\n",
       "      <td>0.037942</td>\n",
       "      <td>8 days</td>\n",
       "    </tr>\n",
       "    <tr>\n",
       "      <th>2020-12-09</th>\n",
       "      <td>3.406047</td>\n",
       "      <td>3.407126</td>\n",
       "      <td>2020-11-30</td>\n",
       "      <td>3.445068</td>\n",
       "      <td>0.039021</td>\n",
       "      <td>9 days</td>\n",
       "    </tr>\n",
       "  </tbody>\n",
       "</table>\n",
       "<p>318 rows × 6 columns</p>\n",
       "</div>"
      ],
      "text/plain": [
       "                 ret  lagged_ret high_watermark_index  high_watermark_ret  \\\n",
       "datetime                                                                    \n",
       "2019-09-09  0.094976    0.000000           2019-09-09            0.094976   \n",
       "2019-09-10  0.261135    0.094976           2019-09-10            0.261135   \n",
       "2019-09-11  0.216376    0.261135           2019-09-10            0.261135   \n",
       "2019-09-12  0.198758    0.216376           2019-09-10            0.261135   \n",
       "2019-09-13  0.244759    0.198758           2019-09-10            0.261135   \n",
       "...              ...         ...                  ...                 ...   \n",
       "2020-12-03  3.424889    3.423748           2020-11-30            3.445068   \n",
       "2020-12-04  3.400001    3.424889           2020-11-30            3.445068   \n",
       "2020-12-07  3.415840    3.400001           2020-11-30            3.445068   \n",
       "2020-12-08  3.407126    3.415840           2020-11-30            3.445068   \n",
       "2020-12-09  3.406047    3.407126           2020-11-30            3.445068   \n",
       "\n",
       "            drawdown_deep drawdown_duration  \n",
       "datetime                                     \n",
       "2019-09-09       0.000000            0 days  \n",
       "2019-09-10       0.000000            0 days  \n",
       "2019-09-11       0.044758            1 days  \n",
       "2019-09-12       0.062376            2 days  \n",
       "2019-09-13       0.016376            3 days  \n",
       "...                   ...               ...  \n",
       "2020-12-03       0.020179            3 days  \n",
       "2020-12-04       0.045067            4 days  \n",
       "2020-12-07       0.029228            7 days  \n",
       "2020-12-08       0.037942            8 days  \n",
       "2020-12-09       0.039021            9 days  \n",
       "\n",
       "[318 rows x 6 columns]"
      ]
     },
     "execution_count": 139,
     "metadata": {},
     "output_type": "execute_result"
    }
   ],
   "source": [
    "term['high_watermark_ret'] = term.apply(lambda x: term.loc[x['high_watermark_index']]['ret'], axis=1)\n",
    "term['drawdown_deep'] = term['high_watermark_ret'] - term['ret']\n",
    "term['drawdown_duration'] = term.index - term['high_watermark_index']\n",
    "term"
   ]
  },
  {
   "cell_type": "code",
   "execution_count": 140,
   "id": "130da5b2-3bf4-4883-8974-731276ab96f0",
   "metadata": {
    "tags": []
   },
   "outputs": [
    {
     "data": {
      "text/html": [
       "<div>\n",
       "<style scoped>\n",
       "    .dataframe tbody tr th:only-of-type {\n",
       "        vertical-align: middle;\n",
       "    }\n",
       "\n",
       "    .dataframe tbody tr th {\n",
       "        vertical-align: top;\n",
       "    }\n",
       "\n",
       "    .dataframe thead th {\n",
       "        text-align: right;\n",
       "    }\n",
       "</style>\n",
       "<table border=\"1\" class=\"dataframe\">\n",
       "  <thead>\n",
       "    <tr style=\"text-align: right;\">\n",
       "      <th></th>\n",
       "      <th>ret</th>\n",
       "      <th>lagged_ret</th>\n",
       "      <th>high_watermark_index</th>\n",
       "      <th>high_watermark_ret</th>\n",
       "      <th>drawdown_deep</th>\n",
       "      <th>drawdown_duration</th>\n",
       "    </tr>\n",
       "  </thead>\n",
       "  <tbody>\n",
       "    <tr>\n",
       "      <th>count</th>\n",
       "      <td>318.000000</td>\n",
       "      <td>318.000000</td>\n",
       "      <td>318</td>\n",
       "      <td>318.000000</td>\n",
       "      <td>318.000000</td>\n",
       "      <td>318</td>\n",
       "    </tr>\n",
       "    <tr>\n",
       "      <th>mean</th>\n",
       "      <td>0.734681</td>\n",
       "      <td>0.723970</td>\n",
       "      <td>2019-11-29 18:47:32.830188800</td>\n",
       "      <td>1.818962</td>\n",
       "      <td>1.084281</td>\n",
       "      <td>146 days 15:46:24.905660378</td>\n",
       "    </tr>\n",
       "    <tr>\n",
       "      <th>min</th>\n",
       "      <td>-0.583775</td>\n",
       "      <td>-0.583775</td>\n",
       "      <td>2019-09-09 00:00:00</td>\n",
       "      <td>0.094976</td>\n",
       "      <td>0.000000</td>\n",
       "      <td>0 days 00:00:00</td>\n",
       "    </tr>\n",
       "    <tr>\n",
       "      <th>25%</th>\n",
       "      <td>0.046208</td>\n",
       "      <td>0.042876</td>\n",
       "      <td>2019-11-11 00:00:00</td>\n",
       "      <td>1.928285</td>\n",
       "      <td>0.129080</td>\n",
       "      <td>32 days 00:00:00</td>\n",
       "    </tr>\n",
       "    <tr>\n",
       "      <th>50%</th>\n",
       "      <td>0.332577</td>\n",
       "      <td>0.328887</td>\n",
       "      <td>2019-11-11 00:00:00</td>\n",
       "      <td>1.928285</td>\n",
       "      <td>1.354279</td>\n",
       "      <td>134 days 12:00:00</td>\n",
       "    </tr>\n",
       "    <tr>\n",
       "      <th>75%</th>\n",
       "      <td>1.537471</td>\n",
       "      <td>1.529226</td>\n",
       "      <td>2019-11-11 00:00:00</td>\n",
       "      <td>1.928285</td>\n",
       "      <td>1.825749</td>\n",
       "      <td>248 days 18:00:00</td>\n",
       "    </tr>\n",
       "    <tr>\n",
       "      <th>max</th>\n",
       "      <td>3.445068</td>\n",
       "      <td>3.445068</td>\n",
       "      <td>2020-11-30 00:00:00</td>\n",
       "      <td>3.445068</td>\n",
       "      <td>2.330159</td>\n",
       "      <td>361 days 00:00:00</td>\n",
       "    </tr>\n",
       "    <tr>\n",
       "      <th>std</th>\n",
       "      <td>1.027358</td>\n",
       "      <td>1.017124</td>\n",
       "      <td>NaN</td>\n",
       "      <td>0.694014</td>\n",
       "      <td>0.786364</td>\n",
       "      <td>116 days 11:29:30.775890954</td>\n",
       "    </tr>\n",
       "  </tbody>\n",
       "</table>\n",
       "</div>"
      ],
      "text/plain": [
       "              ret  lagged_ret           high_watermark_index  \\\n",
       "count  318.000000  318.000000                            318   \n",
       "mean     0.734681    0.723970  2019-11-29 18:47:32.830188800   \n",
       "min     -0.583775   -0.583775            2019-09-09 00:00:00   \n",
       "25%      0.046208    0.042876            2019-11-11 00:00:00   \n",
       "50%      0.332577    0.328887            2019-11-11 00:00:00   \n",
       "75%      1.537471    1.529226            2019-11-11 00:00:00   \n",
       "max      3.445068    3.445068            2020-11-30 00:00:00   \n",
       "std      1.027358    1.017124                            NaN   \n",
       "\n",
       "       high_watermark_ret  drawdown_deep            drawdown_duration  \n",
       "count          318.000000     318.000000                          318  \n",
       "mean             1.818962       1.084281  146 days 15:46:24.905660378  \n",
       "min              0.094976       0.000000              0 days 00:00:00  \n",
       "25%              1.928285       0.129080             32 days 00:00:00  \n",
       "50%              1.928285       1.354279            134 days 12:00:00  \n",
       "75%              1.928285       1.825749            248 days 18:00:00  \n",
       "max              3.445068       2.330159            361 days 00:00:00  \n",
       "std              0.694014       0.786364  116 days 11:29:30.775890954  "
      ]
     },
     "execution_count": 140,
     "metadata": {},
     "output_type": "execute_result"
    }
   ],
   "source": [
    "term.describe()"
   ]
  },
  {
   "cell_type": "markdown",
   "id": "86d01aa9-67d9-47cd-9e77-3b3ba18f4f98",
   "metadata": {},
   "source": [
    "# Bollinger Band"
   ]
  },
  {
   "cell_type": "code",
   "execution_count": 146,
   "id": "49052efa-edf5-4aec-9015-fedc09b4861e",
   "metadata": {
    "tags": []
   },
   "outputs": [
    {
     "data": {
      "text/html": [
       "<div>\n",
       "<style scoped>\n",
       "    .dataframe tbody tr th:only-of-type {\n",
       "        vertical-align: middle;\n",
       "    }\n",
       "\n",
       "    .dataframe tbody tr th {\n",
       "        vertical-align: top;\n",
       "    }\n",
       "\n",
       "    .dataframe thead th {\n",
       "        text-align: right;\n",
       "    }\n",
       "</style>\n",
       "<table border=\"1\" class=\"dataframe\">\n",
       "  <thead>\n",
       "    <tr style=\"text-align: right;\">\n",
       "      <th></th>\n",
       "      <th>XLE</th>\n",
       "      <th>XLU</th>\n",
       "    </tr>\n",
       "    <tr>\n",
       "      <th>datetime</th>\n",
       "      <th></th>\n",
       "      <th></th>\n",
       "    </tr>\n",
       "  </thead>\n",
       "  <tbody>\n",
       "    <tr>\n",
       "      <th>2019-02-15</th>\n",
       "      <td>66.12</td>\n",
       "      <td>55.71</td>\n",
       "    </tr>\n",
       "    <tr>\n",
       "      <th>2019-02-19</th>\n",
       "      <td>66.32</td>\n",
       "      <td>56.04</td>\n",
       "    </tr>\n",
       "    <tr>\n",
       "      <th>2019-02-20</th>\n",
       "      <td>66.60</td>\n",
       "      <td>56.29</td>\n",
       "    </tr>\n",
       "    <tr>\n",
       "      <th>2019-02-21</th>\n",
       "      <td>65.57</td>\n",
       "      <td>56.70</td>\n",
       "    </tr>\n",
       "    <tr>\n",
       "      <th>2019-02-22</th>\n",
       "      <td>65.76</td>\n",
       "      <td>57.05</td>\n",
       "    </tr>\n",
       "    <tr>\n",
       "      <th>...</th>\n",
       "      <td>...</td>\n",
       "      <td>...</td>\n",
       "    </tr>\n",
       "    <tr>\n",
       "      <th>2020-12-03</th>\n",
       "      <td>38.53</td>\n",
       "      <td>63.04</td>\n",
       "    </tr>\n",
       "    <tr>\n",
       "      <th>2020-12-04</th>\n",
       "      <td>40.63</td>\n",
       "      <td>62.41</td>\n",
       "    </tr>\n",
       "    <tr>\n",
       "      <th>2020-12-07</th>\n",
       "      <td>39.68</td>\n",
       "      <td>62.76</td>\n",
       "    </tr>\n",
       "    <tr>\n",
       "      <th>2020-12-08</th>\n",
       "      <td>40.27</td>\n",
       "      <td>62.57</td>\n",
       "    </tr>\n",
       "    <tr>\n",
       "      <th>2020-12-09</th>\n",
       "      <td>40.36</td>\n",
       "      <td>62.46</td>\n",
       "    </tr>\n",
       "  </tbody>\n",
       "</table>\n",
       "<p>459 rows × 2 columns</p>\n",
       "</div>"
      ],
      "text/plain": [
       "              XLE    XLU\n",
       "datetime                \n",
       "2019-02-15  66.12  55.71\n",
       "2019-02-19  66.32  56.04\n",
       "2019-02-20  66.60  56.29\n",
       "2019-02-21  65.57  56.70\n",
       "2019-02-22  65.76  57.05\n",
       "...           ...    ...\n",
       "2020-12-03  38.53  63.04\n",
       "2020-12-04  40.63  62.41\n",
       "2020-12-07  39.68  62.76\n",
       "2020-12-08  40.27  62.57\n",
       "2020-12-09  40.36  62.46\n",
       "\n",
       "[459 rows x 2 columns]"
      ]
     },
     "execution_count": 146,
     "metadata": {},
     "output_type": "execute_result"
    }
   ],
   "source": [
    "price = validation_data\n",
    "price"
   ]
  },
  {
   "cell_type": "code",
   "execution_count": 147,
   "id": "a1cb09dc-3cd0-43ec-bc60-715ca839b15f",
   "metadata": {
    "tags": []
   },
   "outputs": [
    {
     "data": {
      "text/html": [
       "<div>\n",
       "<style scoped>\n",
       "    .dataframe tbody tr th:only-of-type {\n",
       "        vertical-align: middle;\n",
       "    }\n",
       "\n",
       "    .dataframe tbody tr th {\n",
       "        vertical-align: top;\n",
       "    }\n",
       "\n",
       "    .dataframe thead th {\n",
       "        text-align: right;\n",
       "    }\n",
       "</style>\n",
       "<table border=\"1\" class=\"dataframe\">\n",
       "  <thead>\n",
       "    <tr style=\"text-align: right;\">\n",
       "      <th></th>\n",
       "      <th>XLE</th>\n",
       "      <th>XLU</th>\n",
       "    </tr>\n",
       "    <tr>\n",
       "      <th>datetime</th>\n",
       "      <th></th>\n",
       "      <th></th>\n",
       "    </tr>\n",
       "  </thead>\n",
       "  <tbody>\n",
       "    <tr>\n",
       "      <th>2019-02-15</th>\n",
       "      <td>0.091541</td>\n",
       "      <td>0.04026</td>\n",
       "    </tr>\n",
       "    <tr>\n",
       "      <th>2019-02-19</th>\n",
       "      <td>0.091541</td>\n",
       "      <td>0.04026</td>\n",
       "    </tr>\n",
       "    <tr>\n",
       "      <th>2019-02-20</th>\n",
       "      <td>0.091541</td>\n",
       "      <td>0.04026</td>\n",
       "    </tr>\n",
       "    <tr>\n",
       "      <th>2019-02-21</th>\n",
       "      <td>0.091541</td>\n",
       "      <td>0.04026</td>\n",
       "    </tr>\n",
       "    <tr>\n",
       "      <th>2019-02-22</th>\n",
       "      <td>0.091541</td>\n",
       "      <td>0.04026</td>\n",
       "    </tr>\n",
       "    <tr>\n",
       "      <th>...</th>\n",
       "      <td>...</td>\n",
       "      <td>...</td>\n",
       "    </tr>\n",
       "    <tr>\n",
       "      <th>2020-12-03</th>\n",
       "      <td>0.091541</td>\n",
       "      <td>0.04026</td>\n",
       "    </tr>\n",
       "    <tr>\n",
       "      <th>2020-12-04</th>\n",
       "      <td>0.091541</td>\n",
       "      <td>0.04026</td>\n",
       "    </tr>\n",
       "    <tr>\n",
       "      <th>2020-12-07</th>\n",
       "      <td>0.091541</td>\n",
       "      <td>0.04026</td>\n",
       "    </tr>\n",
       "    <tr>\n",
       "      <th>2020-12-08</th>\n",
       "      <td>0.091541</td>\n",
       "      <td>0.04026</td>\n",
       "    </tr>\n",
       "    <tr>\n",
       "      <th>2020-12-09</th>\n",
       "      <td>0.091541</td>\n",
       "      <td>0.04026</td>\n",
       "    </tr>\n",
       "  </tbody>\n",
       "</table>\n",
       "<p>459 rows × 2 columns</p>\n",
       "</div>"
      ],
      "text/plain": [
       "                 XLE      XLU\n",
       "datetime                     \n",
       "2019-02-15  0.091541  0.04026\n",
       "2019-02-19  0.091541  0.04026\n",
       "2019-02-20  0.091541  0.04026\n",
       "2019-02-21  0.091541  0.04026\n",
       "2019-02-22  0.091541  0.04026\n",
       "...              ...      ...\n",
       "2020-12-03  0.091541  0.04026\n",
       "2020-12-04  0.091541  0.04026\n",
       "2020-12-07  0.091541  0.04026\n",
       "2020-12-08  0.091541  0.04026\n",
       "2020-12-09  0.091541  0.04026\n",
       "\n",
       "[459 rows x 2 columns]"
      ]
     },
     "execution_count": 147,
     "metadata": {},
     "output_type": "execute_result"
    }
   ],
   "source": [
    "a, b = w1\n",
    "weights = pd.DataFrame({\n",
    "    \"XLE\": [a] * len(price),\n",
    "    \"XLU\": [b] * len(price)\n",
    "}, index=price.index)\n",
    "weights"
   ]
  },
  {
   "cell_type": "code",
   "execution_count": 148,
   "id": "b2806f9d-02f5-4af0-903b-dbc34a09d78c",
   "metadata": {
    "tags": []
   },
   "outputs": [],
   "source": [
    "entry_zscore = 1.5\n",
    "exit_zscore = 0"
   ]
  },
  {
   "cell_type": "code",
   "execution_count": 150,
   "id": "8495780b-b657-43f1-9202-1011146fd474",
   "metadata": {
    "tags": []
   },
   "outputs": [
    {
     "data": {
      "text/plain": [
       "datetime\n",
       "2019-02-15    8.295616\n",
       "2019-02-19    8.327210\n",
       "2019-02-20    8.362907\n",
       "2019-02-21    8.285126\n",
       "2019-02-22    8.316610\n",
       "                ...   \n",
       "2020-12-03    6.065093\n",
       "2020-12-04    6.231967\n",
       "2020-12-07    6.159093\n",
       "2020-12-08    6.205453\n",
       "2020-12-09    6.209263\n",
       "Length: 459, dtype: float64"
      ]
     },
     "execution_count": 150,
     "metadata": {},
     "output_type": "execute_result"
    }
   ],
   "source": [
    "spread = (weights * price).sum(axis=1)\n",
    "spread"
   ]
  },
  {
   "cell_type": "code",
   "execution_count": 153,
   "id": "b47c7c4a-87d6-4fd3-94f0-6485b6698cd6",
   "metadata": {
    "tags": []
   },
   "outputs": [
    {
     "data": {
      "text/plain": [
       "count    319.000000\n",
       "mean      -0.762254\n",
       "std        1.284404\n",
       "min       -6.038968\n",
       "25%       -1.120900\n",
       "50%       -0.566927\n",
       "75%       -0.138931\n",
       "max        1.835921\n",
       "dtype: float64"
      ]
     },
     "execution_count": 153,
     "metadata": {},
     "output_type": "execute_result"
    }
   ],
   "source": [
    "zscore_spread = (spread - spread.rolling(lookback).mean()) / spread.rolling(lookback).std()\n",
    "zscore_spread.describe()"
   ]
  },
  {
   "cell_type": "code",
   "execution_count": 176,
   "id": "37aee63e-f6c7-4f8b-844a-b99cc42105a8",
   "metadata": {
    "tags": []
   },
   "outputs": [],
   "source": [
    "long_entry = zscore_spread < -entry_zscore\n",
    "long_exit = zscore_spread >= exit_zscore\n",
    "short_entry = zscore_spread > entry_zscore\n",
    "short_exit = zscore_spread <= exit_zscore"
   ]
  },
  {
   "cell_type": "code",
   "execution_count": 189,
   "id": "fdd1927a-d3bf-412e-a459-9f93f23f24cc",
   "metadata": {
    "tags": []
   },
   "outputs": [],
   "source": [
    "num_unit_longs = pd.Series(np.NaN, index=zscore_spread.index)\n",
    "num_unit_shorts = pd.Series(np.NaN, index=zscore_spread.index)"
   ]
  },
  {
   "cell_type": "code",
   "execution_count": 190,
   "id": "bf10438d-ca46-4769-a376-1b0635e50165",
   "metadata": {
    "tags": []
   },
   "outputs": [
    {
     "data": {
      "text/plain": [
       "<Axes: xlabel='datetime'>"
      ]
     },
     "execution_count": 190,
     "metadata": {},
     "output_type": "execute_result"
    },
    {
     "data": {
      "image/png": "[encoded data removed]",
      "text/plain": [
       "<Figure size 640x480 with 1 Axes>"
      ]
     },
     "metadata": {},
     "output_type": "display_data"
    }
   ],
   "source": [
    "num_unit_longs.iloc[0] = 0\n",
    "num_unit_longs[long_entry] = 1\n",
    "num_unit_longs[long_exit] = 0\n",
    "num_unit_longs = num_unit_longs.fillna(method='ffill')\n",
    "num_unit_longs.plot()"
   ]
  },
  {
   "cell_type": "code",
   "execution_count": 191,
   "id": "22cd798d-9453-4d79-8b53-4913d8205514",
   "metadata": {
    "tags": []
   },
   "outputs": [
    {
     "data": {
      "text/plain": [
       "<Axes: xlabel='datetime'>"
      ]
     },
     "execution_count": 191,
     "metadata": {},
     "output_type": "execute_result"
    },
    {
     "data": {
      "image/png": "[encoded data removed]",
      "text/plain": [
       "<Figure size 640x480 with 1 Axes>"
      ]
     },
     "metadata": {},
     "output_type": "display_data"
    }
   ],
   "source": [
    "num_unit_shorts.iloc[0] = 0\n",
    "num_unit_shorts[short_entry] = -1\n",
    "num_unit_shorts[short_exit] = 0\n",
    "num_unit_shorts = num_unit_shorts.fillna(method='ffill')\n",
    "num_unit_shorts.plot()"
   ]
  },
  {
   "cell_type": "code",
   "execution_count": 192,
   "id": "edc0a228-f2e7-45f2-93f2-9d729e519841",
   "metadata": {
    "tags": []
   },
   "outputs": [
    {
     "data": {
      "text/plain": [
       "<Axes: xlabel='datetime'>"
      ]
     },
     "execution_count": 192,
     "metadata": {},
     "output_type": "execute_result"
    },
    {
     "data": {
      "image/png": "[encoded data removed]",
      "text/plain": [
       "<Figure size 640x480 with 1 Axes>"
      ]
     },
     "metadata": {},
     "output_type": "display_data"
    }
   ],
   "source": [
    "num_unit = num_unit_longs + num_unit_shorts\n",
    "num_unit.plot()"
   ]
  },
  {
   "cell_type": "code",
   "execution_count": 193,
   "id": "58f2ae25-78df-4f48-bf65-3d7e2cccfb35",
   "metadata": {
    "tags": []
   },
   "outputs": [
    {
     "data": {
      "text/html": [
       "<div>\n",
       "<style scoped>\n",
       "    .dataframe tbody tr th:only-of-type {\n",
       "        vertical-align: middle;\n",
       "    }\n",
       "\n",
       "    .dataframe tbody tr th {\n",
       "        vertical-align: top;\n",
       "    }\n",
       "\n",
       "    .dataframe thead th {\n",
       "        text-align: right;\n",
       "    }\n",
       "</style>\n",
       "<table border=\"1\" class=\"dataframe\">\n",
       "  <thead>\n",
       "    <tr style=\"text-align: right;\">\n",
       "      <th></th>\n",
       "      <th>XLE</th>\n",
       "      <th>XLU</th>\n",
       "    </tr>\n",
       "    <tr>\n",
       "      <th>datetime</th>\n",
       "      <th></th>\n",
       "      <th></th>\n",
       "    </tr>\n",
       "  </thead>\n",
       "  <tbody>\n",
       "    <tr>\n",
       "      <th>2019-02-15</th>\n",
       "      <td>0.000000</td>\n",
       "      <td>0.000000</td>\n",
       "    </tr>\n",
       "    <tr>\n",
       "      <th>2019-02-19</th>\n",
       "      <td>0.000000</td>\n",
       "      <td>0.000000</td>\n",
       "    </tr>\n",
       "    <tr>\n",
       "      <th>2019-02-20</th>\n",
       "      <td>0.000000</td>\n",
       "      <td>0.000000</td>\n",
       "    </tr>\n",
       "    <tr>\n",
       "      <th>2019-02-21</th>\n",
       "      <td>0.000000</td>\n",
       "      <td>0.000000</td>\n",
       "    </tr>\n",
       "    <tr>\n",
       "      <th>2019-02-22</th>\n",
       "      <td>0.000000</td>\n",
       "      <td>0.000000</td>\n",
       "    </tr>\n",
       "    <tr>\n",
       "      <th>...</th>\n",
       "      <td>...</td>\n",
       "      <td>...</td>\n",
       "    </tr>\n",
       "    <tr>\n",
       "      <th>2020-12-03</th>\n",
       "      <td>-3.527094</td>\n",
       "      <td>-2.538000</td>\n",
       "    </tr>\n",
       "    <tr>\n",
       "      <th>2020-12-04</th>\n",
       "      <td>-3.719331</td>\n",
       "      <td>-2.512636</td>\n",
       "    </tr>\n",
       "    <tr>\n",
       "      <th>2020-12-07</th>\n",
       "      <td>-3.632366</td>\n",
       "      <td>-2.526727</td>\n",
       "    </tr>\n",
       "    <tr>\n",
       "      <th>2020-12-08</th>\n",
       "      <td>-3.686376</td>\n",
       "      <td>-2.519077</td>\n",
       "    </tr>\n",
       "    <tr>\n",
       "      <th>2020-12-09</th>\n",
       "      <td>-3.694615</td>\n",
       "      <td>-2.514649</td>\n",
       "    </tr>\n",
       "  </tbody>\n",
       "</table>\n",
       "<p>459 rows × 2 columns</p>\n",
       "</div>"
      ],
      "text/plain": [
       "                 XLE       XLU\n",
       "datetime                      \n",
       "2019-02-15  0.000000  0.000000\n",
       "2019-02-19  0.000000  0.000000\n",
       "2019-02-20  0.000000  0.000000\n",
       "2019-02-21  0.000000  0.000000\n",
       "2019-02-22  0.000000  0.000000\n",
       "...              ...       ...\n",
       "2020-12-03 -3.527094 -2.538000\n",
       "2020-12-04 -3.719331 -2.512636\n",
       "2020-12-07 -3.632366 -2.526727\n",
       "2020-12-08 -3.686376 -2.519077\n",
       "2020-12-09 -3.694615 -2.514649\n",
       "\n",
       "[459 rows x 2 columns]"
      ]
     },
     "execution_count": 193,
     "metadata": {},
     "output_type": "execute_result"
    }
   ],
   "source": [
    "positions = weights.mul(num_unit, axis=0) * price\n",
    "positions"
   ]
  },
  {
   "cell_type": "code",
   "execution_count": 220,
   "id": "4a1866f7-b108-468a-b27c-a06fe9ebd087",
   "metadata": {
    "tags": []
   },
   "outputs": [
    {
     "data": {
      "text/plain": [
       "<Axes: xlabel='datetime'>"
      ]
     },
     "execution_count": 220,
     "metadata": {},
     "output_type": "execute_result"
    },
    {
     "data": {
      "image/png": "[encoded data removed]",
      "text/plain": [
       "<Figure size 640x480 with 1 Axes>"
      ]
     },
     "metadata": {},
     "output_type": "display_data"
    }
   ],
   "source": [
    "positions.sum(axis=1).plot()"
   ]
  },
  {
   "cell_type": "code",
   "execution_count": 205,
   "id": "08691959-0ecb-4efb-b351-514c8ef21b07",
   "metadata": {
    "tags": []
   },
   "outputs": [
    {
     "data": {
      "text/plain": [
       "<Axes: xlabel='datetime'>"
      ]
     },
     "execution_count": 205,
     "metadata": {},
     "output_type": "execute_result"
    },
    {
     "data": {
      "image/png": "[encoded data removed]",
      "text/plain": [
       "<Figure size 640x480 with 1 Axes>"
      ]
     },
     "metadata": {},
     "output_type": "display_data"
    }
   ],
   "source": [
    "positions.plot()"
   ]
  },
  {
   "cell_type": "code",
   "execution_count": 201,
   "id": "9686396d-1264-4e01-823a-6b1d4e80425d",
   "metadata": {
    "tags": []
   },
   "outputs": [
    {
     "data": {
      "text/plain": [
       "count    459.000000\n",
       "mean       0.000499\n",
       "std        0.107800\n",
       "min       -0.930545\n",
       "25%        0.000000\n",
       "50%        0.000000\n",
       "75%        0.000000\n",
       "max        0.540483\n",
       "dtype: float64"
      ]
     },
     "execution_count": 201,
     "metadata": {},
     "output_type": "execute_result"
    }
   ],
   "source": [
    "pnl = positions.shift(1) * (price - price.shift(1))/price.shift(1)\n",
    "pnl = pnl.sum(axis=1)\n",
    "pnl.describe()"
   ]
  },
  {
   "cell_type": "code",
   "execution_count": 221,
   "id": "73e3a124-986f-4348-bc38-ffcc96e9e51d",
   "metadata": {
    "tags": []
   },
   "outputs": [
    {
     "data": {
      "text/plain": [
       "<Axes: xlabel='datetime'>"
      ]
     },
     "execution_count": 221,
     "metadata": {},
     "output_type": "execute_result"
    },
    {
     "data": {
      "image/png": "[encoded data removed]",
      "text/plain": [
       "<Figure size 640x480 with 1 Axes>"
      ]
     },
     "metadata": {},
     "output_type": "display_data"
    }
   ],
   "source": [
    "pnl.plot()"
   ]
  },
  {
   "cell_type": "code",
   "execution_count": 202,
   "id": "658fba62-63a4-4b40-b6e4-971c52361a83",
   "metadata": {
    "tags": []
   },
   "outputs": [
    {
     "data": {
      "text/plain": [
       "datetime\n",
       "2019-02-15         NaN\n",
       "2019-02-19         NaN\n",
       "2019-02-20         NaN\n",
       "2019-02-21         NaN\n",
       "2019-02-22         NaN\n",
       "                ...   \n",
       "2020-12-03    0.001659\n",
       "2020-12-04    0.027514\n",
       "2020-12-07   -0.011693\n",
       "2020-12-08    0.007527\n",
       "2020-12-09    0.000614\n",
       "Length: 459, dtype: float64"
      ]
     },
     "execution_count": 202,
     "metadata": {},
     "output_type": "execute_result"
    }
   ],
   "source": [
    "ret = pnl / positions.shift(1).sum(axis=1)\n",
    "ret"
   ]
  },
  {
   "cell_type": "code",
   "execution_count": 224,
   "id": "760068d3-a24f-4bc1-8cad-d6b2e079fbc0",
   "metadata": {
    "tags": []
   },
   "outputs": [
    {
     "data": {
      "text/plain": [
       "datetime\n",
       "2019-02-15         NaN\n",
       "2019-02-19         NaN\n",
       "2019-02-20         NaN\n",
       "2019-02-21         NaN\n",
       "2019-02-22         NaN\n",
       "                ...   \n",
       "2020-12-03    0.001659\n",
       "2020-12-04    0.027514\n",
       "2020-12-07   -0.011693\n",
       "2020-12-08    0.007527\n",
       "2020-12-09    0.000614\n",
       "Length: 459, dtype: float64"
      ]
     },
     "execution_count": 224,
     "metadata": {},
     "output_type": "execute_result"
    }
   ],
   "source": [
    "ret"
   ]
  },
  {
   "cell_type": "code",
   "execution_count": 203,
   "id": "fc4c95a1-62a5-40b2-9569-2113137d7444",
   "metadata": {
    "tags": []
   },
   "outputs": [
    {
     "data": {
      "text/plain": [
       "count    129.000000\n",
       "mean       0.000970\n",
       "std        0.037190\n",
       "min       -0.141155\n",
       "25%       -0.012620\n",
       "50%        0.001659\n",
       "75%        0.016714\n",
       "max        0.136261\n",
       "dtype: float64"
      ]
     },
     "execution_count": 203,
     "metadata": {},
     "output_type": "execute_result"
    }
   ],
   "source": [
    "ret.describe()"
   ]
  },
  {
   "cell_type": "code",
   "execution_count": 212,
   "id": "1f5e9cec-d611-4870-b77c-ce69adf1399e",
   "metadata": {
    "tags": []
   },
   "outputs": [
    {
     "data": {
      "text/plain": [
       "<Axes: xlabel='datetime'>"
      ]
     },
     "execution_count": 212,
     "metadata": {},
     "output_type": "execute_result"
    },
    {
     "data": {
      "image/png": "[encoded data removed]",
      "text/plain": [
       "<Figure size 640x480 with 1 Axes>"
      ]
     },
     "metadata": {},
     "output_type": "display_data"
    }
   ],
   "source": [
    "ret.dropna().plot()"
   ]
  },
  {
   "cell_type": "code",
   "execution_count": 227,
   "id": "72ea3e38-3c21-4d10-bf7e-d6ac526cf897",
   "metadata": {
    "tags": []
   },
   "outputs": [
    {
     "data": {
      "text/plain": [
       "<Axes: xlabel='datetime'>"
      ]
     },
     "execution_count": 227,
     "metadata": {},
     "output_type": "execute_result"
    },
    {
     "data": {
      "image/png": "[encoded data removed]",
      "text/plain": [
       "<Figure size 640x480 with 1 Axes>"
      ]
     },
     "metadata": {},
     "output_type": "display_data"
    }
   ],
   "source": [
    "ret.cumsum().dropna().plot()"
   ]
  },
  {
   "cell_type": "code",
   "execution_count": 226,
   "id": "70c75627-ef34-4380-87d7-3b339a3c7883",
   "metadata": {
    "tags": []
   },
   "outputs": [
    {
     "data": {
      "text/plain": [
       "0.4138638807690706"
      ]
     },
     "execution_count": 226,
     "metadata": {},
     "output_type": "execute_result"
    }
   ],
   "source": [
    "sharp_ratio = math.sqrt(252)*ret.mean()/ret.std()\n",
    "sharp_ratio"
   ]
  },
  {
   "cell_type": "code",
   "execution_count": 228,
   "id": "1554eace-c825-4261-bd3e-31e38fbbb2c0",
   "metadata": {
    "tags": []
   },
   "outputs": [
    {
     "data": {
      "text/html": [
       "<div>\n",
       "<style scoped>\n",
       "    .dataframe tbody tr th:only-of-type {\n",
       "        vertical-align: middle;\n",
       "    }\n",
       "\n",
       "    .dataframe tbody tr th {\n",
       "        vertical-align: top;\n",
       "    }\n",
       "\n",
       "    .dataframe thead th {\n",
       "        text-align: right;\n",
       "    }\n",
       "</style>\n",
       "<table border=\"1\" class=\"dataframe\">\n",
       "  <thead>\n",
       "    <tr style=\"text-align: right;\">\n",
       "      <th></th>\n",
       "      <th>ret</th>\n",
       "      <th>lagged_ret</th>\n",
       "      <th>high_watermark_index</th>\n",
       "    </tr>\n",
       "    <tr>\n",
       "      <th>datetime</th>\n",
       "      <th></th>\n",
       "      <th></th>\n",
       "      <th></th>\n",
       "    </tr>\n",
       "  </thead>\n",
       "  <tbody>\n",
       "    <tr>\n",
       "      <th>2019-10-03</th>\n",
       "      <td>0.008005</td>\n",
       "      <td>0.000000</td>\n",
       "      <td>2019-10-03</td>\n",
       "    </tr>\n",
       "    <tr>\n",
       "      <th>2019-10-04</th>\n",
       "      <td>0.016834</td>\n",
       "      <td>0.008005</td>\n",
       "      <td>2019-10-04</td>\n",
       "    </tr>\n",
       "    <tr>\n",
       "      <th>2019-10-07</th>\n",
       "      <td>0.009614</td>\n",
       "      <td>0.016834</td>\n",
       "      <td>2019-10-07</td>\n",
       "    </tr>\n",
       "    <tr>\n",
       "      <th>2019-10-08</th>\n",
       "      <td>-0.004860</td>\n",
       "      <td>0.009614</td>\n",
       "      <td>2019-10-08</td>\n",
       "    </tr>\n",
       "    <tr>\n",
       "      <th>2019-10-09</th>\n",
       "      <td>0.002833</td>\n",
       "      <td>-0.004860</td>\n",
       "      <td>2019-10-09</td>\n",
       "    </tr>\n",
       "    <tr>\n",
       "      <th>...</th>\n",
       "      <td>...</td>\n",
       "      <td>...</td>\n",
       "      <td>...</td>\n",
       "    </tr>\n",
       "    <tr>\n",
       "      <th>2020-12-03</th>\n",
       "      <td>0.101114</td>\n",
       "      <td>0.099455</td>\n",
       "      <td>2020-12-03</td>\n",
       "    </tr>\n",
       "    <tr>\n",
       "      <th>2020-12-04</th>\n",
       "      <td>0.128628</td>\n",
       "      <td>0.101114</td>\n",
       "      <td>2020-12-04</td>\n",
       "    </tr>\n",
       "    <tr>\n",
       "      <th>2020-12-07</th>\n",
       "      <td>0.116934</td>\n",
       "      <td>0.128628</td>\n",
       "      <td>2020-12-07</td>\n",
       "    </tr>\n",
       "    <tr>\n",
       "      <th>2020-12-08</th>\n",
       "      <td>0.124461</td>\n",
       "      <td>0.116934</td>\n",
       "      <td>2020-12-08</td>\n",
       "    </tr>\n",
       "    <tr>\n",
       "      <th>2020-12-09</th>\n",
       "      <td>0.125075</td>\n",
       "      <td>0.124461</td>\n",
       "      <td>2020-12-09</td>\n",
       "    </tr>\n",
       "  </tbody>\n",
       "</table>\n",
       "<p>129 rows × 3 columns</p>\n",
       "</div>"
      ],
      "text/plain": [
       "                 ret  lagged_ret high_watermark_index\n",
       "datetime                                             \n",
       "2019-10-03  0.008005    0.000000           2019-10-03\n",
       "2019-10-04  0.016834    0.008005           2019-10-04\n",
       "2019-10-07  0.009614    0.016834           2019-10-07\n",
       "2019-10-08 -0.004860    0.009614           2019-10-08\n",
       "2019-10-09  0.002833   -0.004860           2019-10-09\n",
       "...              ...         ...                  ...\n",
       "2020-12-03  0.101114    0.099455           2020-12-03\n",
       "2020-12-04  0.128628    0.101114           2020-12-04\n",
       "2020-12-07  0.116934    0.128628           2020-12-07\n",
       "2020-12-08  0.124461    0.116934           2020-12-08\n",
       "2020-12-09  0.125075    0.124461           2020-12-09\n",
       "\n",
       "[129 rows x 3 columns]"
      ]
     },
     "execution_count": 228,
     "metadata": {},
     "output_type": "execute_result"
    }
   ],
   "source": [
    "term = pd.DataFrame({\n",
    "    \"ret\": ret.cumsum().dropna(),\n",
    "    'lagged_ret': ret.cumsum().dropna().shift(1),\n",
    "    'high_watermark_index': ret.cumsum().dropna().index\n",
    "})\n",
    "term['lagged_ret'] = term['lagged_ret'].fillna(0)\n",
    "term"
   ]
  },
  {
   "cell_type": "code",
   "execution_count": 229,
   "id": "0ae64712-bda2-41bf-8d9c-44159a496768",
   "metadata": {
    "tags": []
   },
   "outputs": [
    {
     "data": {
      "text/html": [
       "<div>\n",
       "<style scoped>\n",
       "    .dataframe tbody tr th:only-of-type {\n",
       "        vertical-align: middle;\n",
       "    }\n",
       "\n",
       "    .dataframe tbody tr th {\n",
       "        vertical-align: top;\n",
       "    }\n",
       "\n",
       "    .dataframe thead th {\n",
       "        text-align: right;\n",
       "    }\n",
       "</style>\n",
       "<table border=\"1\" class=\"dataframe\">\n",
       "  <thead>\n",
       "    <tr style=\"text-align: right;\">\n",
       "      <th></th>\n",
       "      <th>ret</th>\n",
       "      <th>lagged_ret</th>\n",
       "      <th>high_watermark_index</th>\n",
       "    </tr>\n",
       "    <tr>\n",
       "      <th>datetime</th>\n",
       "      <th></th>\n",
       "      <th></th>\n",
       "      <th></th>\n",
       "    </tr>\n",
       "  </thead>\n",
       "  <tbody>\n",
       "    <tr>\n",
       "      <th>2019-10-03</th>\n",
       "      <td>0.008005</td>\n",
       "      <td>0.000000</td>\n",
       "      <td>2019-10-03</td>\n",
       "    </tr>\n",
       "    <tr>\n",
       "      <th>2019-10-04</th>\n",
       "      <td>0.016834</td>\n",
       "      <td>0.008005</td>\n",
       "      <td>2019-10-04</td>\n",
       "    </tr>\n",
       "    <tr>\n",
       "      <th>2019-10-07</th>\n",
       "      <td>0.009614</td>\n",
       "      <td>0.016834</td>\n",
       "      <td>2019-10-04</td>\n",
       "    </tr>\n",
       "    <tr>\n",
       "      <th>2019-10-08</th>\n",
       "      <td>-0.004860</td>\n",
       "      <td>0.009614</td>\n",
       "      <td>2019-10-04</td>\n",
       "    </tr>\n",
       "    <tr>\n",
       "      <th>2019-10-09</th>\n",
       "      <td>0.002833</td>\n",
       "      <td>-0.004860</td>\n",
       "      <td>2019-10-04</td>\n",
       "    </tr>\n",
       "    <tr>\n",
       "      <th>...</th>\n",
       "      <td>...</td>\n",
       "      <td>...</td>\n",
       "      <td>...</td>\n",
       "    </tr>\n",
       "    <tr>\n",
       "      <th>2020-12-03</th>\n",
       "      <td>0.101114</td>\n",
       "      <td>0.099455</td>\n",
       "      <td>2020-11-09</td>\n",
       "    </tr>\n",
       "    <tr>\n",
       "      <th>2020-12-04</th>\n",
       "      <td>0.128628</td>\n",
       "      <td>0.101114</td>\n",
       "      <td>2020-11-09</td>\n",
       "    </tr>\n",
       "    <tr>\n",
       "      <th>2020-12-07</th>\n",
       "      <td>0.116934</td>\n",
       "      <td>0.128628</td>\n",
       "      <td>2020-11-09</td>\n",
       "    </tr>\n",
       "    <tr>\n",
       "      <th>2020-12-08</th>\n",
       "      <td>0.124461</td>\n",
       "      <td>0.116934</td>\n",
       "      <td>2020-11-09</td>\n",
       "    </tr>\n",
       "    <tr>\n",
       "      <th>2020-12-09</th>\n",
       "      <td>0.125075</td>\n",
       "      <td>0.124461</td>\n",
       "      <td>2020-11-09</td>\n",
       "    </tr>\n",
       "  </tbody>\n",
       "</table>\n",
       "<p>129 rows × 3 columns</p>\n",
       "</div>"
      ],
      "text/plain": [
       "                 ret  lagged_ret high_watermark_index\n",
       "datetime                                             \n",
       "2019-10-03  0.008005    0.000000           2019-10-03\n",
       "2019-10-04  0.016834    0.008005           2019-10-04\n",
       "2019-10-07  0.009614    0.016834           2019-10-04\n",
       "2019-10-08 -0.004860    0.009614           2019-10-04\n",
       "2019-10-09  0.002833   -0.004860           2019-10-04\n",
       "...              ...         ...                  ...\n",
       "2020-12-03  0.101114    0.099455           2020-11-09\n",
       "2020-12-04  0.128628    0.101114           2020-11-09\n",
       "2020-12-07  0.116934    0.128628           2020-11-09\n",
       "2020-12-08  0.124461    0.116934           2020-11-09\n",
       "2020-12-09  0.125075    0.124461           2020-11-09\n",
       "\n",
       "[129 rows x 3 columns]"
      ]
     },
     "execution_count": 229,
     "metadata": {},
     "output_type": "execute_result"
    }
   ],
   "source": [
    "highest_watermark_index = term.iloc[0]['high_watermark_index']\n",
    "for d in term.index:\n",
    "    row = term.loc[d]\n",
    "    if row['ret'] >= term.loc[highest_watermark_index]['ret']:\n",
    "        highest_watermark_index = d\n",
    "    term.loc[d, 'high_watermark_index']= highest_watermark_index\n",
    "term"
   ]
  },
  {
   "cell_type": "code",
   "execution_count": 230,
   "id": "27449b09-b3bb-4290-95a8-e311c53b2335",
   "metadata": {
    "tags": []
   },
   "outputs": [
    {
     "data": {
      "text/html": [
       "<div>\n",
       "<style scoped>\n",
       "    .dataframe tbody tr th:only-of-type {\n",
       "        vertical-align: middle;\n",
       "    }\n",
       "\n",
       "    .dataframe tbody tr th {\n",
       "        vertical-align: top;\n",
       "    }\n",
       "\n",
       "    .dataframe thead th {\n",
       "        text-align: right;\n",
       "    }\n",
       "</style>\n",
       "<table border=\"1\" class=\"dataframe\">\n",
       "  <thead>\n",
       "    <tr style=\"text-align: right;\">\n",
       "      <th></th>\n",
       "      <th>ret</th>\n",
       "      <th>lagged_ret</th>\n",
       "      <th>high_watermark_index</th>\n",
       "      <th>high_watermark_ret</th>\n",
       "      <th>drawdown_deep</th>\n",
       "      <th>drawdown_duration</th>\n",
       "    </tr>\n",
       "    <tr>\n",
       "      <th>datetime</th>\n",
       "      <th></th>\n",
       "      <th></th>\n",
       "      <th></th>\n",
       "      <th></th>\n",
       "      <th></th>\n",
       "      <th></th>\n",
       "    </tr>\n",
       "  </thead>\n",
       "  <tbody>\n",
       "    <tr>\n",
       "      <th>2019-10-03</th>\n",
       "      <td>0.008005</td>\n",
       "      <td>0.000000</td>\n",
       "      <td>2019-10-03</td>\n",
       "      <td>0.008005</td>\n",
       "      <td>0.000000</td>\n",
       "      <td>0 days</td>\n",
       "    </tr>\n",
       "    <tr>\n",
       "      <th>2019-10-04</th>\n",
       "      <td>0.016834</td>\n",
       "      <td>0.008005</td>\n",
       "      <td>2019-10-04</td>\n",
       "      <td>0.016834</td>\n",
       "      <td>0.000000</td>\n",
       "      <td>0 days</td>\n",
       "    </tr>\n",
       "    <tr>\n",
       "      <th>2019-10-07</th>\n",
       "      <td>0.009614</td>\n",
       "      <td>0.016834</td>\n",
       "      <td>2019-10-04</td>\n",
       "      <td>0.016834</td>\n",
       "      <td>0.007220</td>\n",
       "      <td>3 days</td>\n",
       "    </tr>\n",
       "    <tr>\n",
       "      <th>2019-10-08</th>\n",
       "      <td>-0.004860</td>\n",
       "      <td>0.009614</td>\n",
       "      <td>2019-10-04</td>\n",
       "      <td>0.016834</td>\n",
       "      <td>0.021694</td>\n",
       "      <td>4 days</td>\n",
       "    </tr>\n",
       "    <tr>\n",
       "      <th>2019-10-09</th>\n",
       "      <td>0.002833</td>\n",
       "      <td>-0.004860</td>\n",
       "      <td>2019-10-04</td>\n",
       "      <td>0.016834</td>\n",
       "      <td>0.014001</td>\n",
       "      <td>5 days</td>\n",
       "    </tr>\n",
       "    <tr>\n",
       "      <th>...</th>\n",
       "      <td>...</td>\n",
       "      <td>...</td>\n",
       "      <td>...</td>\n",
       "      <td>...</td>\n",
       "      <td>...</td>\n",
       "      <td>...</td>\n",
       "    </tr>\n",
       "    <tr>\n",
       "      <th>2020-12-03</th>\n",
       "      <td>0.101114</td>\n",
       "      <td>0.099455</td>\n",
       "      <td>2020-11-09</td>\n",
       "      <td>0.134158</td>\n",
       "      <td>0.033044</td>\n",
       "      <td>24 days</td>\n",
       "    </tr>\n",
       "    <tr>\n",
       "      <th>2020-12-04</th>\n",
       "      <td>0.128628</td>\n",
       "      <td>0.101114</td>\n",
       "      <td>2020-11-09</td>\n",
       "      <td>0.134158</td>\n",
       "      <td>0.005530</td>\n",
       "      <td>25 days</td>\n",
       "    </tr>\n",
       "    <tr>\n",
       "      <th>2020-12-07</th>\n",
       "      <td>0.116934</td>\n",
       "      <td>0.128628</td>\n",
       "      <td>2020-11-09</td>\n",
       "      <td>0.134158</td>\n",
       "      <td>0.017224</td>\n",
       "      <td>28 days</td>\n",
       "    </tr>\n",
       "    <tr>\n",
       "      <th>2020-12-08</th>\n",
       "      <td>0.124461</td>\n",
       "      <td>0.116934</td>\n",
       "      <td>2020-11-09</td>\n",
       "      <td>0.134158</td>\n",
       "      <td>0.009697</td>\n",
       "      <td>29 days</td>\n",
       "    </tr>\n",
       "    <tr>\n",
       "      <th>2020-12-09</th>\n",
       "      <td>0.125075</td>\n",
       "      <td>0.124461</td>\n",
       "      <td>2020-11-09</td>\n",
       "      <td>0.134158</td>\n",
       "      <td>0.009083</td>\n",
       "      <td>30 days</td>\n",
       "    </tr>\n",
       "  </tbody>\n",
       "</table>\n",
       "<p>129 rows × 6 columns</p>\n",
       "</div>"
      ],
      "text/plain": [
       "                 ret  lagged_ret high_watermark_index  high_watermark_ret  \\\n",
       "datetime                                                                    \n",
       "2019-10-03  0.008005    0.000000           2019-10-03            0.008005   \n",
       "2019-10-04  0.016834    0.008005           2019-10-04            0.016834   \n",
       "2019-10-07  0.009614    0.016834           2019-10-04            0.016834   \n",
       "2019-10-08 -0.004860    0.009614           2019-10-04            0.016834   \n",
       "2019-10-09  0.002833   -0.004860           2019-10-04            0.016834   \n",
       "...              ...         ...                  ...                 ...   \n",
       "2020-12-03  0.101114    0.099455           2020-11-09            0.134158   \n",
       "2020-12-04  0.128628    0.101114           2020-11-09            0.134158   \n",
       "2020-12-07  0.116934    0.128628           2020-11-09            0.134158   \n",
       "2020-12-08  0.124461    0.116934           2020-11-09            0.134158   \n",
       "2020-12-09  0.125075    0.124461           2020-11-09            0.134158   \n",
       "\n",
       "            drawdown_deep drawdown_duration  \n",
       "datetime                                     \n",
       "2019-10-03       0.000000            0 days  \n",
       "2019-10-04       0.000000            0 days  \n",
       "2019-10-07       0.007220            3 days  \n",
       "2019-10-08       0.021694            4 days  \n",
       "2019-10-09       0.014001            5 days  \n",
       "...                   ...               ...  \n",
       "2020-12-03       0.033044           24 days  \n",
       "2020-12-04       0.005530           25 days  \n",
       "2020-12-07       0.017224           28 days  \n",
       "2020-12-08       0.009697           29 days  \n",
       "2020-12-09       0.009083           30 days  \n",
       "\n",
       "[129 rows x 6 columns]"
      ]
     },
     "execution_count": 230,
     "metadata": {},
     "output_type": "execute_result"
    }
   ],
   "source": [
    "term['high_watermark_ret'] = term.apply(lambda x: term.loc[x['high_watermark_index']]['ret'], axis=1)\n",
    "term['drawdown_deep'] = term['high_watermark_ret'] - term['ret']\n",
    "term['drawdown_duration'] = term.index - term['high_watermark_index']\n",
    "term"
   ]
  },
  {
   "cell_type": "code",
   "execution_count": 231,
   "id": "552eb94e-ca47-493a-aa2d-4806112f31bd",
   "metadata": {
    "tags": []
   },
   "outputs": [
    {
     "data": {
      "text/html": [
       "<div>\n",
       "<style scoped>\n",
       "    .dataframe tbody tr th:only-of-type {\n",
       "        vertical-align: middle;\n",
       "    }\n",
       "\n",
       "    .dataframe tbody tr th {\n",
       "        vertical-align: top;\n",
       "    }\n",
       "\n",
       "    .dataframe thead th {\n",
       "        text-align: right;\n",
       "    }\n",
       "</style>\n",
       "<table border=\"1\" class=\"dataframe\">\n",
       "  <thead>\n",
       "    <tr style=\"text-align: right;\">\n",
       "      <th></th>\n",
       "      <th>ret</th>\n",
       "      <th>lagged_ret</th>\n",
       "      <th>high_watermark_index</th>\n",
       "      <th>high_watermark_ret</th>\n",
       "      <th>drawdown_deep</th>\n",
       "      <th>drawdown_duration</th>\n",
       "    </tr>\n",
       "  </thead>\n",
       "  <tbody>\n",
       "    <tr>\n",
       "      <th>count</th>\n",
       "      <td>129.000000</td>\n",
       "      <td>129.000000</td>\n",
       "      <td>129</td>\n",
       "      <td>129.000000</td>\n",
       "      <td>129.000000</td>\n",
       "      <td>129</td>\n",
       "    </tr>\n",
       "    <tr>\n",
       "      <th>mean</th>\n",
       "      <td>-0.093167</td>\n",
       "      <td>-0.094137</td>\n",
       "      <td>2020-02-17 06:08:22.325581312</td>\n",
       "      <td>0.072938</td>\n",
       "      <td>0.166106</td>\n",
       "      <td>49 days 13:23:43.255813953</td>\n",
       "    </tr>\n",
       "    <tr>\n",
       "      <th>min</th>\n",
       "      <td>-0.557301</td>\n",
       "      <td>-0.557301</td>\n",
       "      <td>2019-10-03 00:00:00</td>\n",
       "      <td>0.008005</td>\n",
       "      <td>0.000000</td>\n",
       "      <td>0 days 00:00:00</td>\n",
       "    </tr>\n",
       "    <tr>\n",
       "      <th>25%</th>\n",
       "      <td>-0.201809</td>\n",
       "      <td>-0.201809</td>\n",
       "      <td>2020-02-13 00:00:00</td>\n",
       "      <td>0.076116</td>\n",
       "      <td>0.009382</td>\n",
       "      <td>6 days 00:00:00</td>\n",
       "    </tr>\n",
       "    <tr>\n",
       "      <th>50%</th>\n",
       "      <td>-0.061938</td>\n",
       "      <td>-0.061938</td>\n",
       "      <td>2020-02-20 00:00:00</td>\n",
       "      <td>0.077967</td>\n",
       "      <td>0.139905</td>\n",
       "      <td>29 days 00:00:00</td>\n",
       "    </tr>\n",
       "    <tr>\n",
       "      <th>75%</th>\n",
       "      <td>0.038414</td>\n",
       "      <td>0.036682</td>\n",
       "      <td>2020-02-20 00:00:00</td>\n",
       "      <td>0.077967</td>\n",
       "      <td>0.279776</td>\n",
       "      <td>75 days 00:00:00</td>\n",
       "    </tr>\n",
       "    <tr>\n",
       "      <th>max</th>\n",
       "      <td>0.134158</td>\n",
       "      <td>0.134158</td>\n",
       "      <td>2020-11-09 00:00:00</td>\n",
       "      <td>0.134158</td>\n",
       "      <td>0.635268</td>\n",
       "      <td>260 days 00:00:00</td>\n",
       "    </tr>\n",
       "    <tr>\n",
       "      <th>std</th>\n",
       "      <td>0.161281</td>\n",
       "      <td>0.160332</td>\n",
       "      <td>NaN</td>\n",
       "      <td>0.027368</td>\n",
       "      <td>0.164498</td>\n",
       "      <td>60 days 02:34:54.371568729</td>\n",
       "    </tr>\n",
       "  </tbody>\n",
       "</table>\n",
       "</div>"
      ],
      "text/plain": [
       "              ret  lagged_ret           high_watermark_index  \\\n",
       "count  129.000000  129.000000                            129   \n",
       "mean    -0.093167   -0.094137  2020-02-17 06:08:22.325581312   \n",
       "min     -0.557301   -0.557301            2019-10-03 00:00:00   \n",
       "25%     -0.201809   -0.201809            2020-02-13 00:00:00   \n",
       "50%     -0.061938   -0.061938            2020-02-20 00:00:00   \n",
       "75%      0.038414    0.036682            2020-02-20 00:00:00   \n",
       "max      0.134158    0.134158            2020-11-09 00:00:00   \n",
       "std      0.161281    0.160332                            NaN   \n",
       "\n",
       "       high_watermark_ret  drawdown_deep           drawdown_duration  \n",
       "count          129.000000     129.000000                         129  \n",
       "mean             0.072938       0.166106  49 days 13:23:43.255813953  \n",
       "min              0.008005       0.000000             0 days 00:00:00  \n",
       "25%              0.076116       0.009382             6 days 00:00:00  \n",
       "50%              0.077967       0.139905            29 days 00:00:00  \n",
       "75%              0.077967       0.279776            75 days 00:00:00  \n",
       "max              0.134158       0.635268           260 days 00:00:00  \n",
       "std              0.027368       0.164498  60 days 02:34:54.371568729  "
      ]
     },
     "execution_count": 231,
     "metadata": {},
     "output_type": "execute_result"
    }
   ],
   "source": [
    "term.describe()"
   ]
  }
 ],
 "metadata": {
  "kernelspec": {
   "display_name": "Python 3 (ipykernel)",
   "language": "python",
   "name": "python3"
  },
  "language_info": {
   "codemirror_mode": {
    "name": "ipython",
    "version": 3
   },
   "file_extension": ".py",
   "mimetype": "text/x-python",
   "name": "python",
   "nbconvert_exporter": "python",
   "pygments_lexer": "ipython3",
   "version": "3.9.17"
  }
 },
 "nbformat": 4,
 "nbformat_minor": 5
}
