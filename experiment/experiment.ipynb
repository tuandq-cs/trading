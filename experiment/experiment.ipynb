{
 "cells": [
  {
   "cell_type": "code",
   "execution_count": 1,
   "id": "dd3e942f-938f-4dd6-979c-5af821ebd698",
   "metadata": {
    "tags": []
   },
   "outputs": [],
   "source": [
    "import pandas as pd\n",
    "import numpy as np\n",
    "import matplotlib.pyplot as plt\n",
    "import math"
   ]
  },
  {
   "cell_type": "code",
   "execution_count": 2,
   "id": "f3290bdd-2a14-4fd3-9e33-05d733e11f64",
   "metadata": {
    "tags": []
   },
   "outputs": [],
   "source": [
    "xle_raw = pd.read_csv('XLE.csv', delimiter=\";\", parse_dates=[\"datetime\"]).set_index(\"datetime\")\n",
    "xlu_raw = pd.read_csv('XLU.csv', delimiter=\";\", parse_dates=[\"datetime\"]).set_index(\"datetime\")"
   ]
  },
  {
   "cell_type": "code",
   "execution_count": 58,
   "id": "680c5c2e-5faf-4210-9ea8-5113ff9d8ab0",
   "metadata": {
    "tags": []
   },
   "outputs": [],
   "source": [
    "rth_raw = pd.read_csv('RTH.csv', delimiter=\";\", parse_dates=[\"datetime\"]).set_index(\"datetime\")\n",
    "xlp_raw = pd.read_csv('XLP.csv', delimiter=\";\", parse_dates=[\"datetime\"]).set_index(\"datetime\")"
   ]
  },
  {
   "cell_type": "code",
   "execution_count": 2,
   "id": "646a9ac9-ad4b-4442-a1b2-0aa80847e98f",
   "metadata": {
    "tags": []
   },
   "outputs": [],
   "source": [
    "iye_raw = pd.read_csv('IYE.csv', delimiter=\";\", parse_dates=[\"datetime\"]).set_index(\"datetime\")\n",
    "vde_raw = pd.read_csv('VDE.csv', delimiter=\";\", parse_dates=[\"datetime\"]).set_index(\"datetime\")"
   ]
  },
  {
   "cell_type": "code",
   "execution_count": 3,
   "id": "7be38f4f-3441-4967-af1d-8c37166b68af",
   "metadata": {
    "tags": []
   },
   "outputs": [
    {
     "data": {
      "text/html": [
       "<div>\n",
       "<style scoped>\n",
       "    .dataframe tbody tr th:only-of-type {\n",
       "        vertical-align: middle;\n",
       "    }\n",
       "\n",
       "    .dataframe tbody tr th {\n",
       "        vertical-align: top;\n",
       "    }\n",
       "\n",
       "    .dataframe thead th {\n",
       "        text-align: right;\n",
       "    }\n",
       "</style>\n",
       "<table border=\"1\" class=\"dataframe\">\n",
       "  <thead>\n",
       "    <tr style=\"text-align: right;\">\n",
       "      <th></th>\n",
       "      <th>open</th>\n",
       "      <th>high</th>\n",
       "      <th>low</th>\n",
       "      <th>close</th>\n",
       "      <th>volume</th>\n",
       "    </tr>\n",
       "    <tr>\n",
       "      <th>datetime</th>\n",
       "      <th></th>\n",
       "      <th></th>\n",
       "      <th></th>\n",
       "      <th></th>\n",
       "      <th></th>\n",
       "    </tr>\n",
       "  </thead>\n",
       "  <tbody>\n",
       "    <tr>\n",
       "      <th>2023-09-18</th>\n",
       "      <td>48.63</td>\n",
       "      <td>48.84</td>\n",
       "      <td>48.30</td>\n",
       "      <td>48.74</td>\n",
       "      <td>80354</td>\n",
       "    </tr>\n",
       "    <tr>\n",
       "      <th>2023-09-15</th>\n",
       "      <td>48.60</td>\n",
       "      <td>48.96</td>\n",
       "      <td>48.27</td>\n",
       "      <td>48.30</td>\n",
       "      <td>424600</td>\n",
       "    </tr>\n",
       "    <tr>\n",
       "      <th>2023-09-14</th>\n",
       "      <td>48.84</td>\n",
       "      <td>49.10</td>\n",
       "      <td>48.76</td>\n",
       "      <td>48.97</td>\n",
       "      <td>292500</td>\n",
       "    </tr>\n",
       "    <tr>\n",
       "      <th>2023-09-13</th>\n",
       "      <td>48.84</td>\n",
       "      <td>48.92</td>\n",
       "      <td>48.11</td>\n",
       "      <td>48.34</td>\n",
       "      <td>447200</td>\n",
       "    </tr>\n",
       "    <tr>\n",
       "      <th>2023-09-12</th>\n",
       "      <td>48.07</td>\n",
       "      <td>48.83</td>\n",
       "      <td>48.07</td>\n",
       "      <td>48.76</td>\n",
       "      <td>329900</td>\n",
       "    </tr>\n",
       "    <tr>\n",
       "      <th>...</th>\n",
       "      <td>...</td>\n",
       "      <td>...</td>\n",
       "      <td>...</td>\n",
       "      <td>...</td>\n",
       "      <td>...</td>\n",
       "    </tr>\n",
       "    <tr>\n",
       "      <th>2010-01-08</th>\n",
       "      <td>34.67</td>\n",
       "      <td>35.03</td>\n",
       "      <td>34.57</td>\n",
       "      <td>35.03</td>\n",
       "      <td>200800</td>\n",
       "    </tr>\n",
       "    <tr>\n",
       "      <th>2010-01-07</th>\n",
       "      <td>34.75</td>\n",
       "      <td>34.86</td>\n",
       "      <td>34.49</td>\n",
       "      <td>34.75</td>\n",
       "      <td>216100</td>\n",
       "    </tr>\n",
       "    <tr>\n",
       "      <th>2010-01-06</th>\n",
       "      <td>34.45</td>\n",
       "      <td>34.96</td>\n",
       "      <td>34.36</td>\n",
       "      <td>34.89</td>\n",
       "      <td>366600</td>\n",
       "    </tr>\n",
       "    <tr>\n",
       "      <th>2010-01-05</th>\n",
       "      <td>34.25</td>\n",
       "      <td>34.53</td>\n",
       "      <td>34.11</td>\n",
       "      <td>34.52</td>\n",
       "      <td>213800</td>\n",
       "    </tr>\n",
       "    <tr>\n",
       "      <th>2010-01-04</th>\n",
       "      <td>33.76</td>\n",
       "      <td>34.23</td>\n",
       "      <td>33.74</td>\n",
       "      <td>34.23</td>\n",
       "      <td>270500</td>\n",
       "    </tr>\n",
       "  </tbody>\n",
       "</table>\n",
       "<p>3450 rows × 5 columns</p>\n",
       "</div>"
      ],
      "text/plain": [
       "             open   high    low  close  volume\n",
       "datetime                                      \n",
       "2023-09-18  48.63  48.84  48.30  48.74   80354\n",
       "2023-09-15  48.60  48.96  48.27  48.30  424600\n",
       "2023-09-14  48.84  49.10  48.76  48.97  292500\n",
       "2023-09-13  48.84  48.92  48.11  48.34  447200\n",
       "2023-09-12  48.07  48.83  48.07  48.76  329900\n",
       "...           ...    ...    ...    ...     ...\n",
       "2010-01-08  34.67  35.03  34.57  35.03  200800\n",
       "2010-01-07  34.75  34.86  34.49  34.75  216100\n",
       "2010-01-06  34.45  34.96  34.36  34.89  366600\n",
       "2010-01-05  34.25  34.53  34.11  34.52  213800\n",
       "2010-01-04  33.76  34.23  33.74  34.23  270500\n",
       "\n",
       "[3450 rows x 5 columns]"
      ]
     },
     "execution_count": 3,
     "metadata": {},
     "output_type": "execute_result"
    }
   ],
   "source": [
    "iye_raw"
   ]
  },
  {
   "cell_type": "code",
   "execution_count": 4,
   "id": "0560f3b6-9835-4b46-8540-2511cdbadf21",
   "metadata": {
    "tags": []
   },
   "outputs": [
    {
     "data": {
      "text/html": [
       "<div>\n",
       "<style scoped>\n",
       "    .dataframe tbody tr th:only-of-type {\n",
       "        vertical-align: middle;\n",
       "    }\n",
       "\n",
       "    .dataframe tbody tr th {\n",
       "        vertical-align: top;\n",
       "    }\n",
       "\n",
       "    .dataframe thead th {\n",
       "        text-align: right;\n",
       "    }\n",
       "</style>\n",
       "<table border=\"1\" class=\"dataframe\">\n",
       "  <thead>\n",
       "    <tr style=\"text-align: right;\">\n",
       "      <th></th>\n",
       "      <th>open</th>\n",
       "      <th>high</th>\n",
       "      <th>low</th>\n",
       "      <th>close</th>\n",
       "      <th>volume</th>\n",
       "    </tr>\n",
       "    <tr>\n",
       "      <th>datetime</th>\n",
       "      <th></th>\n",
       "      <th></th>\n",
       "      <th></th>\n",
       "      <th></th>\n",
       "      <th></th>\n",
       "    </tr>\n",
       "  </thead>\n",
       "  <tbody>\n",
       "    <tr>\n",
       "      <th>2023-09-18</th>\n",
       "      <td>129.94</td>\n",
       "      <td>130.35001</td>\n",
       "      <td>128.87000</td>\n",
       "      <td>130.17</td>\n",
       "      <td>132631</td>\n",
       "    </tr>\n",
       "    <tr>\n",
       "      <th>2023-09-15</th>\n",
       "      <td>129.75</td>\n",
       "      <td>130.64999</td>\n",
       "      <td>128.75999</td>\n",
       "      <td>128.89</td>\n",
       "      <td>464700</td>\n",
       "    </tr>\n",
       "    <tr>\n",
       "      <th>2023-09-14</th>\n",
       "      <td>130.30</td>\n",
       "      <td>131.07001</td>\n",
       "      <td>130.08000</td>\n",
       "      <td>130.52</td>\n",
       "      <td>544500</td>\n",
       "    </tr>\n",
       "    <tr>\n",
       "      <th>2023-09-13</th>\n",
       "      <td>130.27</td>\n",
       "      <td>130.50999</td>\n",
       "      <td>128.36000</td>\n",
       "      <td>129.00</td>\n",
       "      <td>403800</td>\n",
       "    </tr>\n",
       "    <tr>\n",
       "      <th>2023-09-12</th>\n",
       "      <td>128.27</td>\n",
       "      <td>130.25999</td>\n",
       "      <td>128.24001</td>\n",
       "      <td>130.05</td>\n",
       "      <td>464500</td>\n",
       "    </tr>\n",
       "    <tr>\n",
       "      <th>...</th>\n",
       "      <td>...</td>\n",
       "      <td>...</td>\n",
       "      <td>...</td>\n",
       "      <td>...</td>\n",
       "      <td>...</td>\n",
       "    </tr>\n",
       "    <tr>\n",
       "      <th>2010-01-08</th>\n",
       "      <td>87.38</td>\n",
       "      <td>88.31000</td>\n",
       "      <td>87.09000</td>\n",
       "      <td>88.30</td>\n",
       "      <td>103400</td>\n",
       "    </tr>\n",
       "    <tr>\n",
       "      <th>2010-01-07</th>\n",
       "      <td>87.56</td>\n",
       "      <td>87.79000</td>\n",
       "      <td>86.82000</td>\n",
       "      <td>87.64</td>\n",
       "      <td>138100</td>\n",
       "    </tr>\n",
       "    <tr>\n",
       "      <th>2010-01-06</th>\n",
       "      <td>86.77</td>\n",
       "      <td>88.00000</td>\n",
       "      <td>86.63000</td>\n",
       "      <td>87.85</td>\n",
       "      <td>191300</td>\n",
       "    </tr>\n",
       "    <tr>\n",
       "      <th>2010-01-05</th>\n",
       "      <td>86.04</td>\n",
       "      <td>86.88000</td>\n",
       "      <td>85.74000</td>\n",
       "      <td>86.85</td>\n",
       "      <td>182600</td>\n",
       "    </tr>\n",
       "    <tr>\n",
       "      <th>2010-01-04</th>\n",
       "      <td>84.48</td>\n",
       "      <td>85.99000</td>\n",
       "      <td>84.48000</td>\n",
       "      <td>85.97</td>\n",
       "      <td>209200</td>\n",
       "    </tr>\n",
       "  </tbody>\n",
       "</table>\n",
       "<p>3450 rows × 5 columns</p>\n",
       "</div>"
      ],
      "text/plain": [
       "              open       high        low   close  volume\n",
       "datetime                                                \n",
       "2023-09-18  129.94  130.35001  128.87000  130.17  132631\n",
       "2023-09-15  129.75  130.64999  128.75999  128.89  464700\n",
       "2023-09-14  130.30  131.07001  130.08000  130.52  544500\n",
       "2023-09-13  130.27  130.50999  128.36000  129.00  403800\n",
       "2023-09-12  128.27  130.25999  128.24001  130.05  464500\n",
       "...            ...        ...        ...     ...     ...\n",
       "2010-01-08   87.38   88.31000   87.09000   88.30  103400\n",
       "2010-01-07   87.56   87.79000   86.82000   87.64  138100\n",
       "2010-01-06   86.77   88.00000   86.63000   87.85  191300\n",
       "2010-01-05   86.04   86.88000   85.74000   86.85  182600\n",
       "2010-01-04   84.48   85.99000   84.48000   85.97  209200\n",
       "\n",
       "[3450 rows x 5 columns]"
      ]
     },
     "execution_count": 4,
     "metadata": {},
     "output_type": "execute_result"
    }
   ],
   "source": [
    "vde_raw"
   ]
  },
  {
   "cell_type": "code",
   "execution_count": 6,
   "id": "b4485e7d-af30-49d8-9ae8-e6e65e841f76",
   "metadata": {
    "tags": []
   },
   "outputs": [
    {
     "ename": "NameError",
     "evalue": "name 'rth_raw' is not defined",
     "output_type": "error",
     "traceback": [
      "\u001b[0;31m---------------------------------------------------------------------------\u001b[0m",
      "\u001b[0;31mNameError\u001b[0m                                 Traceback (most recent call last)",
      "Cell \u001b[0;32mIn[6], line 1\u001b[0m\n\u001b[0;32m----> 1\u001b[0m \u001b[43mrth_raw\u001b[49m\n",
      "\u001b[0;31mNameError\u001b[0m: name 'rth_raw' is not defined"
     ]
    }
   ],
   "source": [
    "rth_raw"
   ]
  },
  {
   "cell_type": "code",
   "execution_count": 61,
   "id": "f65a0f3b-4adb-4d26-b8b4-0c97b42e75a4",
   "metadata": {
    "tags": []
   },
   "outputs": [
    {
     "data": {
      "text/html": [
       "<div>\n",
       "<style scoped>\n",
       "    .dataframe tbody tr th:only-of-type {\n",
       "        vertical-align: middle;\n",
       "    }\n",
       "\n",
       "    .dataframe tbody tr th {\n",
       "        vertical-align: top;\n",
       "    }\n",
       "\n",
       "    .dataframe thead th {\n",
       "        text-align: right;\n",
       "    }\n",
       "</style>\n",
       "<table border=\"1\" class=\"dataframe\">\n",
       "  <thead>\n",
       "    <tr style=\"text-align: right;\">\n",
       "      <th></th>\n",
       "      <th>open</th>\n",
       "      <th>high</th>\n",
       "      <th>low</th>\n",
       "      <th>close</th>\n",
       "      <th>volume</th>\n",
       "    </tr>\n",
       "    <tr>\n",
       "      <th>datetime</th>\n",
       "      <th></th>\n",
       "      <th></th>\n",
       "      <th></th>\n",
       "      <th></th>\n",
       "      <th></th>\n",
       "    </tr>\n",
       "  </thead>\n",
       "  <tbody>\n",
       "    <tr>\n",
       "      <th>2023-09-18</th>\n",
       "      <td>71.79</td>\n",
       "      <td>71.83</td>\n",
       "      <td>71.32</td>\n",
       "      <td>71.38</td>\n",
       "      <td>1470812</td>\n",
       "    </tr>\n",
       "    <tr>\n",
       "      <th>2023-09-15</th>\n",
       "      <td>72.50</td>\n",
       "      <td>72.76</td>\n",
       "      <td>71.99</td>\n",
       "      <td>72.05</td>\n",
       "      <td>10891600</td>\n",
       "    </tr>\n",
       "    <tr>\n",
       "      <th>2023-09-14</th>\n",
       "      <td>72.12</td>\n",
       "      <td>72.70</td>\n",
       "      <td>72.09</td>\n",
       "      <td>72.65</td>\n",
       "      <td>9356000</td>\n",
       "    </tr>\n",
       "    <tr>\n",
       "      <th>2023-09-13</th>\n",
       "      <td>71.82</td>\n",
       "      <td>72.10</td>\n",
       "      <td>71.67</td>\n",
       "      <td>71.92</td>\n",
       "      <td>7863700</td>\n",
       "    </tr>\n",
       "    <tr>\n",
       "      <th>2023-09-12</th>\n",
       "      <td>72.36</td>\n",
       "      <td>72.38</td>\n",
       "      <td>71.64</td>\n",
       "      <td>71.70</td>\n",
       "      <td>13300200</td>\n",
       "    </tr>\n",
       "    <tr>\n",
       "      <th>...</th>\n",
       "      <td>...</td>\n",
       "      <td>...</td>\n",
       "      <td>...</td>\n",
       "      <td>...</td>\n",
       "      <td>...</td>\n",
       "    </tr>\n",
       "    <tr>\n",
       "      <th>2010-01-08</th>\n",
       "      <td>26.60</td>\n",
       "      <td>26.60</td>\n",
       "      <td>26.42</td>\n",
       "      <td>26.57</td>\n",
       "      <td>5437400</td>\n",
       "    </tr>\n",
       "    <tr>\n",
       "      <th>2010-01-07</th>\n",
       "      <td>26.74</td>\n",
       "      <td>26.74</td>\n",
       "      <td>26.51</td>\n",
       "      <td>26.66</td>\n",
       "      <td>6951500</td>\n",
       "    </tr>\n",
       "    <tr>\n",
       "      <th>2010-01-06</th>\n",
       "      <td>26.65</td>\n",
       "      <td>26.69</td>\n",
       "      <td>26.54</td>\n",
       "      <td>26.66</td>\n",
       "      <td>9267000</td>\n",
       "    </tr>\n",
       "    <tr>\n",
       "      <th>2010-01-05</th>\n",
       "      <td>26.69</td>\n",
       "      <td>26.72</td>\n",
       "      <td>26.54</td>\n",
       "      <td>26.68</td>\n",
       "      <td>11805400</td>\n",
       "    </tr>\n",
       "    <tr>\n",
       "      <th>2010-01-04</th>\n",
       "      <td>26.45</td>\n",
       "      <td>26.78</td>\n",
       "      <td>26.45</td>\n",
       "      <td>26.67</td>\n",
       "      <td>8465900</td>\n",
       "    </tr>\n",
       "  </tbody>\n",
       "</table>\n",
       "<p>3450 rows × 5 columns</p>\n",
       "</div>"
      ],
      "text/plain": [
       "             open   high    low  close    volume\n",
       "datetime                                        \n",
       "2023-09-18  71.79  71.83  71.32  71.38   1470812\n",
       "2023-09-15  72.50  72.76  71.99  72.05  10891600\n",
       "2023-09-14  72.12  72.70  72.09  72.65   9356000\n",
       "2023-09-13  71.82  72.10  71.67  71.92   7863700\n",
       "2023-09-12  72.36  72.38  71.64  71.70  13300200\n",
       "...           ...    ...    ...    ...       ...\n",
       "2010-01-08  26.60  26.60  26.42  26.57   5437400\n",
       "2010-01-07  26.74  26.74  26.51  26.66   6951500\n",
       "2010-01-06  26.65  26.69  26.54  26.66   9267000\n",
       "2010-01-05  26.69  26.72  26.54  26.68  11805400\n",
       "2010-01-04  26.45  26.78  26.45  26.67   8465900\n",
       "\n",
       "[3450 rows x 5 columns]"
      ]
     },
     "execution_count": 61,
     "metadata": {},
     "output_type": "execute_result"
    }
   ],
   "source": [
    "xlp_raw"
   ]
  },
  {
   "cell_type": "code",
   "execution_count": 60,
   "id": "6c052a94-0af4-42c0-bc53-0efc0ea4e0e3",
   "metadata": {
    "tags": []
   },
   "outputs": [
    {
     "data": {
      "text/html": [
       "<div>\n",
       "<style scoped>\n",
       "    .dataframe tbody tr th:only-of-type {\n",
       "        vertical-align: middle;\n",
       "    }\n",
       "\n",
       "    .dataframe tbody tr th {\n",
       "        vertical-align: top;\n",
       "    }\n",
       "\n",
       "    .dataframe thead th {\n",
       "        text-align: right;\n",
       "    }\n",
       "</style>\n",
       "<table border=\"1\" class=\"dataframe\">\n",
       "  <thead>\n",
       "    <tr style=\"text-align: right;\">\n",
       "      <th></th>\n",
       "      <th>open</th>\n",
       "      <th>high</th>\n",
       "      <th>low</th>\n",
       "      <th>close</th>\n",
       "      <th>volume</th>\n",
       "    </tr>\n",
       "    <tr>\n",
       "      <th>datetime</th>\n",
       "      <th></th>\n",
       "      <th></th>\n",
       "      <th></th>\n",
       "      <th></th>\n",
       "      <th></th>\n",
       "    </tr>\n",
       "  </thead>\n",
       "  <tbody>\n",
       "    <tr>\n",
       "      <th>2023-09-07</th>\n",
       "      <td>91.44</td>\n",
       "      <td>91.90</td>\n",
       "      <td>91.0088</td>\n",
       "      <td>91.17</td>\n",
       "      <td>15361552</td>\n",
       "    </tr>\n",
       "    <tr>\n",
       "      <th>2023-09-06</th>\n",
       "      <td>91.04</td>\n",
       "      <td>91.75</td>\n",
       "      <td>90.5900</td>\n",
       "      <td>91.26</td>\n",
       "      <td>20162100</td>\n",
       "    </tr>\n",
       "    <tr>\n",
       "      <th>2023-09-05</th>\n",
       "      <td>91.25</td>\n",
       "      <td>92.15</td>\n",
       "      <td>91.1600</td>\n",
       "      <td>91.22</td>\n",
       "      <td>24368700</td>\n",
       "    </tr>\n",
       "    <tr>\n",
       "      <th>2023-09-01</th>\n",
       "      <td>89.90</td>\n",
       "      <td>90.84</td>\n",
       "      <td>89.8800</td>\n",
       "      <td>90.74</td>\n",
       "      <td>17878100</td>\n",
       "    </tr>\n",
       "    <tr>\n",
       "      <th>2023-08-31</th>\n",
       "      <td>89.19</td>\n",
       "      <td>89.34</td>\n",
       "      <td>88.2800</td>\n",
       "      <td>88.92</td>\n",
       "      <td>14808700</td>\n",
       "    </tr>\n",
       "    <tr>\n",
       "      <th>...</th>\n",
       "      <td>...</td>\n",
       "      <td>...</td>\n",
       "      <td>...</td>\n",
       "      <td>...</td>\n",
       "      <td>...</td>\n",
       "    </tr>\n",
       "    <tr>\n",
       "      <th>2010-01-08</th>\n",
       "      <td>59.70</td>\n",
       "      <td>60.35</td>\n",
       "      <td>59.4900</td>\n",
       "      <td>60.30</td>\n",
       "      <td>13344300</td>\n",
       "    </tr>\n",
       "    <tr>\n",
       "      <th>2010-01-07</th>\n",
       "      <td>59.74</td>\n",
       "      <td>60.01</td>\n",
       "      <td>59.3000</td>\n",
       "      <td>59.91</td>\n",
       "      <td>17449500</td>\n",
       "    </tr>\n",
       "    <tr>\n",
       "      <th>2010-01-06</th>\n",
       "      <td>59.32</td>\n",
       "      <td>60.18</td>\n",
       "      <td>59.1900</td>\n",
       "      <td>60.00</td>\n",
       "      <td>24351900</td>\n",
       "    </tr>\n",
       "    <tr>\n",
       "      <th>2010-01-05</th>\n",
       "      <td>58.89</td>\n",
       "      <td>59.41</td>\n",
       "      <td>58.6200</td>\n",
       "      <td>59.29</td>\n",
       "      <td>17368100</td>\n",
       "    </tr>\n",
       "    <tr>\n",
       "      <th>2010-01-04</th>\n",
       "      <td>57.92</td>\n",
       "      <td>58.81</td>\n",
       "      <td>57.7900</td>\n",
       "      <td>58.81</td>\n",
       "      <td>16928400</td>\n",
       "    </tr>\n",
       "  </tbody>\n",
       "</table>\n",
       "<p>3443 rows × 5 columns</p>\n",
       "</div>"
      ],
      "text/plain": [
       "             open   high      low  close    volume\n",
       "datetime                                          \n",
       "2023-09-07  91.44  91.90  91.0088  91.17  15361552\n",
       "2023-09-06  91.04  91.75  90.5900  91.26  20162100\n",
       "2023-09-05  91.25  92.15  91.1600  91.22  24368700\n",
       "2023-09-01  89.90  90.84  89.8800  90.74  17878100\n",
       "2023-08-31  89.19  89.34  88.2800  88.92  14808700\n",
       "...           ...    ...      ...    ...       ...\n",
       "2010-01-08  59.70  60.35  59.4900  60.30  13344300\n",
       "2010-01-07  59.74  60.01  59.3000  59.91  17449500\n",
       "2010-01-06  59.32  60.18  59.1900  60.00  24351900\n",
       "2010-01-05  58.89  59.41  58.6200  59.29  17368100\n",
       "2010-01-04  57.92  58.81  57.7900  58.81  16928400\n",
       "\n",
       "[3443 rows x 5 columns]"
      ]
     },
     "execution_count": 60,
     "metadata": {},
     "output_type": "execute_result"
    }
   ],
   "source": [
    "xle_raw"
   ]
  },
  {
   "cell_type": "code",
   "execution_count": 5,
   "id": "495a16bc-6d8e-406c-8928-74d9d2ea2d34",
   "metadata": {
    "tags": []
   },
   "outputs": [
    {
     "data": {
      "text/html": [
       "<div>\n",
       "<style scoped>\n",
       "    .dataframe tbody tr th:only-of-type {\n",
       "        vertical-align: middle;\n",
       "    }\n",
       "\n",
       "    .dataframe tbody tr th {\n",
       "        vertical-align: top;\n",
       "    }\n",
       "\n",
       "    .dataframe thead th {\n",
       "        text-align: right;\n",
       "    }\n",
       "</style>\n",
       "<table border=\"1\" class=\"dataframe\">\n",
       "  <thead>\n",
       "    <tr style=\"text-align: right;\">\n",
       "      <th></th>\n",
       "      <th>open</th>\n",
       "      <th>high</th>\n",
       "      <th>low</th>\n",
       "      <th>close</th>\n",
       "      <th>volume</th>\n",
       "    </tr>\n",
       "    <tr>\n",
       "      <th>datetime</th>\n",
       "      <th></th>\n",
       "      <th></th>\n",
       "      <th></th>\n",
       "      <th></th>\n",
       "      <th></th>\n",
       "    </tr>\n",
       "  </thead>\n",
       "  <tbody>\n",
       "    <tr>\n",
       "      <th>2023-09-07</th>\n",
       "      <td>62.35</td>\n",
       "      <td>63.13</td>\n",
       "      <td>62.19</td>\n",
       "      <td>62.63</td>\n",
       "      <td>16873800</td>\n",
       "    </tr>\n",
       "    <tr>\n",
       "      <th>2023-09-06</th>\n",
       "      <td>61.77</td>\n",
       "      <td>61.89</td>\n",
       "      <td>61.42</td>\n",
       "      <td>61.82</td>\n",
       "      <td>19470100</td>\n",
       "    </tr>\n",
       "    <tr>\n",
       "      <th>2023-09-05</th>\n",
       "      <td>62.60</td>\n",
       "      <td>62.64</td>\n",
       "      <td>61.34</td>\n",
       "      <td>61.68</td>\n",
       "      <td>18825300</td>\n",
       "    </tr>\n",
       "    <tr>\n",
       "      <th>2023-09-01</th>\n",
       "      <td>63.29</td>\n",
       "      <td>63.51</td>\n",
       "      <td>62.15</td>\n",
       "      <td>62.64</td>\n",
       "      <td>14387700</td>\n",
       "    </tr>\n",
       "    <tr>\n",
       "      <th>2023-08-31</th>\n",
       "      <td>63.82</td>\n",
       "      <td>63.88</td>\n",
       "      <td>62.94</td>\n",
       "      <td>62.96</td>\n",
       "      <td>13771100</td>\n",
       "    </tr>\n",
       "    <tr>\n",
       "      <th>...</th>\n",
       "      <td>...</td>\n",
       "      <td>...</td>\n",
       "      <td>...</td>\n",
       "      <td>...</td>\n",
       "      <td>...</td>\n",
       "    </tr>\n",
       "    <tr>\n",
       "      <th>2010-01-08</th>\n",
       "      <td>30.71</td>\n",
       "      <td>30.79</td>\n",
       "      <td>30.52</td>\n",
       "      <td>30.72</td>\n",
       "      <td>6267600</td>\n",
       "    </tr>\n",
       "    <tr>\n",
       "      <th>2010-01-07</th>\n",
       "      <td>30.85</td>\n",
       "      <td>30.87</td>\n",
       "      <td>30.64</td>\n",
       "      <td>30.75</td>\n",
       "      <td>6563100</td>\n",
       "    </tr>\n",
       "    <tr>\n",
       "      <th>2010-01-06</th>\n",
       "      <td>30.69</td>\n",
       "      <td>31.00</td>\n",
       "      <td>30.69</td>\n",
       "      <td>30.89</td>\n",
       "      <td>12745100</td>\n",
       "    </tr>\n",
       "    <tr>\n",
       "      <th>2010-01-05</th>\n",
       "      <td>30.99</td>\n",
       "      <td>31.17</td>\n",
       "      <td>30.56</td>\n",
       "      <td>30.71</td>\n",
       "      <td>18023700</td>\n",
       "    </tr>\n",
       "    <tr>\n",
       "      <th>2010-01-04</th>\n",
       "      <td>31.28</td>\n",
       "      <td>31.36</td>\n",
       "      <td>31.01</td>\n",
       "      <td>31.08</td>\n",
       "      <td>8217600</td>\n",
       "    </tr>\n",
       "  </tbody>\n",
       "</table>\n",
       "<p>3443 rows × 5 columns</p>\n",
       "</div>"
      ],
      "text/plain": [
       "             open   high    low  close    volume\n",
       "datetime                                        \n",
       "2023-09-07  62.35  63.13  62.19  62.63  16873800\n",
       "2023-09-06  61.77  61.89  61.42  61.82  19470100\n",
       "2023-09-05  62.60  62.64  61.34  61.68  18825300\n",
       "2023-09-01  63.29  63.51  62.15  62.64  14387700\n",
       "2023-08-31  63.82  63.88  62.94  62.96  13771100\n",
       "...           ...    ...    ...    ...       ...\n",
       "2010-01-08  30.71  30.79  30.52  30.72   6267600\n",
       "2010-01-07  30.85  30.87  30.64  30.75   6563100\n",
       "2010-01-06  30.69  31.00  30.69  30.89  12745100\n",
       "2010-01-05  30.99  31.17  30.56  30.71  18023700\n",
       "2010-01-04  31.28  31.36  31.01  31.08   8217600\n",
       "\n",
       "[3443 rows x 5 columns]"
      ]
     },
     "execution_count": 5,
     "metadata": {},
     "output_type": "execute_result"
    }
   ],
   "source": [
    "xlu_raw"
   ]
  },
  {
   "cell_type": "code",
   "execution_count": 4,
   "id": "6bf841b7-4463-4c7c-848b-3a79fc3f441e",
   "metadata": {
    "tags": []
   },
   "outputs": [
    {
     "data": {
      "text/plain": [
       "datetime\n",
       "2023-09-07    91.17\n",
       "2023-09-06    91.26\n",
       "2023-09-05    91.22\n",
       "2023-09-01    90.74\n",
       "2023-08-31    88.92\n",
       "              ...  \n",
       "2010-01-08    60.30\n",
       "2010-01-07    59.91\n",
       "2010-01-06    60.00\n",
       "2010-01-05    59.29\n",
       "2010-01-04    58.81\n",
       "Name: XLE, Length: 3443, dtype: float64"
      ]
     },
     "execution_count": 4,
     "metadata": {},
     "output_type": "execute_result"
    }
   ],
   "source": [
    "xle = xle_raw[\"close\"].rename(\"XLE\")\n",
    "xle"
   ]
  },
  {
   "cell_type": "code",
   "execution_count": 5,
   "id": "accac899-fe73-4307-901e-2e21a2ad3c99",
   "metadata": {
    "tags": []
   },
   "outputs": [
    {
     "data": {
      "text/plain": [
       "datetime\n",
       "2023-09-07    62.63\n",
       "2023-09-06    61.82\n",
       "2023-09-05    61.68\n",
       "2023-09-01    62.64\n",
       "2023-08-31    62.96\n",
       "              ...  \n",
       "2010-01-08    30.72\n",
       "2010-01-07    30.75\n",
       "2010-01-06    30.89\n",
       "2010-01-05    30.71\n",
       "2010-01-04    31.08\n",
       "Name: XLU, Length: 3443, dtype: float64"
      ]
     },
     "execution_count": 5,
     "metadata": {},
     "output_type": "execute_result"
    }
   ],
   "source": [
    "xlu = xlu_raw[\"close\"].rename(\"XLU\")\n",
    "xlu"
   ]
  },
  {
   "cell_type": "code",
   "execution_count": 5,
   "id": "900825cf-ea57-4520-b031-179cf15056fc",
   "metadata": {
    "tags": []
   },
   "outputs": [
    {
     "ename": "NameError",
     "evalue": "name 'xle' is not defined",
     "output_type": "error",
     "traceback": [
      "\u001b[0;31m---------------------------------------------------------------------------\u001b[0m",
      "\u001b[0;31mNameError\u001b[0m                                 Traceback (most recent call last)",
      "Cell \u001b[0;32mIn[5], line 1\u001b[0m\n\u001b[0;32m----> 1\u001b[0m compose \u001b[38;5;241m=\u001b[39m pd\u001b[38;5;241m.\u001b[39mmerge(\u001b[43mxle\u001b[49m, xlu, on\u001b[38;5;241m=\u001b[39m\u001b[38;5;124m\"\u001b[39m\u001b[38;5;124mdatetime\u001b[39m\u001b[38;5;124m\"\u001b[39m, how\u001b[38;5;241m=\u001b[39m\u001b[38;5;124m\"\u001b[39m\u001b[38;5;124mouter\u001b[39m\u001b[38;5;124m\"\u001b[39m)\n\u001b[1;32m      2\u001b[0m compose\n",
      "\u001b[0;31mNameError\u001b[0m: name 'xle' is not defined"
     ]
    }
   ],
   "source": [
    "compose = pd.merge(xle, xlu, on=\"datetime\", how=\"outer\")\n",
    "compose"
   ]
  },
  {
   "cell_type": "code",
   "execution_count": 63,
   "id": "ba23cc8b-7113-4f13-b284-54d7e7d2014a",
   "metadata": {
    "tags": []
   },
   "outputs": [
    {
     "data": {
      "text/html": [
       "<div>\n",
       "<style scoped>\n",
       "    .dataframe tbody tr th:only-of-type {\n",
       "        vertical-align: middle;\n",
       "    }\n",
       "\n",
       "    .dataframe tbody tr th {\n",
       "        vertical-align: top;\n",
       "    }\n",
       "\n",
       "    .dataframe thead th {\n",
       "        text-align: right;\n",
       "    }\n",
       "</style>\n",
       "<table border=\"1\" class=\"dataframe\">\n",
       "  <thead>\n",
       "    <tr style=\"text-align: right;\">\n",
       "      <th></th>\n",
       "      <th>RTH</th>\n",
       "      <th>XLP</th>\n",
       "    </tr>\n",
       "    <tr>\n",
       "      <th>datetime</th>\n",
       "      <th></th>\n",
       "      <th></th>\n",
       "    </tr>\n",
       "  </thead>\n",
       "  <tbody>\n",
       "    <tr>\n",
       "      <th>2023-09-18</th>\n",
       "      <td>175.82001</td>\n",
       "      <td>71.38</td>\n",
       "    </tr>\n",
       "    <tr>\n",
       "      <th>2023-09-15</th>\n",
       "      <td>175.81000</td>\n",
       "      <td>72.05</td>\n",
       "    </tr>\n",
       "    <tr>\n",
       "      <th>2023-09-14</th>\n",
       "      <td>178.03999</td>\n",
       "      <td>72.65</td>\n",
       "    </tr>\n",
       "    <tr>\n",
       "      <th>2023-09-13</th>\n",
       "      <td>177.50000</td>\n",
       "      <td>71.92</td>\n",
       "    </tr>\n",
       "    <tr>\n",
       "      <th>2023-09-12</th>\n",
       "      <td>176.82001</td>\n",
       "      <td>71.70</td>\n",
       "    </tr>\n",
       "    <tr>\n",
       "      <th>...</th>\n",
       "      <td>...</td>\n",
       "      <td>...</td>\n",
       "    </tr>\n",
       "    <tr>\n",
       "      <th>2010-01-08</th>\n",
       "      <td>31.46333</td>\n",
       "      <td>26.57</td>\n",
       "    </tr>\n",
       "    <tr>\n",
       "      <th>2010-01-07</th>\n",
       "      <td>31.57333</td>\n",
       "      <td>26.66</td>\n",
       "    </tr>\n",
       "    <tr>\n",
       "      <th>2010-01-06</th>\n",
       "      <td>31.37000</td>\n",
       "      <td>26.66</td>\n",
       "    </tr>\n",
       "    <tr>\n",
       "      <th>2010-01-05</th>\n",
       "      <td>31.34333</td>\n",
       "      <td>26.68</td>\n",
       "    </tr>\n",
       "    <tr>\n",
       "      <th>2010-01-04</th>\n",
       "      <td>31.36000</td>\n",
       "      <td>26.67</td>\n",
       "    </tr>\n",
       "  </tbody>\n",
       "</table>\n",
       "<p>3450 rows × 2 columns</p>\n",
       "</div>"
      ],
      "text/plain": [
       "                  RTH    XLP\n",
       "datetime                    \n",
       "2023-09-18  175.82001  71.38\n",
       "2023-09-15  175.81000  72.05\n",
       "2023-09-14  178.03999  72.65\n",
       "2023-09-13  177.50000  71.92\n",
       "2023-09-12  176.82001  71.70\n",
       "...               ...    ...\n",
       "2010-01-08   31.46333  26.57\n",
       "2010-01-07   31.57333  26.66\n",
       "2010-01-06   31.37000  26.66\n",
       "2010-01-05   31.34333  26.68\n",
       "2010-01-04   31.36000  26.67\n",
       "\n",
       "[3450 rows x 2 columns]"
      ]
     },
     "execution_count": 63,
     "metadata": {},
     "output_type": "execute_result"
    }
   ],
   "source": [
    "rth = rth_raw[\"close\"].rename(\"RTH\")\n",
    "xlp = xlp_raw[\"close\"].rename(\"XLP\")\n",
    "compose = pd.merge(rth, xlp, on=\"datetime\", how=\"outer\")\n",
    "compose"
   ]
  },
  {
   "cell_type": "code",
   "execution_count": 6,
   "id": "262ffa4a-9268-4660-9335-3302a12e571c",
   "metadata": {
    "tags": []
   },
   "outputs": [
    {
     "data": {
      "text/html": [
       "<div>\n",
       "<style scoped>\n",
       "    .dataframe tbody tr th:only-of-type {\n",
       "        vertical-align: middle;\n",
       "    }\n",
       "\n",
       "    .dataframe tbody tr th {\n",
       "        vertical-align: top;\n",
       "    }\n",
       "\n",
       "    .dataframe thead th {\n",
       "        text-align: right;\n",
       "    }\n",
       "</style>\n",
       "<table border=\"1\" class=\"dataframe\">\n",
       "  <thead>\n",
       "    <tr style=\"text-align: right;\">\n",
       "      <th></th>\n",
       "      <th>IYE</th>\n",
       "      <th>VDE</th>\n",
       "    </tr>\n",
       "    <tr>\n",
       "      <th>datetime</th>\n",
       "      <th></th>\n",
       "      <th></th>\n",
       "    </tr>\n",
       "  </thead>\n",
       "  <tbody>\n",
       "    <tr>\n",
       "      <th>2023-09-18</th>\n",
       "      <td>48.74</td>\n",
       "      <td>130.17</td>\n",
       "    </tr>\n",
       "    <tr>\n",
       "      <th>2023-09-15</th>\n",
       "      <td>48.30</td>\n",
       "      <td>128.89</td>\n",
       "    </tr>\n",
       "    <tr>\n",
       "      <th>2023-09-14</th>\n",
       "      <td>48.97</td>\n",
       "      <td>130.52</td>\n",
       "    </tr>\n",
       "    <tr>\n",
       "      <th>2023-09-13</th>\n",
       "      <td>48.34</td>\n",
       "      <td>129.00</td>\n",
       "    </tr>\n",
       "    <tr>\n",
       "      <th>2023-09-12</th>\n",
       "      <td>48.76</td>\n",
       "      <td>130.05</td>\n",
       "    </tr>\n",
       "    <tr>\n",
       "      <th>...</th>\n",
       "      <td>...</td>\n",
       "      <td>...</td>\n",
       "    </tr>\n",
       "    <tr>\n",
       "      <th>2010-01-08</th>\n",
       "      <td>35.03</td>\n",
       "      <td>88.30</td>\n",
       "    </tr>\n",
       "    <tr>\n",
       "      <th>2010-01-07</th>\n",
       "      <td>34.75</td>\n",
       "      <td>87.64</td>\n",
       "    </tr>\n",
       "    <tr>\n",
       "      <th>2010-01-06</th>\n",
       "      <td>34.89</td>\n",
       "      <td>87.85</td>\n",
       "    </tr>\n",
       "    <tr>\n",
       "      <th>2010-01-05</th>\n",
       "      <td>34.52</td>\n",
       "      <td>86.85</td>\n",
       "    </tr>\n",
       "    <tr>\n",
       "      <th>2010-01-04</th>\n",
       "      <td>34.23</td>\n",
       "      <td>85.97</td>\n",
       "    </tr>\n",
       "  </tbody>\n",
       "</table>\n",
       "<p>3450 rows × 2 columns</p>\n",
       "</div>"
      ],
      "text/plain": [
       "              IYE     VDE\n",
       "datetime                 \n",
       "2023-09-18  48.74  130.17\n",
       "2023-09-15  48.30  128.89\n",
       "2023-09-14  48.97  130.52\n",
       "2023-09-13  48.34  129.00\n",
       "2023-09-12  48.76  130.05\n",
       "...           ...     ...\n",
       "2010-01-08  35.03   88.30\n",
       "2010-01-07  34.75   87.64\n",
       "2010-01-06  34.89   87.85\n",
       "2010-01-05  34.52   86.85\n",
       "2010-01-04  34.23   85.97\n",
       "\n",
       "[3450 rows x 2 columns]"
      ]
     },
     "execution_count": 6,
     "metadata": {},
     "output_type": "execute_result"
    }
   ],
   "source": [
    "iye = iye_raw[\"close\"].rename(\"IYE\")\n",
    "vde = vde_raw[\"close\"].rename(\"VDE\")\n",
    "compose = pd.merge(iye, vde, on=\"datetime\", how=\"outer\")\n",
    "compose"
   ]
  },
  {
   "cell_type": "code",
   "execution_count": 8,
   "id": "50a5894e-f3a3-49e4-beab-470a777e4447",
   "metadata": {
    "tags": []
   },
   "outputs": [
    {
     "data": {
      "text/plain": [
       "<Axes: xlabel='datetime'>"
      ]
     },
     "execution_count": 8,
     "metadata": {},
     "output_type": "execute_result"
    },
    {
     "data": {
      "image/png": "[encoded data removed]",
      "text/plain": [
       "<Figure size 640x480 with 1 Axes>"
      ]
     },
     "metadata": {},
     "output_type": "display_data"
    }
   ],
   "source": [
    "compose[compose.index.year > 2015].plot()"
   ]
  },
  {
   "cell_type": "code",
   "execution_count": 7,
   "id": "a18415f1-649e-493e-b859-df52ea6cbe5b",
   "metadata": {
    "tags": []
   },
   "outputs": [],
   "source": [
    "from sklearn.model_selection import train_test_split\n",
    "\n",
    "train_dataset, test_dataset = train_test_split(compose.sort_index(), test_size=0.2, shuffle=False)"
   ]
  },
  {
   "cell_type": "code",
   "execution_count": 8,
   "id": "390e231f-b174-4e5a-85af-ae6d9a229401",
   "metadata": {
    "tags": []
   },
   "outputs": [
    {
     "data": {
      "text/html": [
       "<div>\n",
       "<style scoped>\n",
       "    .dataframe tbody tr th:only-of-type {\n",
       "        vertical-align: middle;\n",
       "    }\n",
       "\n",
       "    .dataframe tbody tr th {\n",
       "        vertical-align: top;\n",
       "    }\n",
       "\n",
       "    .dataframe thead th {\n",
       "        text-align: right;\n",
       "    }\n",
       "</style>\n",
       "<table border=\"1\" class=\"dataframe\">\n",
       "  <thead>\n",
       "    <tr style=\"text-align: right;\">\n",
       "      <th></th>\n",
       "      <th>IYE</th>\n",
       "      <th>VDE</th>\n",
       "    </tr>\n",
       "    <tr>\n",
       "      <th>datetime</th>\n",
       "      <th></th>\n",
       "      <th></th>\n",
       "    </tr>\n",
       "  </thead>\n",
       "  <tbody>\n",
       "    <tr>\n",
       "      <th>2010-01-04</th>\n",
       "      <td>34.23</td>\n",
       "      <td>85.97</td>\n",
       "    </tr>\n",
       "    <tr>\n",
       "      <th>2010-01-05</th>\n",
       "      <td>34.52</td>\n",
       "      <td>86.85</td>\n",
       "    </tr>\n",
       "    <tr>\n",
       "      <th>2010-01-06</th>\n",
       "      <td>34.89</td>\n",
       "      <td>87.85</td>\n",
       "    </tr>\n",
       "    <tr>\n",
       "      <th>2010-01-07</th>\n",
       "      <td>34.75</td>\n",
       "      <td>87.64</td>\n",
       "    </tr>\n",
       "    <tr>\n",
       "      <th>2010-01-08</th>\n",
       "      <td>35.03</td>\n",
       "      <td>88.30</td>\n",
       "    </tr>\n",
       "    <tr>\n",
       "      <th>...</th>\n",
       "      <td>...</td>\n",
       "      <td>...</td>\n",
       "    </tr>\n",
       "    <tr>\n",
       "      <th>2020-12-11</th>\n",
       "      <td>21.81</td>\n",
       "      <td>55.95</td>\n",
       "    </tr>\n",
       "    <tr>\n",
       "      <th>2020-12-14</th>\n",
       "      <td>20.83</td>\n",
       "      <td>54.00</td>\n",
       "    </tr>\n",
       "    <tr>\n",
       "      <th>2020-12-15</th>\n",
       "      <td>21.26</td>\n",
       "      <td>55.09</td>\n",
       "    </tr>\n",
       "    <tr>\n",
       "      <th>2020-12-16</th>\n",
       "      <td>21.17</td>\n",
       "      <td>54.85</td>\n",
       "    </tr>\n",
       "    <tr>\n",
       "      <th>2020-12-17</th>\n",
       "      <td>21.04</td>\n",
       "      <td>53.99</td>\n",
       "    </tr>\n",
       "  </tbody>\n",
       "</table>\n",
       "<p>2760 rows × 2 columns</p>\n",
       "</div>"
      ],
      "text/plain": [
       "              IYE    VDE\n",
       "datetime                \n",
       "2010-01-04  34.23  85.97\n",
       "2010-01-05  34.52  86.85\n",
       "2010-01-06  34.89  87.85\n",
       "2010-01-07  34.75  87.64\n",
       "2010-01-08  35.03  88.30\n",
       "...           ...    ...\n",
       "2020-12-11  21.81  55.95\n",
       "2020-12-14  20.83  54.00\n",
       "2020-12-15  21.26  55.09\n",
       "2020-12-16  21.17  54.85\n",
       "2020-12-17  21.04  53.99\n",
       "\n",
       "[2760 rows x 2 columns]"
      ]
     },
     "execution_count": 8,
     "metadata": {},
     "output_type": "execute_result"
    }
   ],
   "source": [
    "train_dataset"
   ]
  },
  {
   "cell_type": "code",
   "execution_count": 9,
   "id": "e606f77b-2a6e-4b11-91f4-5edcd8afdf0f",
   "metadata": {
    "tags": []
   },
   "outputs": [
    {
     "data": {
      "text/html": [
       "<div>\n",
       "<style scoped>\n",
       "    .dataframe tbody tr th:only-of-type {\n",
       "        vertical-align: middle;\n",
       "    }\n",
       "\n",
       "    .dataframe tbody tr th {\n",
       "        vertical-align: top;\n",
       "    }\n",
       "\n",
       "    .dataframe thead th {\n",
       "        text-align: right;\n",
       "    }\n",
       "</style>\n",
       "<table border=\"1\" class=\"dataframe\">\n",
       "  <thead>\n",
       "    <tr style=\"text-align: right;\">\n",
       "      <th></th>\n",
       "      <th>IYE</th>\n",
       "      <th>VDE</th>\n",
       "    </tr>\n",
       "    <tr>\n",
       "      <th>datetime</th>\n",
       "      <th></th>\n",
       "      <th></th>\n",
       "    </tr>\n",
       "  </thead>\n",
       "  <tbody>\n",
       "    <tr>\n",
       "      <th>2020-12-18</th>\n",
       "      <td>20.71</td>\n",
       "      <td>53.06</td>\n",
       "    </tr>\n",
       "    <tr>\n",
       "      <th>2020-12-21</th>\n",
       "      <td>20.34</td>\n",
       "      <td>52.12</td>\n",
       "    </tr>\n",
       "    <tr>\n",
       "      <th>2020-12-22</th>\n",
       "      <td>20.02</td>\n",
       "      <td>51.30</td>\n",
       "    </tr>\n",
       "    <tr>\n",
       "      <th>2020-12-23</th>\n",
       "      <td>20.46</td>\n",
       "      <td>52.60</td>\n",
       "    </tr>\n",
       "    <tr>\n",
       "      <th>2020-12-24</th>\n",
       "      <td>20.33</td>\n",
       "      <td>52.16</td>\n",
       "    </tr>\n",
       "    <tr>\n",
       "      <th>...</th>\n",
       "      <td>...</td>\n",
       "      <td>...</td>\n",
       "    </tr>\n",
       "    <tr>\n",
       "      <th>2023-09-12</th>\n",
       "      <td>48.76</td>\n",
       "      <td>130.05</td>\n",
       "    </tr>\n",
       "    <tr>\n",
       "      <th>2023-09-13</th>\n",
       "      <td>48.34</td>\n",
       "      <td>129.00</td>\n",
       "    </tr>\n",
       "    <tr>\n",
       "      <th>2023-09-14</th>\n",
       "      <td>48.97</td>\n",
       "      <td>130.52</td>\n",
       "    </tr>\n",
       "    <tr>\n",
       "      <th>2023-09-15</th>\n",
       "      <td>48.30</td>\n",
       "      <td>128.89</td>\n",
       "    </tr>\n",
       "    <tr>\n",
       "      <th>2023-09-18</th>\n",
       "      <td>48.74</td>\n",
       "      <td>130.17</td>\n",
       "    </tr>\n",
       "  </tbody>\n",
       "</table>\n",
       "<p>690 rows × 2 columns</p>\n",
       "</div>"
      ],
      "text/plain": [
       "              IYE     VDE\n",
       "datetime                 \n",
       "2020-12-18  20.71   53.06\n",
       "2020-12-21  20.34   52.12\n",
       "2020-12-22  20.02   51.30\n",
       "2020-12-23  20.46   52.60\n",
       "2020-12-24  20.33   52.16\n",
       "...           ...     ...\n",
       "2023-09-12  48.76  130.05\n",
       "2023-09-13  48.34  129.00\n",
       "2023-09-14  48.97  130.52\n",
       "2023-09-15  48.30  128.89\n",
       "2023-09-18  48.74  130.17\n",
       "\n",
       "[690 rows x 2 columns]"
      ]
     },
     "execution_count": 9,
     "metadata": {},
     "output_type": "execute_result"
    }
   ],
   "source": [
    "test_dataset"
   ]
  },
  {
   "cell_type": "code",
   "execution_count": 10,
   "id": "7726626d-3927-48f1-9f84-5e5f60da0c71",
   "metadata": {
    "tags": []
   },
   "outputs": [
    {
     "data": {
      "text/plain": [
       "TimeSeriesSplit(gap=0, max_train_size=None, n_splits=5, test_size=None)"
      ]
     },
     "execution_count": 10,
     "metadata": {},
     "output_type": "execute_result"
    }
   ],
   "source": [
    "from sklearn.model_selection import TimeSeriesSplit\n",
    "\n",
    "tscv = TimeSeriesSplit(n_splits=5)\n",
    "tscv"
   ]
  },
  {
   "cell_type": "code",
   "execution_count": 11,
   "id": "1829eae3-b64e-42b9-ac4e-c9a0b7740d42",
   "metadata": {
    "tags": []
   },
   "outputs": [],
   "source": [
    "def zscore(series):\n",
    "    return (series - series.mean()) / series.std()"
   ]
  },
  {
   "cell_type": "code",
   "execution_count": 12,
   "id": "947bc179-3b18-4599-94f9-563a283fead8",
   "metadata": {
    "tags": []
   },
   "outputs": [],
   "source": [
    "import statsmodels.api as sm\n",
    "import statsmodels.tsa.stattools as ts\n",
    "def get_info_fold(train_data):\n",
    "    x = train_data[\"XLU\"]\n",
    "    y = train_data[\"XLE\"]\n",
    "    x = sm.add_constant(x)\n",
    "    results = sm.OLS(y, x).fit()\n",
    "    x = x[\"XLU\"]\n",
    "    b = results.params[\"XLU\"]\n",
    "\n",
    "    spread = y - x * b\n",
    "    result = ts.adfuller(spread)\n",
    "    print('ADF Statistic: %f' % result[0])\n",
    "    \n",
    "    x = spread.shift().dropna()\n",
    "    y = spread - spread.shift()\n",
    "    y = y.dropna()\n",
    "    x = sm.add_constant(x)\n",
    "    results = sm.OLS(y, x).fit()\n",
    "    halflife = -math.log(2) / results.params[0]\n",
    "    print('Halflife: %f' % halflife)"
   ]
  },
  {
   "cell_type": "markdown",
   "id": "d651aedd-2c1e-4e27-a4b7-d2c116c8d79d",
   "metadata": {},
   "source": [
    "## RUN ALL FOLDS"
   ]
  },
  {
   "cell_type": "code",
   "execution_count": 16,
   "id": "1edbd6c8-2eef-4c5b-8eb1-2434e7d2f77f",
   "metadata": {
    "tags": []
   },
   "outputs": [
    {
     "name": "stdout",
     "output_type": "stream",
     "text": [
      "--- FOLD 0 ---\n",
      "ADF Statistic: -1.315051\n",
      "Halflife: 82.551929\n",
      "--- FOLD 1 ---\n",
      "ADF Statistic: -2.375030\n",
      "Halflife: 87.145427\n",
      "--- FOLD 2 ---\n",
      "ADF Statistic: -2.372884\n",
      "Halflife: 118.079188\n",
      "--- FOLD 3 ---\n",
      "ADF Statistic: -1.792318\n",
      "Halflife: 180.562308\n",
      "--- FOLD 4 ---\n",
      "ADF Statistic: -2.238871\n",
      "Halflife: 154.170800\n"
     ]
    }
   ],
   "source": [
    "for i, (train_index, validation_index) in enumerate(tscv.split(train_dataset)):\n",
    "    train_data, validation_data = train_dataset.iloc[train_index], train_dataset.iloc[validation_index]\n",
    "    print(f'--- FOLD {i} ---')\n",
    "    get_info_fold(train_data)"
   ]
  },
  {
   "cell_type": "markdown",
   "id": "ae87f520-cf7c-45a0-a94f-b4fe06ea155b",
   "metadata": {},
   "source": [
    "## RUN for each fold"
   ]
  },
  {
   "cell_type": "code",
   "execution_count": 13,
   "id": "11f54c4e-be74-474f-8ee2-a2b4c4acd12f",
   "metadata": {
    "tags": []
   },
   "outputs": [],
   "source": [
    "last_fold =  list(tscv.split(train_dataset))[-1]\n",
    "(train_index, validation_index) = last_fold\n",
    "train_data, validation_data = train_dataset.iloc[train_index], train_dataset.iloc[validation_index]"
   ]
  },
  {
   "cell_type": "markdown",
   "id": "78c2fd5e-a007-4f1b-a364-eb6b80381160",
   "metadata": {},
   "source": [
    "# Augmented Dickey-Fuller (ADF) test"
   ]
  },
  {
   "cell_type": "code",
   "execution_count": 14,
   "id": "d2126b3a-7041-448b-bab5-bb90ff90dcf0",
   "metadata": {
    "tags": []
   },
   "outputs": [
    {
     "data": {
      "image/png": "[encoded data removed]",
      "text/plain": [
       "<Figure size 640x480 with 1 Axes>"
      ]
     },
     "metadata": {},
     "output_type": "display_data"
    }
   ],
   "source": [
    "import statsmodels.api as sm\n",
    "\n",
    "x = train_data[\"IYE\"]\n",
    "y = train_data[\"VDE\"]\n",
    "x = sm.add_constant(x)\n",
    "results = sm.OLS(y, x).fit()\n",
    "x = x[\"IYE\"]\n",
    "b = results.params[\"IYE\"]\n",
    "\n",
    "spread = y - x * b\n",
    "spread.plot()\n",
    "plt.axhline(spread.mean(), color=\"black\")\n",
    "plt.legend([\"Spread\"]);"
   ]
  },
  {
   "cell_type": "code",
   "execution_count": 15,
   "id": "2e28aa04-fe9e-44d1-bb9c-0d830b3b1a1f",
   "metadata": {
    "tags": []
   },
   "outputs": [
    {
     "data": {
      "image/png": "[encoded data removed]",
      "text/plain": [
       "<Figure size 640x480 with 1 Axes>"
      ]
     },
     "metadata": {},
     "output_type": "display_data"
    }
   ],
   "source": [
    "zscore_spread = zscore(spread)\n",
    "zscore_spread.plot()\n",
    "plt.axhline(zscore_spread.mean(), color=\"black\")\n",
    "plt.axhline(1.0, color=\"red\", linestyle=\"--\")\n",
    "plt.axhline(-1.0, color=\"green\", linestyle=\"--\")\n",
    "plt.legend([\"Spread z-score\", \"Mean\", \"+1\", \"-1\"]);"
   ]
  },
  {
   "cell_type": "code",
   "execution_count": 16,
   "id": "2ab7bd15-7a84-41ca-a8d5-e5fee11667b3",
   "metadata": {
    "tags": []
   },
   "outputs": [
    {
     "name": "stdout",
     "output_type": "stream",
     "text": [
      "ADF Statistic: -2.489886\n",
      "p-value: 0.117955\n",
      "Critical Values:\n",
      "\t1%: -3.433\n",
      "\t5%: -2.863\n",
      "\t10%: -2.567\n"
     ]
    }
   ],
   "source": [
    "import statsmodels.tsa.stattools as ts\n",
    "\n",
    "result = ts.adfuller(spread)\n",
    "print('ADF Statistic: %f' % result[0])\n",
    "print('p-value: %f' % result[1])\n",
    "print('Critical Values:')\n",
    "for key, value in result[4].items():\n",
    "    print('\\t%s: %.3f' % (key, value))"
   ]
  },
  {
   "cell_type": "code",
   "execution_count": 17,
   "id": "f4338aaf-8bec-4b65-a4c5-cfd61e552c56",
   "metadata": {
    "tags": []
   },
   "outputs": [
    {
     "data": {
      "text/plain": [
       "datetime\n",
       "2010-01-04   -1.676453\n",
       "2010-01-05   -1.539002\n",
       "2010-01-06   -1.486393\n",
       "2010-01-07   -1.337921\n",
       "2010-01-08   -1.394865\n",
       "                ...   \n",
       "2019-02-15   -2.949776\n",
       "2019-02-19   -2.865827\n",
       "2019-02-20   -2.855510\n",
       "2019-02-21   -2.819200\n",
       "2019-02-22   -2.830857\n",
       "Length: 2300, dtype: float64"
      ]
     },
     "execution_count": 17,
     "metadata": {},
     "output_type": "execute_result"
    }
   ],
   "source": [
    "spread"
   ]
  },
  {
   "cell_type": "code",
   "execution_count": 18,
   "id": "d095d5c0-4163-4a4d-b9a3-47fd64e09d85",
   "metadata": {
    "tags": []
   },
   "outputs": [
    {
     "data": {
      "text/plain": [
       "datetime\n",
       "2010-01-05   -1.676453\n",
       "2010-01-06   -1.539002\n",
       "2010-01-07   -1.486393\n",
       "2010-01-08   -1.337921\n",
       "2010-01-11   -1.394865\n",
       "                ...   \n",
       "2019-02-15   -2.836651\n",
       "2019-02-19   -2.949776\n",
       "2019-02-20   -2.865827\n",
       "2019-02-21   -2.855510\n",
       "2019-02-22   -2.819200\n",
       "Length: 2299, dtype: float64"
      ]
     },
     "execution_count": 18,
     "metadata": {},
     "output_type": "execute_result"
    }
   ],
   "source": [
    "spread.shift().dropna()"
   ]
  },
  {
   "cell_type": "code",
   "execution_count": 19,
   "id": "a41d9e31-2456-4eb5-a83a-b3a01e693d10",
   "metadata": {
    "tags": []
   },
   "outputs": [],
   "source": [
    "x = spread.shift().dropna()\n",
    "y = spread - spread.shift()\n",
    "y = y.dropna()\n",
    "x = sm.add_constant(x)\n",
    "results = sm.OLS(y, x).fit()"
   ]
  },
  {
   "cell_type": "code",
   "execution_count": 20,
   "id": "655f07ef-b39e-4224-9fdc-02812a7c4d22",
   "metadata": {
    "tags": []
   },
   "outputs": [
    {
     "data": {
      "text/plain": [
       "46.31858894916684"
      ]
     },
     "execution_count": 20,
     "metadata": {},
     "output_type": "execute_result"
    }
   ],
   "source": [
    "halflife = -math.log(2) / results.params[0]\n",
    "halflife"
   ]
  },
  {
   "cell_type": "code",
   "execution_count": 21,
   "id": "f3e92ae3-f6f7-41b8-866b-db682da412ab",
   "metadata": {
    "tags": []
   },
   "outputs": [],
   "source": [
    "price = validation_data"
   ]
  },
  {
   "cell_type": "code",
   "execution_count": 22,
   "id": "cc9d484f-4c58-4487-aa56-46c3003b64b5",
   "metadata": {
    "tags": []
   },
   "outputs": [
    {
     "data": {
      "text/html": [
       "<div>\n",
       "<style scoped>\n",
       "    .dataframe tbody tr th:only-of-type {\n",
       "        vertical-align: middle;\n",
       "    }\n",
       "\n",
       "    .dataframe tbody tr th {\n",
       "        vertical-align: top;\n",
       "    }\n",
       "\n",
       "    .dataframe thead th {\n",
       "        text-align: right;\n",
       "    }\n",
       "</style>\n",
       "<table border=\"1\" class=\"dataframe\">\n",
       "  <thead>\n",
       "    <tr style=\"text-align: right;\">\n",
       "      <th></th>\n",
       "      <th>IYE</th>\n",
       "      <th>VDE</th>\n",
       "    </tr>\n",
       "    <tr>\n",
       "      <th>datetime</th>\n",
       "      <th></th>\n",
       "      <th></th>\n",
       "    </tr>\n",
       "  </thead>\n",
       "  <tbody>\n",
       "    <tr>\n",
       "      <th>2019-02-25</th>\n",
       "      <td>35.84</td>\n",
       "      <td>88.89</td>\n",
       "    </tr>\n",
       "    <tr>\n",
       "      <th>2019-02-26</th>\n",
       "      <td>35.66</td>\n",
       "      <td>88.49</td>\n",
       "    </tr>\n",
       "    <tr>\n",
       "      <th>2019-02-27</th>\n",
       "      <td>35.83</td>\n",
       "      <td>88.86</td>\n",
       "    </tr>\n",
       "    <tr>\n",
       "      <th>2019-02-28</th>\n",
       "      <td>35.47</td>\n",
       "      <td>88.01</td>\n",
       "    </tr>\n",
       "    <tr>\n",
       "      <th>2019-03-01</th>\n",
       "      <td>36.10</td>\n",
       "      <td>89.61</td>\n",
       "    </tr>\n",
       "    <tr>\n",
       "      <th>...</th>\n",
       "      <td>...</td>\n",
       "      <td>...</td>\n",
       "    </tr>\n",
       "    <tr>\n",
       "      <th>2020-12-11</th>\n",
       "      <td>21.81</td>\n",
       "      <td>55.95</td>\n",
       "    </tr>\n",
       "    <tr>\n",
       "      <th>2020-12-14</th>\n",
       "      <td>20.83</td>\n",
       "      <td>54.00</td>\n",
       "    </tr>\n",
       "    <tr>\n",
       "      <th>2020-12-15</th>\n",
       "      <td>21.26</td>\n",
       "      <td>55.09</td>\n",
       "    </tr>\n",
       "    <tr>\n",
       "      <th>2020-12-16</th>\n",
       "      <td>21.17</td>\n",
       "      <td>54.85</td>\n",
       "    </tr>\n",
       "    <tr>\n",
       "      <th>2020-12-17</th>\n",
       "      <td>21.04</td>\n",
       "      <td>53.99</td>\n",
       "    </tr>\n",
       "  </tbody>\n",
       "</table>\n",
       "<p>460 rows × 2 columns</p>\n",
       "</div>"
      ],
      "text/plain": [
       "              IYE    VDE\n",
       "datetime                \n",
       "2019-02-25  35.84  88.89\n",
       "2019-02-26  35.66  88.49\n",
       "2019-02-27  35.83  88.86\n",
       "2019-02-28  35.47  88.01\n",
       "2019-03-01  36.10  89.61\n",
       "...           ...    ...\n",
       "2020-12-11  21.81  55.95\n",
       "2020-12-14  20.83  54.00\n",
       "2020-12-15  21.26  55.09\n",
       "2020-12-16  21.17  54.85\n",
       "2020-12-17  21.04  53.99\n",
       "\n",
       "[460 rows x 2 columns]"
      ]
     },
     "execution_count": 22,
     "metadata": {},
     "output_type": "execute_result"
    }
   ],
   "source": [
    "price"
   ]
  },
  {
   "cell_type": "code",
   "execution_count": 23,
   "id": "deeb5f00-f1f1-484f-88d8-e5ef634a1c59",
   "metadata": {
    "tags": []
   },
   "outputs": [
    {
     "data": {
      "text/html": [
       "<div>\n",
       "<style scoped>\n",
       "    .dataframe tbody tr th:only-of-type {\n",
       "        vertical-align: middle;\n",
       "    }\n",
       "\n",
       "    .dataframe tbody tr th {\n",
       "        vertical-align: top;\n",
       "    }\n",
       "\n",
       "    .dataframe thead th {\n",
       "        text-align: right;\n",
       "    }\n",
       "</style>\n",
       "<table border=\"1\" class=\"dataframe\">\n",
       "  <thead>\n",
       "    <tr style=\"text-align: right;\">\n",
       "      <th></th>\n",
       "      <th>VDE</th>\n",
       "      <th>IYE</th>\n",
       "    </tr>\n",
       "    <tr>\n",
       "      <th>datetime</th>\n",
       "      <th></th>\n",
       "      <th></th>\n",
       "    </tr>\n",
       "  </thead>\n",
       "  <tbody>\n",
       "    <tr>\n",
       "      <th>2019-02-25</th>\n",
       "      <td>1</td>\n",
       "      <td>-2.560516</td>\n",
       "    </tr>\n",
       "    <tr>\n",
       "      <th>2019-02-26</th>\n",
       "      <td>1</td>\n",
       "      <td>-2.560516</td>\n",
       "    </tr>\n",
       "    <tr>\n",
       "      <th>2019-02-27</th>\n",
       "      <td>1</td>\n",
       "      <td>-2.560516</td>\n",
       "    </tr>\n",
       "    <tr>\n",
       "      <th>2019-02-28</th>\n",
       "      <td>1</td>\n",
       "      <td>-2.560516</td>\n",
       "    </tr>\n",
       "    <tr>\n",
       "      <th>2019-03-01</th>\n",
       "      <td>1</td>\n",
       "      <td>-2.560516</td>\n",
       "    </tr>\n",
       "    <tr>\n",
       "      <th>...</th>\n",
       "      <td>...</td>\n",
       "      <td>...</td>\n",
       "    </tr>\n",
       "    <tr>\n",
       "      <th>2020-12-11</th>\n",
       "      <td>1</td>\n",
       "      <td>-2.560516</td>\n",
       "    </tr>\n",
       "    <tr>\n",
       "      <th>2020-12-14</th>\n",
       "      <td>1</td>\n",
       "      <td>-2.560516</td>\n",
       "    </tr>\n",
       "    <tr>\n",
       "      <th>2020-12-15</th>\n",
       "      <td>1</td>\n",
       "      <td>-2.560516</td>\n",
       "    </tr>\n",
       "    <tr>\n",
       "      <th>2020-12-16</th>\n",
       "      <td>1</td>\n",
       "      <td>-2.560516</td>\n",
       "    </tr>\n",
       "    <tr>\n",
       "      <th>2020-12-17</th>\n",
       "      <td>1</td>\n",
       "      <td>-2.560516</td>\n",
       "    </tr>\n",
       "  </tbody>\n",
       "</table>\n",
       "<p>460 rows × 2 columns</p>\n",
       "</div>"
      ],
      "text/plain": [
       "            VDE       IYE\n",
       "datetime                 \n",
       "2019-02-25    1 -2.560516\n",
       "2019-02-26    1 -2.560516\n",
       "2019-02-27    1 -2.560516\n",
       "2019-02-28    1 -2.560516\n",
       "2019-03-01    1 -2.560516\n",
       "...         ...       ...\n",
       "2020-12-11    1 -2.560516\n",
       "2020-12-14    1 -2.560516\n",
       "2020-12-15    1 -2.560516\n",
       "2020-12-16    1 -2.560516\n",
       "2020-12-17    1 -2.560516\n",
       "\n",
       "[460 rows x 2 columns]"
      ]
     },
     "execution_count": 23,
     "metadata": {},
     "output_type": "execute_result"
    }
   ],
   "source": [
    "weights = pd.DataFrame({\n",
    "    \"VDE\": [1] * len(price),\n",
    "    \"IYE\": [-b] * len(price)\n",
    "}, index=price.index)\n",
    "weights"
   ]
  },
  {
   "cell_type": "code",
   "execution_count": 24,
   "id": "251af2d8-649c-454e-b337-76f65f4d4577",
   "metadata": {
    "tags": []
   },
   "outputs": [
    {
     "data": {
      "text/plain": [
       "datetime\n",
       "2019-02-25   -2.878883\n",
       "2019-02-26   -2.817990\n",
       "2019-02-27   -2.883278\n",
       "2019-02-28   -2.811492\n",
       "2019-03-01   -2.824617\n",
       "                ...   \n",
       "2020-12-11    0.105152\n",
       "2020-12-14    0.664458\n",
       "2020-12-15    0.653436\n",
       "2020-12-16    0.643882\n",
       "2020-12-17    0.116750\n",
       "Length: 460, dtype: float64"
      ]
     },
     "execution_count": 24,
     "metadata": {},
     "output_type": "execute_result"
    }
   ],
   "source": [
    "spread = (price * weights).sum(axis=1)\n",
    "spread"
   ]
  },
  {
   "cell_type": "code",
   "execution_count": 25,
   "id": "9aecb406-8128-4fc6-8fb6-22452303470b",
   "metadata": {
    "tags": []
   },
   "outputs": [
    {
     "data": {
      "text/plain": [
       "46"
      ]
     },
     "execution_count": 25,
     "metadata": {},
     "output_type": "execute_result"
    }
   ],
   "source": [
    "lookback = round(halflife)\n",
    "lookback"
   ]
  },
  {
   "cell_type": "code",
   "execution_count": 26,
   "id": "3ce18690-1537-48b4-b943-ca8d9b1b853b",
   "metadata": {
    "tags": []
   },
   "outputs": [
    {
     "data": {
      "text/plain": [
       "datetime\n",
       "2019-02-25         NaN\n",
       "2019-02-26         NaN\n",
       "2019-02-27         NaN\n",
       "2019-02-28         NaN\n",
       "2019-03-01         NaN\n",
       "                ...   \n",
       "2020-12-11   -2.847395\n",
       "2020-12-14   -4.456629\n",
       "2020-12-15   -3.616555\n",
       "2020-12-16   -3.096090\n",
       "2020-12-17   -1.315707\n",
       "Length: 460, dtype: float64"
      ]
     },
     "execution_count": 26,
     "metadata": {},
     "output_type": "execute_result"
    }
   ],
   "source": [
    "num_units = -(spread - spread.rolling(lookback).mean()) / (spread.rolling(lookback).std())\n",
    "num_units"
   ]
  },
  {
   "cell_type": "code",
   "execution_count": 27,
   "id": "88c8310a-4fc9-491f-8d93-9588e5adbf5b",
   "metadata": {
    "tags": []
   },
   "outputs": [
    {
     "data": {
      "text/plain": [
       "count    415.000000\n",
       "mean      -0.138019\n",
       "std        1.411652\n",
       "min       -6.078644\n",
       "25%       -0.916718\n",
       "50%       -0.180745\n",
       "75%        0.854266\n",
       "max        3.903255\n",
       "dtype: float64"
      ]
     },
     "execution_count": 27,
     "metadata": {},
     "output_type": "execute_result"
    }
   ],
   "source": [
    "num_units.describe()"
   ]
  },
  {
   "cell_type": "code",
   "execution_count": 28,
   "id": "6fab5d30-1f73-4e79-aef9-0a56070261c9",
   "metadata": {
    "tags": []
   },
   "outputs": [
    {
     "data": {
      "text/plain": [
       "<Axes: xlabel='datetime'>"
      ]
     },
     "execution_count": 28,
     "metadata": {},
     "output_type": "execute_result"
    },
    {
     "data": {
      "image/png": "[encoded data removed]",
      "text/plain": [
       "<Figure size 640x480 with 1 Axes>"
      ]
     },
     "metadata": {},
     "output_type": "display_data"
    }
   ],
   "source": [
    "num_units.plot()"
   ]
  },
  {
   "cell_type": "code",
   "execution_count": 29,
   "id": "004cc061-cd52-408d-a7d5-0e5021bed957",
   "metadata": {
    "tags": []
   },
   "outputs": [
    {
     "data": {
      "text/html": [
       "<div>\n",
       "<style scoped>\n",
       "    .dataframe tbody tr th:only-of-type {\n",
       "        vertical-align: middle;\n",
       "    }\n",
       "\n",
       "    .dataframe tbody tr th {\n",
       "        vertical-align: top;\n",
       "    }\n",
       "\n",
       "    .dataframe thead th {\n",
       "        text-align: right;\n",
       "    }\n",
       "</style>\n",
       "<table border=\"1\" class=\"dataframe\">\n",
       "  <thead>\n",
       "    <tr style=\"text-align: right;\">\n",
       "      <th></th>\n",
       "      <th>IYE</th>\n",
       "      <th>VDE</th>\n",
       "    </tr>\n",
       "    <tr>\n",
       "      <th>datetime</th>\n",
       "      <th></th>\n",
       "      <th></th>\n",
       "    </tr>\n",
       "  </thead>\n",
       "  <tbody>\n",
       "    <tr>\n",
       "      <th>2019-02-25</th>\n",
       "      <td>NaN</td>\n",
       "      <td>NaN</td>\n",
       "    </tr>\n",
       "    <tr>\n",
       "      <th>2019-02-26</th>\n",
       "      <td>NaN</td>\n",
       "      <td>NaN</td>\n",
       "    </tr>\n",
       "    <tr>\n",
       "      <th>2019-02-27</th>\n",
       "      <td>NaN</td>\n",
       "      <td>NaN</td>\n",
       "    </tr>\n",
       "    <tr>\n",
       "      <th>2019-02-28</th>\n",
       "      <td>NaN</td>\n",
       "      <td>NaN</td>\n",
       "    </tr>\n",
       "    <tr>\n",
       "      <th>2019-03-01</th>\n",
       "      <td>NaN</td>\n",
       "      <td>NaN</td>\n",
       "    </tr>\n",
       "    <tr>\n",
       "      <th>...</th>\n",
       "      <td>...</td>\n",
       "      <td>...</td>\n",
       "    </tr>\n",
       "    <tr>\n",
       "      <th>2020-12-11</th>\n",
       "      <td>159.012343</td>\n",
       "      <td>-159.311753</td>\n",
       "    </tr>\n",
       "    <tr>\n",
       "      <th>2020-12-14</th>\n",
       "      <td>237.696729</td>\n",
       "      <td>-240.657971</td>\n",
       "    </tr>\n",
       "    <tr>\n",
       "      <th>2020-12-15</th>\n",
       "      <td>196.872845</td>\n",
       "      <td>-199.236033</td>\n",
       "    </tr>\n",
       "    <tr>\n",
       "      <th>2020-12-16</th>\n",
       "      <td>167.827012</td>\n",
       "      <td>-169.820530</td>\n",
       "    </tr>\n",
       "    <tr>\n",
       "      <th>2020-12-17</th>\n",
       "      <td>70.881415</td>\n",
       "      <td>-71.035023</td>\n",
       "    </tr>\n",
       "  </tbody>\n",
       "</table>\n",
       "<p>460 rows × 2 columns</p>\n",
       "</div>"
      ],
      "text/plain": [
       "                   IYE         VDE\n",
       "datetime                          \n",
       "2019-02-25         NaN         NaN\n",
       "2019-02-26         NaN         NaN\n",
       "2019-02-27         NaN         NaN\n",
       "2019-02-28         NaN         NaN\n",
       "2019-03-01         NaN         NaN\n",
       "...                ...         ...\n",
       "2020-12-11  159.012343 -159.311753\n",
       "2020-12-14  237.696729 -240.657971\n",
       "2020-12-15  196.872845 -199.236033\n",
       "2020-12-16  167.827012 -169.820530\n",
       "2020-12-17   70.881415  -71.035023\n",
       "\n",
       "[460 rows x 2 columns]"
      ]
     },
     "execution_count": 29,
     "metadata": {},
     "output_type": "execute_result"
    }
   ],
   "source": [
    "positions = weights.mul(num_units, axis=0) * price\n",
    "positions"
   ]
  },
  {
   "cell_type": "code",
   "execution_count": 30,
   "id": "d01b4527-05af-46ed-88c6-7be99e9b97e0",
   "metadata": {
    "tags": []
   },
   "outputs": [
    {
     "data": {
      "text/plain": [
       "<Axes: xlabel='datetime'>"
      ]
     },
     "execution_count": 30,
     "metadata": {},
     "output_type": "execute_result"
    },
    {
     "data": {
      "image/png": "[encoded data removed]",
      "text/plain": [
       "<Figure size 640x480 with 1 Axes>"
      ]
     },
     "metadata": {},
     "output_type": "display_data"
    }
   ],
   "source": [
    "positions.sum(axis=1).abs().plot()"
   ]
  },
  {
   "cell_type": "code",
   "execution_count": 31,
   "id": "8485989d-3383-4fa1-9618-191feacdbd76",
   "metadata": {
    "tags": []
   },
   "outputs": [],
   "source": [
    "pnl = positions.shift(1) * (price - price.shift(1)) / price.shift(1)\n",
    "pnl = pnl.sum(axis=1)"
   ]
  },
  {
   "cell_type": "code",
   "execution_count": 32,
   "id": "4d00573a-58f1-4fc0-9501-8e14235e1221",
   "metadata": {
    "tags": []
   },
   "outputs": [
    {
     "data": {
      "text/plain": [
       "count    460.000000\n",
       "mean       0.040277\n",
       "std        0.297003\n",
       "min       -1.592563\n",
       "25%       -0.023779\n",
       "50%        0.000000\n",
       "75%        0.049535\n",
       "max        3.243639\n",
       "dtype: float64"
      ]
     },
     "execution_count": 32,
     "metadata": {},
     "output_type": "execute_result"
    }
   ],
   "source": [
    "pnl.describe()"
   ]
  },
  {
   "cell_type": "code",
   "execution_count": 33,
   "id": "5b6602df-7b1e-4497-9d53-a804c3a3ac3b",
   "metadata": {
    "tags": []
   },
   "outputs": [
    {
     "data": {
      "text/plain": [
       "datetime\n",
       "2019-02-25         NaN\n",
       "2019-02-26         NaN\n",
       "2019-02-27         NaN\n",
       "2019-02-28         NaN\n",
       "2019-03-01         NaN\n",
       "                ...   \n",
       "2020-12-11    0.038987\n",
       "2020-12-14   -5.318996\n",
       "2020-12-15    0.016588\n",
       "2020-12-16    0.014621\n",
       "2020-12-17    0.818679\n",
       "Length: 460, dtype: float64"
      ]
     },
     "execution_count": 33,
     "metadata": {},
     "output_type": "execute_result"
    }
   ],
   "source": [
    "ret = pnl / positions.shift(1).sum(axis=1).abs()\n",
    "ret"
   ]
  },
  {
   "cell_type": "code",
   "execution_count": 34,
   "id": "2248f0c6-18b8-46d7-acec-fcb64906abb1",
   "metadata": {
    "tags": []
   },
   "outputs": [
    {
     "data": {
      "text/plain": [
       "count    414.000000\n",
       "mean       0.052618\n",
       "std        0.957750\n",
       "min       -5.318996\n",
       "25%       -0.030814\n",
       "50%        0.005786\n",
       "75%        0.044325\n",
       "max       17.463967\n",
       "dtype: float64"
      ]
     },
     "execution_count": 34,
     "metadata": {},
     "output_type": "execute_result"
    }
   ],
   "source": [
    "ret.describe()"
   ]
  },
  {
   "cell_type": "code",
   "execution_count": 35,
   "id": "98cb0843-fef8-4fa5-bdf1-1f54fab0bd8e",
   "metadata": {
    "tags": []
   },
   "outputs": [
    {
     "data": {
      "text/plain": [
       "<Axes: xlabel='datetime'>"
      ]
     },
     "execution_count": 35,
     "metadata": {},
     "output_type": "execute_result"
    },
    {
     "data": {
      "image/png": "[encoded data removed]",
      "text/plain": [
       "<Figure size 640x480 with 1 Axes>"
      ]
     },
     "metadata": {},
     "output_type": "display_data"
    }
   ],
   "source": [
    "ret.cumsum().plot()"
   ]
  },
  {
   "cell_type": "code",
   "execution_count": 36,
   "id": "011d0654-4918-47a0-b15d-0d5afcb50b93",
   "metadata": {
    "tags": []
   },
   "outputs": [
    {
     "data": {
      "text/plain": [
       "0.8721366078075079"
      ]
     },
     "execution_count": 36,
     "metadata": {},
     "output_type": "execute_result"
    }
   ],
   "source": [
    "sharp_ratio = math.sqrt(252)*ret.mean()/ret.std()\n",
    "sharp_ratio"
   ]
  },
  {
   "cell_type": "code",
   "execution_count": 105,
   "id": "4fd53afd-096b-405a-9617-481561c77d07",
   "metadata": {
    "tags": []
   },
   "outputs": [
    {
     "data": {
      "text/html": [
       "<div>\n",
       "<style scoped>\n",
       "    .dataframe tbody tr th:only-of-type {\n",
       "        vertical-align: middle;\n",
       "    }\n",
       "\n",
       "    .dataframe tbody tr th {\n",
       "        vertical-align: top;\n",
       "    }\n",
       "\n",
       "    .dataframe thead th {\n",
       "        text-align: right;\n",
       "    }\n",
       "</style>\n",
       "<table border=\"1\" class=\"dataframe\">\n",
       "  <thead>\n",
       "    <tr style=\"text-align: right;\">\n",
       "      <th></th>\n",
       "      <th>ret</th>\n",
       "      <th>lagged_ret</th>\n",
       "      <th>high_watermark_index</th>\n",
       "    </tr>\n",
       "    <tr>\n",
       "      <th>datetime</th>\n",
       "      <th></th>\n",
       "      <th></th>\n",
       "      <th></th>\n",
       "    </tr>\n",
       "  </thead>\n",
       "  <tbody>\n",
       "    <tr>\n",
       "      <th>2016-11-08</th>\n",
       "      <td>-0.007769</td>\n",
       "      <td>0.000000</td>\n",
       "      <td>2016-11-08</td>\n",
       "    </tr>\n",
       "    <tr>\n",
       "      <th>2016-11-09</th>\n",
       "      <td>0.017855</td>\n",
       "      <td>-0.007769</td>\n",
       "      <td>2016-11-09</td>\n",
       "    </tr>\n",
       "    <tr>\n",
       "      <th>2016-11-10</th>\n",
       "      <td>0.102520</td>\n",
       "      <td>0.017855</td>\n",
       "      <td>2016-11-10</td>\n",
       "    </tr>\n",
       "    <tr>\n",
       "      <th>2016-11-11</th>\n",
       "      <td>0.102688</td>\n",
       "      <td>0.102520</td>\n",
       "      <td>2016-11-11</td>\n",
       "    </tr>\n",
       "    <tr>\n",
       "      <th>2016-11-14</th>\n",
       "      <td>0.062272</td>\n",
       "      <td>0.102688</td>\n",
       "      <td>2016-11-14</td>\n",
       "    </tr>\n",
       "    <tr>\n",
       "      <th>...</th>\n",
       "      <td>...</td>\n",
       "      <td>...</td>\n",
       "      <td>...</td>\n",
       "    </tr>\n",
       "    <tr>\n",
       "      <th>2017-12-21</th>\n",
       "      <td>4.390609</td>\n",
       "      <td>4.459521</td>\n",
       "      <td>2017-12-21</td>\n",
       "    </tr>\n",
       "    <tr>\n",
       "      <th>2017-12-22</th>\n",
       "      <td>4.431118</td>\n",
       "      <td>4.390609</td>\n",
       "      <td>2017-12-22</td>\n",
       "    </tr>\n",
       "    <tr>\n",
       "      <th>2017-12-26</th>\n",
       "      <td>4.483973</td>\n",
       "      <td>4.431118</td>\n",
       "      <td>2017-12-26</td>\n",
       "    </tr>\n",
       "    <tr>\n",
       "      <th>2017-12-27</th>\n",
       "      <td>4.444254</td>\n",
       "      <td>4.483973</td>\n",
       "      <td>2017-12-27</td>\n",
       "    </tr>\n",
       "    <tr>\n",
       "      <th>2017-12-28</th>\n",
       "      <td>4.489172</td>\n",
       "      <td>4.444254</td>\n",
       "      <td>2017-12-28</td>\n",
       "    </tr>\n",
       "  </tbody>\n",
       "</table>\n",
       "<p>287 rows × 3 columns</p>\n",
       "</div>"
      ],
      "text/plain": [
       "                 ret  lagged_ret high_watermark_index\n",
       "datetime                                             \n",
       "2016-11-08 -0.007769    0.000000           2016-11-08\n",
       "2016-11-09  0.017855   -0.007769           2016-11-09\n",
       "2016-11-10  0.102520    0.017855           2016-11-10\n",
       "2016-11-11  0.102688    0.102520           2016-11-11\n",
       "2016-11-14  0.062272    0.102688           2016-11-14\n",
       "...              ...         ...                  ...\n",
       "2017-12-21  4.390609    4.459521           2017-12-21\n",
       "2017-12-22  4.431118    4.390609           2017-12-22\n",
       "2017-12-26  4.483973    4.431118           2017-12-26\n",
       "2017-12-27  4.444254    4.483973           2017-12-27\n",
       "2017-12-28  4.489172    4.444254           2017-12-28\n",
       "\n",
       "[287 rows x 3 columns]"
      ]
     },
     "execution_count": 105,
     "metadata": {},
     "output_type": "execute_result"
    }
   ],
   "source": [
    "term = pd.DataFrame({\n",
    "    \"ret\": ret.cumsum().dropna(),\n",
    "    'lagged_ret': ret.cumsum().dropna().shift(1),\n",
    "    'high_watermark_index': ret.cumsum().dropna().index\n",
    "})\n",
    "term['lagged_ret'] = term['lagged_ret'].fillna(0)\n",
    "term"
   ]
  },
  {
   "cell_type": "code",
   "execution_count": 106,
   "id": "1f127290-ee83-45f8-a36b-56e0770be68e",
   "metadata": {
    "tags": []
   },
   "outputs": [],
   "source": [
    "highest_watermark_index = term.iloc[0]['high_watermark_index']\n",
    "for d in term.index:\n",
    "    row = term.loc[d]\n",
    "    if row['ret'] >= term.loc[highest_watermark_index]['ret']:\n",
    "        highest_watermark_index = d\n",
    "    term.loc[d, 'high_watermark_index']= highest_watermark_index"
   ]
  },
  {
   "cell_type": "code",
   "execution_count": 107,
   "id": "d158de7e-7112-4370-be3f-92fdfd83d201",
   "metadata": {
    "tags": []
   },
   "outputs": [
    {
     "data": {
      "text/html": [
       "<div>\n",
       "<style scoped>\n",
       "    .dataframe tbody tr th:only-of-type {\n",
       "        vertical-align: middle;\n",
       "    }\n",
       "\n",
       "    .dataframe tbody tr th {\n",
       "        vertical-align: top;\n",
       "    }\n",
       "\n",
       "    .dataframe thead th {\n",
       "        text-align: right;\n",
       "    }\n",
       "</style>\n",
       "<table border=\"1\" class=\"dataframe\">\n",
       "  <thead>\n",
       "    <tr style=\"text-align: right;\">\n",
       "      <th></th>\n",
       "      <th>ret</th>\n",
       "      <th>lagged_ret</th>\n",
       "      <th>high_watermark_index</th>\n",
       "    </tr>\n",
       "    <tr>\n",
       "      <th>datetime</th>\n",
       "      <th></th>\n",
       "      <th></th>\n",
       "      <th></th>\n",
       "    </tr>\n",
       "  </thead>\n",
       "  <tbody>\n",
       "    <tr>\n",
       "      <th>2016-11-08</th>\n",
       "      <td>-0.007769</td>\n",
       "      <td>0.000000</td>\n",
       "      <td>2016-11-08</td>\n",
       "    </tr>\n",
       "    <tr>\n",
       "      <th>2016-11-09</th>\n",
       "      <td>0.017855</td>\n",
       "      <td>-0.007769</td>\n",
       "      <td>2016-11-09</td>\n",
       "    </tr>\n",
       "    <tr>\n",
       "      <th>2016-11-10</th>\n",
       "      <td>0.102520</td>\n",
       "      <td>0.017855</td>\n",
       "      <td>2016-11-10</td>\n",
       "    </tr>\n",
       "    <tr>\n",
       "      <th>2016-11-11</th>\n",
       "      <td>0.102688</td>\n",
       "      <td>0.102520</td>\n",
       "      <td>2016-11-11</td>\n",
       "    </tr>\n",
       "    <tr>\n",
       "      <th>2016-11-14</th>\n",
       "      <td>0.062272</td>\n",
       "      <td>0.102688</td>\n",
       "      <td>2016-11-11</td>\n",
       "    </tr>\n",
       "    <tr>\n",
       "      <th>...</th>\n",
       "      <td>...</td>\n",
       "      <td>...</td>\n",
       "      <td>...</td>\n",
       "    </tr>\n",
       "    <tr>\n",
       "      <th>2017-12-21</th>\n",
       "      <td>4.390609</td>\n",
       "      <td>4.459521</td>\n",
       "      <td>2017-12-08</td>\n",
       "    </tr>\n",
       "    <tr>\n",
       "      <th>2017-12-22</th>\n",
       "      <td>4.431118</td>\n",
       "      <td>4.390609</td>\n",
       "      <td>2017-12-08</td>\n",
       "    </tr>\n",
       "    <tr>\n",
       "      <th>2017-12-26</th>\n",
       "      <td>4.483973</td>\n",
       "      <td>4.431118</td>\n",
       "      <td>2017-12-08</td>\n",
       "    </tr>\n",
       "    <tr>\n",
       "      <th>2017-12-27</th>\n",
       "      <td>4.444254</td>\n",
       "      <td>4.483973</td>\n",
       "      <td>2017-12-08</td>\n",
       "    </tr>\n",
       "    <tr>\n",
       "      <th>2017-12-28</th>\n",
       "      <td>4.489172</td>\n",
       "      <td>4.444254</td>\n",
       "      <td>2017-12-08</td>\n",
       "    </tr>\n",
       "  </tbody>\n",
       "</table>\n",
       "<p>287 rows × 3 columns</p>\n",
       "</div>"
      ],
      "text/plain": [
       "                 ret  lagged_ret high_watermark_index\n",
       "datetime                                             \n",
       "2016-11-08 -0.007769    0.000000           2016-11-08\n",
       "2016-11-09  0.017855   -0.007769           2016-11-09\n",
       "2016-11-10  0.102520    0.017855           2016-11-10\n",
       "2016-11-11  0.102688    0.102520           2016-11-11\n",
       "2016-11-14  0.062272    0.102688           2016-11-11\n",
       "...              ...         ...                  ...\n",
       "2017-12-21  4.390609    4.459521           2017-12-08\n",
       "2017-12-22  4.431118    4.390609           2017-12-08\n",
       "2017-12-26  4.483973    4.431118           2017-12-08\n",
       "2017-12-27  4.444254    4.483973           2017-12-08\n",
       "2017-12-28  4.489172    4.444254           2017-12-08\n",
       "\n",
       "[287 rows x 3 columns]"
      ]
     },
     "execution_count": 107,
     "metadata": {},
     "output_type": "execute_result"
    }
   ],
   "source": [
    "term"
   ]
  },
  {
   "cell_type": "code",
   "execution_count": 108,
   "id": "6cdc82c5-39df-4a80-ab2a-78b2535bd965",
   "metadata": {
    "tags": []
   },
   "outputs": [
    {
     "data": {
      "text/html": [
       "<div>\n",
       "<style scoped>\n",
       "    .dataframe tbody tr th:only-of-type {\n",
       "        vertical-align: middle;\n",
       "    }\n",
       "\n",
       "    .dataframe tbody tr th {\n",
       "        vertical-align: top;\n",
       "    }\n",
       "\n",
       "    .dataframe thead th {\n",
       "        text-align: right;\n",
       "    }\n",
       "</style>\n",
       "<table border=\"1\" class=\"dataframe\">\n",
       "  <thead>\n",
       "    <tr style=\"text-align: right;\">\n",
       "      <th></th>\n",
       "      <th>ret</th>\n",
       "      <th>lagged_ret</th>\n",
       "      <th>high_watermark_index</th>\n",
       "      <th>high_watermark_ret</th>\n",
       "      <th>drawdown_deep</th>\n",
       "      <th>drawdown_duration</th>\n",
       "    </tr>\n",
       "    <tr>\n",
       "      <th>datetime</th>\n",
       "      <th></th>\n",
       "      <th></th>\n",
       "      <th></th>\n",
       "      <th></th>\n",
       "      <th></th>\n",
       "      <th></th>\n",
       "    </tr>\n",
       "  </thead>\n",
       "  <tbody>\n",
       "    <tr>\n",
       "      <th>2016-11-08</th>\n",
       "      <td>-0.007769</td>\n",
       "      <td>0.000000</td>\n",
       "      <td>2016-11-08</td>\n",
       "      <td>-0.007769</td>\n",
       "      <td>0.000000</td>\n",
       "      <td>0 days</td>\n",
       "    </tr>\n",
       "    <tr>\n",
       "      <th>2016-11-09</th>\n",
       "      <td>0.017855</td>\n",
       "      <td>-0.007769</td>\n",
       "      <td>2016-11-09</td>\n",
       "      <td>0.017855</td>\n",
       "      <td>0.000000</td>\n",
       "      <td>0 days</td>\n",
       "    </tr>\n",
       "    <tr>\n",
       "      <th>2016-11-10</th>\n",
       "      <td>0.102520</td>\n",
       "      <td>0.017855</td>\n",
       "      <td>2016-11-10</td>\n",
       "      <td>0.102520</td>\n",
       "      <td>0.000000</td>\n",
       "      <td>0 days</td>\n",
       "    </tr>\n",
       "    <tr>\n",
       "      <th>2016-11-11</th>\n",
       "      <td>0.102688</td>\n",
       "      <td>0.102520</td>\n",
       "      <td>2016-11-11</td>\n",
       "      <td>0.102688</td>\n",
       "      <td>0.000000</td>\n",
       "      <td>0 days</td>\n",
       "    </tr>\n",
       "    <tr>\n",
       "      <th>2016-11-14</th>\n",
       "      <td>0.062272</td>\n",
       "      <td>0.102688</td>\n",
       "      <td>2016-11-11</td>\n",
       "      <td>0.102688</td>\n",
       "      <td>0.040416</td>\n",
       "      <td>3 days</td>\n",
       "    </tr>\n",
       "    <tr>\n",
       "      <th>...</th>\n",
       "      <td>...</td>\n",
       "      <td>...</td>\n",
       "      <td>...</td>\n",
       "      <td>...</td>\n",
       "      <td>...</td>\n",
       "      <td>...</td>\n",
       "    </tr>\n",
       "    <tr>\n",
       "      <th>2017-12-21</th>\n",
       "      <td>4.390609</td>\n",
       "      <td>4.459521</td>\n",
       "      <td>2017-12-08</td>\n",
       "      <td>4.545509</td>\n",
       "      <td>0.154900</td>\n",
       "      <td>13 days</td>\n",
       "    </tr>\n",
       "    <tr>\n",
       "      <th>2017-12-22</th>\n",
       "      <td>4.431118</td>\n",
       "      <td>4.390609</td>\n",
       "      <td>2017-12-08</td>\n",
       "      <td>4.545509</td>\n",
       "      <td>0.114391</td>\n",
       "      <td>14 days</td>\n",
       "    </tr>\n",
       "    <tr>\n",
       "      <th>2017-12-26</th>\n",
       "      <td>4.483973</td>\n",
       "      <td>4.431118</td>\n",
       "      <td>2017-12-08</td>\n",
       "      <td>4.545509</td>\n",
       "      <td>0.061536</td>\n",
       "      <td>18 days</td>\n",
       "    </tr>\n",
       "    <tr>\n",
       "      <th>2017-12-27</th>\n",
       "      <td>4.444254</td>\n",
       "      <td>4.483973</td>\n",
       "      <td>2017-12-08</td>\n",
       "      <td>4.545509</td>\n",
       "      <td>0.101255</td>\n",
       "      <td>19 days</td>\n",
       "    </tr>\n",
       "    <tr>\n",
       "      <th>2017-12-28</th>\n",
       "      <td>4.489172</td>\n",
       "      <td>4.444254</td>\n",
       "      <td>2017-12-08</td>\n",
       "      <td>4.545509</td>\n",
       "      <td>0.056337</td>\n",
       "      <td>20 days</td>\n",
       "    </tr>\n",
       "  </tbody>\n",
       "</table>\n",
       "<p>287 rows × 6 columns</p>\n",
       "</div>"
      ],
      "text/plain": [
       "                 ret  lagged_ret high_watermark_index  high_watermark_ret  \\\n",
       "datetime                                                                    \n",
       "2016-11-08 -0.007769    0.000000           2016-11-08           -0.007769   \n",
       "2016-11-09  0.017855   -0.007769           2016-11-09            0.017855   \n",
       "2016-11-10  0.102520    0.017855           2016-11-10            0.102520   \n",
       "2016-11-11  0.102688    0.102520           2016-11-11            0.102688   \n",
       "2016-11-14  0.062272    0.102688           2016-11-11            0.102688   \n",
       "...              ...         ...                  ...                 ...   \n",
       "2017-12-21  4.390609    4.459521           2017-12-08            4.545509   \n",
       "2017-12-22  4.431118    4.390609           2017-12-08            4.545509   \n",
       "2017-12-26  4.483973    4.431118           2017-12-08            4.545509   \n",
       "2017-12-27  4.444254    4.483973           2017-12-08            4.545509   \n",
       "2017-12-28  4.489172    4.444254           2017-12-08            4.545509   \n",
       "\n",
       "            drawdown_deep drawdown_duration  \n",
       "datetime                                     \n",
       "2016-11-08       0.000000            0 days  \n",
       "2016-11-09       0.000000            0 days  \n",
       "2016-11-10       0.000000            0 days  \n",
       "2016-11-11       0.000000            0 days  \n",
       "2016-11-14       0.040416            3 days  \n",
       "...                   ...               ...  \n",
       "2017-12-21       0.154900           13 days  \n",
       "2017-12-22       0.114391           14 days  \n",
       "2017-12-26       0.061536           18 days  \n",
       "2017-12-27       0.101255           19 days  \n",
       "2017-12-28       0.056337           20 days  \n",
       "\n",
       "[287 rows x 6 columns]"
      ]
     },
     "execution_count": 108,
     "metadata": {},
     "output_type": "execute_result"
    }
   ],
   "source": [
    "term['high_watermark_ret'] = term.apply(lambda x: term.loc[x['high_watermark_index']]['ret'], axis=1)\n",
    "term['drawdown_deep'] = term['high_watermark_ret'] - term['ret']\n",
    "term['drawdown_duration'] = term.index - term['high_watermark_index']\n",
    "term"
   ]
  },
  {
   "cell_type": "code",
   "execution_count": null,
   "id": "ebd494cc-11ba-4574-90f3-2b03f689a107",
   "metadata": {},
   "outputs": [],
   "source": []
  },
  {
   "cell_type": "code",
   "execution_count": 109,
   "id": "5c890999-0b69-4150-bd38-11878f26c84b",
   "metadata": {
    "tags": []
   },
   "outputs": [
    {
     "data": {
      "text/html": [
       "<div>\n",
       "<style scoped>\n",
       "    .dataframe tbody tr th:only-of-type {\n",
       "        vertical-align: middle;\n",
       "    }\n",
       "\n",
       "    .dataframe tbody tr th {\n",
       "        vertical-align: top;\n",
       "    }\n",
       "\n",
       "    .dataframe thead th {\n",
       "        text-align: right;\n",
       "    }\n",
       "</style>\n",
       "<table border=\"1\" class=\"dataframe\">\n",
       "  <thead>\n",
       "    <tr style=\"text-align: right;\">\n",
       "      <th></th>\n",
       "      <th>ret</th>\n",
       "      <th>lagged_ret</th>\n",
       "      <th>high_watermark_index</th>\n",
       "      <th>high_watermark_ret</th>\n",
       "      <th>drawdown_deep</th>\n",
       "      <th>drawdown_duration</th>\n",
       "    </tr>\n",
       "  </thead>\n",
       "  <tbody>\n",
       "    <tr>\n",
       "      <th>count</th>\n",
       "      <td>287.000000</td>\n",
       "      <td>287.000000</td>\n",
       "      <td>287</td>\n",
       "      <td>287.000000</td>\n",
       "      <td>287.000000</td>\n",
       "      <td>287</td>\n",
       "    </tr>\n",
       "    <tr>\n",
       "      <th>mean</th>\n",
       "      <td>1.820336</td>\n",
       "      <td>1.804694</td>\n",
       "      <td>2017-04-17 15:03:08.153310208</td>\n",
       "      <td>1.976447</td>\n",
       "      <td>0.156111</td>\n",
       "      <td>47 days 22:09:37.003484320</td>\n",
       "    </tr>\n",
       "    <tr>\n",
       "      <th>min</th>\n",
       "      <td>-0.303423</td>\n",
       "      <td>-0.303423</td>\n",
       "      <td>2016-11-08 00:00:00</td>\n",
       "      <td>-0.007769</td>\n",
       "      <td>0.000000</td>\n",
       "      <td>0 days 00:00:00</td>\n",
       "    </tr>\n",
       "    <tr>\n",
       "      <th>25%</th>\n",
       "      <td>1.095630</td>\n",
       "      <td>1.092610</td>\n",
       "      <td>2017-02-22 12:00:00</td>\n",
       "      <td>1.533069</td>\n",
       "      <td>0.023420</td>\n",
       "      <td>2 days 00:00:00</td>\n",
       "    </tr>\n",
       "    <tr>\n",
       "      <th>50%</th>\n",
       "      <td>1.390061</td>\n",
       "      <td>1.389257</td>\n",
       "      <td>2017-02-23 00:00:00</td>\n",
       "      <td>1.588800</td>\n",
       "      <td>0.119595</td>\n",
       "      <td>15 days 00:00:00</td>\n",
       "    </tr>\n",
       "    <tr>\n",
       "      <th>75%</th>\n",
       "      <td>1.597829</td>\n",
       "      <td>1.592794</td>\n",
       "      <td>2017-09-15 00:00:00</td>\n",
       "      <td>1.618922</td>\n",
       "      <td>0.242906</td>\n",
       "      <td>88 days 12:00:00</td>\n",
       "    </tr>\n",
       "    <tr>\n",
       "      <th>max</th>\n",
       "      <td>4.545509</td>\n",
       "      <td>4.545509</td>\n",
       "      <td>2017-12-08 00:00:00</td>\n",
       "      <td>4.545509</td>\n",
       "      <td>0.822542</td>\n",
       "      <td>190 days 00:00:00</td>\n",
       "    </tr>\n",
       "    <tr>\n",
       "      <th>std</th>\n",
       "      <td>1.404596</td>\n",
       "      <td>1.399759</td>\n",
       "      <td>NaN</td>\n",
       "      <td>1.347474</td>\n",
       "      <td>0.157428</td>\n",
       "      <td>59 days 01:55:18.757796868</td>\n",
       "    </tr>\n",
       "  </tbody>\n",
       "</table>\n",
       "</div>"
      ],
      "text/plain": [
       "              ret  lagged_ret           high_watermark_index  \\\n",
       "count  287.000000  287.000000                            287   \n",
       "mean     1.820336    1.804694  2017-04-17 15:03:08.153310208   \n",
       "min     -0.303423   -0.303423            2016-11-08 00:00:00   \n",
       "25%      1.095630    1.092610            2017-02-22 12:00:00   \n",
       "50%      1.390061    1.389257            2017-02-23 00:00:00   \n",
       "75%      1.597829    1.592794            2017-09-15 00:00:00   \n",
       "max      4.545509    4.545509            2017-12-08 00:00:00   \n",
       "std      1.404596    1.399759                            NaN   \n",
       "\n",
       "       high_watermark_ret  drawdown_deep           drawdown_duration  \n",
       "count          287.000000     287.000000                         287  \n",
       "mean             1.976447       0.156111  47 days 22:09:37.003484320  \n",
       "min             -0.007769       0.000000             0 days 00:00:00  \n",
       "25%              1.533069       0.023420             2 days 00:00:00  \n",
       "50%              1.588800       0.119595            15 days 00:00:00  \n",
       "75%              1.618922       0.242906            88 days 12:00:00  \n",
       "max              4.545509       0.822542           190 days 00:00:00  \n",
       "std              1.347474       0.157428  59 days 01:55:18.757796868  "
      ]
     },
     "execution_count": 109,
     "metadata": {},
     "output_type": "execute_result"
    }
   ],
   "source": [
    "term.describe()"
   ]
  },
  {
   "cell_type": "code",
   "execution_count": 110,
   "id": "8652364e-71b9-45c8-a9a4-c2ba18961be7",
   "metadata": {
    "tags": []
   },
   "outputs": [
    {
     "data": {
      "text/plain": [
       "Timestamp('2017-09-26 00:00:00')"
      ]
     },
     "execution_count": 110,
     "metadata": {},
     "output_type": "execute_result"
    }
   ],
   "source": [
    "term['drawdown_deep'].idxmax()"
   ]
  },
  {
   "cell_type": "code",
   "execution_count": 115,
   "id": "ac9f4f4f-d30d-4b70-84f9-87de6ee3cf6a",
   "metadata": {
    "tags": []
   },
   "outputs": [
    {
     "data": {
      "text/plain": [
       "ret                                0.796379\n",
       "lagged_ret                         1.553985\n",
       "high_watermark_index    2017-09-15 00:00:00\n",
       "high_watermark_ret                 1.618922\n",
       "drawdown_deep                      0.822542\n",
       "drawdown_duration          11 days 00:00:00\n",
       "Name: 2017-09-26 00:00:00, dtype: object"
      ]
     },
     "execution_count": 115,
     "metadata": {},
     "output_type": "execute_result"
    }
   ],
   "source": [
    "term.loc[term['drawdown_deep'].idxmax()]"
   ]
  },
  {
   "cell_type": "code",
   "execution_count": 111,
   "id": "eb440437-c2bf-41e6-b3ff-0e21a1ba7999",
   "metadata": {
    "tags": []
   },
   "outputs": [
    {
     "data": {
      "text/plain": [
       "Timestamp('2017-09-01 00:00:00')"
      ]
     },
     "execution_count": 111,
     "metadata": {},
     "output_type": "execute_result"
    }
   ],
   "source": [
    "term['drawdown_duration'].idxmax()"
   ]
  },
  {
   "cell_type": "code",
   "execution_count": 112,
   "id": "8cb3fc02-09e3-41c8-90c6-bc0d4b0a52e6",
   "metadata": {
    "tags": []
   },
   "outputs": [
    {
     "data": {
      "text/plain": [
       "<Axes: xlabel='datetime'>"
      ]
     },
     "execution_count": 112,
     "metadata": {},
     "output_type": "execute_result"
    },
    {
     "data": {
      "image/png": "[encoded data removed]",
      "text/plain": [
       "<Figure size 640x480 with 1 Axes>"
      ]
     },
     "metadata": {},
     "output_type": "display_data"
    }
   ],
   "source": [
    "term['ret'].plot()"
   ]
  },
  {
   "cell_type": "markdown",
   "id": "1678f4de-498e-473e-bfc9-5cedfc7d4e58",
   "metadata": {},
   "source": [
    "# Johansen Cointegration Test"
   ]
  },
  {
   "cell_type": "code",
   "execution_count": 116,
   "id": "228e7e0b-64dc-414f-b43b-277629d26380",
   "metadata": {
    "tags": []
   },
   "outputs": [
    {
     "data": {
      "text/html": [
       "<div>\n",
       "<style scoped>\n",
       "    .dataframe tbody tr th:only-of-type {\n",
       "        vertical-align: middle;\n",
       "    }\n",
       "\n",
       "    .dataframe tbody tr th {\n",
       "        vertical-align: top;\n",
       "    }\n",
       "\n",
       "    .dataframe thead th {\n",
       "        text-align: right;\n",
       "    }\n",
       "</style>\n",
       "<table border=\"1\" class=\"dataframe\">\n",
       "  <thead>\n",
       "    <tr style=\"text-align: right;\">\n",
       "      <th></th>\n",
       "      <th>IYE</th>\n",
       "      <th>VDE</th>\n",
       "    </tr>\n",
       "    <tr>\n",
       "      <th>datetime</th>\n",
       "      <th></th>\n",
       "      <th></th>\n",
       "    </tr>\n",
       "  </thead>\n",
       "  <tbody>\n",
       "    <tr>\n",
       "      <th>2010-01-04</th>\n",
       "      <td>34.23</td>\n",
       "      <td>85.97</td>\n",
       "    </tr>\n",
       "    <tr>\n",
       "      <th>2010-01-05</th>\n",
       "      <td>34.52</td>\n",
       "      <td>86.85</td>\n",
       "    </tr>\n",
       "    <tr>\n",
       "      <th>2010-01-06</th>\n",
       "      <td>34.89</td>\n",
       "      <td>87.85</td>\n",
       "    </tr>\n",
       "    <tr>\n",
       "      <th>2010-01-07</th>\n",
       "      <td>34.75</td>\n",
       "      <td>87.64</td>\n",
       "    </tr>\n",
       "    <tr>\n",
       "      <th>2010-01-08</th>\n",
       "      <td>35.03</td>\n",
       "      <td>88.30</td>\n",
       "    </tr>\n",
       "    <tr>\n",
       "      <th>...</th>\n",
       "      <td>...</td>\n",
       "      <td>...</td>\n",
       "    </tr>\n",
       "    <tr>\n",
       "      <th>2016-08-24</th>\n",
       "      <td>38.68</td>\n",
       "      <td>96.64</td>\n",
       "    </tr>\n",
       "    <tr>\n",
       "      <th>2016-08-25</th>\n",
       "      <td>38.58</td>\n",
       "      <td>96.44</td>\n",
       "    </tr>\n",
       "    <tr>\n",
       "      <th>2016-08-26</th>\n",
       "      <td>38.45</td>\n",
       "      <td>96.20</td>\n",
       "    </tr>\n",
       "    <tr>\n",
       "      <th>2016-08-29</th>\n",
       "      <td>38.72</td>\n",
       "      <td>96.82</td>\n",
       "    </tr>\n",
       "    <tr>\n",
       "      <th>2016-08-30</th>\n",
       "      <td>38.56</td>\n",
       "      <td>96.41</td>\n",
       "    </tr>\n",
       "  </tbody>\n",
       "</table>\n",
       "<p>1677 rows × 2 columns</p>\n",
       "</div>"
      ],
      "text/plain": [
       "              IYE    VDE\n",
       "datetime                \n",
       "2010-01-04  34.23  85.97\n",
       "2010-01-05  34.52  86.85\n",
       "2010-01-06  34.89  87.85\n",
       "2010-01-07  34.75  87.64\n",
       "2010-01-08  35.03  88.30\n",
       "...           ...    ...\n",
       "2016-08-24  38.68  96.64\n",
       "2016-08-25  38.58  96.44\n",
       "2016-08-26  38.45  96.20\n",
       "2016-08-29  38.72  96.82\n",
       "2016-08-30  38.56  96.41\n",
       "\n",
       "[1677 rows x 2 columns]"
      ]
     },
     "execution_count": 116,
     "metadata": {},
     "output_type": "execute_result"
    }
   ],
   "source": [
    "train_data"
   ]
  },
  {
   "cell_type": "code",
   "execution_count": 117,
   "id": "ddf6653a-451f-49d2-858f-660873f648d2",
   "metadata": {
    "tags": []
   },
   "outputs": [
    {
     "name": "stdout",
     "output_type": "stream",
     "text": [
      "Eigen statistic: \n",
      "\t[8.84155046 3.75160615]\n",
      "Eigen statistic critical: \n",
      "\t[[12.2971 14.2639 18.52  ]\n",
      " [ 2.7055  3.8415  6.6349]]\n",
      "Eigen vector: \n",
      "\t[[ 2.30766623 -0.91014639]\n",
      " [-0.2426138   0.03376747]]\n",
      "Eigen value: \n",
      "\t[0.00526463 0.00223726]\n"
     ]
    }
   ],
   "source": [
    "from statsmodels.tsa.vector_ar.vecm import coint_johansen\n",
    "\n",
    "# x is a dataframe of n series for cointegration analysis\n",
    "jres = coint_johansen(train_data, det_order=0, k_ar_diff=1)\n",
    "print(f'Eigen statistic: \\n\\t{jres.max_eig_stat}')\n",
    "print(f'Eigen statistic critical: \\n\\t{jres.max_eig_stat_crit_vals}')\n",
    "print(f'Eigen vector: \\n\\t{jres.evec.T}')\n",
    "print(f'Eigen value: \\n\\t{jres.eig}')"
   ]
  },
  {
   "cell_type": "code",
   "execution_count": 118,
   "id": "abece32f-4228-46a4-8fb1-ec9088bb8353",
   "metadata": {
    "tags": []
   },
   "outputs": [
    {
     "name": "stdout",
     "output_type": "stream",
     "text": [
      "[ 1.         -0.39440123]\n",
      "[ 1.         -0.13918199]\n"
     ]
    }
   ],
   "source": [
    "w1, w2 = jres.evec.T\n",
    "print(w1 / w1[0])\n",
    "print(w2 / w2[0])"
   ]
  },
  {
   "cell_type": "code",
   "execution_count": 119,
   "id": "9e655308-9fe0-4d06-ba4e-4f8e44eaf606",
   "metadata": {
    "tags": []
   },
   "outputs": [],
   "source": [
    "price = train_data"
   ]
  },
  {
   "cell_type": "code",
   "execution_count": 137,
   "id": "61c1161f-4251-4933-b1df-65531a679a3a",
   "metadata": {
    "tags": []
   },
   "outputs": [
    {
     "data": {
      "text/html": [
       "<div>\n",
       "<style scoped>\n",
       "    .dataframe tbody tr th:only-of-type {\n",
       "        vertical-align: middle;\n",
       "    }\n",
       "\n",
       "    .dataframe tbody tr th {\n",
       "        vertical-align: top;\n",
       "    }\n",
       "\n",
       "    .dataframe thead th {\n",
       "        text-align: right;\n",
       "    }\n",
       "</style>\n",
       "<table border=\"1\" class=\"dataframe\">\n",
       "  <thead>\n",
       "    <tr style=\"text-align: right;\">\n",
       "      <th></th>\n",
       "      <th>IYE</th>\n",
       "      <th>VDE</th>\n",
       "    </tr>\n",
       "    <tr>\n",
       "      <th>datetime</th>\n",
       "      <th></th>\n",
       "      <th></th>\n",
       "    </tr>\n",
       "  </thead>\n",
       "  <tbody>\n",
       "    <tr>\n",
       "      <th>2016-08-31</th>\n",
       "      <td>-0.242614</td>\n",
       "      <td>0.033767</td>\n",
       "    </tr>\n",
       "    <tr>\n",
       "      <th>2016-09-01</th>\n",
       "      <td>-0.242614</td>\n",
       "      <td>0.033767</td>\n",
       "    </tr>\n",
       "    <tr>\n",
       "      <th>2016-09-02</th>\n",
       "      <td>-0.242614</td>\n",
       "      <td>0.033767</td>\n",
       "    </tr>\n",
       "    <tr>\n",
       "      <th>2016-09-06</th>\n",
       "      <td>-0.242614</td>\n",
       "      <td>0.033767</td>\n",
       "    </tr>\n",
       "    <tr>\n",
       "      <th>2016-09-07</th>\n",
       "      <td>-0.242614</td>\n",
       "      <td>0.033767</td>\n",
       "    </tr>\n",
       "    <tr>\n",
       "      <th>...</th>\n",
       "      <td>...</td>\n",
       "      <td>...</td>\n",
       "    </tr>\n",
       "    <tr>\n",
       "      <th>2017-12-21</th>\n",
       "      <td>-0.242614</td>\n",
       "      <td>0.033767</td>\n",
       "    </tr>\n",
       "    <tr>\n",
       "      <th>2017-12-22</th>\n",
       "      <td>-0.242614</td>\n",
       "      <td>0.033767</td>\n",
       "    </tr>\n",
       "    <tr>\n",
       "      <th>2017-12-26</th>\n",
       "      <td>-0.242614</td>\n",
       "      <td>0.033767</td>\n",
       "    </tr>\n",
       "    <tr>\n",
       "      <th>2017-12-27</th>\n",
       "      <td>-0.242614</td>\n",
       "      <td>0.033767</td>\n",
       "    </tr>\n",
       "    <tr>\n",
       "      <th>2017-12-28</th>\n",
       "      <td>-0.242614</td>\n",
       "      <td>0.033767</td>\n",
       "    </tr>\n",
       "  </tbody>\n",
       "</table>\n",
       "<p>335 rows × 2 columns</p>\n",
       "</div>"
      ],
      "text/plain": [
       "                 IYE       VDE\n",
       "datetime                      \n",
       "2016-08-31 -0.242614  0.033767\n",
       "2016-09-01 -0.242614  0.033767\n",
       "2016-09-02 -0.242614  0.033767\n",
       "2016-09-06 -0.242614  0.033767\n",
       "2016-09-07 -0.242614  0.033767\n",
       "...              ...       ...\n",
       "2017-12-21 -0.242614  0.033767\n",
       "2017-12-22 -0.242614  0.033767\n",
       "2017-12-26 -0.242614  0.033767\n",
       "2017-12-27 -0.242614  0.033767\n",
       "2017-12-28 -0.242614  0.033767\n",
       "\n",
       "[335 rows x 2 columns]"
      ]
     },
     "execution_count": 137,
     "metadata": {},
     "output_type": "execute_result"
    }
   ],
   "source": [
    "a, b = w2\n",
    "weights = pd.DataFrame({\n",
    "    \"IYE\": [a] * len(price),\n",
    "    \"VDE\": [b] * len(price)\n",
    "}, index=price.index)\n",
    "weights"
   ]
  },
  {
   "cell_type": "code",
   "execution_count": 138,
   "id": "3d0dda14-ce56-40d2-a296-fe2cdb0aef4e",
   "metadata": {
    "tags": []
   },
   "outputs": [
    {
     "data": {
      "text/plain": [
       "datetime\n",
       "2016-08-31   -6.004536\n",
       "2016-09-01   -5.993507\n",
       "2016-09-02   -6.058873\n",
       "2016-09-06   -6.144086\n",
       "2016-09-07   -6.170410\n",
       "                ...   \n",
       "2017-12-21   -6.237153\n",
       "2017-12-22   -6.250271\n",
       "2017-12-26   -6.303507\n",
       "2017-12-27   -6.273005\n",
       "2017-12-28   -6.288025\n",
       "Length: 335, dtype: float64"
      ]
     },
     "execution_count": 138,
     "metadata": {},
     "output_type": "execute_result"
    }
   ],
   "source": [
    "spread = (weights * price).sum(axis=1)\n",
    "spread"
   ]
  },
  {
   "cell_type": "code",
   "execution_count": 139,
   "id": "6ce9c95d-29bb-412f-9c05-83b5fd02cfa1",
   "metadata": {
    "tags": []
   },
   "outputs": [
    {
     "data": {
      "image/png": "[encoded data removed]",
      "text/plain": [
       "<Figure size 640x480 with 1 Axes>"
      ]
     },
     "metadata": {},
     "output_type": "display_data"
    }
   ],
   "source": [
    "zscore_spread = zscore(spread)\n",
    "zscore_spread.plot()\n",
    "plt.axhline(zscore_spread.mean(), color=\"black\")\n",
    "plt.axhline(1.0, color=\"red\", linestyle=\"--\")\n",
    "plt.axhline(-1.0, color=\"green\", linestyle=\"--\")\n",
    "plt.legend([\"Spread z-score\", \"Mean\", \"+1\", \"-1\"]);"
   ]
  },
  {
   "cell_type": "code",
   "execution_count": 140,
   "id": "00cf69ea-9885-40f5-946d-5de01876091e",
   "metadata": {
    "tags": []
   },
   "outputs": [
    {
     "name": "stdout",
     "output_type": "stream",
     "text": [
      "Halflife: 37.038300\n"
     ]
    }
   ],
   "source": [
    "x = spread.shift().dropna()\n",
    "y = spread - spread.shift()\n",
    "y = y.dropna()\n",
    "x = sm.add_constant(x)\n",
    "results = sm.OLS(y, x).fit()\n",
    "halflife = -math.log(2) / results.params[0]\n",
    "print('Halflife: %f' % halflife)"
   ]
  },
  {
   "cell_type": "code",
   "execution_count": 141,
   "id": "7a646628-e078-4a80-97eb-8d027a16fc95",
   "metadata": {
    "tags": []
   },
   "outputs": [
    {
     "data": {
      "text/html": [
       "<div>\n",
       "<style scoped>\n",
       "    .dataframe tbody tr th:only-of-type {\n",
       "        vertical-align: middle;\n",
       "    }\n",
       "\n",
       "    .dataframe tbody tr th {\n",
       "        vertical-align: top;\n",
       "    }\n",
       "\n",
       "    .dataframe thead th {\n",
       "        text-align: right;\n",
       "    }\n",
       "</style>\n",
       "<table border=\"1\" class=\"dataframe\">\n",
       "  <thead>\n",
       "    <tr style=\"text-align: right;\">\n",
       "      <th></th>\n",
       "      <th>IYE</th>\n",
       "      <th>VDE</th>\n",
       "    </tr>\n",
       "    <tr>\n",
       "      <th>datetime</th>\n",
       "      <th></th>\n",
       "      <th></th>\n",
       "    </tr>\n",
       "  </thead>\n",
       "  <tbody>\n",
       "    <tr>\n",
       "      <th>2016-08-31</th>\n",
       "      <td>37.98</td>\n",
       "      <td>95.06</td>\n",
       "    </tr>\n",
       "    <tr>\n",
       "      <th>2016-09-01</th>\n",
       "      <td>37.89</td>\n",
       "      <td>94.74</td>\n",
       "    </tr>\n",
       "    <tr>\n",
       "      <th>2016-09-02</th>\n",
       "      <td>38.30</td>\n",
       "      <td>95.75</td>\n",
       "    </tr>\n",
       "    <tr>\n",
       "      <th>2016-09-06</th>\n",
       "      <td>38.86</td>\n",
       "      <td>97.25</td>\n",
       "    </tr>\n",
       "    <tr>\n",
       "      <th>2016-09-07</th>\n",
       "      <td>39.02</td>\n",
       "      <td>97.62</td>\n",
       "    </tr>\n",
       "    <tr>\n",
       "      <th>...</th>\n",
       "      <td>...</td>\n",
       "      <td>...</td>\n",
       "    </tr>\n",
       "    <tr>\n",
       "      <th>2017-12-21</th>\n",
       "      <td>39.38</td>\n",
       "      <td>98.23</td>\n",
       "    </tr>\n",
       "    <tr>\n",
       "      <th>2017-12-22</th>\n",
       "      <td>39.48</td>\n",
       "      <td>98.56</td>\n",
       "    </tr>\n",
       "    <tr>\n",
       "      <th>2017-12-26</th>\n",
       "      <td>39.84</td>\n",
       "      <td>99.57</td>\n",
       "    </tr>\n",
       "    <tr>\n",
       "      <th>2017-12-27</th>\n",
       "      <td>39.66</td>\n",
       "      <td>99.18</td>\n",
       "    </tr>\n",
       "    <tr>\n",
       "      <th>2017-12-28</th>\n",
       "      <td>39.74</td>\n",
       "      <td>99.31</td>\n",
       "    </tr>\n",
       "  </tbody>\n",
       "</table>\n",
       "<p>335 rows × 2 columns</p>\n",
       "</div>"
      ],
      "text/plain": [
       "              IYE    VDE\n",
       "datetime                \n",
       "2016-08-31  37.98  95.06\n",
       "2016-09-01  37.89  94.74\n",
       "2016-09-02  38.30  95.75\n",
       "2016-09-06  38.86  97.25\n",
       "2016-09-07  39.02  97.62\n",
       "...           ...    ...\n",
       "2017-12-21  39.38  98.23\n",
       "2017-12-22  39.48  98.56\n",
       "2017-12-26  39.84  99.57\n",
       "2017-12-27  39.66  99.18\n",
       "2017-12-28  39.74  99.31\n",
       "\n",
       "[335 rows x 2 columns]"
      ]
     },
     "execution_count": 141,
     "metadata": {},
     "output_type": "execute_result"
    }
   ],
   "source": [
    "price = validation_data\n",
    "price"
   ]
  },
  {
   "cell_type": "code",
   "execution_count": 143,
   "id": "1153fbda-96fb-45de-8e3e-c22e2338951b",
   "metadata": {
    "tags": []
   },
   "outputs": [
    {
     "data": {
      "text/html": [
       "<div>\n",
       "<style scoped>\n",
       "    .dataframe tbody tr th:only-of-type {\n",
       "        vertical-align: middle;\n",
       "    }\n",
       "\n",
       "    .dataframe tbody tr th {\n",
       "        vertical-align: top;\n",
       "    }\n",
       "\n",
       "    .dataframe thead th {\n",
       "        text-align: right;\n",
       "    }\n",
       "</style>\n",
       "<table border=\"1\" class=\"dataframe\">\n",
       "  <thead>\n",
       "    <tr style=\"text-align: right;\">\n",
       "      <th></th>\n",
       "      <th>IYE</th>\n",
       "      <th>VDE</th>\n",
       "    </tr>\n",
       "    <tr>\n",
       "      <th>datetime</th>\n",
       "      <th></th>\n",
       "      <th></th>\n",
       "    </tr>\n",
       "  </thead>\n",
       "  <tbody>\n",
       "    <tr>\n",
       "      <th>2016-08-31</th>\n",
       "      <td>-0.242614</td>\n",
       "      <td>0.033767</td>\n",
       "    </tr>\n",
       "    <tr>\n",
       "      <th>2016-09-01</th>\n",
       "      <td>-0.242614</td>\n",
       "      <td>0.033767</td>\n",
       "    </tr>\n",
       "    <tr>\n",
       "      <th>2016-09-02</th>\n",
       "      <td>-0.242614</td>\n",
       "      <td>0.033767</td>\n",
       "    </tr>\n",
       "    <tr>\n",
       "      <th>2016-09-06</th>\n",
       "      <td>-0.242614</td>\n",
       "      <td>0.033767</td>\n",
       "    </tr>\n",
       "    <tr>\n",
       "      <th>2016-09-07</th>\n",
       "      <td>-0.242614</td>\n",
       "      <td>0.033767</td>\n",
       "    </tr>\n",
       "    <tr>\n",
       "      <th>...</th>\n",
       "      <td>...</td>\n",
       "      <td>...</td>\n",
       "    </tr>\n",
       "    <tr>\n",
       "      <th>2017-12-21</th>\n",
       "      <td>-0.242614</td>\n",
       "      <td>0.033767</td>\n",
       "    </tr>\n",
       "    <tr>\n",
       "      <th>2017-12-22</th>\n",
       "      <td>-0.242614</td>\n",
       "      <td>0.033767</td>\n",
       "    </tr>\n",
       "    <tr>\n",
       "      <th>2017-12-26</th>\n",
       "      <td>-0.242614</td>\n",
       "      <td>0.033767</td>\n",
       "    </tr>\n",
       "    <tr>\n",
       "      <th>2017-12-27</th>\n",
       "      <td>-0.242614</td>\n",
       "      <td>0.033767</td>\n",
       "    </tr>\n",
       "    <tr>\n",
       "      <th>2017-12-28</th>\n",
       "      <td>-0.242614</td>\n",
       "      <td>0.033767</td>\n",
       "    </tr>\n",
       "  </tbody>\n",
       "</table>\n",
       "<p>335 rows × 2 columns</p>\n",
       "</div>"
      ],
      "text/plain": [
       "                 IYE       VDE\n",
       "datetime                      \n",
       "2016-08-31 -0.242614  0.033767\n",
       "2016-09-01 -0.242614  0.033767\n",
       "2016-09-02 -0.242614  0.033767\n",
       "2016-09-06 -0.242614  0.033767\n",
       "2016-09-07 -0.242614  0.033767\n",
       "...              ...       ...\n",
       "2017-12-21 -0.242614  0.033767\n",
       "2017-12-22 -0.242614  0.033767\n",
       "2017-12-26 -0.242614  0.033767\n",
       "2017-12-27 -0.242614  0.033767\n",
       "2017-12-28 -0.242614  0.033767\n",
       "\n",
       "[335 rows x 2 columns]"
      ]
     },
     "execution_count": 143,
     "metadata": {},
     "output_type": "execute_result"
    }
   ],
   "source": [
    "a, b = w2\n",
    "weights = pd.DataFrame({\n",
    "    \"IYE\": [a] * len(price),\n",
    "    \"VDE\": [b] * len(price)\n",
    "}, index=price.index)\n",
    "weights"
   ]
  },
  {
   "cell_type": "code",
   "execution_count": 144,
   "id": "0f918465-1a06-4aec-8e47-6aa78656e326",
   "metadata": {
    "tags": []
   },
   "outputs": [],
   "source": [
    "spread = weights * price"
   ]
  },
  {
   "cell_type": "code",
   "execution_count": 145,
   "id": "76675f3a-bf7f-4515-979f-a227fc8c2a85",
   "metadata": {
    "tags": []
   },
   "outputs": [
    {
     "data": {
      "text/plain": [
       "37"
      ]
     },
     "execution_count": 145,
     "metadata": {},
     "output_type": "execute_result"
    }
   ],
   "source": [
    "lookback = round(halflife)\n",
    "lookback"
   ]
  },
  {
   "cell_type": "code",
   "execution_count": 146,
   "id": "a115ee29-c9b6-41da-bf4b-b19e1dab55fc",
   "metadata": {
    "tags": []
   },
   "outputs": [
    {
     "data": {
      "text/html": [
       "<div>\n",
       "<style scoped>\n",
       "    .dataframe tbody tr th:only-of-type {\n",
       "        vertical-align: middle;\n",
       "    }\n",
       "\n",
       "    .dataframe tbody tr th {\n",
       "        vertical-align: top;\n",
       "    }\n",
       "\n",
       "    .dataframe thead th {\n",
       "        text-align: right;\n",
       "    }\n",
       "</style>\n",
       "<table border=\"1\" class=\"dataframe\">\n",
       "  <thead>\n",
       "    <tr style=\"text-align: right;\">\n",
       "      <th></th>\n",
       "      <th>IYE</th>\n",
       "      <th>VDE</th>\n",
       "    </tr>\n",
       "    <tr>\n",
       "      <th>datetime</th>\n",
       "      <th></th>\n",
       "      <th></th>\n",
       "    </tr>\n",
       "  </thead>\n",
       "  <tbody>\n",
       "    <tr>\n",
       "      <th>2016-08-31</th>\n",
       "      <td>NaN</td>\n",
       "      <td>NaN</td>\n",
       "    </tr>\n",
       "    <tr>\n",
       "      <th>2016-09-01</th>\n",
       "      <td>NaN</td>\n",
       "      <td>NaN</td>\n",
       "    </tr>\n",
       "    <tr>\n",
       "      <th>2016-09-02</th>\n",
       "      <td>NaN</td>\n",
       "      <td>NaN</td>\n",
       "    </tr>\n",
       "    <tr>\n",
       "      <th>2016-09-06</th>\n",
       "      <td>NaN</td>\n",
       "      <td>NaN</td>\n",
       "    </tr>\n",
       "    <tr>\n",
       "      <th>2016-09-07</th>\n",
       "      <td>NaN</td>\n",
       "      <td>NaN</td>\n",
       "    </tr>\n",
       "    <tr>\n",
       "      <th>...</th>\n",
       "      <td>...</td>\n",
       "      <td>...</td>\n",
       "    </tr>\n",
       "    <tr>\n",
       "      <th>2017-12-21</th>\n",
       "      <td>2.715243</td>\n",
       "      <td>-2.698803</td>\n",
       "    </tr>\n",
       "    <tr>\n",
       "      <th>2017-12-22</th>\n",
       "      <td>2.541473</td>\n",
       "      <td>-2.569641</td>\n",
       "    </tr>\n",
       "    <tr>\n",
       "      <th>2017-12-26</th>\n",
       "      <td>2.670177</td>\n",
       "      <td>-2.737690</td>\n",
       "    </tr>\n",
       "    <tr>\n",
       "      <th>2017-12-27</th>\n",
       "      <td>2.191557</td>\n",
       "      <td>-2.268531</td>\n",
       "    </tr>\n",
       "    <tr>\n",
       "      <th>2017-12-28</th>\n",
       "      <td>2.081604</td>\n",
       "      <td>-2.114829</td>\n",
       "    </tr>\n",
       "  </tbody>\n",
       "</table>\n",
       "<p>335 rows × 2 columns</p>\n",
       "</div>"
      ],
      "text/plain": [
       "                 IYE       VDE\n",
       "datetime                      \n",
       "2016-08-31       NaN       NaN\n",
       "2016-09-01       NaN       NaN\n",
       "2016-09-02       NaN       NaN\n",
       "2016-09-06       NaN       NaN\n",
       "2016-09-07       NaN       NaN\n",
       "...              ...       ...\n",
       "2017-12-21  2.715243 -2.698803\n",
       "2017-12-22  2.541473 -2.569641\n",
       "2017-12-26  2.670177 -2.737690\n",
       "2017-12-27  2.191557 -2.268531\n",
       "2017-12-28  2.081604 -2.114829\n",
       "\n",
       "[335 rows x 2 columns]"
      ]
     },
     "execution_count": 146,
     "metadata": {},
     "output_type": "execute_result"
    }
   ],
   "source": [
    "num_units = -(spread - spread.rolling(lookback).mean()) / (spread.rolling(lookback).std())\n",
    "num_units"
   ]
  },
  {
   "cell_type": "code",
   "execution_count": 147,
   "id": "50c24886-8429-490c-8016-cfd8ae99daff",
   "metadata": {
    "tags": []
   },
   "outputs": [
    {
     "data": {
      "text/html": [
       "<div>\n",
       "<style scoped>\n",
       "    .dataframe tbody tr th:only-of-type {\n",
       "        vertical-align: middle;\n",
       "    }\n",
       "\n",
       "    .dataframe tbody tr th {\n",
       "        vertical-align: top;\n",
       "    }\n",
       "\n",
       "    .dataframe thead th {\n",
       "        text-align: right;\n",
       "    }\n",
       "</style>\n",
       "<table border=\"1\" class=\"dataframe\">\n",
       "  <thead>\n",
       "    <tr style=\"text-align: right;\">\n",
       "      <th></th>\n",
       "      <th>IYE</th>\n",
       "      <th>VDE</th>\n",
       "    </tr>\n",
       "    <tr>\n",
       "      <th>datetime</th>\n",
       "      <th></th>\n",
       "      <th></th>\n",
       "    </tr>\n",
       "  </thead>\n",
       "  <tbody>\n",
       "    <tr>\n",
       "      <th>2016-08-31</th>\n",
       "      <td>NaN</td>\n",
       "      <td>NaN</td>\n",
       "    </tr>\n",
       "    <tr>\n",
       "      <th>2016-09-01</th>\n",
       "      <td>NaN</td>\n",
       "      <td>NaN</td>\n",
       "    </tr>\n",
       "    <tr>\n",
       "      <th>2016-09-02</th>\n",
       "      <td>NaN</td>\n",
       "      <td>NaN</td>\n",
       "    </tr>\n",
       "    <tr>\n",
       "      <th>2016-09-06</th>\n",
       "      <td>NaN</td>\n",
       "      <td>NaN</td>\n",
       "    </tr>\n",
       "    <tr>\n",
       "      <th>2016-09-07</th>\n",
       "      <td>NaN</td>\n",
       "      <td>NaN</td>\n",
       "    </tr>\n",
       "    <tr>\n",
       "      <th>...</th>\n",
       "      <td>...</td>\n",
       "      <td>...</td>\n",
       "    </tr>\n",
       "    <tr>\n",
       "      <th>2017-12-21</th>\n",
       "      <td>-25.941791</td>\n",
       "      <td>-8.951871</td>\n",
       "    </tr>\n",
       "    <tr>\n",
       "      <th>2017-12-22</th>\n",
       "      <td>-24.343227</td>\n",
       "      <td>-8.552079</td>\n",
       "    </tr>\n",
       "    <tr>\n",
       "      <th>2017-12-26</th>\n",
       "      <td>-25.809224</td>\n",
       "      <td>-9.204735</td>\n",
       "    </tr>\n",
       "    <tr>\n",
       "      <th>2017-12-27</th>\n",
       "      <td>-21.087298</td>\n",
       "      <td>-7.597443</td>\n",
       "    </tr>\n",
       "    <tr>\n",
       "      <th>2017-12-28</th>\n",
       "      <td>-20.069732</td>\n",
       "      <td>-7.091969</td>\n",
       "    </tr>\n",
       "  </tbody>\n",
       "</table>\n",
       "<p>335 rows × 2 columns</p>\n",
       "</div>"
      ],
      "text/plain": [
       "                  IYE       VDE\n",
       "datetime                       \n",
       "2016-08-31        NaN       NaN\n",
       "2016-09-01        NaN       NaN\n",
       "2016-09-02        NaN       NaN\n",
       "2016-09-06        NaN       NaN\n",
       "2016-09-07        NaN       NaN\n",
       "...               ...       ...\n",
       "2017-12-21 -25.941791 -8.951871\n",
       "2017-12-22 -24.343227 -8.552079\n",
       "2017-12-26 -25.809224 -9.204735\n",
       "2017-12-27 -21.087298 -7.597443\n",
       "2017-12-28 -20.069732 -7.091969\n",
       "\n",
       "[335 rows x 2 columns]"
      ]
     },
     "execution_count": 147,
     "metadata": {},
     "output_type": "execute_result"
    }
   ],
   "source": [
    "positions = weights.mul(num_units, axis=0) * price\n",
    "positions"
   ]
  },
  {
   "cell_type": "code",
   "execution_count": 148,
   "id": "62c7ffb3-f3e3-498c-967c-d5bfef1c6e13",
   "metadata": {
    "tags": []
   },
   "outputs": [
    {
     "data": {
      "text/html": [
       "<div>\n",
       "<style scoped>\n",
       "    .dataframe tbody tr th:only-of-type {\n",
       "        vertical-align: middle;\n",
       "    }\n",
       "\n",
       "    .dataframe tbody tr th {\n",
       "        vertical-align: top;\n",
       "    }\n",
       "\n",
       "    .dataframe thead th {\n",
       "        text-align: right;\n",
       "    }\n",
       "</style>\n",
       "<table border=\"1\" class=\"dataframe\">\n",
       "  <thead>\n",
       "    <tr style=\"text-align: right;\">\n",
       "      <th></th>\n",
       "      <th>IYE</th>\n",
       "      <th>VDE</th>\n",
       "    </tr>\n",
       "    <tr>\n",
       "      <th>datetime</th>\n",
       "      <th></th>\n",
       "      <th></th>\n",
       "    </tr>\n",
       "  </thead>\n",
       "  <tbody>\n",
       "    <tr>\n",
       "      <th>2016-10-21</th>\n",
       "      <td>-4.635355</td>\n",
       "      <td>-1.854969</td>\n",
       "    </tr>\n",
       "    <tr>\n",
       "      <th>2016-10-24</th>\n",
       "      <td>-2.926940</td>\n",
       "      <td>-1.217201</td>\n",
       "    </tr>\n",
       "    <tr>\n",
       "      <th>2016-10-25</th>\n",
       "      <td>0.334236</td>\n",
       "      <td>0.017568</td>\n",
       "    </tr>\n",
       "    <tr>\n",
       "      <th>2016-10-26</th>\n",
       "      <td>-0.596388</td>\n",
       "      <td>-0.182037</td>\n",
       "    </tr>\n",
       "    <tr>\n",
       "      <th>2016-10-27</th>\n",
       "      <td>0.845281</td>\n",
       "      <td>0.286502</td>\n",
       "    </tr>\n",
       "    <tr>\n",
       "      <th>...</th>\n",
       "      <td>...</td>\n",
       "      <td>...</td>\n",
       "    </tr>\n",
       "    <tr>\n",
       "      <th>2017-12-21</th>\n",
       "      <td>-25.941791</td>\n",
       "      <td>-8.951871</td>\n",
       "    </tr>\n",
       "    <tr>\n",
       "      <th>2017-12-22</th>\n",
       "      <td>-24.343227</td>\n",
       "      <td>-8.552079</td>\n",
       "    </tr>\n",
       "    <tr>\n",
       "      <th>2017-12-26</th>\n",
       "      <td>-25.809224</td>\n",
       "      <td>-9.204735</td>\n",
       "    </tr>\n",
       "    <tr>\n",
       "      <th>2017-12-27</th>\n",
       "      <td>-21.087298</td>\n",
       "      <td>-7.597443</td>\n",
       "    </tr>\n",
       "    <tr>\n",
       "      <th>2017-12-28</th>\n",
       "      <td>-20.069732</td>\n",
       "      <td>-7.091969</td>\n",
       "    </tr>\n",
       "  </tbody>\n",
       "</table>\n",
       "<p>299 rows × 2 columns</p>\n",
       "</div>"
      ],
      "text/plain": [
       "                  IYE       VDE\n",
       "datetime                       \n",
       "2016-10-21  -4.635355 -1.854969\n",
       "2016-10-24  -2.926940 -1.217201\n",
       "2016-10-25   0.334236  0.017568\n",
       "2016-10-26  -0.596388 -0.182037\n",
       "2016-10-27   0.845281  0.286502\n",
       "...               ...       ...\n",
       "2017-12-21 -25.941791 -8.951871\n",
       "2017-12-22 -24.343227 -8.552079\n",
       "2017-12-26 -25.809224 -9.204735\n",
       "2017-12-27 -21.087298 -7.597443\n",
       "2017-12-28 -20.069732 -7.091969\n",
       "\n",
       "[299 rows x 2 columns]"
      ]
     },
     "execution_count": 148,
     "metadata": {},
     "output_type": "execute_result"
    }
   ],
   "source": [
    "positions.dropna()"
   ]
  },
  {
   "cell_type": "code",
   "execution_count": 149,
   "id": "53a8fb20-1f8a-4688-be2e-4ede8efcabee",
   "metadata": {
    "tags": []
   },
   "outputs": [
    {
     "data": {
      "text/html": [
       "<div>\n",
       "<style scoped>\n",
       "    .dataframe tbody tr th:only-of-type {\n",
       "        vertical-align: middle;\n",
       "    }\n",
       "\n",
       "    .dataframe tbody tr th {\n",
       "        vertical-align: top;\n",
       "    }\n",
       "\n",
       "    .dataframe thead th {\n",
       "        text-align: right;\n",
       "    }\n",
       "</style>\n",
       "<table border=\"1\" class=\"dataframe\">\n",
       "  <thead>\n",
       "    <tr style=\"text-align: right;\">\n",
       "      <th></th>\n",
       "      <th>IYE</th>\n",
       "      <th>VDE</th>\n",
       "    </tr>\n",
       "  </thead>\n",
       "  <tbody>\n",
       "    <tr>\n",
       "      <th>count</th>\n",
       "      <td>298.000000</td>\n",
       "      <td>298.000000</td>\n",
       "    </tr>\n",
       "    <tr>\n",
       "      <th>mean</th>\n",
       "      <td>0.001259</td>\n",
       "      <td>0.000085</td>\n",
       "    </tr>\n",
       "    <tr>\n",
       "      <th>std</th>\n",
       "      <td>0.113510</td>\n",
       "      <td>0.040167</td>\n",
       "    </tr>\n",
       "    <tr>\n",
       "      <th>min</th>\n",
       "      <td>-0.325924</td>\n",
       "      <td>-0.122583</td>\n",
       "    </tr>\n",
       "    <tr>\n",
       "      <th>25%</th>\n",
       "      <td>-0.049024</td>\n",
       "      <td>-0.018053</td>\n",
       "    </tr>\n",
       "    <tr>\n",
       "      <th>50%</th>\n",
       "      <td>0.000000</td>\n",
       "      <td>0.000078</td>\n",
       "    </tr>\n",
       "    <tr>\n",
       "      <th>75%</th>\n",
       "      <td>0.041999</td>\n",
       "      <td>0.013917</td>\n",
       "    </tr>\n",
       "    <tr>\n",
       "      <th>max</th>\n",
       "      <td>0.497348</td>\n",
       "      <td>0.218071</td>\n",
       "    </tr>\n",
       "  </tbody>\n",
       "</table>\n",
       "</div>"
      ],
      "text/plain": [
       "              IYE         VDE\n",
       "count  298.000000  298.000000\n",
       "mean     0.001259    0.000085\n",
       "std      0.113510    0.040167\n",
       "min     -0.325924   -0.122583\n",
       "25%     -0.049024   -0.018053\n",
       "50%      0.000000    0.000078\n",
       "75%      0.041999    0.013917\n",
       "max      0.497348    0.218071"
      ]
     },
     "execution_count": 149,
     "metadata": {},
     "output_type": "execute_result"
    }
   ],
   "source": [
    "pnl = positions.shift(1) * (price - price.shift(1)) / price.shift(1)\n",
    "pnl.describe()"
   ]
  },
  {
   "cell_type": "code",
   "execution_count": 150,
   "id": "4ba5da18-a858-48ac-857b-c1cebc74278a",
   "metadata": {
    "tags": []
   },
   "outputs": [
    {
     "data": {
      "text/plain": [
       "datetime\n",
       "2016-08-31         NaN\n",
       "2016-09-01         NaN\n",
       "2016-09-02         NaN\n",
       "2016-09-06         NaN\n",
       "2016-09-07         NaN\n",
       "                ...   \n",
       "2017-12-21   -0.021838\n",
       "2017-12-22   -0.002750\n",
       "2017-12-26   -0.009412\n",
       "2017-12-27    0.004360\n",
       "2017-12-28   -0.001830\n",
       "Length: 335, dtype: float64"
      ]
     },
     "execution_count": 150,
     "metadata": {},
     "output_type": "execute_result"
    }
   ],
   "source": [
    "ret = pnl.sum(axis=1) / positions.shift(1).sum(axis=1).abs()\n",
    "ret"
   ]
  },
  {
   "cell_type": "code",
   "execution_count": 151,
   "id": "e497c6e7-c93f-4ea9-a5f8-84dd79649a8c",
   "metadata": {
    "tags": []
   },
   "outputs": [
    {
     "data": {
      "text/plain": [
       "count    298.000000\n",
       "mean      -0.000076\n",
       "std        0.009700\n",
       "min       -0.054823\n",
       "25%       -0.004881\n",
       "50%        0.000164\n",
       "75%        0.005754\n",
       "max        0.026220\n",
       "dtype: float64"
      ]
     },
     "execution_count": 151,
     "metadata": {},
     "output_type": "execute_result"
    }
   ],
   "source": [
    "ret.dropna().describe()"
   ]
  },
  {
   "cell_type": "code",
   "execution_count": 152,
   "id": "2e7d26ab-61d8-4ce7-a2f2-98b05f32eaf3",
   "metadata": {
    "tags": []
   },
   "outputs": [
    {
     "data": {
      "text/plain": [
       "<Axes: xlabel='datetime'>"
      ]
     },
     "execution_count": 152,
     "metadata": {},
     "output_type": "execute_result"
    },
    {
     "data": {
      "image/png": "[encoded data removed]",
      "text/plain": [
       "<Figure size 640x480 with 1 Axes>"
      ]
     },
     "metadata": {},
     "output_type": "display_data"
    }
   ],
   "source": [
    "ret.cumsum().plot()"
   ]
  },
  {
   "cell_type": "code",
   "execution_count": 153,
   "id": "d8d2b847-2cbf-4836-b501-f96543b475a2",
   "metadata": {
    "tags": []
   },
   "outputs": [
    {
     "data": {
      "text/plain": [
       "-0.12454150029412656"
      ]
     },
     "execution_count": 153,
     "metadata": {},
     "output_type": "execute_result"
    }
   ],
   "source": [
    "sharp_ratio = math.sqrt(252)*ret.mean()/ret.std()\n",
    "sharp_ratio"
   ]
  },
  {
   "cell_type": "code",
   "execution_count": 154,
   "id": "89141da2-440e-45bf-af4f-8f29e9203cfe",
   "metadata": {
    "tags": []
   },
   "outputs": [
    {
     "data": {
      "text/html": [
       "<div>\n",
       "<style scoped>\n",
       "    .dataframe tbody tr th:only-of-type {\n",
       "        vertical-align: middle;\n",
       "    }\n",
       "\n",
       "    .dataframe tbody tr th {\n",
       "        vertical-align: top;\n",
       "    }\n",
       "\n",
       "    .dataframe thead th {\n",
       "        text-align: right;\n",
       "    }\n",
       "</style>\n",
       "<table border=\"1\" class=\"dataframe\">\n",
       "  <thead>\n",
       "    <tr style=\"text-align: right;\">\n",
       "      <th></th>\n",
       "      <th>ret</th>\n",
       "      <th>lagged_ret</th>\n",
       "      <th>high_watermark_index</th>\n",
       "    </tr>\n",
       "    <tr>\n",
       "      <th>datetime</th>\n",
       "      <th></th>\n",
       "      <th></th>\n",
       "      <th></th>\n",
       "    </tr>\n",
       "  </thead>\n",
       "  <tbody>\n",
       "    <tr>\n",
       "      <th>2016-10-24</th>\n",
       "      <td>0.003239</td>\n",
       "      <td>0.000000</td>\n",
       "      <td>2016-10-24</td>\n",
       "    </tr>\n",
       "    <tr>\n",
       "      <th>2016-10-25</th>\n",
       "      <td>0.010051</td>\n",
       "      <td>0.003239</td>\n",
       "      <td>2016-10-25</td>\n",
       "    </tr>\n",
       "    <tr>\n",
       "      <th>2016-10-26</th>\n",
       "      <td>0.012103</td>\n",
       "      <td>0.010051</td>\n",
       "      <td>2016-10-26</td>\n",
       "    </tr>\n",
       "    <tr>\n",
       "      <th>2016-10-27</th>\n",
       "      <td>0.015493</td>\n",
       "      <td>0.012103</td>\n",
       "      <td>2016-10-27</td>\n",
       "    </tr>\n",
       "    <tr>\n",
       "      <th>2016-10-28</th>\n",
       "      <td>0.009388</td>\n",
       "      <td>0.015493</td>\n",
       "      <td>2016-10-28</td>\n",
       "    </tr>\n",
       "    <tr>\n",
       "      <th>...</th>\n",
       "      <td>...</td>\n",
       "      <td>...</td>\n",
       "      <td>...</td>\n",
       "    </tr>\n",
       "    <tr>\n",
       "      <th>2017-12-21</th>\n",
       "      <td>-0.013046</td>\n",
       "      <td>0.008792</td>\n",
       "      <td>2017-12-21</td>\n",
       "    </tr>\n",
       "    <tr>\n",
       "      <th>2017-12-22</th>\n",
       "      <td>-0.015796</td>\n",
       "      <td>-0.013046</td>\n",
       "      <td>2017-12-22</td>\n",
       "    </tr>\n",
       "    <tr>\n",
       "      <th>2017-12-26</th>\n",
       "      <td>-0.025208</td>\n",
       "      <td>-0.015796</td>\n",
       "      <td>2017-12-26</td>\n",
       "    </tr>\n",
       "    <tr>\n",
       "      <th>2017-12-27</th>\n",
       "      <td>-0.020848</td>\n",
       "      <td>-0.025208</td>\n",
       "      <td>2017-12-27</td>\n",
       "    </tr>\n",
       "    <tr>\n",
       "      <th>2017-12-28</th>\n",
       "      <td>-0.022678</td>\n",
       "      <td>-0.020848</td>\n",
       "      <td>2017-12-28</td>\n",
       "    </tr>\n",
       "  </tbody>\n",
       "</table>\n",
       "<p>298 rows × 3 columns</p>\n",
       "</div>"
      ],
      "text/plain": [
       "                 ret  lagged_ret high_watermark_index\n",
       "datetime                                             \n",
       "2016-10-24  0.003239    0.000000           2016-10-24\n",
       "2016-10-25  0.010051    0.003239           2016-10-25\n",
       "2016-10-26  0.012103    0.010051           2016-10-26\n",
       "2016-10-27  0.015493    0.012103           2016-10-27\n",
       "2016-10-28  0.009388    0.015493           2016-10-28\n",
       "...              ...         ...                  ...\n",
       "2017-12-21 -0.013046    0.008792           2017-12-21\n",
       "2017-12-22 -0.015796   -0.013046           2017-12-22\n",
       "2017-12-26 -0.025208   -0.015796           2017-12-26\n",
       "2017-12-27 -0.020848   -0.025208           2017-12-27\n",
       "2017-12-28 -0.022678   -0.020848           2017-12-28\n",
       "\n",
       "[298 rows x 3 columns]"
      ]
     },
     "execution_count": 154,
     "metadata": {},
     "output_type": "execute_result"
    }
   ],
   "source": [
    "term = pd.DataFrame({\n",
    "    \"ret\": ret.cumsum().dropna(),\n",
    "    'lagged_ret': ret.cumsum().dropna().shift(1),\n",
    "    'high_watermark_index': ret.cumsum().dropna().index\n",
    "})\n",
    "term['lagged_ret'] = term['lagged_ret'].fillna(0)\n",
    "term"
   ]
  },
  {
   "cell_type": "code",
   "execution_count": 155,
   "id": "9694246e-144e-41e2-ba64-6df9912a8ed0",
   "metadata": {
    "tags": []
   },
   "outputs": [
    {
     "data": {
      "text/html": [
       "<div>\n",
       "<style scoped>\n",
       "    .dataframe tbody tr th:only-of-type {\n",
       "        vertical-align: middle;\n",
       "    }\n",
       "\n",
       "    .dataframe tbody tr th {\n",
       "        vertical-align: top;\n",
       "    }\n",
       "\n",
       "    .dataframe thead th {\n",
       "        text-align: right;\n",
       "    }\n",
       "</style>\n",
       "<table border=\"1\" class=\"dataframe\">\n",
       "  <thead>\n",
       "    <tr style=\"text-align: right;\">\n",
       "      <th></th>\n",
       "      <th>ret</th>\n",
       "      <th>lagged_ret</th>\n",
       "      <th>high_watermark_index</th>\n",
       "    </tr>\n",
       "    <tr>\n",
       "      <th>datetime</th>\n",
       "      <th></th>\n",
       "      <th></th>\n",
       "      <th></th>\n",
       "    </tr>\n",
       "  </thead>\n",
       "  <tbody>\n",
       "    <tr>\n",
       "      <th>2016-10-24</th>\n",
       "      <td>0.003239</td>\n",
       "      <td>0.000000</td>\n",
       "      <td>2016-10-24</td>\n",
       "    </tr>\n",
       "    <tr>\n",
       "      <th>2016-10-25</th>\n",
       "      <td>0.010051</td>\n",
       "      <td>0.003239</td>\n",
       "      <td>2016-10-25</td>\n",
       "    </tr>\n",
       "    <tr>\n",
       "      <th>2016-10-26</th>\n",
       "      <td>0.012103</td>\n",
       "      <td>0.010051</td>\n",
       "      <td>2016-10-26</td>\n",
       "    </tr>\n",
       "    <tr>\n",
       "      <th>2016-10-27</th>\n",
       "      <td>0.015493</td>\n",
       "      <td>0.012103</td>\n",
       "      <td>2016-10-27</td>\n",
       "    </tr>\n",
       "    <tr>\n",
       "      <th>2016-10-28</th>\n",
       "      <td>0.009388</td>\n",
       "      <td>0.015493</td>\n",
       "      <td>2016-10-27</td>\n",
       "    </tr>\n",
       "    <tr>\n",
       "      <th>...</th>\n",
       "      <td>...</td>\n",
       "      <td>...</td>\n",
       "      <td>...</td>\n",
       "    </tr>\n",
       "    <tr>\n",
       "      <th>2017-12-21</th>\n",
       "      <td>-0.013046</td>\n",
       "      <td>0.008792</td>\n",
       "      <td>2016-11-14</td>\n",
       "    </tr>\n",
       "    <tr>\n",
       "      <th>2017-12-22</th>\n",
       "      <td>-0.015796</td>\n",
       "      <td>-0.013046</td>\n",
       "      <td>2016-11-14</td>\n",
       "    </tr>\n",
       "    <tr>\n",
       "      <th>2017-12-26</th>\n",
       "      <td>-0.025208</td>\n",
       "      <td>-0.015796</td>\n",
       "      <td>2016-11-14</td>\n",
       "    </tr>\n",
       "    <tr>\n",
       "      <th>2017-12-27</th>\n",
       "      <td>-0.020848</td>\n",
       "      <td>-0.025208</td>\n",
       "      <td>2016-11-14</td>\n",
       "    </tr>\n",
       "    <tr>\n",
       "      <th>2017-12-28</th>\n",
       "      <td>-0.022678</td>\n",
       "      <td>-0.020848</td>\n",
       "      <td>2016-11-14</td>\n",
       "    </tr>\n",
       "  </tbody>\n",
       "</table>\n",
       "<p>298 rows × 3 columns</p>\n",
       "</div>"
      ],
      "text/plain": [
       "                 ret  lagged_ret high_watermark_index\n",
       "datetime                                             \n",
       "2016-10-24  0.003239    0.000000           2016-10-24\n",
       "2016-10-25  0.010051    0.003239           2016-10-25\n",
       "2016-10-26  0.012103    0.010051           2016-10-26\n",
       "2016-10-27  0.015493    0.012103           2016-10-27\n",
       "2016-10-28  0.009388    0.015493           2016-10-27\n",
       "...              ...         ...                  ...\n",
       "2017-12-21 -0.013046    0.008792           2016-11-14\n",
       "2017-12-22 -0.015796   -0.013046           2016-11-14\n",
       "2017-12-26 -0.025208   -0.015796           2016-11-14\n",
       "2017-12-27 -0.020848   -0.025208           2016-11-14\n",
       "2017-12-28 -0.022678   -0.020848           2016-11-14\n",
       "\n",
       "[298 rows x 3 columns]"
      ]
     },
     "execution_count": 155,
     "metadata": {},
     "output_type": "execute_result"
    }
   ],
   "source": [
    "highest_watermark_index = term.iloc[0]['high_watermark_index']\n",
    "for d in term.index:\n",
    "    row = term.loc[d]\n",
    "    if row['ret'] >= term.loc[highest_watermark_index]['ret']:\n",
    "        highest_watermark_index = d\n",
    "    term.loc[d, 'high_watermark_index']= highest_watermark_index\n",
    "term"
   ]
  },
  {
   "cell_type": "code",
   "execution_count": 156,
   "id": "575f6a99-b078-41d6-ba84-83e9bf54c858",
   "metadata": {
    "tags": []
   },
   "outputs": [
    {
     "data": {
      "text/html": [
       "<div>\n",
       "<style scoped>\n",
       "    .dataframe tbody tr th:only-of-type {\n",
       "        vertical-align: middle;\n",
       "    }\n",
       "\n",
       "    .dataframe tbody tr th {\n",
       "        vertical-align: top;\n",
       "    }\n",
       "\n",
       "    .dataframe thead th {\n",
       "        text-align: right;\n",
       "    }\n",
       "</style>\n",
       "<table border=\"1\" class=\"dataframe\">\n",
       "  <thead>\n",
       "    <tr style=\"text-align: right;\">\n",
       "      <th></th>\n",
       "      <th>ret</th>\n",
       "      <th>lagged_ret</th>\n",
       "      <th>high_watermark_index</th>\n",
       "      <th>high_watermark_ret</th>\n",
       "      <th>drawdown_deep</th>\n",
       "      <th>drawdown_duration</th>\n",
       "    </tr>\n",
       "    <tr>\n",
       "      <th>datetime</th>\n",
       "      <th></th>\n",
       "      <th></th>\n",
       "      <th></th>\n",
       "      <th></th>\n",
       "      <th></th>\n",
       "      <th></th>\n",
       "    </tr>\n",
       "  </thead>\n",
       "  <tbody>\n",
       "    <tr>\n",
       "      <th>2016-10-24</th>\n",
       "      <td>0.003239</td>\n",
       "      <td>0.000000</td>\n",
       "      <td>2016-10-24</td>\n",
       "      <td>0.003239</td>\n",
       "      <td>0.000000</td>\n",
       "      <td>0 days</td>\n",
       "    </tr>\n",
       "    <tr>\n",
       "      <th>2016-10-25</th>\n",
       "      <td>0.010051</td>\n",
       "      <td>0.003239</td>\n",
       "      <td>2016-10-25</td>\n",
       "      <td>0.010051</td>\n",
       "      <td>0.000000</td>\n",
       "      <td>0 days</td>\n",
       "    </tr>\n",
       "    <tr>\n",
       "      <th>2016-10-26</th>\n",
       "      <td>0.012103</td>\n",
       "      <td>0.010051</td>\n",
       "      <td>2016-10-26</td>\n",
       "      <td>0.012103</td>\n",
       "      <td>0.000000</td>\n",
       "      <td>0 days</td>\n",
       "    </tr>\n",
       "    <tr>\n",
       "      <th>2016-10-27</th>\n",
       "      <td>0.015493</td>\n",
       "      <td>0.012103</td>\n",
       "      <td>2016-10-27</td>\n",
       "      <td>0.015493</td>\n",
       "      <td>0.000000</td>\n",
       "      <td>0 days</td>\n",
       "    </tr>\n",
       "    <tr>\n",
       "      <th>2016-10-28</th>\n",
       "      <td>0.009388</td>\n",
       "      <td>0.015493</td>\n",
       "      <td>2016-10-27</td>\n",
       "      <td>0.015493</td>\n",
       "      <td>0.006105</td>\n",
       "      <td>1 days</td>\n",
       "    </tr>\n",
       "    <tr>\n",
       "      <th>...</th>\n",
       "      <td>...</td>\n",
       "      <td>...</td>\n",
       "      <td>...</td>\n",
       "      <td>...</td>\n",
       "      <td>...</td>\n",
       "      <td>...</td>\n",
       "    </tr>\n",
       "    <tr>\n",
       "      <th>2017-12-21</th>\n",
       "      <td>-0.013046</td>\n",
       "      <td>0.008792</td>\n",
       "      <td>2016-11-14</td>\n",
       "      <td>0.046483</td>\n",
       "      <td>0.059529</td>\n",
       "      <td>402 days</td>\n",
       "    </tr>\n",
       "    <tr>\n",
       "      <th>2017-12-22</th>\n",
       "      <td>-0.015796</td>\n",
       "      <td>-0.013046</td>\n",
       "      <td>2016-11-14</td>\n",
       "      <td>0.046483</td>\n",
       "      <td>0.062279</td>\n",
       "      <td>403 days</td>\n",
       "    </tr>\n",
       "    <tr>\n",
       "      <th>2017-12-26</th>\n",
       "      <td>-0.025208</td>\n",
       "      <td>-0.015796</td>\n",
       "      <td>2016-11-14</td>\n",
       "      <td>0.046483</td>\n",
       "      <td>0.071691</td>\n",
       "      <td>407 days</td>\n",
       "    </tr>\n",
       "    <tr>\n",
       "      <th>2017-12-27</th>\n",
       "      <td>-0.020848</td>\n",
       "      <td>-0.025208</td>\n",
       "      <td>2016-11-14</td>\n",
       "      <td>0.046483</td>\n",
       "      <td>0.067331</td>\n",
       "      <td>408 days</td>\n",
       "    </tr>\n",
       "    <tr>\n",
       "      <th>2017-12-28</th>\n",
       "      <td>-0.022678</td>\n",
       "      <td>-0.020848</td>\n",
       "      <td>2016-11-14</td>\n",
       "      <td>0.046483</td>\n",
       "      <td>0.069161</td>\n",
       "      <td>409 days</td>\n",
       "    </tr>\n",
       "  </tbody>\n",
       "</table>\n",
       "<p>298 rows × 6 columns</p>\n",
       "</div>"
      ],
      "text/plain": [
       "                 ret  lagged_ret high_watermark_index  high_watermark_ret  \\\n",
       "datetime                                                                    \n",
       "2016-10-24  0.003239    0.000000           2016-10-24            0.003239   \n",
       "2016-10-25  0.010051    0.003239           2016-10-25            0.010051   \n",
       "2016-10-26  0.012103    0.010051           2016-10-26            0.012103   \n",
       "2016-10-27  0.015493    0.012103           2016-10-27            0.015493   \n",
       "2016-10-28  0.009388    0.015493           2016-10-27            0.015493   \n",
       "...              ...         ...                  ...                 ...   \n",
       "2017-12-21 -0.013046    0.008792           2016-11-14            0.046483   \n",
       "2017-12-22 -0.015796   -0.013046           2016-11-14            0.046483   \n",
       "2017-12-26 -0.025208   -0.015796           2016-11-14            0.046483   \n",
       "2017-12-27 -0.020848   -0.025208           2016-11-14            0.046483   \n",
       "2017-12-28 -0.022678   -0.020848           2016-11-14            0.046483   \n",
       "\n",
       "            drawdown_deep drawdown_duration  \n",
       "datetime                                     \n",
       "2016-10-24       0.000000            0 days  \n",
       "2016-10-25       0.000000            0 days  \n",
       "2016-10-26       0.000000            0 days  \n",
       "2016-10-27       0.000000            0 days  \n",
       "2016-10-28       0.006105            1 days  \n",
       "...                   ...               ...  \n",
       "2017-12-21       0.059529          402 days  \n",
       "2017-12-22       0.062279          403 days  \n",
       "2017-12-26       0.071691          407 days  \n",
       "2017-12-27       0.067331          408 days  \n",
       "2017-12-28       0.069161          409 days  \n",
       "\n",
       "[298 rows x 6 columns]"
      ]
     },
     "execution_count": 156,
     "metadata": {},
     "output_type": "execute_result"
    }
   ],
   "source": [
    "term['high_watermark_ret'] = term.apply(lambda x: term.loc[x['high_watermark_index']]['ret'], axis=1)\n",
    "term['drawdown_deep'] = term['high_watermark_ret'] - term['ret']\n",
    "term['drawdown_duration'] = term.index - term['high_watermark_index']\n",
    "term"
   ]
  },
  {
   "cell_type": "code",
   "execution_count": 157,
   "id": "130da5b2-3bf4-4883-8974-731276ab96f0",
   "metadata": {
    "tags": []
   },
   "outputs": [
    {
     "data": {
      "text/html": [
       "<div>\n",
       "<style scoped>\n",
       "    .dataframe tbody tr th:only-of-type {\n",
       "        vertical-align: middle;\n",
       "    }\n",
       "\n",
       "    .dataframe tbody tr th {\n",
       "        vertical-align: top;\n",
       "    }\n",
       "\n",
       "    .dataframe thead th {\n",
       "        text-align: right;\n",
       "    }\n",
       "</style>\n",
       "<table border=\"1\" class=\"dataframe\">\n",
       "  <thead>\n",
       "    <tr style=\"text-align: right;\">\n",
       "      <th></th>\n",
       "      <th>ret</th>\n",
       "      <th>lagged_ret</th>\n",
       "      <th>high_watermark_index</th>\n",
       "      <th>high_watermark_ret</th>\n",
       "      <th>drawdown_deep</th>\n",
       "      <th>drawdown_duration</th>\n",
       "    </tr>\n",
       "  </thead>\n",
       "  <tbody>\n",
       "    <tr>\n",
       "      <th>count</th>\n",
       "      <td>298.000000</td>\n",
       "      <td>298.000000</td>\n",
       "      <td>298</td>\n",
       "      <td>298.000000</td>\n",
       "      <td>298.000000</td>\n",
       "      <td>298</td>\n",
       "    </tr>\n",
       "    <tr>\n",
       "      <th>mean</th>\n",
       "      <td>-0.026459</td>\n",
       "      <td>-0.026383</td>\n",
       "      <td>2016-11-13 05:04:25.771812096</td>\n",
       "      <td>0.045024</td>\n",
       "      <td>0.071483</td>\n",
       "      <td>195 days 07:39:03.624161074</td>\n",
       "    </tr>\n",
       "    <tr>\n",
       "      <th>min</th>\n",
       "      <td>-0.102067</td>\n",
       "      <td>-0.102067</td>\n",
       "      <td>2016-10-24 00:00:00</td>\n",
       "      <td>0.003239</td>\n",
       "      <td>0.000000</td>\n",
       "      <td>0 days 00:00:00</td>\n",
       "    </tr>\n",
       "    <tr>\n",
       "      <th>25%</th>\n",
       "      <td>-0.048541</td>\n",
       "      <td>-0.048541</td>\n",
       "      <td>2016-11-14 00:00:00</td>\n",
       "      <td>0.046483</td>\n",
       "      <td>0.048421</td>\n",
       "      <td>87 days 06:00:00</td>\n",
       "    </tr>\n",
       "    <tr>\n",
       "      <th>50%</th>\n",
       "      <td>-0.024837</td>\n",
       "      <td>-0.024837</td>\n",
       "      <td>2016-11-14 00:00:00</td>\n",
       "      <td>0.046483</td>\n",
       "      <td>0.071321</td>\n",
       "      <td>195 days 00:00:00</td>\n",
       "    </tr>\n",
       "    <tr>\n",
       "      <th>75%</th>\n",
       "      <td>-0.003130</td>\n",
       "      <td>-0.002882</td>\n",
       "      <td>2016-11-14 00:00:00</td>\n",
       "      <td>0.046483</td>\n",
       "      <td>0.095024</td>\n",
       "      <td>302 days 18:00:00</td>\n",
       "    </tr>\n",
       "    <tr>\n",
       "      <th>max</th>\n",
       "      <td>0.046483</td>\n",
       "      <td>0.046483</td>\n",
       "      <td>2016-11-14 00:00:00</td>\n",
       "      <td>0.046483</td>\n",
       "      <td>0.148550</td>\n",
       "      <td>409 days 00:00:00</td>\n",
       "    </tr>\n",
       "    <tr>\n",
       "      <th>std</th>\n",
       "      <td>0.031432</td>\n",
       "      <td>0.031469</td>\n",
       "      <td>NaN</td>\n",
       "      <td>0.006641</td>\n",
       "      <td>0.033511</td>\n",
       "      <td>123 days 11:56:00.279695278</td>\n",
       "    </tr>\n",
       "  </tbody>\n",
       "</table>\n",
       "</div>"
      ],
      "text/plain": [
       "              ret  lagged_ret           high_watermark_index  \\\n",
       "count  298.000000  298.000000                            298   \n",
       "mean    -0.026459   -0.026383  2016-11-13 05:04:25.771812096   \n",
       "min     -0.102067   -0.102067            2016-10-24 00:00:00   \n",
       "25%     -0.048541   -0.048541            2016-11-14 00:00:00   \n",
       "50%     -0.024837   -0.024837            2016-11-14 00:00:00   \n",
       "75%     -0.003130   -0.002882            2016-11-14 00:00:00   \n",
       "max      0.046483    0.046483            2016-11-14 00:00:00   \n",
       "std      0.031432    0.031469                            NaN   \n",
       "\n",
       "       high_watermark_ret  drawdown_deep            drawdown_duration  \n",
       "count          298.000000     298.000000                          298  \n",
       "mean             0.045024       0.071483  195 days 07:39:03.624161074  \n",
       "min              0.003239       0.000000              0 days 00:00:00  \n",
       "25%              0.046483       0.048421             87 days 06:00:00  \n",
       "50%              0.046483       0.071321            195 days 00:00:00  \n",
       "75%              0.046483       0.095024            302 days 18:00:00  \n",
       "max              0.046483       0.148550            409 days 00:00:00  \n",
       "std              0.006641       0.033511  123 days 11:56:00.279695278  "
      ]
     },
     "execution_count": 157,
     "metadata": {},
     "output_type": "execute_result"
    }
   ],
   "source": [
    "term.describe()"
   ]
  },
  {
   "cell_type": "markdown",
   "id": "86d01aa9-67d9-47cd-9e77-3b3ba18f4f98",
   "metadata": {},
   "source": [
    "# Bollinger Band"
   ]
  },
  {
   "cell_type": "code",
   "execution_count": 158,
   "id": "49052efa-edf5-4aec-9015-fedc09b4861e",
   "metadata": {
    "tags": []
   },
   "outputs": [
    {
     "data": {
      "text/html": [
       "<div>\n",
       "<style scoped>\n",
       "    .dataframe tbody tr th:only-of-type {\n",
       "        vertical-align: middle;\n",
       "    }\n",
       "\n",
       "    .dataframe tbody tr th {\n",
       "        vertical-align: top;\n",
       "    }\n",
       "\n",
       "    .dataframe thead th {\n",
       "        text-align: right;\n",
       "    }\n",
       "</style>\n",
       "<table border=\"1\" class=\"dataframe\">\n",
       "  <thead>\n",
       "    <tr style=\"text-align: right;\">\n",
       "      <th></th>\n",
       "      <th>IYE</th>\n",
       "      <th>VDE</th>\n",
       "    </tr>\n",
       "    <tr>\n",
       "      <th>datetime</th>\n",
       "      <th></th>\n",
       "      <th></th>\n",
       "    </tr>\n",
       "  </thead>\n",
       "  <tbody>\n",
       "    <tr>\n",
       "      <th>2016-08-31</th>\n",
       "      <td>37.98</td>\n",
       "      <td>95.06</td>\n",
       "    </tr>\n",
       "    <tr>\n",
       "      <th>2016-09-01</th>\n",
       "      <td>37.89</td>\n",
       "      <td>94.74</td>\n",
       "    </tr>\n",
       "    <tr>\n",
       "      <th>2016-09-02</th>\n",
       "      <td>38.30</td>\n",
       "      <td>95.75</td>\n",
       "    </tr>\n",
       "    <tr>\n",
       "      <th>2016-09-06</th>\n",
       "      <td>38.86</td>\n",
       "      <td>97.25</td>\n",
       "    </tr>\n",
       "    <tr>\n",
       "      <th>2016-09-07</th>\n",
       "      <td>39.02</td>\n",
       "      <td>97.62</td>\n",
       "    </tr>\n",
       "    <tr>\n",
       "      <th>...</th>\n",
       "      <td>...</td>\n",
       "      <td>...</td>\n",
       "    </tr>\n",
       "    <tr>\n",
       "      <th>2017-12-21</th>\n",
       "      <td>39.38</td>\n",
       "      <td>98.23</td>\n",
       "    </tr>\n",
       "    <tr>\n",
       "      <th>2017-12-22</th>\n",
       "      <td>39.48</td>\n",
       "      <td>98.56</td>\n",
       "    </tr>\n",
       "    <tr>\n",
       "      <th>2017-12-26</th>\n",
       "      <td>39.84</td>\n",
       "      <td>99.57</td>\n",
       "    </tr>\n",
       "    <tr>\n",
       "      <th>2017-12-27</th>\n",
       "      <td>39.66</td>\n",
       "      <td>99.18</td>\n",
       "    </tr>\n",
       "    <tr>\n",
       "      <th>2017-12-28</th>\n",
       "      <td>39.74</td>\n",
       "      <td>99.31</td>\n",
       "    </tr>\n",
       "  </tbody>\n",
       "</table>\n",
       "<p>335 rows × 2 columns</p>\n",
       "</div>"
      ],
      "text/plain": [
       "              IYE    VDE\n",
       "datetime                \n",
       "2016-08-31  37.98  95.06\n",
       "2016-09-01  37.89  94.74\n",
       "2016-09-02  38.30  95.75\n",
       "2016-09-06  38.86  97.25\n",
       "2016-09-07  39.02  97.62\n",
       "...           ...    ...\n",
       "2017-12-21  39.38  98.23\n",
       "2017-12-22  39.48  98.56\n",
       "2017-12-26  39.84  99.57\n",
       "2017-12-27  39.66  99.18\n",
       "2017-12-28  39.74  99.31\n",
       "\n",
       "[335 rows x 2 columns]"
      ]
     },
     "execution_count": 158,
     "metadata": {},
     "output_type": "execute_result"
    }
   ],
   "source": [
    "price = validation_data\n",
    "price"
   ]
  },
  {
   "cell_type": "code",
   "execution_count": 159,
   "id": "a1cb09dc-3cd0-43ec-bc60-715ca839b15f",
   "metadata": {
    "tags": []
   },
   "outputs": [
    {
     "data": {
      "text/html": [
       "<div>\n",
       "<style scoped>\n",
       "    .dataframe tbody tr th:only-of-type {\n",
       "        vertical-align: middle;\n",
       "    }\n",
       "\n",
       "    .dataframe tbody tr th {\n",
       "        vertical-align: top;\n",
       "    }\n",
       "\n",
       "    .dataframe thead th {\n",
       "        text-align: right;\n",
       "    }\n",
       "</style>\n",
       "<table border=\"1\" class=\"dataframe\">\n",
       "  <thead>\n",
       "    <tr style=\"text-align: right;\">\n",
       "      <th></th>\n",
       "      <th>IYE</th>\n",
       "      <th>VDE</th>\n",
       "    </tr>\n",
       "    <tr>\n",
       "      <th>datetime</th>\n",
       "      <th></th>\n",
       "      <th></th>\n",
       "    </tr>\n",
       "  </thead>\n",
       "  <tbody>\n",
       "    <tr>\n",
       "      <th>2016-08-31</th>\n",
       "      <td>-0.242614</td>\n",
       "      <td>0.033767</td>\n",
       "    </tr>\n",
       "    <tr>\n",
       "      <th>2016-09-01</th>\n",
       "      <td>-0.242614</td>\n",
       "      <td>0.033767</td>\n",
       "    </tr>\n",
       "    <tr>\n",
       "      <th>2016-09-02</th>\n",
       "      <td>-0.242614</td>\n",
       "      <td>0.033767</td>\n",
       "    </tr>\n",
       "    <tr>\n",
       "      <th>2016-09-06</th>\n",
       "      <td>-0.242614</td>\n",
       "      <td>0.033767</td>\n",
       "    </tr>\n",
       "    <tr>\n",
       "      <th>2016-09-07</th>\n",
       "      <td>-0.242614</td>\n",
       "      <td>0.033767</td>\n",
       "    </tr>\n",
       "    <tr>\n",
       "      <th>...</th>\n",
       "      <td>...</td>\n",
       "      <td>...</td>\n",
       "    </tr>\n",
       "    <tr>\n",
       "      <th>2017-12-21</th>\n",
       "      <td>-0.242614</td>\n",
       "      <td>0.033767</td>\n",
       "    </tr>\n",
       "    <tr>\n",
       "      <th>2017-12-22</th>\n",
       "      <td>-0.242614</td>\n",
       "      <td>0.033767</td>\n",
       "    </tr>\n",
       "    <tr>\n",
       "      <th>2017-12-26</th>\n",
       "      <td>-0.242614</td>\n",
       "      <td>0.033767</td>\n",
       "    </tr>\n",
       "    <tr>\n",
       "      <th>2017-12-27</th>\n",
       "      <td>-0.242614</td>\n",
       "      <td>0.033767</td>\n",
       "    </tr>\n",
       "    <tr>\n",
       "      <th>2017-12-28</th>\n",
       "      <td>-0.242614</td>\n",
       "      <td>0.033767</td>\n",
       "    </tr>\n",
       "  </tbody>\n",
       "</table>\n",
       "<p>335 rows × 2 columns</p>\n",
       "</div>"
      ],
      "text/plain": [
       "                 IYE       VDE\n",
       "datetime                      \n",
       "2016-08-31 -0.242614  0.033767\n",
       "2016-09-01 -0.242614  0.033767\n",
       "2016-09-02 -0.242614  0.033767\n",
       "2016-09-06 -0.242614  0.033767\n",
       "2016-09-07 -0.242614  0.033767\n",
       "...              ...       ...\n",
       "2017-12-21 -0.242614  0.033767\n",
       "2017-12-22 -0.242614  0.033767\n",
       "2017-12-26 -0.242614  0.033767\n",
       "2017-12-27 -0.242614  0.033767\n",
       "2017-12-28 -0.242614  0.033767\n",
       "\n",
       "[335 rows x 2 columns]"
      ]
     },
     "execution_count": 159,
     "metadata": {},
     "output_type": "execute_result"
    }
   ],
   "source": [
    "a, b = w2\n",
    "weights = pd.DataFrame({\n",
    "    \"IYE\": [a] * len(price),\n",
    "    \"VDE\": [b] * len(price)\n",
    "}, index=price.index)\n",
    "weights"
   ]
  },
  {
   "cell_type": "code",
   "execution_count": 160,
   "id": "b2806f9d-02f5-4af0-903b-dbc34a09d78c",
   "metadata": {
    "tags": []
   },
   "outputs": [],
   "source": [
    "entry_zscore = 1.5\n",
    "exit_zscore = 0"
   ]
  },
  {
   "cell_type": "code",
   "execution_count": 161,
   "id": "8495780b-b657-43f1-9202-1011146fd474",
   "metadata": {
    "tags": []
   },
   "outputs": [
    {
     "data": {
      "text/plain": [
       "datetime\n",
       "2016-08-31   -6.004536\n",
       "2016-09-01   -5.993507\n",
       "2016-09-02   -6.058873\n",
       "2016-09-06   -6.144086\n",
       "2016-09-07   -6.170410\n",
       "                ...   \n",
       "2017-12-21   -6.237153\n",
       "2017-12-22   -6.250271\n",
       "2017-12-26   -6.303507\n",
       "2017-12-27   -6.273005\n",
       "2017-12-28   -6.288025\n",
       "Length: 335, dtype: float64"
      ]
     },
     "execution_count": 161,
     "metadata": {},
     "output_type": "execute_result"
    }
   ],
   "source": [
    "spread = (weights * price).sum(axis=1)\n",
    "spread"
   ]
  },
  {
   "cell_type": "code",
   "execution_count": 162,
   "id": "b47c7c4a-87d6-4fd3-94f0-6485b6698cd6",
   "metadata": {
    "tags": []
   },
   "outputs": [
    {
     "data": {
      "text/plain": [
       "count    299.000000\n",
       "mean       0.173219\n",
       "std        1.344341\n",
       "min       -3.365865\n",
       "25%       -0.917563\n",
       "50%        0.374347\n",
       "75%        1.301651\n",
       "max        2.907646\n",
       "dtype: float64"
      ]
     },
     "execution_count": 162,
     "metadata": {},
     "output_type": "execute_result"
    }
   ],
   "source": [
    "zscore_spread = (spread - spread.rolling(lookback).mean()) / spread.rolling(lookback).std()\n",
    "zscore_spread.describe()"
   ]
  },
  {
   "cell_type": "code",
   "execution_count": 163,
   "id": "cc75b48e-472a-45af-a713-376c7974bcef",
   "metadata": {
    "tags": []
   },
   "outputs": [
    {
     "data": {
      "text/plain": [
       "datetime\n",
       "2016-08-31         NaN\n",
       "2016-09-01         NaN\n",
       "2016-09-02         NaN\n",
       "2016-09-06         NaN\n",
       "2016-09-07         NaN\n",
       "                ...   \n",
       "2017-12-21   -2.709474\n",
       "2017-12-22   -2.515326\n",
       "2017-12-26   -2.624541\n",
       "2017-12-27   -2.143080\n",
       "2017-12-28   -2.057667\n",
       "Length: 335, dtype: float64"
      ]
     },
     "execution_count": 163,
     "metadata": {},
     "output_type": "execute_result"
    }
   ],
   "source": [
    "zscore_spread"
   ]
  },
  {
   "cell_type": "code",
   "execution_count": 164,
   "id": "37aee63e-f6c7-4f8b-844a-b99cc42105a8",
   "metadata": {
    "tags": []
   },
   "outputs": [],
   "source": [
    "long_entry = zscore_spread < -entry_zscore\n",
    "long_exit = zscore_spread >= exit_zscore\n",
    "short_entry = zscore_spread > entry_zscore\n",
    "short_exit = zscore_spread <= exit_zscore"
   ]
  },
  {
   "cell_type": "code",
   "execution_count": 165,
   "id": "fdd1927a-d3bf-412e-a459-9f93f23f24cc",
   "metadata": {
    "tags": []
   },
   "outputs": [],
   "source": [
    "num_unit_longs = pd.Series(np.NaN, index=zscore_spread.index)\n",
    "num_unit_shorts = pd.Series(np.NaN, index=zscore_spread.index)"
   ]
  },
  {
   "cell_type": "code",
   "execution_count": 166,
   "id": "bf10438d-ca46-4769-a376-1b0635e50165",
   "metadata": {
    "tags": []
   },
   "outputs": [
    {
     "data": {
      "text/plain": [
       "<Axes: xlabel='datetime'>"
      ]
     },
     "execution_count": 166,
     "metadata": {},
     "output_type": "execute_result"
    },
    {
     "data": {
      "image/png": "[encoded data removed]",
      "text/plain": [
       "<Figure size 640x480 with 1 Axes>"
      ]
     },
     "metadata": {},
     "output_type": "display_data"
    }
   ],
   "source": [
    "num_unit_longs.iloc[0] = 0\n",
    "num_unit_longs[long_entry] = 1\n",
    "num_unit_longs[long_exit] = 0\n",
    "num_unit_longs = num_unit_longs.fillna(method='ffill')\n",
    "num_unit_longs.plot()"
   ]
  },
  {
   "cell_type": "code",
   "execution_count": 167,
   "id": "22cd798d-9453-4d79-8b53-4913d8205514",
   "metadata": {
    "tags": []
   },
   "outputs": [
    {
     "data": {
      "text/plain": [
       "<Axes: xlabel='datetime'>"
      ]
     },
     "execution_count": 167,
     "metadata": {},
     "output_type": "execute_result"
    },
    {
     "data": {
      "image/png": "[encoded data removed]",
      "text/plain": [
       "<Figure size 640x480 with 1 Axes>"
      ]
     },
     "metadata": {},
     "output_type": "display_data"
    }
   ],
   "source": [
    "num_unit_shorts.iloc[0] = 0\n",
    "num_unit_shorts[short_entry] = -1\n",
    "num_unit_shorts[short_exit] = 0\n",
    "num_unit_shorts = num_unit_shorts.fillna(method='ffill')\n",
    "num_unit_shorts.plot()"
   ]
  },
  {
   "cell_type": "code",
   "execution_count": 168,
   "id": "edc0a228-f2e7-45f2-93f2-9d729e519841",
   "metadata": {
    "tags": []
   },
   "outputs": [
    {
     "data": {
      "text/plain": [
       "<Axes: xlabel='datetime'>"
      ]
     },
     "execution_count": 168,
     "metadata": {},
     "output_type": "execute_result"
    },
    {
     "data": {
      "image/png": "[encoded data removed]",
      "text/plain": [
       "<Figure size 640x480 with 1 Axes>"
      ]
     },
     "metadata": {},
     "output_type": "display_data"
    }
   ],
   "source": [
    "num_unit = num_unit_longs + num_unit_shorts\n",
    "num_unit.plot()"
   ]
  },
  {
   "cell_type": "code",
   "execution_count": 169,
   "id": "58f2ae25-78df-4f48-bf65-3d7e2cccfb35",
   "metadata": {
    "tags": []
   },
   "outputs": [
    {
     "data": {
      "text/html": [
       "<div>\n",
       "<style scoped>\n",
       "    .dataframe tbody tr th:only-of-type {\n",
       "        vertical-align: middle;\n",
       "    }\n",
       "\n",
       "    .dataframe tbody tr th {\n",
       "        vertical-align: top;\n",
       "    }\n",
       "\n",
       "    .dataframe thead th {\n",
       "        text-align: right;\n",
       "    }\n",
       "</style>\n",
       "<table border=\"1\" class=\"dataframe\">\n",
       "  <thead>\n",
       "    <tr style=\"text-align: right;\">\n",
       "      <th></th>\n",
       "      <th>IYE</th>\n",
       "      <th>VDE</th>\n",
       "    </tr>\n",
       "    <tr>\n",
       "      <th>datetime</th>\n",
       "      <th></th>\n",
       "      <th></th>\n",
       "    </tr>\n",
       "  </thead>\n",
       "  <tbody>\n",
       "    <tr>\n",
       "      <th>2016-08-31</th>\n",
       "      <td>-0.000000</td>\n",
       "      <td>0.000000</td>\n",
       "    </tr>\n",
       "    <tr>\n",
       "      <th>2016-09-01</th>\n",
       "      <td>-0.000000</td>\n",
       "      <td>0.000000</td>\n",
       "    </tr>\n",
       "    <tr>\n",
       "      <th>2016-09-02</th>\n",
       "      <td>-0.000000</td>\n",
       "      <td>0.000000</td>\n",
       "    </tr>\n",
       "    <tr>\n",
       "      <th>2016-09-06</th>\n",
       "      <td>-0.000000</td>\n",
       "      <td>0.000000</td>\n",
       "    </tr>\n",
       "    <tr>\n",
       "      <th>2016-09-07</th>\n",
       "      <td>-0.000000</td>\n",
       "      <td>0.000000</td>\n",
       "    </tr>\n",
       "    <tr>\n",
       "      <th>...</th>\n",
       "      <td>...</td>\n",
       "      <td>...</td>\n",
       "    </tr>\n",
       "    <tr>\n",
       "      <th>2017-12-21</th>\n",
       "      <td>-9.554131</td>\n",
       "      <td>3.316979</td>\n",
       "    </tr>\n",
       "    <tr>\n",
       "      <th>2017-12-22</th>\n",
       "      <td>-9.578393</td>\n",
       "      <td>3.328122</td>\n",
       "    </tr>\n",
       "    <tr>\n",
       "      <th>2017-12-26</th>\n",
       "      <td>-9.665734</td>\n",
       "      <td>3.362227</td>\n",
       "    </tr>\n",
       "    <tr>\n",
       "      <th>2017-12-27</th>\n",
       "      <td>-9.622063</td>\n",
       "      <td>3.349058</td>\n",
       "    </tr>\n",
       "    <tr>\n",
       "      <th>2017-12-28</th>\n",
       "      <td>-9.641472</td>\n",
       "      <td>3.353448</td>\n",
       "    </tr>\n",
       "  </tbody>\n",
       "</table>\n",
       "<p>335 rows × 2 columns</p>\n",
       "</div>"
      ],
      "text/plain": [
       "                 IYE       VDE\n",
       "datetime                      \n",
       "2016-08-31 -0.000000  0.000000\n",
       "2016-09-01 -0.000000  0.000000\n",
       "2016-09-02 -0.000000  0.000000\n",
       "2016-09-06 -0.000000  0.000000\n",
       "2016-09-07 -0.000000  0.000000\n",
       "...              ...       ...\n",
       "2017-12-21 -9.554131  3.316979\n",
       "2017-12-22 -9.578393  3.328122\n",
       "2017-12-26 -9.665734  3.362227\n",
       "2017-12-27 -9.622063  3.349058\n",
       "2017-12-28 -9.641472  3.353448\n",
       "\n",
       "[335 rows x 2 columns]"
      ]
     },
     "execution_count": 169,
     "metadata": {},
     "output_type": "execute_result"
    }
   ],
   "source": [
    "positions = weights.mul(num_unit, axis=0) * price\n",
    "positions"
   ]
  },
  {
   "cell_type": "code",
   "execution_count": 170,
   "id": "4a1866f7-b108-468a-b27c-a06fe9ebd087",
   "metadata": {
    "tags": []
   },
   "outputs": [
    {
     "data": {
      "text/plain": [
       "<Axes: xlabel='datetime'>"
      ]
     },
     "execution_count": 170,
     "metadata": {},
     "output_type": "execute_result"
    },
    {
     "data": {
      "image/png": "[encoded data removed]",
      "text/plain": [
       "<Figure size 640x480 with 1 Axes>"
      ]
     },
     "metadata": {},
     "output_type": "display_data"
    }
   ],
   "source": [
    "positions.sum(axis=1).plot()"
   ]
  },
  {
   "cell_type": "code",
   "execution_count": 171,
   "id": "08691959-0ecb-4efb-b351-514c8ef21b07",
   "metadata": {
    "tags": []
   },
   "outputs": [
    {
     "data": {
      "text/plain": [
       "<Axes: xlabel='datetime'>"
      ]
     },
     "execution_count": 171,
     "metadata": {},
     "output_type": "execute_result"
    },
    {
     "data": {
      "image/png": "[encoded data removed]",
      "text/plain": [
       "<Figure size 640x480 with 1 Axes>"
      ]
     },
     "metadata": {},
     "output_type": "display_data"
    }
   ],
   "source": [
    "positions.plot()"
   ]
  },
  {
   "cell_type": "code",
   "execution_count": 172,
   "id": "9686396d-1264-4e01-823a-6b1d4e80425d",
   "metadata": {
    "tags": []
   },
   "outputs": [
    {
     "data": {
      "text/plain": [
       "count    335.000000\n",
       "mean      -0.000886\n",
       "std        0.045646\n",
       "min       -0.319378\n",
       "25%       -0.013962\n",
       "50%        0.000000\n",
       "75%        0.010936\n",
       "max        0.147628\n",
       "dtype: float64"
      ]
     },
     "execution_count": 172,
     "metadata": {},
     "output_type": "execute_result"
    }
   ],
   "source": [
    "pnl = positions.shift(1) * (price - price.shift(1))/price.shift(1)\n",
    "pnl = pnl.sum(axis=1)\n",
    "pnl.describe()"
   ]
  },
  {
   "cell_type": "code",
   "execution_count": 173,
   "id": "73e3a124-986f-4348-bc38-ffcc96e9e51d",
   "metadata": {
    "tags": []
   },
   "outputs": [
    {
     "data": {
      "text/plain": [
       "<Axes: xlabel='datetime'>"
      ]
     },
     "execution_count": 173,
     "metadata": {},
     "output_type": "execute_result"
    },
    {
     "data": {
      "image/png": "[encoded data removed]",
      "text/plain": [
       "<Figure size 640x480 with 1 Axes>"
      ]
     },
     "metadata": {},
     "output_type": "display_data"
    }
   ],
   "source": [
    "pnl.plot()"
   ]
  },
  {
   "cell_type": "code",
   "execution_count": 174,
   "id": "658fba62-63a4-4b40-b6e4-971c52361a83",
   "metadata": {
    "tags": []
   },
   "outputs": [
    {
     "data": {
      "text/plain": [
       "datetime\n",
       "2016-08-31         NaN\n",
       "2016-09-01         NaN\n",
       "2016-09-02         NaN\n",
       "2016-09-06         NaN\n",
       "2016-09-07         NaN\n",
       "                ...   \n",
       "2017-12-21    0.022515\n",
       "2017-12-22    0.002103\n",
       "2017-12-26    0.008517\n",
       "2017-12-27   -0.004839\n",
       "2017-12-28    0.002394\n",
       "Length: 335, dtype: float64"
      ]
     },
     "execution_count": 174,
     "metadata": {},
     "output_type": "execute_result"
    }
   ],
   "source": [
    "ret = pnl / positions.shift(1).sum(axis=1)\n",
    "ret"
   ]
  },
  {
   "cell_type": "code",
   "execution_count": 175,
   "id": "fc4c95a1-62a5-40b2-9569-2113137d7444",
   "metadata": {
    "tags": []
   },
   "outputs": [
    {
     "data": {
      "text/plain": [
       "count    208.000000\n",
       "mean       0.000312\n",
       "std        0.009628\n",
       "min       -0.026598\n",
       "25%       -0.004501\n",
       "50%       -0.000053\n",
       "75%        0.005956\n",
       "max        0.051862\n",
       "dtype: float64"
      ]
     },
     "execution_count": 175,
     "metadata": {},
     "output_type": "execute_result"
    }
   ],
   "source": [
    "ret.describe()"
   ]
  },
  {
   "cell_type": "code",
   "execution_count": 176,
   "id": "1f5e9cec-d611-4870-b77c-ce69adf1399e",
   "metadata": {
    "tags": []
   },
   "outputs": [
    {
     "data": {
      "text/plain": [
       "<Axes: xlabel='datetime'>"
      ]
     },
     "execution_count": 176,
     "metadata": {},
     "output_type": "execute_result"
    },
    {
     "data": {
      "image/png": "[encoded data removed]",
      "text/plain": [
       "<Figure size 640x480 with 1 Axes>"
      ]
     },
     "metadata": {},
     "output_type": "display_data"
    }
   ],
   "source": [
    "ret.dropna().plot()"
   ]
  },
  {
   "cell_type": "code",
   "execution_count": 177,
   "id": "72ea3e38-3c21-4d10-bf7e-d6ac526cf897",
   "metadata": {
    "tags": []
   },
   "outputs": [
    {
     "data": {
      "text/plain": [
       "<Axes: xlabel='datetime'>"
      ]
     },
     "execution_count": 177,
     "metadata": {},
     "output_type": "execute_result"
    },
    {
     "data": {
      "image/png": "[encoded data removed]",
      "text/plain": [
       "<Figure size 640x480 with 1 Axes>"
      ]
     },
     "metadata": {},
     "output_type": "display_data"
    }
   ],
   "source": [
    "ret.cumsum().dropna().plot()"
   ]
  },
  {
   "cell_type": "code",
   "execution_count": 178,
   "id": "70c75627-ef34-4380-87d7-3b339a3c7883",
   "metadata": {
    "tags": []
   },
   "outputs": [
    {
     "data": {
      "text/plain": [
       "0.5143436707205999"
      ]
     },
     "execution_count": 178,
     "metadata": {},
     "output_type": "execute_result"
    }
   ],
   "source": [
    "sharp_ratio = math.sqrt(252)*ret.mean()/ret.std()\n",
    "sharp_ratio"
   ]
  },
  {
   "cell_type": "code",
   "execution_count": 179,
   "id": "1554eace-c825-4261-bd3e-31e38fbbb2c0",
   "metadata": {
    "tags": []
   },
   "outputs": [
    {
     "data": {
      "text/html": [
       "<div>\n",
       "<style scoped>\n",
       "    .dataframe tbody tr th:only-of-type {\n",
       "        vertical-align: middle;\n",
       "    }\n",
       "\n",
       "    .dataframe tbody tr th {\n",
       "        vertical-align: top;\n",
       "    }\n",
       "\n",
       "    .dataframe thead th {\n",
       "        text-align: right;\n",
       "    }\n",
       "</style>\n",
       "<table border=\"1\" class=\"dataframe\">\n",
       "  <thead>\n",
       "    <tr style=\"text-align: right;\">\n",
       "      <th></th>\n",
       "      <th>ret</th>\n",
       "      <th>lagged_ret</th>\n",
       "      <th>high_watermark_index</th>\n",
       "    </tr>\n",
       "    <tr>\n",
       "      <th>datetime</th>\n",
       "      <th></th>\n",
       "      <th></th>\n",
       "      <th></th>\n",
       "    </tr>\n",
       "  </thead>\n",
       "  <tbody>\n",
       "    <tr>\n",
       "      <th>2016-11-16</th>\n",
       "      <td>-0.007042</td>\n",
       "      <td>0.000000</td>\n",
       "      <td>2016-11-16</td>\n",
       "    </tr>\n",
       "    <tr>\n",
       "      <th>2016-11-17</th>\n",
       "      <td>-0.014223</td>\n",
       "      <td>-0.007042</td>\n",
       "      <td>2016-11-17</td>\n",
       "    </tr>\n",
       "    <tr>\n",
       "      <th>2016-11-18</th>\n",
       "      <td>-0.009366</td>\n",
       "      <td>-0.014223</td>\n",
       "      <td>2016-11-18</td>\n",
       "    </tr>\n",
       "    <tr>\n",
       "      <th>2016-11-21</th>\n",
       "      <td>0.013004</td>\n",
       "      <td>-0.009366</td>\n",
       "      <td>2016-11-21</td>\n",
       "    </tr>\n",
       "    <tr>\n",
       "      <th>2016-11-22</th>\n",
       "      <td>0.012397</td>\n",
       "      <td>0.013004</td>\n",
       "      <td>2016-11-22</td>\n",
       "    </tr>\n",
       "    <tr>\n",
       "      <th>...</th>\n",
       "      <td>...</td>\n",
       "      <td>...</td>\n",
       "      <td>...</td>\n",
       "    </tr>\n",
       "    <tr>\n",
       "      <th>2017-12-21</th>\n",
       "      <td>0.056707</td>\n",
       "      <td>0.034192</td>\n",
       "      <td>2017-12-21</td>\n",
       "    </tr>\n",
       "    <tr>\n",
       "      <th>2017-12-22</th>\n",
       "      <td>0.058810</td>\n",
       "      <td>0.056707</td>\n",
       "      <td>2017-12-22</td>\n",
       "    </tr>\n",
       "    <tr>\n",
       "      <th>2017-12-26</th>\n",
       "      <td>0.067327</td>\n",
       "      <td>0.058810</td>\n",
       "      <td>2017-12-26</td>\n",
       "    </tr>\n",
       "    <tr>\n",
       "      <th>2017-12-27</th>\n",
       "      <td>0.062489</td>\n",
       "      <td>0.067327</td>\n",
       "      <td>2017-12-27</td>\n",
       "    </tr>\n",
       "    <tr>\n",
       "      <th>2017-12-28</th>\n",
       "      <td>0.064883</td>\n",
       "      <td>0.062489</td>\n",
       "      <td>2017-12-28</td>\n",
       "    </tr>\n",
       "  </tbody>\n",
       "</table>\n",
       "<p>208 rows × 3 columns</p>\n",
       "</div>"
      ],
      "text/plain": [
       "                 ret  lagged_ret high_watermark_index\n",
       "datetime                                             \n",
       "2016-11-16 -0.007042    0.000000           2016-11-16\n",
       "2016-11-17 -0.014223   -0.007042           2016-11-17\n",
       "2016-11-18 -0.009366   -0.014223           2016-11-18\n",
       "2016-11-21  0.013004   -0.009366           2016-11-21\n",
       "2016-11-22  0.012397    0.013004           2016-11-22\n",
       "...              ...         ...                  ...\n",
       "2017-12-21  0.056707    0.034192           2017-12-21\n",
       "2017-12-22  0.058810    0.056707           2017-12-22\n",
       "2017-12-26  0.067327    0.058810           2017-12-26\n",
       "2017-12-27  0.062489    0.067327           2017-12-27\n",
       "2017-12-28  0.064883    0.062489           2017-12-28\n",
       "\n",
       "[208 rows x 3 columns]"
      ]
     },
     "execution_count": 179,
     "metadata": {},
     "output_type": "execute_result"
    }
   ],
   "source": [
    "term = pd.DataFrame({\n",
    "    \"ret\": ret.cumsum().dropna(),\n",
    "    'lagged_ret': ret.cumsum().dropna().shift(1),\n",
    "    'high_watermark_index': ret.cumsum().dropna().index\n",
    "})\n",
    "term['lagged_ret'] = term['lagged_ret'].fillna(0)\n",
    "term"
   ]
  },
  {
   "cell_type": "code",
   "execution_count": 180,
   "id": "0ae64712-bda2-41bf-8d9c-44159a496768",
   "metadata": {
    "tags": []
   },
   "outputs": [
    {
     "data": {
      "text/html": [
       "<div>\n",
       "<style scoped>\n",
       "    .dataframe tbody tr th:only-of-type {\n",
       "        vertical-align: middle;\n",
       "    }\n",
       "\n",
       "    .dataframe tbody tr th {\n",
       "        vertical-align: top;\n",
       "    }\n",
       "\n",
       "    .dataframe thead th {\n",
       "        text-align: right;\n",
       "    }\n",
       "</style>\n",
       "<table border=\"1\" class=\"dataframe\">\n",
       "  <thead>\n",
       "    <tr style=\"text-align: right;\">\n",
       "      <th></th>\n",
       "      <th>ret</th>\n",
       "      <th>lagged_ret</th>\n",
       "      <th>high_watermark_index</th>\n",
       "    </tr>\n",
       "    <tr>\n",
       "      <th>datetime</th>\n",
       "      <th></th>\n",
       "      <th></th>\n",
       "      <th></th>\n",
       "    </tr>\n",
       "  </thead>\n",
       "  <tbody>\n",
       "    <tr>\n",
       "      <th>2016-11-16</th>\n",
       "      <td>-0.007042</td>\n",
       "      <td>0.000000</td>\n",
       "      <td>2016-11-16</td>\n",
       "    </tr>\n",
       "    <tr>\n",
       "      <th>2016-11-17</th>\n",
       "      <td>-0.014223</td>\n",
       "      <td>-0.007042</td>\n",
       "      <td>2016-11-16</td>\n",
       "    </tr>\n",
       "    <tr>\n",
       "      <th>2016-11-18</th>\n",
       "      <td>-0.009366</td>\n",
       "      <td>-0.014223</td>\n",
       "      <td>2016-11-16</td>\n",
       "    </tr>\n",
       "    <tr>\n",
       "      <th>2016-11-21</th>\n",
       "      <td>0.013004</td>\n",
       "      <td>-0.009366</td>\n",
       "      <td>2016-11-21</td>\n",
       "    </tr>\n",
       "    <tr>\n",
       "      <th>2016-11-22</th>\n",
       "      <td>0.012397</td>\n",
       "      <td>0.013004</td>\n",
       "      <td>2016-11-21</td>\n",
       "    </tr>\n",
       "    <tr>\n",
       "      <th>...</th>\n",
       "      <td>...</td>\n",
       "      <td>...</td>\n",
       "      <td>...</td>\n",
       "    </tr>\n",
       "    <tr>\n",
       "      <th>2017-12-21</th>\n",
       "      <td>0.056707</td>\n",
       "      <td>0.034192</td>\n",
       "      <td>2017-09-25</td>\n",
       "    </tr>\n",
       "    <tr>\n",
       "      <th>2017-12-22</th>\n",
       "      <td>0.058810</td>\n",
       "      <td>0.056707</td>\n",
       "      <td>2017-09-25</td>\n",
       "    </tr>\n",
       "    <tr>\n",
       "      <th>2017-12-26</th>\n",
       "      <td>0.067327</td>\n",
       "      <td>0.058810</td>\n",
       "      <td>2017-09-25</td>\n",
       "    </tr>\n",
       "    <tr>\n",
       "      <th>2017-12-27</th>\n",
       "      <td>0.062489</td>\n",
       "      <td>0.067327</td>\n",
       "      <td>2017-09-25</td>\n",
       "    </tr>\n",
       "    <tr>\n",
       "      <th>2017-12-28</th>\n",
       "      <td>0.064883</td>\n",
       "      <td>0.062489</td>\n",
       "      <td>2017-09-25</td>\n",
       "    </tr>\n",
       "  </tbody>\n",
       "</table>\n",
       "<p>208 rows × 3 columns</p>\n",
       "</div>"
      ],
      "text/plain": [
       "                 ret  lagged_ret high_watermark_index\n",
       "datetime                                             \n",
       "2016-11-16 -0.007042    0.000000           2016-11-16\n",
       "2016-11-17 -0.014223   -0.007042           2016-11-16\n",
       "2016-11-18 -0.009366   -0.014223           2016-11-16\n",
       "2016-11-21  0.013004   -0.009366           2016-11-21\n",
       "2016-11-22  0.012397    0.013004           2016-11-21\n",
       "...              ...         ...                  ...\n",
       "2017-12-21  0.056707    0.034192           2017-09-25\n",
       "2017-12-22  0.058810    0.056707           2017-09-25\n",
       "2017-12-26  0.067327    0.058810           2017-09-25\n",
       "2017-12-27  0.062489    0.067327           2017-09-25\n",
       "2017-12-28  0.064883    0.062489           2017-09-25\n",
       "\n",
       "[208 rows x 3 columns]"
      ]
     },
     "execution_count": 180,
     "metadata": {},
     "output_type": "execute_result"
    }
   ],
   "source": [
    "highest_watermark_index = term.iloc[0]['high_watermark_index']\n",
    "for d in term.index:\n",
    "    row = term.loc[d]\n",
    "    if row['ret'] >= term.loc[highest_watermark_index]['ret']:\n",
    "        highest_watermark_index = d\n",
    "    term.loc[d, 'high_watermark_index']= highest_watermark_index\n",
    "term"
   ]
  },
  {
   "cell_type": "code",
   "execution_count": 181,
   "id": "27449b09-b3bb-4290-95a8-e311c53b2335",
   "metadata": {
    "tags": []
   },
   "outputs": [
    {
     "data": {
      "text/html": [
       "<div>\n",
       "<style scoped>\n",
       "    .dataframe tbody tr th:only-of-type {\n",
       "        vertical-align: middle;\n",
       "    }\n",
       "\n",
       "    .dataframe tbody tr th {\n",
       "        vertical-align: top;\n",
       "    }\n",
       "\n",
       "    .dataframe thead th {\n",
       "        text-align: right;\n",
       "    }\n",
       "</style>\n",
       "<table border=\"1\" class=\"dataframe\">\n",
       "  <thead>\n",
       "    <tr style=\"text-align: right;\">\n",
       "      <th></th>\n",
       "      <th>ret</th>\n",
       "      <th>lagged_ret</th>\n",
       "      <th>high_watermark_index</th>\n",
       "      <th>high_watermark_ret</th>\n",
       "      <th>drawdown_deep</th>\n",
       "      <th>drawdown_duration</th>\n",
       "    </tr>\n",
       "    <tr>\n",
       "      <th>datetime</th>\n",
       "      <th></th>\n",
       "      <th></th>\n",
       "      <th></th>\n",
       "      <th></th>\n",
       "      <th></th>\n",
       "      <th></th>\n",
       "    </tr>\n",
       "  </thead>\n",
       "  <tbody>\n",
       "    <tr>\n",
       "      <th>2016-11-16</th>\n",
       "      <td>-0.007042</td>\n",
       "      <td>0.000000</td>\n",
       "      <td>2016-11-16</td>\n",
       "      <td>-0.007042</td>\n",
       "      <td>0.000000</td>\n",
       "      <td>0 days</td>\n",
       "    </tr>\n",
       "    <tr>\n",
       "      <th>2016-11-17</th>\n",
       "      <td>-0.014223</td>\n",
       "      <td>-0.007042</td>\n",
       "      <td>2016-11-16</td>\n",
       "      <td>-0.007042</td>\n",
       "      <td>0.007181</td>\n",
       "      <td>1 days</td>\n",
       "    </tr>\n",
       "    <tr>\n",
       "      <th>2016-11-18</th>\n",
       "      <td>-0.009366</td>\n",
       "      <td>-0.014223</td>\n",
       "      <td>2016-11-16</td>\n",
       "      <td>-0.007042</td>\n",
       "      <td>0.002324</td>\n",
       "      <td>2 days</td>\n",
       "    </tr>\n",
       "    <tr>\n",
       "      <th>2016-11-21</th>\n",
       "      <td>0.013004</td>\n",
       "      <td>-0.009366</td>\n",
       "      <td>2016-11-21</td>\n",
       "      <td>0.013004</td>\n",
       "      <td>0.000000</td>\n",
       "      <td>0 days</td>\n",
       "    </tr>\n",
       "    <tr>\n",
       "      <th>2016-11-22</th>\n",
       "      <td>0.012397</td>\n",
       "      <td>0.013004</td>\n",
       "      <td>2016-11-21</td>\n",
       "      <td>0.013004</td>\n",
       "      <td>0.000607</td>\n",
       "      <td>1 days</td>\n",
       "    </tr>\n",
       "    <tr>\n",
       "      <th>...</th>\n",
       "      <td>...</td>\n",
       "      <td>...</td>\n",
       "      <td>...</td>\n",
       "      <td>...</td>\n",
       "      <td>...</td>\n",
       "      <td>...</td>\n",
       "    </tr>\n",
       "    <tr>\n",
       "      <th>2017-12-21</th>\n",
       "      <td>0.056707</td>\n",
       "      <td>0.034192</td>\n",
       "      <td>2017-09-25</td>\n",
       "      <td>0.085808</td>\n",
       "      <td>0.029102</td>\n",
       "      <td>87 days</td>\n",
       "    </tr>\n",
       "    <tr>\n",
       "      <th>2017-12-22</th>\n",
       "      <td>0.058810</td>\n",
       "      <td>0.056707</td>\n",
       "      <td>2017-09-25</td>\n",
       "      <td>0.085808</td>\n",
       "      <td>0.026998</td>\n",
       "      <td>88 days</td>\n",
       "    </tr>\n",
       "    <tr>\n",
       "      <th>2017-12-26</th>\n",
       "      <td>0.067327</td>\n",
       "      <td>0.058810</td>\n",
       "      <td>2017-09-25</td>\n",
       "      <td>0.085808</td>\n",
       "      <td>0.018481</td>\n",
       "      <td>92 days</td>\n",
       "    </tr>\n",
       "    <tr>\n",
       "      <th>2017-12-27</th>\n",
       "      <td>0.062489</td>\n",
       "      <td>0.067327</td>\n",
       "      <td>2017-09-25</td>\n",
       "      <td>0.085808</td>\n",
       "      <td>0.023320</td>\n",
       "      <td>93 days</td>\n",
       "    </tr>\n",
       "    <tr>\n",
       "      <th>2017-12-28</th>\n",
       "      <td>0.064883</td>\n",
       "      <td>0.062489</td>\n",
       "      <td>2017-09-25</td>\n",
       "      <td>0.085808</td>\n",
       "      <td>0.020925</td>\n",
       "      <td>94 days</td>\n",
       "    </tr>\n",
       "  </tbody>\n",
       "</table>\n",
       "<p>208 rows × 6 columns</p>\n",
       "</div>"
      ],
      "text/plain": [
       "                 ret  lagged_ret high_watermark_index  high_watermark_ret  \\\n",
       "datetime                                                                    \n",
       "2016-11-16 -0.007042    0.000000           2016-11-16           -0.007042   \n",
       "2016-11-17 -0.014223   -0.007042           2016-11-16           -0.007042   \n",
       "2016-11-18 -0.009366   -0.014223           2016-11-16           -0.007042   \n",
       "2016-11-21  0.013004   -0.009366           2016-11-21            0.013004   \n",
       "2016-11-22  0.012397    0.013004           2016-11-21            0.013004   \n",
       "...              ...         ...                  ...                 ...   \n",
       "2017-12-21  0.056707    0.034192           2017-09-25            0.085808   \n",
       "2017-12-22  0.058810    0.056707           2017-09-25            0.085808   \n",
       "2017-12-26  0.067327    0.058810           2017-09-25            0.085808   \n",
       "2017-12-27  0.062489    0.067327           2017-09-25            0.085808   \n",
       "2017-12-28  0.064883    0.062489           2017-09-25            0.085808   \n",
       "\n",
       "            drawdown_deep drawdown_duration  \n",
       "datetime                                     \n",
       "2016-11-16       0.000000            0 days  \n",
       "2016-11-17       0.007181            1 days  \n",
       "2016-11-18       0.002324            2 days  \n",
       "2016-11-21       0.000000            0 days  \n",
       "2016-11-22       0.000607            1 days  \n",
       "...                   ...               ...  \n",
       "2017-12-21       0.029102           87 days  \n",
       "2017-12-22       0.026998           88 days  \n",
       "2017-12-26       0.018481           92 days  \n",
       "2017-12-27       0.023320           93 days  \n",
       "2017-12-28       0.020925           94 days  \n",
       "\n",
       "[208 rows x 6 columns]"
      ]
     },
     "execution_count": 181,
     "metadata": {},
     "output_type": "execute_result"
    }
   ],
   "source": [
    "term['high_watermark_ret'] = term.apply(lambda x: term.loc[x['high_watermark_index']]['ret'], axis=1)\n",
    "term['drawdown_deep'] = term['high_watermark_ret'] - term['ret']\n",
    "term['drawdown_duration'] = term.index - term['high_watermark_index']\n",
    "term"
   ]
  },
  {
   "cell_type": "code",
   "execution_count": 182,
   "id": "552eb94e-ca47-493a-aa2d-4806112f31bd",
   "metadata": {
    "tags": []
   },
   "outputs": [
    {
     "data": {
      "text/html": [
       "<div>\n",
       "<style scoped>\n",
       "    .dataframe tbody tr th:only-of-type {\n",
       "        vertical-align: middle;\n",
       "    }\n",
       "\n",
       "    .dataframe tbody tr th {\n",
       "        vertical-align: top;\n",
       "    }\n",
       "\n",
       "    .dataframe thead th {\n",
       "        text-align: right;\n",
       "    }\n",
       "</style>\n",
       "<table border=\"1\" class=\"dataframe\">\n",
       "  <thead>\n",
       "    <tr style=\"text-align: right;\">\n",
       "      <th></th>\n",
       "      <th>ret</th>\n",
       "      <th>lagged_ret</th>\n",
       "      <th>high_watermark_index</th>\n",
       "      <th>high_watermark_ret</th>\n",
       "      <th>drawdown_deep</th>\n",
       "      <th>drawdown_duration</th>\n",
       "    </tr>\n",
       "  </thead>\n",
       "  <tbody>\n",
       "    <tr>\n",
       "      <th>count</th>\n",
       "      <td>208.000000</td>\n",
       "      <td>208.000000</td>\n",
       "      <td>208</td>\n",
       "      <td>208.000000</td>\n",
       "      <td>208.000000</td>\n",
       "      <td>208</td>\n",
       "    </tr>\n",
       "    <tr>\n",
       "      <th>mean</th>\n",
       "      <td>0.030394</td>\n",
       "      <td>0.030082</td>\n",
       "      <td>2017-02-14 07:30:00</td>\n",
       "      <td>0.079757</td>\n",
       "      <td>0.049364</td>\n",
       "      <td>102 days 19:43:50.769230769</td>\n",
       "    </tr>\n",
       "    <tr>\n",
       "      <th>min</th>\n",
       "      <td>-0.030895</td>\n",
       "      <td>-0.030895</td>\n",
       "      <td>2016-11-16 00:00:00</td>\n",
       "      <td>-0.007042</td>\n",
       "      <td>0.000000</td>\n",
       "      <td>0 days 00:00:00</td>\n",
       "    </tr>\n",
       "    <tr>\n",
       "      <th>25%</th>\n",
       "      <td>0.011718</td>\n",
       "      <td>0.010971</td>\n",
       "      <td>2016-12-13 00:00:00</td>\n",
       "      <td>0.083956</td>\n",
       "      <td>0.021366</td>\n",
       "      <td>23 days 18:00:00</td>\n",
       "    </tr>\n",
       "    <tr>\n",
       "      <th>50%</th>\n",
       "      <td>0.023715</td>\n",
       "      <td>0.023186</td>\n",
       "      <td>2016-12-13 00:00:00</td>\n",
       "      <td>0.083956</td>\n",
       "      <td>0.058285</td>\n",
       "      <td>86 days 00:00:00</td>\n",
       "    </tr>\n",
       "    <tr>\n",
       "      <th>75%</th>\n",
       "      <td>0.054323</td>\n",
       "      <td>0.053248</td>\n",
       "      <td>2016-12-13 00:00:00</td>\n",
       "      <td>0.083956</td>\n",
       "      <td>0.069242</td>\n",
       "      <td>163 days 06:00:00</td>\n",
       "    </tr>\n",
       "    <tr>\n",
       "      <th>max</th>\n",
       "      <td>0.085808</td>\n",
       "      <td>0.085808</td>\n",
       "      <td>2017-09-25 00:00:00</td>\n",
       "      <td>0.085808</td>\n",
       "      <td>0.114851</td>\n",
       "      <td>283 days 00:00:00</td>\n",
       "    </tr>\n",
       "    <tr>\n",
       "      <th>std</th>\n",
       "      <td>0.027333</td>\n",
       "      <td>0.027308</td>\n",
       "      <td>NaN</td>\n",
       "      <td>0.016874</td>\n",
       "      <td>0.029327</td>\n",
       "      <td>82 days 15:22:54.061114340</td>\n",
       "    </tr>\n",
       "  </tbody>\n",
       "</table>\n",
       "</div>"
      ],
      "text/plain": [
       "              ret  lagged_ret high_watermark_index  high_watermark_ret  \\\n",
       "count  208.000000  208.000000                  208          208.000000   \n",
       "mean     0.030394    0.030082  2017-02-14 07:30:00            0.079757   \n",
       "min     -0.030895   -0.030895  2016-11-16 00:00:00           -0.007042   \n",
       "25%      0.011718    0.010971  2016-12-13 00:00:00            0.083956   \n",
       "50%      0.023715    0.023186  2016-12-13 00:00:00            0.083956   \n",
       "75%      0.054323    0.053248  2016-12-13 00:00:00            0.083956   \n",
       "max      0.085808    0.085808  2017-09-25 00:00:00            0.085808   \n",
       "std      0.027333    0.027308                  NaN            0.016874   \n",
       "\n",
       "       drawdown_deep            drawdown_duration  \n",
       "count     208.000000                          208  \n",
       "mean        0.049364  102 days 19:43:50.769230769  \n",
       "min         0.000000              0 days 00:00:00  \n",
       "25%         0.021366             23 days 18:00:00  \n",
       "50%         0.058285             86 days 00:00:00  \n",
       "75%         0.069242            163 days 06:00:00  \n",
       "max         0.114851            283 days 00:00:00  \n",
       "std         0.029327   82 days 15:22:54.061114340  "
      ]
     },
     "execution_count": 182,
     "metadata": {},
     "output_type": "execute_result"
    }
   ],
   "source": [
    "term.describe()"
   ]
  }
 ],
 "metadata": {
  "kernelspec": {
   "display_name": "Python 3 (ipykernel)",
   "language": "python",
   "name": "python3"
  },
  "language_info": {
   "codemirror_mode": {
    "name": "ipython",
    "version": 3
   },
   "file_extension": ".py",
   "mimetype": "text/x-python",
   "name": "python",
   "nbconvert_exporter": "python",
   "pygments_lexer": "ipython3",
   "version": "3.9.17"
  }
 },
 "nbformat": 4,
 "nbformat_minor": 5
}
