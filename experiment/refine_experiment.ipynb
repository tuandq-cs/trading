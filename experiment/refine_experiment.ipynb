{
 "cells": [
  {
   "cell_type": "markdown",
   "id": "ea808f26-c4d7-4fda-8cb8-19833af56631",
   "metadata": {},
   "source": [
    "# Import library"
   ]
  },
  {
   "cell_type": "code",
   "execution_count": 1,
   "id": "a2d470a5-6a1c-4824-8fb1-ffbc16cf65c0",
   "metadata": {
    "tags": []
   },
   "outputs": [],
   "source": [
    "import pandas as pd\n",
    "import numpy as np\n",
    "import matplotlib.pyplot as plt\n",
    "import math\n",
    "\n",
    "import statsmodels.api as sm\n",
    "import statsmodels.tsa.stattools as ts"
   ]
  },
  {
   "cell_type": "code",
   "execution_count": 2,
   "id": "d1c93e9d-267e-4ba3-b65b-71095a133ccc",
   "metadata": {
    "tags": []
   },
   "outputs": [],
   "source": [
    "from sklearn.model_selection import TimeSeriesSplit\n",
    "from statsmodels.tsa.vector_ar.vecm import coint_johansen"
   ]
  },
  {
   "cell_type": "markdown",
   "id": "a4878275-3888-4b3a-aff0-af2d9f4c9c26",
   "metadata": {},
   "source": [
    "# Load historical data"
   ]
  },
  {
   "cell_type": "code",
   "execution_count": 3,
   "id": "dff150e5-90b9-44f8-9b70-4b178ac9e102",
   "metadata": {
    "tags": []
   },
   "outputs": [],
   "source": [
    "iye_raw = pd.read_csv('IYE.csv', delimiter=\";\", parse_dates=[\"datetime\"]).set_index(\"datetime\")\n",
    "vde_raw = pd.read_csv('VDE.csv', delimiter=\";\", parse_dates=[\"datetime\"]).set_index(\"datetime\")"
   ]
  },
  {
   "cell_type": "code",
   "execution_count": null,
   "metadata": {},
   "outputs": [],
   "source": [
    "vde_raw.loc[vde_raw.index >= '2016-09-23'].tail(10)"
   ]
  },
  {
   "cell_type": "code",
   "execution_count": null,
   "metadata": {},
   "outputs": [
    {
     "data": {
      "text/html": [
       "<div>\n",
       "<style scoped>\n",
       "    .dataframe tbody tr th:only-of-type {\n",
       "        vertical-align: middle;\n",
       "    }\n",
       "\n",
       "    .dataframe tbody tr th {\n",
       "        vertical-align: top;\n",
       "    }\n",
       "\n",
       "    .dataframe thead th {\n",
       "        text-align: right;\n",
       "    }\n",
       "</style>\n",
       "<table border=\"1\" class=\"dataframe\">\n",
       "  <thead>\n",
       "    <tr style=\"text-align: right;\">\n",
       "      <th></th>\n",
       "      <th>open</th>\n",
       "      <th>high</th>\n",
       "      <th>low</th>\n",
       "      <th>close</th>\n",
       "      <th>volume</th>\n",
       "    </tr>\n",
       "    <tr>\n",
       "      <th>datetime</th>\n",
       "      <th></th>\n",
       "      <th></th>\n",
       "      <th></th>\n",
       "      <th></th>\n",
       "      <th></th>\n",
       "    </tr>\n",
       "  </thead>\n",
       "  <tbody>\n",
       "    <tr>\n",
       "      <th>2020-03-13</th>\n",
       "      <td>16.76</td>\n",
       "      <td>16.91</td>\n",
       "      <td>15.10</td>\n",
       "      <td>16.87</td>\n",
       "      <td>1291800</td>\n",
       "    </tr>\n",
       "    <tr>\n",
       "      <th>2020-03-12</th>\n",
       "      <td>16.23</td>\n",
       "      <td>16.55</td>\n",
       "      <td>15.44</td>\n",
       "      <td>15.54</td>\n",
       "      <td>2045000</td>\n",
       "    </tr>\n",
       "    <tr>\n",
       "      <th>2020-03-11</th>\n",
       "      <td>18.02</td>\n",
       "      <td>18.38</td>\n",
       "      <td>17.38</td>\n",
       "      <td>17.64</td>\n",
       "      <td>3138300</td>\n",
       "    </tr>\n",
       "    <tr>\n",
       "      <th>2020-03-10</th>\n",
       "      <td>19.24</td>\n",
       "      <td>19.36</td>\n",
       "      <td>17.48</td>\n",
       "      <td>18.63</td>\n",
       "      <td>1684700</td>\n",
       "    </tr>\n",
       "    <tr>\n",
       "      <th>2020-03-09</th>\n",
       "      <td>18.49</td>\n",
       "      <td>19.14</td>\n",
       "      <td>17.68</td>\n",
       "      <td>17.78</td>\n",
       "      <td>4070200</td>\n",
       "    </tr>\n",
       "    <tr>\n",
       "      <th>2020-03-06</th>\n",
       "      <td>22.97</td>\n",
       "      <td>23.14</td>\n",
       "      <td>22.07</td>\n",
       "      <td>22.41</td>\n",
       "      <td>1853900</td>\n",
       "    </tr>\n",
       "    <tr>\n",
       "      <th>2020-03-05</th>\n",
       "      <td>23.99</td>\n",
       "      <td>24.09</td>\n",
       "      <td>23.38</td>\n",
       "      <td>23.74</td>\n",
       "      <td>1728600</td>\n",
       "    </tr>\n",
       "    <tr>\n",
       "      <th>2020-03-04</th>\n",
       "      <td>24.65</td>\n",
       "      <td>24.69</td>\n",
       "      <td>24.13</td>\n",
       "      <td>24.67</td>\n",
       "      <td>1411300</td>\n",
       "    </tr>\n",
       "    <tr>\n",
       "      <th>2020-03-03</th>\n",
       "      <td>25.06</td>\n",
       "      <td>25.40</td>\n",
       "      <td>23.88</td>\n",
       "      <td>24.18</td>\n",
       "      <td>2820500</td>\n",
       "    </tr>\n",
       "    <tr>\n",
       "      <th>2020-03-02</th>\n",
       "      <td>24.60</td>\n",
       "      <td>24.96</td>\n",
       "      <td>23.80</td>\n",
       "      <td>24.94</td>\n",
       "      <td>1832400</td>\n",
       "    </tr>\n",
       "  </tbody>\n",
       "</table>\n",
       "</div>"
      ],
      "text/plain": [
       "             open   high    low  close   volume\n",
       "datetime                                       \n",
       "2020-03-13  16.76  16.91  15.10  16.87  1291800\n",
       "2020-03-12  16.23  16.55  15.44  15.54  2045000\n",
       "2020-03-11  18.02  18.38  17.38  17.64  3138300\n",
       "2020-03-10  19.24  19.36  17.48  18.63  1684700\n",
       "2020-03-09  18.49  19.14  17.68  17.78  4070200\n",
       "2020-03-06  22.97  23.14  22.07  22.41  1853900\n",
       "2020-03-05  23.99  24.09  23.38  23.74  1728600\n",
       "2020-03-04  24.65  24.69  24.13  24.67  1411300\n",
       "2020-03-03  25.06  25.40  23.88  24.18  2820500\n",
       "2020-03-02  24.60  24.96  23.80  24.94  1832400"
      ]
     },
     "execution_count": 76,
     "metadata": {},
     "output_type": "execute_result"
    }
   ],
   "source": [
    "iye_raw.loc[iye_raw.index >= '2016-09-23'].tail(10)"
   ]
  },
  {
   "cell_type": "code",
   "execution_count": 4,
   "id": "2ddc8c55-7973-481d-b62a-946033a2c464",
   "metadata": {
    "tags": []
   },
   "outputs": [
    {
     "data": {
      "text/html": [
       "<div>\n",
       "<style scoped>\n",
       "    .dataframe tbody tr th:only-of-type {\n",
       "        vertical-align: middle;\n",
       "    }\n",
       "\n",
       "    .dataframe tbody tr th {\n",
       "        vertical-align: top;\n",
       "    }\n",
       "\n",
       "    .dataframe thead th {\n",
       "        text-align: right;\n",
       "    }\n",
       "</style>\n",
       "<table border=\"1\" class=\"dataframe\">\n",
       "  <thead>\n",
       "    <tr style=\"text-align: right;\">\n",
       "      <th></th>\n",
       "      <th>open</th>\n",
       "      <th>high</th>\n",
       "      <th>low</th>\n",
       "      <th>close</th>\n",
       "      <th>volume</th>\n",
       "    </tr>\n",
       "    <tr>\n",
       "      <th>datetime</th>\n",
       "      <th></th>\n",
       "      <th></th>\n",
       "      <th></th>\n",
       "      <th></th>\n",
       "      <th></th>\n",
       "    </tr>\n",
       "  </thead>\n",
       "  <tbody>\n",
       "    <tr>\n",
       "      <th>2023-09-18</th>\n",
       "      <td>48.63</td>\n",
       "      <td>48.84</td>\n",
       "      <td>48.30</td>\n",
       "      <td>48.74</td>\n",
       "      <td>80354</td>\n",
       "    </tr>\n",
       "    <tr>\n",
       "      <th>2023-09-15</th>\n",
       "      <td>48.60</td>\n",
       "      <td>48.96</td>\n",
       "      <td>48.27</td>\n",
       "      <td>48.30</td>\n",
       "      <td>424600</td>\n",
       "    </tr>\n",
       "    <tr>\n",
       "      <th>2023-09-14</th>\n",
       "      <td>48.84</td>\n",
       "      <td>49.10</td>\n",
       "      <td>48.76</td>\n",
       "      <td>48.97</td>\n",
       "      <td>292500</td>\n",
       "    </tr>\n",
       "    <tr>\n",
       "      <th>2023-09-13</th>\n",
       "      <td>48.84</td>\n",
       "      <td>48.92</td>\n",
       "      <td>48.11</td>\n",
       "      <td>48.34</td>\n",
       "      <td>447200</td>\n",
       "    </tr>\n",
       "    <tr>\n",
       "      <th>2023-09-12</th>\n",
       "      <td>48.07</td>\n",
       "      <td>48.83</td>\n",
       "      <td>48.07</td>\n",
       "      <td>48.76</td>\n",
       "      <td>329900</td>\n",
       "    </tr>\n",
       "    <tr>\n",
       "      <th>...</th>\n",
       "      <td>...</td>\n",
       "      <td>...</td>\n",
       "      <td>...</td>\n",
       "      <td>...</td>\n",
       "      <td>...</td>\n",
       "    </tr>\n",
       "    <tr>\n",
       "      <th>2010-01-08</th>\n",
       "      <td>34.67</td>\n",
       "      <td>35.03</td>\n",
       "      <td>34.57</td>\n",
       "      <td>35.03</td>\n",
       "      <td>200800</td>\n",
       "    </tr>\n",
       "    <tr>\n",
       "      <th>2010-01-07</th>\n",
       "      <td>34.75</td>\n",
       "      <td>34.86</td>\n",
       "      <td>34.49</td>\n",
       "      <td>34.75</td>\n",
       "      <td>216100</td>\n",
       "    </tr>\n",
       "    <tr>\n",
       "      <th>2010-01-06</th>\n",
       "      <td>34.45</td>\n",
       "      <td>34.96</td>\n",
       "      <td>34.36</td>\n",
       "      <td>34.89</td>\n",
       "      <td>366600</td>\n",
       "    </tr>\n",
       "    <tr>\n",
       "      <th>2010-01-05</th>\n",
       "      <td>34.25</td>\n",
       "      <td>34.53</td>\n",
       "      <td>34.11</td>\n",
       "      <td>34.52</td>\n",
       "      <td>213800</td>\n",
       "    </tr>\n",
       "    <tr>\n",
       "      <th>2010-01-04</th>\n",
       "      <td>33.76</td>\n",
       "      <td>34.23</td>\n",
       "      <td>33.74</td>\n",
       "      <td>34.23</td>\n",
       "      <td>270500</td>\n",
       "    </tr>\n",
       "  </tbody>\n",
       "</table>\n",
       "<p>3450 rows × 5 columns</p>\n",
       "</div>"
      ],
      "text/plain": [
       "             open   high    low  close  volume\n",
       "datetime                                      \n",
       "2023-09-18  48.63  48.84  48.30  48.74   80354\n",
       "2023-09-15  48.60  48.96  48.27  48.30  424600\n",
       "2023-09-14  48.84  49.10  48.76  48.97  292500\n",
       "2023-09-13  48.84  48.92  48.11  48.34  447200\n",
       "2023-09-12  48.07  48.83  48.07  48.76  329900\n",
       "...           ...    ...    ...    ...     ...\n",
       "2010-01-08  34.67  35.03  34.57  35.03  200800\n",
       "2010-01-07  34.75  34.86  34.49  34.75  216100\n",
       "2010-01-06  34.45  34.96  34.36  34.89  366600\n",
       "2010-01-05  34.25  34.53  34.11  34.52  213800\n",
       "2010-01-04  33.76  34.23  33.74  34.23  270500\n",
       "\n",
       "[3450 rows x 5 columns]"
      ]
     },
     "execution_count": 4,
     "metadata": {},
     "output_type": "execute_result"
    }
   ],
   "source": [
    "iye_raw"
   ]
  },
  {
   "cell_type": "code",
   "execution_count": 5,
   "id": "bdd689c1-2c63-4cb9-a5f2-6685ce33936e",
   "metadata": {
    "tags": []
   },
   "outputs": [
    {
     "data": {
      "text/html": [
       "<div>\n",
       "<style scoped>\n",
       "    .dataframe tbody tr th:only-of-type {\n",
       "        vertical-align: middle;\n",
       "    }\n",
       "\n",
       "    .dataframe tbody tr th {\n",
       "        vertical-align: top;\n",
       "    }\n",
       "\n",
       "    .dataframe thead th {\n",
       "        text-align: right;\n",
       "    }\n",
       "</style>\n",
       "<table border=\"1\" class=\"dataframe\">\n",
       "  <thead>\n",
       "    <tr style=\"text-align: right;\">\n",
       "      <th></th>\n",
       "      <th>open</th>\n",
       "      <th>high</th>\n",
       "      <th>low</th>\n",
       "      <th>close</th>\n",
       "      <th>volume</th>\n",
       "    </tr>\n",
       "    <tr>\n",
       "      <th>datetime</th>\n",
       "      <th></th>\n",
       "      <th></th>\n",
       "      <th></th>\n",
       "      <th></th>\n",
       "      <th></th>\n",
       "    </tr>\n",
       "  </thead>\n",
       "  <tbody>\n",
       "    <tr>\n",
       "      <th>2023-09-18</th>\n",
       "      <td>129.94</td>\n",
       "      <td>130.35001</td>\n",
       "      <td>128.87000</td>\n",
       "      <td>130.17</td>\n",
       "      <td>132631</td>\n",
       "    </tr>\n",
       "    <tr>\n",
       "      <th>2023-09-15</th>\n",
       "      <td>129.75</td>\n",
       "      <td>130.64999</td>\n",
       "      <td>128.75999</td>\n",
       "      <td>128.89</td>\n",
       "      <td>464700</td>\n",
       "    </tr>\n",
       "    <tr>\n",
       "      <th>2023-09-14</th>\n",
       "      <td>130.30</td>\n",
       "      <td>131.07001</td>\n",
       "      <td>130.08000</td>\n",
       "      <td>130.52</td>\n",
       "      <td>544500</td>\n",
       "    </tr>\n",
       "    <tr>\n",
       "      <th>2023-09-13</th>\n",
       "      <td>130.27</td>\n",
       "      <td>130.50999</td>\n",
       "      <td>128.36000</td>\n",
       "      <td>129.00</td>\n",
       "      <td>403800</td>\n",
       "    </tr>\n",
       "    <tr>\n",
       "      <th>2023-09-12</th>\n",
       "      <td>128.27</td>\n",
       "      <td>130.25999</td>\n",
       "      <td>128.24001</td>\n",
       "      <td>130.05</td>\n",
       "      <td>464500</td>\n",
       "    </tr>\n",
       "    <tr>\n",
       "      <th>...</th>\n",
       "      <td>...</td>\n",
       "      <td>...</td>\n",
       "      <td>...</td>\n",
       "      <td>...</td>\n",
       "      <td>...</td>\n",
       "    </tr>\n",
       "    <tr>\n",
       "      <th>2010-01-08</th>\n",
       "      <td>87.38</td>\n",
       "      <td>88.31000</td>\n",
       "      <td>87.09000</td>\n",
       "      <td>88.30</td>\n",
       "      <td>103400</td>\n",
       "    </tr>\n",
       "    <tr>\n",
       "      <th>2010-01-07</th>\n",
       "      <td>87.56</td>\n",
       "      <td>87.79000</td>\n",
       "      <td>86.82000</td>\n",
       "      <td>87.64</td>\n",
       "      <td>138100</td>\n",
       "    </tr>\n",
       "    <tr>\n",
       "      <th>2010-01-06</th>\n",
       "      <td>86.77</td>\n",
       "      <td>88.00000</td>\n",
       "      <td>86.63000</td>\n",
       "      <td>87.85</td>\n",
       "      <td>191300</td>\n",
       "    </tr>\n",
       "    <tr>\n",
       "      <th>2010-01-05</th>\n",
       "      <td>86.04</td>\n",
       "      <td>86.88000</td>\n",
       "      <td>85.74000</td>\n",
       "      <td>86.85</td>\n",
       "      <td>182600</td>\n",
       "    </tr>\n",
       "    <tr>\n",
       "      <th>2010-01-04</th>\n",
       "      <td>84.48</td>\n",
       "      <td>85.99000</td>\n",
       "      <td>84.48000</td>\n",
       "      <td>85.97</td>\n",
       "      <td>209200</td>\n",
       "    </tr>\n",
       "  </tbody>\n",
       "</table>\n",
       "<p>3450 rows × 5 columns</p>\n",
       "</div>"
      ],
      "text/plain": [
       "              open       high        low   close  volume\n",
       "datetime                                                \n",
       "2023-09-18  129.94  130.35001  128.87000  130.17  132631\n",
       "2023-09-15  129.75  130.64999  128.75999  128.89  464700\n",
       "2023-09-14  130.30  131.07001  130.08000  130.52  544500\n",
       "2023-09-13  130.27  130.50999  128.36000  129.00  403800\n",
       "2023-09-12  128.27  130.25999  128.24001  130.05  464500\n",
       "...            ...        ...        ...     ...     ...\n",
       "2010-01-08   87.38   88.31000   87.09000   88.30  103400\n",
       "2010-01-07   87.56   87.79000   86.82000   87.64  138100\n",
       "2010-01-06   86.77   88.00000   86.63000   87.85  191300\n",
       "2010-01-05   86.04   86.88000   85.74000   86.85  182600\n",
       "2010-01-04   84.48   85.99000   84.48000   85.97  209200\n",
       "\n",
       "[3450 rows x 5 columns]"
      ]
     },
     "execution_count": 5,
     "metadata": {},
     "output_type": "execute_result"
    }
   ],
   "source": [
    "vde_raw"
   ]
  },
  {
   "cell_type": "code",
   "execution_count": 6,
   "id": "a0216b09-096f-4bf6-9e0a-0474e53ea139",
   "metadata": {
    "tags": []
   },
   "outputs": [
    {
     "data": {
      "text/html": [
       "<div>\n",
       "<style scoped>\n",
       "    .dataframe tbody tr th:only-of-type {\n",
       "        vertical-align: middle;\n",
       "    }\n",
       "\n",
       "    .dataframe tbody tr th {\n",
       "        vertical-align: top;\n",
       "    }\n",
       "\n",
       "    .dataframe thead th {\n",
       "        text-align: right;\n",
       "    }\n",
       "</style>\n",
       "<table border=\"1\" class=\"dataframe\">\n",
       "  <thead>\n",
       "    <tr style=\"text-align: right;\">\n",
       "      <th></th>\n",
       "      <th>IYE</th>\n",
       "      <th>VDE</th>\n",
       "    </tr>\n",
       "    <tr>\n",
       "      <th>datetime</th>\n",
       "      <th></th>\n",
       "      <th></th>\n",
       "    </tr>\n",
       "  </thead>\n",
       "  <tbody>\n",
       "    <tr>\n",
       "      <th>2023-09-18</th>\n",
       "      <td>48.74</td>\n",
       "      <td>130.17</td>\n",
       "    </tr>\n",
       "    <tr>\n",
       "      <th>2023-09-15</th>\n",
       "      <td>48.30</td>\n",
       "      <td>128.89</td>\n",
       "    </tr>\n",
       "    <tr>\n",
       "      <th>2023-09-14</th>\n",
       "      <td>48.97</td>\n",
       "      <td>130.52</td>\n",
       "    </tr>\n",
       "    <tr>\n",
       "      <th>2023-09-13</th>\n",
       "      <td>48.34</td>\n",
       "      <td>129.00</td>\n",
       "    </tr>\n",
       "    <tr>\n",
       "      <th>2023-09-12</th>\n",
       "      <td>48.76</td>\n",
       "      <td>130.05</td>\n",
       "    </tr>\n",
       "    <tr>\n",
       "      <th>...</th>\n",
       "      <td>...</td>\n",
       "      <td>...</td>\n",
       "    </tr>\n",
       "    <tr>\n",
       "      <th>2010-01-08</th>\n",
       "      <td>35.03</td>\n",
       "      <td>88.30</td>\n",
       "    </tr>\n",
       "    <tr>\n",
       "      <th>2010-01-07</th>\n",
       "      <td>34.75</td>\n",
       "      <td>87.64</td>\n",
       "    </tr>\n",
       "    <tr>\n",
       "      <th>2010-01-06</th>\n",
       "      <td>34.89</td>\n",
       "      <td>87.85</td>\n",
       "    </tr>\n",
       "    <tr>\n",
       "      <th>2010-01-05</th>\n",
       "      <td>34.52</td>\n",
       "      <td>86.85</td>\n",
       "    </tr>\n",
       "    <tr>\n",
       "      <th>2010-01-04</th>\n",
       "      <td>34.23</td>\n",
       "      <td>85.97</td>\n",
       "    </tr>\n",
       "  </tbody>\n",
       "</table>\n",
       "<p>3450 rows × 2 columns</p>\n",
       "</div>"
      ],
      "text/plain": [
       "              IYE     VDE\n",
       "datetime                 \n",
       "2023-09-18  48.74  130.17\n",
       "2023-09-15  48.30  128.89\n",
       "2023-09-14  48.97  130.52\n",
       "2023-09-13  48.34  129.00\n",
       "2023-09-12  48.76  130.05\n",
       "...           ...     ...\n",
       "2010-01-08  35.03   88.30\n",
       "2010-01-07  34.75   87.64\n",
       "2010-01-06  34.89   87.85\n",
       "2010-01-05  34.52   86.85\n",
       "2010-01-04  34.23   85.97\n",
       "\n",
       "[3450 rows x 2 columns]"
      ]
     },
     "execution_count": 6,
     "metadata": {},
     "output_type": "execute_result"
    }
   ],
   "source": [
    "iye_close_price = iye_raw[\"close\"].rename(\"IYE\")\n",
    "vde_close_price = vde_raw[\"close\"].rename(\"VDE\")\n",
    "instrument_close_price = pd.merge(iye_close_price, vde_close_price, on=\"datetime\", how=\"outer\")\n",
    "instrument_close_price"
   ]
  },
  {
   "cell_type": "code",
   "execution_count": 7,
   "id": "67d5e7df-2880-4b09-8f76-174aa86ab421",
   "metadata": {
    "tags": []
   },
   "outputs": [
    {
     "data": {
      "text/plain": [
       "<Axes: xlabel='datetime'>"
      ]
     },
     "execution_count": 7,
     "metadata": {},
     "output_type": "execute_result"
    },
    {
     "data": {
      "image/png": "[encoded data removed]",
      "text/plain": [
       "<Figure size 640x480 with 1 Axes>"
      ]
     },
     "metadata": {},
     "output_type": "display_data"
    }
   ],
   "source": [
    "instrument_close_price.plot()"
   ]
  },
  {
   "cell_type": "markdown",
   "id": "2df19f53-a0c4-4f9f-affe-e3ec447dba8a",
   "metadata": {},
   "source": [
    "# Split dataset + Fold training dataset"
   ]
  },
  {
   "cell_type": "code",
   "execution_count": 8,
   "id": "ca870c62-e0fc-4041-ad36-568efdf3a430",
   "metadata": {
    "tags": []
   },
   "outputs": [],
   "source": [
    "from sklearn.model_selection import train_test_split\n",
    "\n",
    "train_dataset, test_dataset = train_test_split(instrument_close_price.sort_index(), test_size=0.2, shuffle=False)"
   ]
  },
  {
   "cell_type": "code",
   "execution_count": 9,
   "id": "e3fa8568-407a-403a-9420-2b64252dbf74",
   "metadata": {
    "tags": []
   },
   "outputs": [
    {
     "data": {
      "text/html": [
       "<div>\n",
       "<style scoped>\n",
       "    .dataframe tbody tr th:only-of-type {\n",
       "        vertical-align: middle;\n",
       "    }\n",
       "\n",
       "    .dataframe tbody tr th {\n",
       "        vertical-align: top;\n",
       "    }\n",
       "\n",
       "    .dataframe thead th {\n",
       "        text-align: right;\n",
       "    }\n",
       "</style>\n",
       "<table border=\"1\" class=\"dataframe\">\n",
       "  <thead>\n",
       "    <tr style=\"text-align: right;\">\n",
       "      <th></th>\n",
       "      <th>IYE</th>\n",
       "      <th>VDE</th>\n",
       "    </tr>\n",
       "    <tr>\n",
       "      <th>datetime</th>\n",
       "      <th></th>\n",
       "      <th></th>\n",
       "    </tr>\n",
       "  </thead>\n",
       "  <tbody>\n",
       "    <tr>\n",
       "      <th>2010-01-04</th>\n",
       "      <td>34.23</td>\n",
       "      <td>85.97</td>\n",
       "    </tr>\n",
       "    <tr>\n",
       "      <th>2010-01-05</th>\n",
       "      <td>34.52</td>\n",
       "      <td>86.85</td>\n",
       "    </tr>\n",
       "    <tr>\n",
       "      <th>2010-01-06</th>\n",
       "      <td>34.89</td>\n",
       "      <td>87.85</td>\n",
       "    </tr>\n",
       "    <tr>\n",
       "      <th>2010-01-07</th>\n",
       "      <td>34.75</td>\n",
       "      <td>87.64</td>\n",
       "    </tr>\n",
       "    <tr>\n",
       "      <th>2010-01-08</th>\n",
       "      <td>35.03</td>\n",
       "      <td>88.30</td>\n",
       "    </tr>\n",
       "    <tr>\n",
       "      <th>...</th>\n",
       "      <td>...</td>\n",
       "      <td>...</td>\n",
       "    </tr>\n",
       "    <tr>\n",
       "      <th>2020-12-11</th>\n",
       "      <td>21.81</td>\n",
       "      <td>55.95</td>\n",
       "    </tr>\n",
       "    <tr>\n",
       "      <th>2020-12-14</th>\n",
       "      <td>20.83</td>\n",
       "      <td>54.00</td>\n",
       "    </tr>\n",
       "    <tr>\n",
       "      <th>2020-12-15</th>\n",
       "      <td>21.26</td>\n",
       "      <td>55.09</td>\n",
       "    </tr>\n",
       "    <tr>\n",
       "      <th>2020-12-16</th>\n",
       "      <td>21.17</td>\n",
       "      <td>54.85</td>\n",
       "    </tr>\n",
       "    <tr>\n",
       "      <th>2020-12-17</th>\n",
       "      <td>21.04</td>\n",
       "      <td>53.99</td>\n",
       "    </tr>\n",
       "  </tbody>\n",
       "</table>\n",
       "<p>2760 rows × 2 columns</p>\n",
       "</div>"
      ],
      "text/plain": [
       "              IYE    VDE\n",
       "datetime                \n",
       "2010-01-04  34.23  85.97\n",
       "2010-01-05  34.52  86.85\n",
       "2010-01-06  34.89  87.85\n",
       "2010-01-07  34.75  87.64\n",
       "2010-01-08  35.03  88.30\n",
       "...           ...    ...\n",
       "2020-12-11  21.81  55.95\n",
       "2020-12-14  20.83  54.00\n",
       "2020-12-15  21.26  55.09\n",
       "2020-12-16  21.17  54.85\n",
       "2020-12-17  21.04  53.99\n",
       "\n",
       "[2760 rows x 2 columns]"
      ]
     },
     "execution_count": 9,
     "metadata": {},
     "output_type": "execute_result"
    }
   ],
   "source": [
    "train_dataset"
   ]
  },
  {
   "cell_type": "code",
   "execution_count": 10,
   "id": "3029d0e6-0482-4ace-837c-a2a5ae273e52",
   "metadata": {
    "tags": []
   },
   "outputs": [
    {
     "data": {
      "text/html": [
       "<div>\n",
       "<style scoped>\n",
       "    .dataframe tbody tr th:only-of-type {\n",
       "        vertical-align: middle;\n",
       "    }\n",
       "\n",
       "    .dataframe tbody tr th {\n",
       "        vertical-align: top;\n",
       "    }\n",
       "\n",
       "    .dataframe thead th {\n",
       "        text-align: right;\n",
       "    }\n",
       "</style>\n",
       "<table border=\"1\" class=\"dataframe\">\n",
       "  <thead>\n",
       "    <tr style=\"text-align: right;\">\n",
       "      <th></th>\n",
       "      <th>IYE</th>\n",
       "      <th>VDE</th>\n",
       "    </tr>\n",
       "    <tr>\n",
       "      <th>datetime</th>\n",
       "      <th></th>\n",
       "      <th></th>\n",
       "    </tr>\n",
       "  </thead>\n",
       "  <tbody>\n",
       "    <tr>\n",
       "      <th>2020-12-18</th>\n",
       "      <td>20.71</td>\n",
       "      <td>53.06</td>\n",
       "    </tr>\n",
       "    <tr>\n",
       "      <th>2020-12-21</th>\n",
       "      <td>20.34</td>\n",
       "      <td>52.12</td>\n",
       "    </tr>\n",
       "    <tr>\n",
       "      <th>2020-12-22</th>\n",
       "      <td>20.02</td>\n",
       "      <td>51.30</td>\n",
       "    </tr>\n",
       "    <tr>\n",
       "      <th>2020-12-23</th>\n",
       "      <td>20.46</td>\n",
       "      <td>52.60</td>\n",
       "    </tr>\n",
       "    <tr>\n",
       "      <th>2020-12-24</th>\n",
       "      <td>20.33</td>\n",
       "      <td>52.16</td>\n",
       "    </tr>\n",
       "    <tr>\n",
       "      <th>...</th>\n",
       "      <td>...</td>\n",
       "      <td>...</td>\n",
       "    </tr>\n",
       "    <tr>\n",
       "      <th>2023-09-12</th>\n",
       "      <td>48.76</td>\n",
       "      <td>130.05</td>\n",
       "    </tr>\n",
       "    <tr>\n",
       "      <th>2023-09-13</th>\n",
       "      <td>48.34</td>\n",
       "      <td>129.00</td>\n",
       "    </tr>\n",
       "    <tr>\n",
       "      <th>2023-09-14</th>\n",
       "      <td>48.97</td>\n",
       "      <td>130.52</td>\n",
       "    </tr>\n",
       "    <tr>\n",
       "      <th>2023-09-15</th>\n",
       "      <td>48.30</td>\n",
       "      <td>128.89</td>\n",
       "    </tr>\n",
       "    <tr>\n",
       "      <th>2023-09-18</th>\n",
       "      <td>48.74</td>\n",
       "      <td>130.17</td>\n",
       "    </tr>\n",
       "  </tbody>\n",
       "</table>\n",
       "<p>690 rows × 2 columns</p>\n",
       "</div>"
      ],
      "text/plain": [
       "              IYE     VDE\n",
       "datetime                 \n",
       "2020-12-18  20.71   53.06\n",
       "2020-12-21  20.34   52.12\n",
       "2020-12-22  20.02   51.30\n",
       "2020-12-23  20.46   52.60\n",
       "2020-12-24  20.33   52.16\n",
       "...           ...     ...\n",
       "2023-09-12  48.76  130.05\n",
       "2023-09-13  48.34  129.00\n",
       "2023-09-14  48.97  130.52\n",
       "2023-09-15  48.30  128.89\n",
       "2023-09-18  48.74  130.17\n",
       "\n",
       "[690 rows x 2 columns]"
      ]
     },
     "execution_count": 10,
     "metadata": {},
     "output_type": "execute_result"
    }
   ],
   "source": [
    "test_dataset"
   ]
  },
  {
   "cell_type": "code",
   "execution_count": 12,
   "id": "225e82e6-a2aa-4276-9257-abbb1764d1a8",
   "metadata": {
    "tags": []
   },
   "outputs": [
    {
     "data": {
      "text/plain": [
       "TimeSeriesSplit(gap=0, max_train_size=None, n_splits=5, test_size=None)"
      ]
     },
     "execution_count": 12,
     "metadata": {},
     "output_type": "execute_result"
    }
   ],
   "source": [
    "tscv = TimeSeriesSplit(n_splits=5)\n",
    "tscv"
   ]
  },
  {
   "cell_type": "markdown",
   "id": "3fb253db-8be5-4b08-8735-67771998362a",
   "metadata": {},
   "source": [
    "# Process for each fold"
   ]
  },
  {
   "cell_type": "code",
   "execution_count": 13,
   "metadata": {},
   "outputs": [],
   "source": [
    "last_fold =  list(tscv.split(train_dataset))[-1]\n",
    "(train_index, validation_index) = last_fold"
   ]
  },
  {
   "cell_type": "code",
   "execution_count": 14,
   "id": "9d4d0a85-acb1-46d3-939e-dccf170b2f33",
   "metadata": {
    "tags": []
   },
   "outputs": [],
   "source": [
    "train_data, validation_data = train_dataset.iloc[train_index], train_dataset.iloc[validation_index]"
   ]
  },
  {
   "cell_type": "code",
   "execution_count": 15,
   "id": "6131bcde-1121-456d-a8db-563f0ebff6ed",
   "metadata": {
    "tags": []
   },
   "outputs": [
    {
     "data": {
      "text/html": [
       "<div>\n",
       "<style scoped>\n",
       "    .dataframe tbody tr th:only-of-type {\n",
       "        vertical-align: middle;\n",
       "    }\n",
       "\n",
       "    .dataframe tbody tr th {\n",
       "        vertical-align: top;\n",
       "    }\n",
       "\n",
       "    .dataframe thead th {\n",
       "        text-align: right;\n",
       "    }\n",
       "</style>\n",
       "<table border=\"1\" class=\"dataframe\">\n",
       "  <thead>\n",
       "    <tr style=\"text-align: right;\">\n",
       "      <th></th>\n",
       "      <th>IYE</th>\n",
       "      <th>VDE</th>\n",
       "    </tr>\n",
       "    <tr>\n",
       "      <th>datetime</th>\n",
       "      <th></th>\n",
       "      <th></th>\n",
       "    </tr>\n",
       "  </thead>\n",
       "  <tbody>\n",
       "    <tr>\n",
       "      <th>2010-01-04</th>\n",
       "      <td>34.23</td>\n",
       "      <td>85.97</td>\n",
       "    </tr>\n",
       "    <tr>\n",
       "      <th>2010-01-05</th>\n",
       "      <td>34.52</td>\n",
       "      <td>86.85</td>\n",
       "    </tr>\n",
       "    <tr>\n",
       "      <th>2010-01-06</th>\n",
       "      <td>34.89</td>\n",
       "      <td>87.85</td>\n",
       "    </tr>\n",
       "    <tr>\n",
       "      <th>2010-01-07</th>\n",
       "      <td>34.75</td>\n",
       "      <td>87.64</td>\n",
       "    </tr>\n",
       "    <tr>\n",
       "      <th>2010-01-08</th>\n",
       "      <td>35.03</td>\n",
       "      <td>88.30</td>\n",
       "    </tr>\n",
       "    <tr>\n",
       "      <th>...</th>\n",
       "      <td>...</td>\n",
       "      <td>...</td>\n",
       "    </tr>\n",
       "    <tr>\n",
       "      <th>2019-02-15</th>\n",
       "      <td>36.02</td>\n",
       "      <td>89.28</td>\n",
       "    </tr>\n",
       "    <tr>\n",
       "      <th>2019-02-19</th>\n",
       "      <td>36.12</td>\n",
       "      <td>89.62</td>\n",
       "    </tr>\n",
       "    <tr>\n",
       "      <th>2019-02-20</th>\n",
       "      <td>36.28</td>\n",
       "      <td>90.04</td>\n",
       "    </tr>\n",
       "    <tr>\n",
       "      <th>2019-02-21</th>\n",
       "      <td>35.68</td>\n",
       "      <td>88.54</td>\n",
       "    </tr>\n",
       "    <tr>\n",
       "      <th>2019-02-22</th>\n",
       "      <td>35.79</td>\n",
       "      <td>88.81</td>\n",
       "    </tr>\n",
       "  </tbody>\n",
       "</table>\n",
       "<p>2300 rows × 2 columns</p>\n",
       "</div>"
      ],
      "text/plain": [
       "              IYE    VDE\n",
       "datetime                \n",
       "2010-01-04  34.23  85.97\n",
       "2010-01-05  34.52  86.85\n",
       "2010-01-06  34.89  87.85\n",
       "2010-01-07  34.75  87.64\n",
       "2010-01-08  35.03  88.30\n",
       "...           ...    ...\n",
       "2019-02-15  36.02  89.28\n",
       "2019-02-19  36.12  89.62\n",
       "2019-02-20  36.28  90.04\n",
       "2019-02-21  35.68  88.54\n",
       "2019-02-22  35.79  88.81\n",
       "\n",
       "[2300 rows x 2 columns]"
      ]
     },
     "execution_count": 15,
     "metadata": {},
     "output_type": "execute_result"
    }
   ],
   "source": [
    "train_data"
   ]
  },
  {
   "cell_type": "code",
   "execution_count": 16,
   "id": "9ca4f4cb-cbd1-44b8-a636-12c77c25e7cf",
   "metadata": {
    "tags": []
   },
   "outputs": [
    {
     "data": {
      "text/html": [
       "<div>\n",
       "<style scoped>\n",
       "    .dataframe tbody tr th:only-of-type {\n",
       "        vertical-align: middle;\n",
       "    }\n",
       "\n",
       "    .dataframe tbody tr th {\n",
       "        vertical-align: top;\n",
       "    }\n",
       "\n",
       "    .dataframe thead th {\n",
       "        text-align: right;\n",
       "    }\n",
       "</style>\n",
       "<table border=\"1\" class=\"dataframe\">\n",
       "  <thead>\n",
       "    <tr style=\"text-align: right;\">\n",
       "      <th></th>\n",
       "      <th>IYE</th>\n",
       "      <th>VDE</th>\n",
       "    </tr>\n",
       "    <tr>\n",
       "      <th>datetime</th>\n",
       "      <th></th>\n",
       "      <th></th>\n",
       "    </tr>\n",
       "  </thead>\n",
       "  <tbody>\n",
       "    <tr>\n",
       "      <th>2019-02-25</th>\n",
       "      <td>35.84</td>\n",
       "      <td>88.89</td>\n",
       "    </tr>\n",
       "    <tr>\n",
       "      <th>2019-02-26</th>\n",
       "      <td>35.66</td>\n",
       "      <td>88.49</td>\n",
       "    </tr>\n",
       "    <tr>\n",
       "      <th>2019-02-27</th>\n",
       "      <td>35.83</td>\n",
       "      <td>88.86</td>\n",
       "    </tr>\n",
       "    <tr>\n",
       "      <th>2019-02-28</th>\n",
       "      <td>35.47</td>\n",
       "      <td>88.01</td>\n",
       "    </tr>\n",
       "    <tr>\n",
       "      <th>2019-03-01</th>\n",
       "      <td>36.10</td>\n",
       "      <td>89.61</td>\n",
       "    </tr>\n",
       "    <tr>\n",
       "      <th>...</th>\n",
       "      <td>...</td>\n",
       "      <td>...</td>\n",
       "    </tr>\n",
       "    <tr>\n",
       "      <th>2020-12-11</th>\n",
       "      <td>21.81</td>\n",
       "      <td>55.95</td>\n",
       "    </tr>\n",
       "    <tr>\n",
       "      <th>2020-12-14</th>\n",
       "      <td>20.83</td>\n",
       "      <td>54.00</td>\n",
       "    </tr>\n",
       "    <tr>\n",
       "      <th>2020-12-15</th>\n",
       "      <td>21.26</td>\n",
       "      <td>55.09</td>\n",
       "    </tr>\n",
       "    <tr>\n",
       "      <th>2020-12-16</th>\n",
       "      <td>21.17</td>\n",
       "      <td>54.85</td>\n",
       "    </tr>\n",
       "    <tr>\n",
       "      <th>2020-12-17</th>\n",
       "      <td>21.04</td>\n",
       "      <td>53.99</td>\n",
       "    </tr>\n",
       "  </tbody>\n",
       "</table>\n",
       "<p>460 rows × 2 columns</p>\n",
       "</div>"
      ],
      "text/plain": [
       "              IYE    VDE\n",
       "datetime                \n",
       "2019-02-25  35.84  88.89\n",
       "2019-02-26  35.66  88.49\n",
       "2019-02-27  35.83  88.86\n",
       "2019-02-28  35.47  88.01\n",
       "2019-03-01  36.10  89.61\n",
       "...           ...    ...\n",
       "2020-12-11  21.81  55.95\n",
       "2020-12-14  20.83  54.00\n",
       "2020-12-15  21.26  55.09\n",
       "2020-12-16  21.17  54.85\n",
       "2020-12-17  21.04  53.99\n",
       "\n",
       "[460 rows x 2 columns]"
      ]
     },
     "execution_count": 16,
     "metadata": {},
     "output_type": "execute_result"
    }
   ],
   "source": [
    "validation_data"
   ]
  },
  {
   "cell_type": "markdown",
   "id": "3729345a-6cde-4602-84f3-6bec1138efbb",
   "metadata": {},
   "source": [
    "# Calculate parameter(halflife) based on training data"
   ]
  },
  {
   "cell_type": "code",
   "execution_count": 17,
   "id": "fe5a1975-d521-44a1-8c32-bce021dd79a7",
   "metadata": {
    "tags": []
   },
   "outputs": [
    {
     "data": {
      "text/html": [
       "<div>\n",
       "<style scoped>\n",
       "    .dataframe tbody tr th:only-of-type {\n",
       "        vertical-align: middle;\n",
       "    }\n",
       "\n",
       "    .dataframe tbody tr th {\n",
       "        vertical-align: top;\n",
       "    }\n",
       "\n",
       "    .dataframe thead th {\n",
       "        text-align: right;\n",
       "    }\n",
       "</style>\n",
       "<table border=\"1\" class=\"dataframe\">\n",
       "  <thead>\n",
       "    <tr style=\"text-align: right;\">\n",
       "      <th></th>\n",
       "      <th>IYE</th>\n",
       "      <th>VDE</th>\n",
       "    </tr>\n",
       "    <tr>\n",
       "      <th>datetime</th>\n",
       "      <th></th>\n",
       "      <th></th>\n",
       "    </tr>\n",
       "  </thead>\n",
       "  <tbody>\n",
       "    <tr>\n",
       "      <th>2010-01-04</th>\n",
       "      <td>34.23</td>\n",
       "      <td>85.97</td>\n",
       "    </tr>\n",
       "    <tr>\n",
       "      <th>2010-01-05</th>\n",
       "      <td>34.52</td>\n",
       "      <td>86.85</td>\n",
       "    </tr>\n",
       "    <tr>\n",
       "      <th>2010-01-06</th>\n",
       "      <td>34.89</td>\n",
       "      <td>87.85</td>\n",
       "    </tr>\n",
       "    <tr>\n",
       "      <th>2010-01-07</th>\n",
       "      <td>34.75</td>\n",
       "      <td>87.64</td>\n",
       "    </tr>\n",
       "    <tr>\n",
       "      <th>2010-01-08</th>\n",
       "      <td>35.03</td>\n",
       "      <td>88.30</td>\n",
       "    </tr>\n",
       "    <tr>\n",
       "      <th>...</th>\n",
       "      <td>...</td>\n",
       "      <td>...</td>\n",
       "    </tr>\n",
       "    <tr>\n",
       "      <th>2019-02-15</th>\n",
       "      <td>36.02</td>\n",
       "      <td>89.28</td>\n",
       "    </tr>\n",
       "    <tr>\n",
       "      <th>2019-02-19</th>\n",
       "      <td>36.12</td>\n",
       "      <td>89.62</td>\n",
       "    </tr>\n",
       "    <tr>\n",
       "      <th>2019-02-20</th>\n",
       "      <td>36.28</td>\n",
       "      <td>90.04</td>\n",
       "    </tr>\n",
       "    <tr>\n",
       "      <th>2019-02-21</th>\n",
       "      <td>35.68</td>\n",
       "      <td>88.54</td>\n",
       "    </tr>\n",
       "    <tr>\n",
       "      <th>2019-02-22</th>\n",
       "      <td>35.79</td>\n",
       "      <td>88.81</td>\n",
       "    </tr>\n",
       "  </tbody>\n",
       "</table>\n",
       "<p>2300 rows × 2 columns</p>\n",
       "</div>"
      ],
      "text/plain": [
       "              IYE    VDE\n",
       "datetime                \n",
       "2010-01-04  34.23  85.97\n",
       "2010-01-05  34.52  86.85\n",
       "2010-01-06  34.89  87.85\n",
       "2010-01-07  34.75  87.64\n",
       "2010-01-08  35.03  88.30\n",
       "...           ...    ...\n",
       "2019-02-15  36.02  89.28\n",
       "2019-02-19  36.12  89.62\n",
       "2019-02-20  36.28  90.04\n",
       "2019-02-21  35.68  88.54\n",
       "2019-02-22  35.79  88.81\n",
       "\n",
       "[2300 rows x 2 columns]"
      ]
     },
     "execution_count": 17,
     "metadata": {},
     "output_type": "execute_result"
    }
   ],
   "source": [
    "train_data"
   ]
  },
  {
   "cell_type": "code",
   "execution_count": 18,
   "id": "ad2ffa36-51c3-42e0-9809-db4dd7b2a2c2",
   "metadata": {
    "tags": []
   },
   "outputs": [
    {
     "name": "stdout",
     "output_type": "stream",
     "text": [
      "Eigen statistic: \n",
      "\t[12.27442312  5.01087774]\n",
      "Eigen statistic critical: \n",
      "\t[[12.2971 14.2639 18.52  ]\n",
      " [ 2.7055  3.8415  6.6349]]\n",
      "Eigen vector: \n",
      "\t[[ 2.54667871 -0.98713035]\n",
      " [-0.11030451  0.1101151 ]]\n",
      "Eigen value: \n",
      "\t[0.00532711 0.00217816]\n"
     ]
    }
   ],
   "source": [
    "# x is a dataframe of n series for cointegration analysis\n",
    "jres = coint_johansen(train_data, det_order=0, k_ar_diff=1)\n",
    "print(f'Eigen statistic: \\n\\t{jres.max_eig_stat}')\n",
    "print(f'Eigen statistic critical: \\n\\t{jres.max_eig_stat_crit_vals}')\n",
    "print(f'Eigen vector: \\n\\t{jres.evec.T}')\n",
    "print(f'Eigen value: \\n\\t{jres.eig}')"
   ]
  },
  {
   "cell_type": "code",
   "execution_count": 19,
   "id": "2074ba50-8750-4c7d-b94b-78b9d21ace24",
   "metadata": {
    "tags": []
   },
   "outputs": [
    {
     "data": {
      "text/html": [
       "<div>\n",
       "<style scoped>\n",
       "    .dataframe tbody tr th:only-of-type {\n",
       "        vertical-align: middle;\n",
       "    }\n",
       "\n",
       "    .dataframe tbody tr th {\n",
       "        vertical-align: top;\n",
       "    }\n",
       "\n",
       "    .dataframe thead th {\n",
       "        text-align: right;\n",
       "    }\n",
       "</style>\n",
       "<table border=\"1\" class=\"dataframe\">\n",
       "  <thead>\n",
       "    <tr style=\"text-align: right;\">\n",
       "      <th></th>\n",
       "      <th>IYE</th>\n",
       "      <th>VDE</th>\n",
       "    </tr>\n",
       "    <tr>\n",
       "      <th>datetime</th>\n",
       "      <th></th>\n",
       "      <th></th>\n",
       "    </tr>\n",
       "  </thead>\n",
       "  <tbody>\n",
       "    <tr>\n",
       "      <th>2010-01-04</th>\n",
       "      <td>2.546679</td>\n",
       "      <td>-0.98713</td>\n",
       "    </tr>\n",
       "    <tr>\n",
       "      <th>2010-01-05</th>\n",
       "      <td>2.546679</td>\n",
       "      <td>-0.98713</td>\n",
       "    </tr>\n",
       "    <tr>\n",
       "      <th>2010-01-06</th>\n",
       "      <td>2.546679</td>\n",
       "      <td>-0.98713</td>\n",
       "    </tr>\n",
       "    <tr>\n",
       "      <th>2010-01-07</th>\n",
       "      <td>2.546679</td>\n",
       "      <td>-0.98713</td>\n",
       "    </tr>\n",
       "    <tr>\n",
       "      <th>2010-01-08</th>\n",
       "      <td>2.546679</td>\n",
       "      <td>-0.98713</td>\n",
       "    </tr>\n",
       "    <tr>\n",
       "      <th>...</th>\n",
       "      <td>...</td>\n",
       "      <td>...</td>\n",
       "    </tr>\n",
       "    <tr>\n",
       "      <th>2019-02-15</th>\n",
       "      <td>2.546679</td>\n",
       "      <td>-0.98713</td>\n",
       "    </tr>\n",
       "    <tr>\n",
       "      <th>2019-02-19</th>\n",
       "      <td>2.546679</td>\n",
       "      <td>-0.98713</td>\n",
       "    </tr>\n",
       "    <tr>\n",
       "      <th>2019-02-20</th>\n",
       "      <td>2.546679</td>\n",
       "      <td>-0.98713</td>\n",
       "    </tr>\n",
       "    <tr>\n",
       "      <th>2019-02-21</th>\n",
       "      <td>2.546679</td>\n",
       "      <td>-0.98713</td>\n",
       "    </tr>\n",
       "    <tr>\n",
       "      <th>2019-02-22</th>\n",
       "      <td>2.546679</td>\n",
       "      <td>-0.98713</td>\n",
       "    </tr>\n",
       "  </tbody>\n",
       "</table>\n",
       "<p>2300 rows × 2 columns</p>\n",
       "</div>"
      ],
      "text/plain": [
       "                 IYE      VDE\n",
       "datetime                     \n",
       "2010-01-04  2.546679 -0.98713\n",
       "2010-01-05  2.546679 -0.98713\n",
       "2010-01-06  2.546679 -0.98713\n",
       "2010-01-07  2.546679 -0.98713\n",
       "2010-01-08  2.546679 -0.98713\n",
       "...              ...      ...\n",
       "2019-02-15  2.546679 -0.98713\n",
       "2019-02-19  2.546679 -0.98713\n",
       "2019-02-20  2.546679 -0.98713\n",
       "2019-02-21  2.546679 -0.98713\n",
       "2019-02-22  2.546679 -0.98713\n",
       "\n",
       "[2300 rows x 2 columns]"
      ]
     },
     "execution_count": 19,
     "metadata": {},
     "output_type": "execute_result"
    }
   ],
   "source": [
    "w1, w2 = jres.evec.T\n",
    "weights = pd.DataFrame([w1] * len(train_data) , columns=train_data.columns, index=train_data.index)\n",
    "weights"
   ]
  },
  {
   "cell_type": "code",
   "execution_count": 20,
   "id": "0f96ca2c-2269-437a-a991-ad0ceddad0dd",
   "metadata": {
    "tags": []
   },
   "outputs": [
    {
     "data": {
      "text/plain": [
       "datetime\n",
       "2010-01-04    2.309217\n",
       "2010-01-05    2.179079\n",
       "2010-01-06    2.134220\n",
       "2010-01-07    1.984982\n",
       "2010-01-08    2.046546\n",
       "                ...   \n",
       "2019-02-15    3.600370\n",
       "2019-02-19    3.519414\n",
       "2019-02-20    3.512287\n",
       "2019-02-21    3.464976\n",
       "2019-02-22    3.478585\n",
       "Length: 2300, dtype: float64"
      ]
     },
     "execution_count": 20,
     "metadata": {},
     "output_type": "execute_result"
    }
   ],
   "source": [
    "spread = (weights * train_data).sum(axis=1)\n",
    "spread"
   ]
  },
  {
   "cell_type": "code",
   "execution_count": 21,
   "id": "73d667ab-7245-4a05-85ad-debbf2d8d88a",
   "metadata": {
    "tags": []
   },
   "outputs": [
    {
     "data": {
      "text/plain": [
       "count    2300.000000\n",
       "mean        0.000000\n",
       "std         1.000000\n",
       "min        -2.536106\n",
       "25%        -0.671034\n",
       "50%         0.249790\n",
       "75%         0.695480\n",
       "max         4.203751\n",
       "dtype: float64"
      ]
     },
     "execution_count": 21,
     "metadata": {},
     "output_type": "execute_result"
    }
   ],
   "source": [
    "zscore_spread = (spread - spread.mean()) / spread.std()\n",
    "zscore_spread.describe()"
   ]
  },
  {
   "cell_type": "code",
   "execution_count": 22,
   "id": "c50f68b5-3ad2-49f8-a4d8-ef52e5ec42f4",
   "metadata": {
    "tags": []
   },
   "outputs": [
    {
     "data": {
      "image/png": "[encoded data removed]",
      "text/plain": [
       "<Figure size 640x480 with 1 Axes>"
      ]
     },
     "metadata": {},
     "output_type": "display_data"
    }
   ],
   "source": [
    "zscore_spread.plot()\n",
    "plt.axhline(zscore_spread.mean(), color=\"black\")\n",
    "plt.axhline(1.0, color=\"red\", linestyle=\"--\")\n",
    "plt.axhline(-1.0, color=\"green\", linestyle=\"--\")\n",
    "plt.legend([\"Spread z-score\", \"Mean\", \"+1\", \"-1\"]);"
   ]
  },
  {
   "cell_type": "code",
   "execution_count": 23,
   "id": "18ba3217-c3bf-44c0-8adb-4deec74bf1eb",
   "metadata": {
    "tags": []
   },
   "outputs": [
    {
     "name": "stdout",
     "output_type": "stream",
     "text": [
      "Halflife: 46.056597\n"
     ]
    }
   ],
   "source": [
    "x = spread.shift().dropna()\n",
    "y = spread - spread.shift()\n",
    "y = y.dropna()\n",
    "x = sm.add_constant(x)\n",
    "results = sm.OLS(y, x).fit()\n",
    "halflife = -math.log(2) / results.params[0]\n",
    "print('Halflife: %f' % halflife)"
   ]
  },
  {
   "cell_type": "markdown",
   "id": "f0738ca0-22e1-4ca2-b2d1-796a9c21b75d",
   "metadata": {},
   "source": [
    "# Backtest on validation data"
   ]
  },
  {
   "cell_type": "code",
   "execution_count": 24,
   "id": "8b947a70-011d-4d3e-9aba-9e5f45eae7d7",
   "metadata": {
    "tags": []
   },
   "outputs": [
    {
     "data": {
      "text/plain": [
       "46"
      ]
     },
     "execution_count": 24,
     "metadata": {},
     "output_type": "execute_result"
    }
   ],
   "source": [
    "lookback = round(halflife)\n",
    "lookback"
   ]
  },
  {
   "cell_type": "code",
   "execution_count": 25,
   "id": "2988004d-bc4a-44c2-adce-1b43d84178cd",
   "metadata": {
    "tags": []
   },
   "outputs": [
    {
     "data": {
      "text/html": [
       "<div>\n",
       "<style scoped>\n",
       "    .dataframe tbody tr th:only-of-type {\n",
       "        vertical-align: middle;\n",
       "    }\n",
       "\n",
       "    .dataframe tbody tr th {\n",
       "        vertical-align: top;\n",
       "    }\n",
       "\n",
       "    .dataframe thead th {\n",
       "        text-align: right;\n",
       "    }\n",
       "</style>\n",
       "<table border=\"1\" class=\"dataframe\">\n",
       "  <thead>\n",
       "    <tr style=\"text-align: right;\">\n",
       "      <th></th>\n",
       "      <th>IYE</th>\n",
       "      <th>VDE</th>\n",
       "    </tr>\n",
       "    <tr>\n",
       "      <th>datetime</th>\n",
       "      <th></th>\n",
       "      <th></th>\n",
       "    </tr>\n",
       "  </thead>\n",
       "  <tbody>\n",
       "    <tr>\n",
       "      <th>2019-02-25</th>\n",
       "      <td>35.84</td>\n",
       "      <td>88.89</td>\n",
       "    </tr>\n",
       "    <tr>\n",
       "      <th>2019-02-26</th>\n",
       "      <td>35.66</td>\n",
       "      <td>88.49</td>\n",
       "    </tr>\n",
       "    <tr>\n",
       "      <th>2019-02-27</th>\n",
       "      <td>35.83</td>\n",
       "      <td>88.86</td>\n",
       "    </tr>\n",
       "    <tr>\n",
       "      <th>2019-02-28</th>\n",
       "      <td>35.47</td>\n",
       "      <td>88.01</td>\n",
       "    </tr>\n",
       "    <tr>\n",
       "      <th>2019-03-01</th>\n",
       "      <td>36.10</td>\n",
       "      <td>89.61</td>\n",
       "    </tr>\n",
       "    <tr>\n",
       "      <th>...</th>\n",
       "      <td>...</td>\n",
       "      <td>...</td>\n",
       "    </tr>\n",
       "    <tr>\n",
       "      <th>2020-12-11</th>\n",
       "      <td>21.81</td>\n",
       "      <td>55.95</td>\n",
       "    </tr>\n",
       "    <tr>\n",
       "      <th>2020-12-14</th>\n",
       "      <td>20.83</td>\n",
       "      <td>54.00</td>\n",
       "    </tr>\n",
       "    <tr>\n",
       "      <th>2020-12-15</th>\n",
       "      <td>21.26</td>\n",
       "      <td>55.09</td>\n",
       "    </tr>\n",
       "    <tr>\n",
       "      <th>2020-12-16</th>\n",
       "      <td>21.17</td>\n",
       "      <td>54.85</td>\n",
       "    </tr>\n",
       "    <tr>\n",
       "      <th>2020-12-17</th>\n",
       "      <td>21.04</td>\n",
       "      <td>53.99</td>\n",
       "    </tr>\n",
       "  </tbody>\n",
       "</table>\n",
       "<p>460 rows × 2 columns</p>\n",
       "</div>"
      ],
      "text/plain": [
       "              IYE    VDE\n",
       "datetime                \n",
       "2019-02-25  35.84  88.89\n",
       "2019-02-26  35.66  88.49\n",
       "2019-02-27  35.83  88.86\n",
       "2019-02-28  35.47  88.01\n",
       "2019-03-01  36.10  89.61\n",
       "...           ...    ...\n",
       "2020-12-11  21.81  55.95\n",
       "2020-12-14  20.83  54.00\n",
       "2020-12-15  21.26  55.09\n",
       "2020-12-16  21.17  54.85\n",
       "2020-12-17  21.04  53.99\n",
       "\n",
       "[460 rows x 2 columns]"
      ]
     },
     "execution_count": 25,
     "metadata": {},
     "output_type": "execute_result"
    }
   ],
   "source": [
    "price = validation_data\n",
    "price"
   ]
  },
  {
   "cell_type": "code",
   "execution_count": 26,
   "id": "6614b0c4-4f1e-4220-a546-905de0e3a950",
   "metadata": {
    "tags": []
   },
   "outputs": [
    {
     "data": {
      "text/html": [
       "<div>\n",
       "<style scoped>\n",
       "    .dataframe tbody tr th:only-of-type {\n",
       "        vertical-align: middle;\n",
       "    }\n",
       "\n",
       "    .dataframe tbody tr th {\n",
       "        vertical-align: top;\n",
       "    }\n",
       "\n",
       "    .dataframe thead th {\n",
       "        text-align: right;\n",
       "    }\n",
       "</style>\n",
       "<table border=\"1\" class=\"dataframe\">\n",
       "  <thead>\n",
       "    <tr style=\"text-align: right;\">\n",
       "      <th></th>\n",
       "      <th>IYE</th>\n",
       "      <th>VDE</th>\n",
       "    </tr>\n",
       "    <tr>\n",
       "      <th>datetime</th>\n",
       "      <th></th>\n",
       "      <th></th>\n",
       "    </tr>\n",
       "  </thead>\n",
       "  <tbody>\n",
       "    <tr>\n",
       "      <th>2019-02-25</th>\n",
       "      <td>NaN</td>\n",
       "      <td>NaN</td>\n",
       "    </tr>\n",
       "    <tr>\n",
       "      <th>2019-02-26</th>\n",
       "      <td>NaN</td>\n",
       "      <td>NaN</td>\n",
       "    </tr>\n",
       "    <tr>\n",
       "      <th>2019-02-27</th>\n",
       "      <td>NaN</td>\n",
       "      <td>NaN</td>\n",
       "    </tr>\n",
       "    <tr>\n",
       "      <th>2019-02-28</th>\n",
       "      <td>NaN</td>\n",
       "      <td>NaN</td>\n",
       "    </tr>\n",
       "    <tr>\n",
       "      <th>2019-03-01</th>\n",
       "      <td>NaN</td>\n",
       "      <td>NaN</td>\n",
       "    </tr>\n",
       "    <tr>\n",
       "      <th>...</th>\n",
       "      <td>...</td>\n",
       "      <td>...</td>\n",
       "    </tr>\n",
       "    <tr>\n",
       "      <th>2020-12-11</th>\n",
       "      <td>NaN</td>\n",
       "      <td>NaN</td>\n",
       "    </tr>\n",
       "    <tr>\n",
       "      <th>2020-12-14</th>\n",
       "      <td>NaN</td>\n",
       "      <td>NaN</td>\n",
       "    </tr>\n",
       "    <tr>\n",
       "      <th>2020-12-15</th>\n",
       "      <td>NaN</td>\n",
       "      <td>NaN</td>\n",
       "    </tr>\n",
       "    <tr>\n",
       "      <th>2020-12-16</th>\n",
       "      <td>NaN</td>\n",
       "      <td>NaN</td>\n",
       "    </tr>\n",
       "    <tr>\n",
       "      <th>2020-12-17</th>\n",
       "      <td>NaN</td>\n",
       "      <td>NaN</td>\n",
       "    </tr>\n",
       "  </tbody>\n",
       "</table>\n",
       "<p>460 rows × 2 columns</p>\n",
       "</div>"
      ],
      "text/plain": [
       "            IYE  VDE\n",
       "datetime            \n",
       "2019-02-25  NaN  NaN\n",
       "2019-02-26  NaN  NaN\n",
       "2019-02-27  NaN  NaN\n",
       "2019-02-28  NaN  NaN\n",
       "2019-03-01  NaN  NaN\n",
       "...         ...  ...\n",
       "2020-12-11  NaN  NaN\n",
       "2020-12-14  NaN  NaN\n",
       "2020-12-15  NaN  NaN\n",
       "2020-12-16  NaN  NaN\n",
       "2020-12-17  NaN  NaN\n",
       "\n",
       "[460 rows x 2 columns]"
      ]
     },
     "execution_count": 26,
     "metadata": {},
     "output_type": "execute_result"
    }
   ],
   "source": [
    "hedge_ratio = pd.DataFrame(np.NaN,columns=price.columns,index=price.index)\n",
    "hedge_ratio"
   ]
  },
  {
   "cell_type": "code",
   "execution_count": 27,
   "id": "0c78fcee-4ff8-44bd-8f2f-ca7e4de14728",
   "metadata": {
    "tags": []
   },
   "outputs": [
    {
     "data": {
      "text/html": [
       "<div>\n",
       "<style scoped>\n",
       "    .dataframe tbody tr th:only-of-type {\n",
       "        vertical-align: middle;\n",
       "    }\n",
       "\n",
       "    .dataframe tbody tr th {\n",
       "        vertical-align: top;\n",
       "    }\n",
       "\n",
       "    .dataframe thead th {\n",
       "        text-align: right;\n",
       "    }\n",
       "</style>\n",
       "<table border=\"1\" class=\"dataframe\">\n",
       "  <thead>\n",
       "    <tr style=\"text-align: right;\">\n",
       "      <th></th>\n",
       "      <th>IYE</th>\n",
       "      <th>VDE</th>\n",
       "    </tr>\n",
       "    <tr>\n",
       "      <th>datetime</th>\n",
       "      <th></th>\n",
       "      <th></th>\n",
       "    </tr>\n",
       "  </thead>\n",
       "  <tbody>\n",
       "    <tr>\n",
       "      <th>2019-02-25</th>\n",
       "      <td>NaN</td>\n",
       "      <td>NaN</td>\n",
       "    </tr>\n",
       "    <tr>\n",
       "      <th>2019-02-26</th>\n",
       "      <td>NaN</td>\n",
       "      <td>NaN</td>\n",
       "    </tr>\n",
       "    <tr>\n",
       "      <th>2019-02-27</th>\n",
       "      <td>NaN</td>\n",
       "      <td>NaN</td>\n",
       "    </tr>\n",
       "    <tr>\n",
       "      <th>2019-02-28</th>\n",
       "      <td>NaN</td>\n",
       "      <td>NaN</td>\n",
       "    </tr>\n",
       "    <tr>\n",
       "      <th>2019-03-01</th>\n",
       "      <td>NaN</td>\n",
       "      <td>NaN</td>\n",
       "    </tr>\n",
       "    <tr>\n",
       "      <th>...</th>\n",
       "      <td>...</td>\n",
       "      <td>...</td>\n",
       "    </tr>\n",
       "    <tr>\n",
       "      <th>2020-12-11</th>\n",
       "      <td>10.130956</td>\n",
       "      <td>-3.695280</td>\n",
       "    </tr>\n",
       "    <tr>\n",
       "      <th>2020-12-14</th>\n",
       "      <td>13.527464</td>\n",
       "      <td>-5.320746</td>\n",
       "    </tr>\n",
       "    <tr>\n",
       "      <th>2020-12-15</th>\n",
       "      <td>14.531347</td>\n",
       "      <td>-5.694031</td>\n",
       "    </tr>\n",
       "    <tr>\n",
       "      <th>2020-12-16</th>\n",
       "      <td>2.360385</td>\n",
       "      <td>-1.068878</td>\n",
       "    </tr>\n",
       "    <tr>\n",
       "      <th>2020-12-17</th>\n",
       "      <td>11.900443</td>\n",
       "      <td>-4.413349</td>\n",
       "    </tr>\n",
       "  </tbody>\n",
       "</table>\n",
       "<p>460 rows × 2 columns</p>\n",
       "</div>"
      ],
      "text/plain": [
       "                  IYE       VDE\n",
       "datetime                       \n",
       "2019-02-25        NaN       NaN\n",
       "2019-02-26        NaN       NaN\n",
       "2019-02-27        NaN       NaN\n",
       "2019-02-28        NaN       NaN\n",
       "2019-03-01        NaN       NaN\n",
       "...               ...       ...\n",
       "2020-12-11  10.130956 -3.695280\n",
       "2020-12-14  13.527464 -5.320746\n",
       "2020-12-15  14.531347 -5.694031\n",
       "2020-12-16   2.360385 -1.068878\n",
       "2020-12-17  11.900443 -4.413349\n",
       "\n",
       "[460 rows x 2 columns]"
      ]
     },
     "execution_count": 27,
     "metadata": {},
     "output_type": "execute_result"
    }
   ],
   "source": [
    "for i in range(lookback-1,len(price)):\n",
    "    price_period = price[i-lookback+1:i+1]\n",
    "    jres = coint_johansen(price_period, det_order=0, k_ar_diff=1)\n",
    "    hedge_ratio.iloc[i] = jres.evec.T[0]\n",
    "hedge_ratio"
   ]
  },
  {
   "cell_type": "code",
   "execution_count": 28,
   "id": "ea343264-34d3-4c28-9ffb-ec39af657cf1",
   "metadata": {
    "tags": []
   },
   "outputs": [
    {
     "data": {
      "text/html": [
       "<div>\n",
       "<style scoped>\n",
       "    .dataframe tbody tr th:only-of-type {\n",
       "        vertical-align: middle;\n",
       "    }\n",
       "\n",
       "    .dataframe tbody tr th {\n",
       "        vertical-align: top;\n",
       "    }\n",
       "\n",
       "    .dataframe thead th {\n",
       "        text-align: right;\n",
       "    }\n",
       "</style>\n",
       "<table border=\"1\" class=\"dataframe\">\n",
       "  <thead>\n",
       "    <tr style=\"text-align: right;\">\n",
       "      <th></th>\n",
       "      <th>IYE</th>\n",
       "      <th>VDE</th>\n",
       "    </tr>\n",
       "    <tr>\n",
       "      <th>datetime</th>\n",
       "      <th></th>\n",
       "      <th></th>\n",
       "    </tr>\n",
       "  </thead>\n",
       "  <tbody>\n",
       "    <tr>\n",
       "      <th>2019-02-25</th>\n",
       "      <td>NaN</td>\n",
       "      <td>NaN</td>\n",
       "    </tr>\n",
       "    <tr>\n",
       "      <th>2019-02-26</th>\n",
       "      <td>NaN</td>\n",
       "      <td>NaN</td>\n",
       "    </tr>\n",
       "    <tr>\n",
       "      <th>2019-02-27</th>\n",
       "      <td>NaN</td>\n",
       "      <td>NaN</td>\n",
       "    </tr>\n",
       "    <tr>\n",
       "      <th>2019-02-28</th>\n",
       "      <td>NaN</td>\n",
       "      <td>NaN</td>\n",
       "    </tr>\n",
       "    <tr>\n",
       "      <th>2019-03-01</th>\n",
       "      <td>NaN</td>\n",
       "      <td>NaN</td>\n",
       "    </tr>\n",
       "    <tr>\n",
       "      <th>...</th>\n",
       "      <td>...</td>\n",
       "      <td>...</td>\n",
       "    </tr>\n",
       "    <tr>\n",
       "      <th>2020-12-11</th>\n",
       "      <td>220.956145</td>\n",
       "      <td>-206.750915</td>\n",
       "    </tr>\n",
       "    <tr>\n",
       "      <th>2020-12-14</th>\n",
       "      <td>281.777066</td>\n",
       "      <td>-287.320278</td>\n",
       "    </tr>\n",
       "    <tr>\n",
       "      <th>2020-12-15</th>\n",
       "      <td>308.936447</td>\n",
       "      <td>-313.684149</td>\n",
       "    </tr>\n",
       "    <tr>\n",
       "      <th>2020-12-16</th>\n",
       "      <td>49.969353</td>\n",
       "      <td>-58.627955</td>\n",
       "    </tr>\n",
       "    <tr>\n",
       "      <th>2020-12-17</th>\n",
       "      <td>250.385323</td>\n",
       "      <td>-238.276693</td>\n",
       "    </tr>\n",
       "  </tbody>\n",
       "</table>\n",
       "<p>460 rows × 2 columns</p>\n",
       "</div>"
      ],
      "text/plain": [
       "                   IYE         VDE\n",
       "datetime                          \n",
       "2019-02-25         NaN         NaN\n",
       "2019-02-26         NaN         NaN\n",
       "2019-02-27         NaN         NaN\n",
       "2019-02-28         NaN         NaN\n",
       "2019-03-01         NaN         NaN\n",
       "...                ...         ...\n",
       "2020-12-11  220.956145 -206.750915\n",
       "2020-12-14  281.777066 -287.320278\n",
       "2020-12-15  308.936447 -313.684149\n",
       "2020-12-16   49.969353  -58.627955\n",
       "2020-12-17  250.385323 -238.276693\n",
       "\n",
       "[460 rows x 2 columns]"
      ]
     },
     "execution_count": 28,
     "metadata": {},
     "output_type": "execute_result"
    }
   ],
   "source": [
    "market_val = hedge_ratio * price\n",
    "market_val"
   ]
  },
  {
   "cell_type": "code",
   "execution_count": 29,
   "id": "8575d155-22de-463f-8faf-85ef4e145886",
   "metadata": {
    "tags": []
   },
   "outputs": [
    {
     "data": {
      "text/plain": [
       "datetime\n",
       "2019-02-25     0.000000\n",
       "2019-02-26     0.000000\n",
       "2019-02-27     0.000000\n",
       "2019-02-28     0.000000\n",
       "2019-03-01     0.000000\n",
       "                ...    \n",
       "2020-12-11    14.205230\n",
       "2020-12-14    -5.543212\n",
       "2020-12-15    -4.747702\n",
       "2020-12-16    -8.658602\n",
       "2020-12-17    12.108630\n",
       "Length: 460, dtype: float64"
      ]
     },
     "execution_count": 29,
     "metadata": {},
     "output_type": "execute_result"
    }
   ],
   "source": [
    "spread = market_val.sum(axis=1)\n",
    "spread"
   ]
  },
  {
   "cell_type": "code",
   "execution_count": 30,
   "id": "957cb4cc-0c8f-4208-9fc7-7a7319965a54",
   "metadata": {
    "tags": []
   },
   "outputs": [
    {
     "data": {
      "text/plain": [
       "datetime\n",
       "2019-02-25         NaN\n",
       "2019-02-26         NaN\n",
       "2019-02-27         NaN\n",
       "2019-02-28         NaN\n",
       "2019-03-01         NaN\n",
       "                ...   \n",
       "2020-12-11   -0.907350\n",
       "2020-12-14    0.257143\n",
       "2020-12-15    0.203942\n",
       "2020-12-16    0.426206\n",
       "2020-12-17   -0.777747\n",
       "Length: 460, dtype: float64"
      ]
     },
     "execution_count": 30,
     "metadata": {},
     "output_type": "execute_result"
    }
   ],
   "source": [
    "num_units = -(spread - spread.rolling(lookback).mean()) / spread.rolling(lookback).std()\n",
    "num_units"
   ]
  },
  {
   "cell_type": "code",
   "execution_count": 31,
   "id": "6416d553-bfaf-428b-a7f2-254b34871eb0",
   "metadata": {
    "tags": []
   },
   "outputs": [
    {
     "data": {
      "text/plain": [
       "<Axes: xlabel='datetime'>"
      ]
     },
     "execution_count": 31,
     "metadata": {},
     "output_type": "execute_result"
    },
    {
     "data": {
      "image/png": "[encoded data removed]",
      "text/plain": [
       "<Figure size 640x480 with 1 Axes>"
      ]
     },
     "metadata": {},
     "output_type": "display_data"
    }
   ],
   "source": [
    "num_units.plot()"
   ]
  },
  {
   "cell_type": "code",
   "execution_count": 32,
   "id": "0c86fedc-6b5e-463e-93c7-a1393578e6ec",
   "metadata": {
    "tags": []
   },
   "outputs": [
    {
     "data": {
      "text/html": [
       "<div>\n",
       "<style scoped>\n",
       "    .dataframe tbody tr th:only-of-type {\n",
       "        vertical-align: middle;\n",
       "    }\n",
       "\n",
       "    .dataframe tbody tr th {\n",
       "        vertical-align: top;\n",
       "    }\n",
       "\n",
       "    .dataframe thead th {\n",
       "        text-align: right;\n",
       "    }\n",
       "</style>\n",
       "<table border=\"1\" class=\"dataframe\">\n",
       "  <thead>\n",
       "    <tr style=\"text-align: right;\">\n",
       "      <th></th>\n",
       "      <th>IYE</th>\n",
       "      <th>VDE</th>\n",
       "    </tr>\n",
       "    <tr>\n",
       "      <th>datetime</th>\n",
       "      <th></th>\n",
       "      <th></th>\n",
       "    </tr>\n",
       "  </thead>\n",
       "  <tbody>\n",
       "    <tr>\n",
       "      <th>2019-02-25</th>\n",
       "      <td>NaN</td>\n",
       "      <td>NaN</td>\n",
       "    </tr>\n",
       "    <tr>\n",
       "      <th>2019-02-26</th>\n",
       "      <td>NaN</td>\n",
       "      <td>NaN</td>\n",
       "    </tr>\n",
       "    <tr>\n",
       "      <th>2019-02-27</th>\n",
       "      <td>NaN</td>\n",
       "      <td>NaN</td>\n",
       "    </tr>\n",
       "    <tr>\n",
       "      <th>2019-02-28</th>\n",
       "      <td>NaN</td>\n",
       "      <td>NaN</td>\n",
       "    </tr>\n",
       "    <tr>\n",
       "      <th>2019-03-01</th>\n",
       "      <td>NaN</td>\n",
       "      <td>NaN</td>\n",
       "    </tr>\n",
       "    <tr>\n",
       "      <th>...</th>\n",
       "      <td>...</td>\n",
       "      <td>...</td>\n",
       "    </tr>\n",
       "    <tr>\n",
       "      <th>2020-12-11</th>\n",
       "      <td>-200.484621</td>\n",
       "      <td>187.595502</td>\n",
       "    </tr>\n",
       "    <tr>\n",
       "      <th>2020-12-14</th>\n",
       "      <td>72.457049</td>\n",
       "      <td>-73.882448</td>\n",
       "    </tr>\n",
       "    <tr>\n",
       "      <th>2020-12-15</th>\n",
       "      <td>63.005100</td>\n",
       "      <td>-63.973356</td>\n",
       "    </tr>\n",
       "    <tr>\n",
       "      <th>2020-12-16</th>\n",
       "      <td>21.297231</td>\n",
       "      <td>-24.987578</td>\n",
       "    </tr>\n",
       "    <tr>\n",
       "      <th>2020-12-17</th>\n",
       "      <td>-194.736383</td>\n",
       "      <td>185.318935</td>\n",
       "    </tr>\n",
       "  </tbody>\n",
       "</table>\n",
       "<p>460 rows × 2 columns</p>\n",
       "</div>"
      ],
      "text/plain": [
       "                   IYE         VDE\n",
       "datetime                          \n",
       "2019-02-25         NaN         NaN\n",
       "2019-02-26         NaN         NaN\n",
       "2019-02-27         NaN         NaN\n",
       "2019-02-28         NaN         NaN\n",
       "2019-03-01         NaN         NaN\n",
       "...                ...         ...\n",
       "2020-12-11 -200.484621  187.595502\n",
       "2020-12-14   72.457049  -73.882448\n",
       "2020-12-15   63.005100  -63.973356\n",
       "2020-12-16   21.297231  -24.987578\n",
       "2020-12-17 -194.736383  185.318935\n",
       "\n",
       "[460 rows x 2 columns]"
      ]
     },
     "execution_count": 32,
     "metadata": {},
     "output_type": "execute_result"
    }
   ],
   "source": [
    "positions = market_val.mul(num_units, axis=0)\n",
    "positions"
   ]
  },
  {
   "cell_type": "code",
   "execution_count": 33,
   "id": "7a851827-b16d-4561-bedc-bde0b532ce76",
   "metadata": {
    "tags": []
   },
   "outputs": [
    {
     "data": {
      "text/plain": [
       "datetime\n",
       "2019-02-25    0.000000\n",
       "2019-02-26    0.000000\n",
       "2019-02-27    0.000000\n",
       "2019-02-28    0.000000\n",
       "2019-03-01    0.000000\n",
       "                ...   \n",
       "2020-12-11    0.171775\n",
       "2020-12-14    2.470298\n",
       "2020-12-15    0.004422\n",
       "2020-12-16    0.011981\n",
       "2020-12-17    0.261002\n",
       "Length: 460, dtype: float64"
      ]
     },
     "execution_count": 33,
     "metadata": {},
     "output_type": "execute_result"
    }
   ],
   "source": [
    "pnl = positions.shift(1) * (price - price.shift(1)) / price.shift(1)\n",
    "pnl = pnl.sum(axis=1)\n",
    "pnl"
   ]
  },
  {
   "cell_type": "code",
   "execution_count": 34,
   "id": "b0cae808-e8f9-4feb-9c33-723a19b86c33",
   "metadata": {
    "tags": []
   },
   "outputs": [
    {
     "data": {
      "text/plain": [
       "count    460.000000\n",
       "mean       0.171717\n",
       "std        1.659059\n",
       "min       -6.359231\n",
       "25%       -0.177377\n",
       "50%        0.000000\n",
       "75%        0.301968\n",
       "max       16.332006\n",
       "dtype: float64"
      ]
     },
     "execution_count": 34,
     "metadata": {},
     "output_type": "execute_result"
    }
   ],
   "source": [
    "pnl.describe()"
   ]
  },
  {
   "cell_type": "code",
   "execution_count": 35,
   "id": "e0b5ed48-600a-40db-a92e-d26b37ba03b8",
   "metadata": {
    "tags": []
   },
   "outputs": [
    {
     "data": {
      "text/plain": [
       "datetime\n",
       "2019-02-25         NaN\n",
       "2019-02-26         NaN\n",
       "2019-02-27         NaN\n",
       "2019-02-28         NaN\n",
       "2019-03-01         NaN\n",
       "                ...   \n",
       "2020-12-11    0.010723\n",
       "2020-12-14    0.191658\n",
       "2020-12-15    0.003102\n",
       "2020-12-16    0.012374\n",
       "2020-12-17    0.070726\n",
       "Length: 460, dtype: float64"
      ]
     },
     "execution_count": 35,
     "metadata": {},
     "output_type": "execute_result"
    }
   ],
   "source": [
    "ret = pnl / positions.shift(1).sum(axis=1).abs()\n",
    "ret"
   ]
  },
  {
   "cell_type": "code",
   "execution_count": 36,
   "id": "8c96e933-d3f4-4d6e-97e9-a98011606bda",
   "metadata": {
    "tags": []
   },
   "outputs": [
    {
     "data": {
      "text/plain": [
       "count    414.000000\n",
       "mean       0.022054\n",
       "std        0.250492\n",
       "min       -2.344241\n",
       "25%       -0.017932\n",
       "50%        0.002024\n",
       "75%        0.023969\n",
       "max        2.201862\n",
       "dtype: float64"
      ]
     },
     "execution_count": 36,
     "metadata": {},
     "output_type": "execute_result"
    }
   ],
   "source": [
    "ret.describe()"
   ]
  },
  {
   "cell_type": "code",
   "execution_count": 37,
   "id": "88f0fde0-fa6b-4d20-b40d-6860f8da3d29",
   "metadata": {
    "tags": []
   },
   "outputs": [
    {
     "data": {
      "text/plain": [
       "<Axes: xlabel='datetime'>"
      ]
     },
     "execution_count": 37,
     "metadata": {},
     "output_type": "execute_result"
    },
    {
     "data": {
      "image/png": "[encoded data removed]",
      "text/plain": [
       "<Figure size 640x480 with 1 Axes>"
      ]
     },
     "metadata": {},
     "output_type": "display_data"
    }
   ],
   "source": [
    "ret.cumsum().plot()"
   ]
  },
  {
   "cell_type": "code",
   "execution_count": 38,
   "id": "03e03684-2857-44ca-a6b7-55c351010ed2",
   "metadata": {
    "tags": []
   },
   "outputs": [
    {
     "data": {
      "text/plain": [
       "1.397659832153643"
      ]
     },
     "execution_count": 38,
     "metadata": {},
     "output_type": "execute_result"
    }
   ],
   "source": [
    "sharp_ratio = math.sqrt(252)*ret.mean()/ret.std()\n",
    "sharp_ratio"
   ]
  },
  {
   "cell_type": "code",
   "execution_count": 39,
   "id": "09b8a9d6-dd0c-4492-9121-ceb0f4010047",
   "metadata": {
    "tags": []
   },
   "outputs": [
    {
     "data": {
      "text/html": [
       "<div>\n",
       "<style scoped>\n",
       "    .dataframe tbody tr th:only-of-type {\n",
       "        vertical-align: middle;\n",
       "    }\n",
       "\n",
       "    .dataframe tbody tr th {\n",
       "        vertical-align: top;\n",
       "    }\n",
       "\n",
       "    .dataframe thead th {\n",
       "        text-align: right;\n",
       "    }\n",
       "</style>\n",
       "<table border=\"1\" class=\"dataframe\">\n",
       "  <thead>\n",
       "    <tr style=\"text-align: right;\">\n",
       "      <th></th>\n",
       "      <th>ret</th>\n",
       "      <th>lagged_ret</th>\n",
       "      <th>high_watermark_index</th>\n",
       "      <th>high_watermark_ret</th>\n",
       "      <th>drawdown_deep</th>\n",
       "      <th>drawdown_duration</th>\n",
       "    </tr>\n",
       "    <tr>\n",
       "      <th>datetime</th>\n",
       "      <th></th>\n",
       "      <th></th>\n",
       "      <th></th>\n",
       "      <th></th>\n",
       "      <th></th>\n",
       "      <th></th>\n",
       "    </tr>\n",
       "  </thead>\n",
       "  <tbody>\n",
       "    <tr>\n",
       "      <th>2019-05-01</th>\n",
       "      <td>0.021137</td>\n",
       "      <td>0.000000</td>\n",
       "      <td>2019-05-01</td>\n",
       "      <td>0.021137</td>\n",
       "      <td>0.000000</td>\n",
       "      <td>0 days</td>\n",
       "    </tr>\n",
       "    <tr>\n",
       "      <th>2019-05-02</th>\n",
       "      <td>0.042409</td>\n",
       "      <td>0.021137</td>\n",
       "      <td>2019-05-02</td>\n",
       "      <td>0.042409</td>\n",
       "      <td>0.000000</td>\n",
       "      <td>0 days</td>\n",
       "    </tr>\n",
       "    <tr>\n",
       "      <th>2019-05-03</th>\n",
       "      <td>0.023348</td>\n",
       "      <td>0.042409</td>\n",
       "      <td>2019-05-02</td>\n",
       "      <td>0.042409</td>\n",
       "      <td>0.019060</td>\n",
       "      <td>1 days</td>\n",
       "    </tr>\n",
       "    <tr>\n",
       "      <th>2019-05-06</th>\n",
       "      <td>0.029103</td>\n",
       "      <td>0.023348</td>\n",
       "      <td>2019-05-02</td>\n",
       "      <td>0.042409</td>\n",
       "      <td>0.013306</td>\n",
       "      <td>4 days</td>\n",
       "    </tr>\n",
       "    <tr>\n",
       "      <th>2019-05-07</th>\n",
       "      <td>0.057539</td>\n",
       "      <td>0.029103</td>\n",
       "      <td>2019-05-07</td>\n",
       "      <td>0.057539</td>\n",
       "      <td>0.000000</td>\n",
       "      <td>0 days</td>\n",
       "    </tr>\n",
       "    <tr>\n",
       "      <th>...</th>\n",
       "      <td>...</td>\n",
       "      <td>...</td>\n",
       "      <td>...</td>\n",
       "      <td>...</td>\n",
       "      <td>...</td>\n",
       "      <td>...</td>\n",
       "    </tr>\n",
       "    <tr>\n",
       "      <th>2020-12-11</th>\n",
       "      <td>8.852654</td>\n",
       "      <td>8.841931</td>\n",
       "      <td>2020-10-09</td>\n",
       "      <td>8.921680</td>\n",
       "      <td>0.069026</td>\n",
       "      <td>63 days</td>\n",
       "    </tr>\n",
       "    <tr>\n",
       "      <th>2020-12-14</th>\n",
       "      <td>9.044312</td>\n",
       "      <td>8.852654</td>\n",
       "      <td>2020-12-14</td>\n",
       "      <td>9.044312</td>\n",
       "      <td>0.000000</td>\n",
       "      <td>0 days</td>\n",
       "    </tr>\n",
       "    <tr>\n",
       "      <th>2020-12-15</th>\n",
       "      <td>9.047414</td>\n",
       "      <td>9.044312</td>\n",
       "      <td>2020-12-15</td>\n",
       "      <td>9.047414</td>\n",
       "      <td>0.000000</td>\n",
       "      <td>0 days</td>\n",
       "    </tr>\n",
       "    <tr>\n",
       "      <th>2020-12-16</th>\n",
       "      <td>9.059788</td>\n",
       "      <td>9.047414</td>\n",
       "      <td>2020-12-16</td>\n",
       "      <td>9.059788</td>\n",
       "      <td>0.000000</td>\n",
       "      <td>0 days</td>\n",
       "    </tr>\n",
       "    <tr>\n",
       "      <th>2020-12-17</th>\n",
       "      <td>9.130513</td>\n",
       "      <td>9.059788</td>\n",
       "      <td>2020-12-17</td>\n",
       "      <td>9.130513</td>\n",
       "      <td>0.000000</td>\n",
       "      <td>0 days</td>\n",
       "    </tr>\n",
       "  </tbody>\n",
       "</table>\n",
       "<p>414 rows × 6 columns</p>\n",
       "</div>"
      ],
      "text/plain": [
       "                 ret  lagged_ret high_watermark_index  high_watermark_ret  \\\n",
       "datetime                                                                    \n",
       "2019-05-01  0.021137    0.000000           2019-05-01            0.021137   \n",
       "2019-05-02  0.042409    0.021137           2019-05-02            0.042409   \n",
       "2019-05-03  0.023348    0.042409           2019-05-02            0.042409   \n",
       "2019-05-06  0.029103    0.023348           2019-05-02            0.042409   \n",
       "2019-05-07  0.057539    0.029103           2019-05-07            0.057539   \n",
       "...              ...         ...                  ...                 ...   \n",
       "2020-12-11  8.852654    8.841931           2020-10-09            8.921680   \n",
       "2020-12-14  9.044312    8.852654           2020-12-14            9.044312   \n",
       "2020-12-15  9.047414    9.044312           2020-12-15            9.047414   \n",
       "2020-12-16  9.059788    9.047414           2020-12-16            9.059788   \n",
       "2020-12-17  9.130513    9.059788           2020-12-17            9.130513   \n",
       "\n",
       "            drawdown_deep drawdown_duration  \n",
       "datetime                                     \n",
       "2019-05-01       0.000000            0 days  \n",
       "2019-05-02       0.000000            0 days  \n",
       "2019-05-03       0.019060            1 days  \n",
       "2019-05-06       0.013306            4 days  \n",
       "2019-05-07       0.000000            0 days  \n",
       "...                   ...               ...  \n",
       "2020-12-11       0.069026           63 days  \n",
       "2020-12-14       0.000000            0 days  \n",
       "2020-12-15       0.000000            0 days  \n",
       "2020-12-16       0.000000            0 days  \n",
       "2020-12-17       0.000000            0 days  \n",
       "\n",
       "[414 rows x 6 columns]"
      ]
     },
     "execution_count": 39,
     "metadata": {},
     "output_type": "execute_result"
    }
   ],
   "source": [
    "term = pd.DataFrame({\n",
    "    \"ret\": ret.cumsum().dropna(),\n",
    "    'lagged_ret': ret.cumsum().dropna().shift(1),\n",
    "    'high_watermark_index': ret.cumsum().dropna().index\n",
    "})\n",
    "term['lagged_ret'] = term['lagged_ret'].fillna(0)\n",
    "\n",
    "highest_watermark_index = term.iloc[0]['high_watermark_index']\n",
    "for d in term.index:\n",
    "    row = term.loc[d]\n",
    "    if row['ret'] >= term.loc[highest_watermark_index]['ret']:\n",
    "        highest_watermark_index = d\n",
    "    term.loc[d, 'high_watermark_index']= highest_watermark_index\n",
    "\n",
    "term['high_watermark_ret'] = term.apply(lambda x: term.loc[x['high_watermark_index']]['ret'], axis=1)\n",
    "term['drawdown_deep'] = term['high_watermark_ret'] - term['ret']\n",
    "term['drawdown_duration'] = term.index - term['high_watermark_index']\n",
    "term"
   ]
  },
  {
   "cell_type": "code",
   "execution_count": 40,
   "id": "10713d69-b1d0-43df-9a8a-a30e42a43211",
   "metadata": {
    "tags": []
   },
   "outputs": [
    {
     "data": {
      "text/html": [
       "<div>\n",
       "<style scoped>\n",
       "    .dataframe tbody tr th:only-of-type {\n",
       "        vertical-align: middle;\n",
       "    }\n",
       "\n",
       "    .dataframe tbody tr th {\n",
       "        vertical-align: top;\n",
       "    }\n",
       "\n",
       "    .dataframe thead th {\n",
       "        text-align: right;\n",
       "    }\n",
       "</style>\n",
       "<table border=\"1\" class=\"dataframe\">\n",
       "  <thead>\n",
       "    <tr style=\"text-align: right;\">\n",
       "      <th></th>\n",
       "      <th>ret</th>\n",
       "      <th>lagged_ret</th>\n",
       "      <th>high_watermark_index</th>\n",
       "      <th>high_watermark_ret</th>\n",
       "      <th>drawdown_deep</th>\n",
       "      <th>drawdown_duration</th>\n",
       "    </tr>\n",
       "  </thead>\n",
       "  <tbody>\n",
       "    <tr>\n",
       "      <th>count</th>\n",
       "      <td>414.000000</td>\n",
       "      <td>414.000000</td>\n",
       "      <td>414</td>\n",
       "      <td>414.000000</td>\n",
       "      <td>414.000000</td>\n",
       "      <td>414</td>\n",
       "    </tr>\n",
       "    <tr>\n",
       "      <th>mean</th>\n",
       "      <td>3.750928</td>\n",
       "      <td>3.728874</td>\n",
       "      <td>2020-01-19 08:00:00</td>\n",
       "      <td>4.022784</td>\n",
       "      <td>0.271856</td>\n",
       "      <td>35 days 07:07:49.565217391</td>\n",
       "    </tr>\n",
       "    <tr>\n",
       "      <th>min</th>\n",
       "      <td>-0.139637</td>\n",
       "      <td>-0.139637</td>\n",
       "      <td>2019-05-01 00:00:00</td>\n",
       "      <td>0.021137</td>\n",
       "      <td>0.000000</td>\n",
       "      <td>0 days 00:00:00</td>\n",
       "    </tr>\n",
       "    <tr>\n",
       "      <th>25%</th>\n",
       "      <td>3.129612</td>\n",
       "      <td>3.128601</td>\n",
       "      <td>2019-09-24 00:00:00</td>\n",
       "      <td>3.594932</td>\n",
       "      <td>0.031111</td>\n",
       "      <td>3 days 00:00:00</td>\n",
       "    </tr>\n",
       "    <tr>\n",
       "      <th>50%</th>\n",
       "      <td>3.441063</td>\n",
       "      <td>3.436555</td>\n",
       "      <td>2020-02-19 00:00:00</td>\n",
       "      <td>3.603764</td>\n",
       "      <td>0.115466</td>\n",
       "      <td>23 days 12:00:00</td>\n",
       "    </tr>\n",
       "    <tr>\n",
       "      <th>75%</th>\n",
       "      <td>4.423690</td>\n",
       "      <td>4.422843</td>\n",
       "      <td>2020-07-17 00:00:00</td>\n",
       "      <td>4.690256</td>\n",
       "      <td>0.306387</td>\n",
       "      <td>55 days 18:00:00</td>\n",
       "    </tr>\n",
       "    <tr>\n",
       "      <th>max</th>\n",
       "      <td>9.130513</td>\n",
       "      <td>9.059788</td>\n",
       "      <td>2020-12-17 00:00:00</td>\n",
       "      <td>9.130513</td>\n",
       "      <td>2.344241</td>\n",
       "      <td>139 days 00:00:00</td>\n",
       "    </tr>\n",
       "    <tr>\n",
       "      <th>std</th>\n",
       "      <td>2.126549</td>\n",
       "      <td>2.117951</td>\n",
       "      <td>NaN</td>\n",
       "      <td>2.329297</td>\n",
       "      <td>0.425990</td>\n",
       "      <td>36 days 22:13:11.621553344</td>\n",
       "    </tr>\n",
       "  </tbody>\n",
       "</table>\n",
       "</div>"
      ],
      "text/plain": [
       "              ret  lagged_ret high_watermark_index  high_watermark_ret  \\\n",
       "count  414.000000  414.000000                  414          414.000000   \n",
       "mean     3.750928    3.728874  2020-01-19 08:00:00            4.022784   \n",
       "min     -0.139637   -0.139637  2019-05-01 00:00:00            0.021137   \n",
       "25%      3.129612    3.128601  2019-09-24 00:00:00            3.594932   \n",
       "50%      3.441063    3.436555  2020-02-19 00:00:00            3.603764   \n",
       "75%      4.423690    4.422843  2020-07-17 00:00:00            4.690256   \n",
       "max      9.130513    9.059788  2020-12-17 00:00:00            9.130513   \n",
       "std      2.126549    2.117951                  NaN            2.329297   \n",
       "\n",
       "       drawdown_deep           drawdown_duration  \n",
       "count     414.000000                         414  \n",
       "mean        0.271856  35 days 07:07:49.565217391  \n",
       "min         0.000000             0 days 00:00:00  \n",
       "25%         0.031111             3 days 00:00:00  \n",
       "50%         0.115466            23 days 12:00:00  \n",
       "75%         0.306387            55 days 18:00:00  \n",
       "max         2.344241           139 days 00:00:00  \n",
       "std         0.425990  36 days 22:13:11.621553344  "
      ]
     },
     "execution_count": 40,
     "metadata": {},
     "output_type": "execute_result"
    }
   ],
   "source": [
    "term.describe()"
   ]
  },
  {
   "cell_type": "code",
   "execution_count": 41,
   "id": "9d43244a-c2e7-4c47-bb56-d4f04a390362",
   "metadata": {
    "tags": []
   },
   "outputs": [
    {
     "name": "stdout",
     "output_type": "stream",
     "text": [
      "2020-10-12 00:00:00\n"
     ]
    },
    {
     "data": {
      "text/plain": [
       "ret                                6.577439\n",
       "lagged_ret                          8.92168\n",
       "high_watermark_index    2020-10-09 00:00:00\n",
       "high_watermark_ret                  8.92168\n",
       "drawdown_deep                      2.344241\n",
       "drawdown_duration           3 days 00:00:00\n",
       "Name: 2020-10-12 00:00:00, dtype: object"
      ]
     },
     "execution_count": 41,
     "metadata": {},
     "output_type": "execute_result"
    }
   ],
   "source": [
    "print(term['drawdown_deep'].idxmax())\n",
    "term.loc[term['drawdown_deep'].idxmax()]"
   ]
  },
  {
   "cell_type": "code",
   "execution_count": 42,
   "id": "98097ba4-8378-41a9-a87b-87427f54a288",
   "metadata": {
    "tags": []
   },
   "outputs": [
    {
     "name": "stdout",
     "output_type": "stream",
     "text": [
      "2020-02-10 00:00:00\n"
     ]
    },
    {
     "data": {
      "text/plain": [
       "ret                                3.580632\n",
       "lagged_ret                         3.576847\n",
       "high_watermark_index    2019-09-24 00:00:00\n",
       "high_watermark_ret                 3.594932\n",
       "drawdown_deep                      0.014301\n",
       "drawdown_duration         139 days 00:00:00\n",
       "Name: 2020-02-10 00:00:00, dtype: object"
      ]
     },
     "execution_count": 42,
     "metadata": {},
     "output_type": "execute_result"
    }
   ],
   "source": [
    "print(term['drawdown_duration'].idxmax())\n",
    "term.loc[term['drawdown_duration'].idxmax()]"
   ]
  },
  {
   "cell_type": "markdown",
   "id": "ed167963-fa29-46dc-a3dc-ad52ab852239",
   "metadata": {},
   "source": [
    "# Bollinger Band"
   ]
  },
  {
   "cell_type": "code",
   "execution_count": 43,
   "id": "3df898d4-dbde-4a4f-9549-8b4ac206fa62",
   "metadata": {
    "tags": []
   },
   "outputs": [],
   "source": [
    "entry_zscore = 1.5\n",
    "exit_zscore = 0"
   ]
  },
  {
   "cell_type": "code",
   "execution_count": 44,
   "id": "cf11ed69-b895-44fa-97d0-9e60732fc1fc",
   "metadata": {
    "tags": []
   },
   "outputs": [
    {
     "data": {
      "text/plain": [
       "count    415.000000\n",
       "mean      -0.006288\n",
       "std        1.402274\n",
       "min       -4.384312\n",
       "25%       -0.874290\n",
       "50%       -0.257143\n",
       "75%        1.066555\n",
       "max        6.634888\n",
       "dtype: float64"
      ]
     },
     "execution_count": 44,
     "metadata": {},
     "output_type": "execute_result"
    }
   ],
   "source": [
    "zscore_spread = (spread - spread.rolling(lookback).mean()) / spread.rolling(lookback).std()\n",
    "zscore_spread.describe()"
   ]
  },
  {
   "cell_type": "code",
   "execution_count": 45,
   "id": "d872ec35-c1a0-4575-88aa-2d82ca73d5e4",
   "metadata": {
    "tags": []
   },
   "outputs": [
    {
     "data": {
      "text/plain": [
       "<Axes: xlabel='datetime'>"
      ]
     },
     "execution_count": 45,
     "metadata": {},
     "output_type": "execute_result"
    },
    {
     "data": {
      "image/png": "[encoded data removed]",
      "text/plain": [
       "<Figure size 640x480 with 1 Axes>"
      ]
     },
     "metadata": {},
     "output_type": "display_data"
    }
   ],
   "source": [
    "zscore_spread.plot()"
   ]
  },
  {
   "cell_type": "code",
   "execution_count": 46,
   "id": "72fdddc5-cf38-493e-96cd-ba2d80f30cea",
   "metadata": {
    "tags": []
   },
   "outputs": [],
   "source": [
    "long_entry = zscore_spread < -entry_zscore\n",
    "long_exit = zscore_spread >= exit_zscore\n",
    "short_entry = zscore_spread > entry_zscore\n",
    "short_exit = zscore_spread <= exit_zscore"
   ]
  },
  {
   "cell_type": "code",
   "execution_count": 47,
   "id": "8e3c0db5-4b8e-4f8f-a2a5-17b62c9ae991",
   "metadata": {
    "tags": []
   },
   "outputs": [],
   "source": [
    "num_unit_longs = pd.Series(np.NaN, index=zscore_spread.index)\n",
    "num_unit_shorts = pd.Series(np.NaN, index=zscore_spread.index)"
   ]
  },
  {
   "cell_type": "code",
   "execution_count": 48,
   "id": "52a07a4a-7723-453c-ad90-1a25834c2fcb",
   "metadata": {
    "tags": []
   },
   "outputs": [
    {
     "data": {
      "text/plain": [
       "<Axes: xlabel='datetime'>"
      ]
     },
     "execution_count": 48,
     "metadata": {},
     "output_type": "execute_result"
    },
    {
     "data": {
      "image/png": "[encoded data removed]",
      "text/plain": [
       "<Figure size 640x480 with 1 Axes>"
      ]
     },
     "metadata": {},
     "output_type": "display_data"
    }
   ],
   "source": [
    "num_unit_longs.iloc[0] = 0\n",
    "num_unit_longs[long_entry] = 1\n",
    "num_unit_longs[long_exit] = 0\n",
    "num_unit_longs = num_unit_longs.fillna(method='ffill')\n",
    "num_unit_longs.plot()"
   ]
  },
  {
   "cell_type": "code",
   "execution_count": 49,
   "id": "65f2064d-e253-4ff3-80f1-e53299ef2f8c",
   "metadata": {
    "tags": []
   },
   "outputs": [
    {
     "data": {
      "text/plain": [
       "<Axes: xlabel='datetime'>"
      ]
     },
     "execution_count": 49,
     "metadata": {},
     "output_type": "execute_result"
    },
    {
     "data": {
      "image/png": "[encoded data removed]",
      "text/plain": [
       "<Figure size 640x480 with 1 Axes>"
      ]
     },
     "metadata": {},
     "output_type": "display_data"
    }
   ],
   "source": [
    "num_unit_shorts.iloc[0] = 0\n",
    "num_unit_shorts[short_entry] = -1\n",
    "num_unit_shorts[short_exit] = 0\n",
    "num_unit_shorts = num_unit_shorts.fillna(method='ffill')\n",
    "num_unit_shorts.plot()"
   ]
  },
  {
   "cell_type": "code",
   "execution_count": 50,
   "id": "733ed286-7a10-4f3a-a3bf-c4edfb0044ac",
   "metadata": {
    "tags": []
   },
   "outputs": [
    {
     "data": {
      "text/plain": [
       "<Axes: xlabel='datetime'>"
      ]
     },
     "execution_count": 50,
     "metadata": {},
     "output_type": "execute_result"
    },
    {
     "data": {
      "image/png": "[encoded data removed]",
      "text/plain": [
       "<Figure size 640x480 with 1 Axes>"
      ]
     },
     "metadata": {},
     "output_type": "display_data"
    }
   ],
   "source": [
    "num_unit = num_unit_longs + num_unit_shorts\n",
    "num_unit.plot()"
   ]
  },
  {
   "cell_type": "code",
   "execution_count": 51,
   "id": "fc5b3176-08eb-4c08-b57b-b81d30a772c3",
   "metadata": {
    "tags": []
   },
   "outputs": [
    {
     "data": {
      "text/html": [
       "<div>\n",
       "<style scoped>\n",
       "    .dataframe tbody tr th:only-of-type {\n",
       "        vertical-align: middle;\n",
       "    }\n",
       "\n",
       "    .dataframe tbody tr th {\n",
       "        vertical-align: top;\n",
       "    }\n",
       "\n",
       "    .dataframe thead th {\n",
       "        text-align: right;\n",
       "    }\n",
       "</style>\n",
       "<table border=\"1\" class=\"dataframe\">\n",
       "  <thead>\n",
       "    <tr style=\"text-align: right;\">\n",
       "      <th></th>\n",
       "      <th>IYE</th>\n",
       "      <th>VDE</th>\n",
       "    </tr>\n",
       "    <tr>\n",
       "      <th>datetime</th>\n",
       "      <th></th>\n",
       "      <th></th>\n",
       "    </tr>\n",
       "  </thead>\n",
       "  <tbody>\n",
       "    <tr>\n",
       "      <th>2019-02-25</th>\n",
       "      <td>NaN</td>\n",
       "      <td>NaN</td>\n",
       "    </tr>\n",
       "    <tr>\n",
       "      <th>2019-02-26</th>\n",
       "      <td>NaN</td>\n",
       "      <td>NaN</td>\n",
       "    </tr>\n",
       "    <tr>\n",
       "      <th>2019-02-27</th>\n",
       "      <td>NaN</td>\n",
       "      <td>NaN</td>\n",
       "    </tr>\n",
       "    <tr>\n",
       "      <th>2019-02-28</th>\n",
       "      <td>NaN</td>\n",
       "      <td>NaN</td>\n",
       "    </tr>\n",
       "    <tr>\n",
       "      <th>2019-03-01</th>\n",
       "      <td>NaN</td>\n",
       "      <td>NaN</td>\n",
       "    </tr>\n",
       "    <tr>\n",
       "      <th>...</th>\n",
       "      <td>...</td>\n",
       "      <td>...</td>\n",
       "    </tr>\n",
       "    <tr>\n",
       "      <th>2020-12-11</th>\n",
       "      <td>-220.956145</td>\n",
       "      <td>206.750915</td>\n",
       "    </tr>\n",
       "    <tr>\n",
       "      <th>2020-12-14</th>\n",
       "      <td>0.000000</td>\n",
       "      <td>-0.000000</td>\n",
       "    </tr>\n",
       "    <tr>\n",
       "      <th>2020-12-15</th>\n",
       "      <td>0.000000</td>\n",
       "      <td>-0.000000</td>\n",
       "    </tr>\n",
       "    <tr>\n",
       "      <th>2020-12-16</th>\n",
       "      <td>0.000000</td>\n",
       "      <td>-0.000000</td>\n",
       "    </tr>\n",
       "    <tr>\n",
       "      <th>2020-12-17</th>\n",
       "      <td>0.000000</td>\n",
       "      <td>-0.000000</td>\n",
       "    </tr>\n",
       "  </tbody>\n",
       "</table>\n",
       "<p>460 rows × 2 columns</p>\n",
       "</div>"
      ],
      "text/plain": [
       "                   IYE         VDE\n",
       "datetime                          \n",
       "2019-02-25         NaN         NaN\n",
       "2019-02-26         NaN         NaN\n",
       "2019-02-27         NaN         NaN\n",
       "2019-02-28         NaN         NaN\n",
       "2019-03-01         NaN         NaN\n",
       "...                ...         ...\n",
       "2020-12-11 -220.956145  206.750915\n",
       "2020-12-14    0.000000   -0.000000\n",
       "2020-12-15    0.000000   -0.000000\n",
       "2020-12-16    0.000000   -0.000000\n",
       "2020-12-17    0.000000   -0.000000\n",
       "\n",
       "[460 rows x 2 columns]"
      ]
     },
     "execution_count": 51,
     "metadata": {},
     "output_type": "execute_result"
    }
   ],
   "source": [
    "positions = hedge_ratio.mul(num_unit, axis=0) * price\n",
    "positions"
   ]
  },
  {
   "cell_type": "code",
   "execution_count": 52,
   "id": "42307026-7975-40c3-8de7-a6cd978f6f5c",
   "metadata": {
    "tags": []
   },
   "outputs": [
    {
     "data": {
      "text/plain": [
       "<Axes: xlabel='datetime'>"
      ]
     },
     "execution_count": 52,
     "metadata": {},
     "output_type": "execute_result"
    },
    {
     "data": {
      "image/png": "[encoded data removed]",
      "text/plain": [
       "<Figure size 640x480 with 1 Axes>"
      ]
     },
     "metadata": {},
     "output_type": "display_data"
    }
   ],
   "source": [
    "positions.plot()"
   ]
  },
  {
   "cell_type": "code",
   "execution_count": 53,
   "id": "26f267ee-adb4-40a9-bdcf-2968aae9b6b2",
   "metadata": {
    "tags": []
   },
   "outputs": [
    {
     "data": {
      "text/plain": [
       "count    460.000000\n",
       "mean       0.069440\n",
       "std        1.245870\n",
       "min       -8.382238\n",
       "25%        0.000000\n",
       "50%        0.000000\n",
       "75%        0.114274\n",
       "max       11.287958\n",
       "dtype: float64"
      ]
     },
     "execution_count": 53,
     "metadata": {},
     "output_type": "execute_result"
    }
   ],
   "source": [
    "pnl = positions.shift(1) * (price - price.shift(1))/price.shift(1)\n",
    "pnl = pnl.sum(axis=1)\n",
    "pnl.describe()"
   ]
  },
  {
   "cell_type": "code",
   "execution_count": 54,
   "id": "8b893e6e-e44d-472e-b8a5-c047e2ac2094",
   "metadata": {
    "tags": []
   },
   "outputs": [
    {
     "data": {
      "text/plain": [
       "<Axes: xlabel='datetime'>"
      ]
     },
     "execution_count": 54,
     "metadata": {},
     "output_type": "execute_result"
    },
    {
     "data": {
      "image/png": "[encoded data removed]",
      "text/plain": [
       "<Figure size 640x480 with 1 Axes>"
      ]
     },
     "metadata": {},
     "output_type": "display_data"
    }
   ],
   "source": [
    "pnl.plot()"
   ]
  },
  {
   "cell_type": "code",
   "execution_count": 55,
   "id": "f88155c8-761a-45ef-b15c-3bf23d3e3d69",
   "metadata": {
    "tags": []
   },
   "outputs": [
    {
     "data": {
      "text/plain": [
       "datetime\n",
       "2019-02-25         NaN\n",
       "2019-02-26         NaN\n",
       "2019-02-27         NaN\n",
       "2019-02-28         NaN\n",
       "2019-03-01         NaN\n",
       "                ...   \n",
       "2020-12-11    0.010723\n",
       "2020-12-14    0.191658\n",
       "2020-12-15         NaN\n",
       "2020-12-16         NaN\n",
       "2020-12-17         NaN\n",
       "Length: 460, dtype: float64"
      ]
     },
     "execution_count": 55,
     "metadata": {},
     "output_type": "execute_result"
    }
   ],
   "source": [
    "ret = pnl / positions.shift(1).sum(axis=1).abs()\n",
    "ret"
   ]
  },
  {
   "cell_type": "code",
   "execution_count": 56,
   "metadata": {},
   "outputs": [
    {
     "data": {
      "text/plain": [
       "count    236.000000\n",
       "mean       0.025978\n",
       "std        0.178778\n",
       "min       -0.460998\n",
       "25%       -0.016786\n",
       "50%        0.002210\n",
       "75%        0.027967\n",
       "max        1.928874\n",
       "dtype: float64"
      ]
     },
     "execution_count": 56,
     "metadata": {},
     "output_type": "execute_result"
    }
   ],
   "source": [
    "ret.describe()"
   ]
  },
  {
   "cell_type": "code",
   "execution_count": 57,
   "id": "759c8de3-f9d4-4ef4-bce5-a0d6fe298fb5",
   "metadata": {
    "tags": []
   },
   "outputs": [
    {
     "data": {
      "text/plain": [
       "<Axes: xlabel='datetime'>"
      ]
     },
     "execution_count": 57,
     "metadata": {},
     "output_type": "execute_result"
    },
    {
     "data": {
      "image/png": "[encoded data removed]",
      "text/plain": [
       "<Figure size 640x480 with 1 Axes>"
      ]
     },
     "metadata": {},
     "output_type": "display_data"
    }
   ],
   "source": [
    "ret.dropna().plot()"
   ]
  },
  {
   "cell_type": "code",
   "execution_count": 58,
   "id": "03f04483-b388-4397-9627-c4e3e340befc",
   "metadata": {
    "tags": []
   },
   "outputs": [
    {
     "data": {
      "text/plain": [
       "<Axes: xlabel='datetime'>"
      ]
     },
     "execution_count": 58,
     "metadata": {},
     "output_type": "execute_result"
    },
    {
     "data": {
      "image/png": "[encoded data removed]",
      "text/plain": [
       "<Figure size 640x480 with 1 Axes>"
      ]
     },
     "metadata": {},
     "output_type": "display_data"
    }
   ],
   "source": [
    "ret.cumsum().dropna().plot()"
   ]
  },
  {
   "cell_type": "code",
   "execution_count": 59,
   "id": "5d4dc28a-7477-4e6e-859c-50cf5b34a238",
   "metadata": {
    "tags": []
   },
   "outputs": [
    {
     "data": {
      "text/plain": [
       "2.3066763382776334"
      ]
     },
     "execution_count": 59,
     "metadata": {},
     "output_type": "execute_result"
    }
   ],
   "source": [
    "sharp_ratio = math.sqrt(252)*ret.mean()/ret.std()\n",
    "sharp_ratio"
   ]
  },
  {
   "cell_type": "code",
   "execution_count": 60,
   "id": "aaa95191-890e-43e0-86b2-54032b897498",
   "metadata": {
    "tags": []
   },
   "outputs": [
    {
     "data": {
      "text/html": [
       "<div>\n",
       "<style scoped>\n",
       "    .dataframe tbody tr th:only-of-type {\n",
       "        vertical-align: middle;\n",
       "    }\n",
       "\n",
       "    .dataframe tbody tr th {\n",
       "        vertical-align: top;\n",
       "    }\n",
       "\n",
       "    .dataframe thead th {\n",
       "        text-align: right;\n",
       "    }\n",
       "</style>\n",
       "<table border=\"1\" class=\"dataframe\">\n",
       "  <thead>\n",
       "    <tr style=\"text-align: right;\">\n",
       "      <th></th>\n",
       "      <th>ret</th>\n",
       "      <th>lagged_ret</th>\n",
       "      <th>high_watermark_index</th>\n",
       "      <th>high_watermark_ret</th>\n",
       "      <th>drawdown_deep</th>\n",
       "      <th>drawdown_duration</th>\n",
       "    </tr>\n",
       "    <tr>\n",
       "      <th>datetime</th>\n",
       "      <th></th>\n",
       "      <th></th>\n",
       "      <th></th>\n",
       "      <th></th>\n",
       "      <th></th>\n",
       "      <th></th>\n",
       "    </tr>\n",
       "  </thead>\n",
       "  <tbody>\n",
       "    <tr>\n",
       "      <th>2019-05-01</th>\n",
       "      <td>0.021137</td>\n",
       "      <td>0.000000</td>\n",
       "      <td>2019-05-01</td>\n",
       "      <td>0.021137</td>\n",
       "      <td>0.000000</td>\n",
       "      <td>0 days</td>\n",
       "    </tr>\n",
       "    <tr>\n",
       "      <th>2019-05-02</th>\n",
       "      <td>0.042409</td>\n",
       "      <td>0.021137</td>\n",
       "      <td>2019-05-02</td>\n",
       "      <td>0.042409</td>\n",
       "      <td>0.000000</td>\n",
       "      <td>0 days</td>\n",
       "    </tr>\n",
       "    <tr>\n",
       "      <th>2019-05-03</th>\n",
       "      <td>0.023348</td>\n",
       "      <td>0.042409</td>\n",
       "      <td>2019-05-02</td>\n",
       "      <td>0.042409</td>\n",
       "      <td>0.019060</td>\n",
       "      <td>1 days</td>\n",
       "    </tr>\n",
       "    <tr>\n",
       "      <th>2019-05-06</th>\n",
       "      <td>0.029103</td>\n",
       "      <td>0.023348</td>\n",
       "      <td>2019-05-02</td>\n",
       "      <td>0.042409</td>\n",
       "      <td>0.013306</td>\n",
       "      <td>4 days</td>\n",
       "    </tr>\n",
       "    <tr>\n",
       "      <th>2019-05-07</th>\n",
       "      <td>0.057539</td>\n",
       "      <td>0.029103</td>\n",
       "      <td>2019-05-07</td>\n",
       "      <td>0.057539</td>\n",
       "      <td>0.000000</td>\n",
       "      <td>0 days</td>\n",
       "    </tr>\n",
       "    <tr>\n",
       "      <th>...</th>\n",
       "      <td>...</td>\n",
       "      <td>...</td>\n",
       "      <td>...</td>\n",
       "      <td>...</td>\n",
       "      <td>...</td>\n",
       "      <td>...</td>\n",
       "    </tr>\n",
       "    <tr>\n",
       "      <th>2020-12-08</th>\n",
       "      <td>5.867982</td>\n",
       "      <td>5.848582</td>\n",
       "      <td>2020-12-08</td>\n",
       "      <td>5.867982</td>\n",
       "      <td>0.000000</td>\n",
       "      <td>0 days</td>\n",
       "    </tr>\n",
       "    <tr>\n",
       "      <th>2020-12-09</th>\n",
       "      <td>5.860916</td>\n",
       "      <td>5.867982</td>\n",
       "      <td>2020-12-08</td>\n",
       "      <td>5.867982</td>\n",
       "      <td>0.007067</td>\n",
       "      <td>1 days</td>\n",
       "    </tr>\n",
       "    <tr>\n",
       "      <th>2020-12-10</th>\n",
       "      <td>5.928346</td>\n",
       "      <td>5.860916</td>\n",
       "      <td>2020-12-10</td>\n",
       "      <td>5.928346</td>\n",
       "      <td>0.000000</td>\n",
       "      <td>0 days</td>\n",
       "    </tr>\n",
       "    <tr>\n",
       "      <th>2020-12-11</th>\n",
       "      <td>5.939070</td>\n",
       "      <td>5.928346</td>\n",
       "      <td>2020-12-11</td>\n",
       "      <td>5.939070</td>\n",
       "      <td>0.000000</td>\n",
       "      <td>0 days</td>\n",
       "    </tr>\n",
       "    <tr>\n",
       "      <th>2020-12-14</th>\n",
       "      <td>6.130727</td>\n",
       "      <td>5.939070</td>\n",
       "      <td>2020-12-14</td>\n",
       "      <td>6.130727</td>\n",
       "      <td>0.000000</td>\n",
       "      <td>0 days</td>\n",
       "    </tr>\n",
       "  </tbody>\n",
       "</table>\n",
       "<p>236 rows × 6 columns</p>\n",
       "</div>"
      ],
      "text/plain": [
       "                 ret  lagged_ret high_watermark_index  high_watermark_ret  \\\n",
       "datetime                                                                    \n",
       "2019-05-01  0.021137    0.000000           2019-05-01            0.021137   \n",
       "2019-05-02  0.042409    0.021137           2019-05-02            0.042409   \n",
       "2019-05-03  0.023348    0.042409           2019-05-02            0.042409   \n",
       "2019-05-06  0.029103    0.023348           2019-05-02            0.042409   \n",
       "2019-05-07  0.057539    0.029103           2019-05-07            0.057539   \n",
       "...              ...         ...                  ...                 ...   \n",
       "2020-12-08  5.867982    5.848582           2020-12-08            5.867982   \n",
       "2020-12-09  5.860916    5.867982           2020-12-08            5.867982   \n",
       "2020-12-10  5.928346    5.860916           2020-12-10            5.928346   \n",
       "2020-12-11  5.939070    5.928346           2020-12-11            5.939070   \n",
       "2020-12-14  6.130727    5.939070           2020-12-14            6.130727   \n",
       "\n",
       "            drawdown_deep drawdown_duration  \n",
       "datetime                                     \n",
       "2019-05-01       0.000000            0 days  \n",
       "2019-05-02       0.000000            0 days  \n",
       "2019-05-03       0.019060            1 days  \n",
       "2019-05-06       0.013306            4 days  \n",
       "2019-05-07       0.000000            0 days  \n",
       "...                   ...               ...  \n",
       "2020-12-08       0.000000            0 days  \n",
       "2020-12-09       0.007067            1 days  \n",
       "2020-12-10       0.000000            0 days  \n",
       "2020-12-11       0.000000            0 days  \n",
       "2020-12-14       0.000000            0 days  \n",
       "\n",
       "[236 rows x 6 columns]"
      ]
     },
     "execution_count": 60,
     "metadata": {},
     "output_type": "execute_result"
    }
   ],
   "source": [
    "term = pd.DataFrame({\n",
    "    \"ret\": ret.cumsum().dropna(),\n",
    "    'lagged_ret': ret.cumsum().dropna().shift(1),\n",
    "    'high_watermark_index': ret.cumsum().dropna().index\n",
    "})\n",
    "term['lagged_ret'] = term['lagged_ret'].fillna(0)\n",
    "\n",
    "highest_watermark_index = term.iloc[0]['high_watermark_index']\n",
    "for d in term.index:\n",
    "    row = term.loc[d]\n",
    "    if row['ret'] >= term.loc[highest_watermark_index]['ret']:\n",
    "        highest_watermark_index = d\n",
    "    term.loc[d, 'high_watermark_index']= highest_watermark_index\n",
    "\n",
    "term['high_watermark_ret'] = term.apply(lambda x: term.loc[x['high_watermark_index']]['ret'], axis=1)\n",
    "term['drawdown_deep'] = term['high_watermark_ret'] - term['ret']\n",
    "term['drawdown_duration'] = term.index - term['high_watermark_index']\n",
    "term"
   ]
  },
  {
   "cell_type": "code",
   "execution_count": 61,
   "id": "0ac8ce4f-422c-4459-8695-48c8d9e91cfc",
   "metadata": {
    "tags": []
   },
   "outputs": [
    {
     "data": {
      "text/html": [
       "<div>\n",
       "<style scoped>\n",
       "    .dataframe tbody tr th:only-of-type {\n",
       "        vertical-align: middle;\n",
       "    }\n",
       "\n",
       "    .dataframe tbody tr th {\n",
       "        vertical-align: top;\n",
       "    }\n",
       "\n",
       "    .dataframe thead th {\n",
       "        text-align: right;\n",
       "    }\n",
       "</style>\n",
       "<table border=\"1\" class=\"dataframe\">\n",
       "  <thead>\n",
       "    <tr style=\"text-align: right;\">\n",
       "      <th></th>\n",
       "      <th>ret</th>\n",
       "      <th>lagged_ret</th>\n",
       "      <th>high_watermark_index</th>\n",
       "      <th>high_watermark_ret</th>\n",
       "      <th>drawdown_deep</th>\n",
       "      <th>drawdown_duration</th>\n",
       "    </tr>\n",
       "  </thead>\n",
       "  <tbody>\n",
       "    <tr>\n",
       "      <th>count</th>\n",
       "      <td>236.000000</td>\n",
       "      <td>236.000000</td>\n",
       "      <td>236</td>\n",
       "      <td>236.000000</td>\n",
       "      <td>236.000000</td>\n",
       "      <td>236</td>\n",
       "    </tr>\n",
       "    <tr>\n",
       "      <th>mean</th>\n",
       "      <td>2.859476</td>\n",
       "      <td>2.833498</td>\n",
       "      <td>2019-12-11 15:51:51.864406784</td>\n",
       "      <td>3.013286</td>\n",
       "      <td>0.153810</td>\n",
       "      <td>42 days 04:46:46.779661017</td>\n",
       "    </tr>\n",
       "    <tr>\n",
       "      <th>min</th>\n",
       "      <td>-0.139637</td>\n",
       "      <td>-0.139637</td>\n",
       "      <td>2019-05-01 00:00:00</td>\n",
       "      <td>0.021137</td>\n",
       "      <td>0.000000</td>\n",
       "      <td>0 days 00:00:00</td>\n",
       "    </tr>\n",
       "    <tr>\n",
       "      <th>25%</th>\n",
       "      <td>2.858186</td>\n",
       "      <td>2.855854</td>\n",
       "      <td>2019-08-07 00:00:00</td>\n",
       "      <td>3.193108</td>\n",
       "      <td>0.024975</td>\n",
       "      <td>4 days 00:00:00</td>\n",
       "    </tr>\n",
       "    <tr>\n",
       "      <th>50%</th>\n",
       "      <td>3.114751</td>\n",
       "      <td>3.109397</td>\n",
       "      <td>2019-09-24 00:00:00</td>\n",
       "      <td>3.306251</td>\n",
       "      <td>0.107693</td>\n",
       "      <td>34 days 00:00:00</td>\n",
       "    </tr>\n",
       "    <tr>\n",
       "      <th>75%</th>\n",
       "      <td>3.226797</td>\n",
       "      <td>3.225640</td>\n",
       "      <td>2020-03-06 00:00:00</td>\n",
       "      <td>3.360696</td>\n",
       "      <td>0.216123</td>\n",
       "      <td>73 days 06:00:00</td>\n",
       "    </tr>\n",
       "    <tr>\n",
       "      <th>max</th>\n",
       "      <td>6.130727</td>\n",
       "      <td>5.939070</td>\n",
       "      <td>2020-12-14 00:00:00</td>\n",
       "      <td>6.130727</td>\n",
       "      <td>0.640964</td>\n",
       "      <td>161 days 00:00:00</td>\n",
       "    </tr>\n",
       "    <tr>\n",
       "      <th>std</th>\n",
       "      <td>1.526316</td>\n",
       "      <td>1.522570</td>\n",
       "      <td>NaN</td>\n",
       "      <td>1.528237</td>\n",
       "      <td>0.154590</td>\n",
       "      <td>39 days 10:18:31.384380026</td>\n",
       "    </tr>\n",
       "  </tbody>\n",
       "</table>\n",
       "</div>"
      ],
      "text/plain": [
       "              ret  lagged_ret           high_watermark_index  \\\n",
       "count  236.000000  236.000000                            236   \n",
       "mean     2.859476    2.833498  2019-12-11 15:51:51.864406784   \n",
       "min     -0.139637   -0.139637            2019-05-01 00:00:00   \n",
       "25%      2.858186    2.855854            2019-08-07 00:00:00   \n",
       "50%      3.114751    3.109397            2019-09-24 00:00:00   \n",
       "75%      3.226797    3.225640            2020-03-06 00:00:00   \n",
       "max      6.130727    5.939070            2020-12-14 00:00:00   \n",
       "std      1.526316    1.522570                            NaN   \n",
       "\n",
       "       high_watermark_ret  drawdown_deep           drawdown_duration  \n",
       "count          236.000000     236.000000                         236  \n",
       "mean             3.013286       0.153810  42 days 04:46:46.779661017  \n",
       "min              0.021137       0.000000             0 days 00:00:00  \n",
       "25%              3.193108       0.024975             4 days 00:00:00  \n",
       "50%              3.306251       0.107693            34 days 00:00:00  \n",
       "75%              3.360696       0.216123            73 days 06:00:00  \n",
       "max              6.130727       0.640964           161 days 00:00:00  \n",
       "std              1.528237       0.154590  39 days 10:18:31.384380026  "
      ]
     },
     "execution_count": 61,
     "metadata": {},
     "output_type": "execute_result"
    }
   ],
   "source": [
    "term.describe()"
   ]
  },
  {
   "cell_type": "code",
   "execution_count": 62,
   "id": "0aea1f37-7665-482e-8eae-2d088d5884bc",
   "metadata": {
    "tags": []
   },
   "outputs": [
    {
     "name": "stdout",
     "output_type": "stream",
     "text": [
      "2020-03-18 00:00:00\n"
     ]
    },
    {
     "data": {
      "text/plain": [
       "ret                                2.719732\n",
       "lagged_ret                         3.037247\n",
       "high_watermark_index    2020-03-06 00:00:00\n",
       "high_watermark_ret                 3.360696\n",
       "drawdown_deep                      0.640964\n",
       "drawdown_duration          12 days 00:00:00\n",
       "Name: 2020-03-18 00:00:00, dtype: object"
      ]
     },
     "execution_count": 62,
     "metadata": {},
     "output_type": "execute_result"
    }
   ],
   "source": [
    "print(term['drawdown_deep'].idxmax())\n",
    "term.loc[term['drawdown_deep'].idxmax()]"
   ]
  },
  {
   "cell_type": "code",
   "execution_count": 63,
   "id": "542b6cab-0845-4ebf-b880-b8c2d95d5a61",
   "metadata": {
    "tags": []
   },
   "outputs": [
    {
     "name": "stdout",
     "output_type": "stream",
     "text": [
      "2020-03-03 00:00:00\n"
     ]
    },
    {
     "data": {
      "text/plain": [
       "ret                                3.296885\n",
       "lagged_ret                         3.297836\n",
       "high_watermark_index    2019-09-24 00:00:00\n",
       "high_watermark_ret                 3.306251\n",
       "drawdown_deep                      0.009366\n",
       "drawdown_duration         161 days 00:00:00\n",
       "Name: 2020-03-03 00:00:00, dtype: object"
      ]
     },
     "execution_count": 63,
     "metadata": {},
     "output_type": "execute_result"
    }
   ],
   "source": [
    "print(term['drawdown_duration'].idxmax())\n",
    "term.loc[term['drawdown_duration'].idxmax()]"
   ]
  }
 ],
 "metadata": {
  "kernelspec": {
   "display_name": "Python 3 (ipykernel)",
   "language": "python",
   "name": "python3"
  },
  "language_info": {
   "codemirror_mode": {
    "name": "ipython",
    "version": 3
   },
   "file_extension": ".py",
   "mimetype": "text/x-python",
   "name": "python",
   "nbconvert_exporter": "python",
   "pygments_lexer": "ipython3",
   "version": "3.10.13"
  }
 },
 "nbformat": 4,
 "nbformat_minor": 5
}
